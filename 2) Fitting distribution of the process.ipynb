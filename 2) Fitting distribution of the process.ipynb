{
 "cells": [
  {
   "cell_type": "code",
   "execution_count": 2,
   "id": "5d528554",
   "metadata": {},
   "outputs": [],
   "source": [
    "import pandas as pd\n",
    "import numpy as np\n",
    "import pm4py\n",
    "from matplotlib import pyplot as plt\n",
    "import seaborn as sns\n",
    "from fitter import Fitter\n",
    "import scipy.stats\n",
    "import warnings\n",
    "warnings.filterwarnings('ignore')\n",
    "%matplotlib inline\n",
    "sns.set()"
   ]
  },
  {
   "cell_type": "code",
   "execution_count": 7,
   "id": "f489cf68-4898-45e1-a960-dce45d766d74",
   "metadata": {},
   "outputs": [],
   "source": [
    "def quantile2(column,pct,pct_lower):\n",
    "    y = column\n",
    "    y.sort()\n",
    "    len_y = len(y)\n",
    "    y = y[int(pct_lower * len_y):int(len_y * pct)]\n",
    "    return y"
   ]
  },
  {
   "cell_type": "markdown",
   "id": "6d59796d",
   "metadata": {},
   "source": [
    "### Importazione dataset"
   ]
  },
  {
   "cell_type": "code",
   "execution_count": 3,
   "id": "f0d0fbad",
   "metadata": {},
   "outputs": [],
   "source": [
    "df_traces = pd.read_csv('C:/Users/HP/Desktop/df_traces_from_weigh.csv')\n",
    "df_traces.drop('Unnamed: 0', axis=1, inplace=True)\n",
    "\n",
    "df_t_est = pd.read_csv('C:/Users/HP/Desktop/df_t_est.csv')\n",
    "df_t_est.drop('Unnamed: 0', axis=1, inplace=True)"
   ]
  },
  {
   "cell_type": "code",
   "execution_count": 4,
   "id": "a0b8d924-237b-40fb-a594-dfc22f48f086",
   "metadata": {},
   "outputs": [
    {
     "data": {
      "text/plain": [
       "1580"
      ]
     },
     "execution_count": 4,
     "metadata": {},
     "output_type": "execute_result"
    }
   ],
   "source": [
    "len(df_traces['ID_unique'].unique())"
   ]
  },
  {
   "cell_type": "markdown",
   "id": "0128fdcd-682b-4c94-bfc8-232f4df1155d",
   "metadata": {},
   "source": [
    "event_log = df_traces[['ID', 'stato', 'ubicazione', 'rif', 'ID_unique', 'timestamp']]\n",
    "event_log.sort_values(['ID', 'timestamp'], inplace=True)\n",
    "event_log.reset_index(inplace=True, drop=True)\n",
    "event_log = pm4py.format_dataframe(event_log, case_id='ID_unique', activity_key='rif', timestamp_key='timestamp')"
   ]
  },
  {
   "cell_type": "code",
   "execution_count": 59,
   "id": "bb0726c1-94aa-4d32-880f-e00e21a1b0fb",
   "metadata": {},
   "outputs": [],
   "source": [
    "event_log = df_traces[['cono', 'rif', 'ID_unique', 'timestamp']]\n",
    "event_log.sort_values(['cono', 'timestamp'], inplace=True)\n",
    "event_log.reset_index(inplace=True, drop=True)\n",
    "event_log = pm4py.format_dataframe(event_log, case_id='ID_unique', activity_key='rif', timestamp_key='timestamp')"
   ]
  },
  {
   "cell_type": "code",
   "execution_count": 60,
   "id": "5ce3417d",
   "metadata": {},
   "outputs": [
    {
     "data": {
      "text/plain": [
       "1580"
      ]
     },
     "execution_count": 60,
     "metadata": {},
     "output_type": "execute_result"
    }
   ],
   "source": [
    "len(event_log['ID_unique'].unique())"
   ]
  },
  {
   "cell_type": "markdown",
   "id": "fed07528-ff30-4307-a5ec-93cde3e2b9b2",
   "metadata": {},
   "source": [
    "### Calcolo tempi di interarrivo"
   ]
  },
  {
   "cell_type": "code",
   "execution_count": 61,
   "id": "35d4c21e-4099-45bb-bf3a-7e1368a51e7e",
   "metadata": {},
   "outputs": [],
   "source": [
    "df_int = event_log[event_log['rif'] == 'V_da_pes/pesatura']"
   ]
  },
  {
   "cell_type": "code",
   "execution_count": 62,
   "id": "5bc3128e-47f9-4950-9768-327d5d5e216a",
   "metadata": {},
   "outputs": [],
   "source": [
    "#df_int.drop_duplicates(subset='ID_unique', inplace=True)"
   ]
  },
  {
   "cell_type": "code",
   "execution_count": 63,
   "id": "55decb29-eb6b-4521-8193-dc880aa93ced",
   "metadata": {},
   "outputs": [],
   "source": [
    "df_int.sort_values('timestamp', inplace=True)\n",
    "df_int.reset_index(drop=True, inplace=True)"
   ]
  },
  {
   "cell_type": "code",
   "execution_count": 66,
   "id": "a18db2ee-8876-4886-a599-e08f8ee0f0fa",
   "metadata": {},
   "outputs": [],
   "source": [
    "intervals = []\n",
    "\n",
    "for i in range(len(df_int) - 1):\n",
    "    time_delta = df_int.loc[i + 1, 'timestamp'] - df_int.loc[i, 'timestamp']\n",
    "    dt = time_delta.total_seconds() / 60\n",
    "    intervals.append(dt)"
   ]
  },
  {
   "cell_type": "code",
   "execution_count": 67,
   "id": "5df76b97-3fc3-4948-b28d-4e82a45941d2",
   "metadata": {},
   "outputs": [
    {
     "data": {
      "text/plain": [
       "2238"
      ]
     },
     "execution_count": 67,
     "metadata": {},
     "output_type": "execute_result"
    }
   ],
   "source": [
    "len(intervals)"
   ]
  },
  {
   "cell_type": "code",
   "execution_count": 68,
   "id": "22a4b964-cadf-42d3-94d0-16d965ee8b14",
   "metadata": {},
   "outputs": [],
   "source": [
    "intervals = quantile2(intervals,0.95,0)"
   ]
  },
  {
   "cell_type": "code",
   "execution_count": 69,
   "id": "47b3e8a4-ed48-41d5-9aae-5e302432de11",
   "metadata": {},
   "outputs": [
    {
     "data": {
      "text/plain": [
       "<seaborn.axisgrid.FacetGrid at 0x27009717460>"
      ]
     },
     "execution_count": 69,
     "metadata": {},
     "output_type": "execute_result"
    },
    {
     "data": {
      "image/png": "[encoded data removed]",
      "text/plain": [
       "<Figure size 540x360 with 1 Axes>"
      ]
     },
     "metadata": {},
     "output_type": "display_data"
    }
   ],
   "source": [
    "sns.set_style('white')\n",
    "sns.set_context(\"paper\", font_scale = 2)\n",
    "sns.displot(data=intervals, kind=\"hist\", bins = 50, aspect = 1.5)"
   ]
  },
  {
   "cell_type": "code",
   "execution_count": 70,
   "id": "08f14874-2797-49ee-9e6b-b20bcd750dfa",
   "metadata": {},
   "outputs": [
    {
     "name": "stderr",
     "output_type": "stream",
     "text": [
      "WARNING:root:SKIPPED kstwo distribution (taking more than 30 seconds)\n",
      "WARNING:root:SKIPPED kappa4 distribution (taking more than 30 seconds)\n",
      "WARNING:root:SKIPPED ksone distribution (taking more than 30 seconds)\n",
      "WARNING:root:SKIPPED levy_stable distribution (taking more than 30 seconds)\n",
      "WARNING:root:SKIPPED loglaplace distribution (taking more than 30 seconds)\n",
      "WARNING:root:SKIPPED lognorm distribution (taking more than 30 seconds)\n",
      "WARNING:root:SKIPPED mielke distribution (taking more than 30 seconds)\n",
      "WARNING:root:SKIPPED ncf distribution (taking more than 30 seconds)\n",
      "WARNING:root:SKIPPED nct distribution (taking more than 30 seconds)\n",
      "WARNING:root:SKIPPED ncx2 distribution (taking more than 30 seconds)\n",
      "WARNING:root:SKIPPED powerlognorm distribution (taking more than 30 seconds)\n",
      "WARNING:root:SKIPPED rv_continuous distribution (taking more than 30 seconds)\n",
      "WARNING:root:SKIPPED rv_histogram distribution (taking more than 30 seconds)\n",
      "WARNING:root:SKIPPED studentized_range distribution (taking more than 30 seconds)\n",
      "WARNING:root:SKIPPED triang distribution (taking more than 30 seconds)\n",
      "WARNING:root:SKIPPED tukeylambda distribution (taking more than 30 seconds)\n",
      "WARNING:root:SKIPPED vonmises distribution (taking more than 30 seconds)\n",
      "WARNING:root:SKIPPED vonmises_line distribution (taking more than 30 seconds)\n",
      "WARNING:root:SKIPPED weibull_max distribution (taking more than 30 seconds)\n",
      "WARNING:root:SKIPPED weibull_min distribution (taking more than 30 seconds)\n"
     ]
    },
    {
     "data": {
      "text/html": [
       "<div>\n",
       "<style scoped>\n",
       "    .dataframe tbody tr th:only-of-type {\n",
       "        vertical-align: middle;\n",
       "    }\n",
       "\n",
       "    .dataframe tbody tr th {\n",
       "        vertical-align: top;\n",
       "    }\n",
       "\n",
       "    .dataframe thead th {\n",
       "        text-align: right;\n",
       "    }\n",
       "</style>\n",
       "<table border=\"1\" class=\"dataframe\">\n",
       "  <thead>\n",
       "    <tr style=\"text-align: right;\">\n",
       "      <th></th>\n",
       "      <th>sumsquare_error</th>\n",
       "      <th>aic</th>\n",
       "      <th>bic</th>\n",
       "      <th>kl_div</th>\n",
       "    </tr>\n",
       "  </thead>\n",
       "  <tbody>\n",
       "    <tr>\n",
       "      <th>exponnorm</th>\n",
       "      <td>0.004028</td>\n",
       "      <td>959.161971</td>\n",
       "      <td>-27990.283173</td>\n",
       "      <td>inf</td>\n",
       "    </tr>\n",
       "    <tr>\n",
       "      <th>laplace_asymmetric</th>\n",
       "      <td>0.004217</td>\n",
       "      <td>960.785221</td>\n",
       "      <td>-27892.817363</td>\n",
       "      <td>inf</td>\n",
       "    </tr>\n",
       "    <tr>\n",
       "      <th>fatiguelife</th>\n",
       "      <td>0.004257</td>\n",
       "      <td>960.563155</td>\n",
       "      <td>-27872.598437</td>\n",
       "      <td>inf</td>\n",
       "    </tr>\n",
       "    <tr>\n",
       "      <th>recipinvgauss</th>\n",
       "      <td>0.004275</td>\n",
       "      <td>958.755883</td>\n",
       "      <td>-27863.472542</td>\n",
       "      <td>inf</td>\n",
       "    </tr>\n",
       "    <tr>\n",
       "      <th>wald</th>\n",
       "      <td>0.004277</td>\n",
       "      <td>963.110953</td>\n",
       "      <td>-27870.403317</td>\n",
       "      <td>inf</td>\n",
       "    </tr>\n",
       "  </tbody>\n",
       "</table>\n",
       "</div>"
      ],
      "text/plain": [
       "                    sumsquare_error         aic           bic  kl_div\n",
       "exponnorm                  0.004028  959.161971 -27990.283173     inf\n",
       "laplace_asymmetric         0.004217  960.785221 -27892.817363     inf\n",
       "fatiguelife                0.004257  960.563155 -27872.598437     inf\n",
       "recipinvgauss              0.004275  958.755883 -27863.472542     inf\n",
       "wald                       0.004277  963.110953 -27870.403317     inf"
      ]
     },
     "execution_count": 70,
     "metadata": {},
     "output_type": "execute_result"
    },
    {
     "data": {
      "image/png": "[encoded data removed]",
      "text/plain": [
       "<Figure size 432x288 with 1 Axes>"
      ]
     },
     "metadata": {},
     "output_type": "display_data"
    }
   ],
   "source": [
    "#  extract best fitting distribution\n",
    "f = Fitter(intervals)\n",
    "f.fit()\n",
    "f.summary()"
   ]
  },
  {
   "cell_type": "code",
   "execution_count": 71,
   "id": "4935a653-d9e7-4091-a3bb-c2a01cd339b5",
   "metadata": {},
   "outputs": [
    {
     "data": {
      "text/plain": [
       "{'exponnorm': {'K': 9.705803684825007,\n",
       "  'loc': 2.97487585040842,\n",
       "  'scale': 2.0300493854781405}}"
      ]
     },
     "execution_count": 71,
     "metadata": {},
     "output_type": "execute_result"
    }
   ],
   "source": [
    "f.get_best(method = 'sumsquare_error')"
   ]
  },
  {
   "cell_type": "code",
   "execution_count": null,
   "id": "e9855a38-b551-4edd-96f5-0dd84b34fa85",
   "metadata": {},
   "outputs": [],
   "source": []
  },
  {
   "cell_type": "markdown",
   "id": "11047ab3",
   "metadata": {},
   "source": [
    "### Pre processing"
   ]
  },
  {
   "cell_type": "code",
   "execution_count": 6,
   "id": "6eaf2aea",
   "metadata": {},
   "outputs": [
    {
     "name": "stdout",
     "output_type": "stream",
     "text": [
      "Start activities: {'V_da_pes/pesatura': 1580}\n",
      "End activities: {'V_per_park/estrusore': 1474, 'V_da_pes/estrusore': 94, 'Not_def/fuori_impianto': 3, 'V_da_pes/pesatura': 2, 'P_da_est/estrusore': 2, 'V_per_park/catenaria_parcheggi': 2, 'P_da_est/buffer': 1, 'V_per_park/carroponte_2': 1, 'V_per_park/fuori_impianto': 1}\n"
     ]
    }
   ],
   "source": [
    "#  remove traces with 'recheck' as activity\n",
    "'''mask_recheck = np.asarray( event_log[ event_log['stato'] == 'P_recheck' ].index )\n",
    "ID_recheck = event_log.loc[mask_recheck]['ID_unique'].values\n",
    "mask_drop_recheck = np.asarray( event_log[ event_log['ID_unique'].isin(ID_recheck)].index )\n",
    "event_log.drop( mask_drop_recheck, inplace = True )'''\n",
    "\n",
    "#  visualize start/end activities\n",
    "start_activities = pm4py.get_start_activities(event_log)\n",
    "end_activities = pm4py.get_end_activities(event_log)\n",
    "print(\"Start activities: {}\\nEnd activities: {}\".format(start_activities, end_activities))"
   ]
  },
  {
   "cell_type": "code",
   "execution_count": 7,
   "id": "1cfddf25",
   "metadata": {},
   "outputs": [
    {
     "data": {
      "text/plain": [
       "{'V_da_pes/pesatura': 1580}"
      ]
     },
     "execution_count": 7,
     "metadata": {},
     "output_type": "execute_result"
    }
   ],
   "source": [
    "#  filtering event log by start activiy\n",
    "from pm4py.algo.filtering.pandas.start_activities import start_activities_filter\n",
    "event_log = start_activities_filter.apply(event_log, ['V_da_pes/pesatura'],\n",
    "                                          parameters={start_activities_filter.Parameters.CASE_ID_KEY: \"case:concept:name\",\n",
    "                                                      start_activities_filter.Parameters.ACTIVITY_KEY: \"concept:name\"})\n",
    "pm4py.get_start_activities(event_log)"
   ]
  },
  {
   "cell_type": "code",
   "execution_count": 8,
   "id": "3166dbed",
   "metadata": {},
   "outputs": [
    {
     "data": {
      "text/plain": [
       "{'V_per_park/estrusore': 1474, 'V_da_pes/estrusore': 94}"
      ]
     },
     "execution_count": 8,
     "metadata": {},
     "output_type": "execute_result"
    }
   ],
   "source": [
    "#  filtering event log by end activiy\n",
    "from pm4py.algo.filtering.pandas.end_activities import end_activities_filter\n",
    "event_log = end_activities_filter.apply(event_log, ['V_per_park/estrusore', 'V_da_pes/estrusore'],\n",
    "                                          parameters={end_activities_filter.Parameters.CASE_ID_KEY: \"case:concept:name\",\n",
    "                                                      end_activities_filter.Parameters.ACTIVITY_KEY: \"concept:name\"})\n",
    "pm4py.get_end_activities(event_log)"
   ]
  },
  {
   "cell_type": "code",
   "execution_count": 9,
   "id": "29e42b5c",
   "metadata": {},
   "outputs": [],
   "source": [
    "#  fitering event log removing reworked traces\n",
    "df_rework = pm4py.filter_activities_rework(event_log, \"V_da_pes/catenaria_ing_misc\", 2)\n",
    "event_log.drop( df_rework.index, inplace = True )"
   ]
  },
  {
   "cell_type": "markdown",
   "id": "c5d4a09b",
   "metadata": {},
   "source": [
    "### Process mining"
   ]
  },
  {
   "cell_type": "code",
   "execution_count": 10,
   "id": "9a6d7277",
   "metadata": {},
   "outputs": [
    {
     "data": {
      "text/plain": [
       "294"
      ]
     },
     "execution_count": 10,
     "metadata": {},
     "output_type": "execute_result"
    }
   ],
   "source": [
    "#  evaluate number of variants\n",
    "from pm4py.statistics.traces.generic.pandas import case_statistics\n",
    "variants_count = case_statistics.get_variant_statistics(event_log,\n",
    "                                          parameters={case_statistics.Parameters.CASE_ID_KEY: \"case:concept:name\",\n",
    "                                                      case_statistics.Parameters.ACTIVITY_KEY: \"concept:name\",\n",
    "                                                      case_statistics.Parameters.TIMESTAMP_KEY: \"time:timestamp\"})\n",
    "variants_count = sorted(variants_count, key=lambda x: x['case:concept:name'], reverse=True)\n",
    "len(variants_count)"
   ]
  },
  {
   "cell_type": "code",
   "execution_count": 11,
   "id": "70630d9b-93d2-49c7-a10a-1b91db87e8eb",
   "metadata": {
    "tags": []
   },
   "outputs": [
    {
     "data": {
      "text/plain": [
       "[{'variant': 'V_da_pes/pesatura,P_da_misc/pesatura,P_da_misc/miscelatore,P_da_est/miscelatore,P_da_est/nav_serv_carr_pieni,P_da_est/carroponte_1,P_da_est/buffer,P_da_est/estrusore,V_per_park/estrusore',\n",
       "  'case:concept:name': 269},\n",
       " {'variant': 'V_da_pes/pesatura,P_da_misc/pesatura,P_da_misc/miscelatore,P_da_est/miscelatore,P_da_est/nav_serv_carr_pieni,P_da_est/carroponte_1,P_da_est/estrusore,V_per_park/estrusore',\n",
       "  'case:concept:name': 259},\n",
       " {'variant': 'V_da_pes/pesatura,P_da_misc/pesatura,P_da_misc/miscelatore,P_da_est/miscelatore,P_da_est/cat_usc_pieni,P_da_est/nav_serv_carr_pieni,P_da_est/carroponte_1,P_da_est/estrusore,V_per_park/estrusore',\n",
       "  'case:concept:name': 234},\n",
       " {'variant': 'V_da_pes/pesatura,P_da_misc/pesatura,P_da_misc/miscelatore,P_da_est/miscelatore,P_da_est/cat_usc_pieni,P_da_est/nav_serv_carr_pieni,P_da_est/carroponte_1,P_da_est/buffer,P_da_est/estrusore,V_per_park/estrusore',\n",
       "  'case:concept:name': 205},\n",
       " {'variant': 'V_da_pes/pesatura,P_da_misc/pesatura,P_da_misc/miscelatore,P_remove/miscelatore,Not_def/fuori_impianto,P_da_est/manuale,P_da_est/carroponte_2,P_da_est/estrusore,V_per_park/estrusore',\n",
       "  'case:concept:name': 32},\n",
       " {'variant': 'V_da_pes/pesatura,P_da_misc/pesatura,P_da_misc/miscelatore,P_da_est/miscelatore,P_da_est/nav_serv_carr_pieni,P_da_est/carroponte_1,P_da_est/estrusore,V_da_pes/estrusore',\n",
       "  'case:concept:name': 31},\n",
       " {'variant': 'V_da_pes/pesatura,P_da_misc/pesatura,P_da_misc/miscelatore,P_da_est/miscelatore,P_da_est/nav_serv_carr_pieni,P_da_est/carroponte_1,P_da_est/buffer,P_da_est/carroponte_2,P_da_est/estrusore,V_per_park/estrusore',\n",
       "  'case:concept:name': 24},\n",
       " {'variant': 'V_da_pes/pesatura,P_da_misc/pesatura,P_da_misc/navetta_serv_misc,P_da_misc/miscelatore,P_da_est/miscelatore,P_da_est/nav_serv_carr_pieni,P_da_est/carroponte_1,P_da_est/estrusore,V_per_park/estrusore',\n",
       "  'case:concept:name': 18},\n",
       " {'variant': 'V_da_pes/pesatura,P_da_misc/pesatura,P_da_misc/miscelatore,P_da_est/miscelatore,P_da_est/cat_usc_pieni,P_da_est/nav_serv_carr_pieni,P_da_est/carroponte_1,P_da_est/estrusore,V_da_pes/estrusore',\n",
       "  'case:concept:name': 18},\n",
       " {'variant': 'V_da_pes/pesatura,P_da_misc/pesatura,P_da_misc/miscelatore,P_da_est/cat_usc_pieni,P_da_est/nav_serv_carr_pieni,P_da_est/carroponte_1,P_da_est/estrusore,V_per_park/estrusore',\n",
       "  'case:concept:name': 18},\n",
       " {'variant': 'V_da_pes/pesatura,P_da_misc/pesatura,P_da_misc/miscelatore,P_da_est/cat_usc_pieni,P_da_est/nav_serv_carr_pieni,P_da_est/carroponte_1,P_da_est/buffer,P_da_est/estrusore,V_per_park/estrusore',\n",
       "  'case:concept:name': 17},\n",
       " {'variant': 'V_da_pes/pesatura,P_da_misc/pesatura,P_da_misc/navetta_serv_misc,P_da_misc/miscelatore,P_da_est/miscelatore,P_da_est/cat_usc_pieni,P_da_est/nav_serv_carr_pieni,P_da_est/carroponte_1,P_da_est/estrusore,V_per_park/estrusore',\n",
       "  'case:concept:name': 16},\n",
       " {'variant': 'V_da_pes/pesatura,P_da_misc/pesatura,P_da_misc/navetta_serv_misc,P_da_misc/miscelatore,P_da_est/miscelatore,P_da_est/nav_serv_carr_pieni,P_da_est/carroponte_1,P_da_est/buffer,P_da_est/estrusore,V_per_park/estrusore',\n",
       "  'case:concept:name': 15},\n",
       " {'variant': 'V_da_pes/pesatura,P_da_misc/pesatura,P_da_misc/miscelatore,P_da_est/miscelatore,P_da_est/cat_usc_pieni,P_da_est/nav_serv_carr_pieni,P_da_est/carroponte_1,P_da_est/buffer,P_da_est/carroponte_2,P_da_est/estrusore,V_per_park/estrusore',\n",
       "  'case:concept:name': 15},\n",
       " {'variant': 'V_da_pes/pesatura,P_da_misc/pesatura,P_da_misc/miscelatore,P_da_est/nav_serv_carr_pieni,P_da_est/carroponte_1,P_da_est/buffer,P_da_est/estrusore,V_per_park/estrusore',\n",
       "  'case:concept:name': 13},\n",
       " {'variant': 'V_da_pes/pesatura,P_da_misc/pesatura,P_da_misc/navetta_serv_misc,P_da_misc/miscelatore,P_da_est/miscelatore,P_da_est/cat_usc_pieni,P_da_est/nav_serv_carr_pieni,P_da_est/carroponte_1,P_da_est/buffer,P_da_est/estrusore,V_per_park/estrusore',\n",
       "  'case:concept:name': 9},\n",
       " {'variant': 'V_da_pes/pesatura,P_da_misc/pesatura,P_da_misc/miscelatore,P_da_est/nav_serv_carr_pieni,P_da_est/carroponte_1,P_da_est/estrusore,V_per_park/estrusore',\n",
       "  'case:concept:name': 9},\n",
       " {'variant': 'V_da_pes/pesatura,V_da_pes/pesatura,P_da_misc/pesatura,P_da_misc/miscelatore,P_da_est/miscelatore,P_da_est/cat_usc_pieni,P_da_est/nav_serv_carr_pieni,P_da_est/carroponte_1,P_da_est/estrusore,V_per_park/estrusore',\n",
       "  'case:concept:name': 8},\n",
       " {'variant': 'V_da_pes/pesatura,P_da_est/estrusore,V_per_park/estrusore',\n",
       "  'case:concept:name': 8},\n",
       " {'variant': 'V_da_pes/pesatura,V_da_pes/pesatura,P_da_misc/pesatura,P_da_misc/miscelatore,P_da_est/miscelatore,P_da_est/nav_serv_carr_pieni,P_da_est/carroponte_1,P_da_est/estrusore,V_per_park/estrusore',\n",
       "  'case:concept:name': 7},\n",
       " {'variant': 'V_da_pes/pesatura,P_da_misc/miscelatore,P_da_est/miscelatore,P_da_est/nav_serv_carr_pieni,P_da_est/carroponte_1,P_da_est/estrusore,V_per_park/estrusore',\n",
       "  'case:concept:name': 7},\n",
       " {'variant': 'V_da_pes/pesatura,P_da_misc/miscelatore,P_da_est/miscelatore,P_da_est/nav_serv_carr_pieni,P_da_est/carroponte_1,P_da_est/buffer,P_da_est/estrusore,V_per_park/estrusore',\n",
       "  'case:concept:name': 6},\n",
       " {'variant': 'V_da_pes/pesatura,V_da_pes/pesatura,P_da_misc/pesatura,P_da_misc/miscelatore,P_da_est/miscelatore,P_da_est/cat_usc_pieni,P_da_est/nav_serv_carr_pieni,P_da_est/carroponte_1,P_da_est/buffer,P_da_est/estrusore,V_per_park/estrusore',\n",
       "  'case:concept:name': 5},\n",
       " {'variant': 'V_da_pes/pesatura,P_da_misc/pesatura,P_da_misc/miscelatore,P_da_est/miscelatore,P_da_est/cat_usc_pieni,P_da_est/nav_serv_carr_pieni,P_da_est/carroponte_1,P_da_est/buffer,P_da_est/estrusore,V_da_pes/estrusore',\n",
       "  'case:concept:name': 5},\n",
       " {'variant': 'V_da_pes/pesatura,P_da_misc/pesatura,P_da_misc/navetta_serv_misc,P_da_misc/miscelatore,P_remove/miscelatore,Not_def/fuori_impianto,P_da_est/manuale,P_da_est/carroponte_2,P_da_est/estrusore,V_per_park/estrusore',\n",
       "  'case:concept:name': 4},\n",
       " {'variant': 'V_da_pes/pesatura,P_da_misc/pesatura,P_da_misc/miscelatore,P_da_misc/miscelatore,P_da_est/miscelatore,P_da_est/cat_usc_pieni,P_da_est/nav_serv_carr_pieni,P_da_est/carroponte_1,P_da_est/estrusore,V_per_park/estrusore',\n",
       "  'case:concept:name': 4},\n",
       " {'variant': 'V_da_pes/pesatura,P_da_misc/pesatura,P_da_misc/miscelatore,P_da_est/miscelatore,P_da_est/cat_usc_pieni,P_da_est/nav_serv_carr_pieni,P_da_est/carroponte_1,V_per_park/estrusore',\n",
       "  'case:concept:name': 4},\n",
       " {'variant': 'V_da_pes/pesatura,P_da_misc/miscelatore,P_da_est/miscelatore,P_da_est/cat_usc_pieni,P_da_est/nav_serv_carr_pieni,P_da_est/carroponte_1,P_da_est/buffer,P_da_est/estrusore,V_per_park/estrusore',\n",
       "  'case:concept:name': 4},\n",
       " {'variant': 'V_da_pes/pesatura,P_da_misc/pesatura,P_da_misc/navetta_serv_misc,P_da_misc/miscelatore,P_da_est/miscelatore,P_da_est/nav_serv_carr_pieni,P_da_est/carroponte_1,P_da_est/estrusore,V_da_pes/estrusore',\n",
       "  'case:concept:name': 3},\n",
       " {'variant': 'V_da_pes/pesatura,P_da_misc/pesatura,P_da_misc/navetta_serv_misc,P_da_misc/miscelatore,P_da_est/cat_usc_pieni,P_da_est/nav_serv_carr_pieni,P_da_est/carroponte_1,P_da_est/estrusore,V_per_park/estrusore',\n",
       "  'case:concept:name': 3},\n",
       " {'variant': 'V_da_pes/pesatura,P_da_misc/pesatura,P_da_misc/miscelatore,P_da_est/miscelatore,P_da_est/nav_serv_carr_pieni,P_da_est/estrusore,V_per_park/estrusore',\n",
       "  'case:concept:name': 3},\n",
       " {'variant': 'V_da_pes/pesatura,P_da_misc/pesatura,P_da_misc/miscelatore,P_da_est/miscelatore,P_da_est/nav_serv_carr_pieni,P_da_est/carroponte_1,P_da_est/buffer,P_da_est/estrusore,V_da_pes/estrusore',\n",
       "  'case:concept:name': 3},\n",
       " {'variant': 'V_da_pes/pesatura,P_da_misc/pesatura,P_da_misc/miscelatore,P_da_est/miscelatore,P_da_est/nav_serv_carr_pieni,P_da_est/carroponte_1,P_da_est/buffer,P_da_est/estrusore,P_da_est/buffer,P_da_est/estrusore,V_per_park/estrusore',\n",
       "  'case:concept:name': 3},\n",
       " {'variant': 'V_da_pes/pesatura,P_da_misc/miscelatore,P_da_est/miscelatore,P_da_est/cat_usc_pieni,P_da_est/nav_serv_carr_pieni,P_da_est/carroponte_1,P_da_est/estrusore,V_per_park/estrusore',\n",
       "  'case:concept:name': 3},\n",
       " {'variant': 'V_da_pes/pesatura,P_da_est/pesatura,P_da_est/nav_serv_carr_pieni,P_da_est/carroponte_1,P_da_est/buffer,P_da_est/estrusore,V_per_park/estrusore',\n",
       "  'case:concept:name': 3},\n",
       " {'variant': 'V_da_pes/pesatura,P_da_est/buffer,P_da_est/estrusore,V_per_park/estrusore',\n",
       "  'case:concept:name': 3},\n",
       " {'variant': 'V_da_pes/pesatura,V_per_park/pesatura,V_da_pes/pesatura,P_da_misc/pesatura,P_da_misc/miscelatore,P_da_est/miscelatore,P_da_est/nav_serv_carr_pieni,P_da_est/carroponte_1,P_da_est/estrusore,V_per_park/estrusore',\n",
       "  'case:concept:name': 2},\n",
       " {'variant': 'V_da_pes/pesatura,V_per_park/estrusore', 'case:concept:name': 2},\n",
       " {'variant': 'V_da_pes/pesatura,V_da_pes/pesatura,P_da_misc/pesatura,P_da_misc/miscelatore,P_da_est/miscelatore,P_da_est/nav_serv_carr_pieni,P_da_est/carroponte_1,P_da_est/buffer,P_da_est/estrusore,V_per_park/estrusore',\n",
       "  'case:concept:name': 2},\n",
       " {'variant': 'V_da_pes/pesatura,P_recheck/pesatura,P_da_misc/pesatura,P_da_misc/miscelatore,P_da_est/miscelatore,P_da_est/cat_usc_pieni,P_da_est/nav_serv_carr_pieni,P_da_est/carroponte_1,P_da_est/estrusore,V_per_park/estrusore',\n",
       "  'case:concept:name': 2},\n",
       " {'variant': 'V_da_pes/pesatura,P_da_misc/pesatura,P_da_misc/miscelatore,P_da_misc/miscelatore,P_da_est/miscelatore,P_da_est/nav_serv_carr_pieni,P_da_est/carroponte_1,P_da_est/estrusore,V_per_park/estrusore',\n",
       "  'case:concept:name': 2},\n",
       " {'variant': 'V_da_pes/pesatura,P_da_misc/pesatura,P_da_misc/miscelatore,P_da_est/miscelatore,P_da_est/nav_serv_carr_pieni,P_da_est/carroponte_1,P_da_est/buffer,P_da_est/carroponte_1,P_da_est/estrusore,V_per_park/estrusore',\n",
       "  'case:concept:name': 2},\n",
       " {'variant': 'V_da_pes/pesatura,P_da_misc/pesatura,P_da_misc/miscelatore,P_da_est/miscelatore,P_da_est/estrusore,V_per_park/estrusore',\n",
       "  'case:concept:name': 2},\n",
       " {'variant': 'V_da_pes/pesatura,P_da_misc/pesatura,P_da_misc/miscelatore,P_da_est/miscelatore,P_da_est/carroponte_1,P_da_est/buffer,P_da_est/estrusore,V_per_park/estrusore',\n",
       "  'case:concept:name': 2},\n",
       " {'variant': 'V_da_pes/pesatura,P_da_misc/pesatura,P_da_misc/miscelatore,P_da_est/cat_usc_pieni,P_da_est/nav_serv_carr_pieni,P_da_est/carroponte_1,P_da_est/estrusore,V_da_pes/estrusore',\n",
       "  'case:concept:name': 2},\n",
       " {'variant': 'V_da_pes/pesatura,P_da_misc/navetta_serv_misc,P_da_misc/miscelatore,P_da_est/miscelatore,P_da_est/nav_serv_carr_pieni,P_da_est/carroponte_1,P_da_est/buffer,P_da_est/estrusore,V_per_park/estrusore',\n",
       "  'case:concept:name': 2},\n",
       " {'variant': 'V_da_pes/pesatura,V_remove/miscelatore,Not_def/fuori_impianto,V_da_pes/pesatura,P_recheck/pesatura,P_da_misc/pesatura,P_da_misc/miscelatore,P_remove/miscelatore,Not_def/fuori_impianto,P_da_est/manuale,P_da_est/carroponte_2,P_da_est/estrusore,V_per_park/estrusore',\n",
       "  'case:concept:name': 1},\n",
       " {'variant': 'V_da_pes/pesatura,V_per_park/pesatura,V_per_park/nav_serv_carr_pieni,V_per_park/catenaria_parcheggi,V_da_pes/pesatura,P_recheck/pesatura,P_da_misc/pesatura,P_da_misc/miscelatore,P_da_est/miscelatore,P_da_est/cat_usc_pieni,P_da_est/nav_serv_carr_pieni,P_da_est/carroponte_1,P_da_est/estrusore,V_per_park/estrusore',\n",
       "  'case:concept:name': 1},\n",
       " {'variant': 'V_da_pes/pesatura,V_per_park/pesatura,V_per_park/catenaria_parcheggi,P_da_est/estrusore,V_per_park/catenaria_parcheggi,V_da_pes/pesatura,P_da_est/estrusore,V_per_park/estrusore',\n",
       "  'case:concept:name': 1},\n",
       " {'variant': 'V_da_pes/pesatura,V_per_park/pesatura,V_per_park/cat_usc_pieni,V_per_park/nav_serv_carr_pieni,V_remove/catenaria_ing_misc,Not_def/fuori_impianto,V_da_pes/fuori_impianto,Not_def/fuori_impianto,V_per_park/manuale,Not_def/fuori_impianto,P_da_est/estrusore,V_per_park/manuale,V_per_park/carroponte_2,Not_def/fuori_impianto,P_da_est/estrusore,V_per_park/carroponte_2,V_per_park/buffer,V_da_pes/miscelatore,P_da_misc/miscelatore,Not_def/fuori_impianto,P_da_est/estrusore,P_da_est/estrusore,V_da_pes/pesatura,Not_def/fuori_impianto,P_da_est/estrusore,Not_def/fuori_impianto,P_da_est/estrusore,P_da_est/estrusore,P_da_est/estrusore,V_da_pes/carroponte_2,V_da_pes/manuale,Not_def/fuori_impianto,V_da_pes/ing_zona_misc,V_da_pes/miscelatore,V_da_pes/pesatura,P_da_misc/pesatura,P_da_misc/miscelatore,P_remove/miscelatore,Not_def/fuori_impianto,P_da_est/manuale,P_da_est/carroponte_2,P_da_est/estrusore,V_per_park/estrusore',\n",
       "  'case:concept:name': 1},\n",
       " {'variant': 'V_da_pes/pesatura,V_per_park/pesatura,V_per_park/cat_usc_pieni,V_per_park/nav_serv_carr_pieni,V_per_park/catenaria_vuoti,V_per_park/catenaria_parcheggi,V_da_pes/pesatura,P_da_misc/pesatura,P_da_misc/miscelatore,P_da_est/miscelatore,P_da_est/cat_usc_pieni,P_da_est/nav_serv_carr_pieni,P_da_est/carroponte_1,P_da_est/estrusore,V_per_park/estrusore',\n",
       "  'case:concept:name': 1},\n",
       " {'variant': 'V_da_pes/pesatura,V_per_park/pesatura,V_per_park/cat_usc_pieni,V_per_park/nav_serv_carr_pieni,V_per_park/catenaria_parcheggi,V_remove/miscelatore,Not_def/fuori_impianto,V_per_park/cat_usc_pieni,V_per_park/nav_serv_carr_pieni,V_per_park/catenaria_parcheggi,V_da_pes/pesatura,P_da_misc/pesatura,P_da_misc/miscelatore,P_da_est/miscelatore,P_da_est/cat_usc_pieni,P_da_est/nav_serv_carr_pieni,P_da_est/carroponte_1,P_da_est/estrusore,V_per_park/estrusore',\n",
       "  'case:concept:name': 1},\n",
       " {'variant': 'V_da_pes/pesatura,V_per_park/pesatura,V_per_park/cat_usc_pieni,V_per_park/nav_serv_carr_pieni,V_per_park/catenaria_parcheggi,V_da_pes/pesatura,P_da_misc/pesatura,P_da_misc/miscelatore,P_da_est/miscelatore,P_da_est/nav_serv_carr_pieni,P_da_est/carroponte_1,P_da_est/estrusore,V_per_park/estrusore',\n",
       "  'case:concept:name': 1},\n",
       " {'variant': 'V_da_pes/pesatura,V_per_park/pesatura,V_per_park/cat_usc_pieni,V_per_park/nav_serv_carr_pieni,V_per_park/catenaria_parcheggi,V_da_pes/catenaria_parcheggi,V_da_pes/catenaria_ing_misc,V_da_pes/pesatura,P_da_misc/pesatura,P_da_misc/miscelatore,P_da_est/miscelatore,P_da_est/cat_usc_pieni,P_da_est/nav_serv_carr_pieni,P_da_est/carroponte_1,P_da_est/buffer,P_da_est/estrusore,V_per_park/estrusore',\n",
       "  'case:concept:name': 1},\n",
       " {'variant': 'V_da_pes/pesatura,V_per_park/pesatura,V_per_park/cat_usc_pieni,V_per_park/nav_serv_carr_pieni,V_per_park/catenaria_parcheggi,V_da_pes/catenaria_parcheggi,V_da_pes/catenaria_ing_misc,P_da_misc/pesatura,P_da_misc/miscelatore,P_da_est/miscelatore,P_da_est/cat_usc_pieni,P_da_est/nav_serv_carr_pieni,P_da_est/carroponte_1,P_da_est/buffer,P_da_est/estrusore,V_per_park/estrusore',\n",
       "  'case:concept:name': 1},\n",
       " {'variant': 'V_da_pes/pesatura,V_per_park/pesatura,V_per_park/cat_usc_pieni,V_per_park/nav_serv_carr_pieni,V_per_park/catenaria_parcheggi,V_da_pes/catenaria_ing_misc,V_da_pes/pesatura,P_da_misc/pesatura,P_da_misc/miscelatore,P_da_est/miscelatore,P_da_est/cat_usc_pieni,P_da_est/nav_serv_carr_pieni,P_da_est/carroponte_1,V_da_pes/estrusore',\n",
       "  'case:concept:name': 1},\n",
       " {'variant': 'V_da_pes/pesatura,V_per_park/pesatura,V_per_park/cat_usc_pieni,V_per_park/nav_serv_carr_pieni,V_per_park/catenaria_parcheggi,V_da_pes/catenaria_ing_misc,V_da_pes/pesatura,P_da_misc/pesatura,P_da_misc/miscelatore,P_da_est/miscelatore,P_da_est/cat_usc_pieni,P_da_est/nav_serv_carr_pieni,P_da_est/carroponte_1,P_da_est/estrusore,V_per_park/estrusore',\n",
       "  'case:concept:name': 1},\n",
       " {'variant': 'V_da_pes/pesatura,V_per_park/pesatura,V_per_park/cat_usc_pieni,V_per_park/nav_serv_carr_pieni,V_per_park/catenaria_parcheggi,P_da_est/nav_serv_carr_pieni,P_da_est/carroponte_1,P_da_est/buffer,P_da_est/estrusore,V_per_park/estrusore',\n",
       "  'case:concept:name': 1},\n",
       " {'variant': 'V_da_pes/pesatura,V_per_park/pesatura,V_da_pes/pesatura,V_per_park/pesatura,V_da_pes/pesatura,V_per_park/pesatura,V_da_pes/pesatura,P_da_misc/pesatura,P_da_misc/navetta_serv_misc,P_da_misc/miscelatore,P_per_park/cat_usc_pieni,P_per_park/catenaria_parcheggi,P_da_est/cat_usc_pieni,P_da_est/nav_serv_carr_pieni,P_da_est/carroponte_1,P_da_est/estrusore,V_da_pes/estrusore',\n",
       "  'case:concept:name': 1},\n",
       " {'variant': 'V_da_pes/pesatura,V_per_park/pesatura,V_da_pes/pesatura,V_per_park/pesatura,V_da_pes/pesatura,P_per_park/pesatura,P_per_park/cat_usc_pieni,P_per_park/nav_serv_carr_pieni,P_per_park/catenaria_parcheggi,P_da_est/estrusore,V_da_pes/estrusore',\n",
       "  'case:concept:name': 1},\n",
       " {'variant': 'V_da_pes/pesatura,V_per_park/pesatura,V_da_pes/pesatura,P_da_misc/pesatura,P_da_misc/navetta_serv_misc,P_da_misc/miscelatore,V_da_pes/navetta_serv_misc,V_da_pes/pesatura,P_da_misc/pesatura,P_da_misc/miscelatore,P_da_misc/miscelatore,P_da_est/miscelatore,P_da_est/cat_usc_pieni,P_da_est/nav_serv_carr_pieni,P_da_est/carroponte_1,P_da_est/estrusore,V_per_park/estrusore',\n",
       "  'case:concept:name': 1},\n",
       " {'variant': 'V_da_pes/pesatura,V_per_park/pesatura,V_da_pes/pesatura,P_da_misc/pesatura,P_da_misc/miscelatore,P_da_est/miscelatore,P_da_est/nav_serv_carr_pieni,P_da_est/carroponte_1,P_da_est/buffer,P_da_est/carroponte_1,P_da_est/estrusore,V_per_park/estrusore',\n",
       "  'case:concept:name': 1},\n",
       " {'variant': 'V_da_pes/pesatura,V_per_park/pesatura,P_per_park/pesatura,P_per_park/cat_usc_pieni,P_per_park/nav_serv_carr_pieni,P_per_park/catenaria_parcheggi,P_da_misc/miscelatore,P_da_est/miscelatore,P_da_est/nav_serv_carr_pieni,P_da_est/carroponte_1,P_da_est/estrusore,V_da_pes/estrusore',\n",
       "  'case:concept:name': 1},\n",
       " {'variant': 'V_da_pes/pesatura,V_per_park/pesatura,P_da_misc/pesatura,P_da_misc/miscelatore,P_da_est/miscelatore,P_da_est/cat_usc_pieni,P_da_est/nav_serv_carr_pieni,P_da_est/carroponte_1,P_da_est/estrusore,V_per_park/estrusore',\n",
       "  'case:concept:name': 1},\n",
       " {'variant': 'V_da_pes/pesatura,V_per_park/pesatura,P_da_est/pesatura,P_per_park/pesatura,P_da_est/pesatura,P_da_est/cat_usc_pieni,P_da_est/nav_serv_carr_pieni,P_da_est/carroponte_1,P_da_est/estrusore,V_per_park/estrusore',\n",
       "  'case:concept:name': 1},\n",
       " {'variant': 'V_da_pes/pesatura,V_per_park/navetta_serv_misc,V_per_park/nav_serv_carr_pieni,V_per_park/catenaria_parcheggi,V_per_park/catenaria_parcheggi,V_per_park/pesatura,V_da_pes/pesatura,P_da_misc/pesatura,P_da_misc/miscelatore,P_da_est/miscelatore,P_da_est/nav_serv_carr_pieni,P_da_est/carroponte_1,P_da_est/estrusore,V_per_park/estrusore',\n",
       "  'case:concept:name': 1},\n",
       " {'variant': 'V_da_pes/pesatura,V_per_park/nav_serv_carr_pieni,V_per_park/catenaria_parcheggi,V_da_pes/catenaria_ing_misc,V_da_pes/pesatura,P_da_misc/pesatura,P_da_misc/miscelatore,P_da_est/miscelatore,P_da_est/nav_serv_carr_pieni,P_da_est/carroponte_1,P_da_est/estrusore,V_per_park/estrusore',\n",
       "  'case:concept:name': 1},\n",
       " {'variant': 'V_da_pes/pesatura,V_per_park/catenaria_parcheggi,V_da_pes/pesatura,P_da_est/estrusore,V_per_park/catenaria_parcheggi,V_da_pes/pesatura,V_da_pes/pesatura,P_da_est/estrusore,V_per_park/catenaria_parcheggi,V_da_pes/pesatura,P_da_misc/pesatura,P_da_est/estrusore,V_per_park/catenaria_parcheggi,V_da_pes/pesatura,P_da_est/estrusore,P_da_est/estrusore,P_da_est/estrusore,V_da_pes/pesatura,P_da_est/estrusore,V_da_pes/pesatura,P_da_est/estrusore,P_da_est/estrusore,V_per_park/catenaria_parcheggi,V_da_pes/pesatura,P_da_est/estrusore,V_per_park/catenaria_parcheggi,V_per_park/pesatura,V_da_pes/pesatura,P_per_park/catenaria_parcheggi,P_da_est/estrusore,V_da_pes/pesatura,P_da_est/estrusore,V_per_park/estrusore',\n",
       "  'case:concept:name': 1},\n",
       " {'variant': 'V_da_pes/pesatura,V_per_park/catenaria_parcheggi,V_da_pes/catenaria_parcheggi,V_da_pes/catenaria_ing_misc,V_da_pes/pesatura,P_da_misc/pesatura,P_da_misc/miscelatore,P_da_est/miscelatore,P_da_est/nav_serv_carr_pieni,P_da_est/carroponte_1,P_da_est/buffer,P_da_est/estrusore,V_per_park/estrusore',\n",
       "  'case:concept:name': 1},\n",
       " {'variant': 'V_da_pes/pesatura,V_per_park/cat_usc_pieni,V_per_park/nav_serv_carr_pieni,V_per_park/catenaria_parcheggi,V_da_pes/pesatura,P_da_misc/pesatura,P_da_misc/miscelatore,P_da_est/miscelatore,P_da_est/cat_usc_pieni,P_da_est/nav_serv_carr_pieni,P_da_est/carroponte_1,P_da_est/estrusore,V_per_park/estrusore',\n",
       "  'case:concept:name': 1},\n",
       " {'variant': 'V_da_pes/pesatura,V_per_park/cat_usc_pieni,V_per_park/nav_serv_carr_pieni,V_per_park/catenaria_parcheggi,V_da_pes/pesatura,P_da_misc/pesatura,P_da_misc/miscelatore,P_da_est/cat_usc_pieni,P_da_est/nav_serv_carr_pieni,P_da_est/carroponte_1,P_da_est/estrusore,V_per_park/estrusore',\n",
       "  'case:concept:name': 1},\n",
       " {'variant': 'V_da_pes/pesatura,V_per_park/cat_usc_pieni,V_per_park/nav_serv_carr_pieni,V_per_park/catenaria_parcheggi,V_da_pes/catenaria_ing_misc,V_da_pes/pesatura,V_per_park/pesatura,V_da_pes/pesatura,P_da_misc/pesatura,P_da_misc/miscelatore,P_da_est/miscelatore,P_da_est/nav_serv_carr_pieni,P_da_est/carroponte_1,P_da_est/estrusore,V_da_pes/estrusore',\n",
       "  'case:concept:name': 1},\n",
       " {'variant': 'V_da_pes/pesatura,V_per_park/cat_usc_pieni,V_per_park/nav_serv_carr_pieni,V_per_park/catenaria_parcheggi,V_da_pes/catenaria_ing_misc,V_da_pes/pesatura,P_da_misc/pesatura,P_da_misc/miscelatore,P_da_est/miscelatore,P_da_est/nav_serv_carr_pieni,P_da_est/carroponte_1,P_da_est/estrusore,V_per_park/estrusore',\n",
       "  'case:concept:name': 1},\n",
       " {'variant': 'V_da_pes/pesatura,V_da_pes/pesatura,V_per_park/catenaria_parcheggi,P_da_est/estrusore,V_per_park/catenaria_parcheggi,V_da_pes/pesatura,P_da_est/estrusore,V_per_park/catenaria_parcheggi,V_da_pes/pesatura,P_da_est/estrusore,V_per_park/catenaria_parcheggi,P_da_est/estrusore,V_da_pes/pesatura,P_da_est/estrusore,V_da_pes/pesatura,P_da_est/estrusore,V_da_pes/pesatura,P_da_est/estrusore,P_da_est/estrusore,P_da_est/estrusore,V_da_pes/pesatura,P_da_est/estrusore,V_da_pes/estrusore',\n",
       "  'case:concept:name': 1},\n",
       " {'variant': 'V_da_pes/pesatura,V_da_pes/pesatura,V_da_pes/pesatura,P_da_misc/pesatura,P_per_park/nav_serv_carr_pieni,P_per_park/catenaria_parcheggi,P_recheck/pesatura,P_da_misc/pesatura,P_da_misc/miscelatore,P_da_est/miscelatore,P_da_est/cat_usc_pieni,P_da_est/nav_serv_carr_pieni,P_da_est/carroponte_1,P_da_est/estrusore,V_per_park/estrusore',\n",
       "  'case:concept:name': 1},\n",
       " {'variant': 'V_da_pes/pesatura,V_da_pes/pesatura,V_da_pes/pesatura,P_da_misc/pesatura,P_da_misc/miscelatore,P_da_est/miscelatore,P_da_est/nav_serv_carr_pieni,P_da_est/carroponte_1,P_da_est/estrusore,V_per_park/estrusore',\n",
       "  'case:concept:name': 1},\n",
       " {'variant': 'V_da_pes/pesatura,V_da_pes/pesatura,P_da_misc/pesatura,P_da_misc/navetta_serv_misc,P_da_misc/miscelatore,P_da_est/miscelatore,P_da_est/nav_serv_carr_pieni,P_da_est/carroponte_1,P_da_est/estrusore,V_per_park/estrusore',\n",
       "  'case:concept:name': 1},\n",
       " {'variant': 'V_da_pes/pesatura,V_da_pes/pesatura,P_da_misc/pesatura,P_da_misc/navetta_serv_misc,P_da_misc/miscelatore,P_da_est/miscelatore,P_da_est/nav_serv_carr_pieni,P_da_est/carroponte_1,P_da_est/estrusore,V_da_pes/estrusore',\n",
       "  'case:concept:name': 1},\n",
       " {'variant': 'V_da_pes/pesatura,V_da_pes/pesatura,P_da_misc/pesatura,P_da_misc/miscelatore,P_remove/miscelatore,Not_def/fuori_impianto,P_da_est/manuale,P_da_est/carroponte_2,P_da_est/estrusore,V_per_park/estrusore',\n",
       "  'case:concept:name': 1},\n",
       " {'variant': 'V_da_pes/pesatura,V_da_pes/pesatura,P_da_misc/pesatura,P_da_misc/miscelatore,P_da_misc/miscelatore,P_recheck/miscelatore,P_recheck/pesatura,P_da_misc/pesatura,P_da_misc/miscelatore,P_da_est/miscelatore,P_da_est/cat_usc_pieni,P_da_est/nav_serv_carr_pieni,P_da_est/carroponte_1,P_da_est/buffer,P_da_est/estrusore,V_per_park/estrusore',\n",
       "  'case:concept:name': 1},\n",
       " {'variant': 'V_da_pes/pesatura,V_da_pes/pesatura,P_da_misc/pesatura,P_da_misc/miscelatore,P_da_misc/miscelatore,P_recheck/miscelatore,P_da_misc/miscelatore,P_da_est/miscelatore,P_da_est/nav_serv_carr_pieni,P_da_est/carroponte_1,P_da_est/estrusore,V_per_park/estrusore',\n",
       "  'case:concept:name': 1},\n",
       " {'variant': 'V_da_pes/pesatura,V_da_pes/pesatura,P_da_misc/pesatura,P_da_misc/miscelatore,P_da_misc/miscelatore,P_recheck/miscelatore,P_da_misc/miscelatore,P_da_est/miscelatore,P_da_est/cat_usc_pieni,P_da_est/nav_serv_carr_pieni,P_da_est/carroponte_1,P_da_est/estrusore,V_per_park/estrusore',\n",
       "  'case:concept:name': 1},\n",
       " {'variant': 'V_da_pes/pesatura,V_da_pes/pesatura,P_da_misc/pesatura,P_da_misc/miscelatore,P_da_est/miscelatore,P_da_est/nav_serv_carr_pieni,P_da_est/estrusore,V_per_park/estrusore',\n",
       "  'case:concept:name': 1},\n",
       " {'variant': 'V_da_pes/pesatura,V_da_pes/pesatura,P_da_est/estrusore,V_da_pes/pesatura,P_da_est/estrusore,V_per_park/carroponte_1,V_per_park/nav_serv_carr_pieni,V_per_park/catenaria_parcheggi,V_da_pes/pesatura,P_da_est/pesatura,P_da_est/cat_usc_pieni,P_da_est/nav_serv_carr_pieni,P_da_est/carroponte_1,P_da_est/estrusore,V_per_park/estrusore',\n",
       "  'case:concept:name': 1},\n",
       " {'variant': 'V_da_pes/pesatura,V_da_pes/catenaria_ing_misc,P_da_est/estrusore,V_da_pes/pesatura,P_da_est/estrusore,V_da_pes/pesatura,P_da_est/estrusore,V_da_pes/pesatura,P_da_est/buffer,P_da_est/estrusore,V_per_park/estrusore',\n",
       "  'case:concept:name': 1},\n",
       " {'variant': 'V_da_pes/pesatura,P_remove/pesatura,V_da_pes/pesatura,V_per_park/pesatura,V_da_pes/pesatura,P_da_misc/pesatura,P_da_misc/navetta_serv_misc,P_da_misc/miscelatore,P_da_est/miscelatore,P_da_est/nav_serv_carr_pieni,P_da_est/carroponte_1,P_da_est/estrusore,V_per_park/estrusore',\n",
       "  'case:concept:name': 1},\n",
       " {'variant': 'V_da_pes/pesatura,P_remove/pesatura,V_da_pes/pesatura,P_remove/miscelatore,V_per_park/cat_usc_pieni,V_per_park/nav_serv_carr_pieni,V_remove/catenaria_ing_misc,V_remove/miscelatore,Not_def/fuori_impianto,V_da_pes/pesatura,V_remove/pesatura,V_remove/navetta_serv_misc,Not_def/fuori_impianto,V_da_pes/pesatura,P_da_misc/pesatura,P_da_misc/miscelatore,P_da_est/miscelatore,P_da_est/cat_usc_pieni,P_da_est/nav_serv_carr_pieni,P_da_est/carroponte_1,P_da_est/estrusore,V_per_park/estrusore',\n",
       "  'case:concept:name': 1},\n",
       " {'variant': 'V_da_pes/pesatura,P_remove/pesatura,V_da_pes/pesatura,P_da_misc/pesatura,P_da_misc/navetta_serv_misc,P_da_misc/miscelatore,P_da_est/miscelatore,P_da_est/nav_serv_carr_pieni,P_da_est/carroponte_1,P_da_est/estrusore,V_per_park/estrusore',\n",
       "  'case:concept:name': 1},\n",
       " {'variant': 'V_da_pes/pesatura,P_remove/pesatura,V_da_pes/pesatura,P_da_misc/pesatura,P_da_misc/navetta_serv_misc,P_da_misc/miscelatore,P_da_est/miscelatore,P_da_est/cat_usc_pieni,P_da_est/nav_serv_carr_pieni,P_da_est/carroponte_1,P_da_est/estrusore,V_per_park/estrusore',\n",
       "  'case:concept:name': 1},\n",
       " {'variant': 'V_da_pes/pesatura,P_remove/pesatura,V_da_pes/pesatura,P_da_misc/pesatura,P_da_misc/miscelatore,P_da_est/miscelatore,P_da_est/nav_serv_carr_pieni,P_da_est/carroponte_1,P_da_est/estrusore,V_da_pes/estrusore',\n",
       "  'case:concept:name': 1},\n",
       " {'variant': 'V_da_pes/pesatura,P_remove/pesatura,P_per_park/pesatura,P_per_park/cat_usc_pieni,P_da_misc/miscelatore,P_da_est/miscelatore,P_da_est/cat_usc_pieni,P_da_est/nav_serv_carr_pieni,P_da_est/carroponte_1,P_da_est/estrusore,V_da_pes/estrusore',\n",
       "  'case:concept:name': 1},\n",
       " {'variant': 'V_da_pes/pesatura,P_remove/pesatura,P_da_misc/pesatura,P_da_misc/miscelatore,P_da_est/miscelatore,P_da_est/cat_usc_pieni,P_da_est/nav_serv_carr_pieni,P_da_est/carroponte_1,P_da_est/estrusore,V_per_park/estrusore',\n",
       "  'case:concept:name': 1},\n",
       " {'variant': 'V_da_pes/pesatura,P_remove/pesatura,P_da_misc/pesatura,P_da_misc/miscelatore,P_da_est/miscelatore,P_da_est/cat_usc_pieni,P_da_est/nav_serv_carr_pieni,P_da_est/carroponte_1,P_da_est/estrusore,V_da_pes/estrusore',\n",
       "  'case:concept:name': 1},\n",
       " {'variant': 'V_da_pes/pesatura,P_recheck/pesatura,P_da_misc/pesatura,V_da_pes/pesatura,P_da_misc/pesatura,P_da_misc/miscelatore,P_da_est/miscelatore,P_da_est/nav_serv_carr_pieni,P_da_est/carroponte_1,P_da_est/estrusore,V_per_park/estrusore',\n",
       "  'case:concept:name': 1},\n",
       " {'variant': 'V_da_pes/pesatura,P_recheck/pesatura,P_da_misc/pesatura,P_da_misc/navetta_serv_misc,P_da_misc/miscelatore,Not_def/fuori_impianto,P_da_est/manuale,P_da_est/carroponte_2,P_da_est/estrusore,V_per_park/estrusore',\n",
       "  'case:concept:name': 1},\n",
       " {'variant': 'V_da_pes/pesatura,P_per_park/pesatura,V_da_pes/pesatura,P_da_misc/pesatura,P_da_misc/miscelatore,P_da_est/miscelatore,P_da_est/nav_serv_carr_pieni,P_da_est/carroponte_1,P_da_est/estrusore,V_da_pes/estrusore',\n",
       "  'case:concept:name': 1},\n",
       " {'variant': 'V_da_pes/pesatura,P_per_park/pesatura,V_da_pes/pesatura,P_da_misc/pesatura,P_da_misc/miscelatore,P_da_est/miscelatore,P_da_est/cat_usc_pieni,P_da_est/nav_serv_carr_pieni,P_da_est/carroponte_1,P_da_est/buffer,P_da_est/carroponte_2,P_da_est/estrusore,V_per_park/estrusore',\n",
       "  'case:concept:name': 1},\n",
       " {'variant': 'V_da_pes/pesatura,P_per_park/pesatura,P_per_park/navetta_serv_misc,P_da_misc/nav_serv_carr_pieni,P_da_misc/miscelatore,P_da_est/miscelatore,P_da_est/cat_usc_pieni,P_da_est/nav_serv_carr_pieni,P_da_est/carroponte_1,P_da_est/estrusore,V_per_park/estrusore',\n",
       "  'case:concept:name': 1},\n",
       " {'variant': 'V_da_pes/pesatura,P_per_park/pesatura,P_per_park/nav_serv_carr_pieni,P_per_park/catenaria_parcheggi,P_recheck/pesatura,V_da_pes/pesatura,P_da_misc/pesatura,P_da_misc/miscelatore,P_da_est/miscelatore,P_per_park/cat_usc_pieni,P_per_park/nav_serv_carr_pieni,P_per_park/catenaria_parcheggi,P_da_est/nav_serv_carr_pieni,P_da_est/carroponte_1,P_da_est/estrusore,V_per_park/estrusore',\n",
       "  'case:concept:name': 1},\n",
       " {'variant': 'V_da_pes/pesatura,P_per_park/pesatura,P_per_park/nav_serv_carr_pieni,P_per_park/catenaria_parcheggi,P_per_park/catenaria_parcheggi,P_da_est/estrusore,V_per_park/estrusore',\n",
       "  'case:concept:name': 1},\n",
       " {'variant': 'V_da_pes/pesatura,P_per_park/pesatura,P_per_park/catenaria_parcheggi,P_da_est/estrusore,V_per_park/estrusore',\n",
       "  'case:concept:name': 1},\n",
       " {'variant': 'V_da_pes/pesatura,P_per_park/pesatura,P_per_park/cat_usc_pieni,P_per_park/nav_serv_carr_pieni,P_per_park/catenaria_parcheggi,P_recheck/pesatura,P_da_misc/pesatura,P_da_misc/miscelatore,P_da_est/miscelatore,P_da_est/cat_usc_pieni,P_da_est/nav_serv_carr_pieni,P_da_est/carroponte_1,P_da_est/estrusore,V_per_park/estrusore',\n",
       "  'case:concept:name': 1},\n",
       " {'variant': 'V_da_pes/pesatura,P_per_park/pesatura,P_per_park/cat_usc_pieni,P_per_park/nav_serv_carr_pieni,P_per_park/catenaria_parcheggi,P_da_misc/miscelatore,P_da_est/miscelatore,P_da_est/nav_serv_carr_pieni,P_da_est/carroponte_1,P_da_est/estrusore,V_per_park/estrusore',\n",
       "  'case:concept:name': 1},\n",
       " {'variant': 'V_da_pes/pesatura,P_per_park/pesatura,P_per_park/cat_usc_pieni,P_per_park/nav_serv_carr_pieni,P_per_park/catenaria_parcheggi,P_da_misc/catenaria_parcheggi,P_da_misc/catenaria_ing_misc,P_per_park/cat_usc_pieni,P_per_park/nav_serv_carr_pieni,P_da_misc/miscelatore,P_da_est/miscelatore,P_da_est/cat_usc_pieni,P_da_est/nav_serv_carr_pieni,P_da_est/carroponte_1,P_da_est/buffer,P_da_est/estrusore,V_per_park/estrusore',\n",
       "  'case:concept:name': 1},\n",
       " {'variant': 'V_da_pes/pesatura,P_per_park/pesatura,P_per_park/cat_usc_pieni,P_per_park/nav_serv_carr_pieni,P_per_park/catenaria_parcheggi,P_da_misc/catenaria_ing_misc,P_da_misc/miscelatore,P_da_est/cat_usc_pieni,P_da_est/nav_serv_carr_pieni,P_da_est/carroponte_1,P_da_est/estrusore,V_per_park/estrusore',\n",
       "  'case:concept:name': 1},\n",
       " {'variant': 'V_da_pes/pesatura,P_per_park/pesatura,P_da_misc/pesatura,P_da_misc/miscelatore,P_da_est/miscelatore,P_da_est/nav_serv_carr_pieni,P_da_est/carroponte_1,P_da_est/estrusore,V_per_park/estrusore',\n",
       "  'case:concept:name': 1},\n",
       " {'variant': 'V_da_pes/pesatura,P_per_park/pesatura,P_da_misc/miscelatore,P_da_est/miscelatore,P_da_est/nav_serv_carr_pieni,P_per_park/nav_serv_carr_pieni,P_per_park/carroponte_1,P_per_park/nav_serv_carr_pieni,P_per_park/catenaria_parcheggi,P_recheck/pesatura,P_da_misc/pesatura,P_da_misc/miscelatore,P_da_est/miscelatore,P_da_est/nav_serv_carr_pieni,P_da_est/carroponte_1,P_da_est/estrusore,V_per_park/estrusore',\n",
       "  'case:concept:name': 1},\n",
       " {'variant': 'V_da_pes/pesatura,P_per_park/navetta_serv_misc,P_per_park/cat_usc_pieni,P_per_park/nav_serv_carr_pieni,P_per_park/catenaria_parcheggi,P_recheck/pesatura,P_da_misc/pesatura,P_da_misc/miscelatore,P_da_est/nav_serv_carr_pieni,P_da_est/carroponte_1,P_da_est/estrusore,P_da_est/buffer,P_da_est/estrusore,V_per_park/estrusore',\n",
       "  'case:concept:name': 1},\n",
       " {'variant': 'V_da_pes/pesatura,P_per_park/cat_usc_pieni,P_per_park/nav_serv_carr_pieni,P_per_park/catenaria_parcheggi,P_recheck/catenaria_ing_misc,P_da_misc/pesatura,P_da_misc/miscelatore,P_da_est/miscelatore,P_da_est/nav_serv_carr_pieni,P_da_est/carroponte_1,P_da_est/estrusore,V_per_park/estrusore',\n",
       "  'case:concept:name': 1},\n",
       " {'variant': 'V_da_pes/pesatura,P_per_park/cat_usc_pieni,P_per_park/nav_serv_carr_pieni,P_per_park/catenaria_parcheggi,P_da_misc/catenaria_ing_misc,P_da_misc/miscelatore,P_da_est/miscelatore,P_da_est/nav_serv_carr_pieni,P_da_est/carroponte_1,P_da_est/estrusore,V_per_park/estrusore',\n",
       "  'case:concept:name': 1},\n",
       " {'variant': 'V_da_pes/pesatura,P_da_misc/pesatura,V_per_park/catenaria_parcheggi,V_da_pes/pesatura,P_da_misc/pesatura,P_da_misc/miscelatore,P_da_est/miscelatore,P_da_est/nav_serv_carr_pieni,P_da_est/carroponte_1,P_da_est/estrusore,V_per_park/estrusore',\n",
       "  'case:concept:name': 1},\n",
       " {'variant': 'V_da_pes/pesatura,P_da_misc/pesatura,P_per_park/pesatura,P_per_park/cat_usc_pieni,P_per_park/nav_serv_carr_pieni,P_per_park/catenaria_parcheggi,P_da_misc/miscelatore,P_da_est/miscelatore,P_da_est/nav_serv_carr_pieni,P_da_est/carroponte_1,P_da_est/estrusore,V_per_park/estrusore',\n",
       "  'case:concept:name': 1},\n",
       " {'variant': 'V_da_pes/pesatura,P_da_misc/pesatura,P_per_park/cat_usc_pieni,V_per_park/catenaria_parcheggi,V_per_park/catenaria_parcheggi,V_da_pes/pesatura,P_per_park/pesatura,P_per_park/cat_usc_pieni,P_per_park/catenaria_parcheggi,P_da_misc/miscelatore,P_da_est/miscelatore,P_da_est/nav_serv_carr_pieni,P_da_est/carroponte_1,P_da_est/estrusore,V_per_park/estrusore',\n",
       "  'case:concept:name': 1},\n",
       " {'variant': 'V_da_pes/pesatura,P_da_misc/pesatura,P_per_park/cat_usc_pieni,P_per_park/nav_serv_carr_pieni,P_per_park/catenaria_parcheggi,P_per_park/catenaria_parcheggi,P_da_misc/miscelatore,P_da_est/miscelatore,P_da_est/cat_usc_pieni,P_da_est/nav_serv_carr_pieni,P_da_est/carroponte_1,P_da_est/estrusore,V_per_park/estrusore',\n",
       "  'case:concept:name': 1},\n",
       " {'variant': 'V_da_pes/pesatura,P_da_misc/pesatura,P_da_misc/navetta_serv_misc,P_da_misc/miscelatore,P_remove/miscelatore,Not_def/fuori_impianto,V_da_pes/pesatura,P_da_misc/pesatura,P_da_misc/miscelatore,P_remove/miscelatore,Not_def/fuori_impianto,V_da_pes/miscelatore,V_da_pes/pesatura,P_da_misc/pesatura,P_da_misc/navetta_serv_misc,P_da_misc/miscelatore,P_per_park/miscelatore,P_per_park/cat_usc_pieni,P_per_park/nav_serv_carr_pieni,P_da_misc/miscelatore,P_remove/miscelatore,P_remove/miscelatore,Not_def/fuori_impianto,V_da_pes/miscelatore,V_da_pes/pesatura,P_da_misc/pesatura,P_da_misc/navetta_serv_misc,P_da_misc/miscelatore,P_remove/miscelatore,Not_def/fuori_impianto,V_da_pes/miscelatore,V_da_pes/pesatura,P_da_misc/pesatura,P_da_misc/navetta_serv_misc,P_da_misc/miscelatore,P_remove/miscelatore,Not_def/fuori_impianto,P_da_est/estrusore,V_per_park/estrusore',\n",
       "  'case:concept:name': 1},\n",
       " {'variant': 'V_da_pes/pesatura,P_da_misc/pesatura,P_da_misc/navetta_serv_misc,P_da_misc/miscelatore,P_per_park/cat_usc_pieni,P_per_park/nav_serv_carr_pieni,P_per_park/catenaria_parcheggi,P_da_est/cat_usc_pieni,P_da_est/nav_serv_carr_pieni,P_da_est/carroponte_1,P_da_est/estrusore,V_per_park/estrusore',\n",
       "  'case:concept:name': 1},\n",
       " {'variant': 'V_da_pes/pesatura,P_da_misc/pesatura,P_da_misc/navetta_serv_misc,P_da_misc/miscelatore,P_da_misc/miscelatore,P_da_misc/miscelatore,P_da_est/miscelatore,P_da_est/cat_usc_pieni,P_da_est/nav_serv_carr_pieni,P_da_est/carroponte_1,P_da_est/estrusore,V_per_park/estrusore',\n",
       "  'case:concept:name': 1},\n",
       " {'variant': 'V_da_pes/pesatura,P_da_misc/pesatura,P_da_misc/navetta_serv_misc,P_da_misc/miscelatore,P_da_est/miscelatore,P_da_est/nav_serv_carr_pieni,P_da_est/carroponte_1,P_da_est/buffer,P_da_est/estrusore,V_da_pes/estrusore',\n",
       "  'case:concept:name': 1},\n",
       " {'variant': 'V_da_pes/pesatura,P_da_misc/pesatura,P_da_misc/navetta_serv_misc,P_da_misc/miscelatore,P_da_est/miscelatore,P_da_est/nav_serv_carr_pieni,P_da_est/carroponte_1,P_da_est/buffer,P_da_est/carroponte_2,P_da_est/estrusore,V_per_park/estrusore',\n",
       "  'case:concept:name': 1},\n",
       " {'variant': 'V_da_pes/pesatura,P_da_misc/pesatura,P_da_misc/navetta_serv_misc,P_da_misc/miscelatore,P_da_est/miscelatore,P_da_est/cat_usc_pieni,P_da_est/nav_serv_carr_pieni,P_da_est/carroponte_1,P_da_est/estrusore,V_per_park/catenaria_parcheggi,V_da_pes/catenaria_ing_misc,V_da_pes/pesatura,P_da_misc/miscelatore,P_da_est/miscelatore,P_da_est/cat_usc_pieni,P_da_est/nav_serv_carr_pieni,P_da_est/carroponte_1,P_da_est/estrusore,V_per_park/estrusore',\n",
       "  'case:concept:name': 1},\n",
       " {'variant': 'V_da_pes/pesatura,P_da_misc/pesatura,P_da_misc/navetta_serv_misc,P_da_misc/miscelatore,P_da_est/miscelatore,P_da_est/cat_usc_pieni,P_da_est/nav_serv_carr_pieni,P_da_est/carroponte_1,P_da_est/estrusore,V_da_pes/estrusore',\n",
       "  'case:concept:name': 1},\n",
       " {'variant': 'V_da_pes/pesatura,P_da_misc/pesatura,P_da_misc/navetta_serv_misc,P_da_misc/miscelatore,P_da_est/miscelatore,P_da_est/cat_usc_pieni,P_da_est/nav_serv_carr_pieni,P_da_est/carroponte_1,P_da_est/buffer,P_da_est/estrusore,V_per_park/carroponte_1,V_per_park/catenaria_parcheggi,V_da_pes/catenaria_ing_misc,V_da_pes/pesatura,P_da_misc/pesatura,P_da_misc/miscelatore,P_da_est/nav_serv_carr_pieni,P_da_est/carroponte_1,P_da_est/buffer,P_da_est/estrusore,V_per_park/estrusore',\n",
       "  'case:concept:name': 1},\n",
       " {'variant': 'V_da_pes/pesatura,P_da_misc/pesatura,P_da_misc/navetta_serv_misc,P_da_misc/miscelatore,P_da_est/miscelatore,P_da_est/carroponte_1,P_da_est/estrusore,V_per_park/estrusore',\n",
       "  'case:concept:name': 1},\n",
       " {'variant': 'V_da_pes/pesatura,P_da_misc/pesatura,P_da_misc/navetta_serv_misc,P_da_misc/miscelatore,P_da_est/cat_usc_pieni,P_da_est/nav_serv_carr_pieni,P_da_est/carroponte_1,P_da_est/estrusore,V_da_pes/estrusore',\n",
       "  'case:concept:name': 1},\n",
       " {'variant': 'V_da_pes/pesatura,P_da_misc/pesatura,P_da_misc/navetta_serv_misc,P_da_misc/miscelatore,P_da_est/cat_usc_pieni,P_da_est/nav_serv_carr_pieni,P_da_est/carroponte_1,P_da_est/buffer,P_da_est/estrusore,V_per_park/estrusore',\n",
       "  'case:concept:name': 1},\n",
       " {'variant': 'V_da_pes/pesatura,P_da_misc/pesatura,P_da_misc/navetta_serv_misc,P_da_misc/miscelatore,P_da_est/cat_usc_pieni,P_da_est/nav_serv_carr_pieni,P_da_est/carroponte_1,P_da_est/buffer,P_da_est/estrusore,P_da_est/buffer,P_da_est/estrusore,V_per_park/estrusore',\n",
       "  'case:concept:name': 1},\n",
       " {'variant': 'V_da_pes/pesatura,P_da_misc/pesatura,P_da_misc/miscelatore,P_remove/navetta_serv_misc,P_remove/miscelatore,Not_def/fuori_impianto,P_da_est/manuale,P_da_est/carroponte_2,P_da_est/estrusore,V_per_park/estrusore',\n",
       "  'case:concept:name': 1},\n",
       " {'variant': 'V_da_pes/pesatura,P_da_misc/pesatura,P_da_misc/miscelatore,P_remove/miscelatore,P_remove/miscelatore,Not_def/fuori_impianto,P_da_est/manuale,P_da_est/carroponte_2,P_da_est/estrusore,V_per_park/estrusore',\n",
       "  'case:concept:name': 1},\n",
       " {'variant': 'V_da_pes/pesatura,P_da_misc/pesatura,P_da_misc/miscelatore,P_remove/miscelatore,P_remove/ing_zona_misc,Not_def/fuori_impianto,P_da_est/manuale,P_da_est/carroponte_2,P_da_est/estrusore,V_per_park/estrusore',\n",
       "  'case:concept:name': 1},\n",
       " {'variant': 'V_da_pes/pesatura,P_da_misc/pesatura,P_da_misc/miscelatore,P_remove/miscelatore,P_recheck/pesatura,P_da_est/pesatura,P_da_est/cat_usc_pieni,P_da_est/nav_serv_carr_pieni,P_da_est/carroponte_1,P_da_est/estrusore,V_per_park/estrusore',\n",
       "  'case:concept:name': 1},\n",
       " {'variant': 'V_da_pes/pesatura,P_da_misc/pesatura,P_da_misc/miscelatore,P_remove/miscelatore,P_da_est/cat_usc_pieni,P_da_est/nav_serv_carr_pieni,P_da_est/carroponte_1,P_da_est/estrusore,V_per_park/estrusore',\n",
       "  'case:concept:name': 1},\n",
       " {'variant': 'V_da_pes/pesatura,P_da_misc/pesatura,P_da_misc/miscelatore,P_remove/miscelatore,Not_def/fuori_impianto,V_da_pes/pesatura,P_da_misc/pesatura,P_da_misc/miscelatore,P_remove/miscelatore,Not_def/fuori_impianto,V_da_pes/pesatura,P_da_misc/pesatura,P_da_misc/navetta_serv_misc,P_da_misc/miscelatore,P_remove/miscelatore,Not_def/fuori_impianto,V_da_pes/miscelatore,V_da_pes/pesatura,P_da_misc/pesatura,P_da_misc/miscelatore,P_remove/miscelatore,Not_def/fuori_impianto,V_da_pes/pesatura,P_da_misc/pesatura,P_da_misc/miscelatore,P_remove/miscelatore,Not_def/fuori_impianto,V_da_pes/miscelatore,V_da_pes/pesatura,P_da_misc/pesatura,P_da_misc/navetta_serv_misc,P_da_misc/miscelatore,P_remove/miscelatore,Not_def/fuori_impianto,V_da_pes/miscelatore,V_da_pes/pesatura,P_da_misc/pesatura,P_da_misc/miscelatore,P_remove/miscelatore,Not_def/fuori_impianto,V_da_pes/pesatura,P_da_misc/pesatura,P_da_misc/miscelatore,P_remove/miscelatore,Not_def/fuori_impianto,V_da_pes/miscelatore,V_da_pes/pesatura,P_da_misc/pesatura,P_da_misc/miscelatore,P_remove/miscelatore,Not_def/fuori_impianto,V_da_pes/miscelatore,V_da_pes/pesatura,P_da_misc/pesatura,P_da_misc/navetta_serv_misc,P_da_misc/miscelatore,P_remove/miscelatore,Not_def/fuori_impianto,V_da_pes/miscelatore,V_da_pes/pesatura,P_da_misc/pesatura,P_da_misc/miscelatore,P_remove/miscelatore,P_remove/miscelatore,P_remove/ing_zona_misc,Not_def/fuori_impianto,V_da_pes/ing_zona_misc,Not_def/fuori_impianto,V_da_pes/miscelatore,V_da_pes/pesatura,P_da_misc/pesatura,P_da_misc/miscelatore,P_remove/miscelatore,Not_def/fuori_impianto,V_da_pes/pesatura,P_da_misc/pesatura,P_da_misc/miscelatore,P_remove/miscelatore,P_remove/ing_zona_misc,Not_def/fuori_impianto,V_da_pes/pesatura,P_da_misc/pesatura,P_da_misc/miscelatore,P_remove/miscelatore,Not_def/fuori_impianto,V_da_pes/navetta_serv_misc,V_da_pes/pesatura,P_da_misc/pesatura,P_da_misc/miscelatore,P_remove/miscelatore,Not_def/fuori_impianto,V_da_pes/ing_zona_misc,V_da_pes/miscelatore,Not_def/fuori_impianto,V_da_pes/pesatura,P_da_misc/pesatura,P_da_misc/miscelatore,P_remove/miscelatore,Not_def/fuori_impianto,P_da_est/manuale,P_da_est/carroponte_2,P_da_est/estrusore,V_per_park/estrusore',\n",
       "  'case:concept:name': 1},\n",
       " {'variant': 'V_da_pes/pesatura,P_da_misc/pesatura,P_da_misc/miscelatore,P_remove/miscelatore,Not_def/fuori_impianto,P_da_est/manuale,P_da_est/carroponte_2,P_da_est/estrusore,V_per_park/carroponte_2,V_per_park/manuale,V_da_pes/pesatura,P_da_misc/pesatura,P_da_misc/miscelatore,P_remove/miscelatore,Not_def/fuori_impianto,P_da_est/manuale,P_da_est/carroponte_2,P_da_est/estrusore,V_per_park/estrusore',\n",
       "  'case:concept:name': 1},\n",
       " {'variant': 'V_da_pes/pesatura,P_da_misc/pesatura,P_da_misc/miscelatore,P_remove/miscelatore,Not_def/fuori_impianto,P_da_est/manuale,P_da_est/carroponte_2,P_da_est/estrusore,V_per_park/carroponte_2,V_per_park/manuale,Not_def/fuori_impianto,V_da_pes/pesatura,P_da_misc/pesatura,P_per_park/nav_serv_carr_pieni,P_per_park/catenaria_parcheggi,P_da_misc/catenaria_ing_misc,P_da_misc/miscelatore,P_da_est/miscelatore,P_da_est/cat_usc_pieni,P_da_est/nav_serv_carr_pieni,P_da_est/carroponte_1,P_da_est/estrusore,V_per_park/estrusore',\n",
       "  'case:concept:name': 1},\n",
       " {'variant': 'V_da_pes/pesatura,P_da_misc/pesatura,P_da_misc/miscelatore,P_remove/miscelatore,Not_def/fuori_impianto,P_da_est/manuale,P_da_est/carroponte_2,P_da_est/estrusore,V_per_park/carroponte_2,V_per_park/manuale,Not_def/fuori_impianto,V_da_pes/pesatura,P_da_misc/pesatura,P_da_misc/miscelatore,P_remove/miscelatore,P_remove/miscelatore,Not_def/fuori_impianto,P_da_est/manuale,P_da_est/carroponte_2,P_da_est/estrusore,V_per_park/estrusore',\n",
       "  'case:concept:name': 1},\n",
       " {'variant': 'V_da_pes/pesatura,P_da_misc/pesatura,P_da_misc/miscelatore,P_remove/miscelatore,Not_def/fuori_impianto,P_da_est/manuale,P_da_est/carroponte_2,P_da_est/estrusore,V_per_park/carroponte_2,V_per_park/manuale,Not_def/fuori_impianto,V_da_pes/pesatura,P_da_misc/pesatura,P_da_misc/miscelatore,P_remove/miscelatore,Not_def/fuori_impianto,P_da_est/manuale,P_da_est/carroponte_2,P_da_est/estrusore,V_per_park/estrusore',\n",
       "  'case:concept:name': 1},\n",
       " {'variant': 'V_da_pes/pesatura,P_da_misc/pesatura,P_da_misc/miscelatore,P_remove/miscelatore,Not_def/fuori_impianto,P_da_est/manuale,P_da_est/carroponte_2,P_da_est/estrusore,V_per_park/carroponte_2,V_per_park/manuale,Not_def/fuori_impianto,V_da_pes/miscelatore,V_da_pes/pesatura,P_da_misc/pesatura,P_da_misc/miscelatore,P_remove/miscelatore,P_remove/miscelatore,Not_def/fuori_impianto,P_da_est/manuale,P_da_est/carroponte_2,P_da_est/estrusore,V_per_park/estrusore',\n",
       "  'case:concept:name': 1},\n",
       " {'variant': 'V_da_pes/pesatura,P_da_misc/pesatura,P_da_misc/miscelatore,P_remove/miscelatore,Not_def/fuori_impianto,P_da_est/manuale,P_da_est/carroponte_2,P_da_est/estrusore,V_per_park/carroponte_2,V_per_park/manuale,Not_def/fuori_impianto,V_da_pes/miscelatore,V_da_pes/pesatura,P_da_misc/pesatura,P_da_misc/miscelatore,P_remove/miscelatore,Not_def/fuori_impianto,P_da_est/manuale,P_da_est/carroponte_2,P_da_est/estrusore,V_per_park/estrusore',\n",
       "  'case:concept:name': 1},\n",
       " {'variant': 'V_da_pes/pesatura,P_da_misc/pesatura,P_da_misc/miscelatore,P_remove/miscelatore,Not_def/fuori_impianto,P_da_est/manuale,P_da_est/carroponte_2,P_da_est/estrusore,V_per_park/carroponte_2,V_per_park/manuale,Not_def/fuori_impianto,V_da_pes/miscelatore,V_da_pes/pesatura,P_da_misc/pesatura,P_da_misc/miscelatore,P_remove/miscelatore,Not_def/fuori_impianto,P_da_est/manuale,P_da_est/carroponte_2,P_da_est/estrusore,P_remove/miscelatore,Not_def/fuori_impianto,P_da_est/manuale,P_da_est/carroponte_2,P_da_est/estrusore,V_per_park/estrusore',\n",
       "  'case:concept:name': 1},\n",
       " {'variant': 'V_da_pes/pesatura,P_da_misc/pesatura,P_da_misc/miscelatore,P_remove/miscelatore,Not_def/fuori_impianto,P_da_est/manuale,P_da_est/carroponte_2,P_da_est/estrusore,V_per_park/carroponte_2,Not_def/fuori_impianto,V_da_pes/pesatura,P_da_misc/pesatura,P_da_misc/miscelatore,P_remove/miscelatore,Not_def/fuori_impianto,P_da_est/manuale,P_da_est/carroponte_2,P_da_est/estrusore,V_per_park/estrusore',\n",
       "  'case:concept:name': 1},\n",
       " {'variant': 'V_da_pes/pesatura,P_da_misc/pesatura,P_da_misc/miscelatore,P_remove/miscelatore,Not_def/fuori_impianto,P_da_est/manuale,P_da_est/carroponte_2,P_da_est/estrusore,V_da_pes/carroponte_2,V_da_pes/manuale,Not_def/fuori_impianto,V_da_pes/miscelatore,V_da_pes/pesatura,Not_def/fuori_impianto,P_da_est/manuale,P_da_est/carroponte_2,P_da_est/estrusore,V_per_park/estrusore',\n",
       "  'case:concept:name': 1},\n",
       " {'variant': 'V_da_pes/pesatura,P_da_misc/pesatura,P_da_misc/miscelatore,P_remove/miscelatore,Not_def/fuori_impianto,P_da_est/carroponte_2,P_da_est/estrusore,V_per_park/estrusore',\n",
       "  'case:concept:name': 1},\n",
       " {'variant': 'V_da_pes/pesatura,P_da_misc/pesatura,P_da_misc/miscelatore,P_remove/miscelatore,Not_def/fuori_impianto,P_da_est/carroponte_2,P_da_est/estrusore,V_per_park/carroponte_2,V_per_park/manuale,Not_def/fuori_impianto,V_da_pes/miscelatore,Not_def/fuori_impianto,V_da_pes/miscelatore,V_da_pes/pesatura,P_da_misc/pesatura,P_da_misc/miscelatore,P_remove/miscelatore,Not_def/fuori_impianto,P_da_est/manuale,P_da_est/carroponte_2,P_da_est/estrusore,V_per_park/estrusore',\n",
       "  'case:concept:name': 1},\n",
       " {'variant': 'V_da_pes/pesatura,P_da_misc/pesatura,P_da_misc/miscelatore,P_remove/miscelatore,Not_def/fuori_impianto,P_da_est/carroponte_2,P_da_est/estrusore,V_per_park/carroponte_2,Not_def/fuori_impianto,V_da_pes/pesatura,P_da_misc/pesatura,P_da_misc/miscelatore,P_remove/miscelatore,P_remove/miscelatore,Not_def/fuori_impianto,P_da_est/manuale,P_da_est/carroponte_2,P_da_est/estrusore,V_per_park/estrusore',\n",
       "  'case:concept:name': 1},\n",
       " {'variant': 'V_da_pes/pesatura,P_da_misc/pesatura,P_da_misc/miscelatore,P_remove/miscelatore,Not_def/fuori_impianto,Not_def/fuori_impianto,P_da_est/estrusore,V_da_pes/pesatura,Not_def/fuori_impianto,P_da_est/estrusore,V_per_park/carroponte_2,Not_def/fuori_impianto,P_da_est/estrusore,V_da_pes/pesatura,Not_def/fuori_impianto,P_da_est/estrusore,Not_def/fuori_impianto,P_da_est/estrusore,V_da_pes/pesatura,Not_def/fuori_impianto,P_da_est/estrusore,Not_def/fuori_impianto,Not_def/fuori_impianto,P_da_est/estrusore,V_da_pes/pesatura,P_remove/miscelatore,P_da_est/estrusore,Not_def/fuori_impianto,P_da_est/estrusore,V_da_pes/miscelatore,V_da_pes/pesatura,P_da_est/estrusore,V_da_pes/pesatura,P_remove/miscelatore,Not_def/fuori_impianto,P_da_est/estrusore,V_per_park/carroponte_2,Not_def/fuori_impianto,P_da_est/estrusore,V_per_park/carroponte_2,P_remove/miscelatore,P_da_est/estrusore,Not_def/fuori_impianto,P_da_est/estrusore,Not_def/fuori_impianto,P_da_est/estrusore,V_per_park/carroponte_2,V_da_pes/pesatura,P_remove/miscelatore,Not_def/fuori_impianto,P_da_est/estrusore,Not_def/fuori_impianto,P_da_est/estrusore,Not_def/fuori_impianto,P_da_est/estrusore,Not_def/fuori_impianto,P_da_est/estrusore,P_remove/miscelatore,Not_def/fuori_impianto,P_da_est/estrusore,V_per_park/estrusore',\n",
       "  'case:concept:name': 1},\n",
       " {'variant': 'V_da_pes/pesatura,P_da_misc/pesatura,P_da_misc/miscelatore,P_recheck/pesatura,P_da_misc/pesatura,P_da_misc/miscelatore,P_da_est/miscelatore,P_da_est/cat_usc_pieni,P_da_est/nav_serv_carr_pieni,P_da_est/carroponte_1,P_da_est/estrusore,V_per_park/estrusore',\n",
       "  'case:concept:name': 1},\n",
       " {'variant': 'V_da_pes/pesatura,P_da_misc/pesatura,P_da_misc/miscelatore,P_recheck/miscelatore,P_recheck/pesatura,V_da_pes/pesatura,P_da_misc/pesatura,P_da_misc/miscelatore,P_da_est/miscelatore,P_da_est/cat_usc_pieni,P_da_est/nav_serv_carr_pieni,P_da_est/carroponte_1,P_da_est/estrusore,V_per_park/estrusore',\n",
       "  'case:concept:name': 1},\n",
       " {'variant': 'V_da_pes/pesatura,P_da_misc/pesatura,P_da_misc/miscelatore,P_recheck/miscelatore,P_recheck/pesatura,P_da_misc/pesatura,P_da_misc/miscelatore,P_da_misc/miscelatore,P_da_est/miscelatore,P_da_est/nav_serv_carr_pieni,P_da_est/carroponte_1,P_da_est/estrusore,V_per_park/estrusore',\n",
       "  'case:concept:name': 1},\n",
       " {'variant': 'V_da_pes/pesatura,P_da_misc/pesatura,P_da_misc/miscelatore,P_recheck/miscelatore,P_recheck/pesatura,P_da_misc/pesatura,P_da_misc/miscelatore,P_da_est/nav_serv_carr_pieni,P_da_est/carroponte_1,P_da_est/estrusore,V_per_park/estrusore',\n",
       "  'case:concept:name': 1},\n",
       " {'variant': 'V_da_pes/pesatura,P_da_misc/pesatura,P_da_misc/miscelatore,P_recheck/miscelatore,P_recheck/pesatura,P_da_misc/pesatura,P_da_misc/miscelatore,P_da_est/miscelatore,P_da_est/nav_serv_carr_pieni,P_da_est/carroponte_1,P_da_est/estrusore,V_per_park/estrusore',\n",
       "  'case:concept:name': 1},\n",
       " {'variant': 'V_da_pes/pesatura,P_da_misc/pesatura,P_da_misc/miscelatore,P_recheck/miscelatore,P_recheck/pesatura,P_da_misc/pesatura,P_da_misc/miscelatore,P_da_est/miscelatore,P_da_est/nav_serv_carr_pieni,P_da_est/carroponte_1,P_da_est/estrusore,V_da_pes/estrusore',\n",
       "  'case:concept:name': 1},\n",
       " {'variant': 'V_da_pes/pesatura,P_da_misc/pesatura,P_da_misc/miscelatore,P_recheck/miscelatore,P_recheck/pesatura,P_da_misc/pesatura,P_da_misc/miscelatore,P_da_est/miscelatore,P_da_est/cat_usc_pieni,P_da_est/nav_serv_carr_pieni,P_da_est/carroponte_1,P_da_est/estrusore,V_per_park/estrusore',\n",
       "  'case:concept:name': 1},\n",
       " {'variant': 'V_da_pes/pesatura,P_da_misc/pesatura,P_da_misc/miscelatore,P_recheck/miscelatore,P_recheck/pesatura,P_da_misc/pesatura,P_da_misc/miscelatore,P_da_est/miscelatore,P_da_est/cat_usc_pieni,P_da_est/nav_serv_carr_pieni,P_da_est/carroponte_1,P_da_est/estrusore,V_per_park/catenaria_parcheggi,V_da_pes/pesatura,V_da_pes/pesatura,P_da_misc/pesatura,P_da_misc/miscelatore,P_da_est/miscelatore,P_da_est/cat_usc_pieni,P_da_est/nav_serv_carr_pieni,P_da_est/carroponte_1,P_da_est/estrusore,V_per_park/estrusore',\n",
       "  'case:concept:name': 1},\n",
       " {'variant': 'V_da_pes/pesatura,P_da_misc/pesatura,P_da_misc/miscelatore,P_recheck/miscelatore,P_da_misc/miscelatore,P_da_est/miscelatore,P_da_est/nav_serv_carr_pieni,P_da_est/carroponte_1,P_da_est/estrusore,V_per_park/estrusore',\n",
       "  'case:concept:name': 1},\n",
       " {'variant': 'V_da_pes/pesatura,P_da_misc/pesatura,P_da_misc/miscelatore,P_recheck/miscelatore,P_da_est/nav_serv_carr_pieni,P_da_est/carroponte_1,P_da_est/estrusore,V_per_park/estrusore',\n",
       "  'case:concept:name': 1},\n",
       " {'variant': 'V_da_pes/pesatura,P_da_misc/pesatura,P_da_misc/miscelatore,P_recheck/miscelatore,P_da_est/cat_usc_pieni,P_da_est/nav_serv_carr_pieni,P_da_est/carroponte_1,V_per_park/estrusore',\n",
       "  'case:concept:name': 1},\n",
       " {'variant': 'V_da_pes/pesatura,P_da_misc/pesatura,P_da_misc/miscelatore,P_recheck/miscelatore,P_da_est/cat_usc_pieni,P_da_est/nav_serv_carr_pieni,P_da_est/carroponte_1,P_da_est/estrusore,V_per_park/estrusore',\n",
       "  'case:concept:name': 1},\n",
       " {'variant': 'V_da_pes/pesatura,P_da_misc/pesatura,P_da_misc/miscelatore,P_per_park/nav_serv_carr_pieni,P_per_park/catenaria_parcheggi,P_da_est/catenaria_parcheggi,P_da_est/catenaria_ing_misc,P_da_est/cat_usc_pieni,P_da_est/nav_serv_carr_pieni,P_da_est/carroponte_1,P_da_est/buffer,P_da_est/estrusore,V_per_park/estrusore',\n",
       "  'case:concept:name': 1},\n",
       " {'variant': 'V_da_pes/pesatura,P_da_misc/pesatura,P_da_misc/miscelatore,P_per_park/miscelatore,P_per_park/nav_serv_carr_pieni,P_per_park/catenaria_parcheggi,P_per_park/catenaria_parcheggi,P_da_est/nav_serv_carr_pieni,P_da_est/carroponte_1,P_da_est/estrusore,V_per_park/estrusore',\n",
       "  'case:concept:name': 1},\n",
       " {'variant': 'V_da_pes/pesatura,P_da_misc/pesatura,P_da_misc/miscelatore,P_per_park/miscelatore,P_per_park/nav_serv_carr_pieni,P_per_park/catenaria_parcheggi,P_per_park/catenaria_parcheggi,P_da_est/catenaria_ing_misc,P_da_est/cat_usc_pieni,P_da_est/nav_serv_carr_pieni,P_da_est/carroponte_1,P_da_est/estrusore,V_per_park/estrusore',\n",
       "  'case:concept:name': 1},\n",
       " {'variant': 'V_da_pes/pesatura,P_da_misc/pesatura,P_da_misc/miscelatore,P_per_park/miscelatore,P_per_park/cat_usc_pieni,P_per_park/nav_serv_carr_pieni,P_per_park/catenaria_parcheggi,P_recheck/pesatura,P_da_misc/pesatura,P_da_misc/miscelatore,P_da_est/miscelatore,P_da_est/cat_usc_pieni,P_da_est/nav_serv_carr_pieni,P_da_est/carroponte_1,P_da_est/estrusore,V_per_park/estrusore',\n",
       "  'case:concept:name': 1},\n",
       " {'variant': 'V_da_pes/pesatura,P_da_misc/pesatura,P_da_misc/miscelatore,P_per_park/miscelatore,P_per_park/cat_usc_pieni,P_per_park/nav_serv_carr_pieni,P_per_park/catenaria_parcheggi,P_recheck/pesatura,P_da_est/pesatura,P_da_est/nav_serv_carr_pieni,P_da_est/carroponte_1,P_da_est/estrusore,V_da_pes/estrusore',\n",
       "  'case:concept:name': 1},\n",
       " {'variant': 'V_da_pes/pesatura,P_da_misc/pesatura,P_da_misc/miscelatore,P_per_park/miscelatore,P_per_park/cat_usc_pieni,P_per_park/catenaria_parcheggi,P_da_est/nav_serv_carr_pieni,P_da_est/carroponte_1,P_da_est/estrusore,P_per_park/estrusore,P_per_park/carroponte_1,P_per_park/nav_serv_carr_pieni,V_da_pes/pesatura,P_da_misc/pesatura,P_da_misc/miscelatore,P_da_est/miscelatore,P_da_est/nav_serv_carr_pieni,P_da_est/carroponte_1,P_da_est/estrusore,P_per_park/estrusore,P_per_park/carroponte_1,P_per_park/catenaria_parcheggi,P_recheck/catenaria_ing_misc,P_recheck/navetta_serv_misc,P_recheck/pesatura,P_da_misc/pesatura,P_da_misc/miscelatore,P_per_park/cat_usc_pieni,P_per_park/nav_serv_carr_pieni,P_per_park/catenaria_parcheggi,P_da_est/nav_serv_carr_pieni,P_da_est/carroponte_1,P_da_est/estrusore,V_per_park/estrusore',\n",
       "  'case:concept:name': 1},\n",
       " {'variant': 'V_da_pes/pesatura,P_da_misc/pesatura,P_da_misc/miscelatore,P_per_park/miscelatore,P_per_park/cat_usc_pieni,P_da_est/nav_serv_carr_pieni,P_da_est/carroponte_1,P_da_est/estrusore,V_per_park/estrusore',\n",
       "  'case:concept:name': 1},\n",
       " {'variant': 'V_da_pes/pesatura,P_da_misc/pesatura,P_da_misc/miscelatore,P_per_park/miscelatore,P_per_park/cat_usc_pieni,P_da_est/catenaria_parcheggi,P_da_est/cat_usc_pieni,P_da_est/nav_serv_carr_pieni,P_da_est/carroponte_1,P_da_est/buffer,P_da_est/estrusore,V_per_park/estrusore',\n",
       "  'case:concept:name': 1},\n",
       " {'variant': 'V_da_pes/pesatura,P_da_misc/pesatura,P_da_misc/miscelatore,P_per_park/miscelatore,P_da_misc/miscelatore,P_da_misc/miscelatore,P_da_est/miscelatore,P_da_est/nav_serv_carr_pieni,P_da_est/carroponte_1,P_da_est/estrusore,V_per_park/estrusore',\n",
       "  'case:concept:name': 1},\n",
       " {'variant': 'V_da_pes/pesatura,P_da_misc/pesatura,P_da_misc/miscelatore,P_per_park/miscelatore,P_da_misc/miscelatore,P_da_est/miscelatore,P_da_est/nav_serv_carr_pieni,P_da_est/carroponte_1,P_da_est/estrusore,V_per_park/estrusore',\n",
       "  'case:concept:name': 1},\n",
       " {'variant': 'V_da_pes/pesatura,P_da_misc/pesatura,P_da_misc/miscelatore,P_da_misc/navetta_serv_misc,P_da_misc/miscelatore,P_da_est/miscelatore,P_da_est/cat_usc_pieni,P_da_est/nav_serv_carr_pieni,P_da_est/carroponte_1,P_da_est/estrusore,V_per_park/estrusore',\n",
       "  'case:concept:name': 1},\n",
       " {'variant': 'V_da_pes/pesatura,P_da_misc/pesatura,P_da_misc/miscelatore,P_da_misc/miscelatore,P_da_est/miscelatore,P_da_est/nav_serv_carr_pieni,P_da_est/carroponte_1,P_da_est/buffer,P_da_est/estrusore,V_per_park/estrusore',\n",
       "  'case:concept:name': 1},\n",
       " {'variant': 'V_da_pes/pesatura,P_da_misc/pesatura,P_da_misc/miscelatore,P_da_est/nav_serv_carr_pieni,P_da_est/carroponte_1,P_da_est/estrusore,V_da_pes/estrusore',\n",
       "  'case:concept:name': 1},\n",
       " {'variant': 'V_da_pes/pesatura,P_da_misc/pesatura,P_da_misc/miscelatore,P_da_est/nav_serv_carr_pieni,P_da_est/carroponte_1,P_da_est/buffer,V_da_pes/buffer,V_da_pes/carroponte_1,V_da_pes/nav_serv_carr_vuoti,V_da_pes/pesatura,P_da_est/pesatura,P_per_park/cat_usc_pieni,P_per_park/nav_serv_carr_pieni,P_per_park/catenaria_parcheggi,P_recheck/pesatura,P_da_misc/pesatura,P_da_misc/miscelatore,P_da_est/miscelatore,P_da_est/nav_serv_carr_pieni,P_da_est/carroponte_1,P_da_est/estrusore,V_per_park/estrusore',\n",
       "  'case:concept:name': 1},\n",
       " {'variant': 'V_da_pes/pesatura,P_da_misc/pesatura,P_da_misc/miscelatore,P_da_est/nav_serv_carr_pieni,P_da_est/carroponte_1,P_da_est/buffer,P_da_est/estrusore,V_da_pes/estrusore',\n",
       "  'case:concept:name': 1},\n",
       " {'variant': 'V_da_pes/pesatura,P_da_misc/pesatura,P_da_misc/miscelatore,P_da_est/nav_serv_carr_pieni,P_da_est/carroponte_1,P_da_est/buffer,P_da_est/carroponte_2,P_da_est/estrusore,V_per_park/estrusore',\n",
       "  'case:concept:name': 1},\n",
       " {'variant': 'V_da_pes/pesatura,P_da_misc/pesatura,P_da_misc/miscelatore,P_da_est/nav_serv_carr_pieni,P_da_est/carroponte_1,P_da_est/buffer,P_da_est/carroponte_1,P_da_est/estrusore,V_per_park/estrusore',\n",
       "  'case:concept:name': 1},\n",
       " {'variant': 'V_da_pes/pesatura,P_da_misc/pesatura,P_da_misc/miscelatore,P_da_est/miscelatore,V_da_pes/navetta_serv_misc,P_per_park/cat_usc_pieni,P_per_park/nav_serv_carr_pieni,P_per_park/cat_usc_pieni,P_per_park/catenaria_parcheggi,P_da_est/catenaria_parcheggi,P_da_est/catenaria_ing_misc,P_da_est/cat_usc_pieni,P_da_est/nav_serv_carr_pieni,P_da_est/carroponte_1,P_da_est/buffer,P_da_est/estrusore,V_da_pes/estrusore',\n",
       "  'case:concept:name': 1},\n",
       " {'variant': 'V_da_pes/pesatura,P_da_misc/pesatura,P_da_misc/miscelatore,P_da_est/miscelatore,P_recheck/pesatura,P_da_misc/miscelatore,P_da_est/miscelatore,P_da_est/nav_serv_carr_pieni,P_da_est/carroponte_1,V_da_pes/carroponte_1,V_da_pes/nav_serv_carr_vuoti,V_da_pes/nav_serv_carr_pieni,V_da_pes/pesatura,P_remove/pesatura,P_da_misc/pesatura,P_da_misc/navetta_serv_misc,P_da_misc/miscelatore,P_per_park/cat_usc_pieni,P_per_park/nav_serv_carr_pieni,P_per_park/catenaria_parcheggi,P_da_est/cat_usc_pieni,P_da_est/nav_serv_carr_pieni,P_da_est/carroponte_1,P_da_est/estrusore,V_per_park/estrusore',\n",
       "  'case:concept:name': 1},\n",
       " {'variant': 'V_da_pes/pesatura,P_da_misc/pesatura,P_da_misc/miscelatore,P_da_est/miscelatore,P_per_park/nav_serv_carr_pieni,P_per_park/catenaria_parcheggi,P_recheck/pesatura,P_da_misc/pesatura,P_da_misc/miscelatore,P_da_est/miscelatore,P_da_est/nav_serv_carr_pieni,P_da_est/carroponte_1,P_da_est/estrusore,V_per_park/estrusore',\n",
       "  'case:concept:name': 1},\n",
       " {'variant': 'V_da_pes/pesatura,P_da_misc/pesatura,P_da_misc/miscelatore,P_da_est/miscelatore,P_per_park/nav_serv_carr_pieni,P_per_park/catenaria_parcheggi,P_recheck/catenaria_ing_misc,P_recheck/pesatura,V_per_park/pesatura,V_da_pes/pesatura,P_da_misc/pesatura,P_da_misc/miscelatore,P_da_est/miscelatore,P_per_park/cat_usc_pieni,P_per_park/nav_serv_carr_pieni,P_per_park/catenaria_parcheggi,P_da_est/catenaria_ing_misc,P_da_est/nav_serv_carr_pieni,P_da_est/carroponte_1,P_da_est/estrusore,V_per_park/carroponte_1,V_per_park/nav_serv_carr_pieni,V_per_park/catenaria_parcheggi,V_da_pes/pesatura,P_da_misc/pesatura,P_da_misc/miscelatore,P_da_est/miscelatore,P_da_est/nav_serv_carr_pieni,P_da_est/carroponte_1,P_da_est/estrusore,V_per_park/estrusore',\n",
       "  'case:concept:name': 1},\n",
       " {'variant': 'V_da_pes/pesatura,P_da_misc/pesatura,P_da_misc/miscelatore,P_da_est/miscelatore,P_per_park/catenaria_parcheggi,P_da_est/buffer,P_da_est/estrusore,V_per_park/estrusore',\n",
       "  'case:concept:name': 1},\n",
       " {'variant': 'V_da_pes/pesatura,P_da_misc/pesatura,P_da_misc/miscelatore,P_da_est/miscelatore,P_per_park/cat_usc_pieni,P_per_park/nav_serv_carr_pieni,P_da_est/cat_usc_pieni,P_da_est/nav_serv_carr_pieni,P_da_est/carroponte_1,P_da_est/estrusore,V_per_park/estrusore',\n",
       "  'case:concept:name': 1},\n",
       " {'variant': 'V_da_pes/pesatura,P_da_misc/pesatura,P_da_misc/miscelatore,P_da_est/miscelatore,P_da_est/navetta_serv_misc,P_da_est/nav_serv_carr_pieni,P_da_est/carroponte_1,P_da_est/buffer,P_da_est/estrusore,V_per_park/estrusore',\n",
       "  'case:concept:name': 1},\n",
       " {'variant': 'V_da_pes/pesatura,P_da_misc/pesatura,P_da_misc/miscelatore,P_da_est/miscelatore,P_da_est/navetta_serv_misc,P_da_est/cat_usc_pieni,P_da_est/nav_serv_carr_pieni,P_da_est/carroponte_1,P_da_est/estrusore,V_da_pes/estrusore',\n",
       "  'case:concept:name': 1},\n",
       " {'variant': 'V_da_pes/pesatura,P_da_misc/pesatura,P_da_misc/miscelatore,P_da_est/miscelatore,P_da_est/nav_serv_carr_pieni,V_per_park/catenaria_parcheggi,V_da_pes/pesatura,P_da_misc/pesatura,P_da_misc/miscelatore,P_da_est/estrusore,V_per_park/estrusore',\n",
       "  'case:concept:name': 1},\n",
       " {'variant': 'V_da_pes/pesatura,P_da_misc/pesatura,P_da_misc/miscelatore,P_da_est/miscelatore,P_da_est/nav_serv_carr_pieni,P_da_est/estrusore,P_da_est/estrusore,P_da_est/estrusore,P_da_misc/miscelatore,P_da_est/estrusore,V_per_park/estrusore',\n",
       "  'case:concept:name': 1},\n",
       " {'variant': 'V_da_pes/pesatura,P_da_misc/pesatura,P_da_misc/miscelatore,P_da_est/miscelatore,P_da_est/nav_serv_carr_pieni,P_da_est/carroponte_1,V_per_park/estrusore',\n",
       "  'case:concept:name': 1},\n",
       " {'variant': 'V_da_pes/pesatura,P_da_misc/pesatura,P_da_misc/miscelatore,P_da_est/miscelatore,P_da_est/nav_serv_carr_pieni,P_da_est/carroponte_1,V_da_pes/estrusore',\n",
       "  'case:concept:name': 1},\n",
       " {'variant': 'V_da_pes/pesatura,P_da_misc/pesatura,P_da_misc/miscelatore,P_da_est/miscelatore,P_da_est/nav_serv_carr_pieni,P_da_est/carroponte_1,P_da_est/estrusore,V_per_park/carroponte_1,V_per_park/nav_serv_carr_pieni,V_per_park/catenaria_parcheggi,V_da_pes/catenaria_ing_misc,V_da_pes/pesatura,P_da_misc/pesatura,P_da_misc/miscelatore,P_da_est/miscelatore,P_da_est/cat_usc_pieni,P_da_est/nav_serv_carr_pieni,P_da_est/carroponte_1,P_da_est/estrusore,V_per_park/estrusore',\n",
       "  'case:concept:name': 1},\n",
       " {'variant': 'V_da_pes/pesatura,P_da_misc/pesatura,P_da_misc/miscelatore,P_da_est/miscelatore,P_da_est/nav_serv_carr_pieni,P_da_est/carroponte_1,P_da_est/estrusore,V_da_pes/pesatura,V_per_park/catenaria_parcheggi,V_da_pes/pesatura,P_da_est/estrusore,P_da_est/estrusore,V_per_park/catenaria_parcheggi,P_da_est/estrusore,V_per_park/catenaria_parcheggi,V_da_pes/catenaria_ing_misc,V_da_pes/pesatura,P_per_park/pesatura,P_per_park/cat_usc_pieni,P_per_park/catenaria_parcheggi,P_recheck/catenaria_ing_misc,P_recheck/pesatura,P_da_misc/pesatura,P_da_misc/miscelatore,P_da_est/miscelatore,P_da_est/nav_serv_carr_pieni,P_da_est/carroponte_1,V_per_park/estrusore',\n",
       "  'case:concept:name': 1},\n",
       " {'variant': 'V_da_pes/pesatura,P_da_misc/pesatura,P_da_misc/miscelatore,P_da_est/miscelatore,P_da_est/nav_serv_carr_pieni,P_da_est/carroponte_1,P_da_est/estrusore,V_da_pes/pesatura,P_da_misc/pesatura,P_da_misc/miscelatore,P_da_est/miscelatore,P_da_est/nav_serv_carr_pieni,P_da_est/carroponte_1,P_da_est/estrusore,V_per_park/estrusore',\n",
       "  'case:concept:name': 1},\n",
       " {'variant': 'V_da_pes/pesatura,P_da_misc/pesatura,P_da_misc/miscelatore,P_da_est/miscelatore,P_da_est/nav_serv_carr_pieni,P_da_est/carroponte_1,P_da_est/estrusore,V_da_pes/catenaria_ing_misc,V_da_pes/pesatura,P_da_est/estrusore,V_da_pes/pesatura,P_da_est/estrusore,P_da_est/estrusore,V_da_pes/pesatura,P_da_est/estrusore,V_da_pes/pesatura,P_da_est/estrusore,V_da_pes/pesatura,P_da_est/estrusore,V_da_pes/pesatura,P_da_est/estrusore,V_da_pes/pesatura,P_da_est/estrusore,P_da_est/estrusore,V_per_park/estrusore',\n",
       "  'case:concept:name': 1},\n",
       " {'variant': 'V_da_pes/pesatura,P_da_misc/pesatura,P_da_misc/miscelatore,P_da_est/miscelatore,P_da_est/nav_serv_carr_pieni,P_da_est/carroponte_1,P_da_est/estrusore,V_da_pes/carroponte_1,V_da_pes/pesatura,P_da_misc/miscelatore,P_da_est/nav_serv_carr_pieni,P_da_est/carroponte_1,P_da_est/estrusore,V_per_park/estrusore',\n",
       "  'case:concept:name': 1},\n",
       " {'variant': 'V_da_pes/pesatura,P_da_misc/pesatura,P_da_misc/miscelatore,P_da_est/miscelatore,P_da_est/nav_serv_carr_pieni,P_da_est/carroponte_1,P_da_est/estrusore,P_da_est/manuale,P_da_est/estrusore,V_per_park/estrusore',\n",
       "  'case:concept:name': 1},\n",
       " {'variant': 'V_da_pes/pesatura,P_da_misc/pesatura,P_da_misc/miscelatore,P_da_est/miscelatore,P_da_est/nav_serv_carr_pieni,P_da_est/carroponte_1,P_da_est/estrusore,P_da_est/carroponte_1,P_da_est/buffer,P_da_est/estrusore,V_per_park/estrusore',\n",
       "  'case:concept:name': 1},\n",
       " {'variant': 'V_da_pes/pesatura,P_da_misc/pesatura,P_da_misc/miscelatore,P_da_est/miscelatore,P_da_est/nav_serv_carr_pieni,P_da_est/carroponte_1,P_da_est/buffer,V_per_park/catenaria_parcheggi,V_da_pes/catenaria_parcheggi,V_da_pes/pesatura,P_da_misc/pesatura,P_da_misc/navetta_serv_misc,P_da_misc/miscelatore,P_da_est/miscelatore,P_da_est/cat_usc_pieni,P_da_est/nav_serv_carr_pieni,P_da_est/carroponte_1,P_da_est/buffer,P_da_est/estrusore,V_per_park/estrusore',\n",
       "  'case:concept:name': 1},\n",
       " {'variant': 'V_da_pes/pesatura,P_da_misc/pesatura,P_da_misc/miscelatore,P_da_est/miscelatore,P_da_est/nav_serv_carr_pieni,P_da_est/carroponte_1,P_da_est/buffer,P_da_misc/pesatura,P_da_misc/miscelatore,P_da_est/miscelatore,P_da_est/cat_usc_pieni,P_da_est/nav_serv_carr_pieni,P_da_est/carroponte_1,P_da_est/buffer,P_da_est/carroponte_2,P_da_est/estrusore,V_per_park/estrusore',\n",
       "  'case:concept:name': 1},\n",
       " {'variant': 'V_da_pes/pesatura,P_da_misc/pesatura,P_da_misc/miscelatore,P_da_est/miscelatore,P_da_est/nav_serv_carr_pieni,P_da_est/carroponte_1,P_da_est/buffer,P_da_misc/miscelatore,P_da_est/miscelatore,P_da_est/cat_usc_pieni,P_da_est/nav_serv_carr_pieni,P_da_est/carroponte_1,P_da_est/buffer,P_da_est/estrusore,V_per_park/estrusore',\n",
       "  'case:concept:name': 1},\n",
       " {'variant': 'V_da_pes/pesatura,P_da_misc/pesatura,P_da_misc/miscelatore,P_da_est/miscelatore,P_da_est/nav_serv_carr_pieni,P_da_est/carroponte_1,P_da_est/buffer,P_da_est/estrusore,V_per_park/catenaria_parcheggi,V_da_pes/catenaria_ing_misc,V_da_pes/pesatura,P_da_misc/pesatura,P_da_misc/miscelatore,P_da_est/miscelatore,P_da_est/cat_usc_pieni,P_da_est/nav_serv_carr_pieni,P_da_est/carroponte_1,P_da_est/buffer,P_da_est/estrusore,V_per_park/estrusore',\n",
       "  'case:concept:name': 1},\n",
       " {'variant': 'V_da_pes/pesatura,P_da_misc/pesatura,P_da_misc/miscelatore,P_da_est/miscelatore,P_da_est/nav_serv_carr_pieni,P_da_est/carroponte_1,P_da_est/buffer,P_da_est/estrusore,V_per_park/catenaria_parcheggi,P_per_park/catenaria_parcheggi,P_da_est/estrusore,V_per_park/estrusore',\n",
       "  'case:concept:name': 1},\n",
       " {'variant': 'V_da_pes/pesatura,P_da_misc/pesatura,P_da_misc/miscelatore,P_da_est/miscelatore,P_da_est/nav_serv_carr_pieni,P_da_est/carroponte_1,P_da_est/buffer,P_da_est/estrusore,V_per_park/catenaria_parcheggi,P_per_park/catenaria_parcheggi,P_da_est/catenaria_parcheggi,P_da_est/catenaria_ing_misc,P_da_est/cat_usc_pieni,P_da_est/nav_serv_carr_pieni,P_da_est/carroponte_1,P_da_est/buffer,P_da_est/estrusore,V_per_park/estrusore',\n",
       "  'case:concept:name': 1},\n",
       " {'variant': 'V_da_pes/pesatura,P_da_misc/pesatura,P_da_misc/miscelatore,P_da_est/miscelatore,P_da_est/nav_serv_carr_pieni,P_da_est/carroponte_1,P_da_est/buffer,P_da_est/estrusore,V_per_park/carroponte_1,V_per_park/nav_serv_carr_pieni,V_per_park/catenaria_parcheggi,V_da_pes/catenaria_parcheggi,V_da_pes/catenaria_ing_misc,V_da_pes/pesatura,P_da_misc/pesatura,P_da_misc/miscelatore,P_da_est/miscelatore,P_da_est/nav_serv_carr_pieni,P_da_est/carroponte_1,P_da_est/buffer,P_da_est/estrusore,V_per_park/estrusore',\n",
       "  'case:concept:name': 1},\n",
       " {'variant': 'V_da_pes/pesatura,P_da_misc/pesatura,P_da_misc/miscelatore,P_da_est/miscelatore,P_da_est/nav_serv_carr_pieni,P_da_est/carroponte_1,P_da_est/buffer,P_da_est/estrusore,V_per_park/carroponte_1,V_da_pes/nav_serv_carr_pieni,V_da_pes/catenaria_ing_misc,V_da_pes/pesatura,P_da_misc/pesatura,P_da_misc/miscelatore,P_da_est/miscelatore,P_da_est/nav_serv_carr_pieni,P_da_est/carroponte_1,P_da_est/estrusore,V_per_park/estrusore',\n",
       "  'case:concept:name': 1},\n",
       " {'variant': 'V_da_pes/pesatura,P_da_misc/pesatura,P_da_misc/miscelatore,P_da_est/miscelatore,P_da_est/nav_serv_carr_pieni,P_da_est/carroponte_1,P_da_est/buffer,P_da_est/estrusore,V_da_pes/pesatura,P_da_misc/pesatura,P_da_misc/miscelatore,P_da_est/miscelatore,P_da_est/nav_serv_carr_pieni,P_da_est/carroponte_1,P_da_est/buffer,P_da_est/estrusore,V_per_park/estrusore',\n",
       "  'case:concept:name': 1},\n",
       " {'variant': 'V_da_pes/pesatura,P_da_misc/pesatura,P_da_misc/miscelatore,P_da_est/miscelatore,P_da_est/nav_serv_carr_pieni,P_da_est/carroponte_1,P_da_est/buffer,P_da_est/estrusore,V_da_pes/pesatura,P_da_misc/pesatura,P_da_misc/miscelatore,P_da_est/miscelatore,P_da_est/nav_serv_carr_pieni,P_da_est/carroponte_1,P_da_est/buffer,P_da_est/estrusore,V_da_pes/pesatura,P_da_misc/pesatura,P_da_misc/miscelatore,P_da_est/cat_usc_pieni,P_da_est/nav_serv_carr_pieni,P_da_est/carroponte_1,P_da_est/buffer,P_da_est/estrusore,V_per_park/estrusore',\n",
       "  'case:concept:name': 1},\n",
       " {'variant': 'V_da_pes/pesatura,P_da_misc/pesatura,P_da_misc/miscelatore,P_da_est/miscelatore,P_da_est/nav_serv_carr_pieni,P_da_est/carroponte_1,P_da_est/buffer,P_da_est/estrusore,P_da_est/estrusore,P_da_est/estrusore,V_per_park/estrusore',\n",
       "  'case:concept:name': 1},\n",
       " {'variant': 'V_da_pes/pesatura,P_da_misc/pesatura,P_da_misc/miscelatore,P_da_est/miscelatore,P_da_est/nav_serv_carr_pieni,P_da_est/carroponte_1,P_da_est/buffer,P_da_est/estrusore,P_da_est/cat_usc_pieni,P_da_est/buffer,P_da_est/estrusore,P_da_est/estrusore,V_da_pes/pesatura,P_da_est/estrusore,V_da_pes/pesatura,P_da_est/estrusore,P_da_est/estrusore,P_da_est/buffer,P_da_est/estrusore,P_da_est/estrusore,V_da_pes/pesatura,P_da_est/estrusore,P_da_est/estrusore,P_da_est/estrusore,P_da_est/estrusore,V_da_pes/catenaria_ing_misc,P_da_est/estrusore,P_da_est/estrusore,P_da_est/buffer,P_da_est/estrusore,P_da_est/estrusore,P_da_est/buffer,P_da_est/estrusore,V_da_pes/pesatura,P_da_est/buffer,P_da_est/estrusore,P_da_est/buffer,P_da_est/estrusore,V_da_pes/pesatura,P_da_est/estrusore,P_da_est/estrusore,V_da_pes/pesatura,V_da_pes/pesatura,P_da_est/estrusore,P_da_est/estrusore,P_da_est/estrusore,P_da_est/estrusore,P_da_est/estrusore,P_da_est/buffer,P_da_est/estrusore,P_da_est/estrusore,P_da_est/estrusore,V_per_park/catenaria_parcheggi,V_da_pes/pesatura,P_da_est/buffer,P_da_est/estrusore,P_da_est/buffer,P_da_est/estrusore,P_da_est/buffer,P_da_est/estrusore,P_da_est/buffer,P_da_est/estrusore,V_per_park/estrusore',\n",
       "  'case:concept:name': 1},\n",
       " {'variant': 'V_da_pes/pesatura,P_da_misc/pesatura,P_da_misc/miscelatore,P_da_est/miscelatore,P_da_est/nav_serv_carr_pieni,P_da_est/carroponte_1,P_da_est/buffer,P_da_est/estrusore,P_da_est/buffer,P_da_est/estrusore,P_da_est/estrusore,V_da_pes/pesatura,P_da_est/estrusore,V_per_park/estrusore',\n",
       "  'case:concept:name': 1},\n",
       " {'variant': 'V_da_pes/pesatura,P_da_misc/pesatura,P_da_misc/miscelatore,P_da_est/miscelatore,P_da_est/nav_serv_carr_pieni,P_da_est/carroponte_1,P_da_est/buffer,P_da_est/estrusore,P_da_est/buffer,P_da_est/carroponte_2,P_da_est/estrusore,V_per_park/estrusore',\n",
       "  'case:concept:name': 1},\n",
       " {'variant': 'V_da_pes/pesatura,P_da_misc/pesatura,P_da_misc/miscelatore,P_da_est/miscelatore,P_da_est/nav_serv_carr_pieni,P_da_est/carroponte_1,P_da_est/buffer,P_da_est/carroponte_2,P_da_est/estrusore,P_da_est/buffer,P_da_est/estrusore,V_da_pes/carroponte_1,V_da_pes/pesatura,P_da_misc/pesatura,P_da_misc/miscelatore,P_da_est/miscelatore,P_da_est/nav_serv_carr_pieni,P_da_est/carroponte_1,P_da_est/buffer,P_da_est/estrusore,V_per_park/estrusore',\n",
       "  'case:concept:name': 1},\n",
       " {'variant': 'V_da_pes/pesatura,P_da_misc/pesatura,P_da_misc/miscelatore,P_da_est/miscelatore,P_da_est/cat_usc_pieni,P_per_park/nav_serv_carr_pieni,P_per_park/catenaria_parcheggi,P_da_est/cat_usc_pieni,P_da_est/nav_serv_carr_pieni,P_da_est/carroponte_1,V_da_pes/estrusore',\n",
       "  'case:concept:name': 1},\n",
       " {'variant': 'V_da_pes/pesatura,P_da_misc/pesatura,P_da_misc/miscelatore,P_da_est/miscelatore,P_da_est/cat_usc_pieni,P_per_park/cat_usc_pieni,P_per_park/nav_serv_carr_pieni,P_per_park/catenaria_parcheggi,P_recheck/pesatura,V_per_park/pesatura,V_per_park/cat_usc_pieni,V_per_park/nav_serv_carr_pieni,V_per_park/catenaria_parcheggi,V_da_pes/pesatura,P_da_misc/pesatura,P_da_misc/miscelatore,P_da_est/miscelatore,P_da_est/nav_serv_carr_pieni,P_da_est/carroponte_1,P_da_est/estrusore,V_per_park/estrusore',\n",
       "  'case:concept:name': 1},\n",
       " {'variant': 'V_da_pes/pesatura,P_da_misc/pesatura,P_da_misc/miscelatore,P_da_est/miscelatore,P_da_est/cat_usc_pieni,P_da_est/nav_serv_carr_vuoti,P_da_est/nav_serv_carr_pieni,P_da_est/carroponte_1,P_da_est/estrusore,V_per_park/estrusore',\n",
       "  'case:concept:name': 1},\n",
       " {'variant': 'V_da_pes/pesatura,P_da_misc/pesatura,P_da_misc/miscelatore,P_da_est/miscelatore,P_da_est/cat_usc_pieni,P_da_est/nav_serv_carr_pieni,P_da_est/estrusore,V_per_park/estrusore',\n",
       "  'case:concept:name': 1},\n",
       " {'variant': 'V_da_pes/pesatura,P_da_misc/pesatura,P_da_misc/miscelatore,P_da_est/miscelatore,P_da_est/cat_usc_pieni,P_da_est/nav_serv_carr_pieni,P_da_est/carroponte_1,V_per_park/catenaria_parcheggi,V_da_pes/pesatura,P_da_misc/pesatura,P_da_misc/miscelatore,P_da_est/miscelatore,P_da_est/nav_serv_carr_pieni,P_da_est/carroponte_1,P_da_est/estrusore,V_per_park/estrusore',\n",
       "  'case:concept:name': 1},\n",
       " {'variant': 'V_da_pes/pesatura,P_da_misc/pesatura,P_da_misc/miscelatore,P_da_est/miscelatore,P_da_est/cat_usc_pieni,P_da_est/nav_serv_carr_pieni,P_da_est/carroponte_1,V_da_pes/estrusore',\n",
       "  'case:concept:name': 1},\n",
       " {'variant': 'V_da_pes/pesatura,P_da_misc/pesatura,P_da_misc/miscelatore,P_da_est/miscelatore,P_da_est/cat_usc_pieni,P_da_est/nav_serv_carr_pieni,P_da_est/carroponte_1,P_da_misc/pesatura,P_da_misc/miscelatore,P_da_est/miscelatore,P_da_est/cat_usc_pieni,P_da_est/nav_serv_carr_pieni,P_da_est/carroponte_1,P_da_est/estrusore,V_per_park/estrusore',\n",
       "  'case:concept:name': 1},\n",
       " {'variant': 'V_da_pes/pesatura,P_da_misc/pesatura,P_da_misc/miscelatore,P_da_est/miscelatore,P_da_est/cat_usc_pieni,P_da_est/nav_serv_carr_pieni,P_da_est/carroponte_1,P_da_est/estrusore,V_per_park/carroponte_1,V_per_park/nav_serv_carr_pieni,V_per_park/catenaria_parcheggi,V_da_pes/pesatura,P_da_misc/pesatura,P_da_misc/miscelatore,P_da_est/miscelatore,P_per_park/nav_serv_carr_pieni,P_per_park/catenaria_parcheggi,P_recheck/pesatura,P_da_misc/pesatura,P_da_misc/miscelatore,P_da_est/miscelatore,P_da_est/nav_serv_carr_pieni,P_da_est/carroponte_1,P_da_est/estrusore,V_per_park/estrusore',\n",
       "  'case:concept:name': 1},\n",
       " {'variant': 'V_da_pes/pesatura,P_da_misc/pesatura,P_da_misc/miscelatore,P_da_est/miscelatore,P_da_est/cat_usc_pieni,P_da_est/nav_serv_carr_pieni,P_da_est/carroponte_1,P_da_est/estrusore,V_da_pes/catenaria_ing_misc,V_da_pes/pesatura,P_da_misc/pesatura,P_da_misc/miscelatore,P_da_est/miscelatore,P_da_est/cat_usc_pieni,P_da_est/nav_serv_carr_pieni,P_da_est/carroponte_1,P_da_est/estrusore,V_da_pes/estrusore',\n",
       "  'case:concept:name': 1},\n",
       " {'variant': 'V_da_pes/pesatura,P_da_misc/pesatura,P_da_misc/miscelatore,P_da_est/miscelatore,P_da_est/cat_usc_pieni,P_da_est/nav_serv_carr_pieni,P_da_est/carroponte_1,P_da_est/estrusore,V_da_pes/carroponte_1,V_da_pes/nav_serv_carr_vuoti,V_da_pes/pesatura,P_da_misc/pesatura,P_da_misc/miscelatore,P_da_est/miscelatore,P_da_est/cat_usc_pieni,P_da_est/nav_serv_carr_pieni,P_da_est/carroponte_1,P_da_est/buffer,P_da_est/estrusore,V_per_park/estrusore',\n",
       "  'case:concept:name': 1},\n",
       " {'variant': 'V_da_pes/pesatura,P_da_misc/pesatura,P_da_misc/miscelatore,P_da_est/miscelatore,P_da_est/cat_usc_pieni,P_da_est/nav_serv_carr_pieni,P_da_est/carroponte_1,P_da_est/estrusore,V_da_pes/carroponte_1,V_da_pes/nav_serv_carr_vuoti,V_da_pes/nav_serv_carr_pieni,V_da_pes/catenaria_ing_misc,V_da_pes/pesatura,P_da_misc/pesatura,P_da_misc/miscelatore,P_da_est/cat_usc_pieni,P_da_est/nav_serv_carr_pieni,P_da_est/carroponte_1,P_da_est/estrusore,V_per_park/estrusore',\n",
       "  'case:concept:name': 1},\n",
       " {'variant': 'V_da_pes/pesatura,P_da_misc/pesatura,P_da_misc/miscelatore,P_da_est/miscelatore,P_da_est/cat_usc_pieni,P_da_est/nav_serv_carr_pieni,P_da_est/carroponte_1,P_da_est/estrusore,V_da_pes/carroponte_1,V_da_pes/nav_serv_carr_vuoti,V_da_pes/catenaria_ing_misc,V_da_pes/pesatura,P_da_misc/pesatura,P_da_misc/miscelatore,P_da_est/miscelatore,P_da_est/cat_usc_pieni,P_da_est/nav_serv_carr_pieni,P_da_est/carroponte_1,P_da_est/estrusore,V_per_park/estrusore',\n",
       "  'case:concept:name': 1},\n",
       " {'variant': 'V_da_pes/pesatura,P_da_misc/pesatura,P_da_misc/miscelatore,P_da_est/miscelatore,P_da_est/cat_usc_pieni,P_da_est/nav_serv_carr_pieni,P_da_est/carroponte_1,P_da_est/estrusore,V_da_pes/carroponte_1,V_da_pes/nav_serv_carr_pieni,V_da_pes/pesatura,P_da_misc/pesatura,P_da_misc/miscelatore,P_da_est/miscelatore,P_da_est/cat_usc_pieni,P_da_est/nav_serv_carr_pieni,P_da_est/carroponte_1,P_da_est/estrusore,V_per_park/estrusore',\n",
       "  'case:concept:name': 1},\n",
       " {'variant': 'V_da_pes/pesatura,P_da_misc/pesatura,P_da_misc/miscelatore,P_da_est/miscelatore,P_da_est/cat_usc_pieni,P_da_est/nav_serv_carr_pieni,P_da_est/carroponte_1,P_da_est/estrusore,V_da_pes/carroponte_1,V_da_pes/nav_serv_carr_pieni,V_da_pes/catenaria_parcheggi,V_da_pes/catenaria_ing_misc,V_da_pes/pesatura,P_da_est/pesatura,P_da_est/cat_usc_pieni,P_da_est/nav_serv_carr_pieni,P_da_est/carroponte_1,P_da_est/estrusore,V_per_park/estrusore',\n",
       "  'case:concept:name': 1},\n",
       " {'variant': 'V_da_pes/pesatura,P_da_misc/pesatura,P_da_misc/miscelatore,P_da_est/miscelatore,P_da_est/cat_usc_pieni,P_da_est/nav_serv_carr_pieni,P_da_est/carroponte_1,P_da_est/estrusore,V_da_pes/carroponte_1,V_da_pes/nav_serv_carr_pieni,V_da_pes/catenaria_ing_misc,V_da_pes/pesatura,P_da_misc/pesatura,P_da_misc/miscelatore,P_da_est/miscelatore,P_da_est/cat_usc_pieni,P_da_est/nav_serv_carr_pieni,P_da_est/carroponte_1,P_da_est/estrusore,V_per_park/estrusore',\n",
       "  'case:concept:name': 1},\n",
       " {'variant': 'V_da_pes/pesatura,P_da_misc/pesatura,P_da_misc/miscelatore,P_da_est/miscelatore,P_da_est/cat_usc_pieni,P_da_est/nav_serv_carr_pieni,P_da_est/carroponte_1,P_da_est/estrusore,P_da_est/estrusore,V_per_park/estrusore',\n",
       "  'case:concept:name': 1},\n",
       " {'variant': 'V_da_pes/pesatura,P_da_misc/pesatura,P_da_misc/miscelatore,P_da_est/miscelatore,P_da_est/cat_usc_pieni,P_da_est/nav_serv_carr_pieni,P_da_est/carroponte_1,P_da_est/buffer,V_per_park/estrusore',\n",
       "  'case:concept:name': 1},\n",
       " {'variant': 'V_da_pes/pesatura,P_da_misc/pesatura,P_da_misc/miscelatore,P_da_est/miscelatore,P_da_est/cat_usc_pieni,P_da_est/nav_serv_carr_pieni,P_da_est/carroponte_1,P_da_est/buffer,V_da_pes/carroponte_1,V_da_pes/nav_serv_carr_pieni,V_da_pes/catenaria_ing_misc,V_da_pes/pesatura,P_da_misc/pesatura,P_da_misc/miscelatore,P_da_est/miscelatore,P_da_est/nav_serv_carr_pieni,P_da_est/carroponte_1,P_da_est/buffer,P_da_est/estrusore,V_per_park/estrusore',\n",
       "  'case:concept:name': 1},\n",
       " {'variant': 'V_da_pes/pesatura,P_da_misc/pesatura,P_da_misc/miscelatore,P_da_est/miscelatore,P_da_est/cat_usc_pieni,P_da_est/nav_serv_carr_pieni,P_da_est/carroponte_1,P_da_est/buffer,P_da_est/estrusore,V_per_park/catenaria_parcheggi,V_da_pes/pesatura,P_da_misc/pesatura,P_da_misc/miscelatore,P_da_est/miscelatore,P_per_park/nav_serv_carr_pieni,P_per_park/carroponte_1,P_per_park/nav_serv_carr_vuoti,P_per_park/catenaria_parcheggi,P_da_est/nav_serv_carr_pieni,P_da_est/carroponte_1,P_da_est/estrusore,V_per_park/estrusore',\n",
       "  'case:concept:name': 1},\n",
       " {'variant': 'V_da_pes/pesatura,P_da_misc/pesatura,P_da_misc/miscelatore,P_da_est/miscelatore,P_da_est/cat_usc_pieni,P_da_est/nav_serv_carr_pieni,P_da_est/carroponte_1,P_da_est/buffer,P_da_est/estrusore,V_da_pes/pesatura,P_da_misc/pesatura,P_da_misc/miscelatore,P_da_est/miscelatore,P_da_est/cat_usc_pieni,P_da_est/nav_serv_carr_pieni,P_da_est/carroponte_1,P_da_est/buffer,P_da_est/estrusore,V_per_park/estrusore',\n",
       "  'case:concept:name': 1},\n",
       " {'variant': 'V_da_pes/pesatura,P_da_misc/pesatura,P_da_misc/miscelatore,P_da_est/miscelatore,P_da_est/cat_usc_pieni,P_da_est/nav_serv_carr_pieni,P_da_est/carroponte_1,P_da_est/buffer,P_da_est/estrusore,V_da_pes/navetta_serv_misc,V_da_pes/pesatura,P_da_misc/pesatura,P_da_misc/miscelatore,P_da_est/miscelatore,P_da_est/nav_serv_carr_pieni,P_da_est/carroponte_1,P_da_est/buffer,P_da_est/estrusore,V_per_park/estrusore',\n",
       "  'case:concept:name': 1},\n",
       " {'variant': 'V_da_pes/pesatura,P_da_misc/pesatura,P_da_misc/miscelatore,P_da_est/miscelatore,P_da_est/cat_usc_pieni,P_da_est/nav_serv_carr_pieni,P_da_est/carroponte_1,P_da_est/buffer,P_da_est/estrusore,V_da_pes/carroponte_1,V_da_pes/nav_serv_carr_pieni,V_da_pes/pesatura,P_da_misc/pesatura,P_da_misc/miscelatore,P_da_est/miscelatore,P_da_est/nav_serv_carr_pieni,P_da_est/carroponte_1,P_da_est/buffer,P_da_est/estrusore,V_per_park/estrusore',\n",
       "  'case:concept:name': 1},\n",
       " {'variant': 'V_da_pes/pesatura,P_da_misc/pesatura,P_da_misc/miscelatore,P_da_est/miscelatore,P_da_est/cat_usc_pieni,P_da_est/nav_serv_carr_pieni,P_da_est/carroponte_1,P_da_est/buffer,P_da_est/estrusore,P_per_park/estrusore,P_per_park/carroponte_1,P_per_park/nav_serv_carr_pieni,P_per_park/catenaria_parcheggi,P_recheck/catenaria_ing_misc,P_recheck/pesatura,P_da_misc/pesatura,P_da_misc/miscelatore,P_da_est/miscelatore,P_da_est/cat_usc_pieni,P_da_est/nav_serv_carr_pieni,P_da_est/carroponte_1,P_da_est/estrusore,V_per_park/estrusore',\n",
       "  'case:concept:name': 1},\n",
       " {'variant': 'V_da_pes/pesatura,P_da_misc/pesatura,P_da_misc/miscelatore,P_da_est/miscelatore,P_da_est/cat_usc_pieni,P_da_est/nav_serv_carr_pieni,P_da_est/carroponte_1,P_da_est/buffer,P_da_est/estrusore,P_da_misc/pesatura,P_da_misc/miscelatore,P_da_est/miscelatore,P_da_est/nav_serv_carr_pieni,P_da_est/carroponte_1,P_da_est/buffer,P_da_est/estrusore,V_per_park/estrusore',\n",
       "  'case:concept:name': 1},\n",
       " {'variant': 'V_da_pes/pesatura,P_da_misc/pesatura,P_da_misc/miscelatore,P_da_est/miscelatore,P_da_est/cat_usc_pieni,P_da_est/nav_serv_carr_pieni,P_da_est/carroponte_1,P_da_est/buffer,P_da_est/estrusore,P_da_misc/miscelatore,P_da_est/miscelatore,P_da_est/cat_usc_pieni,P_da_est/nav_serv_carr_pieni,P_da_est/carroponte_1,P_da_est/buffer,P_da_est/estrusore,V_per_park/estrusore',\n",
       "  'case:concept:name': 1},\n",
       " {'variant': 'V_da_pes/pesatura,P_da_misc/pesatura,P_da_misc/miscelatore,P_da_est/miscelatore,P_da_est/cat_usc_pieni,P_da_est/nav_serv_carr_pieni,P_da_est/carroponte_1,P_da_est/buffer,P_da_est/estrusore,P_da_est/nav_serv_carr_pieni,P_da_est/carroponte_1,P_da_est/buffer,P_da_est/carroponte_2,P_da_est/estrusore,V_per_park/estrusore',\n",
       "  'case:concept:name': 1},\n",
       " {'variant': 'V_da_pes/pesatura,P_da_misc/pesatura,P_da_misc/miscelatore,P_da_est/miscelatore,P_da_est/cat_usc_pieni,P_da_est/nav_serv_carr_pieni,P_da_est/carroponte_1,P_da_est/buffer,P_da_est/estrusore,P_da_est/buffer,P_da_est/estrusore,V_per_park/estrusore',\n",
       "  'case:concept:name': 1},\n",
       " {'variant': 'V_da_pes/pesatura,P_da_misc/pesatura,P_da_misc/miscelatore,P_da_est/miscelatore,P_da_est/cat_usc_pieni,P_da_est/nav_serv_carr_pieni,P_da_est/carroponte_1,P_da_est/buffer,P_da_est/carroponte_1,P_da_est/estrusore,V_per_park/estrusore',\n",
       "  'case:concept:name': 1},\n",
       " {'variant': 'V_da_pes/pesatura,P_da_misc/pesatura,P_da_misc/miscelatore,P_da_est/miscelatore,P_da_est/cat_usc_pieni,P_da_est/nav_serv_carr_pieni,P_da_est/carroponte_1,P_da_est/buffer,P_da_est/carroponte_1,P_da_est/estrusore,V_da_pes/estrusore',\n",
       "  'case:concept:name': 1},\n",
       " {'variant': 'V_da_pes/pesatura,P_da_misc/pesatura,P_da_misc/miscelatore,P_da_est/miscelatore,P_da_est/cat_usc_pieni,P_da_est/estrusore,V_per_park/catenaria_parcheggi,Not_def/fuori_impianto,P_da_est/estrusore,V_per_park/catenaria_parcheggi,V_da_pes/catenaria_ing_misc,V_da_pes/pesatura,P_da_est/estrusore,V_per_park/estrusore',\n",
       "  'case:concept:name': 1},\n",
       " {'variant': 'V_da_pes/pesatura,P_da_misc/pesatura,P_da_misc/miscelatore,P_da_est/miscelatore,P_da_est/cat_usc_pieni,P_da_est/carroponte_1,P_da_est/estrusore,V_per_park/estrusore',\n",
       "  'case:concept:name': 1},\n",
       " {'variant': 'V_da_pes/pesatura,P_da_misc/pesatura,P_da_misc/miscelatore,P_da_est/miscelatore,P_da_est/cat_usc_pieni,P_da_est/carroponte_1,P_da_est/estrusore,V_da_pes/estrusore',\n",
       "  'case:concept:name': 1},\n",
       " {'variant': 'V_da_pes/pesatura,P_da_misc/pesatura,P_da_misc/miscelatore,P_da_est/miscelatore,P_da_est/carroponte_1,P_da_est/estrusore,V_per_park/estrusore',\n",
       "  'case:concept:name': 1},\n",
       " {'variant': 'V_da_pes/pesatura,P_da_misc/pesatura,P_da_misc/miscelatore,P_da_est/miscelatore,Not_def/fuori_impianto,V_per_park/carroponte_1,V_per_park/nav_serv_carr_pieni,V_per_park/catenaria_parcheggi,V_da_pes/catenaria_parcheggi,V_da_pes/catenaria_ing_misc,V_da_pes/pesatura,P_da_misc/pesatura,P_da_misc/miscelatore,P_da_est/miscelatore,P_da_est/cat_usc_pieni,P_da_est/nav_serv_carr_pieni,P_da_est/carroponte_1,P_da_est/estrusore,V_per_park/estrusore',\n",
       "  'case:concept:name': 1},\n",
       " {'variant': 'V_da_pes/pesatura,P_da_misc/pesatura,P_da_misc/miscelatore,P_da_est/estrusore,V_per_park/estrusore',\n",
       "  'case:concept:name': 1},\n",
       " {'variant': 'V_da_pes/pesatura,P_da_misc/pesatura,P_da_misc/miscelatore,P_da_est/estrusore,V_da_pes/pesatura,P_da_est/estrusore,V_per_park/estrusore',\n",
       "  'case:concept:name': 1},\n",
       " {'variant': 'V_da_pes/pesatura,P_da_misc/pesatura,P_da_misc/miscelatore,P_da_est/cat_usc_pieni,P_da_est/nav_serv_carr_pieni,P_recheck/nav_serv_carr_pieni,P_da_misc/pesatura,P_da_misc/miscelatore,P_da_est/miscelatore,P_da_est/nav_serv_carr_pieni,P_da_est/carroponte_1,P_da_est/estrusore,V_per_park/estrusore',\n",
       "  'case:concept:name': 1},\n",
       " {'variant': 'V_da_pes/pesatura,P_da_misc/pesatura,P_da_misc/miscelatore,P_da_est/cat_usc_pieni,P_da_est/nav_serv_carr_pieni,P_da_est/carroponte_1,P_da_est/estrusore,V_per_park/catenaria_parcheggi,V_da_pes/catenaria_ing_misc,V_da_pes/pesatura,P_da_misc/pesatura,P_da_misc/miscelatore,P_da_est/miscelatore,P_da_est/cat_usc_pieni,P_da_est/nav_serv_carr_pieni,P_da_est/carroponte_1,P_da_est/estrusore,V_per_park/estrusore',\n",
       "  'case:concept:name': 1},\n",
       " {'variant': 'V_da_pes/pesatura,P_da_misc/pesatura,P_da_misc/miscelatore,Not_def/fuori_impianto,P_da_est/manuale,P_da_est/carroponte_2,P_da_est/estrusore,V_per_park/estrusore',\n",
       "  'case:concept:name': 1},\n",
       " {'variant': 'V_da_pes/pesatura,P_da_misc/miscelatore,P_remove/miscelatore,Not_def/fuori_impianto,P_da_est/manuale,P_da_est/carroponte_2,P_da_est/estrusore,V_per_park/estrusore',\n",
       "  'case:concept:name': 1},\n",
       " {'variant': 'V_da_pes/pesatura,P_da_misc/miscelatore,P_remove/miscelatore,Not_def/fuori_impianto,P_da_est/manuale,P_da_est/carroponte_2,P_da_est/estrusore,V_per_park/carroponte_2,V_per_park/manuale,Not_def/fuori_impianto,V_da_pes/pesatura,P_remove/pesatura,Not_def/fuori_impianto,V_da_pes/pesatura,V_remove/pesatura,V_remove/miscelatore,Not_def/fuori_impianto,V_per_park/miscelatore,P_per_park/cat_usc_pieni,P_per_park/catenaria_parcheggi,V_per_park/catenaria_parcheggi,V_da_pes/pesatura,P_da_misc/pesatura,P_da_misc/miscelatore,P_da_est/miscelatore,P_da_est/carroponte_1,P_da_est/estrusore,V_per_park/estrusore',\n",
       "  'case:concept:name': 1},\n",
       " {'variant': 'V_da_pes/pesatura,P_da_misc/miscelatore,P_da_misc/miscelatore,P_da_est/miscelatore,P_da_est/nav_serv_carr_pieni,P_da_est/carroponte_1,P_da_est/buffer,P_da_est/estrusore,V_per_park/estrusore',\n",
       "  'case:concept:name': 1},\n",
       " {'variant': 'V_da_pes/pesatura,P_da_misc/miscelatore,P_da_est/nav_serv_carr_pieni,P_da_est/carroponte_1,P_da_est/buffer,P_da_est/estrusore,V_per_park/estrusore',\n",
       "  'case:concept:name': 1},\n",
       " {'variant': 'V_da_pes/pesatura,P_da_misc/miscelatore,P_da_est/miscelatore,P_da_est/nav_serv_carr_pieni,P_da_est/estrusore,V_per_park/estrusore',\n",
       "  'case:concept:name': 1},\n",
       " {'variant': 'V_da_pes/pesatura,P_da_misc/miscelatore,P_da_est/miscelatore,P_da_est/nav_serv_carr_pieni,P_da_est/carroponte_1,P_da_est/buffer,P_da_est/estrusore,V_da_pes/pesatura,P_da_misc/pesatura,P_da_misc/miscelatore,P_da_est/miscelatore,P_da_est/nav_serv_carr_pieni,P_da_est/carroponte_1,P_da_est/estrusore,V_per_park/estrusore',\n",
       "  'case:concept:name': 1},\n",
       " {'variant': 'V_da_pes/pesatura,P_da_misc/miscelatore,P_da_est/miscelatore,P_da_est/cat_usc_pieni,P_da_est/nav_serv_carr_pieni,P_da_est/carroponte_1,P_da_est/estrusore,P_da_est/estrusore,P_da_est/estrusore,V_da_pes/catenaria_ing_misc,V_da_pes/pesatura,P_da_est/estrusore,P_da_est/estrusore,P_da_est/estrusore,V_da_pes/pesatura,P_da_est/estrusore,P_da_est/estrusore,P_da_est/estrusore,P_da_est/estrusore,V_per_park/carroponte_1,V_per_park/catenaria_parcheggi,Not_def/fuori_impianto,V_da_pes/pesatura,P_da_misc/pesatura,P_da_misc/miscelatore,P_da_est/miscelatore,P_da_est/nav_serv_carr_pieni,P_da_est/carroponte_1,P_da_est/estrusore,V_per_park/estrusore',\n",
       "  'case:concept:name': 1},\n",
       " {'variant': 'V_da_pes/pesatura,P_da_misc/miscelatore,P_da_est/miscelatore,P_da_est/cat_usc_pieni,P_da_est/nav_serv_carr_pieni,P_da_est/carroponte_1,P_da_est/buffer,P_da_est/carroponte_2,P_da_est/estrusore,V_per_park/estrusore',\n",
       "  'case:concept:name': 1},\n",
       " {'variant': 'V_da_pes/pesatura,P_da_misc/miscelatore,P_da_est/estrusore,V_da_pes/pesatura,P_da_est/estrusore,V_per_park/estrusore',\n",
       "  'case:concept:name': 1},\n",
       " {'variant': 'V_da_pes/pesatura,P_da_misc/miscelatore,P_da_est/estrusore,P_da_est/estrusore,V_per_park/estrusore',\n",
       "  'case:concept:name': 1},\n",
       " {'variant': 'V_da_pes/pesatura,P_da_misc/miscelatore,P_da_est/cat_usc_pieni,P_da_est/nav_serv_carr_pieni,P_da_est/carroponte_1,P_da_est/buffer,P_da_est/estrusore,V_per_park/estrusore',\n",
       "  'case:concept:name': 1},\n",
       " {'variant': 'V_da_pes/pesatura,P_da_misc/miscelatore,Not_def/fuori_impianto,P_da_est/manuale,P_da_est/carroponte_2,P_da_est/estrusore,V_per_park/estrusore',\n",
       "  'case:concept:name': 1},\n",
       " {'variant': 'V_da_pes/pesatura,P_da_est/pesatura,P_da_est/navetta_serv_misc,P_da_est/nav_serv_carr_pieni,P_da_est/carroponte_1,P_da_est/estrusore,V_per_park/estrusore',\n",
       "  'case:concept:name': 1},\n",
       " {'variant': 'V_da_pes/pesatura,P_da_est/pesatura,P_da_est/cat_usc_pieni,P_da_est/nav_serv_carr_pieni,P_da_est/carroponte_1,P_da_est/estrusore,V_da_pes/estrusore',\n",
       "  'case:concept:name': 1},\n",
       " {'variant': 'V_da_pes/pesatura,P_da_est/pesatura,P_da_est/cat_usc_pieni,P_da_est/nav_serv_carr_pieni,P_da_est/carroponte_1,P_da_est/buffer,P_da_est/estrusore,V_per_park/estrusore',\n",
       "  'case:concept:name': 1},\n",
       " {'variant': 'V_da_pes/pesatura,P_da_est/estrusore,V_per_park/catenaria_parcheggi,V_da_pes/pesatura,V_per_park/catenaria_parcheggi,P_per_park/pesatura,V_da_pes/pesatura,P_da_est/estrusore,V_da_pes/catenaria_ing_misc,V_da_pes/pesatura,P_da_est/estrusore,V_per_park/catenaria_parcheggi,Not_def/fuori_impianto,P_per_park/pesatura,Not_def/fuori_impianto,P_da_est/estrusore,P_da_est/estrusore,V_per_park/manuale,Not_def/fuori_impianto,P_da_est/estrusore,V_per_park/carroponte_2,V_per_park/manuale,Not_def/fuori_impianto,P_da_est/estrusore,Not_def/fuori_impianto,V_da_pes/miscelatore,V_da_pes/pesatura,P_da_est/estrusore,V_per_park/catenaria_parcheggi,P_per_park/catenaria_parcheggi,P_da_misc/catenaria_ing_misc,P_da_misc/miscelatore,P_da_est/miscelatore,P_da_est/nav_serv_carr_pieni,P_da_est/carroponte_1,P_da_est/estrusore,V_da_pes/estrusore',\n",
       "  'case:concept:name': 1},\n",
       " {'variant': 'V_da_pes/pesatura,P_da_est/estrusore,V_per_park/catenaria_parcheggi,V_da_pes/pesatura,P_da_est/estrusore,V_da_pes/pesatura,P_da_est/estrusore,V_per_park/catenaria_parcheggi,P_da_est/estrusore,V_per_park/catenaria_parcheggi,P_da_est/estrusore,V_da_pes/pesatura,P_da_est/estrusore,V_da_pes/pesatura,P_da_est/estrusore,V_per_park/estrusore',\n",
       "  'case:concept:name': 1},\n",
       " {'variant': 'V_da_pes/pesatura,P_da_est/estrusore,V_per_park/catenaria_parcheggi,P_da_est/estrusore,V_da_pes/pesatura,P_da_est/estrusore,P_da_est/estrusore,V_da_pes/pesatura,P_da_est/estrusore,P_da_est/estrusore,V_da_pes/pesatura,P_da_est/estrusore,V_da_pes/pesatura,V_da_pes/pesatura,P_da_misc/pesatura,P_da_misc/miscelatore,P_da_est/miscelatore,P_da_est/cat_usc_pieni,P_da_est/nav_serv_carr_pieni,P_da_est/carroponte_1,P_da_est/estrusore,V_per_park/estrusore',\n",
       "  'case:concept:name': 1},\n",
       " {'variant': 'V_da_pes/pesatura,P_da_est/estrusore,V_da_pes/pesatura,P_da_misc/miscelatore,P_da_est/estrusore,V_per_park/estrusore',\n",
       "  'case:concept:name': 1},\n",
       " {'variant': 'V_da_pes/pesatura,P_da_est/estrusore,V_da_pes/pesatura,P_da_est/estrusore,V_da_pes/pesatura,P_da_est/estrusore,V_per_park/estrusore',\n",
       "  'case:concept:name': 1},\n",
       " {'variant': 'V_da_pes/pesatura,P_da_est/estrusore,V_da_pes/pesatura,P_da_est/estrusore,V_da_pes/pesatura,P_da_est/estrusore,V_da_pes/pesatura,P_da_est/estrusore,V_da_pes/pesatura,V_da_pes/pesatura,P_da_est/estrusore,V_per_park/carroponte_1,V_da_pes/pesatura,V_da_pes/pesatura,P_da_est/nav_serv_carr_pieni,P_da_est/estrusore,P_da_est/nav_serv_carr_pieni,P_da_est/estrusore,V_per_park/estrusore',\n",
       "  'case:concept:name': 1},\n",
       " {'variant': 'V_da_pes/pesatura,P_da_est/estrusore,V_da_pes/pesatura,P_da_est/estrusore,V_da_pes/pesatura,P_da_est/estrusore,V_da_pes/pesatura,P_da_est/estrusore,V_da_pes/pesatura,P_da_est/estrusore,P_da_est/estrusore,V_da_pes/estrusore',\n",
       "  'case:concept:name': 1},\n",
       " {'variant': 'V_da_pes/pesatura,P_da_est/estrusore,V_da_pes/pesatura,P_da_est/estrusore,V_da_pes/pesatura,P_da_est/estrusore,P_da_est/estrusore,V_da_pes/pesatura,P_da_est/estrusore,V_per_park/catenaria_parcheggi,V_da_pes/pesatura,V_da_pes/pesatura,V_da_pes/pesatura,P_da_est/estrusore,V_per_park/estrusore',\n",
       "  'case:concept:name': 1},\n",
       " {'variant': 'V_da_pes/pesatura,P_da_est/estrusore,V_da_pes/pesatura,P_da_est/estrusore,P_da_est/estrusore,V_da_pes/pesatura,V_da_pes/pesatura,P_da_est/estrusore,V_da_pes/pesatura,P_da_est/estrusore,V_da_pes/pesatura,P_da_est/estrusore,P_da_est/estrusore,V_per_park/estrusore',\n",
       "  'case:concept:name': 1},\n",
       " {'variant': 'V_da_pes/pesatura,P_da_est/estrusore,V_da_pes/pesatura,P_da_est/estrusore,P_da_est/estrusore,V_da_pes/pesatura,P_da_est/estrusore,V_da_pes/pesatura,P_da_est/estrusore,V_da_pes/pesatura,P_da_est/estrusore,P_da_est/estrusore,V_per_park/catenaria_parcheggi,V_da_pes/pesatura,V_da_pes/pesatura,P_per_park/catenaria_parcheggi,P_per_park/catenaria_parcheggi,V_da_pes/pesatura,P_da_est/estrusore,V_da_pes/pesatura,P_da_est/estrusore,V_da_pes/pesatura,P_da_est/estrusore,V_per_park/catenaria_parcheggi,P_da_misc/miscelatore,P_da_est/miscelatore,P_per_park/miscelatore,P_per_park/cat_usc_pieni,P_per_park/nav_serv_carr_pieni,P_per_park/catenaria_parcheggi,P_da_est/catenaria_ing_misc,P_da_est/nav_serv_carr_pieni,P_da_est/carroponte_1,P_da_est/estrusore,V_da_pes/estrusore',\n",
       "  'case:concept:name': 1},\n",
       " {'variant': 'V_da_pes/pesatura,P_da_est/estrusore,V_da_pes/pesatura,P_da_est/estrusore,P_da_est/estrusore,V_da_pes/pesatura,P_da_est/estrusore,P_da_est/estrusore,V_da_pes/pesatura,P_da_est/estrusore,V_da_pes/pesatura,P_da_est/estrusore,V_da_pes/pesatura,P_da_est/estrusore,V_da_pes/pesatura,P_da_est/estrusore,V_da_pes/pesatura,P_da_est/estrusore,V_da_pes/pesatura,P_da_est/estrusore,V_per_park/estrusore',\n",
       "  'case:concept:name': 1},\n",
       " {'variant': 'V_da_pes/pesatura,P_da_est/estrusore,V_da_pes/estrusore',\n",
       "  'case:concept:name': 1},\n",
       " {'variant': 'V_da_pes/pesatura,P_da_est/estrusore,V_da_pes/catenaria_ing_misc,V_da_pes/pesatura,P_da_est/estrusore,V_per_park/catenaria_parcheggi,P_da_est/estrusore,P_da_est/estrusore,V_per_park/catenaria_parcheggi,Not_def/fuori_impianto,P_da_misc/miscelatore,V_da_pes/miscelatore,V_da_pes/pesatura,P_remove/pesatura,P_da_misc/miscelatore,P_da_est/miscelatore,P_da_est/cat_usc_pieni,P_da_est/nav_serv_carr_pieni,P_da_est/carroponte_1,P_da_est/estrusore,V_per_park/estrusore',\n",
       "  'case:concept:name': 1},\n",
       " {'variant': 'V_da_pes/pesatura,P_da_est/estrusore,P_da_est/estrusore,V_per_park/estrusore',\n",
       "  'case:concept:name': 1},\n",
       " {'variant': 'V_da_pes/pesatura,P_da_est/estrusore,P_da_est/estrusore,V_per_park/catenaria_parcheggi,V_da_pes/pesatura,P_da_est/estrusore,V_per_park/catenaria_parcheggi,P_da_est/estrusore,P_da_est/estrusore,V_da_pes/pesatura,P_da_est/estrusore,P_da_est/estrusore,P_per_park/catenaria_parcheggi,P_da_est/estrusore,V_da_pes/pesatura,P_da_est/estrusore,P_da_est/estrusore,V_da_pes/pesatura,P_da_est/estrusore,V_per_park/catenaria_parcheggi,V_per_park/pesatura,P_per_park/catenaria_parcheggi,P_da_est/estrusore,V_da_pes/pesatura,P_da_est/estrusore,P_da_est/estrusore,V_da_pes/pesatura,P_da_est/estrusore,V_per_park/estrusore',\n",
       "  'case:concept:name': 1},\n",
       " {'variant': 'V_da_pes/pesatura,P_da_est/estrusore,P_da_est/estrusore,V_da_pes/pesatura,P_da_est/estrusore,V_per_park/carroponte_1,V_da_pes/pesatura,P_da_est/estrusore,V_da_pes/pesatura,P_da_est/estrusore,V_per_park/catenaria_parcheggi,P_da_est/carroponte_1,P_da_est/estrusore,V_per_park/estrusore',\n",
       "  'case:concept:name': 1},\n",
       " {'variant': 'V_da_pes/pesatura,P_da_est/estrusore,P_da_est/estrusore,V_da_pes/catenaria_vuoti,V_da_pes/catenaria_ing_misc,V_da_pes/pesatura,P_da_misc/pesatura,P_da_misc/navetta_serv_misc,P_da_misc/miscelatore,P_da_est/miscelatore,P_da_est/nav_serv_carr_pieni,P_da_est/carroponte_1,P_da_est/buffer,P_da_est/carroponte_2,P_da_est/estrusore,V_per_park/estrusore',\n",
       "  'case:concept:name': 1},\n",
       " {'variant': 'V_da_pes/pesatura,P_da_est/estrusore,P_da_est/estrusore,V_da_pes/catenaria_ing_misc,P_da_est/estrusore,V_da_pes/pesatura,P_da_misc/miscelatore,P_da_est/estrusore,V_per_park/estrusore',\n",
       "  'case:concept:name': 1},\n",
       " {'variant': 'V_da_pes/pesatura,P_da_est/estrusore,P_da_est/estrusore,P_da_est/estrusore,V_da_pes/catenaria_ing_misc,V_da_pes/pesatura,P_da_misc/pesatura,P_da_misc/navetta_serv_misc,P_da_misc/miscelatore,P_da_est/miscelatore,P_da_est/cat_usc_pieni,P_da_est/nav_serv_carr_pieni,P_da_est/carroponte_1,P_da_est/estrusore,V_per_park/estrusore',\n",
       "  'case:concept:name': 1},\n",
       " {'variant': 'V_da_pes/pesatura,P_da_est/estrusore,P_da_est/estrusore,P_da_est/estrusore,V_da_pes/catenaria_ing_misc,P_da_est/estrusore,P_da_est/estrusore,P_da_est/estrusore,P_da_est/estrusore,P_da_est/estrusore,P_da_est/estrusore,P_da_est/estrusore,V_da_pes/pesatura,P_da_misc/pesatura,P_da_misc/miscelatore,P_da_est/miscelatore,P_da_est/nav_serv_carr_pieni,P_da_est/carroponte_1,P_da_est/estrusore,V_per_park/estrusore',\n",
       "  'case:concept:name': 1},\n",
       " {'variant': 'V_da_pes/pesatura,P_da_est/estrusore,P_da_est/estrusore,P_da_est/estrusore,P_da_misc/miscelatore,P_da_est/miscelatore,P_da_est/cat_usc_pieni,P_da_est/nav_serv_carr_pieni,P_da_est/carroponte_1,P_da_est/buffer,P_da_est/estrusore,V_per_park/estrusore',\n",
       "  'case:concept:name': 1},\n",
       " {'variant': 'V_da_pes/pesatura,P_da_est/estrusore,P_da_est/estrusore,P_da_est/estrusore,P_da_est/estrusore,P_da_est/estrusore,V_da_pes/pesatura,P_da_est/estrusore,V_da_pes/pesatura,P_da_est/estrusore,P_da_est/estrusore,V_per_park/catenaria_parcheggi,V_da_pes/pesatura,P_da_est/estrusore,P_da_est/estrusore,V_per_park/catenaria_parcheggi,V_da_pes/pesatura,P_da_est/estrusore,V_da_pes/pesatura,P_da_est/estrusore,V_da_pes/pesatura,P_da_est/estrusore,P_da_est/estrusore,V_per_park/catenaria_parcheggi,P_da_est/cat_usc_pieni,P_da_est/nav_serv_carr_pieni,P_da_est/carroponte_1,P_da_est/estrusore,V_per_park/estrusore',\n",
       "  'case:concept:name': 1},\n",
       " {'variant': 'V_da_pes/pesatura,P_da_est/estrusore,P_da_est/estrusore,P_da_est/cat_usc_pieni,P_da_est/estrusore,P_da_est/estrusore,V_da_pes/catenaria_ing_misc,P_da_est/estrusore,P_da_est/buffer,P_da_est/estrusore,V_per_park/catenaria_parcheggi,P_da_est/estrusore,V_per_park/catenaria_parcheggi,P_da_est/estrusore,V_per_park/catenaria_parcheggi,V_da_pes/pesatura,P_da_est/estrusore,P_da_est/estrusore,P_da_est/buffer,P_da_est/estrusore,P_da_est/estrusore,P_da_est/buffer,P_da_est/estrusore,P_da_est/buffer,P_da_est/estrusore,P_da_est/buffer,P_da_est/estrusore,V_da_pes/pesatura,P_da_est/buffer,P_da_est/estrusore,V_da_pes/pesatura,P_da_est/buffer,P_da_est/estrusore,V_da_pes/pesatura,P_da_est/estrusore,V_per_park/estrusore',\n",
       "  'case:concept:name': 1},\n",
       " {'variant': 'V_da_pes/pesatura,P_da_est/estrusore,P_da_est/estrusore,Not_def/fuori_impianto,P_da_est/estrusore,Not_def/fuori_impianto,P_da_est/estrusore,Not_def/fuori_impianto,Not_def/fuori_impianto,Not_def/fuori_impianto,Not_def/fuori_impianto,P_da_est/estrusore,Not_def/fuori_impianto,P_da_est/estrusore,P_da_est/estrusore,Not_def/fuori_impianto,Not_def/fuori_impianto,V_da_pes/pesatura,Not_def/fuori_impianto,V_da_pes/pesatura,Not_def/fuori_impianto,P_da_est/estrusore,Not_def/fuori_impianto,P_da_est/estrusore,Not_def/fuori_impianto,V_da_pes/pesatura,V_per_park/manuale,Not_def/fuori_impianto,Not_def/fuori_impianto,P_da_est/estrusore,Not_def/fuori_impianto,P_da_est/estrusore,Not_def/fuori_impianto,Not_def/fuori_impianto,P_da_est/estrusore,V_per_park/estrusore',\n",
       "  'case:concept:name': 1},\n",
       " {'variant': 'V_da_pes/pesatura,P_da_est/estrusore,P_da_est/buffer,P_da_est/estrusore,V_per_park/estrusore',\n",
       "  'case:concept:name': 1},\n",
       " {'variant': 'V_da_pes/pesatura,P_da_est/estrusore,P_da_est/buffer,P_da_est/estrusore,V_per_park/catenaria_parcheggi,V_da_pes/pesatura,P_per_park/catenaria_parcheggi,P_da_est/buffer,P_da_est/estrusore,V_da_pes/pesatura,P_da_est/estrusore,P_da_est/buffer,P_da_est/estrusore,P_da_est/estrusore,P_da_est/buffer,P_da_est/estrusore,P_da_est/estrusore,V_per_park/estrusore',\n",
       "  'case:concept:name': 1},\n",
       " {'variant': 'V_da_pes/pesatura,P_da_est/estrusore,P_da_est/buffer,P_da_est/estrusore,V_da_pes/pesatura,P_da_est/buffer,P_da_est/estrusore,V_da_pes/pesatura,P_da_est/estrusore,P_da_est/estrusore,P_da_est/buffer,P_da_est/estrusore,P_da_est/buffer,P_da_est/estrusore,V_da_pes/pesatura,P_da_est/buffer,P_da_est/estrusore,P_da_est/estrusore,P_da_est/estrusore,P_da_est/buffer,P_da_est/estrusore,P_da_est/buffer,P_da_est/estrusore,P_da_est/nav_serv_carr_pieni,P_da_est/estrusore,V_da_pes/catenaria_ing_misc,P_da_est/estrusore,V_per_park/estrusore',\n",
       "  'case:concept:name': 1},\n",
       " {'variant': 'V_da_pes/pesatura,P_da_est/estrusore,Not_def/fuori_impianto,P_da_est/estrusore,Not_def/fuori_impianto,P_da_est/manuale,P_da_est/carroponte_2,P_da_est/estrusore,V_per_park/estrusore',\n",
       "  'case:concept:name': 1},\n",
       " {'variant': 'V_da_pes/pesatura,P_da_est/carroponte_2,P_da_est/estrusore,V_per_park/estrusore',\n",
       "  'case:concept:name': 1},\n",
       " {'variant': 'V_da_pes/pesatura,P_da_est/buffer,V_da_pes/pesatura,V_da_pes/pesatura,V_da_pes/pesatura,V_da_pes/pesatura,V_da_pes/pesatura,V_da_pes/pesatura,P_da_est/estrusore,V_da_pes/pesatura,P_da_est/estrusore,P_da_est/estrusore,P_da_est/estrusore,P_da_est/nav_serv_carr_pieni,P_da_est/estrusore,P_da_est/buffer,P_da_est/buffer,V_da_pes/pesatura,P_da_est/estrusore,P_da_est/estrusore,P_da_est/estrusore,P_da_est/estrusore,P_da_est/buffer,P_da_est/estrusore,P_da_est/buffer,V_per_park/catenaria_parcheggi,V_da_pes/catenaria_ing_misc,P_da_est/estrusore,P_da_est/buffer,P_da_est/estrusore,P_da_est/buffer,P_da_est/estrusore,V_da_pes/pesatura,P_da_est/estrusore,P_da_est/estrusore,P_da_est/buffer,P_da_est/estrusore,P_da_est/buffer,P_da_est/estrusore,P_da_est/estrusore,P_da_est/estrusore,V_per_park/catenaria_parcheggi,V_da_pes/pesatura,P_recheck/pesatura,V_per_park/catenaria_parcheggi,P_da_est/estrusore,P_da_est/estrusore,P_da_est/estrusore,P_da_est/estrusore,P_da_est/estrusore,P_da_est/buffer,P_da_est/estrusore,P_da_est/estrusore,P_da_est/estrusore,P_da_est/estrusore,V_da_pes/pesatura,P_da_misc/pesatura,P_da_misc/miscelatore,P_da_est/miscelatore,P_da_est/nav_serv_carr_pieni,P_da_est/carroponte_1,P_da_est/buffer,P_da_est/estrusore,P_da_est/estrusore,P_da_est/estrusore,V_per_park/estrusore',\n",
       "  'case:concept:name': 1},\n",
       " {'variant': 'V_da_pes/pesatura,P_da_est/buffer,P_da_est/estrusore,P_da_est/buffer,P_da_est/estrusore,P_da_est/buffer,P_da_est/estrusore,V_per_park/estrusore',\n",
       "  'case:concept:name': 1},\n",
       " {'variant': 'V_da_pes/pesatura,Not_def/fuori_impianto,P_da_est/manuale,P_da_est/carroponte_2,P_da_est/estrusore,V_per_park/carroponte_2,V_da_pes/pesatura,P_da_misc/pesatura,P_da_misc/miscelatore,P_remove/miscelatore,Not_def/fuori_impianto,P_da_est/manuale,P_da_est/carroponte_2,P_da_est/estrusore,V_per_park/estrusore',\n",
       "  'case:concept:name': 1}]"
      ]
     },
     "execution_count": 11,
     "metadata": {},
     "output_type": "execute_result"
    }
   ],
   "source": [
    "variants_count"
   ]
  },
  {
   "cell_type": "code",
   "execution_count": 12,
   "id": "b2a3ca5d",
   "metadata": {},
   "outputs": [
    {
     "data": {
      "image/png": "[encoded data removed]",
      "text/plain": [
       "<IPython.core.display.Image object>"
      ]
     },
     "metadata": {},
     "output_type": "display_data"
    }
   ],
   "source": [
    "#  take most significant variants\n",
    "filtered_log = pm4py.filter_variants_top_k(event_log, 30)\n",
    "\n",
    "#  visualize heuristic net\n",
    "from pm4py.algo.discovery.heuristics import algorithm as heuristics_miner\n",
    "from pm4py.visualization.heuristics_net import visualizer as hn_visualizer\n",
    "heu_net = heuristics_miner.apply_heu(filtered_log,\n",
    "                                     parameters={heuristics_miner.Variants.CLASSIC.value.Parameters.MIN_ACT_COUNT: 1,\n",
    "                                                heuristics_miner.Variants.CLASSIC.value.Parameters.MIN_DFG_OCCURRENCES: 1,\n",
    "                                                heuristics_miner.Variants.CLASSIC.value.Parameters.LOOP_LENGTH_TWO_THRESH: 2})\n",
    "gviz = hn_visualizer.apply(heu_net)\n",
    "hn_visualizer.view(gviz)"
   ]
  },
  {
   "cell_type": "code",
   "execution_count": 13,
   "id": "d817e328",
   "metadata": {},
   "outputs": [],
   "source": [
    "pm4py.save_vis_heuristics_net(heu_net, 'C:/Users/HP/Desktop/huristicnet_post_pes.png')"
   ]
  },
  {
   "cell_type": "code",
   "execution_count": 14,
   "id": "188e263c-d0fb-409e-aefe-6203045323bc",
   "metadata": {},
   "outputs": [
    {
     "data": {
      "text/html": [
       "<div>\n",
       "<style scoped>\n",
       "    .dataframe tbody tr th:only-of-type {\n",
       "        vertical-align: middle;\n",
       "    }\n",
       "\n",
       "    .dataframe tbody tr th {\n",
       "        vertical-align: top;\n",
       "    }\n",
       "\n",
       "    .dataframe thead th {\n",
       "        text-align: right;\n",
       "    }\n",
       "</style>\n",
       "<table border=\"1\" class=\"dataframe\">\n",
       "  <thead>\n",
       "    <tr style=\"text-align: right;\">\n",
       "      <th></th>\n",
       "      <th>cono</th>\n",
       "      <th>rif</th>\n",
       "      <th>ID_unique</th>\n",
       "      <th>timestamp</th>\n",
       "      <th>case:concept:name</th>\n",
       "      <th>concept:name</th>\n",
       "      <th>time:timestamp</th>\n",
       "      <th>@@index</th>\n",
       "    </tr>\n",
       "  </thead>\n",
       "  <tbody>\n",
       "    <tr>\n",
       "      <th>0</th>\n",
       "      <td>1</td>\n",
       "      <td>V_da_pes/pesatura</td>\n",
       "      <td>0C1</td>\n",
       "      <td>2022-03-23 01:54:52+00:00</td>\n",
       "      <td>0C1</td>\n",
       "      <td>V_da_pes/pesatura</td>\n",
       "      <td>2022-03-23 01:54:52+00:00</td>\n",
       "      <td>0</td>\n",
       "    </tr>\n",
       "    <tr>\n",
       "      <th>1</th>\n",
       "      <td>1</td>\n",
       "      <td>P_da_misc/pesatura</td>\n",
       "      <td>0C1</td>\n",
       "      <td>2022-03-23 02:09:10+00:00</td>\n",
       "      <td>0C1</td>\n",
       "      <td>P_da_misc/pesatura</td>\n",
       "      <td>2022-03-23 02:09:10+00:00</td>\n",
       "      <td>1</td>\n",
       "    </tr>\n",
       "    <tr>\n",
       "      <th>2</th>\n",
       "      <td>1</td>\n",
       "      <td>P_da_misc/miscelatore</td>\n",
       "      <td>0C1</td>\n",
       "      <td>2022-03-23 02:11:28+00:00</td>\n",
       "      <td>0C1</td>\n",
       "      <td>P_da_misc/miscelatore</td>\n",
       "      <td>2022-03-23 02:11:28+00:00</td>\n",
       "      <td>2</td>\n",
       "    </tr>\n",
       "    <tr>\n",
       "      <th>3</th>\n",
       "      <td>1</td>\n",
       "      <td>P_da_est/miscelatore</td>\n",
       "      <td>0C1</td>\n",
       "      <td>2022-03-23 02:13:45+00:00</td>\n",
       "      <td>0C1</td>\n",
       "      <td>P_da_est/miscelatore</td>\n",
       "      <td>2022-03-23 02:13:45+00:00</td>\n",
       "      <td>3</td>\n",
       "    </tr>\n",
       "    <tr>\n",
       "      <th>4</th>\n",
       "      <td>1</td>\n",
       "      <td>P_da_est/cat_usc_pieni</td>\n",
       "      <td>0C1</td>\n",
       "      <td>2022-03-23 02:14:54+00:00</td>\n",
       "      <td>0C1</td>\n",
       "      <td>P_da_est/cat_usc_pieni</td>\n",
       "      <td>2022-03-23 02:14:54+00:00</td>\n",
       "      <td>4</td>\n",
       "    </tr>\n",
       "    <tr>\n",
       "      <th>...</th>\n",
       "      <td>...</td>\n",
       "      <td>...</td>\n",
       "      <td>...</td>\n",
       "      <td>...</td>\n",
       "      <td>...</td>\n",
       "      <td>...</td>\n",
       "      <td>...</td>\n",
       "      <td>...</td>\n",
       "    </tr>\n",
       "    <tr>\n",
       "      <th>4685</th>\n",
       "      <td>7</td>\n",
       "      <td>P_da_est/miscelatore</td>\n",
       "      <td>9C7</td>\n",
       "      <td>2022-03-30 14:22:54+00:00</td>\n",
       "      <td>9C7</td>\n",
       "      <td>P_da_est/miscelatore</td>\n",
       "      <td>2022-03-30 14:22:54+00:00</td>\n",
       "      <td>4685</td>\n",
       "    </tr>\n",
       "    <tr>\n",
       "      <th>4686</th>\n",
       "      <td>7</td>\n",
       "      <td>P_da_est/nav_serv_carr_pieni</td>\n",
       "      <td>9C7</td>\n",
       "      <td>2022-03-30 14:25:11+00:00</td>\n",
       "      <td>9C7</td>\n",
       "      <td>P_da_est/nav_serv_carr_pieni</td>\n",
       "      <td>2022-03-30 14:25:11+00:00</td>\n",
       "      <td>4686</td>\n",
       "    </tr>\n",
       "    <tr>\n",
       "      <th>4687</th>\n",
       "      <td>7</td>\n",
       "      <td>P_da_est/carroponte_1</td>\n",
       "      <td>9C7</td>\n",
       "      <td>2022-03-30 14:26:54+00:00</td>\n",
       "      <td>9C7</td>\n",
       "      <td>P_da_est/carroponte_1</td>\n",
       "      <td>2022-03-30 14:26:54+00:00</td>\n",
       "      <td>4687</td>\n",
       "    </tr>\n",
       "    <tr>\n",
       "      <th>4688</th>\n",
       "      <td>7</td>\n",
       "      <td>P_da_est/estrusore</td>\n",
       "      <td>9C7</td>\n",
       "      <td>2022-03-30 14:28:37+00:00</td>\n",
       "      <td>9C7</td>\n",
       "      <td>P_da_est/estrusore</td>\n",
       "      <td>2022-03-30 14:28:37+00:00</td>\n",
       "      <td>4688</td>\n",
       "    </tr>\n",
       "    <tr>\n",
       "      <th>4689</th>\n",
       "      <td>7</td>\n",
       "      <td>V_per_park/estrusore</td>\n",
       "      <td>9C7</td>\n",
       "      <td>2022-03-30 15:03:31+00:00</td>\n",
       "      <td>9C7</td>\n",
       "      <td>V_per_park/estrusore</td>\n",
       "      <td>2022-03-30 15:03:31+00:00</td>\n",
       "      <td>4689</td>\n",
       "    </tr>\n",
       "  </tbody>\n",
       "</table>\n",
       "<p>11358 rows × 8 columns</p>\n",
       "</div>"
      ],
      "text/plain": [
       "      cono                           rif ID_unique                 timestamp  \\\n",
       "0        1             V_da_pes/pesatura       0C1 2022-03-23 01:54:52+00:00   \n",
       "1        1            P_da_misc/pesatura       0C1 2022-03-23 02:09:10+00:00   \n",
       "2        1         P_da_misc/miscelatore       0C1 2022-03-23 02:11:28+00:00   \n",
       "3        1          P_da_est/miscelatore       0C1 2022-03-23 02:13:45+00:00   \n",
       "4        1        P_da_est/cat_usc_pieni       0C1 2022-03-23 02:14:54+00:00   \n",
       "...    ...                           ...       ...                       ...   \n",
       "4685     7          P_da_est/miscelatore       9C7 2022-03-30 14:22:54+00:00   \n",
       "4686     7  P_da_est/nav_serv_carr_pieni       9C7 2022-03-30 14:25:11+00:00   \n",
       "4687     7         P_da_est/carroponte_1       9C7 2022-03-30 14:26:54+00:00   \n",
       "4688     7            P_da_est/estrusore       9C7 2022-03-30 14:28:37+00:00   \n",
       "4689     7          V_per_park/estrusore       9C7 2022-03-30 15:03:31+00:00   \n",
       "\n",
       "     case:concept:name                  concept:name  \\\n",
       "0                  0C1             V_da_pes/pesatura   \n",
       "1                  0C1            P_da_misc/pesatura   \n",
       "2                  0C1         P_da_misc/miscelatore   \n",
       "3                  0C1          P_da_est/miscelatore   \n",
       "4                  0C1        P_da_est/cat_usc_pieni   \n",
       "...                ...                           ...   \n",
       "4685               9C7          P_da_est/miscelatore   \n",
       "4686               9C7  P_da_est/nav_serv_carr_pieni   \n",
       "4687               9C7         P_da_est/carroponte_1   \n",
       "4688               9C7            P_da_est/estrusore   \n",
       "4689               9C7          V_per_park/estrusore   \n",
       "\n",
       "                time:timestamp  @@index  \n",
       "0    2022-03-23 01:54:52+00:00        0  \n",
       "1    2022-03-23 02:09:10+00:00        1  \n",
       "2    2022-03-23 02:11:28+00:00        2  \n",
       "3    2022-03-23 02:13:45+00:00        3  \n",
       "4    2022-03-23 02:14:54+00:00        4  \n",
       "...                        ...      ...  \n",
       "4685 2022-03-30 14:22:54+00:00     4685  \n",
       "4686 2022-03-30 14:25:11+00:00     4686  \n",
       "4687 2022-03-30 14:26:54+00:00     4687  \n",
       "4688 2022-03-30 14:28:37+00:00     4688  \n",
       "4689 2022-03-30 15:03:31+00:00     4689  \n",
       "\n",
       "[11358 rows x 8 columns]"
      ]
     },
     "execution_count": 14,
     "metadata": {},
     "output_type": "execute_result"
    }
   ],
   "source": [
    "filtered_log"
   ]
  },
  {
   "cell_type": "markdown",
   "id": "de6e54b9",
   "metadata": {},
   "source": [
    "### Calcolo intertempi tra le attività"
   ]
  },
  {
   "cell_type": "code",
   "execution_count": 15,
   "id": "ea7a80bc",
   "metadata": {},
   "outputs": [],
   "source": [
    "delta_t_est = {'pesatura': [],\n",
    "              'hand_to_misc': [],\n",
    "              'miscelazione': [],\n",
    "              'hand_to_est':[],\n",
    "              'estrusione': []}\n",
    "\n",
    "df_est = filtered_log[['ID_unique', 'rif', 'timestamp']].copy()"
   ]
  },
  {
   "cell_type": "code",
   "execution_count": 16,
   "id": "d4e90a6e",
   "metadata": {},
   "outputs": [],
   "source": [
    "for idu in df_est['ID_unique'].unique():\n",
    "    mask = df_est['ID_unique'] == idu\n",
    "    df_tmp = df_est[mask].sort_values('timestamp')\n",
    "    df_tmp.set_index('rif', inplace=True)\n",
    "    if len(df_tmp) == len(df_tmp.index.unique()):\n",
    "        for k in delta_t_est:\n",
    "            minuendo = None\n",
    "            sottraendo = None\n",
    "            if k == 'pesatura':\n",
    "                if 'P_da_misc/pesatura' in df_tmp.index:\n",
    "                    minuendo = 'P_da_misc/pesatura'\n",
    "                    sottraendo = 'V_da_pes/pesatura'\n",
    "                else:\n",
    "                    continue\n",
    "                #-----------\n",
    "            elif k == 'hand_to_misc':\n",
    "                if 'P_da_misc/pesatura' in df_tmp.index:\n",
    "                    minuendo = 'P_da_misc/miscelatore'\n",
    "                    sottraendo = 'P_da_misc/pesatura'\n",
    "                else:\n",
    "                    continue\n",
    "                #-----------\n",
    "            elif k == 'miscelazione':\n",
    "                if 'P_remove/miscelatore' in df_tmp.index:\n",
    "                    minuendo = 'P_remove/miscelatore'\n",
    "                    sottraendo = 'P_da_misc/miscelatore'\n",
    "                elif 'P_da_est/miscelatore' in df_tmp.index:\n",
    "                    minuendo = 'P_da_est/miscelatore'\n",
    "                    sottraendo = 'P_da_misc/miscelatore'\n",
    "                #----------------\n",
    "            elif k == 'hand_to_est':\n",
    "                if 'P_da_est/buffer' in df_tmp.index and 'P_da_est/cat_usc_pieni' in df_tmp.index:\n",
    "                    minuendo = 'P_da_est/buffer'\n",
    "                    sottraendo = 'P_da_est/cat_usc_pieni'\n",
    "                elif 'P_da_est/buffer' in df_tmp.index and 'P_da_est/miscelatore' in df_tmp.index and 'P_da_est/cat_usc_pieni' not in df_tmp.index:\n",
    "                    minuendo = 'P_da_est/buffer'\n",
    "                    sottraendo = 'P_da_est/miscelatore'\n",
    "                elif 'P_da_est/estrusore' in df_tmp.index and 'P_da_est/cat_usc_pieni' in df_tmp.index and 'P_da_est/buffer' not in df_tmp.index:\n",
    "                    minuendo = 'P_da_est/estrusore'\n",
    "                    sottraendo = 'P_da_est/cat_usc_pieni'\n",
    "                elif 'P_da_est/estrusore' in df_tmp.index and 'P_da_est/miscelatore' in df_tmp.index and 'P_da_est/cat_usc_pieni' not in df_tmp.index and 'P_da_est/buffer' not in df_tmp.index:\n",
    "                    minuendo = 'P_da_est/estrusore'\n",
    "                    sottraendo = 'P_da_est/miscelatore'\n",
    "                # ------------------\n",
    "            elif k == 'estrusione':\n",
    "                if 'V_da_pes/estrusore' in df_tmp.index:\n",
    "                    minuendo = 'V_da_pes/estrusore'\n",
    "                    sottraendo = 'P_da_est/estrusore'\n",
    "                else:\n",
    "                    minuendo = 'V_per_park/estrusore'\n",
    "                    sottraendo = 'P_da_est/estrusore'\n",
    "\n",
    "            if minuendo in df_tmp.index and sottraendo in df_tmp.index:\n",
    "                dt = np.round(\n",
    "                    (df_tmp.loc[minuendo, 'timestamp'] - df_tmp.loc[sottraendo, 'timestamp']).total_seconds() / 60, 4)\n",
    "                delta_t_est[k].append(dt)"
   ]
  },
  {
   "cell_type": "code",
   "execution_count": 38,
   "id": "3939c4ba-48c4-4564-9136-ba27eec2b248",
   "metadata": {},
   "outputs": [
    {
     "data": {
      "text/plain": [
       "dict_keys(['pesatura', 'hand_to_misc', 'miscelazione', 'hand_to_est', 'estrusione'])"
      ]
     },
     "execution_count": 38,
     "metadata": {},
     "output_type": "execute_result"
    }
   ],
   "source": [
    "delta_t_est.keys()"
   ]
  },
  {
   "cell_type": "code",
   "execution_count": 43,
   "id": "7d50c2a0-b306-41d7-a9fd-56cbe3a62ff1",
   "metadata": {},
   "outputs": [
    {
     "data": {
      "text/plain": [
       "48.00737987117552"
      ]
     },
     "execution_count": 43,
     "metadata": {},
     "output_type": "execute_result"
    }
   ],
   "source": [
    "np.mean(delta_t_est['estrusione'])"
   ]
  },
  {
   "cell_type": "code",
   "execution_count": 17,
   "id": "fbd0f292",
   "metadata": {},
   "outputs": [],
   "source": [
    "df_dt = pd.DataFrame.from_dict(delta_t_est, orient='index').transpose()"
   ]
  },
  {
   "cell_type": "code",
   "execution_count": 18,
   "id": "befc1cef",
   "metadata": {},
   "outputs": [
    {
     "name": "stdout",
     "output_type": "stream",
     "text": [
      "<class 'pandas.core.frame.DataFrame'>\n",
      "RangeIndex: 1242 entries, 0 to 1241\n",
      "Data columns (total 5 columns):\n",
      " #   Column        Non-Null Count  Dtype  \n",
      "---  ------        --------------  -----  \n",
      " 0   pesatura      1221 non-null   float64\n",
      " 1   hand_to_misc  1221 non-null   float64\n",
      " 2   miscelazione  1178 non-null   float64\n",
      " 3   hand_to_est   1176 non-null   float64\n",
      " 4   estrusione    1242 non-null   float64\n",
      "dtypes: float64(5)\n",
      "memory usage: 48.6 KB\n"
     ]
    }
   ],
   "source": [
    "df_dt.info()"
   ]
  },
  {
   "cell_type": "markdown",
   "id": "f91157b6",
   "metadata": {},
   "source": [
    "### Data visualization"
   ]
  },
  {
   "cell_type": "code",
   "execution_count": 19,
   "id": "51a248cf",
   "metadata": {},
   "outputs": [],
   "source": [
    "def quantile(column,pct,pct_lower):\n",
    "    y = column\n",
    "    y.dropna(inplace=True)\n",
    "    y = y.values\n",
    "    y.sort()\n",
    "    len_y = len(y)\n",
    "    y = y[int(pct_lower * len_y):int(len_y * pct)]\n",
    "    return (y)"
   ]
  },
  {
   "cell_type": "code",
   "execution_count": 20,
   "id": "368fb1f3",
   "metadata": {},
   "outputs": [
    {
     "data": {
      "text/plain": [
       "<seaborn.axisgrid.FacetGrid at 0x1b3a5c887c0>"
      ]
     },
     "execution_count": 20,
     "metadata": {},
     "output_type": "execute_result"
    },
    {
     "data": {
      "image/png": "[encoded data removed]",
      "text/plain": [
       "<Figure size 540x360 with 1 Axes>"
      ]
     },
     "metadata": {},
     "output_type": "display_data"
    }
   ],
   "source": [
    "sns.set_style('white')\n",
    "sns.set_context(\"paper\", font_scale = 2)\n",
    "sns.displot(data=df_dt, x=\"pesatura\", kind=\"hist\", bins = 100, aspect = 1.5)"
   ]
  },
  {
   "cell_type": "code",
   "execution_count": 21,
   "id": "3256def2",
   "metadata": {},
   "outputs": [
    {
     "data": {
      "text/plain": [
       "8.955601158940398"
      ]
     },
     "execution_count": 21,
     "metadata": {},
     "output_type": "execute_result"
    }
   ],
   "source": [
    "np.mean(quantile(df_dt['pesatura'], 0.99, 0))"
   ]
  },
  {
   "cell_type": "code",
   "execution_count": 22,
   "id": "8bcb7fad",
   "metadata": {},
   "outputs": [
    {
     "data": {
      "text/plain": [
       "<seaborn.axisgrid.FacetGrid at 0x1b3a60099a0>"
      ]
     },
     "execution_count": 22,
     "metadata": {},
     "output_type": "execute_result"
    },
    {
     "data": {
      "image/png": "[encoded data removed]",
      "text/plain": [
       "<Figure size 540x360 with 1 Axes>"
      ]
     },
     "metadata": {},
     "output_type": "display_data"
    }
   ],
   "source": [
    "sns.set_style('white')\n",
    "sns.set_context(\"paper\", font_scale = 2)\n",
    "sns.displot(data=df_dt, x=\"hand_to_misc\", kind=\"hist\", bins = 50, aspect = 1.5)"
   ]
  },
  {
   "cell_type": "code",
   "execution_count": 23,
   "id": "3e360f72",
   "metadata": {},
   "outputs": [
    {
     "data": {
      "text/plain": [
       "<seaborn.axisgrid.FacetGrid at 0x1b3a51cc1c0>"
      ]
     },
     "execution_count": 23,
     "metadata": {},
     "output_type": "execute_result"
    },
    {
     "data": {
      "image/png": "[encoded data removed]",
      "text/plain": [
       "<Figure size 540x360 with 1 Axes>"
      ]
     },
     "metadata": {},
     "output_type": "display_data"
    }
   ],
   "source": [
    "sns.set_style('white')\n",
    "sns.set_context(\"paper\", font_scale = 2)\n",
    "sns.displot(data=df_dt, x=\"miscelazione\", kind=\"hist\", bins = 50, aspect = 1.5)"
   ]
  },
  {
   "cell_type": "code",
   "execution_count": 30,
   "id": "1cfedb73",
   "metadata": {},
   "outputs": [
    {
     "data": {
      "text/plain": [
       "<seaborn.axisgrid.FacetGrid at 0x21832353d90>"
      ]
     },
     "execution_count": 30,
     "metadata": {},
     "output_type": "execute_result"
    },
    {
     "data": {
      "image/png": "[encoded data removed]",
      "text/plain": [
       "<Figure size 540x360 with 1 Axes>"
      ]
     },
     "metadata": {},
     "output_type": "display_data"
    }
   ],
   "source": [
    "sns.set_style('white')\n",
    "sns.set_context(\"paper\", font_scale = 2)\n",
    "sns.displot(data=df_dt, x=\"hand_to_est\", kind=\"hist\", bins = 60, aspect = 1.5)"
   ]
  },
  {
   "cell_type": "code",
   "execution_count": 31,
   "id": "a1928da5",
   "metadata": {},
   "outputs": [
    {
     "data": {
      "text/plain": [
       "<seaborn.axisgrid.FacetGrid at 0x2183260b520>"
      ]
     },
     "execution_count": 31,
     "metadata": {},
     "output_type": "execute_result"
    },
    {
     "data": {
      "image/png": "[encoded data removed]",
      "text/plain": [
       "<Figure size 540x360 with 1 Axes>"
      ]
     },
     "metadata": {},
     "output_type": "display_data"
    }
   ],
   "source": [
    "ns = pd.concat([df_dt['estrusione'], df_t_est['est_time']], ignore_index=True)\n",
    "dt_est = quantile(ns, 0.99, 0.01)\n",
    "sns.set_style('white')\n",
    "sns.set_context(\"paper\", font_scale = 2)\n",
    "sns.displot(data=dt_est, kind=\"hist\", bins = 100, aspect = 1.5)"
   ]
  },
  {
   "cell_type": "markdown",
   "id": "711ac541",
   "metadata": {},
   "source": [
    "### Fitting distributions to data"
   ]
  },
  {
   "cell_type": "code",
   "execution_count": 32,
   "id": "f572b14a",
   "metadata": {},
   "outputs": [
    {
     "name": "stderr",
     "output_type": "stream",
     "text": [
      "WARNING:root:SKIPPED kstwo distribution (taking more than 30 seconds)\n",
      "WARNING:root:SKIPPED kappa4 distribution (taking more than 30 seconds)\n",
      "WARNING:root:SKIPPED ksone distribution (taking more than 30 seconds)\n",
      "WARNING:root:SKIPPED levy_stable distribution (taking more than 30 seconds)\n",
      "WARNING:root:SKIPPED lognorm distribution (taking more than 30 seconds)\n",
      "WARNING:root:SKIPPED ncf distribution (taking more than 30 seconds)\n",
      "WARNING:root:SKIPPED ncx2 distribution (taking more than 30 seconds)\n",
      "WARNING:root:SKIPPED norminvgauss distribution (taking more than 30 seconds)\n",
      "WARNING:root:SKIPPED powerlognorm distribution (taking more than 30 seconds)\n",
      "WARNING:root:SKIPPED rv_continuous distribution (taking more than 30 seconds)\n",
      "WARNING:root:SKIPPED rv_histogram distribution (taking more than 30 seconds)\n",
      "WARNING:root:SKIPPED rdist distribution (taking more than 30 seconds)\n",
      "WARNING:root:SKIPPED studentized_range distribution (taking more than 30 seconds)\n",
      "WARNING:root:SKIPPED trapezoid distribution (taking more than 30 seconds)\n",
      "WARNING:root:SKIPPED triang distribution (taking more than 30 seconds)\n",
      "WARNING:root:SKIPPED tukeylambda distribution (taking more than 30 seconds)\n",
      "WARNING:root:SKIPPED vonmises distribution (taking more than 30 seconds)\n",
      "WARNING:root:SKIPPED vonmises_line distribution (taking more than 30 seconds)\n",
      "WARNING:root:SKIPPED weibull_max distribution (taking more than 30 seconds)\n",
      "WARNING:root:SKIPPED weibull_min distribution (taking more than 30 seconds)\n"
     ]
    },
    {
     "data": {
      "text/html": [
       "<div>\n",
       "<style scoped>\n",
       "    .dataframe tbody tr th:only-of-type {\n",
       "        vertical-align: middle;\n",
       "    }\n",
       "\n",
       "    .dataframe tbody tr th {\n",
       "        vertical-align: top;\n",
       "    }\n",
       "\n",
       "    .dataframe thead th {\n",
       "        text-align: right;\n",
       "    }\n",
       "</style>\n",
       "<table border=\"1\" class=\"dataframe\">\n",
       "  <thead>\n",
       "    <tr style=\"text-align: right;\">\n",
       "      <th></th>\n",
       "      <th>sumsquare_error</th>\n",
       "      <th>aic</th>\n",
       "      <th>bic</th>\n",
       "      <th>kl_div</th>\n",
       "    </tr>\n",
       "  </thead>\n",
       "  <tbody>\n",
       "    <tr>\n",
       "      <th>johnsonsu</th>\n",
       "      <td>0.000275</td>\n",
       "      <td>2333.086697</td>\n",
       "      <td>-18660.954047</td>\n",
       "      <td>inf</td>\n",
       "    </tr>\n",
       "    <tr>\n",
       "      <th>genextreme</th>\n",
       "      <td>0.000312</td>\n",
       "      <td>2201.949212</td>\n",
       "      <td>-18512.950501</td>\n",
       "      <td>inf</td>\n",
       "    </tr>\n",
       "    <tr>\n",
       "      <th>invweibull</th>\n",
       "      <td>0.000312</td>\n",
       "      <td>2201.914761</td>\n",
       "      <td>-18512.941614</td>\n",
       "      <td>inf</td>\n",
       "    </tr>\n",
       "    <tr>\n",
       "      <th>genhyperbolic</th>\n",
       "      <td>0.000313</td>\n",
       "      <td>2361.475259</td>\n",
       "      <td>-18495.073270</td>\n",
       "      <td>inf</td>\n",
       "    </tr>\n",
       "    <tr>\n",
       "      <th>invgamma</th>\n",
       "      <td>0.000321</td>\n",
       "      <td>2291.000212</td>\n",
       "      <td>-18478.855138</td>\n",
       "      <td>inf</td>\n",
       "    </tr>\n",
       "  </tbody>\n",
       "</table>\n",
       "</div>"
      ],
      "text/plain": [
       "               sumsquare_error          aic           bic  kl_div\n",
       "johnsonsu             0.000275  2333.086697 -18660.954047     inf\n",
       "genextreme            0.000312  2201.949212 -18512.950501     inf\n",
       "invweibull            0.000312  2201.914761 -18512.941614     inf\n",
       "genhyperbolic         0.000313  2361.475259 -18495.073270     inf\n",
       "invgamma              0.000321  2291.000212 -18478.855138     inf"
      ]
     },
     "execution_count": 32,
     "metadata": {},
     "output_type": "execute_result"
    },
    {
     "data": {
      "image/png": "[encoded data removed]",
      "text/plain": [
       "<Figure size 432x288 with 1 Axes>"
      ]
     },
     "metadata": {},
     "output_type": "display_data"
    }
   ],
   "source": [
    "#  extract best fitting distribution from 'pesatura'\n",
    "#data = quantile(df_dt['pesatura'], 0.99, 0.01)\n",
    "data = df_dt['pesatura']\n",
    "data.dropna(inplace=True)\n",
    "data = data.values\n",
    "f = Fitter(data)\n",
    "f.fit()\n",
    "f.summary()"
   ]
  },
  {
   "cell_type": "code",
   "execution_count": 33,
   "id": "77a3984d",
   "metadata": {},
   "outputs": [
    {
     "data": {
      "text/plain": [
       "{'johnsonsu': {'a': -2.309906114386883,\n",
       "  'b': 1.5337926656299627,\n",
       "  'loc': 1.8806498106960001,\n",
       "  'scale': 2.813651457755295}}"
      ]
     },
     "execution_count": 33,
     "metadata": {},
     "output_type": "execute_result"
    }
   ],
   "source": [
    "f.get_best(method = 'sumsquare_error')"
   ]
  },
  {
   "cell_type": "code",
   "execution_count": 40,
   "id": "3ef248a4-275a-4cc6-983f-cd4ef2e6c0b8",
   "metadata": {},
   "outputs": [
    {
     "name": "stderr",
     "output_type": "stream",
     "text": [
      "WARNING:root:SKIPPED argus distribution (taking more than 30 seconds)\n",
      "WARNING:root:SKIPPED anglit distribution (taking more than 30 seconds)\n",
      "WARNING:root:SKIPPED alpha distribution (taking more than 30 seconds)\n",
      "WARNING:root:SKIPPED arcsine distribution (taking more than 30 seconds)\n",
      "WARNING:root:SKIPPED beta distribution (taking more than 30 seconds)\n",
      "WARNING:root:SKIPPED betaprime distribution (taking more than 30 seconds)\n",
      "WARNING:root:SKIPPED bradford distribution (taking more than 30 seconds)\n",
      "WARNING:root:SKIPPED burr distribution (taking more than 30 seconds)\n",
      "WARNING:root:SKIPPED burr12 distribution (taking more than 30 seconds)\n",
      "WARNING:root:SKIPPED chi distribution (taking more than 30 seconds)\n",
      "WARNING:root:SKIPPED chi2 distribution (taking more than 30 seconds)\n",
      "WARNING:root:SKIPPED cosine distribution (taking more than 30 seconds)\n",
      "WARNING:root:SKIPPED crystalball distribution (taking more than 30 seconds)\n",
      "WARNING:root:SKIPPED dgamma distribution (taking more than 30 seconds)\n",
      "WARNING:root:SKIPPED dweibull distribution (taking more than 30 seconds)\n",
      "WARNING:root:SKIPPED erlang distribution (taking more than 30 seconds)\n",
      "WARNING:root:SKIPPED exponnorm distribution (taking more than 30 seconds)\n",
      "WARNING:root:SKIPPED exponpow distribution (taking more than 30 seconds)\n",
      "WARNING:root:SKIPPED exponweib distribution (taking more than 30 seconds)\n",
      "WARNING:root:SKIPPED f distribution (taking more than 30 seconds)\n",
      "WARNING:root:SKIPPED fatiguelife distribution (taking more than 30 seconds)\n",
      "WARNING:root:SKIPPED fisk distribution (taking more than 30 seconds)\n",
      "WARNING:root:SKIPPED foldcauchy distribution (taking more than 30 seconds)\n",
      "WARNING:root:SKIPPED foldnorm distribution (taking more than 30 seconds)\n",
      "WARNING:root:SKIPPED gamma distribution (taking more than 30 seconds)\n",
      "WARNING:root:SKIPPED gausshyper distribution (taking more than 30 seconds)\n",
      "WARNING:root:SKIPPED genexpon distribution (taking more than 30 seconds)\n",
      "WARNING:root:SKIPPED genextreme distribution (taking more than 30 seconds)\n",
      "WARNING:root:SKIPPED gengamma distribution (taking more than 30 seconds)\n",
      "WARNING:root:SKIPPED genhalflogistic distribution (taking more than 30 seconds)\n",
      "WARNING:root:SKIPPED genhyperbolic distribution (taking more than 30 seconds)\n",
      "WARNING:root:SKIPPED geninvgauss distribution (taking more than 30 seconds)\n",
      "WARNING:root:SKIPPED genlogistic distribution (taking more than 30 seconds)\n",
      "WARNING:root:SKIPPED gennorm distribution (taking more than 30 seconds)\n",
      "WARNING:root:SKIPPED genpareto distribution (taking more than 30 seconds)\n",
      "WARNING:root:SKIPPED gilbrat distribution (taking more than 30 seconds)\n",
      "WARNING:root:SKIPPED gompertz distribution (taking more than 30 seconds)\n",
      "WARNING:root:SKIPPED halfcauchy distribution (taking more than 30 seconds)\n",
      "WARNING:root:SKIPPED halfgennorm distribution (taking more than 30 seconds)\n",
      "WARNING:root:SKIPPED halflogistic distribution (taking more than 30 seconds)\n",
      "WARNING:root:SKIPPED halfnorm distribution (taking more than 30 seconds)\n",
      "WARNING:root:SKIPPED invgamma distribution (taking more than 30 seconds)\n",
      "WARNING:root:SKIPPED invgauss distribution (taking more than 30 seconds)\n",
      "WARNING:root:SKIPPED invweibull distribution (taking more than 30 seconds)\n",
      "WARNING:root:SKIPPED johnsonsb distribution (taking more than 30 seconds)\n",
      "WARNING:root:SKIPPED johnsonsu distribution (taking more than 30 seconds)\n",
      "WARNING:root:SKIPPED kstwo distribution (taking more than 30 seconds)\n",
      "WARNING:root:SKIPPED kappa3 distribution (taking more than 30 seconds)\n",
      "WARNING:root:SKIPPED kappa4 distribution (taking more than 30 seconds)\n",
      "WARNING:root:SKIPPED ksone distribution (taking more than 30 seconds)\n",
      "WARNING:root:SKIPPED kstwobign distribution (taking more than 30 seconds)\n",
      "WARNING:root:SKIPPED laplace_asymmetric distribution (taking more than 30 seconds)\n",
      "WARNING:root:SKIPPED levy distribution (taking more than 30 seconds)\n",
      "WARNING:root:SKIPPED levy_l distribution (taking more than 30 seconds)\n",
      "WARNING:root:SKIPPED levy_stable distribution (taking more than 30 seconds)\n",
      "WARNING:root:SKIPPED loggamma distribution (taking more than 30 seconds)\n",
      "WARNING:root:SKIPPED loglaplace distribution (taking more than 30 seconds)\n",
      "WARNING:root:SKIPPED lognorm distribution (taking more than 30 seconds)\n",
      "WARNING:root:SKIPPED loguniform distribution (taking more than 30 seconds)\n",
      "WARNING:root:SKIPPED lomax distribution (taking more than 30 seconds)\n",
      "WARNING:root:SKIPPED maxwell distribution (taking more than 30 seconds)\n",
      "WARNING:root:SKIPPED mielke distribution (taking more than 30 seconds)\n",
      "WARNING:root:SKIPPED moyal distribution (taking more than 30 seconds)\n",
      "WARNING:root:SKIPPED nakagami distribution (taking more than 30 seconds)\n",
      "WARNING:root:SKIPPED ncf distribution (taking more than 30 seconds)\n",
      "WARNING:root:SKIPPED nct distribution (taking more than 30 seconds)\n",
      "WARNING:root:SKIPPED ncx2 distribution (taking more than 30 seconds)\n",
      "WARNING:root:SKIPPED norminvgauss distribution (taking more than 30 seconds)\n",
      "WARNING:root:SKIPPED pareto distribution (taking more than 30 seconds)\n",
      "WARNING:root:SKIPPED pearson3 distribution (taking more than 30 seconds)\n",
      "WARNING:root:SKIPPED powerlaw distribution (taking more than 30 seconds)\n",
      "WARNING:root:SKIPPED powerlognorm distribution (taking more than 30 seconds)\n",
      "WARNING:root:SKIPPED powernorm distribution (taking more than 30 seconds)\n",
      "WARNING:root:SKIPPED rdist distribution (taking more than 30 seconds)\n",
      "WARNING:root:SKIPPED rv_continuous distribution (taking more than 30 seconds)\n",
      "WARNING:root:SKIPPED rv_histogram distribution (taking more than 30 seconds)\n",
      "WARNING:root:SKIPPED recipinvgauss distribution (taking more than 30 seconds)\n",
      "WARNING:root:SKIPPED reciprocal distribution (taking more than 30 seconds)\n",
      "WARNING:root:SKIPPED rice distribution (taking more than 30 seconds)\n",
      "WARNING:root:SKIPPED semicircular distribution (taking more than 30 seconds)\n",
      "WARNING:root:SKIPPED skewcauchy distribution (taking more than 30 seconds)\n",
      "WARNING:root:SKIPPED skewnorm distribution (taking more than 30 seconds)\n",
      "WARNING:root:SKIPPED studentized_range distribution (taking more than 30 seconds)\n",
      "WARNING:root:SKIPPED t distribution (taking more than 30 seconds)\n",
      "WARNING:root:SKIPPED trapezoid distribution (taking more than 30 seconds)\n",
      "WARNING:root:SKIPPED trapz distribution (taking more than 30 seconds)\n",
      "WARNING:root:SKIPPED triang distribution (taking more than 30 seconds)\n",
      "WARNING:root:SKIPPED truncexpon distribution (taking more than 30 seconds)\n",
      "WARNING:root:SKIPPED truncnorm distribution (taking more than 30 seconds)\n",
      "WARNING:root:SKIPPED tukeylambda distribution (taking more than 30 seconds)\n",
      "WARNING:root:SKIPPED vonmises distribution (taking more than 30 seconds)\n",
      "WARNING:root:SKIPPED vonmises_line distribution (taking more than 30 seconds)\n",
      "WARNING:root:SKIPPED weibull_max distribution (taking more than 30 seconds)\n",
      "WARNING:root:SKIPPED weibull_min distribution (taking more than 30 seconds)\n",
      "WARNING:root:SKIPPED wrapcauchy distribution (taking more than 30 seconds)\n"
     ]
    },
    {
     "data": {
      "text/html": [
       "<div>\n",
       "<style scoped>\n",
       "    .dataframe tbody tr th:only-of-type {\n",
       "        vertical-align: middle;\n",
       "    }\n",
       "\n",
       "    .dataframe tbody tr th {\n",
       "        vertical-align: top;\n",
       "    }\n",
       "\n",
       "    .dataframe thead th {\n",
       "        text-align: right;\n",
       "    }\n",
       "</style>\n",
       "<table border=\"1\" class=\"dataframe\">\n",
       "  <thead>\n",
       "    <tr style=\"text-align: right;\">\n",
       "      <th></th>\n",
       "      <th>sumsquare_error</th>\n",
       "      <th>aic</th>\n",
       "      <th>bic</th>\n",
       "      <th>kl_div</th>\n",
       "    </tr>\n",
       "  </thead>\n",
       "  <tbody>\n",
       "    <tr>\n",
       "      <th>cauchy</th>\n",
       "      <td>0.539715</td>\n",
       "      <td>1475.280904</td>\n",
       "      <td>-9416.958879</td>\n",
       "      <td>inf</td>\n",
       "    </tr>\n",
       "    <tr>\n",
       "      <th>gumbel_r</th>\n",
       "      <td>0.603206</td>\n",
       "      <td>5851.717080</td>\n",
       "      <td>-9281.163750</td>\n",
       "      <td>inf</td>\n",
       "    </tr>\n",
       "    <tr>\n",
       "      <th>wald</th>\n",
       "      <td>0.626071</td>\n",
       "      <td>1929.576531</td>\n",
       "      <td>-9235.736048</td>\n",
       "      <td>inf</td>\n",
       "    </tr>\n",
       "    <tr>\n",
       "      <th>hypsecant</th>\n",
       "      <td>0.734263</td>\n",
       "      <td>6118.679020</td>\n",
       "      <td>-9041.103486</td>\n",
       "      <td>inf</td>\n",
       "    </tr>\n",
       "    <tr>\n",
       "      <th>laplace</th>\n",
       "      <td>0.793034</td>\n",
       "      <td>5371.924381</td>\n",
       "      <td>-8947.089092</td>\n",
       "      <td>inf</td>\n",
       "    </tr>\n",
       "  </tbody>\n",
       "</table>\n",
       "</div>"
      ],
      "text/plain": [
       "           sumsquare_error          aic          bic  kl_div\n",
       "cauchy            0.539715  1475.280904 -9416.958879     inf\n",
       "gumbel_r          0.603206  5851.717080 -9281.163750     inf\n",
       "wald              0.626071  1929.576531 -9235.736048     inf\n",
       "hypsecant         0.734263  6118.679020 -9041.103486     inf\n",
       "laplace           0.793034  5371.924381 -8947.089092     inf"
      ]
     },
     "execution_count": 40,
     "metadata": {},
     "output_type": "execute_result"
    },
    {
     "data": {
      "image/png": "[encoded data removed]",
      "text/plain": [
       "<Figure size 432x288 with 1 Axes>"
      ]
     },
     "metadata": {},
     "output_type": "display_data"
    }
   ],
   "source": [
    "#  extract best fitting distribution from 'handling to misc'\n",
    "#data = quantile(df_dt['pesatura'], 0.99, 0.01)\n",
    "data = df_dt['hand_to_misc']\n",
    "data.dropna(inplace=True)\n",
    "data = data.values\n",
    "f = Fitter(data)\n",
    "f.fit()\n",
    "f.summary()"
   ]
  },
  {
   "cell_type": "code",
   "execution_count": 41,
   "id": "e076adcf-6afa-48ab-9653-9546e44fc048",
   "metadata": {},
   "outputs": [
    {
     "data": {
      "text/plain": [
       "{'cauchy': {'loc': 2.143530320901906, 'scale': 0.3635986753255407}}"
      ]
     },
     "execution_count": 41,
     "metadata": {},
     "output_type": "execute_result"
    }
   ],
   "source": [
    "f.get_best(method = 'sumsquare_error')"
   ]
  },
  {
   "cell_type": "code",
   "execution_count": 34,
   "id": "39117d93",
   "metadata": {},
   "outputs": [
    {
     "name": "stderr",
     "output_type": "stream",
     "text": [
      "WARNING:root:SKIPPED argus distribution (taking more than 30 seconds)\n",
      "WARNING:root:SKIPPED beta distribution (taking more than 30 seconds)\n",
      "WARNING:root:SKIPPED betaprime distribution (taking more than 30 seconds)\n",
      "WARNING:root:SKIPPED burr distribution (taking more than 30 seconds)\n",
      "WARNING:root:SKIPPED burr12 distribution (taking more than 30 seconds)\n",
      "WARNING:root:SKIPPED crystalball distribution (taking more than 30 seconds)\n",
      "WARNING:root:SKIPPED exponpow distribution (taking more than 30 seconds)\n",
      "WARNING:root:SKIPPED exponweib distribution (taking more than 30 seconds)\n",
      "WARNING:root:SKIPPED f distribution (taking more than 30 seconds)\n",
      "WARNING:root:SKIPPED fisk distribution (taking more than 30 seconds)\n",
      "WARNING:root:SKIPPED gausshyper distribution (taking more than 30 seconds)\n",
      "WARNING:root:SKIPPED genexpon distribution (taking more than 30 seconds)\n",
      "WARNING:root:SKIPPED genextreme distribution (taking more than 30 seconds)\n",
      "WARNING:root:SKIPPED gengamma distribution (taking more than 30 seconds)\n",
      "WARNING:root:SKIPPED genhalflogistic distribution (taking more than 30 seconds)\n",
      "WARNING:root:SKIPPED genlogistic distribution (taking more than 30 seconds)\n",
      "WARNING:root:SKIPPED genpareto distribution (taking more than 30 seconds)\n",
      "WARNING:root:SKIPPED gompertz distribution (taking more than 30 seconds)\n",
      "WARNING:root:SKIPPED johnsonsb distribution (taking more than 30 seconds)\n",
      "WARNING:root:SKIPPED johnsonsu distribution (taking more than 30 seconds)\n",
      "WARNING:root:SKIPPED kstwo distribution (taking more than 30 seconds)\n",
      "WARNING:root:SKIPPED kappa3 distribution (taking more than 30 seconds)\n",
      "WARNING:root:SKIPPED kappa4 distribution (taking more than 30 seconds)\n",
      "WARNING:root:SKIPPED ksone distribution (taking more than 30 seconds)\n",
      "WARNING:root:SKIPPED levy_stable distribution (taking more than 30 seconds)\n",
      "WARNING:root:SKIPPED loggamma distribution (taking more than 30 seconds)\n",
      "WARNING:root:SKIPPED loglaplace distribution (taking more than 30 seconds)\n",
      "WARNING:root:SKIPPED lognorm distribution (taking more than 30 seconds)\n",
      "WARNING:root:SKIPPED lomax distribution (taking more than 30 seconds)\n",
      "WARNING:root:SKIPPED mielke distribution (taking more than 30 seconds)\n",
      "WARNING:root:SKIPPED ncf distribution (taking more than 30 seconds)\n",
      "WARNING:root:SKIPPED nct distribution (taking more than 30 seconds)\n",
      "WARNING:root:SKIPPED ncx2 distribution (taking more than 30 seconds)\n",
      "WARNING:root:SKIPPED norminvgauss distribution (taking more than 30 seconds)\n",
      "WARNING:root:SKIPPED pearson3 distribution (taking more than 30 seconds)\n",
      "WARNING:root:SKIPPED powerlaw distribution (taking more than 30 seconds)\n",
      "WARNING:root:SKIPPED powerlognorm distribution (taking more than 30 seconds)\n",
      "WARNING:root:SKIPPED powernorm distribution (taking more than 30 seconds)\n",
      "WARNING:root:SKIPPED rv_continuous distribution (taking more than 30 seconds)\n",
      "WARNING:root:SKIPPED rv_histogram distribution (taking more than 30 seconds)\n",
      "WARNING:root:SKIPPED rdist distribution (taking more than 30 seconds)\n",
      "WARNING:root:SKIPPED recipinvgauss distribution (taking more than 30 seconds)\n",
      "WARNING:root:SKIPPED studentized_range distribution (taking more than 30 seconds)\n",
      "WARNING:root:SKIPPED trapezoid distribution (taking more than 30 seconds)\n",
      "WARNING:root:SKIPPED t distribution (taking more than 30 seconds)\n",
      "WARNING:root:SKIPPED triang distribution (taking more than 30 seconds)\n",
      "WARNING:root:SKIPPED truncexpon distribution (taking more than 30 seconds)\n",
      "WARNING:root:SKIPPED tukeylambda distribution (taking more than 30 seconds)\n",
      "WARNING:root:SKIPPED vonmises distribution (taking more than 30 seconds)\n",
      "WARNING:root:SKIPPED vonmises_line distribution (taking more than 30 seconds)\n",
      "WARNING:root:SKIPPED weibull_max distribution (taking more than 30 seconds)\n"
     ]
    },
    {
     "data": {
      "text/html": [
       "<div>\n",
       "<style scoped>\n",
       "    .dataframe tbody tr th:only-of-type {\n",
       "        vertical-align: middle;\n",
       "    }\n",
       "\n",
       "    .dataframe tbody tr th {\n",
       "        vertical-align: top;\n",
       "    }\n",
       "\n",
       "    .dataframe thead th {\n",
       "        text-align: right;\n",
       "    }\n",
       "</style>\n",
       "<table border=\"1\" class=\"dataframe\">\n",
       "  <thead>\n",
       "    <tr style=\"text-align: right;\">\n",
       "      <th></th>\n",
       "      <th>sumsquare_error</th>\n",
       "      <th>aic</th>\n",
       "      <th>bic</th>\n",
       "      <th>kl_div</th>\n",
       "    </tr>\n",
       "  </thead>\n",
       "  <tbody>\n",
       "    <tr>\n",
       "      <th>laplace_asymmetric</th>\n",
       "      <td>3.783245</td>\n",
       "      <td>3358.831250</td>\n",
       "      <td>-6741.673021</td>\n",
       "      <td>inf</td>\n",
       "    </tr>\n",
       "    <tr>\n",
       "      <th>gennorm</th>\n",
       "      <td>4.402256</td>\n",
       "      <td>2006.318894</td>\n",
       "      <td>-6563.164633</td>\n",
       "      <td>inf</td>\n",
       "    </tr>\n",
       "    <tr>\n",
       "      <th>foldcauchy</th>\n",
       "      <td>4.482564</td>\n",
       "      <td>1632.726446</td>\n",
       "      <td>-6541.868878</td>\n",
       "      <td>inf</td>\n",
       "    </tr>\n",
       "    <tr>\n",
       "      <th>dweibull</th>\n",
       "      <td>4.704829</td>\n",
       "      <td>2447.166881</td>\n",
       "      <td>-6484.860318</td>\n",
       "      <td>inf</td>\n",
       "    </tr>\n",
       "    <tr>\n",
       "      <th>laplace</th>\n",
       "      <td>4.889084</td>\n",
       "      <td>4003.679399</td>\n",
       "      <td>-6446.678487</td>\n",
       "      <td>inf</td>\n",
       "    </tr>\n",
       "  </tbody>\n",
       "</table>\n",
       "</div>"
      ],
      "text/plain": [
       "                    sumsquare_error          aic          bic  kl_div\n",
       "laplace_asymmetric         3.783245  3358.831250 -6741.673021     inf\n",
       "gennorm                    4.402256  2006.318894 -6563.164633     inf\n",
       "foldcauchy                 4.482564  1632.726446 -6541.868878     inf\n",
       "dweibull                   4.704829  2447.166881 -6484.860318     inf\n",
       "laplace                    4.889084  4003.679399 -6446.678487     inf"
      ]
     },
     "execution_count": 34,
     "metadata": {},
     "output_type": "execute_result"
    },
    {
     "data": {
      "image/png": "[encoded data removed]",
      "text/plain": [
       "<Figure size 432x288 with 1 Axes>"
      ]
     },
     "metadata": {},
     "output_type": "display_data"
    }
   ],
   "source": [
    "#  extract best fitting distribution from 'miscelazione'\n",
    "# data = quantile(df_dt['miscelazione'], 0.99, 0.01)\n",
    "data = df_dt['miscelazione']\n",
    "data.dropna(inplace=True)\n",
    "data = data.values\n",
    "f = Fitter(data)\n",
    "f.fit()\n",
    "f.summary()"
   ]
  },
  {
   "cell_type": "code",
   "execution_count": 35,
   "id": "b2318604",
   "metadata": {},
   "outputs": [
    {
     "data": {
      "text/plain": [
       "{'laplace_asymmetric': {'kappa': 0.5174402731585632,\n",
       "  'loc': 2.283300000382563,\n",
       "  'scale': 0.3173758165847843}}"
      ]
     },
     "execution_count": 35,
     "metadata": {},
     "output_type": "execute_result"
    }
   ],
   "source": [
    "f.get_best(method = 'sumsquare_error')"
   ]
  },
  {
   "cell_type": "code",
   "execution_count": 36,
   "id": "d4772697",
   "metadata": {
    "tags": []
   },
   "outputs": [
    {
     "name": "stderr",
     "output_type": "stream",
     "text": [
      "WARNING:root:SKIPPED argus distribution (taking more than 30 seconds)\n",
      "WARNING:root:SKIPPED anglit distribution (taking more than 30 seconds)\n",
      "WARNING:root:SKIPPED alpha distribution (taking more than 30 seconds)\n",
      "WARNING:root:SKIPPED arcsine distribution (taking more than 30 seconds)\n",
      "WARNING:root:SKIPPED beta distribution (taking more than 30 seconds)\n",
      "WARNING:root:SKIPPED betaprime distribution (taking more than 30 seconds)\n",
      "WARNING:root:SKIPPED bradford distribution (taking more than 30 seconds)\n",
      "WARNING:root:SKIPPED burr distribution (taking more than 30 seconds)\n",
      "WARNING:root:SKIPPED burr12 distribution (taking more than 30 seconds)\n",
      "WARNING:root:SKIPPED chi2 distribution (taking more than 30 seconds)\n",
      "WARNING:root:SKIPPED crystalball distribution (taking more than 30 seconds)\n",
      "WARNING:root:SKIPPED dgamma distribution (taking more than 30 seconds)\n",
      "WARNING:root:SKIPPED dweibull distribution (taking more than 30 seconds)\n",
      "WARNING:root:SKIPPED erlang distribution (taking more than 30 seconds)\n",
      "WARNING:root:SKIPPED exponpow distribution (taking more than 30 seconds)\n",
      "WARNING:root:SKIPPED exponweib distribution (taking more than 30 seconds)\n",
      "WARNING:root:SKIPPED f distribution (taking more than 30 seconds)\n",
      "WARNING:root:SKIPPED fatiguelife distribution (taking more than 30 seconds)\n",
      "WARNING:root:SKIPPED fisk distribution (taking more than 30 seconds)\n",
      "WARNING:root:SKIPPED foldcauchy distribution (taking more than 30 seconds)\n",
      "WARNING:root:SKIPPED foldnorm distribution (taking more than 30 seconds)\n",
      "WARNING:root:SKIPPED gamma distribution (taking more than 30 seconds)\n",
      "WARNING:root:SKIPPED gausshyper distribution (taking more than 30 seconds)\n",
      "WARNING:root:SKIPPED genexpon distribution (taking more than 30 seconds)\n",
      "WARNING:root:SKIPPED genextreme distribution (taking more than 30 seconds)\n",
      "WARNING:root:SKIPPED gengamma distribution (taking more than 30 seconds)\n",
      "WARNING:root:SKIPPED genhalflogistic distribution (taking more than 30 seconds)\n",
      "WARNING:root:SKIPPED genhyperbolic distribution (taking more than 30 seconds)\n",
      "WARNING:root:SKIPPED geninvgauss distribution (taking more than 30 seconds)\n",
      "WARNING:root:SKIPPED genlogistic distribution (taking more than 30 seconds)\n",
      "WARNING:root:SKIPPED gennorm distribution (taking more than 30 seconds)\n",
      "WARNING:root:SKIPPED genpareto distribution (taking more than 30 seconds)\n",
      "WARNING:root:SKIPPED gilbrat distribution (taking more than 30 seconds)\n",
      "WARNING:root:SKIPPED gompertz distribution (taking more than 30 seconds)\n",
      "WARNING:root:SKIPPED halfcauchy distribution (taking more than 30 seconds)\n",
      "WARNING:root:SKIPPED halfgennorm distribution (taking more than 30 seconds)\n",
      "WARNING:root:SKIPPED invgamma distribution (taking more than 30 seconds)\n",
      "WARNING:root:SKIPPED invgauss distribution (taking more than 30 seconds)\n",
      "WARNING:root:SKIPPED invweibull distribution (taking more than 30 seconds)\n",
      "WARNING:root:SKIPPED johnsonsb distribution (taking more than 30 seconds)\n",
      "WARNING:root:SKIPPED johnsonsu distribution (taking more than 30 seconds)\n",
      "WARNING:root:SKIPPED kstwo distribution (taking more than 30 seconds)\n",
      "WARNING:root:SKIPPED kappa3 distribution (taking more than 30 seconds)\n",
      "WARNING:root:SKIPPED kappa4 distribution (taking more than 30 seconds)\n",
      "WARNING:root:SKIPPED ksone distribution (taking more than 30 seconds)\n",
      "WARNING:root:SKIPPED levy distribution (taking more than 30 seconds)\n",
      "WARNING:root:SKIPPED levy_l distribution (taking more than 30 seconds)\n",
      "WARNING:root:SKIPPED levy_stable distribution (taking more than 30 seconds)\n",
      "WARNING:root:SKIPPED loggamma distribution (taking more than 30 seconds)\n",
      "WARNING:root:SKIPPED loglaplace distribution (taking more than 30 seconds)\n",
      "WARNING:root:SKIPPED lognorm distribution (taking more than 30 seconds)\n",
      "WARNING:root:SKIPPED loguniform distribution (taking more than 30 seconds)\n",
      "WARNING:root:SKIPPED lomax distribution (taking more than 30 seconds)\n",
      "WARNING:root:SKIPPED mielke distribution (taking more than 30 seconds)\n",
      "WARNING:root:SKIPPED ncf distribution (taking more than 30 seconds)\n",
      "WARNING:root:SKIPPED nct distribution (taking more than 30 seconds)\n",
      "WARNING:root:SKIPPED ncx2 distribution (taking more than 30 seconds)\n",
      "WARNING:root:SKIPPED norminvgauss distribution (taking more than 30 seconds)\n",
      "WARNING:root:SKIPPED pareto distribution (taking more than 30 seconds)\n",
      "WARNING:root:SKIPPED pearson3 distribution (taking more than 30 seconds)\n",
      "WARNING:root:SKIPPED powerlaw distribution (taking more than 30 seconds)\n",
      "WARNING:root:SKIPPED powerlognorm distribution (taking more than 30 seconds)\n",
      "WARNING:root:SKIPPED powernorm distribution (taking more than 30 seconds)\n",
      "WARNING:root:SKIPPED rdist distribution (taking more than 30 seconds)\n",
      "WARNING:root:SKIPPED rv_continuous distribution (taking more than 30 seconds)\n",
      "WARNING:root:SKIPPED rv_histogram distribution (taking more than 30 seconds)\n",
      "WARNING:root:SKIPPED recipinvgauss distribution (taking more than 30 seconds)\n",
      "WARNING:root:SKIPPED rice distribution (taking more than 30 seconds)\n",
      "WARNING:root:SKIPPED semicircular distribution (taking more than 30 seconds)\n",
      "WARNING:root:SKIPPED skewcauchy distribution (taking more than 30 seconds)\n",
      "WARNING:root:SKIPPED skewnorm distribution (taking more than 30 seconds)\n",
      "WARNING:root:SKIPPED studentized_range distribution (taking more than 30 seconds)\n",
      "WARNING:root:SKIPPED t distribution (taking more than 30 seconds)\n",
      "WARNING:root:SKIPPED trapezoid distribution (taking more than 30 seconds)\n",
      "WARNING:root:SKIPPED trapz distribution (taking more than 30 seconds)\n",
      "WARNING:root:SKIPPED triang distribution (taking more than 30 seconds)\n",
      "WARNING:root:SKIPPED truncexpon distribution (taking more than 30 seconds)\n",
      "WARNING:root:SKIPPED truncnorm distribution (taking more than 30 seconds)\n",
      "WARNING:root:SKIPPED tukeylambda distribution (taking more than 30 seconds)\n",
      "WARNING:root:SKIPPED vonmises distribution (taking more than 30 seconds)\n",
      "WARNING:root:SKIPPED vonmises_line distribution (taking more than 30 seconds)\n",
      "WARNING:root:SKIPPED weibull_max distribution (taking more than 30 seconds)\n",
      "WARNING:root:SKIPPED weibull_min distribution (taking more than 30 seconds)\n",
      "WARNING:root:SKIPPED wrapcauchy distribution (taking more than 30 seconds)\n"
     ]
    },
    {
     "data": {
      "text/html": [
       "<div>\n",
       "<style scoped>\n",
       "    .dataframe tbody tr th:only-of-type {\n",
       "        vertical-align: middle;\n",
       "    }\n",
       "\n",
       "    .dataframe tbody tr th {\n",
       "        vertical-align: top;\n",
       "    }\n",
       "\n",
       "    .dataframe thead th {\n",
       "        text-align: right;\n",
       "    }\n",
       "</style>\n",
       "<table border=\"1\" class=\"dataframe\">\n",
       "  <thead>\n",
       "    <tr style=\"text-align: right;\">\n",
       "      <th></th>\n",
       "      <th>sumsquare_error</th>\n",
       "      <th>aic</th>\n",
       "      <th>bic</th>\n",
       "      <th>kl_div</th>\n",
       "    </tr>\n",
       "  </thead>\n",
       "  <tbody>\n",
       "    <tr>\n",
       "      <th>cauchy</th>\n",
       "      <td>0.163111</td>\n",
       "      <td>1318.637941</td>\n",
       "      <td>-10432.499530</td>\n",
       "      <td>inf</td>\n",
       "    </tr>\n",
       "    <tr>\n",
       "      <th>laplace</th>\n",
       "      <td>0.185926</td>\n",
       "      <td>3011.752436</td>\n",
       "      <td>-10278.542629</td>\n",
       "      <td>inf</td>\n",
       "    </tr>\n",
       "    <tr>\n",
       "      <th>laplace_asymmetric</th>\n",
       "      <td>0.214468</td>\n",
       "      <td>2277.001160</td>\n",
       "      <td>-10103.524253</td>\n",
       "      <td>inf</td>\n",
       "    </tr>\n",
       "    <tr>\n",
       "      <th>exponnorm</th>\n",
       "      <td>0.222777</td>\n",
       "      <td>2318.415585</td>\n",
       "      <td>-10058.826847</td>\n",
       "      <td>inf</td>\n",
       "    </tr>\n",
       "    <tr>\n",
       "      <th>moyal</th>\n",
       "      <td>0.232559</td>\n",
       "      <td>2528.670919</td>\n",
       "      <td>-10015.357658</td>\n",
       "      <td>inf</td>\n",
       "    </tr>\n",
       "  </tbody>\n",
       "</table>\n",
       "</div>"
      ],
      "text/plain": [
       "                    sumsquare_error          aic           bic  kl_div\n",
       "cauchy                     0.163111  1318.637941 -10432.499530     inf\n",
       "laplace                    0.185926  3011.752436 -10278.542629     inf\n",
       "laplace_asymmetric         0.214468  2277.001160 -10103.524253     inf\n",
       "exponnorm                  0.222777  2318.415585 -10058.826847     inf\n",
       "moyal                      0.232559  2528.670919 -10015.357658     inf"
      ]
     },
     "execution_count": 36,
     "metadata": {},
     "output_type": "execute_result"
    },
    {
     "data": {
      "image/png": "[encoded data removed]",
      "text/plain": [
       "<Figure size 432x288 with 1 Axes>"
      ]
     },
     "metadata": {},
     "output_type": "display_data"
    }
   ],
   "source": [
    "#  extract best fitting distribution from 'handling to estrusore'\n",
    "#  data = quantile(df_dt['hand_to_est'], 0.99, 0.01)\n",
    "data = df_dt['hand_to_est']\n",
    "data.dropna(inplace=True)\n",
    "data = data.values\n",
    "f = Fitter(data)\n",
    "f.fit()\n",
    "f.summary()"
   ]
  },
  {
   "cell_type": "code",
   "execution_count": 37,
   "id": "eedc0322",
   "metadata": {},
   "outputs": [
    {
     "data": {
      "text/plain": [
       "{'cauchy': {'loc': 6.457168840303545, 'scale': 0.7117884436248214}}"
      ]
     },
     "execution_count": 37,
     "metadata": {},
     "output_type": "execute_result"
    }
   ],
   "source": [
    "f.get_best(method = 'sumsquare_error')"
   ]
  },
  {
   "cell_type": "code",
   "execution_count": 38,
   "id": "ae79af7d",
   "metadata": {
    "scrolled": true,
    "tags": []
   },
   "outputs": [
    {
     "name": "stderr",
     "output_type": "stream",
     "text": [
      "WARNING:root:SKIPPED alpha distribution (taking more than 30 seconds)\n",
      "WARNING:root:SKIPPED arcsine distribution (taking more than 30 seconds)\n",
      "WARNING:root:SKIPPED argus distribution (taking more than 30 seconds)\n",
      "WARNING:root:SKIPPED anglit distribution (taking more than 30 seconds)\n",
      "WARNING:root:SKIPPED beta distribution (taking more than 30 seconds)\n",
      "WARNING:root:SKIPPED bradford distribution (taking more than 30 seconds)\n",
      "WARNING:root:SKIPPED betaprime distribution (taking more than 30 seconds)\n",
      "WARNING:root:SKIPPED burr distribution (taking more than 30 seconds)\n",
      "WARNING:root:SKIPPED burr12 distribution (taking more than 30 seconds)\n",
      "WARNING:root:SKIPPED chi distribution (taking more than 30 seconds)\n",
      "WARNING:root:SKIPPED chi2 distribution (taking more than 30 seconds)\n",
      "WARNING:root:SKIPPED cosine distribution (taking more than 30 seconds)\n",
      "WARNING:root:SKIPPED crystalball distribution (taking more than 30 seconds)\n",
      "WARNING:root:SKIPPED dgamma distribution (taking more than 30 seconds)\n",
      "WARNING:root:SKIPPED dweibull distribution (taking more than 30 seconds)\n",
      "WARNING:root:SKIPPED erlang distribution (taking more than 30 seconds)\n",
      "WARNING:root:SKIPPED exponpow distribution (taking more than 30 seconds)\n",
      "WARNING:root:SKIPPED exponnorm distribution (taking more than 30 seconds)\n",
      "WARNING:root:SKIPPED exponweib distribution (taking more than 30 seconds)\n",
      "WARNING:root:SKIPPED f distribution (taking more than 30 seconds)\n",
      "WARNING:root:SKIPPED fatiguelife distribution (taking more than 30 seconds)\n",
      "WARNING:root:SKIPPED fisk distribution (taking more than 30 seconds)\n",
      "WARNING:root:SKIPPED foldcauchy distribution (taking more than 30 seconds)\n",
      "WARNING:root:SKIPPED foldnorm distribution (taking more than 30 seconds)\n",
      "WARNING:root:SKIPPED gamma distribution (taking more than 30 seconds)\n",
      "WARNING:root:SKIPPED gausshyper distribution (taking more than 30 seconds)\n",
      "WARNING:root:SKIPPED genexpon distribution (taking more than 30 seconds)\n",
      "WARNING:root:SKIPPED genextreme distribution (taking more than 30 seconds)\n",
      "WARNING:root:SKIPPED gengamma distribution (taking more than 30 seconds)\n",
      "WARNING:root:SKIPPED genhalflogistic distribution (taking more than 30 seconds)\n",
      "WARNING:root:SKIPPED genhyperbolic distribution (taking more than 30 seconds)\n",
      "WARNING:root:SKIPPED geninvgauss distribution (taking more than 30 seconds)\n",
      "WARNING:root:SKIPPED genlogistic distribution (taking more than 30 seconds)\n",
      "WARNING:root:SKIPPED gennorm distribution (taking more than 30 seconds)\n",
      "WARNING:root:SKIPPED genpareto distribution (taking more than 30 seconds)\n",
      "WARNING:root:SKIPPED gilbrat distribution (taking more than 30 seconds)\n",
      "WARNING:root:SKIPPED gompertz distribution (taking more than 30 seconds)\n",
      "WARNING:root:SKIPPED halfcauchy distribution (taking more than 30 seconds)\n",
      "WARNING:root:SKIPPED halfgennorm distribution (taking more than 30 seconds)\n",
      "WARNING:root:SKIPPED halflogistic distribution (taking more than 30 seconds)\n",
      "WARNING:root:SKIPPED halfnorm distribution (taking more than 30 seconds)\n",
      "WARNING:root:SKIPPED invgamma distribution (taking more than 30 seconds)\n",
      "WARNING:root:SKIPPED invgauss distribution (taking more than 30 seconds)\n",
      "WARNING:root:SKIPPED invweibull distribution (taking more than 30 seconds)\n",
      "WARNING:root:SKIPPED johnsonsb distribution (taking more than 30 seconds)\n",
      "WARNING:root:SKIPPED johnsonsu distribution (taking more than 30 seconds)\n",
      "WARNING:root:SKIPPED kstwo distribution (taking more than 30 seconds)\n",
      "WARNING:root:SKIPPED kappa3 distribution (taking more than 30 seconds)\n",
      "WARNING:root:SKIPPED kappa4 distribution (taking more than 30 seconds)\n",
      "WARNING:root:SKIPPED ksone distribution (taking more than 30 seconds)\n",
      "WARNING:root:SKIPPED kstwobign distribution (taking more than 30 seconds)\n",
      "WARNING:root:SKIPPED laplace_asymmetric distribution (taking more than 30 seconds)\n",
      "WARNING:root:SKIPPED levy distribution (taking more than 30 seconds)\n",
      "WARNING:root:SKIPPED levy_l distribution (taking more than 30 seconds)\n",
      "WARNING:root:SKIPPED levy_stable distribution (taking more than 30 seconds)\n",
      "WARNING:root:SKIPPED loggamma distribution (taking more than 30 seconds)\n",
      "WARNING:root:SKIPPED loglaplace distribution (taking more than 30 seconds)\n",
      "WARNING:root:SKIPPED lognorm distribution (taking more than 30 seconds)\n",
      "WARNING:root:SKIPPED loguniform distribution (taking more than 30 seconds)\n",
      "WARNING:root:SKIPPED lomax distribution (taking more than 30 seconds)\n",
      "WARNING:root:SKIPPED mielke distribution (taking more than 30 seconds)\n",
      "WARNING:root:SKIPPED nakagami distribution (taking more than 30 seconds)\n",
      "WARNING:root:SKIPPED ncf distribution (taking more than 30 seconds)\n",
      "WARNING:root:SKIPPED nct distribution (taking more than 30 seconds)\n",
      "WARNING:root:SKIPPED ncx2 distribution (taking more than 30 seconds)\n",
      "WARNING:root:SKIPPED norminvgauss distribution (taking more than 30 seconds)\n",
      "WARNING:root:SKIPPED pareto distribution (taking more than 30 seconds)\n",
      "WARNING:root:SKIPPED pearson3 distribution (taking more than 30 seconds)\n",
      "WARNING:root:SKIPPED powerlaw distribution (taking more than 30 seconds)\n",
      "WARNING:root:SKIPPED powerlognorm distribution (taking more than 30 seconds)\n",
      "WARNING:root:SKIPPED powernorm distribution (taking more than 30 seconds)\n",
      "WARNING:root:SKIPPED rdist distribution (taking more than 30 seconds)\n",
      "WARNING:root:SKIPPED recipinvgauss distribution (taking more than 30 seconds)\n",
      "WARNING:root:SKIPPED rv_continuous distribution (taking more than 30 seconds)\n",
      "WARNING:root:SKIPPED rv_histogram distribution (taking more than 30 seconds)\n",
      "WARNING:root:SKIPPED reciprocal distribution (taking more than 30 seconds)\n",
      "WARNING:root:SKIPPED rice distribution (taking more than 30 seconds)\n",
      "WARNING:root:SKIPPED semicircular distribution (taking more than 30 seconds)\n",
      "WARNING:root:SKIPPED skewcauchy distribution (taking more than 30 seconds)\n",
      "WARNING:root:SKIPPED skewnorm distribution (taking more than 30 seconds)\n",
      "WARNING:root:SKIPPED studentized_range distribution (taking more than 30 seconds)\n",
      "WARNING:root:SKIPPED t distribution (taking more than 30 seconds)\n",
      "WARNING:root:SKIPPED trapezoid distribution (taking more than 30 seconds)\n",
      "WARNING:root:SKIPPED trapz distribution (taking more than 30 seconds)\n",
      "WARNING:root:SKIPPED triang distribution (taking more than 30 seconds)\n",
      "WARNING:root:SKIPPED truncexpon distribution (taking more than 30 seconds)\n",
      "WARNING:root:SKIPPED truncnorm distribution (taking more than 30 seconds)\n",
      "WARNING:root:SKIPPED tukeylambda distribution (taking more than 30 seconds)\n",
      "WARNING:root:SKIPPED vonmises distribution (taking more than 30 seconds)\n",
      "WARNING:root:SKIPPED vonmises_line distribution (taking more than 30 seconds)\n",
      "WARNING:root:SKIPPED wald distribution (taking more than 30 seconds)\n",
      "WARNING:root:SKIPPED weibull_max distribution (taking more than 30 seconds)\n",
      "WARNING:root:SKIPPED weibull_min distribution (taking more than 30 seconds)\n",
      "WARNING:root:SKIPPED wrapcauchy distribution (taking more than 30 seconds)\n"
     ]
    },
    {
     "data": {
      "text/html": [
       "<div>\n",
       "<style scoped>\n",
       "    .dataframe tbody tr th:only-of-type {\n",
       "        vertical-align: middle;\n",
       "    }\n",
       "\n",
       "    .dataframe tbody tr th {\n",
       "        vertical-align: top;\n",
       "    }\n",
       "\n",
       "    .dataframe thead th {\n",
       "        text-align: right;\n",
       "    }\n",
       "</style>\n",
       "<table border=\"1\" class=\"dataframe\">\n",
       "  <thead>\n",
       "    <tr style=\"text-align: right;\">\n",
       "      <th></th>\n",
       "      <th>sumsquare_error</th>\n",
       "      <th>aic</th>\n",
       "      <th>bic</th>\n",
       "      <th>kl_div</th>\n",
       "    </tr>\n",
       "  </thead>\n",
       "  <tbody>\n",
       "    <tr>\n",
       "      <th>laplace</th>\n",
       "      <td>0.000888</td>\n",
       "      <td>1247.341250</td>\n",
       "      <td>-21786.106654</td>\n",
       "      <td>inf</td>\n",
       "    </tr>\n",
       "    <tr>\n",
       "      <th>cauchy</th>\n",
       "      <td>0.000953</td>\n",
       "      <td>1211.208888</td>\n",
       "      <td>-21679.922966</td>\n",
       "      <td>inf</td>\n",
       "    </tr>\n",
       "    <tr>\n",
       "      <th>gumbel_r</th>\n",
       "      <td>0.000964</td>\n",
       "      <td>1196.698975</td>\n",
       "      <td>-21662.415096</td>\n",
       "      <td>inf</td>\n",
       "    </tr>\n",
       "    <tr>\n",
       "      <th>moyal</th>\n",
       "      <td>0.001061</td>\n",
       "      <td>1159.937487</td>\n",
       "      <td>-21516.641248</td>\n",
       "      <td>inf</td>\n",
       "    </tr>\n",
       "    <tr>\n",
       "      <th>hypsecant</th>\n",
       "      <td>0.001129</td>\n",
       "      <td>1268.687845</td>\n",
       "      <td>-21422.097133</td>\n",
       "      <td>inf</td>\n",
       "    </tr>\n",
       "  </tbody>\n",
       "</table>\n",
       "</div>"
      ],
      "text/plain": [
       "           sumsquare_error          aic           bic  kl_div\n",
       "laplace           0.000888  1247.341250 -21786.106654     inf\n",
       "cauchy            0.000953  1211.208888 -21679.922966     inf\n",
       "gumbel_r          0.000964  1196.698975 -21662.415096     inf\n",
       "moyal             0.001061  1159.937487 -21516.641248     inf\n",
       "hypsecant         0.001129  1268.687845 -21422.097133     inf"
      ]
     },
     "execution_count": 38,
     "metadata": {},
     "output_type": "execute_result"
    },
    {
     "data": {
      "image/png": "[encoded data removed]",
      "text/plain": [
       "<Figure size 432x288 with 1 Axes>"
      ]
     },
     "metadata": {},
     "output_type": "display_data"
    }
   ],
   "source": [
    "#  extract best fitting distribution from 'estrusione'\n",
    "f = Fitter(dt_est)\n",
    "f.fit()\n",
    "f.summary()"
   ]
  },
  {
   "cell_type": "code",
   "execution_count": 39,
   "id": "fc67b923",
   "metadata": {
    "tags": []
   },
   "outputs": [
    {
     "data": {
      "text/plain": [
       "{'laplace': {'loc': 36.6, 'scale': 15.959097169190258}}"
      ]
     },
     "execution_count": 39,
     "metadata": {},
     "output_type": "execute_result"
    }
   ],
   "source": [
    "f.get_best(method = 'sumsquare_error')"
   ]
  },
  {
   "cell_type": "markdown",
   "id": "49e81de8",
   "metadata": {},
   "source": [
    "### Tempo totale di attraversamento"
   ]
  },
  {
   "cell_type": "code",
   "execution_count": 24,
   "id": "ada7b740",
   "metadata": {},
   "outputs": [],
   "source": [
    "def quantile2(column,pct,pct_lower):\n",
    "    y = column\n",
    "    y.sort()\n",
    "    len_y = len(y)\n",
    "    y = y[int(pct_lower * len_y):int(len_y * pct)]\n",
    "    return y"
   ]
  },
  {
   "cell_type": "code",
   "execution_count": 27,
   "id": "b8d3ba62",
   "metadata": {},
   "outputs": [],
   "source": [
    "def filtering(event_log, ubicazione):\n",
    "    mask = event_log['rif'] == ubicazione\n",
    "    get_ID = event_log[mask]['ID_unique'].unique()\n",
    "    mask_id = event_log['ID_unique'].isin(get_ID)\n",
    "    new_log = event_log[mask_id]\n",
    "    return(new_log)"
   ]
  },
  {
   "cell_type": "code",
   "execution_count": 28,
   "id": "eeb709ee",
   "metadata": {},
   "outputs": [],
   "source": [
    "df_est = filtering(df_est, 'P_da_est/estrusore')\n",
    "\n",
    "tc_list = []\n",
    "for idu in df_est['ID_unique'].unique():\n",
    "    mask = df_est['ID_unique'] == idu\n",
    "    df_tmp = df_est[mask].sort_values('timestamp')\n",
    "    df_tmp.reset_index(drop=True, inplace=True)\n",
    "    t1 = df_tmp.loc[0, 'timestamp']\n",
    "    t2 = df_tmp.loc[len(df_tmp) - 1, 'timestamp']\n",
    "    tc = ((t2 - t1).seconds)/60\n",
    "    tc_list.append(tc)"
   ]
  },
  {
   "cell_type": "code",
   "execution_count": 119,
   "id": "2e0f5dd9",
   "metadata": {},
   "outputs": [],
   "source": [
    "df_tc_sim = pd.read_csv('C:/Users/HP/Desktop/df_tc_sim.csv')"
   ]
  },
  {
   "cell_type": "code",
   "execution_count": 120,
   "id": "5f82630e",
   "metadata": {},
   "outputs": [],
   "source": [
    "tc_sim = list(df_tc_sim['t_tot'])"
   ]
  },
  {
   "cell_type": "code",
   "execution_count": 121,
   "id": "77549922",
   "metadata": {},
   "outputs": [
    {
     "data": {
      "text/plain": [
       "1009"
      ]
     },
     "execution_count": 121,
     "metadata": {},
     "output_type": "execute_result"
    }
   ],
   "source": [
    "len(tc_sim)"
   ]
  },
  {
   "cell_type": "code",
   "execution_count": 30,
   "id": "015435a4",
   "metadata": {},
   "outputs": [
    {
     "data": {
      "text/plain": [
       "1240"
      ]
     },
     "execution_count": 30,
     "metadata": {},
     "output_type": "execute_result"
    }
   ],
   "source": [
    "tc_list = quantile2(tc_list, 0.98, 0)\n",
    "tc_list = [x + 2.85 for x in tc_list]\n",
    "len(tc_list)"
   ]
  },
  {
   "cell_type": "code",
   "execution_count": 123,
   "id": "512bec00",
   "metadata": {},
   "outputs": [
    {
     "data": {
      "text/plain": [
       "373"
      ]
     },
     "execution_count": 123,
     "metadata": {},
     "output_type": "execute_result"
    }
   ],
   "source": [
    "tc_sim = tc_sim[(len(tc_sim) - (len(tc_list))):]\n",
    "len(tc_sim)"
   ]
  },
  {
   "cell_type": "code",
   "execution_count": 45,
   "id": "1bed5c08",
   "metadata": {},
   "outputs": [
    {
     "data": {
      "image/png": "[encoded data removed]",
      "text/plain": [
       "<Figure size 600x450 with 1 Axes>"
      ]
     },
     "metadata": {},
     "output_type": "display_data"
    }
   ],
   "source": [
    "plt.figure(figsize=(8, 6), dpi=75)\n",
    "plt.hist(tc_list, 100, alpha=0.7, label='TC')\n",
    "#plt.hist(tc_sim, 50, alpha=0.6, label='TC simulati')\n",
    "plt.xlabel('Minuti')\n",
    "plt.ylabel('Occorrenze (Coni)')\n",
    "plt.legend(loc='upper right')\n",
    "plt.savefig('C:/Users/HP/Desktop/dist_real_TC.png')\n",
    "plt.show()"
   ]
  },
  {
   "cell_type": "code",
   "execution_count": 125,
   "id": "d5a03a9c",
   "metadata": {},
   "outputs": [
    {
     "data": {
      "text/plain": [
       "5.240624642298263"
      ]
     },
     "execution_count": 125,
     "metadata": {},
     "output_type": "execute_result"
    }
   ],
   "source": [
    "from sklearn.metrics import mean_squared_error\n",
    "  \n",
    "# Calculation of Root Mean Squared Error (RMSE)\n",
    "np.sqrt(mean_squared_error(sorted(tc_list),sorted(tc_sim)))"
   ]
  },
  {
   "cell_type": "code",
   "execution_count": 127,
   "id": "2544889e",
   "metadata": {},
   "outputs": [
    {
     "name": "stdout",
     "output_type": "stream",
     "text": [
      "Media delle osservazioni reali: 79.77\n",
      "Media delle osservazioni simulate: 78.15\n",
      "\n",
      "Mediana delle osservazioni reali: 76.1\n",
      "Mediana delle osservazioni simulate: 72.3\n"
     ]
    }
   ],
   "source": [
    "mean_real = np.round(np.mean(tc_list), 2)\n",
    "mean_sim = np.round(np.mean(tc_sim), 2)\n",
    "print('Media delle osservazioni reali: {}\\nMedia delle osservazioni simulate: {}'.format(mean_real, mean_sim))\n",
    "print('')\n",
    "mean_real = np.round(np.median(tc_list), 2)\n",
    "mean_sim = np.round(np.median(tc_sim), 2)\n",
    "print('Mediana delle osservazioni reali: {}\\nMediana delle osservazioni simulate: {}'.format(mean_real, mean_sim))"
   ]
  },
  {
   "cell_type": "code",
   "execution_count": 34,
   "id": "bd2245eb",
   "metadata": {},
   "outputs": [
    {
     "data": {
      "text/plain": [
       "76.32"
      ]
     },
     "execution_count": 34,
     "metadata": {},
     "output_type": "execute_result"
    }
   ],
   "source": [
    "np.round(np.mean(tc_list), 2)"
   ]
  },
  {
   "cell_type": "code",
   "execution_count": 35,
   "id": "7c5c8d7c",
   "metadata": {},
   "outputs": [
    {
     "data": {
      "text/plain": [
       "69.23"
      ]
     },
     "execution_count": 35,
     "metadata": {},
     "output_type": "execute_result"
    }
   ],
   "source": [
    "np.round(np.median(tc_list), 2)"
   ]
  },
  {
   "cell_type": "code",
   "execution_count": null,
   "id": "8104e859-72de-4bd0-8607-31b048415eb5",
   "metadata": {},
   "outputs": [],
   "source": []
  }
 ],
 "metadata": {
  "kernelspec": {
   "display_name": "Python 3 (ipykernel)",
   "language": "python",
   "name": "python3"
  },
  "language_info": {
   "codemirror_mode": {
    "name": "ipython",
    "version": 3
   },
   "file_extension": ".py",
   "mimetype": "text/x-python",
   "name": "python",
   "nbconvert_exporter": "python",
   "pygments_lexer": "ipython3",
   "version": "3.9.12"
  }
 },
 "nbformat": 4,
 "nbformat_minor": 5
}
