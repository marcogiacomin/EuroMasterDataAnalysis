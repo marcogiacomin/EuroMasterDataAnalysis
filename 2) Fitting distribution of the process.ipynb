{
 "cells": [
  {
   "cell_type": "code",
   "execution_count": 1,
   "id": "5d528554",
   "metadata": {},
   "outputs": [],
   "source": [
    "import pandas as pd\n",
    "import numpy as np\n",
    "import pm4py\n",
    "from matplotlib import pyplot as plt\n",
    "import seaborn as sns\n",
    "from fitter import Fitter\n",
    "import scipy.stats\n",
    "import warnings\n",
    "warnings.filterwarnings('ignore')\n",
    "%matplotlib inline\n",
    "sns.set()"
   ]
  },
  {
   "cell_type": "code",
   "execution_count": 1,
   "id": "5fefcba2-b84d-46fa-9175-414e977070f8",
   "metadata": {},
   "outputs": [],
   "source": [
    "#  git commit test"
   ]
  },
  {
   "cell_type": "markdown",
   "id": "6d59796d",
   "metadata": {},
   "source": [
    "### Importazione dataset"
   ]
  },
  {
   "cell_type": "code",
   "execution_count": 2,
   "id": "f0d0fbad",
   "metadata": {},
   "outputs": [],
   "source": [
    "df_traces = pd.read_csv('C:/Users/HP/Desktop/df_traces_from_weigh.csv')\n",
    "df_traces.drop('Unnamed: 0', axis=1, inplace=True)\n",
    "\n",
    "df_t_est = pd.read_csv('C:/Users/HP/Desktop/df_t_est.csv')\n",
    "df_t_est.drop('Unnamed: 0', axis=1, inplace=True)"
   ]
  },
  {
   "cell_type": "code",
   "execution_count": 3,
   "id": "37e7439e",
   "metadata": {},
   "outputs": [],
   "source": [
    "event_log = df_traces[['ID', 'stato', 'ubicazione', 'rif', 'ID_unique', 'timestamp']]\n",
    "event_log.sort_values(['ID', 'timestamp'], inplace=True)\n",
    "event_log.reset_index(inplace=True, drop=True)"
   ]
  },
  {
   "cell_type": "code",
   "execution_count": 4,
   "id": "5ce3417d",
   "metadata": {},
   "outputs": [
    {
     "data": {
      "text/plain": [
       "1193"
      ]
     },
     "execution_count": 4,
     "metadata": {},
     "output_type": "execute_result"
    }
   ],
   "source": [
    "len(event_log['ID_unique'].unique())"
   ]
  },
  {
   "cell_type": "code",
   "execution_count": 6,
   "id": "622aaf25",
   "metadata": {},
   "outputs": [
    {
     "name": "stdout",
     "output_type": "stream",
     "text": [
      "Ore di lavoro totali nell event log:  215\n"
     ]
    }
   ],
   "source": [
    "#  format event log and visualize working hours\n",
    "event_log = df_traces[['ID', 'stato', 'ubicazione', 'rif', 'ID_unique', 'timestamp']]\n",
    "event_log.sort_values(['ID', 'timestamp'], inplace=True)\n",
    "event_log.reset_index(inplace=True, drop=True)\n",
    "event_log = pm4py.format_dataframe(event_log, case_id='ID_unique', activity_key='rif', timestamp_key='timestamp')\n",
    "h = 0\n",
    "for x in range(23, 31):\n",
    "    h += (len(event_log[event_log['timestamp'].dt.day == x]['timestamp'].dt.hour.unique()))\n",
    "for x in range(1, 5):\n",
    "    h += (len(event_log[event_log['timestamp'].dt.day == x]['timestamp'].dt.hour.unique()))\n",
    "print('Ore di lavoro totali nell event log: ', h)"
   ]
  },
  {
   "cell_type": "markdown",
   "id": "11047ab3",
   "metadata": {},
   "source": [
    "### Pre processing"
   ]
  },
  {
   "cell_type": "code",
   "execution_count": 7,
   "id": "6eaf2aea",
   "metadata": {},
   "outputs": [
    {
     "name": "stdout",
     "output_type": "stream",
     "text": [
      "Start activities: {'V_da_pes/pesatura': 1153, 'Not_def/fuori_impianto': 11, 'V_per_park/catenaria_parcheggi': 5, 'P_da_est/estrusore': 2, 'V_da_pes/catenaria_ing_misc': 1, 'P_da_est/fuori_impianto': 1, 'P_da_misc/fuori_impianto': 1}\n",
      "End activities: {'V_per_park/estrusore': 671, 'Not_def/fuori_impianto': 395, 'V_da_pes/estrusore': 100, 'P_da_est/estrusore': 2, 'V_da_pes/navetta_serv_misc': 1, 'P_da_est/fuori_impianto': 1, 'P_da_misc/fuori_impianto': 1, 'V_da_pes/catenaria_ing_misc': 1, 'P_da_misc/miscelatore': 1, 'P_da_est/carroponte_1': 1}\n"
     ]
    }
   ],
   "source": [
    "#  remove traces with 'recheck' as activity\n",
    "mask_recheck = np.asarray( event_log[ event_log['stato'] == 'P_recheck' ].index )\n",
    "ID_recheck = event_log.loc[mask_recheck]['ID_unique'].values\n",
    "mask_drop_recheck = np.asarray( event_log[ event_log['ID_unique'].isin(ID_recheck)].index )\n",
    "event_log.drop( mask_drop_recheck, inplace = True )\n",
    "\n",
    "#  visualize start/end activities\n",
    "start_activities = pm4py.get_start_activities(event_log)\n",
    "end_activities = pm4py.get_end_activities(event_log)\n",
    "print(\"Start activities: {}\\nEnd activities: {}\".format(start_activities, end_activities))"
   ]
  },
  {
   "cell_type": "code",
   "execution_count": 8,
   "id": "1cfddf25",
   "metadata": {},
   "outputs": [
    {
     "data": {
      "text/plain": [
       "{'V_da_pes/pesatura': 1153}"
      ]
     },
     "execution_count": 8,
     "metadata": {},
     "output_type": "execute_result"
    }
   ],
   "source": [
    "#  filtering event log by start activiy\n",
    "from pm4py.algo.filtering.pandas.start_activities import start_activities_filter\n",
    "event_log = start_activities_filter.apply(event_log, ['V_da_pes/pesatura'],\n",
    "                                          parameters={start_activities_filter.Parameters.CASE_ID_KEY: \"case:concept:name\",\n",
    "                                                      start_activities_filter.Parameters.ACTIVITY_KEY: \"concept:name\"})\n",
    "pm4py.get_start_activities(event_log)"
   ]
  },
  {
   "cell_type": "code",
   "execution_count": 9,
   "id": "3166dbed",
   "metadata": {},
   "outputs": [
    {
     "data": {
      "text/plain": [
       "{'V_per_park/estrusore': 668,\n",
       " 'Not_def/fuori_impianto': 381,\n",
       " 'V_da_pes/estrusore': 100}"
      ]
     },
     "execution_count": 9,
     "metadata": {},
     "output_type": "execute_result"
    }
   ],
   "source": [
    "#  filtering event log by end activiy\n",
    "from pm4py.algo.filtering.pandas.end_activities import end_activities_filter\n",
    "event_log = end_activities_filter.apply(event_log, ['V_per_park/estrusore', 'Not_def/fuori_impianto', 'V_da_pes/estrusore'],\n",
    "                                          parameters={end_activities_filter.Parameters.CASE_ID_KEY: \"case:concept:name\",\n",
    "                                                      end_activities_filter.Parameters.ACTIVITY_KEY: \"concept:name\"})\n",
    "pm4py.get_end_activities(event_log)"
   ]
  },
  {
   "cell_type": "code",
   "execution_count": 10,
   "id": "29e42b5c",
   "metadata": {},
   "outputs": [],
   "source": [
    "#  fitering event log removing reworked traces\n",
    "df_rework = pm4py.filter_activities_rework(event_log, \"V_da_pes/catenaria_ing_misc\", 2)\n",
    "event_log.drop( df_rework.index, inplace = True )"
   ]
  },
  {
   "cell_type": "markdown",
   "id": "c5d4a09b",
   "metadata": {},
   "source": [
    "### Process mining"
   ]
  },
  {
   "cell_type": "code",
   "execution_count": 11,
   "id": "9a6d7277",
   "metadata": {},
   "outputs": [
    {
     "data": {
      "text/plain": [
       "198"
      ]
     },
     "execution_count": 11,
     "metadata": {},
     "output_type": "execute_result"
    }
   ],
   "source": [
    "#  evaluate number of variants\n",
    "from pm4py.statistics.traces.generic.pandas import case_statistics\n",
    "variants_count = case_statistics.get_variant_statistics(event_log,\n",
    "                                          parameters={case_statistics.Parameters.CASE_ID_KEY: \"case:concept:name\",\n",
    "                                                      case_statistics.Parameters.ACTIVITY_KEY: \"concept:name\",\n",
    "                                                      case_statistics.Parameters.TIMESTAMP_KEY: \"time:timestamp\"})\n",
    "variants_count = sorted(variants_count, key=lambda x: x['case:concept:name'], reverse=True)\n",
    "len(variants_count)"
   ]
  },
  {
   "cell_type": "code",
   "execution_count": 12,
   "id": "5686692d",
   "metadata": {},
   "outputs": [
    {
     "data": {
      "text/plain": [
       "[{'variant': 'V_da_pes/pesatura,P_da_misc/navetta_serv_misc,P_da_misc/miscelatore,P_remove/ing_zona_misc,Not_def/fuori_impianto',\n",
       "  'case:concept:name': 123},\n",
       " {'variant': 'V_da_pes/pesatura,P_da_misc/navetta_serv_misc,P_da_misc/miscelatore,Not_def/fuori_impianto',\n",
       "  'case:concept:name': 113},\n",
       " {'variant': 'V_da_pes/pesatura,P_da_misc/navetta_serv_misc,P_da_misc/miscelatore,P_da_est/navetta_serv_misc,P_da_est/cat_usc_pieni,P_da_est/nav_serv_carr_pieni,P_da_est/carroponte_1,P_da_est/estrusore,V_per_park/estrusore',\n",
       "  'case:concept:name': 70},\n",
       " {'variant': 'V_da_pes/pesatura,P_da_misc/navetta_serv_misc,P_da_misc/miscelatore,P_da_est/navetta_serv_misc,P_da_est/cat_usc_pieni,P_da_est/nav_serv_carr_vuoti,P_da_est/nav_serv_carr_pieni,P_da_est/carroponte_1,P_da_est/estrusore,V_per_park/estrusore',\n",
       "  'case:concept:name': 64},\n",
       " {'variant': 'V_da_pes/pesatura,P_da_misc/navetta_serv_misc,P_da_misc/miscelatore,P_da_est/cat_usc_pieni,P_da_est/nav_serv_carr_pieni,P_da_est/carroponte_1,P_da_est/estrusore,V_per_park/estrusore',\n",
       "  'case:concept:name': 63},\n",
       " {'variant': 'V_da_pes/pesatura,P_da_misc/navetta_serv_misc,P_da_misc/miscelatore,P_da_est/navetta_serv_misc,P_da_est/cat_usc_pieni,P_da_est/nav_serv_carr_pieni,P_da_est/carroponte_1,P_da_est/buffer,P_da_est/carroponte_2,P_da_est/estrusore,V_per_park/estrusore',\n",
       "  'case:concept:name': 52},\n",
       " {'variant': 'V_da_pes/pesatura,P_da_misc/navetta_serv_misc,P_da_misc/miscelatore,P_da_est/navetta_serv_misc,P_da_est/cat_usc_pieni,P_da_est/nav_serv_carr_vuoti,P_da_est/nav_serv_carr_pieni,P_da_est/carroponte_1,P_da_est/buffer,P_da_est/carroponte_2,P_da_est/estrusore,V_per_park/estrusore',\n",
       "  'case:concept:name': 49},\n",
       " {'variant': 'V_da_pes/pesatura,P_da_misc/navetta_serv_misc,P_da_misc/miscelatore,P_da_est/cat_usc_pieni,P_da_est/nav_serv_carr_pieni,P_da_est/carroponte_1,P_da_est/buffer,P_da_est/carroponte_2,P_da_est/estrusore,V_per_park/estrusore',\n",
       "  'case:concept:name': 42},\n",
       " {'variant': 'V_da_pes/pesatura,P_da_misc/navetta_serv_misc,P_da_misc/miscelatore,P_da_est/navetta_serv_misc,P_da_est/nav_serv_carr_vuoti,P_da_est/nav_serv_carr_pieni,P_da_est/carroponte_1,P_da_est/buffer,P_da_est/carroponte_2,P_da_est/estrusore,V_per_park/estrusore',\n",
       "  'case:concept:name': 37},\n",
       " {'variant': 'V_da_pes/pesatura,P_da_misc/navetta_serv_misc,P_da_misc/miscelatore,P_da_est/navetta_serv_misc,P_da_est/nav_serv_carr_vuoti,P_da_est/nav_serv_carr_pieni,P_da_est/carroponte_1,P_da_est/estrusore,V_per_park/estrusore',\n",
       "  'case:concept:name': 32},\n",
       " {'variant': 'V_da_pes/pesatura,P_da_misc/miscelatore,Not_def/fuori_impianto',\n",
       "  'case:concept:name': 29},\n",
       " {'variant': 'V_da_pes/pesatura,P_da_misc/navetta_serv_misc,P_da_misc/miscelatore,P_da_est/cat_usc_pieni,P_da_est/nav_serv_carr_pieni,P_da_est/carroponte_1,P_da_est/estrusore,V_da_pes/estrusore',\n",
       "  'case:concept:name': 19},\n",
       " {'variant': 'V_da_pes/pesatura,P_da_misc/navetta_serv_misc,P_da_misc/miscelatore,P_da_est/navetta_serv_misc,P_da_est/nav_serv_carr_pieni,P_da_est/carroponte_1,P_da_est/buffer,P_da_est/carroponte_2,P_da_est/estrusore,V_per_park/estrusore',\n",
       "  'case:concept:name': 17},\n",
       " {'variant': 'V_da_pes/pesatura,P_remove/miscelatore,Not_def/fuori_impianto',\n",
       "  'case:concept:name': 16},\n",
       " {'variant': 'V_da_pes/pesatura,P_da_misc/navetta_serv_misc,P_da_misc/miscelatore,P_remove/navetta_serv_misc,P_remove/miscelatore,Not_def/fuori_impianto',\n",
       "  'case:concept:name': 16},\n",
       " {'variant': 'V_da_pes/pesatura,P_da_misc/navetta_serv_misc,P_da_misc/miscelatore,P_da_est/cat_usc_pieni,P_da_est/nav_serv_carr_vuoti,P_da_est/nav_serv_carr_pieni,P_da_est/carroponte_1,P_da_est/estrusore,V_per_park/estrusore',\n",
       "  'case:concept:name': 15},\n",
       " {'variant': 'V_da_pes/pesatura,P_da_misc/navetta_serv_misc,P_da_misc/miscelatore,P_da_est/navetta_serv_misc,P_da_est/cat_usc_pieni,P_da_est/nav_serv_carr_vuoti,P_da_est/nav_serv_carr_pieni,P_da_est/carroponte_1,P_da_est/estrusore,V_da_pes/estrusore',\n",
       "  'case:concept:name': 14},\n",
       " {'variant': 'V_da_pes/pesatura,P_da_misc/navetta_serv_misc,P_da_misc/miscelatore,P_remove/miscelatore,Not_def/fuori_impianto',\n",
       "  'case:concept:name': 13},\n",
       " {'variant': 'V_da_pes/pesatura,P_da_misc/navetta_serv_misc,P_da_misc/miscelatore,P_da_est/navetta_serv_misc,P_da_est/nav_serv_carr_pieni,P_da_est/carroponte_1,P_da_est/estrusore,V_per_park/estrusore',\n",
       "  'case:concept:name': 12},\n",
       " {'variant': 'V_da_pes/pesatura,P_da_misc/navetta_serv_misc,P_da_misc/miscelatore,P_da_est/navetta_serv_misc,P_da_est/cat_usc_pieni,P_da_est/nav_serv_carr_pieni,P_da_est/carroponte_1,P_da_est/estrusore,V_da_pes/estrusore',\n",
       "  'case:concept:name': 12},\n",
       " {'variant': 'V_da_pes/pesatura,P_da_misc/navetta_serv_misc,P_da_misc/miscelatore,P_da_est/cat_usc_pieni,P_da_est/nav_serv_carr_vuoti,P_da_est/nav_serv_carr_pieni,P_da_est/carroponte_1,P_da_est/buffer,P_da_est/carroponte_2,P_da_est/estrusore,V_per_park/estrusore',\n",
       "  'case:concept:name': 11},\n",
       " {'variant': 'V_da_pes/pesatura,P_da_misc/miscelatore,P_da_est/navetta_serv_misc,P_da_est/cat_usc_pieni,P_da_est/nav_serv_carr_vuoti,P_da_est/nav_serv_carr_pieni,P_da_est/carroponte_1,P_da_est/estrusore,V_per_park/estrusore',\n",
       "  'case:concept:name': 11},\n",
       " {'variant': 'V_da_pes/pesatura,P_da_misc/miscelatore,P_da_est/navetta_serv_misc,P_da_est/cat_usc_pieni,P_da_est/nav_serv_carr_vuoti,P_da_est/nav_serv_carr_pieni,P_da_est/carroponte_1,P_da_est/buffer,P_da_est/carroponte_2,P_da_est/estrusore,V_per_park/estrusore',\n",
       "  'case:concept:name': 11},\n",
       " {'variant': 'V_da_pes/pesatura,P_da_misc/miscelatore,P_da_est/navetta_serv_misc,P_da_est/cat_usc_pieni,P_da_est/nav_serv_carr_pieni,P_da_est/carroponte_1,P_da_est/estrusore,V_per_park/estrusore',\n",
       "  'case:concept:name': 11},\n",
       " {'variant': 'V_da_pes/pesatura,P_da_misc/miscelatore,P_da_est/navetta_serv_misc,P_da_est/cat_usc_pieni,P_da_est/nav_serv_carr_pieni,P_da_est/carroponte_1,P_da_est/buffer,P_da_est/carroponte_2,P_da_est/estrusore,V_per_park/estrusore',\n",
       "  'case:concept:name': 11},\n",
       " {'variant': 'V_da_pes/pesatura,P_da_misc/navetta_serv_misc,P_da_misc/miscelatore,P_remove/navetta_serv_misc,P_remove/miscelatore,P_remove/ing_zona_misc,Not_def/fuori_impianto',\n",
       "  'case:concept:name': 10},\n",
       " {'variant': 'V_da_pes/pesatura,P_da_misc/miscelatore,P_remove/ing_zona_misc,Not_def/fuori_impianto',\n",
       "  'case:concept:name': 10},\n",
       " {'variant': 'V_da_pes/pesatura,P_da_misc/miscelatore,P_da_est/cat_usc_pieni,P_da_est/nav_serv_carr_pieni,P_da_est/carroponte_1,P_da_est/estrusore,V_per_park/estrusore',\n",
       "  'case:concept:name': 8},\n",
       " {'variant': 'V_da_pes/pesatura,P_da_misc/navetta_serv_misc,P_da_misc/miscelatore,P_remove/miscelatore,P_remove/ing_zona_misc,Not_def/fuori_impianto',\n",
       "  'case:concept:name': 7},\n",
       " {'variant': 'V_da_pes/pesatura,P_da_misc/navetta_serv_misc,P_da_misc/miscelatore,P_da_est/navetta_serv_misc,P_da_est/nav_serv_carr_vuoti,P_da_est/nav_serv_carr_pieni,P_da_est/carroponte_1,P_da_est/estrusore,V_da_pes/estrusore',\n",
       "  'case:concept:name': 6},\n",
       " {'variant': 'V_da_pes/pesatura,P_da_misc/navetta_serv_misc,P_remove/miscelatore,Not_def/fuori_impianto',\n",
       "  'case:concept:name': 5},\n",
       " {'variant': 'V_da_pes/pesatura,P_da_misc/navetta_serv_misc,P_da_misc/miscelatore,P_da_est/navetta_serv_misc,P_da_est/cat_usc_pieni,P_da_est/nav_serv_carr_pieni,P_da_est/carroponte_1,P_da_est/buffer,P_da_est/carroponte_2,P_da_est/estrusore,V_da_pes/estrusore',\n",
       "  'case:concept:name': 5},\n",
       " {'variant': 'V_da_pes/pesatura,P_da_misc/miscelatore,P_da_est/navetta_serv_misc,P_da_est/nav_serv_carr_vuoti,P_da_est/nav_serv_carr_pieni,P_da_est/carroponte_1,P_da_est/estrusore,V_per_park/estrusore',\n",
       "  'case:concept:name': 5},\n",
       " {'variant': 'V_da_pes/pesatura,P_da_misc/miscelatore,P_da_est/navetta_serv_misc,P_da_est/nav_serv_carr_vuoti,P_da_est/nav_serv_carr_pieni,P_da_est/carroponte_1,P_da_est/buffer,P_da_est/carroponte_2,P_da_est/estrusore,V_per_park/estrusore',\n",
       "  'case:concept:name': 5},\n",
       " {'variant': 'V_da_pes/pesatura,Not_def/fuori_impianto',\n",
       "  'case:concept:name': 5},\n",
       " {'variant': 'V_da_pes/pesatura,P_da_misc/navetta_serv_misc,P_da_misc/miscelatore,P_remove/navetta_serv_misc,P_remove/ing_zona_misc,Not_def/fuori_impianto',\n",
       "  'case:concept:name': 4},\n",
       " {'variant': 'V_da_pes/pesatura,P_da_misc/navetta_serv_misc,P_da_misc/miscelatore,P_da_est/navetta_serv_misc,P_da_est/nav_serv_carr_vuoti,P_da_est/nav_serv_carr_pieni,P_da_est/carroponte_1,P_da_est/buffer,P_da_est/carroponte_2,P_da_est/estrusore,V_da_pes/estrusore',\n",
       "  'case:concept:name': 4},\n",
       " {'variant': 'V_da_pes/pesatura,P_da_misc/navetta_serv_misc,P_da_misc/miscelatore,P_da_est/navetta_serv_misc,P_da_est/cat_usc_pieni,P_da_est/nav_serv_carr_vuoti,P_da_est/nav_serv_carr_pieni,P_da_est/carroponte_1,P_da_est/buffer,P_da_est/carroponte_2,P_da_est/estrusore,V_da_pes/estrusore',\n",
       "  'case:concept:name': 4},\n",
       " {'variant': 'V_da_pes/pesatura,P_da_misc/navetta_serv_misc,P_da_misc/miscelatore,P_da_est/cat_usc_pieni,P_da_est/nav_serv_carr_pieni,P_da_est/carroponte_1,P_da_est/buffer,P_da_est/carroponte_2,P_da_est/estrusore,V_da_pes/estrusore',\n",
       "  'case:concept:name': 4},\n",
       " {'variant': 'V_da_pes/pesatura,P_da_misc/navetta_serv_misc,P_da_misc/miscelatore,P_da_est/nav_serv_carr_vuoti,P_da_est/nav_serv_carr_pieni,P_da_est/carroponte_1,P_da_est/estrusore,V_per_park/estrusore',\n",
       "  'case:concept:name': 3},\n",
       " {'variant': 'V_da_pes/pesatura,P_da_misc/navetta_serv_misc,Not_def/fuori_impianto',\n",
       "  'case:concept:name': 3},\n",
       " {'variant': 'V_da_pes/pesatura,P_da_misc/miscelatore,P_da_est/navetta_serv_misc,P_da_est/nav_serv_carr_vuoti,P_da_est/nav_serv_carr_pieni,P_da_est/carroponte_1,P_da_est/estrusore,V_da_pes/estrusore',\n",
       "  'case:concept:name': 3},\n",
       " {'variant': 'V_da_pes/pesatura,P_da_misc/miscelatore,P_da_est/navetta_serv_misc,P_da_est/nav_serv_carr_pieni,P_da_est/carroponte_1,P_da_est/buffer,P_da_est/carroponte_2,P_da_est/estrusore,V_per_park/estrusore',\n",
       "  'case:concept:name': 3},\n",
       " {'variant': 'V_da_pes/pesatura,P_da_misc/miscelatore,P_da_est/navetta_serv_misc,P_da_est/cat_usc_pieni,P_da_est/nav_serv_carr_vuoti,P_da_est/nav_serv_carr_pieni,P_da_est/carroponte_1,P_da_est/buffer,P_da_est/carroponte_2,P_da_est/estrusore,V_da_pes/estrusore',\n",
       "  'case:concept:name': 3},\n",
       " {'variant': 'V_da_pes/pesatura,P_da_misc/miscelatore,P_da_est/navetta_serv_misc,P_da_est/cat_usc_pieni,P_da_est/nav_serv_carr_pieni,P_da_est/carroponte_1,P_da_est/buffer,P_da_est/carroponte_2,P_da_est/estrusore,V_da_pes/estrusore',\n",
       "  'case:concept:name': 3},\n",
       " {'variant': 'V_da_pes/pesatura,P_da_misc/miscelatore,P_da_est/cat_usc_pieni,P_da_est/nav_serv_carr_pieni,P_da_est/carroponte_1,P_da_est/buffer,P_da_est/carroponte_2,P_da_est/estrusore,V_per_park/estrusore',\n",
       "  'case:concept:name': 3},\n",
       " {'variant': 'V_da_pes/pesatura,P_da_est/miscelatore,P_da_est/carroponte_1,P_da_est/buffer,P_da_est/estrusore,V_per_park/estrusore',\n",
       "  'case:concept:name': 3},\n",
       " {'variant': 'V_da_pes/pesatura,P_da_misc/navetta_serv_misc,P_da_misc/miscelatore,P_remove/navetta_serv_misc,Not_def/fuori_impianto',\n",
       "  'case:concept:name': 2},\n",
       " {'variant': 'V_da_pes/pesatura,P_da_misc/navetta_serv_misc,P_da_misc/miscelatore,P_da_misc/navetta_serv_misc,P_da_misc/miscelatore,P_da_est/cat_usc_pieni,P_da_est/nav_serv_carr_pieni,P_da_est/carroponte_1,P_da_est/estrusore,V_per_park/estrusore',\n",
       "  'case:concept:name': 2},\n",
       " {'variant': 'V_da_pes/pesatura,P_da_misc/navetta_serv_misc,P_da_misc/miscelatore,P_da_est/navetta_serv_misc,P_da_est/nav_serv_carr_pieni,P_da_est/carroponte_1,P_da_est/estrusore,V_da_pes/estrusore',\n",
       "  'case:concept:name': 2},\n",
       " {'variant': 'V_da_pes/pesatura,P_da_misc/navetta_serv_misc,P_da_misc/miscelatore,P_da_est/nav_serv_carr_vuoti,P_da_est/nav_serv_carr_pieni,P_da_est/carroponte_1,P_da_est/buffer,P_da_est/carroponte_2,P_da_est/estrusore,V_per_park/estrusore',\n",
       "  'case:concept:name': 2},\n",
       " {'variant': 'V_da_pes/pesatura,P_da_misc/navetta_serv_misc,P_da_misc/miscelatore,P_da_est/nav_serv_carr_pieni,P_da_est/carroponte_1,P_da_est/estrusore,V_per_park/estrusore',\n",
       "  'case:concept:name': 2},\n",
       " {'variant': 'V_da_pes/pesatura,P_da_misc/navetta_serv_misc,P_da_misc/miscelatore,P_da_est/cat_usc_pieni,P_da_est/nav_serv_carr_pieni,P_da_est/carroponte_1,P_da_est/buffer,P_da_est/estrusore,V_per_park/estrusore',\n",
       "  'case:concept:name': 2},\n",
       " {'variant': 'V_da_pes/pesatura,P_da_misc/miscelatore,P_remove/navetta_serv_misc,P_remove/miscelatore,Not_def/fuori_impianto',\n",
       "  'case:concept:name': 2},\n",
       " {'variant': 'V_da_pes/pesatura,P_da_misc/miscelatore,P_da_misc/navetta_serv_misc,P_da_misc/miscelatore,P_da_est/cat_usc_pieni,P_da_est/nav_serv_carr_pieni,P_da_est/carroponte_1,P_da_est/estrusore,V_per_park/estrusore',\n",
       "  'case:concept:name': 2},\n",
       " {'variant': 'V_da_pes/pesatura,P_da_misc/miscelatore,P_da_est/navetta_serv_misc,P_da_est/nav_serv_carr_pieni,P_da_est/carroponte_1,P_da_est/estrusore,V_per_park/estrusore',\n",
       "  'case:concept:name': 2},\n",
       " {'variant': 'V_da_pes/pesatura,P_da_misc/miscelatore,P_da_est/navetta_serv_misc,P_da_est/cat_usc_pieni,P_da_est/nav_serv_carr_vuoti,P_da_est/nav_serv_carr_pieni,P_da_est/carroponte_1,P_da_est/estrusore,V_da_pes/estrusore',\n",
       "  'case:concept:name': 2},\n",
       " {'variant': 'V_da_pes/pesatura,P_da_misc/miscelatore,P_da_est/nav_serv_carr_pieni,P_da_est/estrusore,V_per_park/estrusore',\n",
       "  'case:concept:name': 2},\n",
       " {'variant': 'V_da_pes/pesatura,P_da_misc/miscelatore,P_da_est/nav_serv_carr_pieni,P_da_est/buffer,P_da_est/estrusore,V_per_park/estrusore',\n",
       "  'case:concept:name': 2},\n",
       " {'variant': 'V_da_pes/pesatura,P_da_misc/miscelatore,P_da_est/carroponte_1,P_da_est/estrusore,V_per_park/estrusore',\n",
       "  'case:concept:name': 2},\n",
       " {'variant': 'V_da_pes/pesatura,P_da_misc/miscelatore,P_da_est/buffer,P_da_est/estrusore,V_per_park/estrusore',\n",
       "  'case:concept:name': 2},\n",
       " {'variant': 'V_da_pes/pesatura,P_da_est/navetta_serv_misc,P_da_est/cat_usc_pieni,P_da_est/nav_serv_carr_pieni,P_da_est/carroponte_1,P_da_est/buffer,P_da_est/carroponte_2,P_da_est/estrusore,V_per_park/estrusore',\n",
       "  'case:concept:name': 2},\n",
       " {'variant': 'V_da_pes/pesatura,V_remove/navetta_serv_misc,V_remove/miscelatore,Not_def/fuori_impianto',\n",
       "  'case:concept:name': 1},\n",
       " {'variant': 'V_da_pes/pesatura,V_per_park/navetta_serv_misc,V_per_park/cat_usc_pieni,V_per_park/nav_serv_carr_vuoti,V_per_park/nav_serv_carr_pieni,V_per_park/catenaria_vuoti,V_per_park/nav_serv_parcheggi,V_per_park/catenaria_parcheggi,V_da_pes/nav_serv_parcheggi,V_da_pes/catenaria_ing_misc,V_da_pes/navetta_serv_misc,V_da_pes/pesatura,P_da_misc/navetta_serv_misc,P_da_misc/miscelatore,P_da_est/navetta_serv_misc,P_da_est/nav_serv_carr_vuoti,P_da_est/nav_serv_carr_pieni,P_da_est/carroponte_1,P_da_est/estrusore,V_per_park/estrusore',\n",
       "  'case:concept:name': 1},\n",
       " {'variant': 'V_da_pes/pesatura,V_per_park/navetta_serv_misc,V_per_park/cat_usc_pieni,V_per_park/nav_serv_carr_vuoti,V_per_park/nav_serv_carr_pieni,V_per_park/catenaria_vuoti,V_per_park/nav_serv_parcheggi,V_per_park/catenaria_parcheggi,V_da_pes/nav_serv_parcheggi,V_da_pes/catenaria_ing_misc,V_da_pes/navetta_serv_misc,P_da_est/pesatura,P_da_est/navetta_serv_misc,P_da_est/cat_usc_pieni,P_da_est/nav_serv_carr_vuoti,P_da_est/nav_serv_carr_pieni,P_da_est/carroponte_1,P_da_est/estrusore,V_da_pes/estrusore',\n",
       "  'case:concept:name': 1},\n",
       " {'variant': 'V_da_pes/pesatura,V_per_park/navetta_serv_misc,V_per_park/cat_usc_pieni,V_per_park/nav_serv_carr_vuoti,V_per_park/nav_serv_carr_pieni,V_per_park/catenaria_vuoti,V_per_park/nav_serv_parcheggi,V_per_park/catenaria_parcheggi,P_da_misc/nav_serv_parcheggi,P_da_misc/catenaria_ing_misc,P_da_misc/navetta_serv_misc,P_da_misc/miscelatore,P_da_est/navetta_serv_misc,P_da_est/nav_serv_carr_pieni,P_da_est/carroponte_1,P_da_est/estrusore,V_per_park/estrusore',\n",
       "  'case:concept:name': 1},\n",
       " {'variant': 'V_da_pes/pesatura,V_per_park/navetta_serv_misc,V_per_park/cat_usc_pieni,V_per_park/nav_serv_carr_pieni,V_per_park/pinza_vuoti,V_per_park/catenaria_vuoti,V_per_park/nav_serv_parcheggi,V_per_park/catenaria_parcheggi,V_da_pes/nav_serv_parcheggi,V_da_pes/catenaria_ing_misc,V_da_pes/pesatura,P_da_misc/navetta_serv_misc,P_da_misc/miscelatore,P_da_est/cat_usc_pieni,P_da_est/nav_serv_carr_vuoti,P_da_est/nav_serv_carr_pieni,P_da_est/carroponte_1,P_da_est/estrusore,V_da_pes/estrusore',\n",
       "  'case:concept:name': 1},\n",
       " {'variant': 'V_da_pes/pesatura,V_per_park/catenaria_parcheggi,V_da_pes/pesatura,P_da_misc/miscelatore,P_da_est/nav_serv_carr_pieni,P_da_est/estrusore,P_da_est/estrusore,V_per_park/carroponte_1,V_per_park/nav_serv_parcheggi,V_per_park/catenaria_parcheggi,V_da_pes/pesatura,P_da_misc/miscelatore,P_da_est/nav_serv_carr_pieni,P_da_est/estrusore,V_da_pes/carroponte_1,V_da_pes/pesatura,V_per_park/catenaria_vuoti,V_da_pes/pesatura,P_da_misc/miscelatore,P_da_est/nav_serv_carr_pieni,P_da_est/estrusore,V_per_park/estrusore',\n",
       "  'case:concept:name': 1},\n",
       " {'variant': 'V_da_pes/pesatura,V_da_pes/pesatura,P_da_misc/miscelatore,P_da_est/navetta_serv_misc,P_da_est/nav_serv_carr_vuoti,P_da_est/nav_serv_carr_pieni,P_da_est/carroponte_1,P_da_est/buffer,P_da_est/carroponte_2,P_da_est/estrusore,V_per_park/estrusore',\n",
       "  'case:concept:name': 1},\n",
       " {'variant': 'V_da_pes/pesatura,V_da_pes/navetta_serv_misc,V_da_pes/pesatura,P_da_misc/navetta_serv_misc,P_da_misc/miscelatore,P_remove/ing_zona_misc,Not_def/fuori_impianto',\n",
       "  'case:concept:name': 1},\n",
       " {'variant': 'V_da_pes/pesatura,V_da_pes/navetta_serv_misc,V_da_pes/pesatura,P_da_misc/navetta_serv_misc,P_da_misc/miscelatore,P_da_est/navetta_serv_misc,P_da_est/cat_usc_pieni,P_da_est/nav_serv_carr_pieni,P_da_est/carroponte_1,P_da_est/buffer,P_da_est/carroponte_2,P_da_est/estrusore,V_per_park/estrusore',\n",
       "  'case:concept:name': 1},\n",
       " {'variant': 'V_da_pes/pesatura,V_da_pes/navetta_serv_misc,V_da_pes/pesatura,P_da_misc/navetta_serv_misc,P_da_misc/miscelatore,P_da_est/cat_usc_pieni,P_da_est/nav_serv_carr_vuoti,P_da_est/nav_serv_carr_pieni,P_da_est/carroponte_1,P_da_est/estrusore,V_per_park/estrusore',\n",
       "  'case:concept:name': 1},\n",
       " {'variant': 'V_da_pes/pesatura,V_da_pes/fuori_impianto,V_da_pes/navetta_serv_misc,V_da_pes/pesatura,P_da_misc/navetta_serv_misc,P_da_misc/miscelatore,Not_def/fuori_impianto',\n",
       "  'case:concept:name': 1},\n",
       " {'variant': 'V_da_pes/pesatura,P_remove/navetta_serv_misc,P_remove/miscelatore,Not_def/fuori_impianto',\n",
       "  'case:concept:name': 1},\n",
       " {'variant': 'V_da_pes/pesatura,P_remove/miscelatore,P_remove/miscelatore,Not_def/fuori_impianto',\n",
       "  'case:concept:name': 1},\n",
       " {'variant': 'V_da_pes/pesatura,P_remove/miscelatore,P_remove/ing_zona_misc,Not_def/fuori_impianto',\n",
       "  'case:concept:name': 1},\n",
       " {'variant': 'V_da_pes/pesatura,P_per_park/navetta_serv_misc,P_per_park/cat_usc_pieni,P_per_park/nav_serv_carr_vuoti,P_per_park/nav_serv_carr_pieni,P_per_park/catenaria_vuoti,V_remove/nav_serv_parcheggi,V_remove/catenaria_ing_misc,V_remove/catenaria_ing_misc,V_remove/miscelatore,Not_def/fuori_impianto',\n",
       "  'case:concept:name': 1},\n",
       " {'variant': 'V_da_pes/pesatura,P_per_park/navetta_serv_misc,P_per_park/cat_usc_pieni,P_per_park/nav_serv_carr_vuoti,P_per_park/nav_serv_carr_pieni,P_per_park/catenaria_vuoti,P_per_park/catenaria_parcheggi,P_per_park/nav_serv_parcheggi,P_per_park/catenaria_parcheggi,P_da_misc/nav_serv_parcheggi,P_da_misc/catenaria_ing_misc,P_da_misc/navetta_serv_misc,P_da_misc/miscelatore,P_da_est/navetta_serv_misc,P_da_est/nav_serv_carr_pieni,P_da_est/carroponte_1,P_da_est/estrusore,V_per_park/estrusore',\n",
       "  'case:concept:name': 1},\n",
       " {'variant': 'V_da_pes/pesatura,P_per_park/navetta_serv_misc,P_per_park/cat_usc_pieni,P_per_park/nav_serv_carr_vuoti,P_per_park/nav_serv_carr_pieni,P_per_park/catenaria_vuoti,P_per_park/catenaria_parcheggi,P_per_park/nav_serv_parcheggi,P_per_park/catenaria_parcheggi,P_da_misc/nav_serv_parcheggi,P_da_misc/catenaria_ing_misc,P_da_misc/navetta_serv_misc,P_da_misc/miscelatore,P_da_est/navetta_serv_misc,P_da_est/cat_usc_pieni,P_da_est/nav_serv_carr_pieni,P_da_est/carroponte_1,P_da_est/estrusore,V_per_park/estrusore',\n",
       "  'case:concept:name': 1},\n",
       " {'variant': 'V_da_pes/pesatura,P_per_park/navetta_serv_misc,P_per_park/cat_usc_pieni,P_per_park/nav_serv_carr_vuoti,P_per_park/nav_serv_carr_pieni,P_per_park/catenaria_vuoti,P_per_park/catenaria_parcheggi,P_per_park/nav_serv_parcheggi,P_per_park/catenaria_parcheggi,P_da_misc/nav_serv_parcheggi,P_da_misc/catenaria_ing_misc,P_da_misc/navetta_serv_misc,P_da_misc/miscelatore,P_da_est/cat_usc_pieni,P_da_est/nav_serv_carr_pieni,P_da_est/carroponte_1,P_da_est/estrusore,V_da_pes/estrusore',\n",
       "  'case:concept:name': 1},\n",
       " {'variant': 'V_da_pes/pesatura,P_per_park/navetta_serv_misc,P_per_park/cat_usc_pieni,P_per_park/nav_serv_carr_vuoti,P_per_park/nav_serv_carr_pieni,P_per_park/catenaria_vuoti,P_da_misc/catenaria_parcheggi,P_da_misc/nav_serv_parcheggi,P_da_misc/catenaria_ing_misc,P_da_misc/catenaria_ing_misc,P_da_misc/navetta_serv_misc,P_da_misc/miscelatore,P_da_est/cat_usc_pieni,P_da_est/nav_serv_carr_pieni,P_da_est/carroponte_1,P_da_est/estrusore,V_per_park/estrusore',\n",
       "  'case:concept:name': 1},\n",
       " {'variant': 'V_da_pes/pesatura,P_per_park/navetta_serv_misc,P_per_park/cat_usc_pieni,P_per_park/nav_serv_carr_pieni,P_per_park/pinza_vuoti,P_per_park/catenaria_vuoti,P_per_park/catenaria_parcheggi,P_per_park/nav_serv_parcheggi,P_per_park/catenaria_parcheggi,P_da_misc/nav_serv_parcheggi,P_da_misc/catenaria_ing_misc,P_da_misc/navetta_serv_misc,P_da_misc/miscelatore,P_da_est/cat_usc_pieni,P_da_est/nav_serv_carr_pieni,P_da_est/carroponte_1,P_da_est/estrusore,V_per_park/estrusore',\n",
       "  'case:concept:name': 1},\n",
       " {'variant': 'V_da_pes/pesatura,P_per_park/navetta_serv_misc,P_per_park/cat_usc_pieni,P_per_park/nav_serv_carr_pieni,P_per_park/catenaria_vuoti,P_per_park/catenaria_parcheggi,P_per_park/nav_serv_parcheggi,P_per_park/catenaria_parcheggi,V_da_pes/nav_serv_parcheggi,V_da_pes/catenaria_ing_misc,V_da_pes/pesatura,P_da_misc/navetta_serv_misc,P_da_misc/miscelatore,P_da_est/navetta_serv_misc,P_da_est/cat_usc_pieni,P_da_est/nav_serv_carr_pieni,P_da_est/carroponte_1,P_da_est/estrusore,V_per_park/estrusore',\n",
       "  'case:concept:name': 1},\n",
       " {'variant': 'V_da_pes/pesatura,P_per_park/navetta_serv_misc,P_per_park/cat_usc_pieni,P_per_park/nav_serv_carr_pieni,P_per_park/catenaria_vuoti,P_per_park/catenaria_parcheggi,P_per_park/nav_serv_parcheggi,P_per_park/catenaria_parcheggi,P_da_misc/nav_serv_parcheggi,P_da_misc/catenaria_ing_misc,P_da_misc/catenaria_ing_misc,P_da_misc/navetta_serv_misc,P_da_misc/miscelatore,P_da_est/navetta_serv_misc,P_da_est/cat_usc_pieni,P_da_est/nav_serv_carr_pieni,P_da_est/carroponte_1,P_da_est/estrusore,V_per_park/estrusore',\n",
       "  'case:concept:name': 1},\n",
       " {'variant': 'V_da_pes/pesatura,P_da_misc/navetta_serv_misc,P_da_misc/miscelatore,V_da_pes/navetta_serv_misc,V_da_pes/pesatura,P_da_misc/navetta_serv_misc,P_da_misc/miscelatore,P_remove/navetta_serv_misc,Not_def/fuori_impianto',\n",
       "  'case:concept:name': 1},\n",
       " {'variant': 'V_da_pes/pesatura,P_da_misc/navetta_serv_misc,P_da_misc/miscelatore,V_da_pes/navetta_serv_misc,V_da_pes/pesatura,P_da_misc/navetta_serv_misc,P_da_misc/miscelatore,P_da_est/navetta_serv_misc,P_da_est/nav_serv_carr_vuoti,P_da_est/nav_serv_carr_pieni,P_da_est/carroponte_1,P_da_est/estrusore,V_per_park/estrusore',\n",
       "  'case:concept:name': 1},\n",
       " {'variant': 'V_da_pes/pesatura,P_da_misc/navetta_serv_misc,P_da_misc/miscelatore,V_da_pes/navetta_serv_misc,V_da_pes/pesatura,P_da_misc/navetta_serv_misc,P_da_misc/miscelatore,P_da_est/navetta_serv_misc,P_da_est/cat_usc_pieni,P_da_est/nav_serv_carr_pieni,P_da_est/carroponte_1,P_da_est/estrusore,V_per_park/estrusore',\n",
       "  'case:concept:name': 1},\n",
       " {'variant': 'V_da_pes/pesatura,P_da_misc/navetta_serv_misc,P_da_misc/miscelatore,V_da_pes/navetta_serv_misc,V_da_pes/pesatura,P_da_misc/navetta_serv_misc,P_da_misc/miscelatore,Not_def/fuori_impianto',\n",
       "  'case:concept:name': 1},\n",
       " {'variant': 'V_da_pes/pesatura,P_da_misc/navetta_serv_misc,P_da_misc/miscelatore,P_per_park/navetta_serv_misc,P_remove/miscelatore,P_remove/ing_zona_misc,Not_def/fuori_impianto',\n",
       "  'case:concept:name': 1},\n",
       " {'variant': 'V_da_pes/pesatura,P_da_misc/navetta_serv_misc,P_da_misc/miscelatore,P_per_park/navetta_serv_misc,P_per_park/cat_usc_pieni,P_per_park/nav_serv_carr_pieni,P_per_park/catenaria_vuoti,P_per_park/catenaria_parcheggi,P_per_park/nav_serv_parcheggi,P_per_park/catenaria_parcheggi,P_da_est/nav_serv_parcheggi,P_da_est/catenaria_ing_misc,P_da_est/navetta_serv_misc,P_da_est/cat_usc_pieni,P_da_est/nav_serv_carr_vuoti,P_da_est/nav_serv_carr_pieni,P_da_est/carroponte_1,P_da_est/estrusore,V_per_park/estrusore',\n",
       "  'case:concept:name': 1},\n",
       " {'variant': 'V_da_pes/pesatura,P_da_misc/navetta_serv_misc,P_da_misc/miscelatore,P_per_park/navetta_serv_misc,P_per_park/cat_usc_pieni,P_per_park/nav_serv_carr_pieni,P_per_park/catenaria_vuoti,P_per_park/catenaria_parcheggi,P_per_park/catenaria_parcheggi,P_da_est/nav_serv_parcheggi,P_da_est/catenaria_ing_misc,P_da_est/navetta_serv_misc,P_da_est/cat_usc_pieni,P_da_est/nav_serv_carr_pieni,P_da_est/carroponte_1,P_da_est/estrusore,V_per_park/estrusore',\n",
       "  'case:concept:name': 1},\n",
       " {'variant': 'V_da_pes/pesatura,P_da_misc/navetta_serv_misc,P_da_misc/miscelatore,P_per_park/cat_usc_pieni,P_per_park/nav_serv_carr_vuoti,P_per_park/nav_serv_carr_pieni,P_per_park/catenaria_vuoti,P_per_park/catenaria_parcheggi,P_da_misc/catenaria_ing_misc,P_da_misc/catenaria_ing_misc,P_da_misc/miscelatore,P_da_est/cat_usc_pieni,P_da_est/nav_serv_carr_pieni,P_da_est/carroponte_1,P_da_est/estrusore,V_per_park/estrusore',\n",
       "  'case:concept:name': 1},\n",
       " {'variant': 'V_da_pes/pesatura,P_da_misc/navetta_serv_misc,P_da_misc/miscelatore,P_per_park/cat_usc_pieni,P_da_est/nav_serv_carr_pieni,P_da_est/carroponte_1,P_da_est/estrusore,V_per_park/estrusore',\n",
       "  'case:concept:name': 1},\n",
       " {'variant': 'V_da_pes/pesatura,P_da_misc/navetta_serv_misc,P_da_misc/miscelatore,P_da_misc/navetta_serv_misc,P_per_park/cat_usc_pieni,P_per_park/nav_serv_carr_pieni,P_per_park/pinza_vuoti,P_per_park/catenaria_parcheggi,P_da_misc/nav_serv_parcheggi,P_da_misc/catenaria_ing_misc,P_da_misc/navetta_serv_misc,P_da_misc/miscelatore,P_remove/miscelatore,Not_def/fuori_impianto',\n",
       "  'case:concept:name': 1},\n",
       " {'variant': 'V_da_pes/pesatura,P_da_misc/navetta_serv_misc,P_da_misc/miscelatore,P_da_misc/navetta_serv_misc,P_da_misc/miscelatore,P_remove/ing_zona_misc,Not_def/fuori_impianto',\n",
       "  'case:concept:name': 1},\n",
       " {'variant': 'V_da_pes/pesatura,P_da_misc/navetta_serv_misc,P_da_misc/miscelatore,P_da_misc/miscelatore,Not_def/fuori_impianto',\n",
       "  'case:concept:name': 1},\n",
       " {'variant': 'V_da_pes/pesatura,P_da_misc/navetta_serv_misc,P_da_misc/miscelatore,P_da_est/navetta_serv_misc,P_da_est/nav_serv_carr_vuoti,P_da_est/nav_serv_carr_pieni,P_da_est/carroponte_1,P_da_est/estrusore,P_da_est/estrusore,V_per_park/carroponte_1,V_da_pes/navetta_serv_misc,V_da_pes/pesatura,P_da_misc/miscelatore,P_da_est/nav_serv_carr_pieni,P_da_est/estrusore,P_da_est/estrusore,V_per_park/carroponte_1,V_per_park/nav_serv_parcheggi,V_per_park/catenaria_parcheggi,V_da_pes/navetta_serv_misc,V_da_pes/pesatura,P_da_misc/navetta_serv_misc,P_da_est/estrusore,P_da_est/estrusore,V_per_park/catenaria_parcheggi,V_da_pes/pesatura,P_da_misc/miscelatore,P_da_est/estrusore,P_da_est/estrusore,V_per_park/carroponte_1,V_da_pes/catenaria_ing_misc,V_da_pes/pesatura,P_da_misc/miscelatore,P_da_est/estrusore,V_per_park/estrusore',\n",
       "  'case:concept:name': 1},\n",
       " {'variant': 'V_da_pes/pesatura,P_da_misc/navetta_serv_misc,P_da_misc/miscelatore,P_da_est/navetta_serv_misc,P_da_est/nav_serv_carr_vuoti,P_da_est/nav_serv_carr_pieni,P_da_est/carroponte_1,P_da_est/buffer,P_da_est/carroponte_2,P_da_est/estrusore,P_da_est/estrusore,V_per_park/carroponte_1,V_da_pes/catenaria_ing_misc,V_da_pes/pesatura,P_da_est/cat_usc_pieni,P_da_est/buffer,P_da_est/estrusore,V_per_park/estrusore',\n",
       "  'case:concept:name': 1},\n",
       " {'variant': 'V_da_pes/pesatura,P_da_misc/navetta_serv_misc,P_da_misc/miscelatore,P_da_est/navetta_serv_misc,P_da_est/nav_serv_carr_pieni,P_da_est/carroponte_1,P_da_est/buffer,P_da_est/estrusore,P_da_est/estrusore,V_da_pes/nav_serv_parcheggi,V_da_pes/pesatura,P_da_est/cat_usc_pieni,P_da_est/buffer,P_da_est/estrusore,V_per_park/estrusore',\n",
       "  'case:concept:name': 1},\n",
       " {'variant': 'V_da_pes/pesatura,P_da_misc/navetta_serv_misc,P_da_misc/miscelatore,P_da_est/navetta_serv_misc,P_da_est/nav_serv_carr_pieni,P_da_est/buffer,P_da_est/estrusore,V_per_park/estrusore',\n",
       "  'case:concept:name': 1},\n",
       " {'variant': 'V_da_pes/pesatura,P_da_misc/navetta_serv_misc,P_da_misc/miscelatore,P_da_est/navetta_serv_misc,P_da_est/cat_usc_pieni,P_da_est/nav_serv_carr_vuoti,P_da_est/nav_serv_carr_pieni,P_da_est/carroponte_1,P_da_est/estrusore,P_da_est/estrusore,P_da_est/manuale,P_da_est/estrusore,V_per_park/estrusore',\n",
       "  'case:concept:name': 1},\n",
       " {'variant': 'V_da_pes/pesatura,P_da_misc/navetta_serv_misc,P_da_misc/miscelatore,P_da_est/navetta_serv_misc,P_da_est/cat_usc_pieni,P_da_est/nav_serv_carr_vuoti,P_da_est/nav_serv_carr_pieni,P_da_est/carroponte_1,P_da_est/buffer,P_da_est/estrusore,V_per_park/estrusore',\n",
       "  'case:concept:name': 1},\n",
       " {'variant': 'V_da_pes/pesatura,P_da_misc/navetta_serv_misc,P_da_misc/miscelatore,P_da_est/navetta_serv_misc,P_da_est/cat_usc_pieni,P_da_est/nav_serv_carr_vuoti,P_da_est/nav_serv_carr_pieni,P_da_est/carroponte_1,P_da_est/buffer,P_da_est/carroponte_1,P_da_est/estrusore,V_per_park/estrusore',\n",
       "  'case:concept:name': 1},\n",
       " {'variant': 'V_da_pes/pesatura,P_da_misc/navetta_serv_misc,P_da_misc/miscelatore,P_da_est/navetta_serv_misc,P_da_est/cat_usc_pieni,P_da_est/nav_serv_carr_pieni,P_da_est/carroponte_1,P_da_est/buffer,P_da_est/carroponte_2,P_da_est/estrusore,P_da_est/estrusore,V_da_pes/carroponte_1,V_da_pes/pesatura,P_da_misc/navetta_serv_misc,P_da_misc/miscelatore,P_da_est/cat_usc_pieni,P_da_est/nav_serv_carr_pieni,P_da_est/carroponte_1,P_da_est/buffer,P_da_est/carroponte_2,P_da_est/estrusore,V_per_park/estrusore',\n",
       "  'case:concept:name': 1},\n",
       " {'variant': 'V_da_pes/pesatura,P_da_misc/navetta_serv_misc,P_da_misc/miscelatore,P_da_est/navetta_serv_misc,P_da_est/cat_usc_pieni,P_da_est/nav_serv_carr_pieni,P_da_est/carroponte_1,P_da_est/buffer,P_da_est/carroponte_1,P_da_est/estrusore,V_per_park/estrusore',\n",
       "  'case:concept:name': 1},\n",
       " {'variant': 'V_da_pes/pesatura,P_da_misc/navetta_serv_misc,P_da_misc/miscelatore,P_da_est/navetta_serv_misc,P_da_est/cat_usc_pieni,P_da_est/estrusore,V_per_park/estrusore',\n",
       "  'case:concept:name': 1},\n",
       " {'variant': 'V_da_pes/pesatura,P_da_misc/navetta_serv_misc,P_da_misc/miscelatore,P_da_est/nav_serv_carr_pieni,P_da_est/estrusore,V_da_pes/estrusore',\n",
       "  'case:concept:name': 1},\n",
       " {'variant': 'V_da_pes/pesatura,P_da_misc/navetta_serv_misc,P_da_misc/miscelatore,P_da_est/nav_serv_carr_pieni,P_da_est/carroponte_1,P_da_est/estrusore,V_da_pes/estrusore',\n",
       "  'case:concept:name': 1},\n",
       " {'variant': 'V_da_pes/pesatura,P_da_misc/navetta_serv_misc,P_da_misc/miscelatore,P_da_est/nav_serv_carr_pieni,P_da_est/buffer,P_da_est/estrusore,V_per_park/estrusore',\n",
       "  'case:concept:name': 1},\n",
       " {'variant': 'V_da_pes/pesatura,P_da_misc/navetta_serv_misc,P_da_misc/miscelatore,P_da_est/cat_usc_pieni,P_da_est/nav_serv_carr_vuoti,P_da_est/nav_serv_carr_pieni,P_da_est/carroponte_1,P_da_est/estrusore,V_da_pes/estrusore',\n",
       "  'case:concept:name': 1},\n",
       " {'variant': 'V_da_pes/pesatura,P_da_misc/navetta_serv_misc,P_da_misc/miscelatore,P_da_est/cat_usc_pieni,P_da_est/nav_serv_carr_vuoti,P_da_est/nav_serv_carr_pieni,P_da_est/carroponte_1,P_da_est/estrusore,P_da_est/estrusore,V_da_pes/carroponte_1,V_da_pes/nav_serv_carr_vuoti,V_da_pes/nav_serv_carr_pieni,V_da_pes/catenaria_vuoti,V_da_pes/catenaria_parcheggi,V_da_pes/nav_serv_parcheggi,V_da_pes/catenaria_ing_misc,V_da_pes/pesatura,P_da_est/navetta_serv_misc,P_da_est/cat_usc_pieni,P_da_est/nav_serv_carr_pieni,P_da_est/carroponte_1,P_da_est/estrusore,V_per_park/estrusore',\n",
       "  'case:concept:name': 1},\n",
       " {'variant': 'V_da_pes/pesatura,P_da_misc/navetta_serv_misc,P_da_misc/miscelatore,P_da_est/cat_usc_pieni,P_da_est/nav_serv_carr_vuoti,P_da_est/nav_serv_carr_pieni,P_da_est/carroponte_1,P_da_est/buffer,P_da_est/carroponte_2,P_da_est/estrusore,V_da_pes/estrusore',\n",
       "  'case:concept:name': 1},\n",
       " {'variant': 'V_da_pes/pesatura,P_da_misc/navetta_serv_misc,P_da_misc/miscelatore,P_da_est/cat_usc_pieni,P_da_est/nav_serv_carr_vuoti,P_da_est/nav_serv_carr_pieni,P_da_est/carroponte_1,P_da_est/buffer,P_da_est/carroponte_1,P_da_est/estrusore,V_per_park/estrusore',\n",
       "  'case:concept:name': 1},\n",
       " {'variant': 'V_da_pes/pesatura,P_da_misc/navetta_serv_misc,P_da_misc/miscelatore,P_da_est/cat_usc_pieni,P_da_est/nav_serv_carr_pieni,P_da_est/carroponte_1,V_da_pes/nav_serv_carr_vuoti,V_da_pes/nav_serv_carr_pieni,V_da_pes/pinza_vuoti,V_da_pes/catenaria_parcheggi,V_da_pes/nav_serv_parcheggi,V_da_pes/catenaria_ing_misc,P_da_est/catenaria_ing_misc,P_da_est/navetta_serv_misc,P_da_est/cat_usc_pieni,P_da_est/nav_serv_carr_pieni,P_da_est/carroponte_1,P_da_est/estrusore,V_per_park/estrusore',\n",
       "  'case:concept:name': 1},\n",
       " {'variant': 'V_da_pes/pesatura,P_da_misc/navetta_serv_misc,P_da_misc/miscelatore,P_da_est/cat_usc_pieni,P_da_est/nav_serv_carr_pieni,P_da_est/carroponte_1,P_da_est/buffer,P_da_est/carroponte_2,P_da_est/fuori_impianto,P_da_est/estrusore,V_per_park/estrusore',\n",
       "  'case:concept:name': 1},\n",
       " {'variant': 'V_da_pes/pesatura,P_da_misc/navetta_serv_misc,P_da_misc/miscelatore,P_da_est/cat_usc_pieni,P_da_est/nav_serv_carr_pieni,P_da_est/carroponte_1,P_da_est/buffer,P_da_est/carroponte_2,P_da_est/estrusore,P_da_est/estrusore,V_per_park/catenaria_parcheggi,P_da_misc/miscelatore,P_da_est/nav_serv_carr_pieni,P_da_est/buffer,P_da_est/estrusore,P_da_est/estrusore,V_da_pes/nav_serv_carr_vuoti,V_da_pes/pesatura,P_da_misc/miscelatore,P_da_est/cat_usc_pieni,P_da_est/nav_serv_carr_pieni,P_da_est/carroponte_1,P_da_est/buffer,P_da_est/carroponte_2,P_da_est/estrusore,V_per_park/estrusore',\n",
       "  'case:concept:name': 1},\n",
       " {'variant': 'V_da_pes/pesatura,P_da_misc/navetta_serv_misc,P_da_misc/miscelatore,P_da_est/cat_usc_pieni,P_da_est/nav_serv_carr_pieni,P_da_est/carroponte_1,P_da_est/buffer,P_da_est/carroponte_2,P_da_est/estrusore,P_da_est/estrusore,V_per_park/carroponte_1,V_da_pes/nav_serv_carr_pieni,V_da_pes/catenaria_ing_misc,P_da_misc/miscelatore,P_da_est/nav_serv_carr_pieni,P_da_est/carroponte_1,P_da_est/buffer,P_da_est/carroponte_2,P_da_est/estrusore,V_per_park/estrusore',\n",
       "  'case:concept:name': 1},\n",
       " {'variant': 'V_da_pes/pesatura,P_da_misc/navetta_serv_misc,P_da_misc/miscelatore,P_da_est/cat_usc_pieni,P_da_est/nav_serv_carr_pieni,P_da_est/carroponte_1,P_da_est/buffer,P_da_est/carroponte_1,P_da_est/estrusore,V_per_park/estrusore',\n",
       "  'case:concept:name': 1},\n",
       " {'variant': 'V_da_pes/pesatura,P_da_misc/navetta_serv_misc,P_da_misc/miscelatore,P_da_est/cat_usc_pieni,P_da_est/nav_serv_carr_pieni,P_da_est/buffer,P_da_est/carroponte_2,P_da_est/estrusore,P_da_est/estrusore,V_per_park/carroponte_1,V_da_pes/navetta_serv_misc,P_da_misc/pesatura,P_da_est/cat_usc_pieni,P_da_est/buffer,P_da_est/estrusore,P_da_est/estrusore,V_da_pes/carroponte_1,V_da_pes/pesatura,P_da_est/navetta_serv_misc,P_da_est/carroponte_1,P_da_est/buffer,P_da_est/carroponte_2,P_da_est/estrusore,V_per_park/estrusore',\n",
       "  'case:concept:name': 1},\n",
       " {'variant': 'V_da_pes/pesatura,P_da_misc/navetta_serv_misc,P_da_misc/miscelatore,P_da_est/carroponte_1,P_da_est/buffer,P_da_est/estrusore,V_per_park/estrusore',\n",
       "  'case:concept:name': 1},\n",
       " {'variant': 'V_da_pes/pesatura,P_da_misc/navetta_serv_misc,P_da_est/miscelatore,P_da_est/estrusore,P_da_est/estrusore,V_per_park/carroponte_1,V_per_park/nav_serv_parcheggi,V_per_park/catenaria_parcheggi,V_da_pes/pesatura,P_da_misc/miscelatore,P_da_est/estrusore,V_per_park/estrusore',\n",
       "  'case:concept:name': 1},\n",
       " {'variant': 'V_da_pes/pesatura,P_da_misc/navetta_serv_misc,P_da_est/miscelatore,P_da_est/cat_usc_pieni,P_da_est/estrusore,P_da_est/estrusore,V_per_park/carroponte_1,V_per_park/catenaria_parcheggi,V_per_park/catenaria_parcheggi,V_per_park/pesatura,P_per_park/cat_usc_pieni,P_per_park/catenaria_parcheggi,P_per_park/catenaria_parcheggi,P_da_misc/nav_serv_parcheggi,P_da_est/cat_usc_pieni,V_da_pes/estrusore',\n",
       "  'case:concept:name': 1},\n",
       " {'variant': 'V_da_pes/pesatura,P_da_misc/navetta_serv_misc,P_da_est/miscelatore,P_da_est/carroponte_1,P_da_est/estrusore,V_per_park/estrusore',\n",
       "  'case:concept:name': 1},\n",
       " {'variant': 'V_da_pes/pesatura,P_da_misc/navetta_serv_misc,P_da_est/cat_usc_pieni,P_da_est/nav_serv_carr_pieni,P_da_est/buffer,P_da_est/estrusore,P_da_est/estrusore,V_per_park/carroponte_1,V_da_pes/navetta_serv_misc,V_da_pes/pesatura,P_da_misc/navetta_serv_misc,P_da_misc/miscelatore,P_da_est/cat_usc_pieni,P_da_est/nav_serv_carr_pieni,P_da_est/carroponte_1,P_da_est/buffer,P_da_est/carroponte_2,P_da_est/estrusore,V_per_park/estrusore',\n",
       "  'case:concept:name': 1},\n",
       " {'variant': 'V_da_pes/pesatura,P_da_misc/navetta_serv_misc,P_da_est/cat_usc_pieni,P_da_est/carroponte_1,P_da_est/estrusore,V_per_park/estrusore',\n",
       "  'case:concept:name': 1},\n",
       " {'variant': 'V_da_pes/pesatura,P_da_misc/navetta_serv_misc,P_da_est/cat_usc_pieni,P_da_est/carroponte_1,P_da_est/buffer,P_da_est/estrusore,V_per_park/estrusore',\n",
       "  'case:concept:name': 1},\n",
       " {'variant': 'V_da_pes/pesatura,P_da_misc/navetta_serv_misc,P_da_est/carroponte_1,P_da_est/buffer,P_da_est/estrusore,P_da_est/estrusore,V_per_park/carroponte_1,V_da_pes/pinza_vuoti,V_da_pes/catenaria_ing_misc,P_da_misc/miscelatore,P_da_est/buffer,P_da_est/carroponte_2,P_da_est/estrusore,V_per_park/estrusore',\n",
       "  'case:concept:name': 1},\n",
       " {'variant': 'V_da_pes/pesatura,P_da_misc/navetta_serv_misc,P_da_est/buffer,P_da_est/estrusore,P_da_est/estrusore,V_per_park/carroponte_1,V_per_park/nav_serv_carr_pieni,V_da_pes/pesatura,P_da_est/cat_usc_pieni,P_da_est/carroponte_1,P_da_est/buffer,P_da_est/estrusore,P_da_est/estrusore,V_per_park/carroponte_1,V_per_park/pinza_vuoti,V_da_pes/pesatura,P_da_misc/miscelatore,P_da_est/cat_usc_pieni,P_da_est/buffer,P_da_est/estrusore,V_per_park/estrusore',\n",
       "  'case:concept:name': 1},\n",
       " {'variant': 'V_da_pes/pesatura,P_da_misc/miscelatore,V_per_park/estrusore',\n",
       "  'case:concept:name': 1},\n",
       " {'variant': 'V_da_pes/pesatura,P_da_misc/miscelatore,V_da_pes/navetta_serv_misc,V_da_pes/pesatura,P_da_misc/miscelatore,Not_def/fuori_impianto',\n",
       "  'case:concept:name': 1},\n",
       " {'variant': 'V_da_pes/pesatura,P_da_misc/miscelatore,V_da_pes/estrusore',\n",
       "  'case:concept:name': 1},\n",
       " {'variant': 'V_da_pes/pesatura,P_da_misc/miscelatore,P_remove/navetta_serv_misc,P_remove/miscelatore,P_remove/ing_zona_misc,Not_def/fuori_impianto',\n",
       "  'case:concept:name': 1},\n",
       " {'variant': 'V_da_pes/pesatura,P_da_misc/miscelatore,P_remove/navetta_serv_misc,P_remove/ing_zona_misc,Not_def/fuori_impianto',\n",
       "  'case:concept:name': 1},\n",
       " {'variant': 'V_da_pes/pesatura,P_da_misc/miscelatore,P_remove/navetta_serv_misc,Not_def/fuori_impianto',\n",
       "  'case:concept:name': 1},\n",
       " {'variant': 'V_da_pes/pesatura,P_da_misc/miscelatore,P_remove/miscelatore,P_da_est/manuale,P_da_est/estrusore,P_da_est/estrusore,V_per_park/carroponte_2,V_da_pes/pesatura,P_da_misc/navetta_serv_misc,P_da_misc/miscelatore,P_remove/ing_zona_misc,Not_def/fuori_impianto',\n",
       "  'case:concept:name': 1},\n",
       " {'variant': 'V_da_pes/pesatura,P_da_misc/miscelatore,P_remove/miscelatore,P_da_est/carroponte_2,P_da_est/estrusore,V_da_pes/estrusore',\n",
       "  'case:concept:name': 1},\n",
       " {'variant': 'V_da_pes/pesatura,P_da_misc/miscelatore,P_remove/miscelatore,Not_def/fuori_impianto',\n",
       "  'case:concept:name': 1},\n",
       " {'variant': 'V_da_pes/pesatura,P_da_misc/miscelatore,P_da_misc/pesatura,P_remove/miscelatore,P_da_est/estrusore,P_da_est/estrusore,V_per_park/carroponte_2,V_da_pes/ing_zona_misc,V_da_pes/pesatura,P_da_misc/navetta_serv_misc,P_da_misc/miscelatore,P_remove/ing_zona_misc,Not_def/fuori_impianto',\n",
       "  'case:concept:name': 1},\n",
       " {'variant': 'V_da_pes/pesatura,P_da_misc/miscelatore,P_da_misc/miscelatore,P_da_est/navetta_serv_misc,P_da_est/nav_serv_carr_pieni,P_da_est/carroponte_1,P_da_est/estrusore,V_per_park/estrusore',\n",
       "  'case:concept:name': 1},\n",
       " {'variant': 'V_da_pes/pesatura,P_da_misc/miscelatore,P_da_misc/miscelatore,Not_def/fuori_impianto',\n",
       "  'case:concept:name': 1},\n",
       " {'variant': 'V_da_pes/pesatura,P_da_misc/miscelatore,P_da_est/navetta_serv_misc,P_da_est/nav_serv_carr_vuoti,P_da_est/nav_serv_carr_pieni,P_da_est/carroponte_1,P_da_est/buffer,P_per_park/carroponte_1,P_per_park/nav_serv_carr_vuoti,P_per_park/nav_serv_carr_pieni,P_per_park/catenaria_vuoti,P_per_park/catenaria_parcheggi,P_per_park/nav_serv_parcheggi,P_per_park/catenaria_parcheggi,P_da_est/catenaria_ing_misc,P_da_est/catenaria_ing_misc,P_da_est/navetta_serv_misc,P_da_est/cat_usc_pieni,P_da_est/nav_serv_carr_pieni,P_da_est/carroponte_1,P_da_est/buffer,P_da_est/carroponte_2,P_da_est/estrusore,V_per_park/estrusore',\n",
       "  'case:concept:name': 1},\n",
       " {'variant': 'V_da_pes/pesatura,P_da_misc/miscelatore,P_da_est/navetta_serv_misc,P_da_est/nav_serv_carr_vuoti,P_da_est/nav_serv_carr_pieni,P_da_est/carroponte_1,P_da_est/buffer,P_da_est/estrusore,V_per_park/estrusore',\n",
       "  'case:concept:name': 1},\n",
       " {'variant': 'V_da_pes/pesatura,P_da_misc/miscelatore,P_da_est/navetta_serv_misc,P_da_est/nav_serv_carr_pieni,P_da_est/carroponte_1,P_da_est/buffer,V_da_pes/carroponte_1,V_da_pes/estrusore',\n",
       "  'case:concept:name': 1},\n",
       " {'variant': 'V_da_pes/pesatura,P_da_misc/miscelatore,P_da_est/navetta_serv_misc,P_da_est/nav_serv_carr_pieni,P_da_est/carroponte_1,P_da_est/buffer,P_da_est/carroponte_2,P_da_est/estrusore,V_da_pes/estrusore',\n",
       "  'case:concept:name': 1},\n",
       " {'variant': 'V_da_pes/pesatura,P_da_misc/miscelatore,P_da_est/navetta_serv_misc,P_da_est/cat_usc_pieni,P_da_est/nav_serv_carr_pieni,P_da_est/carroponte_1,P_da_est/estrusore,V_da_pes/estrusore',\n",
       "  'case:concept:name': 1},\n",
       " {'variant': 'V_da_pes/pesatura,P_da_misc/miscelatore,P_da_est/navetta_serv_misc,P_da_est/cat_usc_pieni,P_da_est/nav_serv_carr_pieni,P_da_est/carroponte_1,P_da_est/buffer,P_da_est/carroponte_2,P_da_est/fuori_impianto,P_da_est/estrusore,V_per_park/estrusore',\n",
       "  'case:concept:name': 1},\n",
       " {'variant': 'V_da_pes/pesatura,P_da_misc/miscelatore,P_da_est/nav_serv_carr_vuoti,P_da_est/nav_serv_carr_pieni,P_da_est/carroponte_1,P_da_est/buffer,P_da_est/carroponte_2,P_da_est/estrusore,V_per_park/estrusore',\n",
       "  'case:concept:name': 1},\n",
       " {'variant': 'V_da_pes/pesatura,P_da_misc/miscelatore,P_da_est/nav_serv_carr_pieni,P_da_est/carroponte_1,P_da_est/estrusore,V_per_park/estrusore',\n",
       "  'case:concept:name': 1},\n",
       " {'variant': 'V_da_pes/pesatura,P_da_misc/miscelatore,P_da_est/nav_serv_carr_pieni,P_da_est/buffer,P_da_est/estrusore,P_da_est/estrusore,V_per_park/carroponte_1,V_da_pes/pesatura,P_da_misc/miscelatore,P_da_est/carroponte_1,P_da_est/buffer,P_da_est/estrusore,V_per_park/estrusore',\n",
       "  'case:concept:name': 1},\n",
       " {'variant': 'V_da_pes/pesatura,P_da_misc/miscelatore,P_da_est/nav_serv_carr_pieni,P_da_est/buffer,P_da_est/estrusore,P_da_est/estrusore,V_per_park/carroponte_1,V_da_pes/nav_serv_carr_pieni,V_da_pes/pesatura,P_da_est/miscelatore,P_da_est/buffer,P_da_est/estrusore,V_per_park/estrusore',\n",
       "  'case:concept:name': 1},\n",
       " {'variant': 'V_da_pes/pesatura,P_da_misc/miscelatore,P_da_est/nav_serv_carr_pieni,P_da_est/buffer,P_da_est/estrusore,P_da_est/estrusore,V_da_pes/carroponte_1,V_da_pes/catenaria_ing_misc,P_da_misc/pesatura,P_da_est/navetta_serv_misc,P_da_est/buffer,P_da_est/estrusore,P_da_est/estrusore,V_da_pes/carroponte_1,V_da_pes/catenaria_vuoti,V_da_pes/pesatura,P_da_est/miscelatore,P_da_est/buffer,P_da_est/estrusore,V_per_park/estrusore',\n",
       "  'case:concept:name': 1},\n",
       " {'variant': 'V_da_pes/pesatura,P_da_misc/miscelatore,P_da_est/nav_serv_carr_pieni,P_da_est/buffer,P_da_est/carroponte_2,P_da_est/estrusore,P_da_est/estrusore,V_per_park/carroponte_1,V_per_park/catenaria_parcheggi,V_da_pes/catenaria_ing_misc,V_da_pes/pesatura,P_da_misc/miscelatore,P_da_est/nav_serv_carr_pieni,P_da_est/buffer,P_da_est/estrusore,V_per_park/estrusore',\n",
       "  'case:concept:name': 1},\n",
       " {'variant': 'V_da_pes/pesatura,P_da_misc/miscelatore,P_da_est/nav_serv_carr_pieni,P_da_est/buffer,P_da_est/carroponte_2,P_da_est/estrusore,P_da_est/estrusore,V_per_park/carroponte_1,V_da_pes/catenaria_vuoti,V_da_pes/pesatura,P_da_misc/miscelatore,P_da_est/buffer,P_da_est/estrusore,V_per_park/estrusore',\n",
       "  'case:concept:name': 1},\n",
       " {'variant': 'V_da_pes/pesatura,P_da_misc/miscelatore,P_da_est/estrusore,V_per_park/estrusore',\n",
       "  'case:concept:name': 1},\n",
       " {'variant': 'V_da_pes/pesatura,P_da_misc/miscelatore,P_da_est/estrusore,P_da_est/estrusore,V_per_park/carroponte_2,V_per_park/manuale,Not_def/fuori_impianto',\n",
       "  'case:concept:name': 1},\n",
       " {'variant': 'V_da_pes/pesatura,P_da_misc/miscelatore,P_da_est/estrusore,P_da_est/estrusore,V_per_park/carroponte_1,V_per_park/catenaria_parcheggi,V_da_pes/catenaria_ing_misc,V_da_pes/pesatura,P_da_misc/miscelatore,P_da_est/nav_serv_carr_pieni,P_da_est/estrusore,P_da_est/estrusore,V_per_park/carroponte_1,V_da_pes/catenaria_vuoti,V_da_pes/pesatura,P_da_est/navetta_serv_misc,P_da_est/buffer,P_da_est/estrusore,V_per_park/estrusore',\n",
       "  'case:concept:name': 1},\n",
       " {'variant': 'V_da_pes/pesatura,P_da_misc/miscelatore,P_da_est/cat_usc_pieni,P_da_est/nav_serv_carr_vuoti,P_da_est/nav_serv_carr_pieni,P_da_est/carroponte_1,P_da_est/estrusore,V_per_park/estrusore',\n",
       "  'case:concept:name': 1},\n",
       " {'variant': 'V_da_pes/pesatura,P_da_misc/miscelatore,P_da_est/cat_usc_pieni,P_da_est/nav_serv_carr_vuoti,P_da_est/nav_serv_carr_pieni,P_da_est/carroponte_1,P_da_est/buffer,P_da_est/carroponte_2,P_da_est/estrusore,V_da_pes/estrusore',\n",
       "  'case:concept:name': 1},\n",
       " {'variant': 'V_da_pes/pesatura,P_da_misc/miscelatore,P_da_est/cat_usc_pieni,P_da_est/nav_serv_carr_pieni,P_da_est/carroponte_1,P_da_est/estrusore,V_da_pes/estrusore',\n",
       "  'case:concept:name': 1},\n",
       " {'variant': 'V_da_pes/pesatura,P_da_misc/miscelatore,P_da_est/cat_usc_pieni,P_da_est/nav_serv_carr_pieni,P_da_est/carroponte_1,P_da_est/buffer,P_da_est/carroponte_2,P_da_est/estrusore,P_da_est/estrusore,V_per_park/carroponte_1,V_da_pes/pesatura,P_da_misc/miscelatore,P_da_est/cat_usc_pieni,P_da_est/carroponte_1,P_da_est/buffer,P_da_est/estrusore,V_per_park/estrusore',\n",
       "  'case:concept:name': 1},\n",
       " {'variant': 'V_da_pes/pesatura,P_da_misc/miscelatore,P_da_est/cat_usc_pieni,P_da_est/estrusore,P_da_est/estrusore,V_per_park/carroponte_1,V_da_pes/navetta_serv_misc,V_da_pes/pesatura,P_da_misc/navetta_serv_misc,P_da_est/estrusore,P_da_est/estrusore,V_per_park/carroponte_1,V_da_pes/nav_serv_parcheggi,V_da_pes/pesatura,P_da_est/nav_serv_carr_pieni,P_da_est/estrusore,P_da_est/estrusore,V_da_pes/catenaria_parcheggi,V_da_pes/pesatura,P_da_est/miscelatore,P_da_est/estrusore,P_da_est/estrusore,V_per_park/catenaria_parcheggi,V_da_pes/nav_serv_parcheggi,V_da_pes/pesatura,P_da_est/navetta_serv_misc,P_da_est/estrusore,V_per_park/estrusore',\n",
       "  'case:concept:name': 1},\n",
       " {'variant': 'V_da_pes/pesatura,P_da_misc/miscelatore,P_da_est/cat_usc_pieni,P_da_est/estrusore,P_da_est/estrusore,V_da_pes/carroponte_1,V_da_pes/pesatura,P_da_misc/miscelatore,P_da_est/cat_usc_pieni,P_da_est/carroponte_1,P_da_est/estrusore,P_da_est/estrusore,V_da_pes/nav_serv_carr_vuoti,V_da_pes/pesatura,P_da_est/estrusore,V_per_park/estrusore',\n",
       "  'case:concept:name': 1},\n",
       " {'variant': 'V_da_pes/pesatura,P_da_misc/miscelatore,P_da_est/cat_usc_pieni,P_da_est/carroponte_1,P_da_est/buffer,P_da_est/estrusore,V_per_park/estrusore',\n",
       "  'case:concept:name': 1},\n",
       " {'variant': 'V_da_pes/pesatura,P_da_misc/miscelatore,P_da_est/cat_usc_pieni,P_da_est/buffer,P_da_est/estrusore,P_da_est/estrusore,V_per_park/carroponte_1,V_per_park/nav_serv_parcheggi,V_da_pes/pesatura,P_da_misc/miscelatore,P_da_est/nav_serv_carr_pieni,P_da_est/buffer,P_da_est/estrusore,P_da_est/estrusore,V_per_park/carroponte_1,V_da_pes/pesatura,P_da_est/carroponte_1,P_da_est/buffer,P_da_est/estrusore,P_da_est/estrusore,V_da_pes/nav_serv_parcheggi,V_da_pes/pesatura,P_da_misc/miscelatore,P_da_est/cat_usc_pieni,P_da_est/carroponte_1,P_da_est/buffer,P_da_est/estrusore,P_da_est/estrusore,V_per_park/carroponte_1,V_da_pes/nav_serv_carr_pieni,V_da_pes/pesatura,P_da_misc/miscelatore,P_da_est/nav_serv_carr_pieni,P_da_est/buffer,P_da_est/estrusore,V_per_park/estrusore',\n",
       "  'case:concept:name': 1},\n",
       " {'variant': 'V_da_pes/pesatura,P_da_misc/miscelatore,P_da_est/cat_usc_pieni,P_da_est/buffer,P_da_est/estrusore,P_da_est/estrusore,V_per_park/carroponte_1,V_per_park/nav_serv_parcheggi,V_da_pes/pesatura,P_da_est/miscelatore,P_da_est/nav_serv_carr_pieni,P_da_est/buffer,P_da_est/estrusore,P_da_est/estrusore,V_per_park/carroponte_1,V_per_park/catenaria_parcheggi,V_da_pes/catenaria_ing_misc,V_da_pes/pesatura,P_da_est/cat_usc_pieni,P_da_est/estrusore,V_per_park/estrusore',\n",
       "  'case:concept:name': 1},\n",
       " {'variant': 'V_da_pes/pesatura,P_da_misc/miscelatore,P_da_est/carroponte_1,V_per_park/estrusore',\n",
       "  'case:concept:name': 1},\n",
       " {'variant': 'V_da_pes/pesatura,P_da_misc/miscelatore,P_da_est/carroponte_1,P_da_est/buffer,P_da_est/estrusore,V_per_park/estrusore',\n",
       "  'case:concept:name': 1},\n",
       " {'variant': 'V_da_pes/pesatura,P_da_misc/miscelatore,P_da_est/carroponte_1,P_da_est/buffer,P_da_est/carroponte_2,P_da_est/estrusore,V_per_park/estrusore',\n",
       "  'case:concept:name': 1},\n",
       " {'variant': 'V_da_pes/pesatura,P_da_misc/miscelatore,P_da_est/buffer,P_da_est/carroponte_2,P_da_est/fuori_impianto,P_da_est/estrusore,V_per_park/estrusore',\n",
       "  'case:concept:name': 1},\n",
       " {'variant': 'V_da_pes/pesatura,P_da_misc/miscelatore,P_da_est/buffer,P_da_est/carroponte_2,P_da_est/estrusore,V_per_park/estrusore',\n",
       "  'case:concept:name': 1},\n",
       " {'variant': 'V_da_pes/pesatura,P_da_est/navetta_serv_misc,P_da_est/nav_serv_carr_pieni,P_da_est/carroponte_1,P_da_est/estrusore,V_per_park/estrusore',\n",
       "  'case:concept:name': 1},\n",
       " {'variant': 'V_da_pes/pesatura,P_da_est/navetta_serv_misc,P_da_est/estrusore,V_per_park/estrusore',\n",
       "  'case:concept:name': 1},\n",
       " {'variant': 'V_da_pes/pesatura,P_da_est/navetta_serv_misc,P_da_est/cat_usc_pieni,P_da_est/nav_serv_carr_vuoti,P_da_est/nav_serv_carr_pieni,P_da_est/carroponte_1,P_da_est/buffer,P_da_est/carroponte_2,P_da_est/estrusore,V_per_park/estrusore',\n",
       "  'case:concept:name': 1},\n",
       " {'variant': 'V_da_pes/pesatura,P_da_est/navetta_serv_misc,P_da_est/cat_usc_pieni,P_da_est/nav_serv_carr_pieni,P_da_est/carroponte_1,P_da_est/estrusore,V_per_park/estrusore',\n",
       "  'case:concept:name': 1},\n",
       " {'variant': 'V_da_pes/pesatura,P_da_est/navetta_serv_misc,P_da_est/cat_usc_pieni,P_da_est/nav_serv_carr_pieni,P_da_est/carroponte_1,P_da_est/buffer,P_da_est/estrusore,V_per_park/estrusore',\n",
       "  'case:concept:name': 1},\n",
       " {'variant': 'V_da_pes/pesatura,P_da_est/navetta_serv_misc,P_da_est/carroponte_2,P_da_est/estrusore,V_per_park/estrusore',\n",
       "  'case:concept:name': 1},\n",
       " {'variant': 'V_da_pes/pesatura,P_da_est/navetta_serv_misc,P_da_est/carroponte_1,P_da_est/estrusore,V_per_park/estrusore',\n",
       "  'case:concept:name': 1},\n",
       " {'variant': 'V_da_pes/pesatura,P_da_est/navetta_serv_misc,P_da_est/carroponte_1,P_da_est/buffer,P_da_est/estrusore,V_per_park/estrusore',\n",
       "  'case:concept:name': 1},\n",
       " {'variant': 'V_da_pes/pesatura,P_da_est/navetta_serv_misc,P_da_est/carroponte_1,P_da_est/buffer,P_da_est/estrusore,V_da_pes/estrusore',\n",
       "  'case:concept:name': 1},\n",
       " {'variant': 'V_da_pes/pesatura,P_da_est/navetta_serv_misc,P_da_est/carroponte_1,P_da_est/buffer,P_da_est/estrusore,P_da_est/estrusore,V_per_park/nav_serv_carr_pieni,V_per_park/catenaria_parcheggi,V_per_park/catenaria_parcheggi,V_da_pes/catenaria_ing_misc,V_da_pes/pesatura,P_da_est/nav_serv_carr_pieni,P_da_est/estrusore,V_per_park/estrusore',\n",
       "  'case:concept:name': 1},\n",
       " {'variant': 'V_da_pes/pesatura,P_da_est/navetta_serv_misc,P_da_est/buffer,P_da_est/estrusore,V_per_park/estrusore',\n",
       "  'case:concept:name': 1},\n",
       " {'variant': 'V_da_pes/pesatura,P_da_est/nav_serv_carr_vuoti,P_da_est/buffer,P_da_est/estrusore,P_da_est/estrusore,V_per_park/carroponte_1,V_per_park/catenaria_parcheggi,V_da_pes/catenaria_ing_misc,V_da_pes/pesatura,P_da_est/navetta_serv_misc,P_da_est/estrusore,V_per_park/estrusore',\n",
       "  'case:concept:name': 1},\n",
       " {'variant': 'V_da_pes/pesatura,P_da_est/nav_serv_carr_pieni,P_da_est/estrusore,V_per_park/estrusore',\n",
       "  'case:concept:name': 1},\n",
       " {'variant': 'V_da_pes/pesatura,P_da_est/nav_serv_carr_pieni,P_da_est/estrusore,P_da_est/estrusore,V_per_park/carroponte_1,V_per_park/catenaria_parcheggi,V_da_pes/catenaria_ing_misc,V_da_pes/pesatura,P_da_misc/miscelatore,P_da_est/nav_serv_carr_pieni,P_da_est/estrusore,P_da_est/estrusore,V_per_park/carroponte_1,V_per_park/catenaria_parcheggi,V_da_pes/pesatura,P_da_misc/miscelatore,P_da_est/miscelatore,P_da_est/nav_serv_carr_pieni,P_da_est/estrusore,V_per_park/estrusore',\n",
       "  'case:concept:name': 1},\n",
       " {'variant': 'V_da_pes/pesatura,P_da_est/nav_serv_carr_pieni,P_da_est/estrusore,P_da_est/estrusore,V_per_park/carroponte_1,V_da_pes/catenaria_parcheggi,V_da_pes/nav_serv_parcheggi,V_da_pes/catenaria_ing_misc,V_da_pes/navetta_serv_misc,V_da_pes/pesatura,P_da_misc/navetta_serv_misc,P_da_misc/miscelatore,V_da_pes/navetta_serv_misc,V_da_pes/pesatura,P_da_misc/navetta_serv_misc,P_da_misc/miscelatore,P_da_est/navetta_serv_misc,P_da_est/nav_serv_carr_vuoti,P_da_est/nav_serv_carr_pieni,P_da_est/carroponte_1,P_da_est/estrusore,V_per_park/estrusore',\n",
       "  'case:concept:name': 1},\n",
       " {'variant': 'V_da_pes/pesatura,P_da_est/nav_serv_carr_pieni,P_da_est/buffer,P_da_est/estrusore,V_per_park/estrusore',\n",
       "  'case:concept:name': 1},\n",
       " {'variant': 'V_da_pes/pesatura,P_da_est/nav_serv_carr_pieni,P_da_est/buffer,P_da_est/estrusore,P_da_est/estrusore,V_da_pes/carroponte_1,V_da_pes/catenaria_ing_misc,V_da_pes/pesatura,P_da_misc/miscelatore,P_da_est/nav_serv_carr_pieni,P_da_est/buffer,P_da_est/estrusore,V_per_park/estrusore',\n",
       "  'case:concept:name': 1},\n",
       " {'variant': 'V_da_pes/pesatura,P_da_est/miscelatore,P_da_est/estrusore,V_per_park/estrusore',\n",
       "  'case:concept:name': 1},\n",
       " {'variant': 'V_da_pes/pesatura,P_da_est/miscelatore,P_da_est/cat_usc_pieni,P_da_est/buffer,P_da_est/estrusore,V_per_park/estrusore',\n",
       "  'case:concept:name': 1},\n",
       " {'variant': 'V_da_pes/pesatura,P_da_est/miscelatore,P_da_est/carroponte_1,P_da_est/estrusore,V_per_park/estrusore',\n",
       "  'case:concept:name': 1},\n",
       " {'variant': 'V_da_pes/pesatura,P_da_est/miscelatore,P_da_est/carroponte_1,P_da_est/estrusore,P_da_est/estrusore,V_da_pes/nav_serv_carr_pieni,V_da_pes/pesatura,P_da_misc/miscelatore,P_da_est/nav_serv_carr_pieni,P_da_est/estrusore,P_da_est/estrusore,V_per_park/carroponte_1,V_da_pes/catenaria_ing_misc,V_da_pes/pesatura,P_da_est/miscelatore,P_da_est/nav_serv_carr_pieni,P_da_est/estrusore,V_per_park/estrusore',\n",
       "  'case:concept:name': 1},\n",
       " {'variant': 'V_da_pes/pesatura,P_da_est/miscelatore,P_da_est/buffer,P_da_est/estrusore,V_per_park/estrusore',\n",
       "  'case:concept:name': 1},\n",
       " {'variant': 'V_da_pes/pesatura,P_da_est/miscelatore,P_da_est/buffer,P_da_est/estrusore,P_da_est/estrusore,V_da_pes/catenaria_ing_misc,V_da_pes/pesatura,P_da_misc/miscelatore,P_da_est/nav_serv_carr_pieni,P_da_est/buffer,P_da_est/estrusore,P_da_est/estrusore,V_da_pes/nav_serv_carr_vuoti,V_da_pes/pesatura,P_da_misc/navetta_serv_misc,P_da_est/cat_usc_pieni,P_da_est/buffer,P_da_est/estrusore,P_da_est/estrusore,V_da_pes/navetta_serv_misc,P_da_misc/miscelatore,P_da_est/buffer,P_da_est/carroponte_2,P_da_est/estrusore,V_da_pes/estrusore',\n",
       "  'case:concept:name': 1},\n",
       " {'variant': 'V_da_pes/pesatura,P_da_est/miscelatore,P_da_est/buffer,P_da_est/estrusore,P_da_est/estrusore,V_da_pes/carroponte_1,V_da_pes/pesatura,P_da_est/miscelatore,P_da_est/buffer,P_da_est/estrusore,V_per_park/estrusore',\n",
       "  'case:concept:name': 1},\n",
       " {'variant': 'V_da_pes/pesatura,P_da_est/cat_usc_pieni,P_da_est/carroponte_1,P_da_est/buffer,P_da_est/estrusore,V_per_park/estrusore',\n",
       "  'case:concept:name': 1},\n",
       " {'variant': 'V_da_pes/pesatura,P_da_est/cat_usc_pieni,P_da_est/buffer,P_da_est/estrusore,V_per_park/estrusore',\n",
       "  'case:concept:name': 1},\n",
       " {'variant': 'V_da_pes/pesatura,P_da_est/carroponte_1,P_da_est/estrusore,V_da_pes/estrusore',\n",
       "  'case:concept:name': 1},\n",
       " {'variant': 'V_da_pes/pesatura,P_da_est/carroponte_1,P_da_est/buffer,P_da_est/carroponte_2,P_da_est/estrusore,V_per_park/estrusore',\n",
       "  'case:concept:name': 1}]"
      ]
     },
     "execution_count": 12,
     "metadata": {},
     "output_type": "execute_result"
    }
   ],
   "source": [
    "variants_count"
   ]
  },
  {
   "cell_type": "code",
   "execution_count": 20,
   "id": "b2a3ca5d",
   "metadata": {},
   "outputs": [
    {
     "data": {
      "image/png": "[encoded data removed]",
      "text/plain": [
       "<IPython.core.display.Image object>"
      ]
     },
     "metadata": {},
     "output_type": "display_data"
    }
   ],
   "source": [
    "#  take most significant variants\n",
    "filtered_log = pm4py.filter_variants_top_k(event_log, 13)\n",
    "\n",
    "#  visualize heuristic net\n",
    "from pm4py.algo.discovery.heuristics import algorithm as heuristics_miner\n",
    "from pm4py.visualization.heuristics_net import visualizer as hn_visualizer\n",
    "heu_net = heuristics_miner.apply_heu(filtered_log,\n",
    "                                     parameters={heuristics_miner.Variants.CLASSIC.value.Parameters.MIN_ACT_COUNT: 1,\n",
    "                                                heuristics_miner.Variants.CLASSIC.value.Parameters.MIN_DFG_OCCURRENCES: 1,\n",
    "                                                heuristics_miner.Variants.CLASSIC.value.Parameters.LOOP_LENGTH_TWO_THRESH: 2})\n",
    "gviz = hn_visualizer.apply(heu_net)\n",
    "hn_visualizer.view(gviz)"
   ]
  },
  {
   "cell_type": "code",
   "execution_count": 21,
   "id": "d817e328",
   "metadata": {},
   "outputs": [],
   "source": [
    "pm4py.save_vis_heuristics_net(heu_net, 'C:/Users/HP/Desktop/huristicnet_post_pes.png')"
   ]
  },
  {
   "cell_type": "markdown",
   "id": "de6e54b9",
   "metadata": {},
   "source": [
    "### Calcolo intertempi tra le attività"
   ]
  },
  {
   "cell_type": "code",
   "execution_count": 22,
   "id": "ea7a80bc",
   "metadata": {},
   "outputs": [],
   "source": [
    "delta_t_est = {'pesatura': [],\n",
    "              'hand_to_misc': [],\n",
    "              'miscelazione': [],\n",
    "              'hand_to_est':[],\n",
    "              'estrusione': []}\n",
    "\n",
    "df_est = filtered_log[['ID_unique', 'ubicazione', 'rif', 'timestamp']].copy()"
   ]
  },
  {
   "cell_type": "code",
   "execution_count": 23,
   "id": "d4e90a6e",
   "metadata": {},
   "outputs": [],
   "source": [
    "for idu in df_est['ID_unique'].unique():\n",
    "    mask = df_est['ID_unique'] == idu\n",
    "    df_tmp = df_est[mask].sort_values('timestamp')\n",
    "    df_tmp.set_index('rif', inplace=True)\n",
    "    if len(df_tmp) == len(df_tmp.index.unique()):\n",
    "        for k in delta_t_est:\n",
    "            minuendo = None\n",
    "            sottraendo = None\n",
    "            if k == 'pesatura':\n",
    "                if 'P_da_misc/navetta_serv_misc' in df_tmp.index:\n",
    "                    minuendo = 'P_da_misc/navetta_serv_misc'\n",
    "                    sottraendo = 'V_da_pes/pesatura'\n",
    "                else:\n",
    "                    continue\n",
    "                #-----------\n",
    "            elif k == 'hand_to_misc':\n",
    "                if 'P_da_misc/navetta_serv_misc' in df_tmp.index:\n",
    "                    minuendo = 'P_da_misc/miscelatore'\n",
    "                    sottraendo = 'P_da_misc/navetta_serv_misc'\n",
    "                else:\n",
    "                    continue\n",
    "                #-----------\n",
    "            elif k == 'miscelazione':\n",
    "                if 'Not_def/fuori_impianto' in df_tmp.index:\n",
    "                    if 'P_remove/ing_zona_misc' in df_tmp.index:\n",
    "                        minuendo = 'P_remove/ing_zona_misc'\n",
    "                        sottraendo = 'P_da_misc/miscelatore'\n",
    "                    elif 'P_remove/navetta_serv_misc' in df_tmp.index:\n",
    "                        minuendo = 'P_remove/navetta_serv_misc'\n",
    "                        sottraendo = 'P_da_misc/miscelatore'\n",
    "                    else:\n",
    "                        minuendo = 'Not_def/fuori_impianto'\n",
    "                        sottraendo = 'P_da_misc/miscelatore'\n",
    "                else:\n",
    "                    if 'P_da_est/navetta_serv_misc' in df_tmp.index:\n",
    "                        minuendo = 'P_da_est/navetta_serv_misc'\n",
    "                        sottraendo = 'P_da_misc/miscelatore'\n",
    "                    else:\n",
    "                        minuendo = 'P_da_est/cat_usc_pieni'\n",
    "                        sottraendo = 'P_da_misc/miscelatore'\n",
    "                #----------------\n",
    "            elif k == 'hand_to_est':\n",
    "                if 'P_da_est/buffer' in df_tmp.index and 'P_da_est/cat_usc_pieni' in df_tmp.index:\n",
    "                    minuendo = 'P_da_est/buffer'\n",
    "                    sottraendo = 'P_da_est/cat_usc_pieni'\n",
    "                elif 'P_da_est/buffer' in df_tmp.index and 'P_da_est/navetta_serv_misc' in df_tmp.index:\n",
    "                    minuendo = 'P_da_est/buffer'\n",
    "                    sottraendo = 'P_da_est/navetta_serv_misc'\n",
    "                elif 'P_da_est/estrusore' in df_tmp.index and 'P_da_est/cat_usc_pieni' in df_tmp.index and 'P_da_est/buffer' not in df_tmp.index:\n",
    "                    minuendo = 'P_da_est/estrusore'\n",
    "                    sottraendo = 'P_da_est/cat_usc_pieni'\n",
    "                elif 'P_da_est/estrusore' in df_tmp.index and 'P_da_est/navetta_serv_misc' in df_tmp.index and 'P_da_est/buffer' not in df_tmp.index:\n",
    "                    minuendo = 'P_da_est/estrusore'\n",
    "                    sottraendo = 'P_da_est/navetta_serv_misc'\n",
    "                # ------------------\n",
    "            elif k == 'estrusione':\n",
    "                if 'V_da_pes/estrusore' in df_tmp.index:\n",
    "                    minuendo = 'V_da_pes/estrusore'\n",
    "                    sottraendo = 'P_da_est/estrusore'\n",
    "                else:\n",
    "                    minuendo = 'V_per_park/estrusore'\n",
    "                    sottraendo = 'P_da_est/estrusore'\n",
    "\n",
    "            if minuendo in df_tmp.index and sottraendo in df_tmp.index:\n",
    "                dt = np.round(\n",
    "                    (df_tmp.loc[minuendo, 'timestamp'] - df_tmp.loc[sottraendo, 'timestamp']).total_seconds() / 60, 4)\n",
    "                delta_t_est[k].append(dt)"
   ]
  },
  {
   "cell_type": "code",
   "execution_count": 24,
   "id": "fbd0f292",
   "metadata": {},
   "outputs": [],
   "source": [
    "df_dt = pd.DataFrame.from_dict(delta_t_est, orient='index').transpose()"
   ]
  },
  {
   "cell_type": "code",
   "execution_count": 25,
   "id": "befc1cef",
   "metadata": {},
   "outputs": [
    {
     "name": "stdout",
     "output_type": "stream",
     "text": [
      "<class 'pandas.core.frame.DataFrame'>\n",
      "RangeIndex: 710 entries, 0 to 709\n",
      "Data columns (total 5 columns):\n",
      " #   Column        Non-Null Count  Dtype  \n",
      "---  ------        --------------  -----  \n",
      " 0   pesatura      681 non-null    float64\n",
      " 1   hand_to_misc  681 non-null    float64\n",
      " 2   miscelazione  710 non-null    float64\n",
      " 3   hand_to_est   445 non-null    float64\n",
      " 4   estrusione    445 non-null    float64\n",
      "dtypes: float64(5)\n",
      "memory usage: 27.9 KB\n"
     ]
    }
   ],
   "source": [
    "df_dt.info()"
   ]
  },
  {
   "cell_type": "markdown",
   "id": "f91157b6",
   "metadata": {},
   "source": [
    "### Data visualization"
   ]
  },
  {
   "cell_type": "code",
   "execution_count": 27,
   "id": "51a248cf",
   "metadata": {},
   "outputs": [],
   "source": [
    "def quantile(column,pct,pct_lower):\n",
    "    y = column\n",
    "    y.dropna(inplace=True)\n",
    "    y = y.values\n",
    "    y.sort()\n",
    "    len_y = len(y)\n",
    "    y = y[int(pct_lower * len_y):int(len_y * pct)]\n",
    "    return (y)"
   ]
  },
  {
   "cell_type": "code",
   "execution_count": 28,
   "id": "368fb1f3",
   "metadata": {},
   "outputs": [
    {
     "data": {
      "text/plain": [
       "<seaborn.axisgrid.FacetGrid at 0x15f59c43e80>"
      ]
     },
     "execution_count": 28,
     "metadata": {},
     "output_type": "execute_result"
    },
    {
     "data": {
      "image/png": "[encoded data removed]",
      "text/plain": [
       "<Figure size 540x360 with 1 Axes>"
      ]
     },
     "metadata": {},
     "output_type": "display_data"
    }
   ],
   "source": [
    "sns.set_style('white')\n",
    "sns.set_context(\"paper\", font_scale = 2)\n",
    "sns.displot(data=df_dt, x=\"pesatura\", kind=\"hist\", bins = 80, aspect = 1.5)"
   ]
  },
  {
   "cell_type": "code",
   "execution_count": 29,
   "id": "3256def2",
   "metadata": {},
   "outputs": [
    {
     "data": {
      "text/plain": [
       "12.617309050445105"
      ]
     },
     "execution_count": 29,
     "metadata": {},
     "output_type": "execute_result"
    }
   ],
   "source": [
    "np.mean(quantile(df_dt['pesatura'], 0.99, 0))"
   ]
  },
  {
   "cell_type": "code",
   "execution_count": 30,
   "id": "8bcb7fad",
   "metadata": {},
   "outputs": [
    {
     "data": {
      "text/plain": [
       "<seaborn.axisgrid.FacetGrid at 0x15f59c43400>"
      ]
     },
     "execution_count": 30,
     "metadata": {},
     "output_type": "execute_result"
    },
    {
     "data": {
      "image/png": "[encoded data removed]",
      "text/plain": [
       "<Figure size 540x360 with 1 Axes>"
      ]
     },
     "metadata": {},
     "output_type": "display_data"
    }
   ],
   "source": [
    "sns.set_style('white')\n",
    "sns.set_context(\"paper\", font_scale = 2)\n",
    "sns.displot(data=df_dt, x=\"hand_to_misc\", kind=\"hist\", bins = 50, aspect = 1.5)"
   ]
  },
  {
   "cell_type": "code",
   "execution_count": 35,
   "id": "3e360f72",
   "metadata": {},
   "outputs": [
    {
     "data": {
      "text/plain": [
       "<seaborn.axisgrid.FacetGrid at 0x15f595b6d60>"
      ]
     },
     "execution_count": 35,
     "metadata": {},
     "output_type": "execute_result"
    },
    {
     "data": {
      "image/png": "[encoded data removed]",
      "text/plain": [
       "<Figure size 540x360 with 1 Axes>"
      ]
     },
     "metadata": {},
     "output_type": "display_data"
    }
   ],
   "source": [
    "sns.set_style('white')\n",
    "sns.set_context(\"paper\", font_scale = 2)\n",
    "sns.displot(data=df_dt, x=\"miscelazione\", kind=\"hist\", bins = 50, aspect = 1.5)"
   ]
  },
  {
   "cell_type": "code",
   "execution_count": 36,
   "id": "1cfedb73",
   "metadata": {},
   "outputs": [
    {
     "data": {
      "text/plain": [
       "<seaborn.axisgrid.FacetGrid at 0x15f596de1c0>"
      ]
     },
     "execution_count": 36,
     "metadata": {},
     "output_type": "execute_result"
    },
    {
     "data": {
      "image/png": "[encoded data removed]",
      "text/plain": [
       "<Figure size 540x360 with 1 Axes>"
      ]
     },
     "metadata": {},
     "output_type": "display_data"
    }
   ],
   "source": [
    "sns.set_style('white')\n",
    "sns.set_context(\"paper\", font_scale = 2)\n",
    "sns.displot(data=df_dt, x=\"hand_to_est\", kind=\"hist\", bins = 60, aspect = 1.5)"
   ]
  },
  {
   "cell_type": "code",
   "execution_count": 37,
   "id": "a1928da5",
   "metadata": {},
   "outputs": [
    {
     "data": {
      "text/plain": [
       "<seaborn.axisgrid.FacetGrid at 0x15f59657880>"
      ]
     },
     "execution_count": 37,
     "metadata": {},
     "output_type": "execute_result"
    },
    {
     "data": {
      "image/png": "[encoded data removed]",
      "text/plain": [
       "<Figure size 540x360 with 1 Axes>"
      ]
     },
     "metadata": {},
     "output_type": "display_data"
    }
   ],
   "source": [
    "ns = pd.concat([df_dt['estrusione'], df_t_est['est_time']], ignore_index=True)\n",
    "dt_est = quantile(ns, 0.99, 0.01)\n",
    "sns.set_style('white')\n",
    "sns.set_context(\"paper\", font_scale = 2)\n",
    "sns.displot(data=dt_est, kind=\"hist\", bins = 50, aspect = 1.5)"
   ]
  },
  {
   "cell_type": "markdown",
   "id": "711ac541",
   "metadata": {},
   "source": [
    "### Fitting distributions to data"
   ]
  },
  {
   "cell_type": "code",
   "execution_count": 33,
   "id": "f572b14a",
   "metadata": {},
   "outputs": [
    {
     "name": "stderr",
     "output_type": "stream",
     "text": [
      "WARNING:root:SKIPPED alpha distribution (taking more than 30 seconds)\n",
      "WARNING:root:SKIPPED anglit distribution (taking more than 30 seconds)\n",
      "WARNING:root:SKIPPED argus distribution (taking more than 30 seconds)\n",
      "WARNING:root:SKIPPED arcsine distribution (taking more than 30 seconds)\n",
      "WARNING:root:SKIPPED beta distribution (taking more than 30 seconds)\n",
      "WARNING:root:SKIPPED bradford distribution (taking more than 30 seconds)\n",
      "WARNING:root:SKIPPED betaprime distribution (taking more than 30 seconds)\n",
      "WARNING:root:SKIPPED burr distribution (taking more than 30 seconds)\n",
      "WARNING:root:SKIPPED burr12 distribution (taking more than 30 seconds)\n",
      "WARNING:root:SKIPPED cauchy distribution (taking more than 30 seconds)\n",
      "WARNING:root:SKIPPED chi distribution (taking more than 30 seconds)\n",
      "WARNING:root:SKIPPED chi2 distribution (taking more than 30 seconds)\n",
      "WARNING:root:SKIPPED cosine distribution (taking more than 30 seconds)\n",
      "WARNING:root:SKIPPED crystalball distribution (taking more than 30 seconds)\n",
      "WARNING:root:SKIPPED dgamma distribution (taking more than 30 seconds)\n",
      "WARNING:root:SKIPPED dweibull distribution (taking more than 30 seconds)\n",
      "WARNING:root:SKIPPED erlang distribution (taking more than 30 seconds)\n",
      "WARNING:root:SKIPPED expon distribution (taking more than 30 seconds)\n",
      "WARNING:root:SKIPPED exponnorm distribution (taking more than 30 seconds)\n",
      "WARNING:root:SKIPPED f distribution (taking more than 30 seconds)\n",
      "WARNING:root:SKIPPED fatiguelife distribution (taking more than 30 seconds)\n",
      "WARNING:root:SKIPPED fisk distribution (taking more than 30 seconds)\n",
      "WARNING:root:SKIPPED foldcauchy distribution (taking more than 30 seconds)\n",
      "WARNING:root:SKIPPED foldnorm distribution (taking more than 30 seconds)\n",
      "WARNING:root:SKIPPED gamma distribution (taking more than 30 seconds)\n",
      "WARNING:root:SKIPPED gausshyper distribution (taking more than 30 seconds)\n",
      "WARNING:root:SKIPPED genextreme distribution (taking more than 30 seconds)\n",
      "WARNING:root:SKIPPED gengamma distribution (taking more than 30 seconds)\n",
      "WARNING:root:SKIPPED genhalflogistic distribution (taking more than 30 seconds)\n",
      "WARNING:root:SKIPPED genhyperbolic distribution (taking more than 30 seconds)\n",
      "WARNING:root:SKIPPED geninvgauss distribution (taking more than 30 seconds)\n",
      "WARNING:root:SKIPPED genlogistic distribution (taking more than 30 seconds)\n",
      "WARNING:root:SKIPPED gennorm distribution (taking more than 30 seconds)\n",
      "WARNING:root:SKIPPED genpareto distribution (taking more than 30 seconds)\n",
      "WARNING:root:SKIPPED gilbrat distribution (taking more than 30 seconds)\n",
      "WARNING:root:SKIPPED exponweib distribution (taking more than 30 seconds)\n",
      "WARNING:root:SKIPPED gumbel_l distribution (taking more than 30 seconds)\n",
      "WARNING:root:SKIPPED gumbel_r distribution (taking more than 30 seconds)\n",
      "WARNING:root:SKIPPED halfcauchy distribution (taking more than 30 seconds)\n",
      "WARNING:root:SKIPPED exponpow distribution (taking more than 30 seconds)\n",
      "WARNING:root:SKIPPED halflogistic distribution (taking more than 30 seconds)\n",
      "WARNING:root:SKIPPED halfnorm distribution (taking more than 30 seconds)\n",
      "WARNING:root:SKIPPED hypsecant distribution (taking more than 30 seconds)\n",
      "WARNING:root:SKIPPED gompertz distribution (taking more than 30 seconds)\n",
      "WARNING:root:SKIPPED invgamma distribution (taking more than 30 seconds)\n",
      "WARNING:root:SKIPPED invgauss distribution (taking more than 30 seconds)\n",
      "WARNING:root:SKIPPED invweibull distribution (taking more than 30 seconds)\n",
      "WARNING:root:SKIPPED halfgennorm distribution (taking more than 30 seconds)\n",
      "WARNING:root:SKIPPED kappa3 distribution (taking more than 30 seconds)\n",
      "WARNING:root:SKIPPED kappa4 distribution (taking more than 30 seconds)\n",
      "WARNING:root:SKIPPED ksone distribution (taking more than 30 seconds)\n",
      "WARNING:root:SKIPPED kstwo distribution (taking more than 30 seconds)\n",
      "WARNING:root:SKIPPED genexpon distribution (taking more than 30 seconds)\n",
      "WARNING:root:SKIPPED laplace_asymmetric distribution (taking more than 30 seconds)\n",
      "WARNING:root:SKIPPED levy distribution (taking more than 30 seconds)\n",
      "WARNING:root:SKIPPED levy_l distribution (taking more than 30 seconds)\n",
      "WARNING:root:SKIPPED levy_stable distribution (taking more than 30 seconds)\n",
      "WARNING:root:SKIPPED loggamma distribution (taking more than 30 seconds)\n",
      "WARNING:root:SKIPPED logistic distribution (taking more than 30 seconds)\n",
      "WARNING:root:SKIPPED loglaplace distribution (taking more than 30 seconds)\n",
      "WARNING:root:SKIPPED lognorm distribution (taking more than 30 seconds)\n",
      "WARNING:root:SKIPPED lomax distribution (taking more than 30 seconds)\n",
      "WARNING:root:SKIPPED maxwell distribution (taking more than 30 seconds)\n",
      "WARNING:root:SKIPPED mielke distribution (taking more than 30 seconds)\n",
      "WARNING:root:SKIPPED moyal distribution (taking more than 30 seconds)\n",
      "WARNING:root:SKIPPED nakagami distribution (taking more than 30 seconds)\n",
      "WARNING:root:SKIPPED ncf distribution (taking more than 30 seconds)\n",
      "WARNING:root:SKIPPED nct distribution (taking more than 30 seconds)\n",
      "WARNING:root:SKIPPED ncx2 distribution (taking more than 30 seconds)\n",
      "WARNING:root:SKIPPED norminvgauss distribution (taking more than 30 seconds)\n",
      "WARNING:root:SKIPPED pareto distribution (taking more than 30 seconds)\n",
      "WARNING:root:SKIPPED johnsonsu distribution (taking more than 30 seconds)\n",
      "WARNING:root:SKIPPED pearson3 distribution (taking more than 30 seconds)\n",
      "WARNING:root:SKIPPED powerlaw distribution (taking more than 30 seconds)\n",
      "WARNING:root:SKIPPED johnsonsb distribution (taking more than 30 seconds)\n",
      "WARNING:root:SKIPPED rayleigh distribution (taking more than 30 seconds)\n",
      "WARNING:root:SKIPPED rdist distribution (taking more than 30 seconds)\n",
      "WARNING:root:SKIPPED kstwobign distribution (taking more than 30 seconds)\n",
      "WARNING:root:SKIPPED rice distribution (taking more than 30 seconds)\n",
      "WARNING:root:SKIPPED rv_continuous distribution (taking more than 30 seconds)\n",
      "WARNING:root:SKIPPED rv_histogram distribution (taking more than 30 seconds)\n",
      "WARNING:root:SKIPPED powerlognorm distribution (taking more than 30 seconds)\n",
      "WARNING:root:SKIPPED semicircular distribution (taking more than 30 seconds)\n",
      "WARNING:root:SKIPPED skewcauchy distribution (taking more than 30 seconds)\n",
      "WARNING:root:SKIPPED skewnorm distribution (taking more than 30 seconds)\n",
      "WARNING:root:SKIPPED t distribution (taking more than 30 seconds)\n",
      "WARNING:root:SKIPPED trapezoid distribution (taking more than 30 seconds)\n",
      "WARNING:root:SKIPPED trapz distribution (taking more than 30 seconds)\n",
      "WARNING:root:SKIPPED triang distribution (taking more than 30 seconds)\n",
      "WARNING:root:SKIPPED truncexpon distribution (taking more than 30 seconds)\n",
      "WARNING:root:SKIPPED tukeylambda distribution (taking more than 30 seconds)\n",
      "WARNING:root:SKIPPED uniform distribution (taking more than 30 seconds)\n",
      "WARNING:root:SKIPPED powernorm distribution (taking more than 30 seconds)\n",
      "WARNING:root:SKIPPED recipinvgauss distribution (taking more than 30 seconds)\n",
      "WARNING:root:SKIPPED wald distribution (taking more than 30 seconds)\n",
      "WARNING:root:SKIPPED weibull_max distribution (taking more than 30 seconds)\n",
      "WARNING:root:SKIPPED weibull_min distribution (taking more than 30 seconds)\n",
      "WARNING:root:SKIPPED wrapcauchy distribution (taking more than 30 seconds)\n",
      "WARNING:root:SKIPPED studentized_range distribution (taking more than 30 seconds)\n",
      "WARNING:root:SKIPPED vonmises distribution (taking more than 30 seconds)\n",
      "WARNING:root:SKIPPED vonmises_line distribution (taking more than 30 seconds)\n",
      "WARNING:fitter.fitter:alpha was not fitted. no parameters available\n",
      "WARNING:fitter.fitter:pearson3 was not fitted. no parameters available\n",
      "WARNING:fitter.fitter:johnsonsu was not fitted. no parameters available\n",
      "WARNING:fitter.fitter:pareto was not fitted. no parameters available\n",
      "WARNING:fitter.fitter:norminvgauss was not fitted. no parameters available\n",
      "WARNING:matplotlib.legend:No artists with labels found to put in legend.  Note that artists whose label start with an underscore are ignored when legend() is called with no argument.\n"
     ]
    },
    {
     "data": {
      "text/html": [
       "<div>\n",
       "<style scoped>\n",
       "    .dataframe tbody tr th:only-of-type {\n",
       "        vertical-align: middle;\n",
       "    }\n",
       "\n",
       "    .dataframe tbody tr th {\n",
       "        vertical-align: top;\n",
       "    }\n",
       "\n",
       "    .dataframe thead th {\n",
       "        text-align: right;\n",
       "    }\n",
       "</style>\n",
       "<table border=\"1\" class=\"dataframe\">\n",
       "  <thead>\n",
       "    <tr style=\"text-align: right;\">\n",
       "      <th></th>\n",
       "      <th>sumsquare_error</th>\n",
       "      <th>aic</th>\n",
       "      <th>bic</th>\n",
       "      <th>kl_div</th>\n",
       "    </tr>\n",
       "  </thead>\n",
       "  <tbody>\n",
       "    <tr>\n",
       "      <th>alpha</th>\n",
       "      <td>inf</td>\n",
       "      <td>inf</td>\n",
       "      <td>inf</td>\n",
       "      <td>inf</td>\n",
       "    </tr>\n",
       "    <tr>\n",
       "      <th>pearson3</th>\n",
       "      <td>inf</td>\n",
       "      <td>inf</td>\n",
       "      <td>inf</td>\n",
       "      <td>inf</td>\n",
       "    </tr>\n",
       "    <tr>\n",
       "      <th>johnsonsu</th>\n",
       "      <td>inf</td>\n",
       "      <td>inf</td>\n",
       "      <td>inf</td>\n",
       "      <td>inf</td>\n",
       "    </tr>\n",
       "    <tr>\n",
       "      <th>pareto</th>\n",
       "      <td>inf</td>\n",
       "      <td>inf</td>\n",
       "      <td>inf</td>\n",
       "      <td>inf</td>\n",
       "    </tr>\n",
       "    <tr>\n",
       "      <th>norminvgauss</th>\n",
       "      <td>inf</td>\n",
       "      <td>inf</td>\n",
       "      <td>inf</td>\n",
       "      <td>inf</td>\n",
       "    </tr>\n",
       "  </tbody>\n",
       "</table>\n",
       "</div>"
      ],
      "text/plain": [
       "              sumsquare_error  aic  bic  kl_div\n",
       "alpha                     inf  inf  inf     inf\n",
       "pearson3                  inf  inf  inf     inf\n",
       "johnsonsu                 inf  inf  inf     inf\n",
       "pareto                    inf  inf  inf     inf\n",
       "norminvgauss              inf  inf  inf     inf"
      ]
     },
     "execution_count": 33,
     "metadata": {},
     "output_type": "execute_result"
    },
    {
     "name": "stdout",
     "output_type": "stream",
     "text": [
      "Error in callback <function flush_figures at 0x0000023A05E1BB80> (for post_execute):\n"
     ]
    },
    {
     "ename": "KeyboardInterrupt",
     "evalue": "",
     "output_type": "error",
     "traceback": [
      "\u001b[1;31m---------------------------------------------------------------------------\u001b[0m",
      "\u001b[1;31mKeyboardInterrupt\u001b[0m                         Traceback (most recent call last)",
      "File \u001b[1;32m~\\anaconda3\\lib\\site-packages\\matplotlib_inline\\backend_inline.py:121\u001b[0m, in \u001b[0;36mflush_figures\u001b[1;34m()\u001b[0m\n\u001b[0;32m    118\u001b[0m \u001b[38;5;28;01mif\u001b[39;00m InlineBackend\u001b[38;5;241m.\u001b[39minstance()\u001b[38;5;241m.\u001b[39mclose_figures:\n\u001b[0;32m    119\u001b[0m     \u001b[38;5;66;03m# ignore the tracking, just draw and close all figures\u001b[39;00m\n\u001b[0;32m    120\u001b[0m     \u001b[38;5;28;01mtry\u001b[39;00m:\n\u001b[1;32m--> 121\u001b[0m         \u001b[38;5;28;01mreturn\u001b[39;00m \u001b[43mshow\u001b[49m\u001b[43m(\u001b[49m\u001b[38;5;28;43;01mTrue\u001b[39;49;00m\u001b[43m)\u001b[49m\n\u001b[0;32m    122\u001b[0m     \u001b[38;5;28;01mexcept\u001b[39;00m \u001b[38;5;167;01mException\u001b[39;00m \u001b[38;5;28;01mas\u001b[39;00m e:\n\u001b[0;32m    123\u001b[0m         \u001b[38;5;66;03m# safely show traceback if in IPython, else raise\u001b[39;00m\n\u001b[0;32m    124\u001b[0m         ip \u001b[38;5;241m=\u001b[39m get_ipython()\n",
      "File \u001b[1;32m~\\anaconda3\\lib\\site-packages\\matplotlib_inline\\backend_inline.py:41\u001b[0m, in \u001b[0;36mshow\u001b[1;34m(close, block)\u001b[0m\n\u001b[0;32m     39\u001b[0m \u001b[38;5;28;01mtry\u001b[39;00m:\n\u001b[0;32m     40\u001b[0m     \u001b[38;5;28;01mfor\u001b[39;00m figure_manager \u001b[38;5;129;01min\u001b[39;00m Gcf\u001b[38;5;241m.\u001b[39mget_all_fig_managers():\n\u001b[1;32m---> 41\u001b[0m         \u001b[43mdisplay\u001b[49m\u001b[43m(\u001b[49m\n\u001b[0;32m     42\u001b[0m \u001b[43m            \u001b[49m\u001b[43mfigure_manager\u001b[49m\u001b[38;5;241;43m.\u001b[39;49m\u001b[43mcanvas\u001b[49m\u001b[38;5;241;43m.\u001b[39;49m\u001b[43mfigure\u001b[49m\u001b[43m,\u001b[49m\n\u001b[0;32m     43\u001b[0m \u001b[43m            \u001b[49m\u001b[43mmetadata\u001b[49m\u001b[38;5;241;43m=\u001b[39;49m\u001b[43m_fetch_figure_metadata\u001b[49m\u001b[43m(\u001b[49m\u001b[43mfigure_manager\u001b[49m\u001b[38;5;241;43m.\u001b[39;49m\u001b[43mcanvas\u001b[49m\u001b[38;5;241;43m.\u001b[39;49m\u001b[43mfigure\u001b[49m\u001b[43m)\u001b[49m\n\u001b[0;32m     44\u001b[0m \u001b[43m        \u001b[49m\u001b[43m)\u001b[49m\n\u001b[0;32m     45\u001b[0m \u001b[38;5;28;01mfinally\u001b[39;00m:\n\u001b[0;32m     46\u001b[0m     show\u001b[38;5;241m.\u001b[39m_to_draw \u001b[38;5;241m=\u001b[39m []\n",
      "File \u001b[1;32m~\\anaconda3\\lib\\site-packages\\IPython\\core\\display_functions.py:298\u001b[0m, in \u001b[0;36mdisplay\u001b[1;34m(include, exclude, metadata, transient, display_id, raw, clear, *objs, **kwargs)\u001b[0m\n\u001b[0;32m    296\u001b[0m     publish_display_data(data\u001b[38;5;241m=\u001b[39mobj, metadata\u001b[38;5;241m=\u001b[39mmetadata, \u001b[38;5;241m*\u001b[39m\u001b[38;5;241m*\u001b[39mkwargs)\n\u001b[0;32m    297\u001b[0m \u001b[38;5;28;01melse\u001b[39;00m:\n\u001b[1;32m--> 298\u001b[0m     format_dict, md_dict \u001b[38;5;241m=\u001b[39m \u001b[38;5;28;43mformat\u001b[39;49m\u001b[43m(\u001b[49m\u001b[43mobj\u001b[49m\u001b[43m,\u001b[49m\u001b[43m \u001b[49m\u001b[43minclude\u001b[49m\u001b[38;5;241;43m=\u001b[39;49m\u001b[43minclude\u001b[49m\u001b[43m,\u001b[49m\u001b[43m \u001b[49m\u001b[43mexclude\u001b[49m\u001b[38;5;241;43m=\u001b[39;49m\u001b[43mexclude\u001b[49m\u001b[43m)\u001b[49m\n\u001b[0;32m    299\u001b[0m     \u001b[38;5;28;01mif\u001b[39;00m \u001b[38;5;129;01mnot\u001b[39;00m format_dict:\n\u001b[0;32m    300\u001b[0m         \u001b[38;5;66;03m# nothing to display (e.g. _ipython_display_ took over)\u001b[39;00m\n\u001b[0;32m    301\u001b[0m         \u001b[38;5;28;01mcontinue\u001b[39;00m\n",
      "File \u001b[1;32m~\\anaconda3\\lib\\site-packages\\IPython\\core\\formatters.py:178\u001b[0m, in \u001b[0;36mDisplayFormatter.format\u001b[1;34m(self, obj, include, exclude)\u001b[0m\n\u001b[0;32m    176\u001b[0m md \u001b[38;5;241m=\u001b[39m \u001b[38;5;28;01mNone\u001b[39;00m\n\u001b[0;32m    177\u001b[0m \u001b[38;5;28;01mtry\u001b[39;00m:\n\u001b[1;32m--> 178\u001b[0m     data \u001b[38;5;241m=\u001b[39m \u001b[43mformatter\u001b[49m\u001b[43m(\u001b[49m\u001b[43mobj\u001b[49m\u001b[43m)\u001b[49m\n\u001b[0;32m    179\u001b[0m \u001b[38;5;28;01mexcept\u001b[39;00m:\n\u001b[0;32m    180\u001b[0m     \u001b[38;5;66;03m# FIXME: log the exception\u001b[39;00m\n\u001b[0;32m    181\u001b[0m     \u001b[38;5;28;01mraise\u001b[39;00m\n",
      "File \u001b[1;32m~\\anaconda3\\lib\\site-packages\\decorator.py:232\u001b[0m, in \u001b[0;36mdecorate.<locals>.fun\u001b[1;34m(*args, **kw)\u001b[0m\n\u001b[0;32m    230\u001b[0m \u001b[38;5;28;01mif\u001b[39;00m \u001b[38;5;129;01mnot\u001b[39;00m kwsyntax:\n\u001b[0;32m    231\u001b[0m     args, kw \u001b[38;5;241m=\u001b[39m fix(args, kw, sig)\n\u001b[1;32m--> 232\u001b[0m \u001b[38;5;28;01mreturn\u001b[39;00m caller(func, \u001b[38;5;241m*\u001b[39m(extras \u001b[38;5;241m+\u001b[39m args), \u001b[38;5;241m*\u001b[39m\u001b[38;5;241m*\u001b[39mkw)\n",
      "File \u001b[1;32m~\\anaconda3\\lib\\site-packages\\IPython\\core\\formatters.py:222\u001b[0m, in \u001b[0;36mcatch_format_error\u001b[1;34m(method, self, *args, **kwargs)\u001b[0m\n\u001b[0;32m    220\u001b[0m \u001b[38;5;124;03m\"\"\"show traceback on failed format call\"\"\"\u001b[39;00m\n\u001b[0;32m    221\u001b[0m \u001b[38;5;28;01mtry\u001b[39;00m:\n\u001b[1;32m--> 222\u001b[0m     r \u001b[38;5;241m=\u001b[39m method(\u001b[38;5;28mself\u001b[39m, \u001b[38;5;241m*\u001b[39margs, \u001b[38;5;241m*\u001b[39m\u001b[38;5;241m*\u001b[39mkwargs)\n\u001b[0;32m    223\u001b[0m \u001b[38;5;28;01mexcept\u001b[39;00m \u001b[38;5;167;01mNotImplementedError\u001b[39;00m:\n\u001b[0;32m    224\u001b[0m     \u001b[38;5;66;03m# don't warn on NotImplementedErrors\u001b[39;00m\n\u001b[0;32m    225\u001b[0m     \u001b[38;5;28;01mreturn\u001b[39;00m \u001b[38;5;28mself\u001b[39m\u001b[38;5;241m.\u001b[39m_check_return(\u001b[38;5;28;01mNone\u001b[39;00m, args[\u001b[38;5;241m0\u001b[39m])\n",
      "File \u001b[1;32m~\\anaconda3\\lib\\site-packages\\IPython\\core\\formatters.py:339\u001b[0m, in \u001b[0;36mBaseFormatter.__call__\u001b[1;34m(self, obj)\u001b[0m\n\u001b[0;32m    337\u001b[0m     \u001b[38;5;28;01mpass\u001b[39;00m\n\u001b[0;32m    338\u001b[0m \u001b[38;5;28;01melse\u001b[39;00m:\n\u001b[1;32m--> 339\u001b[0m     \u001b[38;5;28;01mreturn\u001b[39;00m \u001b[43mprinter\u001b[49m\u001b[43m(\u001b[49m\u001b[43mobj\u001b[49m\u001b[43m)\u001b[49m\n\u001b[0;32m    340\u001b[0m \u001b[38;5;66;03m# Finally look for special method names\u001b[39;00m\n\u001b[0;32m    341\u001b[0m method \u001b[38;5;241m=\u001b[39m get_real_method(obj, \u001b[38;5;28mself\u001b[39m\u001b[38;5;241m.\u001b[39mprint_method)\n",
      "File \u001b[1;32m~\\anaconda3\\lib\\site-packages\\IPython\\core\\pylabtools.py:151\u001b[0m, in \u001b[0;36mprint_figure\u001b[1;34m(fig, fmt, bbox_inches, base64, **kwargs)\u001b[0m\n\u001b[0;32m    148\u001b[0m     \u001b[38;5;28;01mfrom\u001b[39;00m \u001b[38;5;21;01mmatplotlib\u001b[39;00m\u001b[38;5;21;01m.\u001b[39;00m\u001b[38;5;21;01mbackend_bases\u001b[39;00m \u001b[38;5;28;01mimport\u001b[39;00m FigureCanvasBase\n\u001b[0;32m    149\u001b[0m     FigureCanvasBase(fig)\n\u001b[1;32m--> 151\u001b[0m fig\u001b[38;5;241m.\u001b[39mcanvas\u001b[38;5;241m.\u001b[39mprint_figure(bytes_io, \u001b[38;5;241m*\u001b[39m\u001b[38;5;241m*\u001b[39mkw)\n\u001b[0;32m    152\u001b[0m data \u001b[38;5;241m=\u001b[39m bytes_io\u001b[38;5;241m.\u001b[39mgetvalue()\n\u001b[0;32m    153\u001b[0m \u001b[38;5;28;01mif\u001b[39;00m fmt \u001b[38;5;241m==\u001b[39m \u001b[38;5;124m'\u001b[39m\u001b[38;5;124msvg\u001b[39m\u001b[38;5;124m'\u001b[39m:\n",
      "File \u001b[1;32m~\\anaconda3\\lib\\site-packages\\matplotlib\\backend_bases.py:2299\u001b[0m, in \u001b[0;36mFigureCanvasBase.print_figure\u001b[1;34m(self, filename, dpi, facecolor, edgecolor, orientation, format, bbox_inches, pad_inches, bbox_extra_artists, backend, **kwargs)\u001b[0m\n\u001b[0;32m   2297\u001b[0m \u001b[38;5;28;01mif\u001b[39;00m bbox_inches:\n\u001b[0;32m   2298\u001b[0m     \u001b[38;5;28;01mif\u001b[39;00m bbox_inches \u001b[38;5;241m==\u001b[39m \u001b[38;5;124m\"\u001b[39m\u001b[38;5;124mtight\u001b[39m\u001b[38;5;124m\"\u001b[39m:\n\u001b[1;32m-> 2299\u001b[0m         bbox_inches \u001b[38;5;241m=\u001b[39m \u001b[38;5;28;43mself\u001b[39;49m\u001b[38;5;241;43m.\u001b[39;49m\u001b[43mfigure\u001b[49m\u001b[38;5;241;43m.\u001b[39;49m\u001b[43mget_tightbbox\u001b[49m\u001b[43m(\u001b[49m\n\u001b[0;32m   2300\u001b[0m \u001b[43m            \u001b[49m\u001b[43mrenderer\u001b[49m\u001b[43m,\u001b[49m\u001b[43m \u001b[49m\u001b[43mbbox_extra_artists\u001b[49m\u001b[38;5;241;43m=\u001b[39;49m\u001b[43mbbox_extra_artists\u001b[49m\u001b[43m)\u001b[49m\n\u001b[0;32m   2301\u001b[0m         \u001b[38;5;28;01mif\u001b[39;00m pad_inches \u001b[38;5;129;01mis\u001b[39;00m \u001b[38;5;28;01mNone\u001b[39;00m:\n\u001b[0;32m   2302\u001b[0m             pad_inches \u001b[38;5;241m=\u001b[39m rcParams[\u001b[38;5;124m'\u001b[39m\u001b[38;5;124msavefig.pad_inches\u001b[39m\u001b[38;5;124m'\u001b[39m]\n",
      "File \u001b[1;32m~\\anaconda3\\lib\\site-packages\\matplotlib\\figure.py:1632\u001b[0m, in \u001b[0;36mFigureBase.get_tightbbox\u001b[1;34m(self, renderer, bbox_extra_artists)\u001b[0m\n\u001b[0;32m   1629\u001b[0m     artists \u001b[38;5;241m=\u001b[39m bbox_extra_artists\n\u001b[0;32m   1631\u001b[0m \u001b[38;5;28;01mfor\u001b[39;00m a \u001b[38;5;129;01min\u001b[39;00m artists:\n\u001b[1;32m-> 1632\u001b[0m     bbox \u001b[38;5;241m=\u001b[39m \u001b[43ma\u001b[49m\u001b[38;5;241;43m.\u001b[39;49m\u001b[43mget_tightbbox\u001b[49m\u001b[43m(\u001b[49m\u001b[43mrenderer\u001b[49m\u001b[43m)\u001b[49m\n\u001b[0;32m   1633\u001b[0m     \u001b[38;5;28;01mif\u001b[39;00m bbox \u001b[38;5;129;01mis\u001b[39;00m \u001b[38;5;129;01mnot\u001b[39;00m \u001b[38;5;28;01mNone\u001b[39;00m \u001b[38;5;129;01mand\u001b[39;00m (bbox\u001b[38;5;241m.\u001b[39mwidth \u001b[38;5;241m!=\u001b[39m \u001b[38;5;241m0\u001b[39m \u001b[38;5;129;01mor\u001b[39;00m bbox\u001b[38;5;241m.\u001b[39mheight \u001b[38;5;241m!=\u001b[39m \u001b[38;5;241m0\u001b[39m):\n\u001b[0;32m   1634\u001b[0m         bb\u001b[38;5;241m.\u001b[39mappend(bbox)\n",
      "File \u001b[1;32m~\\anaconda3\\lib\\site-packages\\matplotlib\\artist.py:355\u001b[0m, in \u001b[0;36mArtist.get_tightbbox\u001b[1;34m(self, renderer)\u001b[0m\n\u001b[0;32m    340\u001b[0m \u001b[38;5;28;01mdef\u001b[39;00m \u001b[38;5;21mget_tightbbox\u001b[39m(\u001b[38;5;28mself\u001b[39m, renderer):\n\u001b[0;32m    341\u001b[0m     \u001b[38;5;124;03m\"\"\"\u001b[39;00m\n\u001b[0;32m    342\u001b[0m \u001b[38;5;124;03m    Like `.Artist.get_window_extent`, but includes any clipping.\u001b[39;00m\n\u001b[0;32m    343\u001b[0m \n\u001b[1;32m   (...)\u001b[0m\n\u001b[0;32m    353\u001b[0m \u001b[38;5;124;03m        The enclosing bounding box (in figure pixel coordinates).\u001b[39;00m\n\u001b[0;32m    354\u001b[0m \u001b[38;5;124;03m    \"\"\"\u001b[39;00m\n\u001b[1;32m--> 355\u001b[0m     bbox \u001b[38;5;241m=\u001b[39m \u001b[38;5;28;43mself\u001b[39;49m\u001b[38;5;241;43m.\u001b[39;49m\u001b[43mget_window_extent\u001b[49m\u001b[43m(\u001b[49m\u001b[43mrenderer\u001b[49m\u001b[43m)\u001b[49m\n\u001b[0;32m    356\u001b[0m     \u001b[38;5;28;01mif\u001b[39;00m \u001b[38;5;28mself\u001b[39m\u001b[38;5;241m.\u001b[39mget_clip_on():\n\u001b[0;32m    357\u001b[0m         clip_box \u001b[38;5;241m=\u001b[39m \u001b[38;5;28mself\u001b[39m\u001b[38;5;241m.\u001b[39mget_clip_box()\n",
      "File \u001b[1;32m~\\anaconda3\\lib\\site-packages\\matplotlib\\patches.py:623\u001b[0m, in \u001b[0;36mPatch.get_window_extent\u001b[1;34m(self, renderer)\u001b[0m\n\u001b[0;32m    622\u001b[0m \u001b[38;5;28;01mdef\u001b[39;00m \u001b[38;5;21mget_window_extent\u001b[39m(\u001b[38;5;28mself\u001b[39m, renderer\u001b[38;5;241m=\u001b[39m\u001b[38;5;28;01mNone\u001b[39;00m):\n\u001b[1;32m--> 623\u001b[0m     \u001b[38;5;28;01mreturn\u001b[39;00m \u001b[38;5;28;43mself\u001b[39;49m\u001b[38;5;241;43m.\u001b[39;49m\u001b[43mget_path\u001b[49m\u001b[43m(\u001b[49m\u001b[43m)\u001b[49m\u001b[38;5;241;43m.\u001b[39;49m\u001b[43mget_extents\u001b[49m\u001b[43m(\u001b[49m\u001b[38;5;28;43mself\u001b[39;49m\u001b[38;5;241;43m.\u001b[39;49m\u001b[43mget_transform\u001b[49m\u001b[43m(\u001b[49m\u001b[43m)\u001b[49m\u001b[43m)\u001b[49m\n",
      "File \u001b[1;32m~\\anaconda3\\lib\\site-packages\\matplotlib\\path.py:614\u001b[0m, in \u001b[0;36mPath.get_extents\u001b[1;34m(self, transform, **kwargs)\u001b[0m\n\u001b[0;32m    612\u001b[0m \u001b[38;5;28;01mfrom\u001b[39;00m \u001b[38;5;21;01m.\u001b[39;00m\u001b[38;5;21;01mtransforms\u001b[39;00m \u001b[38;5;28;01mimport\u001b[39;00m Bbox\n\u001b[0;32m    613\u001b[0m \u001b[38;5;28;01mif\u001b[39;00m transform \u001b[38;5;129;01mis\u001b[39;00m \u001b[38;5;129;01mnot\u001b[39;00m \u001b[38;5;28;01mNone\u001b[39;00m:\n\u001b[1;32m--> 614\u001b[0m     \u001b[38;5;28mself\u001b[39m \u001b[38;5;241m=\u001b[39m \u001b[43mtransform\u001b[49m\u001b[38;5;241;43m.\u001b[39;49m\u001b[43mtransform_path\u001b[49m\u001b[43m(\u001b[49m\u001b[38;5;28;43mself\u001b[39;49m\u001b[43m)\u001b[49m\n\u001b[0;32m    615\u001b[0m \u001b[38;5;28;01mif\u001b[39;00m \u001b[38;5;28mself\u001b[39m\u001b[38;5;241m.\u001b[39mcodes \u001b[38;5;129;01mis\u001b[39;00m \u001b[38;5;28;01mNone\u001b[39;00m:\n\u001b[0;32m    616\u001b[0m     xys \u001b[38;5;241m=\u001b[39m \u001b[38;5;28mself\u001b[39m\u001b[38;5;241m.\u001b[39mvertices\n",
      "File \u001b[1;32m~\\anaconda3\\lib\\site-packages\\matplotlib\\transforms.py:1608\u001b[0m, in \u001b[0;36mTransform.transform_path\u001b[1;34m(self, path)\u001b[0m\n\u001b[0;32m   1601\u001b[0m \u001b[38;5;28;01mdef\u001b[39;00m \u001b[38;5;21mtransform_path\u001b[39m(\u001b[38;5;28mself\u001b[39m, path):\n\u001b[0;32m   1602\u001b[0m     \u001b[38;5;124;03m\"\"\"\u001b[39;00m\n\u001b[0;32m   1603\u001b[0m \u001b[38;5;124;03m    Apply the transform to `.Path` *path*, returning a new `.Path`.\u001b[39;00m\n\u001b[0;32m   1604\u001b[0m \n\u001b[0;32m   1605\u001b[0m \u001b[38;5;124;03m    In some cases, this transform may insert curves into the path\u001b[39;00m\n\u001b[0;32m   1606\u001b[0m \u001b[38;5;124;03m    that began as line segments.\u001b[39;00m\n\u001b[0;32m   1607\u001b[0m \u001b[38;5;124;03m    \"\"\"\u001b[39;00m\n\u001b[1;32m-> 1608\u001b[0m     \u001b[38;5;28;01mreturn\u001b[39;00m \u001b[38;5;28;43mself\u001b[39;49m\u001b[38;5;241;43m.\u001b[39;49m\u001b[43mtransform_path_affine\u001b[49m\u001b[43m(\u001b[49m\u001b[38;5;28;43mself\u001b[39;49m\u001b[38;5;241;43m.\u001b[39;49m\u001b[43mtransform_path_non_affine\u001b[49m\u001b[43m(\u001b[49m\u001b[43mpath\u001b[49m\u001b[43m)\u001b[49m\u001b[43m)\u001b[49m\n",
      "File \u001b[1;32m~\\anaconda3\\lib\\site-packages\\matplotlib\\transforms.py:1618\u001b[0m, in \u001b[0;36mTransform.transform_path_affine\u001b[1;34m(self, path)\u001b[0m\n\u001b[0;32m   1610\u001b[0m \u001b[38;5;28;01mdef\u001b[39;00m \u001b[38;5;21mtransform_path_affine\u001b[39m(\u001b[38;5;28mself\u001b[39m, path):\n\u001b[0;32m   1611\u001b[0m     \u001b[38;5;124;03m\"\"\"\u001b[39;00m\n\u001b[0;32m   1612\u001b[0m \u001b[38;5;124;03m    Apply the affine part of this transform to `.Path` *path*, returning a\u001b[39;00m\n\u001b[0;32m   1613\u001b[0m \u001b[38;5;124;03m    new `.Path`.\u001b[39;00m\n\u001b[1;32m   (...)\u001b[0m\n\u001b[0;32m   1616\u001b[0m \u001b[38;5;124;03m    ``transform_path_affine(transform_path_non_affine(values))``.\u001b[39;00m\n\u001b[0;32m   1617\u001b[0m \u001b[38;5;124;03m    \"\"\"\u001b[39;00m\n\u001b[1;32m-> 1618\u001b[0m     \u001b[38;5;28;01mreturn\u001b[39;00m \u001b[38;5;28;43mself\u001b[39;49m\u001b[38;5;241;43m.\u001b[39;49m\u001b[43mget_affine\u001b[49m\u001b[43m(\u001b[49m\u001b[43m)\u001b[49m\u001b[38;5;241m.\u001b[39mtransform_path_affine(path)\n",
      "File \u001b[1;32m~\\anaconda3\\lib\\site-packages\\matplotlib\\transforms.py:2446\u001b[0m, in \u001b[0;36mCompositeGenericTransform.get_affine\u001b[1;34m(self)\u001b[0m\n\u001b[0;32m   2444\u001b[0m     \u001b[38;5;28;01mreturn\u001b[39;00m \u001b[38;5;28mself\u001b[39m\u001b[38;5;241m.\u001b[39m_b\u001b[38;5;241m.\u001b[39mget_affine()\n\u001b[0;32m   2445\u001b[0m \u001b[38;5;28;01melse\u001b[39;00m:\n\u001b[1;32m-> 2446\u001b[0m     \u001b[38;5;28;01mreturn\u001b[39;00m Affine2D(np\u001b[38;5;241m.\u001b[39mdot(\u001b[38;5;28;43mself\u001b[39;49m\u001b[38;5;241;43m.\u001b[39;49m\u001b[43m_b\u001b[49m\u001b[38;5;241;43m.\u001b[39;49m\u001b[43mget_affine\u001b[49m\u001b[43m(\u001b[49m\u001b[43m)\u001b[49m\u001b[38;5;241m.\u001b[39mget_matrix(),\n\u001b[0;32m   2447\u001b[0m                            \u001b[38;5;28mself\u001b[39m\u001b[38;5;241m.\u001b[39m_a\u001b[38;5;241m.\u001b[39mget_affine()\u001b[38;5;241m.\u001b[39mget_matrix()))\n",
      "File \u001b[1;32m~\\anaconda3\\lib\\site-packages\\matplotlib\\transforms.py:2446\u001b[0m, in \u001b[0;36mCompositeGenericTransform.get_affine\u001b[1;34m(self)\u001b[0m\n\u001b[0;32m   2444\u001b[0m     \u001b[38;5;28;01mreturn\u001b[39;00m \u001b[38;5;28mself\u001b[39m\u001b[38;5;241m.\u001b[39m_b\u001b[38;5;241m.\u001b[39mget_affine()\n\u001b[0;32m   2445\u001b[0m \u001b[38;5;28;01melse\u001b[39;00m:\n\u001b[1;32m-> 2446\u001b[0m     \u001b[38;5;28;01mreturn\u001b[39;00m Affine2D(np\u001b[38;5;241m.\u001b[39mdot(\u001b[38;5;28;43mself\u001b[39;49m\u001b[38;5;241;43m.\u001b[39;49m\u001b[43m_b\u001b[49m\u001b[38;5;241;43m.\u001b[39;49m\u001b[43mget_affine\u001b[49m\u001b[43m(\u001b[49m\u001b[43m)\u001b[49m\u001b[38;5;241m.\u001b[39mget_matrix(),\n\u001b[0;32m   2447\u001b[0m                            \u001b[38;5;28mself\u001b[39m\u001b[38;5;241m.\u001b[39m_a\u001b[38;5;241m.\u001b[39mget_affine()\u001b[38;5;241m.\u001b[39mget_matrix()))\n",
      "File \u001b[1;32m~\\anaconda3\\lib\\site-packages\\matplotlib\\transforms.py:2446\u001b[0m, in \u001b[0;36mCompositeGenericTransform.get_affine\u001b[1;34m(self)\u001b[0m\n\u001b[0;32m   2444\u001b[0m     \u001b[38;5;28;01mreturn\u001b[39;00m \u001b[38;5;28mself\u001b[39m\u001b[38;5;241m.\u001b[39m_b\u001b[38;5;241m.\u001b[39mget_affine()\n\u001b[0;32m   2445\u001b[0m \u001b[38;5;28;01melse\u001b[39;00m:\n\u001b[1;32m-> 2446\u001b[0m     \u001b[38;5;28;01mreturn\u001b[39;00m Affine2D(\u001b[43mnp\u001b[49m\u001b[38;5;241;43m.\u001b[39;49m\u001b[43mdot\u001b[49m\u001b[43m(\u001b[49m\u001b[38;5;28;43mself\u001b[39;49m\u001b[38;5;241;43m.\u001b[39;49m\u001b[43m_b\u001b[49m\u001b[38;5;241;43m.\u001b[39;49m\u001b[43mget_affine\u001b[49m\u001b[43m(\u001b[49m\u001b[43m)\u001b[49m\u001b[38;5;241;43m.\u001b[39;49m\u001b[43mget_matrix\u001b[49m\u001b[43m(\u001b[49m\u001b[43m)\u001b[49m\u001b[43m,\u001b[49m\n\u001b[0;32m   2447\u001b[0m \u001b[43m                           \u001b[49m\u001b[38;5;28;43mself\u001b[39;49m\u001b[38;5;241;43m.\u001b[39;49m\u001b[43m_a\u001b[49m\u001b[38;5;241;43m.\u001b[39;49m\u001b[43mget_affine\u001b[49m\u001b[43m(\u001b[49m\u001b[43m)\u001b[49m\u001b[38;5;241;43m.\u001b[39;49m\u001b[43mget_matrix\u001b[49m\u001b[43m(\u001b[49m\u001b[43m)\u001b[49m\u001b[43m)\u001b[49m)\n",
      "File \u001b[1;32m<__array_function__ internals>:5\u001b[0m, in \u001b[0;36mdot\u001b[1;34m(*args, **kwargs)\u001b[0m\n",
      "\u001b[1;31mKeyboardInterrupt\u001b[0m: "
     ]
    }
   ],
   "source": [
    "#  extract best fitting distribution from 'pesatura'\n",
    "data = df_dt['pesatura']\n",
    "\n",
    "f = Fitter(data)\n",
    "f.fit()\n",
    "f.summary()"
   ]
  },
  {
   "cell_type": "code",
   "execution_count": 34,
   "id": "77a3984d",
   "metadata": {},
   "outputs": [
    {
     "ename": "KeyError",
     "evalue": "'alpha'",
     "output_type": "error",
     "traceback": [
      "\u001b[1;31m---------------------------------------------------------------------------\u001b[0m",
      "\u001b[1;31mKeyError\u001b[0m                                  Traceback (most recent call last)",
      "Input \u001b[1;32mIn [34]\u001b[0m, in \u001b[0;36m<cell line: 1>\u001b[1;34m()\u001b[0m\n\u001b[1;32m----> 1\u001b[0m \u001b[43mf\u001b[49m\u001b[38;5;241;43m.\u001b[39;49m\u001b[43mget_best\u001b[49m\u001b[43m(\u001b[49m\u001b[43mmethod\u001b[49m\u001b[43m \u001b[49m\u001b[38;5;241;43m=\u001b[39;49m\u001b[43m \u001b[49m\u001b[38;5;124;43m'\u001b[39;49m\u001b[38;5;124;43msumsquare_error\u001b[39;49m\u001b[38;5;124;43m'\u001b[39;49m\u001b[43m)\u001b[49m\n",
      "File \u001b[1;32m~\\anaconda3\\lib\\site-packages\\fitter\\fitter.py:400\u001b[0m, in \u001b[0;36mFitter.get_best\u001b[1;34m(self, method)\u001b[0m\n\u001b[0;32m    398\u001b[0m \u001b[38;5;66;03m# self.df should be sorted, so then us take the first one as the best\u001b[39;00m\n\u001b[0;32m    399\u001b[0m name \u001b[38;5;241m=\u001b[39m \u001b[38;5;28mself\u001b[39m\u001b[38;5;241m.\u001b[39mdf_errors\u001b[38;5;241m.\u001b[39msort_values(method)\u001b[38;5;241m.\u001b[39miloc[\u001b[38;5;241m0\u001b[39m]\u001b[38;5;241m.\u001b[39mname\n\u001b[1;32m--> 400\u001b[0m params \u001b[38;5;241m=\u001b[39m \u001b[38;5;28;43mself\u001b[39;49m\u001b[38;5;241;43m.\u001b[39;49m\u001b[43mfitted_param\u001b[49m\u001b[43m[\u001b[49m\u001b[43mname\u001b[49m\u001b[43m]\u001b[49m\n\u001b[0;32m    401\u001b[0m distribution \u001b[38;5;241m=\u001b[39m \u001b[38;5;28mgetattr\u001b[39m(scipy\u001b[38;5;241m.\u001b[39mstats, name)\n\u001b[0;32m    402\u001b[0m param_names \u001b[38;5;241m=\u001b[39m (\n\u001b[0;32m    403\u001b[0m     (distribution\u001b[38;5;241m.\u001b[39mshapes \u001b[38;5;241m+\u001b[39m \u001b[38;5;124m\"\u001b[39m\u001b[38;5;124m, loc, scale\u001b[39m\u001b[38;5;124m\"\u001b[39m)\u001b[38;5;241m.\u001b[39msplit(\u001b[38;5;124m\"\u001b[39m\u001b[38;5;124m, \u001b[39m\u001b[38;5;124m\"\u001b[39m)\n\u001b[0;32m    404\u001b[0m     \u001b[38;5;28;01mif\u001b[39;00m distribution\u001b[38;5;241m.\u001b[39mshapes\n\u001b[0;32m    405\u001b[0m     \u001b[38;5;28;01melse\u001b[39;00m [\u001b[38;5;124m\"\u001b[39m\u001b[38;5;124mloc\u001b[39m\u001b[38;5;124m\"\u001b[39m, \u001b[38;5;124m\"\u001b[39m\u001b[38;5;124mscale\u001b[39m\u001b[38;5;124m\"\u001b[39m]\n\u001b[0;32m    406\u001b[0m )\n",
      "\u001b[1;31mKeyError\u001b[0m: 'alpha'"
     ]
    }
   ],
   "source": [
    "f.get_best(method = 'sumsquare_error')"
   ]
  },
  {
   "cell_type": "code",
   "execution_count": null,
   "id": "39117d93",
   "metadata": {},
   "outputs": [],
   "source": [
    "#  extract best fitting distribution from 'miscelazione'\n",
    "data = df_dt['miscelazione']\n",
    "data.dropna(inplace=True)\n",
    "data = data.values\n",
    "\n",
    "f = Fitter(data)\n",
    "f.fit()\n",
    "f.summary()"
   ]
  },
  {
   "cell_type": "code",
   "execution_count": null,
   "id": "b2318604",
   "metadata": {},
   "outputs": [],
   "source": [
    "f.get_best(method = 'sumsquare_error')"
   ]
  },
  {
   "cell_type": "code",
   "execution_count": null,
   "id": "d4772697",
   "metadata": {},
   "outputs": [],
   "source": [
    "#  extract best fitting distribution from 'handling to estrusore'\n",
    "data = df_dt['hand_to_est']\n",
    "data.dropna(inplace=True)\n",
    "data = data.values\n",
    "\n",
    "f = Fitter(data)\n",
    "f.fit()\n",
    "f.summary()"
   ]
  },
  {
   "cell_type": "code",
   "execution_count": null,
   "id": "eedc0322",
   "metadata": {},
   "outputs": [],
   "source": [
    "f.get_best(method = 'sumsquare_error')"
   ]
  },
  {
   "cell_type": "code",
   "execution_count": null,
   "id": "ae79af7d",
   "metadata": {
    "scrolled": true
   },
   "outputs": [],
   "source": [
    "#  extract best fitting distribution from 'estrusione'\n",
    "f = Fitter(dt_est)\n",
    "f.fit()\n",
    "f.summary()"
   ]
  },
  {
   "cell_type": "code",
   "execution_count": null,
   "id": "fc67b923",
   "metadata": {},
   "outputs": [],
   "source": [
    "f.get_best(method = 'sumsquare_error')"
   ]
  },
  {
   "cell_type": "markdown",
   "id": "49e81de8",
   "metadata": {},
   "source": [
    "### Tempo totale di attraversamento"
   ]
  },
  {
   "cell_type": "code",
   "execution_count": 72,
   "id": "ada7b740",
   "metadata": {},
   "outputs": [],
   "source": [
    "def quantile2(column,pct,pct_lower):\n",
    "    y = column\n",
    "    y.sort()\n",
    "    len_y = len(y)\n",
    "    y = y[int(pct_lower * len_y):int(len_y * pct)]\n",
    "    return y"
   ]
  },
  {
   "cell_type": "code",
   "execution_count": 73,
   "id": "b8d3ba62",
   "metadata": {},
   "outputs": [],
   "source": [
    "def filtering(event_log, ubicazione):\n",
    "    mask = event_log['ubicazione'] == ubicazione\n",
    "    get_ID = event_log[mask]['ID_unique'].unique()\n",
    "    mask_id = event_log['ID_unique'].isin(get_ID)\n",
    "    new_log = event_log[mask_id]\n",
    "    return(new_log)"
   ]
  },
  {
   "cell_type": "code",
   "execution_count": 118,
   "id": "eeb709ee",
   "metadata": {},
   "outputs": [],
   "source": [
    "df_est = filtering(df_est, 'estrusore')\n",
    "\n",
    "tc_list = []\n",
    "for idu in df_est['ID_unique'].unique():\n",
    "    mask = df_est['ID_unique'] == idu\n",
    "    df_tmp = df_est[mask].sort_values('timestamp')\n",
    "    df_tmp.reset_index(drop=True, inplace=True)\n",
    "    t1 = df_tmp.loc[0, 'timestamp']\n",
    "    t2 = df_tmp.loc[len(df_tmp) - 1, 'timestamp']\n",
    "    tc = ((t2 - t1).seconds)/60\n",
    "    tc_list.append(tc)"
   ]
  },
  {
   "cell_type": "code",
   "execution_count": 119,
   "id": "2e0f5dd9",
   "metadata": {},
   "outputs": [],
   "source": [
    "df_tc_sim = pd.read_csv('C:/Users/HP/Desktop/df_tc_sim.csv')"
   ]
  },
  {
   "cell_type": "code",
   "execution_count": 120,
   "id": "5f82630e",
   "metadata": {},
   "outputs": [],
   "source": [
    "tc_sim = list(df_tc_sim['t_tot'])"
   ]
  },
  {
   "cell_type": "code",
   "execution_count": 121,
   "id": "77549922",
   "metadata": {},
   "outputs": [
    {
     "data": {
      "text/plain": [
       "1009"
      ]
     },
     "execution_count": 121,
     "metadata": {},
     "output_type": "execute_result"
    }
   ],
   "source": [
    "len(tc_sim)"
   ]
  },
  {
   "cell_type": "code",
   "execution_count": 122,
   "id": "015435a4",
   "metadata": {},
   "outputs": [
    {
     "data": {
      "text/plain": [
       "373"
      ]
     },
     "execution_count": 122,
     "metadata": {},
     "output_type": "execute_result"
    }
   ],
   "source": [
    "tc_list = quantile2(tc_list, 0.98, 0)\n",
    "tc_list = [x + 2.85 for x in tc_list]\n",
    "len(tc_list)"
   ]
  },
  {
   "cell_type": "code",
   "execution_count": 123,
   "id": "512bec00",
   "metadata": {},
   "outputs": [
    {
     "data": {
      "text/plain": [
       "373"
      ]
     },
     "execution_count": 123,
     "metadata": {},
     "output_type": "execute_result"
    }
   ],
   "source": [
    "tc_sim = tc_sim[(len(tc_sim) - (len(tc_list))):]\n",
    "len(tc_sim)"
   ]
  },
  {
   "cell_type": "code",
   "execution_count": 130,
   "id": "1bed5c08",
   "metadata": {},
   "outputs": [
    {
     "data": {
      "image/png": "[encoded data removed]",
      "text/plain": [
       "<Figure size 600x450 with 1 Axes>"
      ]
     },
     "metadata": {},
     "output_type": "display_data"
    }
   ],
   "source": [
    "plt.figure(figsize=(8, 6), dpi=75)\n",
    "plt.hist(tc_list, 50, alpha=0.7, label='TC reali')\n",
    "plt.hist(tc_sim, 50, alpha=0.6, label='TC simulati')\n",
    "plt.legend(loc='upper right')\n",
    "plt.savefig('C:/Users/HP/Desktop/dist_real_sim.png')\n",
    "plt.show()"
   ]
  },
  {
   "cell_type": "code",
   "execution_count": 125,
   "id": "d5a03a9c",
   "metadata": {},
   "outputs": [
    {
     "data": {
      "text/plain": [
       "5.240624642298263"
      ]
     },
     "execution_count": 125,
     "metadata": {},
     "output_type": "execute_result"
    }
   ],
   "source": [
    "from sklearn.metrics import mean_squared_error\n",
    "  \n",
    "# Calculation of Root Mean Squared Error (RMSE)\n",
    "np.sqrt(mean_squared_error(sorted(tc_list),sorted(tc_sim)))"
   ]
  },
  {
   "cell_type": "code",
   "execution_count": 127,
   "id": "2544889e",
   "metadata": {},
   "outputs": [
    {
     "name": "stdout",
     "output_type": "stream",
     "text": [
      "Media delle osservazioni reali: 79.77\n",
      "Media delle osservazioni simulate: 78.15\n",
      "\n",
      "Mediana delle osservazioni reali: 76.1\n",
      "Mediana delle osservazioni simulate: 72.3\n"
     ]
    }
   ],
   "source": [
    "mean_real = np.round(np.mean(tc_list), 2)\n",
    "mean_sim = np.round(np.mean(tc_sim), 2)\n",
    "print('Media delle osservazioni reali: {}\\nMedia delle osservazioni simulate: {}'.format(mean_real, mean_sim))\n",
    "print('')\n",
    "mean_real = np.round(np.median(tc_list), 2)\n",
    "mean_sim = np.round(np.median(tc_sim), 2)\n",
    "print('Mediana delle osservazioni reali: {}\\nMediana delle osservazioni simulate: {}'.format(mean_real, mean_sim))"
   ]
  },
  {
   "cell_type": "code",
   "execution_count": null,
   "id": "bd2245eb",
   "metadata": {},
   "outputs": [],
   "source": []
  },
  {
   "cell_type": "code",
   "execution_count": null,
   "id": "7c5c8d7c",
   "metadata": {},
   "outputs": [],
   "source": []
  }
 ],
 "metadata": {
  "kernelspec": {
   "display_name": "Python 3 (ipykernel)",
   "language": "python",
   "name": "python3"
  },
  "language_info": {
   "codemirror_mode": {
    "name": "ipython",
    "version": 3
   },
   "file_extension": ".py",
   "mimetype": "text/x-python",
   "name": "python",
   "nbconvert_exporter": "python",
   "pygments_lexer": "ipython3",
   "version": "3.9.12"
  }
 },
 "nbformat": 4,
 "nbformat_minor": 5
}
