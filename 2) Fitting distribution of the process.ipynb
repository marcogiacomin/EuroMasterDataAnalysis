{
 "cells": [
  {
   "cell_type": "code",
   "execution_count": 1,
   "id": "5d528554",
   "metadata": {},
   "outputs": [],
   "source": [
    "import pandas as pd\n",
    "import numpy as np\n",
    "import pm4py\n",
    "from matplotlib import pyplot as plt\n",
    "import seaborn as sns\n",
    "from fitter import Fitter\n",
    "import scipy.stats\n",
    "import warnings\n",
    "warnings.filterwarnings('ignore')\n",
    "%matplotlib inline\n",
    "sns.set()"
   ]
  },
  {
   "cell_type": "code",
   "execution_count": 2,
   "id": "f489cf68-4898-45e1-a960-dce45d766d74",
   "metadata": {},
   "outputs": [],
   "source": [
    "def quantile2(column,pct,pct_lower):\n",
    "    y = column\n",
    "    y.sort()\n",
    "    len_y = len(y)\n",
    "    y = y[int(pct_lower * len_y):int(len_y * pct)]\n",
    "    return y"
   ]
  },
  {
   "cell_type": "markdown",
   "id": "6d59796d",
   "metadata": {},
   "source": [
    "### Importazione dataset"
   ]
  },
  {
   "cell_type": "code",
   "execution_count": 3,
   "id": "f0d0fbad",
   "metadata": {},
   "outputs": [],
   "source": [
    "df_traces = pd.read_csv('C:/Users/HP/Desktop/df_traces_from_weigh.csv')\n",
    "df_traces.drop('Unnamed: 0', axis=1, inplace=True)\n",
    "\n",
    "df_t_est = pd.read_csv('C:/Users/HP/Desktop/df_t_est.csv')\n",
    "df_t_est.drop('Unnamed: 0', axis=1, inplace=True)"
   ]
  },
  {
   "cell_type": "code",
   "execution_count": 4,
   "id": "a0b8d924-237b-40fb-a594-dfc22f48f086",
   "metadata": {},
   "outputs": [
    {
     "data": {
      "text/plain": [
       "1858"
      ]
     },
     "execution_count": 4,
     "metadata": {},
     "output_type": "execute_result"
    }
   ],
   "source": [
    "len(df_traces['ID_unique'].unique())"
   ]
  },
  {
   "cell_type": "markdown",
   "id": "0128fdcd-682b-4c94-bfc8-232f4df1155d",
   "metadata": {},
   "source": [
    "event_log = df_traces[['ID', 'stato', 'ubicazione', 'rif', 'ID_unique', 'timestamp']]\n",
    "event_log.sort_values(['ID', 'timestamp'], inplace=True)\n",
    "event_log.reset_index(inplace=True, drop=True)\n",
    "event_log = pm4py.format_dataframe(event_log, case_id='ID_unique', activity_key='rif', timestamp_key='timestamp')"
   ]
  },
  {
   "cell_type": "code",
   "execution_count": 4,
   "id": "bb0726c1-94aa-4d32-880f-e00e21a1b0fb",
   "metadata": {},
   "outputs": [],
   "source": [
    "event_log = df_traces[['cono', 'rif', 'ID_unique', 'timestamp']]\n",
    "event_log.sort_values(['cono', 'timestamp'], inplace=True)\n",
    "event_log.reset_index(inplace=True, drop=True)\n",
    "event_log = pm4py.format_dataframe(event_log, case_id='ID_unique', activity_key='rif', timestamp_key='timestamp')"
   ]
  },
  {
   "cell_type": "code",
   "execution_count": 6,
   "id": "5ce3417d",
   "metadata": {},
   "outputs": [
    {
     "data": {
      "text/plain": [
       "1858"
      ]
     },
     "execution_count": 6,
     "metadata": {},
     "output_type": "execute_result"
    }
   ],
   "source": [
    "len(event_log['ID_unique'].unique())"
   ]
  },
  {
   "cell_type": "markdown",
   "id": "fed07528-ff30-4307-a5ec-93cde3e2b9b2",
   "metadata": {},
   "source": [
    "### Calcolo tempi di interarrivo"
   ]
  },
  {
   "cell_type": "code",
   "execution_count": 7,
   "id": "35d4c21e-4099-45bb-bf3a-7e1368a51e7e",
   "metadata": {},
   "outputs": [],
   "source": [
    "df_int = event_log[event_log['rif'] == 'V_da_pes/pesatura']"
   ]
  },
  {
   "cell_type": "code",
   "execution_count": 8,
   "id": "5bc3128e-47f9-4950-9768-327d5d5e216a",
   "metadata": {},
   "outputs": [],
   "source": [
    "#df_int.drop_duplicates(subset='ID_unique', inplace=True)"
   ]
  },
  {
   "cell_type": "code",
   "execution_count": 9,
   "id": "55decb29-eb6b-4521-8193-dc880aa93ced",
   "metadata": {},
   "outputs": [],
   "source": [
    "df_int.sort_values('timestamp', inplace=True)\n",
    "df_int.reset_index(drop=True, inplace=True)"
   ]
  },
  {
   "cell_type": "code",
   "execution_count": 10,
   "id": "a18db2ee-8876-4886-a599-e08f8ee0f0fa",
   "metadata": {},
   "outputs": [],
   "source": [
    "intervals = []\n",
    "\n",
    "for i in range(len(df_int) - 1):\n",
    "    time_delta = df_int.loc[i + 1, 'timestamp'] - df_int.loc[i, 'timestamp']\n",
    "    dt = time_delta.total_seconds() / 60\n",
    "    intervals.append(dt)"
   ]
  },
  {
   "cell_type": "code",
   "execution_count": 11,
   "id": "5df76b97-3fc3-4948-b28d-4e82a45941d2",
   "metadata": {},
   "outputs": [
    {
     "data": {
      "text/plain": [
       "2701"
      ]
     },
     "execution_count": 11,
     "metadata": {},
     "output_type": "execute_result"
    }
   ],
   "source": [
    "len(intervals)"
   ]
  },
  {
   "cell_type": "code",
   "execution_count": 12,
   "id": "22a4b964-cadf-42d3-94d0-16d965ee8b14",
   "metadata": {},
   "outputs": [],
   "source": [
    "intervals = quantile2(intervals,0.95,0)"
   ]
  },
  {
   "cell_type": "code",
   "execution_count": 13,
   "id": "47b3e8a4-ed48-41d5-9aae-5e302432de11",
   "metadata": {},
   "outputs": [
    {
     "data": {
      "text/plain": [
       "<seaborn.axisgrid.FacetGrid at 0x1cefd80b400>"
      ]
     },
     "execution_count": 13,
     "metadata": {},
     "output_type": "execute_result"
    },
    {
     "data": {
      "image/png": "[encoded data removed]",
      "text/plain": [
       "<Figure size 540x360 with 1 Axes>"
      ]
     },
     "metadata": {},
     "output_type": "display_data"
    }
   ],
   "source": [
    "sns.set_style('white')\n",
    "sns.set_context(\"paper\", font_scale = 2)\n",
    "sns.displot(data=intervals, kind=\"hist\", bins = 50, aspect = 1.5)"
   ]
  },
  {
   "cell_type": "code",
   "execution_count": 14,
   "id": "08f14874-2797-49ee-9e6b-b20bcd750dfa",
   "metadata": {},
   "outputs": [
    {
     "name": "stderr",
     "output_type": "stream",
     "text": [
      "WARNING:root:SKIPPED kstwo distribution (taking more than 30 seconds)\n",
      "WARNING:root:SKIPPED kappa4 distribution (taking more than 30 seconds)\n",
      "WARNING:root:SKIPPED ksone distribution (taking more than 30 seconds)\n",
      "WARNING:root:SKIPPED levy_stable distribution (taking more than 30 seconds)\n",
      "WARNING:root:SKIPPED loggamma distribution (taking more than 30 seconds)\n",
      "WARNING:root:SKIPPED loglaplace distribution (taking more than 30 seconds)\n",
      "WARNING:root:SKIPPED lognorm distribution (taking more than 30 seconds)\n",
      "WARNING:root:SKIPPED lomax distribution (taking more than 30 seconds)\n",
      "WARNING:root:SKIPPED mielke distribution (taking more than 30 seconds)\n",
      "WARNING:root:SKIPPED nakagami distribution (taking more than 30 seconds)\n",
      "WARNING:root:SKIPPED ncf distribution (taking more than 30 seconds)\n",
      "WARNING:root:SKIPPED nct distribution (taking more than 30 seconds)\n",
      "WARNING:root:SKIPPED ncx2 distribution (taking more than 30 seconds)\n",
      "WARNING:root:SKIPPED norminvgauss distribution (taking more than 30 seconds)\n",
      "WARNING:root:SKIPPED pareto distribution (taking more than 30 seconds)\n",
      "WARNING:root:SKIPPED pearson3 distribution (taking more than 30 seconds)\n",
      "WARNING:root:SKIPPED powerlaw distribution (taking more than 30 seconds)\n",
      "WARNING:root:SKIPPED powerlognorm distribution (taking more than 30 seconds)\n",
      "WARNING:root:SKIPPED powernorm distribution (taking more than 30 seconds)\n",
      "WARNING:root:SKIPPED rdist distribution (taking more than 30 seconds)\n",
      "WARNING:root:SKIPPED rv_continuous distribution (taking more than 30 seconds)\n",
      "WARNING:root:SKIPPED rv_histogram distribution (taking more than 30 seconds)\n",
      "WARNING:root:SKIPPED recipinvgauss distribution (taking more than 30 seconds)\n",
      "WARNING:root:SKIPPED skewnorm distribution (taking more than 30 seconds)\n",
      "WARNING:root:SKIPPED studentized_range distribution (taking more than 30 seconds)\n",
      "WARNING:root:SKIPPED t distribution (taking more than 30 seconds)\n",
      "WARNING:root:SKIPPED trapezoid distribution (taking more than 30 seconds)\n",
      "WARNING:root:SKIPPED trapz distribution (taking more than 30 seconds)\n",
      "WARNING:root:SKIPPED triang distribution (taking more than 30 seconds)\n",
      "WARNING:root:SKIPPED truncnorm distribution (taking more than 30 seconds)\n",
      "WARNING:root:SKIPPED tukeylambda distribution (taking more than 30 seconds)\n",
      "WARNING:root:SKIPPED vonmises distribution (taking more than 30 seconds)\n",
      "WARNING:root:SKIPPED vonmises_line distribution (taking more than 30 seconds)\n",
      "WARNING:root:SKIPPED weibull_max distribution (taking more than 30 seconds)\n",
      "WARNING:root:SKIPPED weibull_min distribution (taking more than 30 seconds)\n"
     ]
    },
    {
     "data": {
      "text/html": [
       "<div>\n",
       "<style scoped>\n",
       "    .dataframe tbody tr th:only-of-type {\n",
       "        vertical-align: middle;\n",
       "    }\n",
       "\n",
       "    .dataframe tbody tr th {\n",
       "        vertical-align: top;\n",
       "    }\n",
       "\n",
       "    .dataframe thead th {\n",
       "        text-align: right;\n",
       "    }\n",
       "</style>\n",
       "<table border=\"1\" class=\"dataframe\">\n",
       "  <thead>\n",
       "    <tr style=\"text-align: right;\">\n",
       "      <th></th>\n",
       "      <th>sumsquare_error</th>\n",
       "      <th>aic</th>\n",
       "      <th>bic</th>\n",
       "      <th>kl_div</th>\n",
       "    </tr>\n",
       "  </thead>\n",
       "  <tbody>\n",
       "    <tr>\n",
       "      <th>exponnorm</th>\n",
       "      <td>0.003912</td>\n",
       "      <td>1001.434962</td>\n",
       "      <td>-34330.711574</td>\n",
       "      <td>0.095773</td>\n",
       "    </tr>\n",
       "    <tr>\n",
       "      <th>wald</th>\n",
       "      <td>0.003961</td>\n",
       "      <td>1004.663712</td>\n",
       "      <td>-34306.567379</td>\n",
       "      <td>0.096776</td>\n",
       "    </tr>\n",
       "    <tr>\n",
       "      <th>laplace_asymmetric</th>\n",
       "      <td>0.004046</td>\n",
       "      <td>1002.415394</td>\n",
       "      <td>-34244.178711</td>\n",
       "      <td>0.097518</td>\n",
       "    </tr>\n",
       "    <tr>\n",
       "      <th>fatiguelife</th>\n",
       "      <td>0.004056</td>\n",
       "      <td>1004.464061</td>\n",
       "      <td>-34238.041044</td>\n",
       "      <td>0.099082</td>\n",
       "    </tr>\n",
       "    <tr>\n",
       "      <th>invgauss</th>\n",
       "      <td>0.004109</td>\n",
       "      <td>1008.844156</td>\n",
       "      <td>-34204.607328</td>\n",
       "      <td>0.101694</td>\n",
       "    </tr>\n",
       "  </tbody>\n",
       "</table>\n",
       "</div>"
      ],
      "text/plain": [
       "                    sumsquare_error          aic           bic    kl_div\n",
       "exponnorm                  0.003912  1001.434962 -34330.711574  0.095773\n",
       "wald                       0.003961  1004.663712 -34306.567379  0.096776\n",
       "laplace_asymmetric         0.004046  1002.415394 -34244.178711  0.097518\n",
       "fatiguelife                0.004056  1004.464061 -34238.041044  0.099082\n",
       "invgauss                   0.004109  1008.844156 -34204.607328  0.101694"
      ]
     },
     "execution_count": 14,
     "metadata": {},
     "output_type": "execute_result"
    },
    {
     "data": {
      "image/png": "[encoded data removed]",
      "text/plain": [
       "<Figure size 432x288 with 1 Axes>"
      ]
     },
     "metadata": {},
     "output_type": "display_data"
    }
   ],
   "source": [
    "#  extract best fitting distribution\n",
    "f = Fitter(intervals)\n",
    "f.fit()\n",
    "f.summary()"
   ]
  },
  {
   "cell_type": "code",
   "execution_count": 15,
   "id": "4935a653-d9e7-4091-a3bb-c2a01cd339b5",
   "metadata": {},
   "outputs": [
    {
     "data": {
      "text/plain": [
       "{'exponnorm': {'K': 11.104910675950897,\n",
       "  'loc': 2.4978029318681854,\n",
       "  'scale': 1.8719192372024525}}"
      ]
     },
     "execution_count": 15,
     "metadata": {},
     "output_type": "execute_result"
    }
   ],
   "source": [
    "f.get_best(method = 'sumsquare_error')"
   ]
  },
  {
   "cell_type": "code",
   "execution_count": null,
   "id": "e9855a38-b551-4edd-96f5-0dd84b34fa85",
   "metadata": {},
   "outputs": [],
   "source": []
  },
  {
   "cell_type": "markdown",
   "id": "11047ab3",
   "metadata": {},
   "source": [
    "### Pre processing"
   ]
  },
  {
   "cell_type": "code",
   "execution_count": 5,
   "id": "6eaf2aea",
   "metadata": {},
   "outputs": [
    {
     "name": "stdout",
     "output_type": "stream",
     "text": [
      "Start activities: {'V_da_pes/pesatura': 1858}\n",
      "End activities: {'V_per_park/estrusore': 1725, 'V_da_pes/estrusore': 107, 'V_remove/estrusore': 9, 'P_da_est/fuori_impianto': 6, 'P_da_est/estrusore': 3, 'V_per_park/catenaria_parcheggi': 2, 'V_da_pes/pesatura': 2, 'Not_def/fuori_impianto': 2, 'P_da_est/buffer': 1, 'P_da_est/carroponte_2': 1}\n"
     ]
    }
   ],
   "source": [
    "#  remove traces with 'recheck' as activity\n",
    "'''mask_recheck = np.asarray( event_log[ event_log['stato'] == 'P_recheck' ].index )\n",
    "ID_recheck = event_log.loc[mask_recheck]['ID_unique'].values\n",
    "mask_drop_recheck = np.asarray( event_log[ event_log['ID_unique'].isin(ID_recheck)].index )\n",
    "event_log.drop( mask_drop_recheck, inplace = True )'''\n",
    "\n",
    "#  visualize start/end activities\n",
    "start_activities = pm4py.get_start_activities(event_log)\n",
    "end_activities = pm4py.get_end_activities(event_log)\n",
    "print(\"Start activities: {}\\nEnd activities: {}\".format(start_activities, end_activities))"
   ]
  },
  {
   "cell_type": "code",
   "execution_count": 6,
   "id": "1cfddf25",
   "metadata": {},
   "outputs": [
    {
     "data": {
      "text/plain": [
       "{'V_da_pes/pesatura': 1858}"
      ]
     },
     "execution_count": 6,
     "metadata": {},
     "output_type": "execute_result"
    }
   ],
   "source": [
    "#  filtering event log by start activiy\n",
    "from pm4py.algo.filtering.pandas.start_activities import start_activities_filter\n",
    "event_log = start_activities_filter.apply(event_log, ['V_da_pes/pesatura'],\n",
    "                                          parameters={start_activities_filter.Parameters.CASE_ID_KEY: \"case:concept:name\",\n",
    "                                                      start_activities_filter.Parameters.ACTIVITY_KEY: \"concept:name\"})\n",
    "pm4py.get_start_activities(event_log)"
   ]
  },
  {
   "cell_type": "code",
   "execution_count": 7,
   "id": "3166dbed",
   "metadata": {},
   "outputs": [
    {
     "data": {
      "text/plain": [
       "{'V_per_park/estrusore': 1725, 'V_da_pes/estrusore': 107}"
      ]
     },
     "execution_count": 7,
     "metadata": {},
     "output_type": "execute_result"
    }
   ],
   "source": [
    "#  filtering event log by end activiy\n",
    "from pm4py.algo.filtering.pandas.end_activities import end_activities_filter\n",
    "event_log = end_activities_filter.apply(event_log, ['V_per_park/estrusore', 'V_da_pes/estrusore'],\n",
    "                                          parameters={end_activities_filter.Parameters.CASE_ID_KEY: \"case:concept:name\",\n",
    "                                                      end_activities_filter.Parameters.ACTIVITY_KEY: \"concept:name\"})\n",
    "pm4py.get_end_activities(event_log)"
   ]
  },
  {
   "cell_type": "code",
   "execution_count": 8,
   "id": "29e42b5c",
   "metadata": {},
   "outputs": [],
   "source": [
    "#  fitering event log removing reworked traces\n",
    "df_rework = pm4py.filter_activities_rework(event_log, \"V_da_pes/catenaria_ing_misc\", 2)\n",
    "event_log.drop( df_rework.index, inplace = True )"
   ]
  },
  {
   "cell_type": "markdown",
   "id": "c5d4a09b",
   "metadata": {},
   "source": [
    "### Process mining"
   ]
  },
  {
   "cell_type": "code",
   "execution_count": 9,
   "id": "9a6d7277",
   "metadata": {},
   "outputs": [
    {
     "data": {
      "text/plain": [
       "346"
      ]
     },
     "execution_count": 9,
     "metadata": {},
     "output_type": "execute_result"
    }
   ],
   "source": [
    "#  evaluate number of variants\n",
    "from pm4py.statistics.traces.generic.pandas import case_statistics\n",
    "variants_count = case_statistics.get_variant_statistics(event_log,\n",
    "                                          parameters={case_statistics.Parameters.CASE_ID_KEY: \"case:concept:name\",\n",
    "                                                      case_statistics.Parameters.ACTIVITY_KEY: \"concept:name\",\n",
    "                                                      case_statistics.Parameters.TIMESTAMP_KEY: \"time:timestamp\"})\n",
    "variants_count = sorted(variants_count, key=lambda x: x['case:concept:name'], reverse=True)\n",
    "len(variants_count)"
   ]
  },
  {
   "cell_type": "code",
   "execution_count": 21,
   "id": "70630d9b-93d2-49c7-a10a-1b91db87e8eb",
   "metadata": {
    "collapsed": true,
    "jupyter": {
     "outputs_hidden": true
    },
    "tags": []
   },
   "outputs": [
    {
     "data": {
      "text/plain": [
       "[{'variant': 'V_da_pes/pesatura,P_da_misc/pesatura,P_da_misc/miscelatore,P_da_est/miscelatore,P_da_est/nav_serv_carr_pieni,P_da_est/carroponte_1,P_da_est/estrusore,V_per_park/estrusore',\n",
       "  'case:concept:name': 326},\n",
       " {'variant': 'V_da_pes/pesatura,P_da_misc/pesatura,P_da_misc/miscelatore,P_da_est/miscelatore,P_da_est/nav_serv_carr_pieni,P_da_est/carroponte_1,P_da_est/buffer,P_da_est/estrusore,V_per_park/estrusore',\n",
       "  'case:concept:name': 296},\n",
       " {'variant': 'V_da_pes/pesatura,P_da_misc/pesatura,P_da_misc/miscelatore,P_da_est/miscelatore,P_da_est/cat_usc_pieni,P_da_est/nav_serv_carr_pieni,P_da_est/carroponte_1,P_da_est/estrusore,V_per_park/estrusore',\n",
       "  'case:concept:name': 277},\n",
       " {'variant': 'V_da_pes/pesatura,P_da_misc/pesatura,P_da_misc/miscelatore,P_da_est/miscelatore,P_da_est/cat_usc_pieni,P_da_est/nav_serv_carr_pieni,P_da_est/carroponte_1,P_da_est/buffer,P_da_est/estrusore,V_per_park/estrusore',\n",
       "  'case:concept:name': 225},\n",
       " {'variant': 'V_da_pes/pesatura,P_da_misc/pesatura,P_da_misc/miscelatore,P_da_est/miscelatore,P_da_est/nav_serv_carr_pieni,P_da_est/carroponte_1,P_da_est/estrusore,V_da_pes/estrusore',\n",
       "  'case:concept:name': 34},\n",
       " {'variant': 'V_da_pes/pesatura,P_da_misc/pesatura,P_da_misc/miscelatore,P_remove/miscelatore,Not_def/fuori_impianto,P_da_est/manuale,P_da_est/carroponte_2,P_da_est/estrusore,V_per_park/estrusore',\n",
       "  'case:concept:name': 32},\n",
       " {'variant': 'V_da_pes/pesatura,P_da_misc/pesatura,P_da_misc/miscelatore,P_da_est/miscelatore,P_da_est/nav_serv_carr_pieni,P_da_est/carroponte_1,P_da_est/buffer,P_da_est/carroponte_2,P_da_est/estrusore,V_per_park/estrusore',\n",
       "  'case:concept:name': 25},\n",
       " {'variant': 'V_da_pes/pesatura,P_da_misc/pesatura,P_da_misc/navetta_serv_misc,P_da_misc/miscelatore,P_da_est/miscelatore,P_da_est/nav_serv_carr_pieni,P_da_est/carroponte_1,P_da_est/estrusore,V_per_park/estrusore',\n",
       "  'case:concept:name': 22},\n",
       " {'variant': 'V_da_pes/pesatura,P_da_misc/pesatura,P_da_misc/miscelatore,P_da_est/miscelatore,P_da_est/cat_usc_pieni,P_da_est/nav_serv_carr_pieni,P_da_est/carroponte_1,P_da_est/estrusore,V_da_pes/estrusore',\n",
       "  'case:concept:name': 22},\n",
       " {'variant': 'V_da_pes/pesatura,P_da_misc/pesatura,P_da_misc/navetta_serv_misc,P_da_misc/miscelatore,P_da_est/miscelatore,P_da_est/cat_usc_pieni,P_da_est/nav_serv_carr_pieni,P_da_est/carroponte_1,P_da_est/estrusore,V_per_park/estrusore',\n",
       "  'case:concept:name': 21},\n",
       " {'variant': 'V_da_pes/pesatura,P_da_misc/pesatura,P_da_misc/miscelatore,P_da_est/miscelatore,P_da_est/cat_usc_pieni,P_da_est/nav_serv_carr_pieni,P_da_est/carroponte_1,P_da_est/buffer,P_da_est/carroponte_2,P_da_est/estrusore,V_per_park/estrusore',\n",
       "  'case:concept:name': 19},\n",
       " {'variant': 'V_da_pes/pesatura,P_da_misc/pesatura,P_da_misc/miscelatore,P_da_est/cat_usc_pieni,P_da_est/nav_serv_carr_pieni,P_da_est/carroponte_1,P_da_est/buffer,P_da_est/estrusore,V_per_park/estrusore',\n",
       "  'case:concept:name': 19},\n",
       " {'variant': 'V_da_pes/pesatura,P_da_misc/pesatura,P_da_misc/miscelatore,P_da_est/cat_usc_pieni,P_da_est/nav_serv_carr_pieni,P_da_est/carroponte_1,P_da_est/estrusore,V_per_park/estrusore',\n",
       "  'case:concept:name': 18},\n",
       " {'variant': 'V_da_pes/pesatura,P_da_misc/pesatura,P_da_misc/navetta_serv_misc,P_da_misc/miscelatore,P_da_est/miscelatore,P_da_est/nav_serv_carr_pieni,P_da_est/carroponte_1,P_da_est/buffer,P_da_est/estrusore,V_per_park/estrusore',\n",
       "  'case:concept:name': 15},\n",
       " {'variant': 'V_da_pes/pesatura,P_da_misc/pesatura,P_da_misc/miscelatore,P_da_est/nav_serv_carr_pieni,P_da_est/carroponte_1,P_da_est/buffer,P_da_est/estrusore,V_per_park/estrusore',\n",
       "  'case:concept:name': 14},\n",
       " {'variant': 'V_da_pes/pesatura,P_da_misc/pesatura,P_da_misc/navetta_serv_misc,P_da_misc/miscelatore,P_da_est/miscelatore,P_da_est/cat_usc_pieni,P_da_est/nav_serv_carr_pieni,P_da_est/carroponte_1,P_da_est/buffer,P_da_est/estrusore,V_per_park/estrusore',\n",
       "  'case:concept:name': 12},\n",
       " {'variant': 'V_da_pes/pesatura,P_da_misc/pesatura,P_da_misc/miscelatore,P_da_est/nav_serv_carr_pieni,P_da_est/carroponte_1,P_da_est/estrusore,V_per_park/estrusore',\n",
       "  'case:concept:name': 11},\n",
       " {'variant': 'V_da_pes/pesatura,P_da_est/estrusore,V_per_park/estrusore',\n",
       "  'case:concept:name': 11},\n",
       " {'variant': 'V_da_pes/pesatura,P_da_misc/miscelatore,P_da_est/miscelatore,P_da_est/nav_serv_carr_pieni,P_da_est/carroponte_1,P_da_est/estrusore,V_per_park/estrusore',\n",
       "  'case:concept:name': 10},\n",
       " {'variant': 'V_da_pes/pesatura,V_da_pes/pesatura,P_da_misc/pesatura,P_da_misc/miscelatore,P_da_est/miscelatore,P_da_est/cat_usc_pieni,P_da_est/nav_serv_carr_pieni,P_da_est/carroponte_1,P_da_est/estrusore,V_per_park/estrusore',\n",
       "  'case:concept:name': 8},\n",
       " {'variant': 'V_da_pes/pesatura,P_da_misc/miscelatore,P_da_est/miscelatore,P_da_est/nav_serv_carr_pieni,P_da_est/carroponte_1,P_da_est/buffer,P_da_est/estrusore,V_per_park/estrusore',\n",
       "  'case:concept:name': 8},\n",
       " {'variant': 'V_da_pes/pesatura,P_da_misc/miscelatore,P_da_est/miscelatore,P_da_est/cat_usc_pieni,P_da_est/nav_serv_carr_pieni,P_da_est/carroponte_1,P_da_est/estrusore,V_per_park/estrusore',\n",
       "  'case:concept:name': 7},\n",
       " {'variant': 'V_da_pes/pesatura,V_da_pes/pesatura,P_da_misc/pesatura,P_da_misc/miscelatore,P_da_est/miscelatore,P_da_est/nav_serv_carr_pieni,P_da_est/carroponte_1,P_da_est/estrusore,V_per_park/estrusore',\n",
       "  'case:concept:name': 6},\n",
       " {'variant': 'V_da_pes/pesatura,V_per_park/pesatura,V_da_pes/pesatura,P_da_misc/pesatura,P_da_misc/miscelatore,P_da_est/miscelatore,P_da_est/nav_serv_carr_pieni,P_da_est/carroponte_1,P_da_est/estrusore,V_per_park/estrusore',\n",
       "  'case:concept:name': 5},\n",
       " {'variant': 'V_da_pes/pesatura,V_da_pes/pesatura,P_da_misc/pesatura,P_da_misc/miscelatore,P_da_est/miscelatore,P_da_est/cat_usc_pieni,P_da_est/nav_serv_carr_pieni,P_da_est/carroponte_1,P_da_est/buffer,P_da_est/estrusore,V_per_park/estrusore',\n",
       "  'case:concept:name': 5},\n",
       " {'variant': 'V_da_pes/pesatura,P_da_misc/pesatura,P_da_misc/miscelatore,P_da_est/miscelatore,P_da_est/cat_usc_pieni,P_da_est/nav_serv_carr_pieni,P_da_est/carroponte_1,V_per_park/estrusore',\n",
       "  'case:concept:name': 5},\n",
       " {'variant': 'V_da_pes/pesatura,P_da_est/buffer,P_da_est/estrusore,V_per_park/estrusore',\n",
       "  'case:concept:name': 5},\n",
       " {'variant': 'V_da_pes/pesatura,P_da_misc/pesatura,P_da_misc/navetta_serv_misc,P_da_misc/miscelatore,P_remove/miscelatore,Not_def/fuori_impianto,P_da_est/manuale,P_da_est/carroponte_2,P_da_est/estrusore,V_per_park/estrusore',\n",
       "  'case:concept:name': 4},\n",
       " {'variant': 'V_da_pes/pesatura,P_da_misc/pesatura,P_da_misc/miscelatore,P_da_misc/miscelatore,P_da_est/miscelatore,P_da_est/cat_usc_pieni,P_da_est/nav_serv_carr_pieni,P_da_est/carroponte_1,P_da_est/estrusore,V_per_park/estrusore',\n",
       "  'case:concept:name': 4},\n",
       " {'variant': 'V_da_pes/pesatura,P_da_misc/pesatura,P_da_misc/miscelatore,P_da_est/miscelatore,P_da_est/cat_usc_pieni,P_da_est/nav_serv_carr_pieni,P_da_est/carroponte_1,P_da_est/buffer,P_da_est/estrusore,V_da_pes/estrusore',\n",
       "  'case:concept:name': 4},\n",
       " {'variant': 'V_da_pes/pesatura,P_da_misc/pesatura,P_da_misc/navetta_serv_misc,P_da_misc/miscelatore,P_da_est/miscelatore,P_da_est/nav_serv_carr_pieni,P_da_est/carroponte_1,P_da_est/estrusore,V_da_pes/estrusore',\n",
       "  'case:concept:name': 3},\n",
       " {'variant': 'V_da_pes/pesatura,P_da_misc/pesatura,P_da_misc/navetta_serv_misc,P_da_misc/miscelatore,P_da_est/cat_usc_pieni,P_da_est/nav_serv_carr_pieni,P_da_est/carroponte_1,P_da_est/estrusore,V_per_park/estrusore',\n",
       "  'case:concept:name': 3},\n",
       " {'variant': 'V_da_pes/pesatura,P_da_misc/pesatura,P_da_misc/miscelatore,P_da_est/miscelatore,P_da_est/nav_serv_carr_pieni,P_da_est/estrusore,V_per_park/estrusore',\n",
       "  'case:concept:name': 3},\n",
       " {'variant': 'V_da_pes/pesatura,P_da_misc/pesatura,P_da_misc/miscelatore,P_da_est/miscelatore,P_da_est/nav_serv_carr_pieni,P_da_est/carroponte_1,V_per_park/estrusore',\n",
       "  'case:concept:name': 3},\n",
       " {'variant': 'V_da_pes/pesatura,P_da_misc/pesatura,P_da_misc/miscelatore,P_da_est/miscelatore,P_da_est/nav_serv_carr_pieni,P_da_est/carroponte_1,P_da_est/buffer,P_da_est/estrusore,V_da_pes/estrusore',\n",
       "  'case:concept:name': 3},\n",
       " {'variant': 'V_da_pes/pesatura,P_da_misc/pesatura,P_da_misc/miscelatore,P_da_est/cat_usc_pieni,P_da_est/nav_serv_carr_pieni,P_da_est/carroponte_1,P_da_est/estrusore,V_da_pes/estrusore',\n",
       "  'case:concept:name': 3},\n",
       " {'variant': 'V_da_pes/pesatura,P_da_misc/miscelatore,P_da_est/miscelatore,P_da_est/cat_usc_pieni,P_da_est/nav_serv_carr_pieni,P_da_est/carroponte_1,P_da_est/buffer,P_da_est/estrusore,V_per_park/estrusore',\n",
       "  'case:concept:name': 3},\n",
       " {'variant': 'V_da_pes/pesatura,P_da_est/pesatura,P_da_est/nav_serv_carr_pieni,P_da_est/carroponte_1,P_da_est/buffer,P_da_est/estrusore,V_per_park/estrusore',\n",
       "  'case:concept:name': 3},\n",
       " {'variant': 'V_da_pes/pesatura,V_per_park/pesatura,V_per_park/cat_usc_pieni,V_per_park/nav_serv_carr_pieni,V_per_park/catenaria_parcheggi,V_da_pes/catenaria_ing_misc,V_da_pes/pesatura,P_da_misc/pesatura,P_da_misc/miscelatore,P_da_est/miscelatore,P_da_est/cat_usc_pieni,P_da_est/nav_serv_carr_pieni,P_da_est/carroponte_1,P_da_est/estrusore,V_per_park/estrusore',\n",
       "  'case:concept:name': 2},\n",
       " {'variant': 'V_da_pes/pesatura,V_per_park/pesatura,P_da_misc/pesatura,P_da_misc/miscelatore,P_da_est/miscelatore,P_da_est/cat_usc_pieni,P_da_est/nav_serv_carr_pieni,P_da_est/carroponte_1,P_da_est/estrusore,V_per_park/estrusore',\n",
       "  'case:concept:name': 2},\n",
       " {'variant': 'V_da_pes/pesatura,V_da_pes/pesatura,P_da_misc/pesatura,P_da_misc/miscelatore,P_da_est/miscelatore,P_da_est/nav_serv_carr_pieni,P_da_est/carroponte_1,P_da_est/buffer,P_da_est/estrusore,V_per_park/estrusore',\n",
       "  'case:concept:name': 2},\n",
       " {'variant': 'V_da_pes/pesatura,P_remove/pesatura,P_da_misc/pesatura,P_da_misc/miscelatore,P_da_est/miscelatore,P_da_est/cat_usc_pieni,P_da_est/nav_serv_carr_pieni,P_da_est/carroponte_1,P_da_est/estrusore,V_per_park/estrusore',\n",
       "  'case:concept:name': 2},\n",
       " {'variant': 'V_da_pes/pesatura,P_recheck/pesatura,P_da_misc/pesatura,P_da_misc/miscelatore,P_da_est/miscelatore,P_da_est/cat_usc_pieni,P_da_est/nav_serv_carr_pieni,P_da_est/carroponte_1,P_da_est/estrusore,V_per_park/estrusore',\n",
       "  'case:concept:name': 2},\n",
       " {'variant': 'V_da_pes/pesatura,P_per_park/pesatura,P_per_park/cat_usc_pieni,P_per_park/nav_serv_carr_pieni,P_per_park/catenaria_parcheggi,P_recheck/pesatura,P_da_misc/pesatura,P_da_misc/miscelatore,P_da_est/miscelatore,P_da_est/cat_usc_pieni,P_da_est/nav_serv_carr_pieni,P_da_est/carroponte_1,P_da_est/estrusore,V_per_park/estrusore',\n",
       "  'case:concept:name': 2},\n",
       " {'variant': 'V_da_pes/pesatura,P_da_misc/pesatura,P_da_misc/miscelatore,P_remove/miscelatore,P_remove/miscelatore,Not_def/fuori_impianto,P_da_est/manuale,P_da_est/carroponte_2,P_da_est/estrusore,V_per_park/estrusore',\n",
       "  'case:concept:name': 2},\n",
       " {'variant': 'V_da_pes/pesatura,P_da_misc/pesatura,P_da_misc/miscelatore,P_recheck/miscelatore,P_da_est/nav_serv_carr_pieni,P_da_est/carroponte_1,P_da_est/estrusore,V_per_park/estrusore',\n",
       "  'case:concept:name': 2},\n",
       " {'variant': 'V_da_pes/pesatura,P_da_misc/pesatura,P_da_misc/miscelatore,P_da_misc/miscelatore,P_da_est/miscelatore,P_da_est/nav_serv_carr_pieni,P_da_est/carroponte_1,P_da_est/estrusore,V_per_park/estrusore',\n",
       "  'case:concept:name': 2},\n",
       " {'variant': 'V_da_pes/pesatura,P_da_misc/pesatura,P_da_misc/miscelatore,P_da_est/nav_serv_carr_pieni,P_da_est/carroponte_1,P_da_est/buffer,P_da_est/carroponte_2,P_da_est/estrusore,V_per_park/estrusore',\n",
       "  'case:concept:name': 2},\n",
       " {'variant': 'V_da_pes/pesatura,P_da_misc/pesatura,P_da_misc/miscelatore,P_da_est/miscelatore,P_da_est/nav_serv_carr_pieni,P_da_est/carroponte_1,P_da_est/estrusore,V_per_park/catenaria_parcheggi,V_da_pes/catenaria_ing_misc,V_da_pes/pesatura,P_da_misc/pesatura,P_da_misc/miscelatore,P_da_est/miscelatore,P_da_est/cat_usc_pieni,P_da_est/nav_serv_carr_pieni,P_da_est/carroponte_1,P_da_est/estrusore,V_per_park/estrusore',\n",
       "  'case:concept:name': 2},\n",
       " {'variant': 'V_da_pes/pesatura,P_da_misc/pesatura,P_da_misc/miscelatore,P_da_est/miscelatore,P_da_est/nav_serv_carr_pieni,P_da_est/carroponte_1,P_da_est/buffer,P_da_est/estrusore,P_da_est/buffer,P_da_est/estrusore,V_per_park/estrusore',\n",
       "  'case:concept:name': 2},\n",
       " {'variant': 'V_da_pes/pesatura,P_da_misc/pesatura,P_da_misc/miscelatore,P_da_est/miscelatore,P_da_est/nav_serv_carr_pieni,P_da_est/carroponte_1,P_da_est/buffer,P_da_est/carroponte_1,P_da_est/estrusore,V_per_park/estrusore',\n",
       "  'case:concept:name': 2},\n",
       " {'variant': 'V_da_pes/pesatura,P_da_misc/pesatura,P_da_misc/miscelatore,P_da_est/miscelatore,P_da_est/estrusore,V_per_park/estrusore',\n",
       "  'case:concept:name': 2},\n",
       " {'variant': 'V_da_pes/pesatura,P_da_misc/pesatura,P_da_misc/miscelatore,P_da_est/miscelatore,P_da_est/carroponte_1,P_da_est/buffer,P_da_est/estrusore,V_per_park/estrusore',\n",
       "  'case:concept:name': 2},\n",
       " {'variant': 'V_da_pes/pesatura,P_da_misc/pesatura,P_da_misc/miscelatore,P_da_est/estrusore,V_per_park/estrusore',\n",
       "  'case:concept:name': 2},\n",
       " {'variant': 'V_da_pes/pesatura,P_da_misc/navetta_serv_misc,P_da_misc/miscelatore,P_da_est/miscelatore,P_da_est/nav_serv_carr_pieni,P_da_est/carroponte_1,P_da_est/buffer,P_da_est/estrusore,V_per_park/estrusore',\n",
       "  'case:concept:name': 2},\n",
       " {'variant': 'V_da_pes/pesatura,V_remove/miscelatore,Not_def/fuori_impianto,V_da_pes/pesatura,P_recheck/pesatura,P_da_misc/pesatura,P_da_misc/miscelatore,P_remove/miscelatore,Not_def/fuori_impianto,P_da_est/manuale,P_da_est/carroponte_2,P_da_est/estrusore,V_per_park/estrusore',\n",
       "  'case:concept:name': 1},\n",
       " {'variant': 'V_da_pes/pesatura,V_per_park/pesatura,V_per_park/nav_serv_carr_pieni,V_per_park/catenaria_parcheggi,V_da_pes/pesatura,P_recheck/pesatura,P_da_misc/pesatura,P_da_misc/miscelatore,P_da_est/miscelatore,P_da_est/cat_usc_pieni,P_da_est/nav_serv_carr_pieni,P_da_est/carroponte_1,P_da_est/estrusore,V_per_park/estrusore',\n",
       "  'case:concept:name': 1},\n",
       " {'variant': 'V_da_pes/pesatura,V_per_park/pesatura,V_per_park/nav_serv_carr_pieni,V_per_park/catenaria_parcheggi,V_da_pes/pesatura,P_da_misc/pesatura,P_da_misc/miscelatore,P_da_est/miscelatore,P_da_est/cat_usc_pieni,P_da_est/nav_serv_carr_pieni,P_da_est/carroponte_1,P_da_est/estrusore,V_per_park/estrusore',\n",
       "  'case:concept:name': 1},\n",
       " {'variant': 'V_da_pes/pesatura,V_per_park/pesatura,V_per_park/nav_serv_carr_pieni,V_per_park/catenaria_parcheggi,P_da_misc/miscelatore,P_da_est/miscelatore,P_da_est/nav_serv_carr_pieni,P_da_est/carroponte_1,P_da_est/estrusore,V_per_park/estrusore',\n",
       "  'case:concept:name': 1},\n",
       " {'variant': 'V_da_pes/pesatura,V_per_park/pesatura,V_per_park/cat_usc_pieni,V_per_park/nav_serv_carr_pieni,V_remove/catenaria_ing_misc,Not_def/fuori_impianto,V_da_pes/fuori_impianto,Not_def/fuori_impianto,V_per_park/manuale,Not_def/fuori_impianto,P_da_est/estrusore,V_per_park/manuale,V_per_park/carroponte_2,Not_def/fuori_impianto,P_da_est/estrusore,V_per_park/carroponte_2,V_per_park/buffer,V_da_pes/miscelatore,P_da_misc/miscelatore,Not_def/fuori_impianto,P_da_est/estrusore,P_da_est/estrusore,V_da_pes/pesatura,Not_def/fuori_impianto,P_da_est/estrusore,Not_def/fuori_impianto,P_da_est/estrusore,P_da_est/estrusore,P_da_est/estrusore,V_da_pes/carroponte_2,V_da_pes/manuale,Not_def/fuori_impianto,V_da_pes/ing_zona_misc,V_da_pes/miscelatore,V_da_pes/pesatura,P_da_misc/pesatura,P_da_misc/miscelatore,P_remove/miscelatore,Not_def/fuori_impianto,P_da_est/manuale,P_da_est/carroponte_2,P_da_est/estrusore,V_per_park/estrusore',\n",
       "  'case:concept:name': 1},\n",
       " {'variant': 'V_da_pes/pesatura,V_per_park/pesatura,V_per_park/cat_usc_pieni,V_per_park/nav_serv_carr_pieni,V_per_park/catenaria_vuoti,V_per_park/catenaria_parcheggi,V_da_pes/pesatura,P_da_misc/pesatura,P_da_misc/miscelatore,P_da_est/miscelatore,P_da_est/cat_usc_pieni,P_da_est/nav_serv_carr_pieni,P_da_est/carroponte_1,P_da_est/estrusore,V_per_park/estrusore',\n",
       "  'case:concept:name': 1},\n",
       " {'variant': 'V_da_pes/pesatura,V_per_park/pesatura,V_per_park/cat_usc_pieni,V_per_park/nav_serv_carr_pieni,V_per_park/catenaria_parcheggi,V_remove/miscelatore,Not_def/fuori_impianto,V_per_park/cat_usc_pieni,V_per_park/nav_serv_carr_pieni,V_per_park/catenaria_parcheggi,V_da_pes/pesatura,P_da_misc/pesatura,P_da_misc/miscelatore,P_da_est/miscelatore,P_da_est/cat_usc_pieni,P_da_est/nav_serv_carr_pieni,P_da_est/carroponte_1,P_da_est/estrusore,V_per_park/estrusore',\n",
       "  'case:concept:name': 1},\n",
       " {'variant': 'V_da_pes/pesatura,V_per_park/pesatura,V_per_park/cat_usc_pieni,V_per_park/nav_serv_carr_pieni,V_per_park/catenaria_parcheggi,V_da_pes/pesatura,P_da_misc/pesatura,P_da_misc/miscelatore,P_da_est/miscelatore,P_da_est/nav_serv_carr_pieni,P_da_est/carroponte_1,P_da_est/estrusore,V_per_park/estrusore',\n",
       "  'case:concept:name': 1},\n",
       " {'variant': 'V_da_pes/pesatura,V_per_park/pesatura,V_per_park/cat_usc_pieni,V_per_park/nav_serv_carr_pieni,V_per_park/catenaria_parcheggi,V_da_pes/catenaria_parcheggi,V_da_pes/catenaria_ing_misc,V_da_pes/pesatura,P_da_misc/pesatura,P_da_misc/miscelatore,P_da_est/miscelatore,P_da_est/cat_usc_pieni,P_da_est/nav_serv_carr_pieni,P_da_est/carroponte_1,P_da_est/buffer,P_da_est/estrusore,V_per_park/estrusore',\n",
       "  'case:concept:name': 1},\n",
       " {'variant': 'V_da_pes/pesatura,V_per_park/pesatura,V_per_park/cat_usc_pieni,V_per_park/nav_serv_carr_pieni,V_per_park/catenaria_parcheggi,V_da_pes/catenaria_parcheggi,V_da_pes/catenaria_ing_misc,P_da_misc/pesatura,P_da_misc/miscelatore,P_da_est/miscelatore,P_da_est/cat_usc_pieni,P_da_est/nav_serv_carr_pieni,P_da_est/carroponte_1,P_da_est/buffer,P_da_est/estrusore,V_per_park/estrusore',\n",
       "  'case:concept:name': 1},\n",
       " {'variant': 'V_da_pes/pesatura,V_per_park/pesatura,V_per_park/cat_usc_pieni,V_per_park/nav_serv_carr_pieni,V_per_park/catenaria_parcheggi,V_da_pes/catenaria_ing_misc,V_da_pes/pesatura,P_da_misc/pesatura,P_da_misc/miscelatore,P_da_est/miscelatore,P_da_est/cat_usc_pieni,P_da_est/nav_serv_carr_pieni,P_da_est/carroponte_1,V_da_pes/estrusore',\n",
       "  'case:concept:name': 1},\n",
       " {'variant': 'V_da_pes/pesatura,V_per_park/pesatura,V_per_park/cat_usc_pieni,V_per_park/nav_serv_carr_pieni,V_per_park/catenaria_parcheggi,P_da_est/nav_serv_carr_pieni,P_da_est/carroponte_1,P_da_est/buffer,P_da_est/estrusore,V_per_park/estrusore',\n",
       "  'case:concept:name': 1},\n",
       " {'variant': 'V_da_pes/pesatura,V_per_park/pesatura,V_per_park/cat_usc_pieni,V_da_pes/pesatura,P_da_misc/pesatura,P_da_misc/miscelatore,P_da_est/miscelatore,P_da_est/cat_usc_pieni,P_da_est/nav_serv_carr_pieni,P_da_est/carroponte_1,P_da_est/estrusore,V_per_park/estrusore',\n",
       "  'case:concept:name': 1},\n",
       " {'variant': 'V_da_pes/pesatura,V_per_park/pesatura,V_da_pes/pesatura,V_per_park/pesatura,V_da_pes/pesatura,V_per_park/pesatura,V_da_pes/pesatura,P_da_misc/pesatura,P_da_misc/navetta_serv_misc,P_da_misc/miscelatore,P_per_park/cat_usc_pieni,P_per_park/catenaria_parcheggi,P_da_est/cat_usc_pieni,P_da_est/nav_serv_carr_pieni,P_da_est/carroponte_1,P_da_est/estrusore,V_da_pes/estrusore',\n",
       "  'case:concept:name': 1},\n",
       " {'variant': 'V_da_pes/pesatura,V_per_park/pesatura,V_da_pes/pesatura,V_per_park/pesatura,V_da_pes/pesatura,P_per_park/pesatura,P_per_park/cat_usc_pieni,P_per_park/nav_serv_carr_pieni,P_per_park/catenaria_parcheggi,P_da_est/estrusore,V_da_pes/estrusore',\n",
       "  'case:concept:name': 1},\n",
       " {'variant': 'V_da_pes/pesatura,V_per_park/pesatura,V_da_pes/pesatura,P_da_misc/pesatura,P_da_misc/navetta_serv_misc,P_da_misc/miscelatore,V_da_pes/navetta_serv_misc,V_da_pes/pesatura,P_da_misc/pesatura,P_da_misc/miscelatore,P_da_misc/miscelatore,P_da_est/miscelatore,P_da_est/cat_usc_pieni,P_da_est/nav_serv_carr_pieni,P_da_est/carroponte_1,P_da_est/estrusore,V_per_park/estrusore',\n",
       "  'case:concept:name': 1},\n",
       " {'variant': 'V_da_pes/pesatura,V_per_park/pesatura,V_da_pes/pesatura,P_da_misc/pesatura,P_da_misc/miscelatore,P_da_est/miscelatore,P_da_est/nav_serv_carr_pieni,P_da_est/carroponte_1,P_da_est/buffer,P_da_est/carroponte_1,P_da_est/estrusore,V_per_park/estrusore',\n",
       "  'case:concept:name': 1},\n",
       " {'variant': 'V_da_pes/pesatura,V_per_park/pesatura,P_per_park/pesatura,P_per_park/cat_usc_pieni,P_per_park/nav_serv_carr_pieni,P_per_park/catenaria_parcheggi,P_da_misc/miscelatore,P_da_est/miscelatore,P_da_est/nav_serv_carr_pieni,P_da_est/carroponte_1,P_da_est/estrusore,V_da_pes/estrusore',\n",
       "  'case:concept:name': 1},\n",
       " {'variant': 'V_da_pes/pesatura,V_per_park/pesatura,P_da_est/pesatura,P_per_park/pesatura,P_da_est/pesatura,P_da_est/cat_usc_pieni,P_da_est/nav_serv_carr_pieni,P_da_est/carroponte_1,P_da_est/estrusore,V_per_park/estrusore',\n",
       "  'case:concept:name': 1},\n",
       " {'variant': 'V_da_pes/pesatura,V_per_park/pesatura,P_da_est/estrusore,V_da_pes/pesatura,V_da_pes/pesatura,P_da_est/estrusore,V_da_pes/pesatura,P_da_est/estrusore,V_da_pes/pesatura,P_da_est/estrusore,P_da_est/estrusore,V_per_park/estrusore',\n",
       "  'case:concept:name': 1},\n",
       " {'variant': 'V_da_pes/pesatura,V_per_park/navetta_serv_misc,V_per_park/nav_serv_carr_pieni,V_per_park/catenaria_parcheggi,V_per_park/catenaria_parcheggi,V_per_park/pesatura,V_da_pes/pesatura,P_da_misc/pesatura,P_da_misc/miscelatore,P_da_est/miscelatore,P_da_est/nav_serv_carr_pieni,P_da_est/carroponte_1,P_da_est/estrusore,V_per_park/estrusore',\n",
       "  'case:concept:name': 1},\n",
       " {'variant': 'V_da_pes/pesatura,V_per_park/estrusore', 'case:concept:name': 1},\n",
       " {'variant': 'V_da_pes/pesatura,V_per_park/catenaria_parcheggi,V_da_pes/catenaria_parcheggi,V_da_pes/catenaria_ing_misc,V_da_pes/pesatura,P_da_misc/pesatura,P_da_misc/miscelatore,P_da_est/miscelatore,P_da_est/nav_serv_carr_pieni,P_da_est/carroponte_1,P_da_est/buffer,P_da_est/estrusore,V_per_park/estrusore',\n",
       "  'case:concept:name': 1},\n",
       " {'variant': 'V_da_pes/pesatura,V_per_park/catenaria_parcheggi,V_da_pes/catenaria_ing_misc,V_da_pes/pesatura,P_da_misc/pesatura,P_da_misc/miscelatore,P_da_est/miscelatore,P_da_est/cat_usc_pieni,P_da_est/nav_serv_carr_pieni,P_da_est/carroponte_1,V_per_park/estrusore',\n",
       "  'case:concept:name': 1},\n",
       " {'variant': 'V_da_pes/pesatura,V_per_park/catenaria_parcheggi,V_da_pes/catenaria_ing_misc,V_da_pes/pesatura,P_da_misc/miscelatore,P_da_est/miscelatore,P_da_est/cat_usc_pieni,P_per_park/nav_serv_carr_pieni,P_da_est/carroponte_1,P_da_est/estrusore,V_per_park/estrusore',\n",
       "  'case:concept:name': 1},\n",
       " {'variant': 'V_da_pes/pesatura,V_per_park/cat_usc_pieni,V_per_park/nav_serv_carr_pieni,V_per_park/catenaria_parcheggi,V_per_park/catenaria_parcheggi,V_da_pes/catenaria_ing_misc,V_da_pes/pesatura,P_da_misc/pesatura,P_da_misc/miscelatore,P_da_est/miscelatore,P_da_est/nav_serv_carr_pieni,P_da_est/carroponte_1,P_da_est/estrusore,V_per_park/estrusore',\n",
       "  'case:concept:name': 1},\n",
       " {'variant': 'V_da_pes/pesatura,V_per_park/cat_usc_pieni,V_per_park/nav_serv_carr_pieni,V_per_park/catenaria_parcheggi,V_da_pes/pesatura,P_da_misc/pesatura,P_da_misc/miscelatore,P_da_est/miscelatore,P_da_est/cat_usc_pieni,P_da_est/nav_serv_carr_pieni,P_da_est/carroponte_1,P_da_est/estrusore,V_per_park/estrusore',\n",
       "  'case:concept:name': 1},\n",
       " {'variant': 'V_da_pes/pesatura,V_per_park/cat_usc_pieni,V_per_park/nav_serv_carr_pieni,V_per_park/catenaria_parcheggi,V_da_pes/pesatura,P_da_misc/pesatura,P_da_misc/miscelatore,P_da_est/cat_usc_pieni,P_da_est/nav_serv_carr_pieni,P_da_est/carroponte_1,P_da_est/estrusore,V_per_park/estrusore',\n",
       "  'case:concept:name': 1},\n",
       " {'variant': 'V_da_pes/pesatura,V_per_park/cat_usc_pieni,V_per_park/nav_serv_carr_pieni,V_per_park/catenaria_parcheggi,V_da_pes/catenaria_ing_misc,V_da_pes/pesatura,V_per_park/pesatura,V_da_pes/pesatura,P_da_misc/pesatura,P_da_misc/miscelatore,P_da_est/miscelatore,P_da_est/nav_serv_carr_pieni,P_da_est/carroponte_1,P_da_est/estrusore,V_da_pes/estrusore',\n",
       "  'case:concept:name': 1},\n",
       " {'variant': 'V_da_pes/pesatura,V_per_park/cat_usc_pieni,V_per_park/nav_serv_carr_pieni,V_per_park/catenaria_parcheggi,V_da_pes/catenaria_ing_misc,V_da_pes/pesatura,P_da_misc/pesatura,P_da_misc/miscelatore,P_da_est/miscelatore,P_da_est/nav_serv_carr_pieni,P_da_est/carroponte_1,P_da_est/estrusore,V_per_park/estrusore',\n",
       "  'case:concept:name': 1},\n",
       " {'variant': 'V_da_pes/pesatura,V_da_pes/pesatura,V_per_park/catenaria_parcheggi,P_da_est/estrusore,V_per_park/catenaria_parcheggi,V_da_pes/pesatura,P_da_est/estrusore,V_per_park/catenaria_parcheggi,V_da_pes/pesatura,P_da_est/estrusore,V_per_park/catenaria_parcheggi,P_da_est/estrusore,V_da_pes/pesatura,P_da_est/estrusore,V_da_pes/pesatura,P_da_est/estrusore,V_da_pes/pesatura,P_da_est/estrusore,P_da_est/estrusore,P_da_est/estrusore,V_da_pes/pesatura,P_da_est/estrusore,V_da_pes/estrusore',\n",
       "  'case:concept:name': 1},\n",
       " {'variant': 'V_da_pes/pesatura,V_da_pes/pesatura,V_da_pes/pesatura,V_da_pes/pesatura,V_da_pes/pesatura,P_da_est/estrusore,P_da_est/estrusore,P_da_est/estrusore,P_da_est/estrusore,P_da_est/nav_serv_carr_pieni,P_da_est/estrusore,P_da_est/buffer,P_da_est/buffer,V_da_pes/pesatura,P_da_est/estrusore,P_da_est/estrusore,P_da_est/estrusore,P_da_est/estrusore,P_da_est/buffer,P_da_est/estrusore,P_da_est/buffer,V_per_park/catenaria_parcheggi,V_da_pes/catenaria_ing_misc,P_da_est/estrusore,P_da_est/buffer,P_da_est/estrusore,P_da_est/buffer,P_da_est/estrusore,V_da_pes/pesatura,P_da_est/estrusore,P_da_est/estrusore,P_da_est/buffer,P_da_est/estrusore,P_da_est/buffer,P_da_est/estrusore,P_da_est/estrusore,P_da_est/estrusore,V_per_park/catenaria_parcheggi,V_da_pes/pesatura,P_recheck/pesatura,V_per_park/catenaria_parcheggi,P_da_est/estrusore,P_da_est/estrusore,P_da_est/estrusore,P_da_est/estrusore,P_da_est/buffer,P_da_est/estrusore,P_da_est/estrusore,P_da_est/estrusore,V_da_pes/pesatura,P_da_misc/pesatura,P_da_misc/miscelatore,P_da_est/miscelatore,P_da_est/nav_serv_carr_pieni,P_da_est/carroponte_1,P_da_est/buffer,P_da_est/estrusore,V_per_park/estrusore',\n",
       "  'case:concept:name': 1},\n",
       " {'variant': 'V_da_pes/pesatura,V_da_pes/pesatura,V_da_pes/pesatura,P_da_misc/pesatura,P_per_park/nav_serv_carr_pieni,P_per_park/catenaria_parcheggi,P_recheck/pesatura,P_da_misc/pesatura,P_da_misc/miscelatore,P_da_est/miscelatore,P_da_est/cat_usc_pieni,P_da_est/nav_serv_carr_pieni,P_da_est/carroponte_1,P_da_est/estrusore,V_per_park/estrusore',\n",
       "  'case:concept:name': 1},\n",
       " {'variant': 'V_da_pes/pesatura,V_da_pes/pesatura,V_da_pes/pesatura,P_da_misc/pesatura,P_da_misc/miscelatore,P_da_est/miscelatore,P_da_est/nav_serv_carr_pieni,P_da_est/carroponte_1,P_da_est/estrusore,V_per_park/estrusore',\n",
       "  'case:concept:name': 1},\n",
       " {'variant': 'V_da_pes/pesatura,V_da_pes/pesatura,P_da_misc/pesatura,P_per_park/nav_serv_carr_pieni,P_per_park/catenaria_parcheggi,P_da_misc/miscelatore,P_da_est/miscelatore,P_da_est/cat_usc_pieni,P_da_est/nav_serv_carr_pieni,P_da_est/carroponte_1,V_per_park/estrusore',\n",
       "  'case:concept:name': 1},\n",
       " {'variant': 'V_da_pes/pesatura,V_da_pes/pesatura,P_da_misc/pesatura,P_da_misc/navetta_serv_misc,P_da_misc/miscelatore,P_da_est/miscelatore,P_da_est/nav_serv_carr_pieni,P_da_est/carroponte_1,P_da_est/estrusore,V_per_park/estrusore',\n",
       "  'case:concept:name': 1},\n",
       " {'variant': 'V_da_pes/pesatura,V_da_pes/pesatura,P_da_misc/pesatura,P_da_misc/navetta_serv_misc,P_da_misc/miscelatore,P_da_est/miscelatore,P_da_est/nav_serv_carr_pieni,P_da_est/carroponte_1,P_da_est/estrusore,V_da_pes/estrusore',\n",
       "  'case:concept:name': 1},\n",
       " {'variant': 'V_da_pes/pesatura,V_da_pes/pesatura,P_da_misc/pesatura,P_da_misc/miscelatore,P_remove/miscelatore,Not_def/fuori_impianto,P_da_est/manuale,P_da_est/carroponte_2,P_da_est/estrusore,V_per_park/estrusore',\n",
       "  'case:concept:name': 1},\n",
       " {'variant': 'V_da_pes/pesatura,V_da_pes/pesatura,P_da_misc/pesatura,P_da_misc/miscelatore,P_da_misc/miscelatore,P_recheck/miscelatore,P_recheck/pesatura,P_da_misc/pesatura,P_da_misc/miscelatore,P_da_est/miscelatore,P_da_est/cat_usc_pieni,P_da_est/nav_serv_carr_pieni,P_da_est/carroponte_1,P_da_est/buffer,P_da_est/estrusore,V_per_park/estrusore',\n",
       "  'case:concept:name': 1},\n",
       " {'variant': 'V_da_pes/pesatura,V_da_pes/pesatura,P_da_misc/pesatura,P_da_misc/miscelatore,P_da_misc/miscelatore,P_recheck/miscelatore,P_da_misc/miscelatore,P_da_est/miscelatore,P_da_est/nav_serv_carr_pieni,P_da_est/carroponte_1,P_da_est/estrusore,V_per_park/estrusore',\n",
       "  'case:concept:name': 1},\n",
       " {'variant': 'V_da_pes/pesatura,V_da_pes/pesatura,P_da_misc/pesatura,P_da_misc/miscelatore,P_da_misc/miscelatore,P_recheck/miscelatore,P_da_misc/miscelatore,P_da_est/miscelatore,P_da_est/cat_usc_pieni,P_da_est/nav_serv_carr_pieni,P_da_est/carroponte_1,P_da_est/estrusore,V_per_park/estrusore',\n",
       "  'case:concept:name': 1},\n",
       " {'variant': 'V_da_pes/pesatura,V_da_pes/pesatura,P_da_misc/pesatura,P_da_misc/miscelatore,P_da_est/miscelatore,P_da_est/nav_serv_carr_pieni,P_da_est/estrusore,V_per_park/estrusore',\n",
       "  'case:concept:name': 1},\n",
       " {'variant': 'V_da_pes/pesatura,V_da_pes/pesatura,P_da_est/estrusore,V_da_pes/pesatura,P_da_est/estrusore,V_per_park/carroponte_1,V_per_park/nav_serv_carr_pieni,V_per_park/catenaria_parcheggi,V_da_pes/pesatura,P_da_est/pesatura,P_da_est/cat_usc_pieni,P_da_est/nav_serv_carr_pieni,P_da_est/carroponte_1,P_da_est/estrusore,V_per_park/estrusore',\n",
       "  'case:concept:name': 1},\n",
       " {'variant': 'V_da_pes/pesatura,V_da_pes/catenaria_ing_misc,V_da_pes/pesatura,P_da_est/estrusore,V_per_park/catenaria_parcheggi,P_da_est/estrusore,P_da_est/estrusore,V_per_park/catenaria_parcheggi,Not_def/fuori_impianto,P_da_misc/miscelatore,V_da_pes/miscelatore,V_da_pes/pesatura,P_remove/pesatura,P_da_misc/miscelatore,P_da_est/miscelatore,P_da_est/cat_usc_pieni,P_da_est/nav_serv_carr_pieni,P_da_est/carroponte_1,P_da_est/estrusore,V_per_park/estrusore',\n",
       "  'case:concept:name': 1},\n",
       " {'variant': 'V_da_pes/pesatura,V_da_pes/catenaria_ing_misc,P_da_est/estrusore,V_da_pes/pesatura,P_da_est/estrusore,V_da_pes/pesatura,P_da_est/estrusore,V_da_pes/pesatura,P_da_est/buffer,P_da_est/estrusore,V_per_park/estrusore',\n",
       "  'case:concept:name': 1},\n",
       " {'variant': 'V_da_pes/pesatura,P_remove/pesatura,V_da_pes/pesatura,V_per_park/pesatura,V_da_pes/pesatura,P_da_misc/pesatura,P_da_misc/navetta_serv_misc,P_da_misc/miscelatore,P_da_est/miscelatore,P_da_est/nav_serv_carr_pieni,P_da_est/carroponte_1,P_da_est/estrusore,V_per_park/estrusore',\n",
       "  'case:concept:name': 1},\n",
       " {'variant': 'V_da_pes/pesatura,P_remove/pesatura,V_da_pes/pesatura,P_remove/miscelatore,V_per_park/cat_usc_pieni,V_per_park/nav_serv_carr_pieni,V_remove/catenaria_ing_misc,V_remove/miscelatore,Not_def/fuori_impianto,V_da_pes/pesatura,V_remove/pesatura,V_remove/navetta_serv_misc,Not_def/fuori_impianto,V_da_pes/pesatura,P_da_misc/pesatura,P_da_misc/miscelatore,P_da_est/miscelatore,P_da_est/cat_usc_pieni,P_da_est/nav_serv_carr_pieni,P_da_est/carroponte_1,P_da_est/estrusore,V_per_park/estrusore',\n",
       "  'case:concept:name': 1},\n",
       " {'variant': 'V_da_pes/pesatura,P_remove/pesatura,V_da_pes/pesatura,P_da_misc/pesatura,P_da_misc/navetta_serv_misc,P_da_misc/miscelatore,P_da_est/miscelatore,P_da_est/nav_serv_carr_pieni,P_da_est/carroponte_1,P_da_est/estrusore,V_per_park/estrusore',\n",
       "  'case:concept:name': 1},\n",
       " {'variant': 'V_da_pes/pesatura,P_remove/pesatura,V_da_pes/pesatura,P_da_misc/pesatura,P_da_misc/navetta_serv_misc,P_da_misc/miscelatore,P_da_est/miscelatore,P_da_est/cat_usc_pieni,P_da_est/nav_serv_carr_pieni,P_da_est/carroponte_1,P_da_est/estrusore,V_per_park/estrusore',\n",
       "  'case:concept:name': 1},\n",
       " {'variant': 'V_da_pes/pesatura,P_remove/pesatura,V_da_pes/pesatura,P_da_misc/pesatura,P_da_misc/miscelatore,P_da_est/miscelatore,P_da_est/nav_serv_carr_pieni,P_da_est/carroponte_1,P_da_est/estrusore,V_da_pes/estrusore',\n",
       "  'case:concept:name': 1},\n",
       " {'variant': 'V_da_pes/pesatura,P_remove/pesatura,P_per_park/pesatura,P_per_park/cat_usc_pieni,P_da_misc/miscelatore,P_da_est/miscelatore,P_da_est/cat_usc_pieni,P_da_est/nav_serv_carr_pieni,P_da_est/carroponte_1,P_da_est/estrusore,V_da_pes/estrusore',\n",
       "  'case:concept:name': 1},\n",
       " {'variant': 'V_da_pes/pesatura,P_remove/pesatura,P_da_misc/pesatura,P_da_misc/miscelatore,P_per_park/miscelatore,P_per_park/cat_usc_pieni,P_per_park/catenaria_parcheggi,P_da_est/catenaria_ing_misc,P_da_est/nav_serv_carr_pieni,P_da_est/carroponte_1,P_da_est/estrusore,V_per_park/estrusore',\n",
       "  'case:concept:name': 1},\n",
       " {'variant': 'V_da_pes/pesatura,P_remove/pesatura,P_da_misc/pesatura,P_da_misc/miscelatore,P_da_est/miscelatore,P_da_est/cat_usc_pieni,P_da_est/nav_serv_carr_pieni,P_da_est/carroponte_1,P_da_est/estrusore,V_da_pes/estrusore',\n",
       "  'case:concept:name': 1},\n",
       " {'variant': 'V_da_pes/pesatura,P_recheck/pesatura,P_da_misc/pesatura,V_da_pes/pesatura,P_da_misc/pesatura,P_da_misc/miscelatore,P_da_est/miscelatore,P_da_est/nav_serv_carr_pieni,P_da_est/carroponte_1,P_da_est/estrusore,V_per_park/estrusore',\n",
       "  'case:concept:name': 1},\n",
       " {'variant': 'V_da_pes/pesatura,P_recheck/pesatura,P_da_misc/pesatura,P_da_misc/navetta_serv_misc,P_da_misc/miscelatore,Not_def/fuori_impianto,P_da_est/manuale,P_da_est/carroponte_2,P_da_est/estrusore,V_per_park/estrusore',\n",
       "  'case:concept:name': 1},\n",
       " {'variant': 'V_da_pes/pesatura,P_per_park/pesatura,V_da_pes/pesatura,P_da_misc/pesatura,P_da_misc/miscelatore,P_da_est/miscelatore,P_da_est/nav_serv_carr_pieni,P_da_est/carroponte_1,P_da_est/estrusore,V_da_pes/estrusore',\n",
       "  'case:concept:name': 1},\n",
       " {'variant': 'V_da_pes/pesatura,P_per_park/pesatura,V_da_pes/pesatura,P_da_misc/pesatura,P_da_misc/miscelatore,P_da_est/miscelatore,P_da_est/cat_usc_pieni,P_da_est/nav_serv_carr_pieni,P_da_est/carroponte_1,P_da_est/buffer,P_da_est/carroponte_2,P_da_est/estrusore,V_per_park/estrusore',\n",
       "  'case:concept:name': 1},\n",
       " {'variant': 'V_da_pes/pesatura,P_per_park/pesatura,P_per_park/navetta_serv_misc,P_da_misc/nav_serv_carr_pieni,P_da_misc/miscelatore,P_da_est/miscelatore,P_da_est/cat_usc_pieni,P_da_est/nav_serv_carr_pieni,P_da_est/carroponte_1,P_da_est/estrusore,V_per_park/estrusore',\n",
       "  'case:concept:name': 1},\n",
       " {'variant': 'V_da_pes/pesatura,P_per_park/pesatura,P_per_park/nav_serv_carr_pieni,P_per_park/catenaria_parcheggi,P_recheck/pesatura,V_da_pes/pesatura,P_da_misc/pesatura,P_da_misc/miscelatore,P_da_est/miscelatore,P_per_park/cat_usc_pieni,P_per_park/nav_serv_carr_pieni,P_per_park/catenaria_parcheggi,P_da_est/nav_serv_carr_pieni,P_da_est/carroponte_1,P_da_est/estrusore,V_per_park/estrusore',\n",
       "  'case:concept:name': 1},\n",
       " {'variant': 'V_da_pes/pesatura,P_per_park/pesatura,P_per_park/nav_serv_carr_pieni,P_per_park/catenaria_parcheggi,P_per_park/catenaria_parcheggi,P_da_est/estrusore,V_per_park/estrusore',\n",
       "  'case:concept:name': 1},\n",
       " {'variant': 'V_da_pes/pesatura,P_per_park/pesatura,P_per_park/catenaria_parcheggi,P_da_est/estrusore,V_da_pes/pesatura,P_da_est/buffer,P_da_est/estrusore,P_da_est/estrusore,P_da_est/estrusore,P_da_est/buffer,P_da_est/estrusore,P_da_est/buffer,P_da_est/estrusore,P_da_est/nav_serv_carr_pieni,P_da_est/estrusore,V_da_pes/catenaria_ing_misc,P_da_est/estrusore,V_per_park/estrusore',\n",
       "  'case:concept:name': 1},\n",
       " {'variant': 'V_da_pes/pesatura,P_per_park/pesatura,P_per_park/cat_usc_pieni,P_per_park/nav_serv_carr_pieni,P_per_park/catenaria_parcheggi,P_da_misc/miscelatore,P_da_est/miscelatore,P_da_est/cat_usc_pieni,P_da_est/nav_serv_carr_pieni,P_da_est/carroponte_1,P_da_est/estrusore,V_per_park/estrusore',\n",
       "  'case:concept:name': 1},\n",
       " {'variant': 'V_da_pes/pesatura,P_per_park/pesatura,P_per_park/cat_usc_pieni,P_per_park/nav_serv_carr_pieni,P_per_park/catenaria_parcheggi,P_da_misc/catenaria_parcheggi,P_da_misc/catenaria_ing_misc,P_per_park/cat_usc_pieni,P_per_park/nav_serv_carr_pieni,P_da_misc/miscelatore,P_da_est/miscelatore,P_da_est/cat_usc_pieni,P_da_est/nav_serv_carr_pieni,P_da_est/carroponte_1,P_da_est/buffer,P_da_est/estrusore,V_per_park/estrusore',\n",
       "  'case:concept:name': 1},\n",
       " {'variant': 'V_da_pes/pesatura,P_per_park/pesatura,P_per_park/cat_usc_pieni,P_per_park/nav_serv_carr_pieni,P_per_park/catenaria_parcheggi,P_da_misc/catenaria_parcheggi,P_da_misc/catenaria_ing_misc,P_da_misc/miscelatore,P_da_est/miscelatore,P_da_est/nav_serv_carr_pieni,P_da_est/carroponte_1,P_da_est/estrusore,V_per_park/estrusore',\n",
       "  'case:concept:name': 1},\n",
       " {'variant': 'V_da_pes/pesatura,P_per_park/pesatura,P_per_park/cat_usc_pieni,P_per_park/nav_serv_carr_pieni,P_per_park/catenaria_parcheggi,P_da_misc/catenaria_ing_misc,P_da_misc/miscelatore,P_da_est/cat_usc_pieni,P_da_est/nav_serv_carr_pieni,P_da_est/carroponte_1,P_da_est/estrusore,V_per_park/estrusore',\n",
       "  'case:concept:name': 1},\n",
       " {'variant': 'V_da_pes/pesatura,P_per_park/pesatura,P_da_misc/pesatura,P_da_misc/miscelatore,P_da_est/miscelatore,P_da_est/nav_serv_carr_pieni,P_da_est/carroponte_1,P_da_est/estrusore,V_per_park/estrusore',\n",
       "  'case:concept:name': 1},\n",
       " {'variant': 'V_da_pes/pesatura,P_per_park/pesatura,P_da_misc/miscelatore,P_da_est/miscelatore,P_da_est/nav_serv_carr_pieni,P_per_park/nav_serv_carr_pieni,P_per_park/carroponte_1,P_per_park/nav_serv_carr_pieni,P_per_park/catenaria_parcheggi,P_recheck/pesatura,P_da_misc/pesatura,P_da_misc/miscelatore,P_da_est/miscelatore,P_da_est/nav_serv_carr_pieni,P_da_est/carroponte_1,P_da_est/estrusore,V_per_park/estrusore',\n",
       "  'case:concept:name': 1},\n",
       " {'variant': 'V_da_pes/pesatura,P_per_park/navetta_serv_misc,P_per_park/cat_usc_pieni,P_per_park/nav_serv_carr_pieni,P_per_park/catenaria_parcheggi,P_recheck/pesatura,P_da_misc/pesatura,P_da_misc/miscelatore,P_da_est/nav_serv_carr_pieni,P_da_est/carroponte_1,P_da_est/estrusore,P_da_est/buffer,P_da_est/estrusore,V_per_park/estrusore',\n",
       "  'case:concept:name': 1},\n",
       " {'variant': 'V_da_pes/pesatura,P_per_park/catenaria_parcheggi,V_da_pes/pesatura,P_da_est/estrusore,V_per_park/catenaria_parcheggi,P_da_est/estrusore,P_da_est/estrusore,P_da_est/estrusore,V_per_park/catenaria_parcheggi,P_da_est/estrusore,V_per_park/pesatura,P_da_est/estrusore,V_per_park/catenaria_parcheggi,V_da_pes/pesatura,P_da_est/estrusore,V_da_pes/pesatura,P_da_est/estrusore,V_da_pes/pesatura,P_da_misc/miscelatore,P_da_est/estrusore,P_da_est/estrusore,P_da_est/estrusore,V_da_pes/estrusore',\n",
       "  'case:concept:name': 1},\n",
       " {'variant': 'V_da_pes/pesatura,P_per_park/cat_usc_pieni,P_per_park/nav_serv_carr_pieni,P_per_park/catenaria_parcheggi,P_recheck/catenaria_ing_misc,P_da_misc/pesatura,P_da_misc/miscelatore,P_da_est/miscelatore,P_da_est/nav_serv_carr_pieni,P_da_est/carroponte_1,P_da_est/estrusore,V_per_park/estrusore',\n",
       "  'case:concept:name': 1},\n",
       " {'variant': 'V_da_pes/pesatura,P_per_park/cat_usc_pieni,P_per_park/nav_serv_carr_pieni,P_per_park/catenaria_parcheggi,P_da_misc/catenaria_ing_misc,P_da_misc/miscelatore,P_da_est/miscelatore,P_da_est/nav_serv_carr_pieni,P_da_est/carroponte_1,P_da_est/estrusore,V_per_park/estrusore',\n",
       "  'case:concept:name': 1},\n",
       " {'variant': 'V_da_pes/pesatura,P_da_misc/pesatura,V_per_park/catenaria_parcheggi,V_da_pes/pesatura,P_da_misc/pesatura,P_da_misc/miscelatore,P_da_est/miscelatore,P_da_est/nav_serv_carr_pieni,P_da_est/carroponte_1,P_da_est/estrusore,V_per_park/estrusore',\n",
       "  'case:concept:name': 1},\n",
       " {'variant': 'V_da_pes/pesatura,P_da_misc/pesatura,V_da_pes/pesatura,P_da_misc/pesatura,P_da_misc/miscelatore,P_da_est/miscelatore,P_da_est/nav_serv_carr_pieni,P_da_est/carroponte_1,P_da_est/estrusore,V_per_park/nav_serv_carr_vuoti,V_per_park/nav_serv_carr_pieni,V_da_pes/catenaria_ing_misc,V_da_pes/pesatura,P_da_misc/pesatura,P_da_misc/miscelatore,P_da_est/miscelatore,P_da_est/nav_serv_carr_pieni,P_da_est/carroponte_1,P_da_est/buffer,P_da_est/estrusore,V_per_park/estrusore',\n",
       "  'case:concept:name': 1},\n",
       " {'variant': 'V_da_pes/pesatura,P_da_misc/pesatura,V_da_pes/pesatura,P_da_misc/miscelatore,P_da_est/nav_serv_carr_pieni,P_da_est/carroponte_1,P_da_est/buffer,P_da_est/estrusore,V_per_park/estrusore',\n",
       "  'case:concept:name': 1},\n",
       " {'variant': 'V_da_pes/pesatura,P_da_misc/pesatura,V_da_pes/pesatura,P_da_misc/miscelatore,P_da_est/miscelatore,P_da_est/nav_serv_carr_pieni,P_da_est/carroponte_1,P_da_est/estrusore,V_per_park/estrusore',\n",
       "  'case:concept:name': 1},\n",
       " {'variant': 'V_da_pes/pesatura,P_da_misc/pesatura,V_da_pes/pesatura,P_da_est/estrusore,V_da_pes/pesatura,P_da_est/estrusore,P_da_est/estrusore,V_da_pes/pesatura,P_da_est/estrusore,V_da_pes/pesatura,P_da_est/estrusore,V_da_pes/pesatura,P_da_est/estrusore,V_da_pes/pesatura,P_da_est/estrusore,V_da_pes/pesatura,P_da_est/estrusore,P_da_est/estrusore,V_per_park/estrusore',\n",
       "  'case:concept:name': 1},\n",
       " {'variant': 'V_da_pes/pesatura,P_da_misc/pesatura,P_per_park/pesatura,P_per_park/cat_usc_pieni,P_per_park/nav_serv_carr_pieni,P_per_park/catenaria_parcheggi,P_da_misc/miscelatore,P_da_est/miscelatore,P_da_est/nav_serv_carr_pieni,P_da_est/carroponte_1,P_da_est/estrusore,V_per_park/estrusore',\n",
       "  'case:concept:name': 1},\n",
       " {'variant': 'V_da_pes/pesatura,P_da_misc/pesatura,P_per_park/catenaria_parcheggi,P_da_misc/catenaria_parcheggi,P_da_misc/catenaria_ing_misc,P_da_misc/miscelatore,P_da_est/miscelatore,P_da_est/cat_usc_pieni,P_da_est/nav_serv_carr_pieni,P_da_est/carroponte_1,P_da_est/estrusore,V_per_park/estrusore',\n",
       "  'case:concept:name': 1},\n",
       " {'variant': 'V_da_pes/pesatura,P_da_misc/pesatura,P_per_park/cat_usc_pieni,V_per_park/catenaria_parcheggi,V_per_park/catenaria_parcheggi,V_da_pes/pesatura,P_per_park/pesatura,P_per_park/cat_usc_pieni,P_per_park/catenaria_parcheggi,P_da_misc/miscelatore,P_da_est/miscelatore,P_da_est/nav_serv_carr_pieni,P_da_est/carroponte_1,P_da_est/estrusore,V_per_park/estrusore',\n",
       "  'case:concept:name': 1},\n",
       " {'variant': 'V_da_pes/pesatura,P_da_misc/pesatura,P_per_park/cat_usc_pieni,P_per_park/nav_serv_carr_pieni,P_per_park/catenaria_parcheggi,P_per_park/catenaria_parcheggi,P_da_misc/miscelatore,P_da_est/miscelatore,P_da_est/cat_usc_pieni,P_da_est/nav_serv_carr_pieni,P_da_est/carroponte_1,P_da_est/estrusore,V_per_park/estrusore',\n",
       "  'case:concept:name': 1},\n",
       " {'variant': 'V_da_pes/pesatura,P_da_misc/pesatura,P_per_park/cat_usc_pieni,P_per_park/nav_serv_carr_pieni,P_per_park/catenaria_parcheggi,P_da_misc/catenaria_ing_misc,P_da_misc/miscelatore,P_da_est/miscelatore,P_da_est/nav_serv_carr_pieni,P_da_est/carroponte_1,P_da_est/estrusore,V_per_park/estrusore',\n",
       "  'case:concept:name': 1},\n",
       " {'variant': 'V_da_pes/pesatura,P_da_misc/pesatura,P_da_misc/navetta_serv_misc,P_per_park/catenaria_parcheggi,P_da_est/cat_usc_pieni,P_da_est/nav_serv_carr_pieni,P_da_est/carroponte_1,P_da_est/estrusore,V_per_park/estrusore',\n",
       "  'case:concept:name': 1},\n",
       " {'variant': 'V_da_pes/pesatura,P_da_misc/pesatura,P_da_misc/navetta_serv_misc,P_da_misc/miscelatore,P_remove/miscelatore,Not_def/fuori_impianto,V_da_pes/pesatura,P_da_misc/pesatura,P_da_misc/miscelatore,P_remove/miscelatore,Not_def/fuori_impianto,V_da_pes/miscelatore,V_da_pes/pesatura,P_da_misc/pesatura,P_da_misc/navetta_serv_misc,P_da_misc/miscelatore,P_per_park/miscelatore,P_per_park/cat_usc_pieni,P_per_park/nav_serv_carr_pieni,P_da_misc/miscelatore,P_remove/miscelatore,P_remove/miscelatore,Not_def/fuori_impianto,V_da_pes/miscelatore,V_da_pes/pesatura,P_da_misc/pesatura,P_da_misc/navetta_serv_misc,P_da_misc/miscelatore,P_remove/miscelatore,Not_def/fuori_impianto,V_da_pes/miscelatore,V_da_pes/pesatura,P_da_misc/pesatura,P_da_misc/navetta_serv_misc,P_da_misc/miscelatore,P_remove/miscelatore,Not_def/fuori_impianto,P_da_est/estrusore,V_per_park/estrusore',\n",
       "  'case:concept:name': 1},\n",
       " {'variant': 'V_da_pes/pesatura,P_da_misc/pesatura,P_da_misc/navetta_serv_misc,P_da_misc/miscelatore,P_per_park/cat_usc_pieni,P_per_park/nav_serv_carr_pieni,P_per_park/catenaria_parcheggi,P_da_est/cat_usc_pieni,P_da_est/nav_serv_carr_pieni,P_da_est/carroponte_1,P_da_est/estrusore,V_per_park/estrusore',\n",
       "  'case:concept:name': 1},\n",
       " {'variant': 'V_da_pes/pesatura,P_da_misc/pesatura,P_da_misc/navetta_serv_misc,P_da_misc/miscelatore,P_da_misc/miscelatore,P_da_misc/miscelatore,P_da_est/miscelatore,P_da_est/cat_usc_pieni,P_da_est/nav_serv_carr_pieni,P_da_est/carroponte_1,P_da_est/estrusore,V_per_park/estrusore',\n",
       "  'case:concept:name': 1},\n",
       " {'variant': 'V_da_pes/pesatura,P_da_misc/pesatura,P_da_misc/navetta_serv_misc,P_da_misc/miscelatore,P_da_est/nav_serv_carr_pieni,P_da_est/carroponte_1,P_da_est/buffer,P_da_est/estrusore,V_per_park/estrusore',\n",
       "  'case:concept:name': 1},\n",
       " {'variant': 'V_da_pes/pesatura,P_da_misc/pesatura,P_da_misc/navetta_serv_misc,P_da_misc/miscelatore,P_da_est/miscelatore,P_da_est/nav_serv_carr_pieni,P_da_est/carroponte_1,P_da_est/buffer,P_da_est/estrusore,V_da_pes/nav_serv_carr_pieni,V_da_pes/catenaria_ing_misc,V_da_pes/pesatura,P_da_misc/pesatura,P_da_misc/miscelatore,P_da_est/miscelatore,P_da_est/cat_usc_pieni,P_da_est/nav_serv_carr_pieni,P_da_est/carroponte_1,P_da_est/buffer,P_da_est/estrusore,V_per_park/estrusore',\n",
       "  'case:concept:name': 1},\n",
       " {'variant': 'V_da_pes/pesatura,P_da_misc/pesatura,P_da_misc/navetta_serv_misc,P_da_misc/miscelatore,P_da_est/miscelatore,P_da_est/nav_serv_carr_pieni,P_da_est/carroponte_1,P_da_est/buffer,P_da_est/estrusore,V_da_pes/estrusore',\n",
       "  'case:concept:name': 1},\n",
       " {'variant': 'V_da_pes/pesatura,P_da_misc/pesatura,P_da_misc/navetta_serv_misc,P_da_misc/miscelatore,P_da_est/miscelatore,P_da_est/nav_serv_carr_pieni,P_da_est/carroponte_1,P_da_est/buffer,P_da_est/carroponte_2,P_da_est/estrusore,V_per_park/estrusore',\n",
       "  'case:concept:name': 1},\n",
       " {'variant': 'V_da_pes/pesatura,P_da_misc/pesatura,P_da_misc/navetta_serv_misc,P_da_misc/miscelatore,P_da_est/miscelatore,P_da_est/cat_usc_pieni,P_da_est/nav_serv_carr_pieni,P_da_est/carroponte_1,P_da_est/estrusore,V_per_park/catenaria_parcheggi,V_da_pes/catenaria_ing_misc,V_da_pes/pesatura,P_da_misc/miscelatore,P_da_est/miscelatore,P_da_est/cat_usc_pieni,P_da_est/nav_serv_carr_pieni,P_da_est/carroponte_1,P_da_est/estrusore,V_per_park/estrusore',\n",
       "  'case:concept:name': 1},\n",
       " {'variant': 'V_da_pes/pesatura,P_da_misc/pesatura,P_da_misc/navetta_serv_misc,P_da_misc/miscelatore,P_da_est/miscelatore,P_da_est/cat_usc_pieni,P_da_est/nav_serv_carr_pieni,P_da_est/carroponte_1,P_da_est/estrusore,V_da_pes/estrusore',\n",
       "  'case:concept:name': 1},\n",
       " {'variant': 'V_da_pes/pesatura,P_da_misc/pesatura,P_da_misc/navetta_serv_misc,P_da_misc/miscelatore,P_da_est/miscelatore,P_da_est/cat_usc_pieni,P_da_est/nav_serv_carr_pieni,P_da_est/carroponte_1,P_da_est/buffer,P_da_est/estrusore,V_per_park/carroponte_1,V_per_park/catenaria_parcheggi,V_da_pes/catenaria_ing_misc,V_da_pes/pesatura,P_da_misc/pesatura,P_da_misc/miscelatore,P_da_est/nav_serv_carr_pieni,P_da_est/carroponte_1,P_da_est/buffer,P_da_est/estrusore,V_per_park/estrusore',\n",
       "  'case:concept:name': 1},\n",
       " {'variant': 'V_da_pes/pesatura,P_da_misc/pesatura,P_da_misc/navetta_serv_misc,P_da_misc/miscelatore,P_da_est/miscelatore,P_da_est/carroponte_1,P_da_est/estrusore,V_per_park/estrusore',\n",
       "  'case:concept:name': 1},\n",
       " {'variant': 'V_da_pes/pesatura,P_da_misc/pesatura,P_da_misc/navetta_serv_misc,P_da_misc/miscelatore,P_da_est/cat_usc_pieni,P_da_est/nav_serv_carr_pieni,P_da_est/carroponte_1,P_da_est/estrusore,V_da_pes/estrusore',\n",
       "  'case:concept:name': 1},\n",
       " {'variant': 'V_da_pes/pesatura,P_da_misc/pesatura,P_da_misc/navetta_serv_misc,P_da_misc/miscelatore,P_da_est/cat_usc_pieni,P_da_est/nav_serv_carr_pieni,P_da_est/carroponte_1,P_da_est/buffer,P_da_est/estrusore,V_per_park/estrusore',\n",
       "  'case:concept:name': 1},\n",
       " {'variant': 'V_da_pes/pesatura,P_da_misc/pesatura,P_da_misc/navetta_serv_misc,P_da_misc/miscelatore,P_da_est/cat_usc_pieni,P_da_est/nav_serv_carr_pieni,P_da_est/carroponte_1,P_da_est/buffer,P_da_est/estrusore,P_da_est/buffer,P_da_est/buffer,P_da_est/estrusore,P_da_est/buffer,P_da_est/estrusore,V_da_pes/pesatura,P_da_est/estrusore,V_per_park/estrusore',\n",
       "  'case:concept:name': 1},\n",
       " {'variant': 'V_da_pes/pesatura,P_da_misc/pesatura,P_da_misc/miscelatore,P_remove/navetta_serv_misc,P_remove/miscelatore,Not_def/fuori_impianto,P_da_est/manuale,P_da_est/carroponte_2,P_da_est/estrusore,V_per_park/estrusore',\n",
       "  'case:concept:name': 1},\n",
       " {'variant': 'V_da_pes/pesatura,P_da_misc/pesatura,P_da_misc/miscelatore,P_remove/miscelatore,P_remove/miscelatore,Not_def/fuori_impianto,P_da_est/manuale,P_da_est/carroponte_2,P_da_est/estrusore,V_per_park/carroponte_2,V_per_park/manuale,Not_def/fuori_impianto,V_da_pes/pesatura,P_da_misc/pesatura,P_da_misc/miscelatore,P_remove/miscelatore,Not_def/fuori_impianto,P_da_est/manuale,P_da_est/carroponte_2,P_da_est/estrusore,V_per_park/estrusore',\n",
       "  'case:concept:name': 1},\n",
       " {'variant': 'V_da_pes/pesatura,P_da_misc/pesatura,P_da_misc/miscelatore,P_remove/miscelatore,P_remove/miscelatore,Not_def/fuori_impianto,P_da_est/carroponte_2,P_da_est/estrusore,V_per_park/estrusore',\n",
       "  'case:concept:name': 1},\n",
       " {'variant': 'V_da_pes/pesatura,P_da_misc/pesatura,P_da_misc/miscelatore,P_remove/miscelatore,P_remove/ing_zona_misc,Not_def/fuori_impianto,P_da_est/manuale,P_da_est/carroponte_2,P_da_est/estrusore,V_per_park/estrusore',\n",
       "  'case:concept:name': 1},\n",
       " {'variant': 'V_da_pes/pesatura,P_da_misc/pesatura,P_da_misc/miscelatore,P_remove/miscelatore,P_recheck/pesatura,P_da_est/pesatura,P_da_est/cat_usc_pieni,P_da_est/nav_serv_carr_pieni,P_da_est/carroponte_1,P_da_est/estrusore,V_per_park/estrusore',\n",
       "  'case:concept:name': 1},\n",
       " {'variant': 'V_da_pes/pesatura,P_da_misc/pesatura,P_da_misc/miscelatore,P_remove/miscelatore,P_da_misc/miscelatore,P_da_est/miscelatore,P_da_est/cat_usc_pieni,P_da_est/nav_serv_carr_pieni,P_da_est/carroponte_1,P_da_est/buffer,P_da_est/estrusore,V_per_park/estrusore',\n",
       "  'case:concept:name': 1},\n",
       " {'variant': 'V_da_pes/pesatura,P_da_misc/pesatura,P_da_misc/miscelatore,P_remove/miscelatore,P_da_est/cat_usc_pieni,P_da_est/nav_serv_carr_pieni,P_da_est/carroponte_1,P_da_est/estrusore,V_per_park/estrusore',\n",
       "  'case:concept:name': 1},\n",
       " {'variant': 'V_da_pes/pesatura,P_da_misc/pesatura,P_da_misc/miscelatore,P_remove/miscelatore,Not_def/manuale,P_da_est/manuale,P_da_est/carroponte_2,P_da_est/buffer,P_da_est/carroponte_2,P_da_est/estrusore,V_per_park/estrusore',\n",
       "  'case:concept:name': 1},\n",
       " {'variant': 'V_da_pes/pesatura,P_da_misc/pesatura,P_da_misc/miscelatore,P_remove/miscelatore,Not_def/fuori_impianto,V_da_pes/pesatura,P_da_misc/pesatura,P_da_misc/miscelatore,P_remove/miscelatore,Not_def/fuori_impianto,V_da_pes/pesatura,P_da_misc/pesatura,P_da_misc/navetta_serv_misc,P_da_misc/miscelatore,P_remove/miscelatore,Not_def/fuori_impianto,V_da_pes/miscelatore,V_da_pes/pesatura,P_da_misc/pesatura,P_da_misc/miscelatore,P_remove/miscelatore,Not_def/fuori_impianto,V_da_pes/pesatura,P_da_misc/pesatura,P_da_misc/miscelatore,P_remove/miscelatore,Not_def/fuori_impianto,V_da_pes/miscelatore,V_da_pes/pesatura,P_da_misc/pesatura,P_da_misc/navetta_serv_misc,P_da_misc/miscelatore,P_remove/miscelatore,Not_def/fuori_impianto,V_da_pes/miscelatore,V_da_pes/pesatura,P_da_misc/pesatura,P_da_misc/miscelatore,P_remove/miscelatore,Not_def/fuori_impianto,V_da_pes/pesatura,P_da_misc/pesatura,P_da_misc/miscelatore,P_remove/miscelatore,Not_def/fuori_impianto,V_da_pes/miscelatore,V_da_pes/pesatura,P_da_misc/pesatura,P_da_misc/miscelatore,P_remove/miscelatore,Not_def/fuori_impianto,V_da_pes/miscelatore,V_da_pes/pesatura,P_da_misc/pesatura,P_da_misc/navetta_serv_misc,P_da_misc/miscelatore,P_remove/miscelatore,Not_def/fuori_impianto,V_da_pes/miscelatore,V_da_pes/pesatura,P_da_misc/pesatura,P_da_misc/miscelatore,P_remove/miscelatore,P_remove/miscelatore,P_remove/ing_zona_misc,Not_def/fuori_impianto,V_da_pes/ing_zona_misc,Not_def/fuori_impianto,V_da_pes/miscelatore,V_da_pes/pesatura,P_da_misc/pesatura,P_da_misc/miscelatore,P_remove/miscelatore,Not_def/fuori_impianto,V_da_pes/pesatura,P_da_misc/pesatura,P_da_misc/miscelatore,P_remove/miscelatore,P_remove/ing_zona_misc,Not_def/fuori_impianto,V_da_pes/pesatura,P_da_misc/pesatura,P_da_misc/miscelatore,P_remove/miscelatore,Not_def/fuori_impianto,V_da_pes/navetta_serv_misc,V_da_pes/pesatura,P_da_misc/pesatura,P_da_misc/miscelatore,P_remove/miscelatore,Not_def/fuori_impianto,V_da_pes/ing_zona_misc,V_da_pes/miscelatore,Not_def/fuori_impianto,P_da_misc/pesatura,P_da_misc/miscelatore,P_remove/miscelatore,Not_def/fuori_impianto,P_da_est/manuale,P_da_est/carroponte_2,P_da_est/estrusore,V_per_park/estrusore',\n",
       "  'case:concept:name': 1},\n",
       " {'variant': 'V_da_pes/pesatura,P_da_misc/pesatura,P_da_misc/miscelatore,P_remove/miscelatore,Not_def/fuori_impianto,P_da_est/manuale,P_da_est/carroponte_2,P_da_est/estrusore,V_per_park/carroponte_2,V_per_park/manuale,V_da_pes/pesatura,P_da_misc/pesatura,P_da_misc/miscelatore,P_remove/miscelatore,Not_def/fuori_impianto,P_da_est/manuale,P_da_est/carroponte_2,P_da_est/estrusore,V_per_park/estrusore',\n",
       "  'case:concept:name': 1},\n",
       " {'variant': 'V_da_pes/pesatura,P_da_misc/pesatura,P_da_misc/miscelatore,P_remove/miscelatore,Not_def/fuori_impianto,P_da_est/manuale,P_da_est/carroponte_2,P_da_est/estrusore,V_per_park/carroponte_2,V_per_park/manuale,Not_def/fuori_impianto,V_da_pes/pesatura,P_da_misc/pesatura,P_per_park/nav_serv_carr_pieni,P_per_park/catenaria_parcheggi,P_da_misc/catenaria_ing_misc,P_da_misc/miscelatore,P_da_est/miscelatore,P_da_est/cat_usc_pieni,P_da_est/nav_serv_carr_pieni,P_da_est/carroponte_1,P_da_est/estrusore,V_per_park/estrusore',\n",
       "  'case:concept:name': 1},\n",
       " {'variant': 'V_da_pes/pesatura,P_da_misc/pesatura,P_da_misc/miscelatore,P_remove/miscelatore,Not_def/fuori_impianto,P_da_est/manuale,P_da_est/carroponte_2,P_da_est/estrusore,V_per_park/carroponte_2,V_per_park/manuale,Not_def/fuori_impianto,V_da_pes/pesatura,P_da_misc/pesatura,P_da_misc/miscelatore,P_remove/miscelatore,P_remove/miscelatore,Not_def/fuori_impianto,P_da_est/manuale,P_da_est/carroponte_2,P_da_est/estrusore,V_per_park/estrusore',\n",
       "  'case:concept:name': 1},\n",
       " {'variant': 'V_da_pes/pesatura,P_da_misc/pesatura,P_da_misc/miscelatore,P_remove/miscelatore,Not_def/fuori_impianto,P_da_est/manuale,P_da_est/carroponte_2,P_da_est/estrusore,V_per_park/carroponte_2,V_per_park/manuale,Not_def/fuori_impianto,V_da_pes/pesatura,P_da_misc/pesatura,P_da_misc/miscelatore,P_remove/miscelatore,Not_def/fuori_impianto,P_da_est/manuale,P_da_est/carroponte_2,P_da_est/estrusore,V_per_park/estrusore',\n",
       "  'case:concept:name': 1},\n",
       " {'variant': 'V_da_pes/pesatura,P_da_misc/pesatura,P_da_misc/miscelatore,P_remove/miscelatore,Not_def/fuori_impianto,P_da_est/manuale,P_da_est/carroponte_2,P_da_est/estrusore,V_per_park/carroponte_2,V_per_park/manuale,Not_def/fuori_impianto,V_da_pes/miscelatore,V_da_pes/pesatura,P_da_misc/pesatura,P_da_misc/miscelatore,P_remove/miscelatore,P_remove/miscelatore,Not_def/fuori_impianto,P_da_est/manuale,P_da_est/carroponte_2,P_da_est/estrusore,V_per_park/estrusore',\n",
       "  'case:concept:name': 1},\n",
       " {'variant': 'V_da_pes/pesatura,P_da_misc/pesatura,P_da_misc/miscelatore,P_remove/miscelatore,Not_def/fuori_impianto,P_da_est/manuale,P_da_est/carroponte_2,P_da_est/estrusore,V_per_park/carroponte_2,V_per_park/manuale,Not_def/fuori_impianto,V_da_pes/miscelatore,V_da_pes/pesatura,P_da_misc/pesatura,P_da_misc/miscelatore,P_remove/miscelatore,Not_def/fuori_impianto,P_da_est/manuale,P_da_est/carroponte_2,P_da_est/estrusore,V_per_park/estrusore',\n",
       "  'case:concept:name': 1},\n",
       " {'variant': 'V_da_pes/pesatura,P_da_misc/pesatura,P_da_misc/miscelatore,P_remove/miscelatore,Not_def/fuori_impianto,P_da_est/manuale,P_da_est/carroponte_2,P_da_est/estrusore,V_per_park/carroponte_2,V_per_park/manuale,Not_def/fuori_impianto,V_da_pes/miscelatore,V_da_pes/pesatura,P_da_misc/pesatura,P_da_misc/miscelatore,P_remove/miscelatore,Not_def/fuori_impianto,P_da_est/manuale,P_da_est/carroponte_2,P_da_est/estrusore,P_remove/miscelatore,Not_def/fuori_impianto,P_da_est/manuale,P_da_est/carroponte_2,P_da_est/estrusore,V_per_park/estrusore',\n",
       "  'case:concept:name': 1},\n",
       " {'variant': 'V_da_pes/pesatura,P_da_misc/pesatura,P_da_misc/miscelatore,P_remove/miscelatore,Not_def/fuori_impianto,P_da_est/manuale,P_da_est/carroponte_2,P_da_est/estrusore,V_per_park/carroponte_2,Not_def/fuori_impianto,V_da_pes/pesatura,P_da_misc/pesatura,P_da_misc/miscelatore,P_remove/miscelatore,Not_def/fuori_impianto,P_da_est/manuale,P_da_est/carroponte_2,P_da_est/estrusore,V_per_park/estrusore',\n",
       "  'case:concept:name': 1},\n",
       " {'variant': 'V_da_pes/pesatura,P_da_misc/pesatura,P_da_misc/miscelatore,P_remove/miscelatore,Not_def/fuori_impianto,P_da_est/manuale,P_da_est/carroponte_2,P_da_est/estrusore,V_da_pes/carroponte_2,V_da_pes/manuale,Not_def/fuori_impianto,V_da_pes/miscelatore,V_da_pes/pesatura,Not_def/fuori_impianto,P_da_est/manuale,P_da_est/carroponte_2,P_da_est/estrusore,V_per_park/estrusore',\n",
       "  'case:concept:name': 1},\n",
       " {'variant': 'V_da_pes/pesatura,P_da_misc/pesatura,P_da_misc/miscelatore,P_remove/miscelatore,Not_def/fuori_impianto,P_da_est/manuale,P_da_est/carroponte_2,P_da_est/buffer,P_da_est/estrusore,V_per_park/estrusore',\n",
       "  'case:concept:name': 1},\n",
       " {'variant': 'V_da_pes/pesatura,P_da_misc/pesatura,P_da_misc/miscelatore,P_remove/miscelatore,Not_def/fuori_impianto,P_da_est/carroponte_2,P_da_est/estrusore,V_per_park/estrusore',\n",
       "  'case:concept:name': 1},\n",
       " {'variant': 'V_da_pes/pesatura,P_da_misc/pesatura,P_da_misc/miscelatore,P_remove/miscelatore,Not_def/fuori_impianto,P_da_est/carroponte_2,P_da_est/estrusore,V_per_park/carroponte_2,V_per_park/manuale,Not_def/fuori_impianto,V_da_pes/miscelatore,Not_def/fuori_impianto,V_da_pes/miscelatore,V_da_pes/pesatura,P_da_misc/pesatura,P_da_misc/miscelatore,P_remove/miscelatore,Not_def/fuori_impianto,P_da_est/manuale,P_da_est/carroponte_2,P_da_est/estrusore,V_per_park/estrusore',\n",
       "  'case:concept:name': 1},\n",
       " {'variant': 'V_da_pes/pesatura,P_da_misc/pesatura,P_da_misc/miscelatore,P_remove/miscelatore,Not_def/fuori_impianto,P_da_est/carroponte_2,P_da_est/estrusore,V_per_park/carroponte_2,Not_def/fuori_impianto,V_da_pes/pesatura,P_da_misc/pesatura,P_da_misc/miscelatore,P_remove/miscelatore,P_remove/miscelatore,Not_def/fuori_impianto,P_da_est/manuale,P_da_est/carroponte_2,P_da_est/estrusore,V_per_park/estrusore',\n",
       "  'case:concept:name': 1},\n",
       " {'variant': 'V_da_pes/pesatura,P_da_misc/pesatura,P_da_misc/miscelatore,P_remove/miscelatore,Not_def/fuori_impianto,Not_def/fuori_impianto,P_da_est/estrusore,V_da_pes/pesatura,Not_def/fuori_impianto,P_da_est/estrusore,V_per_park/carroponte_2,Not_def/fuori_impianto,P_da_est/estrusore,V_da_pes/pesatura,Not_def/fuori_impianto,P_da_est/estrusore,Not_def/fuori_impianto,P_da_est/estrusore,V_da_pes/pesatura,Not_def/fuori_impianto,P_da_est/estrusore,Not_def/fuori_impianto,Not_def/fuori_impianto,P_da_est/estrusore,V_da_pes/pesatura,P_remove/miscelatore,P_da_est/estrusore,Not_def/fuori_impianto,P_da_est/estrusore,V_da_pes/miscelatore,V_da_pes/pesatura,P_da_est/estrusore,V_da_pes/pesatura,P_remove/miscelatore,Not_def/fuori_impianto,P_da_est/estrusore,V_per_park/carroponte_2,Not_def/fuori_impianto,P_da_est/estrusore,V_per_park/carroponte_2,P_remove/miscelatore,P_da_est/estrusore,Not_def/fuori_impianto,P_da_est/estrusore,Not_def/fuori_impianto,P_da_est/estrusore,V_per_park/carroponte_2,V_da_pes/pesatura,P_remove/miscelatore,Not_def/fuori_impianto,P_da_est/estrusore,Not_def/fuori_impianto,P_da_est/estrusore,Not_def/fuori_impianto,P_da_est/estrusore,Not_def/fuori_impianto,P_da_est/estrusore,V_per_park/estrusore',\n",
       "  'case:concept:name': 1},\n",
       " {'variant': 'V_da_pes/pesatura,P_da_misc/pesatura,P_da_misc/miscelatore,P_recheck/pesatura,P_da_misc/pesatura,P_da_misc/miscelatore,P_da_est/miscelatore,P_da_est/cat_usc_pieni,P_da_est/nav_serv_carr_pieni,P_da_est/carroponte_1,P_da_est/estrusore,V_per_park/estrusore',\n",
       "  'case:concept:name': 1},\n",
       " {'variant': 'V_da_pes/pesatura,P_da_misc/pesatura,P_da_misc/miscelatore,P_recheck/miscelatore,P_recheck/pesatura,V_da_pes/pesatura,P_da_misc/pesatura,P_da_misc/miscelatore,P_da_est/miscelatore,P_da_est/cat_usc_pieni,P_da_est/nav_serv_carr_pieni,P_da_est/carroponte_1,P_da_est/estrusore,V_per_park/estrusore',\n",
       "  'case:concept:name': 1},\n",
       " {'variant': 'V_da_pes/pesatura,P_da_misc/pesatura,P_da_misc/miscelatore,P_recheck/miscelatore,P_recheck/pesatura,P_da_misc/pesatura,P_da_misc/miscelatore,P_da_misc/miscelatore,P_da_est/miscelatore,P_da_est/nav_serv_carr_pieni,P_da_est/carroponte_1,P_da_est/estrusore,V_per_park/estrusore',\n",
       "  'case:concept:name': 1},\n",
       " {'variant': 'V_da_pes/pesatura,P_da_misc/pesatura,P_da_misc/miscelatore,P_recheck/miscelatore,P_recheck/pesatura,P_da_misc/pesatura,P_da_misc/miscelatore,P_da_est/nav_serv_carr_pieni,P_da_est/carroponte_1,P_da_est/estrusore,V_per_park/estrusore',\n",
       "  'case:concept:name': 1},\n",
       " {'variant': 'V_da_pes/pesatura,P_da_misc/pesatura,P_da_misc/miscelatore,P_recheck/miscelatore,P_recheck/pesatura,P_da_misc/pesatura,P_da_misc/miscelatore,P_da_est/miscelatore,P_da_est/nav_serv_carr_pieni,P_da_est/carroponte_1,P_da_est/estrusore,V_per_park/estrusore',\n",
       "  'case:concept:name': 1},\n",
       " {'variant': 'V_da_pes/pesatura,P_da_misc/pesatura,P_da_misc/miscelatore,P_recheck/miscelatore,P_recheck/pesatura,P_da_misc/pesatura,P_da_misc/miscelatore,P_da_est/miscelatore,P_da_est/nav_serv_carr_pieni,P_da_est/carroponte_1,P_da_est/estrusore,V_da_pes/estrusore',\n",
       "  'case:concept:name': 1},\n",
       " {'variant': 'V_da_pes/pesatura,P_da_misc/pesatura,P_da_misc/miscelatore,P_recheck/miscelatore,P_recheck/pesatura,P_da_misc/pesatura,P_da_misc/miscelatore,P_da_est/miscelatore,P_da_est/cat_usc_pieni,P_da_est/nav_serv_carr_pieni,P_da_est/carroponte_1,P_da_est/estrusore,V_per_park/estrusore',\n",
       "  'case:concept:name': 1},\n",
       " {'variant': 'V_da_pes/pesatura,P_da_misc/pesatura,P_da_misc/miscelatore,P_recheck/miscelatore,P_recheck/pesatura,P_da_misc/pesatura,P_da_misc/miscelatore,P_da_est/miscelatore,P_da_est/cat_usc_pieni,P_da_est/nav_serv_carr_pieni,P_da_est/carroponte_1,P_da_est/estrusore,V_per_park/catenaria_parcheggi,V_da_pes/pesatura,V_da_pes/pesatura,P_da_misc/pesatura,P_da_misc/miscelatore,P_da_est/miscelatore,P_da_est/cat_usc_pieni,P_da_est/nav_serv_carr_pieni,P_da_est/carroponte_1,P_da_est/estrusore,V_per_park/estrusore',\n",
       "  'case:concept:name': 1},\n",
       " {'variant': 'V_da_pes/pesatura,P_da_misc/pesatura,P_da_misc/miscelatore,P_recheck/miscelatore,P_da_misc/miscelatore,P_da_est/miscelatore,P_da_est/nav_serv_carr_pieni,P_da_est/carroponte_1,P_da_est/estrusore,V_per_park/estrusore',\n",
       "  'case:concept:name': 1},\n",
       " {'variant': 'V_da_pes/pesatura,P_da_misc/pesatura,P_da_misc/miscelatore,P_recheck/miscelatore,P_da_est/cat_usc_pieni,P_da_est/nav_serv_carr_pieni,P_da_est/carroponte_1,P_da_est/estrusore,V_per_park/estrusore',\n",
       "  'case:concept:name': 1},\n",
       " {'variant': 'V_da_pes/pesatura,P_da_misc/pesatura,P_da_misc/miscelatore,P_per_park/nav_serv_carr_pieni,P_per_park/catenaria_parcheggi,P_da_est/catenaria_parcheggi,P_da_est/catenaria_ing_misc,P_da_est/cat_usc_pieni,P_da_est/nav_serv_carr_pieni,P_da_est/carroponte_1,P_da_est/buffer,P_da_est/estrusore,V_per_park/estrusore',\n",
       "  'case:concept:name': 1},\n",
       " {'variant': 'V_da_pes/pesatura,P_da_misc/pesatura,P_da_misc/miscelatore,P_per_park/nav_serv_carr_pieni,P_per_park/catenaria_parcheggi,P_da_est/cat_usc_pieni,P_da_est/nav_serv_carr_pieni,P_da_est/carroponte_1,P_da_est/estrusore,V_per_park/estrusore',\n",
       "  'case:concept:name': 1},\n",
       " {'variant': 'V_da_pes/pesatura,P_da_misc/pesatura,P_da_misc/miscelatore,P_per_park/miscelatore,P_per_park/nav_serv_carr_pieni,P_per_park/catenaria_parcheggi,P_per_park/catenaria_parcheggi,P_da_est/nav_serv_carr_pieni,P_da_est/carroponte_1,P_da_est/estrusore,V_per_park/estrusore',\n",
       "  'case:concept:name': 1},\n",
       " {'variant': 'V_da_pes/pesatura,P_da_misc/pesatura,P_da_misc/miscelatore,P_per_park/miscelatore,P_per_park/nav_serv_carr_pieni,P_per_park/catenaria_parcheggi,P_per_park/catenaria_parcheggi,P_da_est/catenaria_ing_misc,P_da_est/cat_usc_pieni,P_da_est/nav_serv_carr_pieni,P_da_est/carroponte_1,P_da_est/estrusore,V_per_park/estrusore',\n",
       "  'case:concept:name': 1},\n",
       " {'variant': 'V_da_pes/pesatura,P_da_misc/pesatura,P_da_misc/miscelatore,P_per_park/miscelatore,P_per_park/cat_usc_pieni,P_per_park/nav_serv_carr_pieni,P_per_park/catenaria_parcheggi,P_recheck/pesatura,P_da_est/pesatura,P_da_est/nav_serv_carr_pieni,P_da_est/carroponte_1,P_da_est/estrusore,V_da_pes/estrusore',\n",
       "  'case:concept:name': 1},\n",
       " {'variant': 'V_da_pes/pesatura,P_da_misc/pesatura,P_da_misc/miscelatore,P_per_park/miscelatore,P_per_park/cat_usc_pieni,P_per_park/nav_serv_carr_pieni,P_per_park/catenaria_parcheggi,P_da_est/nav_serv_carr_pieni,P_da_est/carroponte_1,P_da_est/estrusore,V_per_park/estrusore',\n",
       "  'case:concept:name': 1},\n",
       " {'variant': 'V_da_pes/pesatura,P_da_misc/pesatura,P_da_misc/miscelatore,P_per_park/miscelatore,P_per_park/cat_usc_pieni,P_per_park/catenaria_parcheggi,P_da_est/nav_serv_carr_pieni,P_da_est/carroponte_1,P_da_est/estrusore,P_per_park/estrusore,P_per_park/carroponte_1,P_per_park/nav_serv_carr_pieni,V_da_pes/pesatura,P_da_misc/pesatura,P_da_misc/miscelatore,P_da_est/miscelatore,P_da_est/nav_serv_carr_pieni,P_da_est/carroponte_1,P_da_est/estrusore,P_per_park/estrusore,P_per_park/carroponte_1,P_per_park/catenaria_parcheggi,P_recheck/catenaria_ing_misc,P_recheck/navetta_serv_misc,P_recheck/pesatura,P_da_misc/pesatura,P_da_misc/miscelatore,P_per_park/cat_usc_pieni,P_per_park/nav_serv_carr_pieni,P_per_park/catenaria_parcheggi,P_da_est/nav_serv_carr_pieni,P_da_est/carroponte_1,P_da_est/estrusore,V_per_park/estrusore',\n",
       "  'case:concept:name': 1},\n",
       " {'variant': 'V_da_pes/pesatura,P_da_misc/pesatura,P_da_misc/miscelatore,P_per_park/miscelatore,P_per_park/cat_usc_pieni,P_da_est/nav_serv_carr_pieni,P_da_est/carroponte_1,P_da_est/estrusore,V_per_park/estrusore',\n",
       "  'case:concept:name': 1},\n",
       " {'variant': 'V_da_pes/pesatura,P_da_misc/pesatura,P_da_misc/miscelatore,P_per_park/miscelatore,P_per_park/cat_usc_pieni,P_da_est/catenaria_parcheggi,P_da_est/cat_usc_pieni,P_da_est/nav_serv_carr_pieni,P_da_est/carroponte_1,P_da_est/buffer,P_da_est/estrusore,V_per_park/estrusore',\n",
       "  'case:concept:name': 1},\n",
       " {'variant': 'V_da_pes/pesatura,P_da_misc/pesatura,P_da_misc/miscelatore,P_per_park/miscelatore,P_da_misc/miscelatore,P_da_misc/miscelatore,P_da_est/miscelatore,P_da_est/nav_serv_carr_pieni,P_da_est/carroponte_1,P_da_est/estrusore,V_per_park/estrusore',\n",
       "  'case:concept:name': 1},\n",
       " {'variant': 'V_da_pes/pesatura,P_da_misc/pesatura,P_da_misc/miscelatore,P_da_misc/navetta_serv_misc,P_da_misc/miscelatore,P_da_est/miscelatore,P_da_est/cat_usc_pieni,P_da_est/nav_serv_carr_pieni,P_da_est/carroponte_1,P_da_est/estrusore,V_per_park/estrusore',\n",
       "  'case:concept:name': 1},\n",
       " {'variant': 'V_da_pes/pesatura,P_da_misc/pesatura,P_da_misc/miscelatore,P_da_misc/miscelatore,P_da_est/miscelatore,P_da_est/nav_serv_carr_pieni,P_da_est/carroponte_1,P_da_est/buffer,P_da_est/estrusore,V_per_park/estrusore',\n",
       "  'case:concept:name': 1},\n",
       " {'variant': 'V_da_pes/pesatura,P_da_misc/pesatura,P_da_misc/miscelatore,P_da_misc/miscelatore,P_da_est/miscelatore,P_da_est/nav_serv_carr_pieni,P_da_est/carroponte_1,P_da_est/buffer,P_da_est/carroponte_2,P_da_est/estrusore,V_per_park/estrusore',\n",
       "  'case:concept:name': 1},\n",
       " {'variant': 'V_da_pes/pesatura,P_da_misc/pesatura,P_da_misc/miscelatore,P_da_est/nav_serv_carr_pieni,P_da_est/carroponte_1,P_da_est/estrusore,V_da_pes/estrusore',\n",
       "  'case:concept:name': 1},\n",
       " {'variant': 'V_da_pes/pesatura,P_da_misc/pesatura,P_da_misc/miscelatore,P_da_est/nav_serv_carr_pieni,P_da_est/carroponte_1,P_da_est/estrusore,P_da_est/estrusore,P_da_est/estrusore,P_da_misc/miscelatore,P_da_est/estrusore,V_per_park/estrusore',\n",
       "  'case:concept:name': 1},\n",
       " {'variant': 'V_da_pes/pesatura,P_da_misc/pesatura,P_da_misc/miscelatore,P_da_est/nav_serv_carr_pieni,P_da_est/carroponte_1,P_da_est/buffer,V_da_pes/buffer,V_da_pes/carroponte_1,V_da_pes/nav_serv_carr_vuoti,V_da_pes/pesatura,P_da_est/pesatura,P_per_park/cat_usc_pieni,P_per_park/nav_serv_carr_pieni,P_per_park/catenaria_parcheggi,P_recheck/pesatura,P_da_misc/pesatura,P_da_misc/miscelatore,P_da_est/miscelatore,P_da_est/nav_serv_carr_pieni,P_da_est/carroponte_1,P_da_est/estrusore,V_per_park/estrusore',\n",
       "  'case:concept:name': 1},\n",
       " {'variant': 'V_da_pes/pesatura,P_da_misc/pesatura,P_da_misc/miscelatore,P_da_est/miscelatore,V_per_park/catenaria_parcheggi,V_da_pes/pesatura,P_da_est/estrusore,V_per_park/catenaria_parcheggi,V_da_pes/pesatura,V_da_pes/pesatura,P_da_est/estrusore,V_per_park/catenaria_parcheggi,V_da_pes/pesatura,P_da_misc/pesatura,P_da_est/estrusore,V_per_park/catenaria_parcheggi,V_da_pes/pesatura,P_da_est/estrusore,P_da_est/estrusore,P_da_est/estrusore,V_da_pes/pesatura,P_da_est/estrusore,V_da_pes/pesatura,P_da_est/estrusore,P_da_est/estrusore,V_per_park/catenaria_parcheggi,V_da_pes/pesatura,P_da_est/estrusore,V_per_park/catenaria_parcheggi,V_per_park/pesatura,V_da_pes/pesatura,P_per_park/catenaria_parcheggi,P_da_est/estrusore,V_da_pes/pesatura,P_da_est/estrusore,V_per_park/estrusore',\n",
       "  'case:concept:name': 1},\n",
       " {'variant': 'V_da_pes/pesatura,P_da_misc/pesatura,P_da_misc/miscelatore,P_da_est/miscelatore,V_da_pes/navetta_serv_misc,P_per_park/cat_usc_pieni,P_per_park/nav_serv_carr_pieni,P_per_park/cat_usc_pieni,P_per_park/catenaria_parcheggi,P_da_est/catenaria_parcheggi,P_da_est/catenaria_ing_misc,P_da_est/cat_usc_pieni,P_da_est/nav_serv_carr_pieni,P_da_est/carroponte_1,P_da_est/buffer,P_da_est/estrusore,V_da_pes/estrusore',\n",
       "  'case:concept:name': 1},\n",
       " {'variant': 'V_da_pes/pesatura,P_da_misc/pesatura,P_da_misc/miscelatore,P_da_est/miscelatore,V_da_pes/catenaria_ing_misc,V_da_pes/pesatura,P_da_misc/pesatura,P_da_misc/miscelatore,P_da_est/miscelatore,P_da_est/cat_usc_pieni,P_da_est/nav_serv_carr_pieni,P_da_est/carroponte_1,P_da_est/estrusore,V_per_park/estrusore',\n",
       "  'case:concept:name': 1},\n",
       " {'variant': 'V_da_pes/pesatura,P_da_misc/pesatura,P_da_misc/miscelatore,P_da_est/miscelatore,P_recheck/pesatura,P_da_misc/miscelatore,P_da_est/miscelatore,P_da_est/nav_serv_carr_pieni,P_da_est/carroponte_1,V_da_pes/carroponte_1,V_da_pes/nav_serv_carr_vuoti,V_da_pes/nav_serv_carr_pieni,V_da_pes/pesatura,P_remove/pesatura,P_da_misc/pesatura,P_da_misc/navetta_serv_misc,P_da_misc/miscelatore,P_per_park/cat_usc_pieni,P_per_park/nav_serv_carr_pieni,P_per_park/catenaria_parcheggi,P_da_est/cat_usc_pieni,P_da_est/nav_serv_carr_pieni,P_da_est/carroponte_1,P_da_est/estrusore,V_per_park/estrusore',\n",
       "  'case:concept:name': 1},\n",
       " {'variant': 'V_da_pes/pesatura,P_da_misc/pesatura,P_da_misc/miscelatore,P_da_est/miscelatore,P_per_park/nav_serv_carr_pieni,P_per_park/catenaria_parcheggi,P_recheck/pesatura,P_da_misc/pesatura,P_da_misc/miscelatore,P_da_est/miscelatore,P_da_est/nav_serv_carr_pieni,P_da_est/carroponte_1,P_da_est/estrusore,V_per_park/estrusore',\n",
       "  'case:concept:name': 1},\n",
       " {'variant': 'V_da_pes/pesatura,P_da_misc/pesatura,P_da_misc/miscelatore,P_da_est/miscelatore,P_per_park/nav_serv_carr_pieni,P_per_park/catenaria_parcheggi,P_recheck/catenaria_ing_misc,P_recheck/pesatura,V_per_park/pesatura,V_da_pes/pesatura,P_da_misc/pesatura,P_da_misc/miscelatore,P_da_est/miscelatore,P_per_park/cat_usc_pieni,P_per_park/nav_serv_carr_pieni,P_per_park/catenaria_parcheggi,P_da_est/catenaria_ing_misc,P_da_est/nav_serv_carr_pieni,P_da_est/carroponte_1,P_da_est/estrusore,V_per_park/carroponte_1,V_per_park/nav_serv_carr_pieni,V_per_park/catenaria_parcheggi,V_da_pes/pesatura,P_da_misc/pesatura,P_da_misc/miscelatore,P_da_est/miscelatore,P_da_est/nav_serv_carr_pieni,P_da_est/carroponte_1,P_da_est/estrusore,V_per_park/estrusore',\n",
       "  'case:concept:name': 1},\n",
       " {'variant': 'V_da_pes/pesatura,P_da_misc/pesatura,P_da_misc/miscelatore,P_da_est/miscelatore,P_per_park/catenaria_parcheggi,P_da_est/buffer,P_da_est/estrusore,V_per_park/estrusore',\n",
       "  'case:concept:name': 1},\n",
       " {'variant': 'V_da_pes/pesatura,P_da_misc/pesatura,P_da_misc/miscelatore,P_da_est/miscelatore,P_per_park/cat_usc_pieni,P_per_park/nav_serv_carr_pieni,P_per_park/catenaria_parcheggi,P_da_est/catenaria_ing_misc,P_da_est/cat_usc_pieni,P_da_est/nav_serv_carr_pieni,P_da_est/carroponte_1,P_da_est/estrusore,V_per_park/estrusore',\n",
       "  'case:concept:name': 1},\n",
       " {'variant': 'V_da_pes/pesatura,P_da_misc/pesatura,P_da_misc/miscelatore,P_da_est/miscelatore,P_per_park/cat_usc_pieni,P_per_park/nav_serv_carr_pieni,P_da_est/cat_usc_pieni,P_da_est/nav_serv_carr_pieni,P_da_est/carroponte_1,P_da_est/estrusore,V_per_park/estrusore',\n",
       "  'case:concept:name': 1},\n",
       " {'variant': 'V_da_pes/pesatura,P_da_misc/pesatura,P_da_misc/miscelatore,P_da_est/miscelatore,P_da_est/navetta_serv_misc,P_da_est/nav_serv_carr_vuoti,P_da_est/nav_serv_carr_pieni,P_da_est/carroponte_1,P_da_est/estrusore,V_per_park/estrusore',\n",
       "  'case:concept:name': 1},\n",
       " {'variant': 'V_da_pes/pesatura,P_da_misc/pesatura,P_da_misc/miscelatore,P_da_est/miscelatore,P_da_est/navetta_serv_misc,P_da_est/nav_serv_carr_pieni,P_da_est/carroponte_1,P_da_est/buffer,P_da_est/estrusore,V_per_park/estrusore',\n",
       "  'case:concept:name': 1},\n",
       " {'variant': 'V_da_pes/pesatura,P_da_misc/pesatura,P_da_misc/miscelatore,P_da_est/miscelatore,P_da_est/navetta_serv_misc,P_da_est/cat_usc_pieni,P_da_est/nav_serv_carr_pieni,P_da_est/carroponte_1,P_da_est/estrusore,V_da_pes/estrusore',\n",
       "  'case:concept:name': 1},\n",
       " {'variant': 'V_da_pes/pesatura,P_da_misc/pesatura,P_da_misc/miscelatore,P_da_est/miscelatore,P_da_est/navetta_serv_misc,P_da_est/cat_usc_pieni,P_da_est/nav_serv_carr_pieni,P_da_est/carroponte_1,P_da_est/buffer,P_da_est/estrusore,V_per_park/estrusore',\n",
       "  'case:concept:name': 1},\n",
       " {'variant': 'V_da_pes/pesatura,P_da_misc/pesatura,P_da_misc/miscelatore,P_da_est/miscelatore,P_da_est/nav_serv_carr_pieni,V_per_park/catenaria_parcheggi,V_da_pes/pesatura,P_da_misc/pesatura,P_da_misc/miscelatore,P_da_est/estrusore,V_per_park/estrusore',\n",
       "  'case:concept:name': 1},\n",
       " {'variant': 'V_da_pes/pesatura,P_da_misc/pesatura,P_da_misc/miscelatore,P_da_est/miscelatore,P_da_est/nav_serv_carr_pieni,P_da_est/estrusore,V_per_park/catenaria_parcheggi,V_da_pes/pesatura,V_da_pes/pesatura,P_da_est/estrusore,V_da_pes/pesatura,P_da_misc/pesatura,P_da_est/cat_usc_pieni,P_da_est/estrusore,P_da_est/estrusore,P_da_misc/miscelatore,P_da_est/miscelatore,P_da_est/nav_serv_carr_pieni,P_da_est/carroponte_1,P_da_est/estrusore,V_per_park/estrusore',\n",
       "  'case:concept:name': 1},\n",
       " {'variant': 'V_da_pes/pesatura,P_da_misc/pesatura,P_da_misc/miscelatore,P_da_est/miscelatore,P_da_est/nav_serv_carr_pieni,P_da_est/carroponte_1,V_da_pes/estrusore',\n",
       "  'case:concept:name': 1},\n",
       " {'variant': 'V_da_pes/pesatura,P_da_misc/pesatura,P_da_misc/miscelatore,P_da_est/miscelatore,P_da_est/nav_serv_carr_pieni,P_da_est/carroponte_1,P_da_est/estrusore,V_per_park/catenaria_parcheggi,V_da_pes/pesatura,V_per_park/pesatura,P_per_park/pesatura,P_per_park/cat_usc_pieni,P_per_park/nav_serv_carr_pieni,P_per_park/catenaria_parcheggi,P_da_misc/catenaria_ing_misc,P_da_misc/miscelatore,P_da_est/miscelatore,P_da_est/cat_usc_pieni,P_da_est/nav_serv_carr_pieni,P_da_est/carroponte_1,P_da_est/estrusore,V_per_park/estrusore',\n",
       "  'case:concept:name': 1},\n",
       " {'variant': 'V_da_pes/pesatura,P_da_misc/pesatura,P_da_misc/miscelatore,P_da_est/miscelatore,P_da_est/nav_serv_carr_pieni,P_da_est/carroponte_1,P_da_est/estrusore,V_per_park/catenaria_parcheggi,P_per_park/catenaria_parcheggi,P_recheck/catenaria_parcheggi,P_recheck/pesatura,V_per_park/pesatura,V_per_park/cat_usc_pieni,V_per_park/nav_serv_carr_pieni,V_per_park/catenaria_parcheggi,V_per_park/catenaria_parcheggi,V_remove/catenaria_parcheggi,V_remove/catenaria_ing_misc,V_remove/miscelatore,Not_def/fuori_impianto,V_per_park/catenaria_parcheggi,V_da_pes/catenaria_parcheggi,V_da_pes/catenaria_ing_misc,V_da_pes/pesatura,P_da_misc/pesatura,P_da_misc/miscelatore,P_da_est/miscelatore,P_da_est/nav_serv_carr_pieni,P_da_est/carroponte_1,P_da_est/estrusore,V_per_park/estrusore',\n",
       "  'case:concept:name': 1},\n",
       " {'variant': 'V_da_pes/pesatura,P_da_misc/pesatura,P_da_misc/miscelatore,P_da_est/miscelatore,P_da_est/nav_serv_carr_pieni,P_da_est/carroponte_1,P_da_est/estrusore,V_per_park/carroponte_1,V_per_park/nav_serv_carr_pieni,V_per_park/catenaria_parcheggi,V_da_pes/catenaria_ing_misc,V_da_pes/pesatura,P_da_misc/pesatura,P_da_misc/miscelatore,P_da_est/miscelatore,P_da_est/cat_usc_pieni,P_da_est/nav_serv_carr_pieni,P_da_est/carroponte_1,P_da_est/estrusore,V_per_park/estrusore',\n",
       "  'case:concept:name': 1},\n",
       " {'variant': 'V_da_pes/pesatura,P_da_misc/pesatura,P_da_misc/miscelatore,P_da_est/miscelatore,P_da_est/nav_serv_carr_pieni,P_da_est/carroponte_1,P_da_est/estrusore,V_per_park/carroponte_1,V_per_park/nav_serv_carr_pieni,V_da_pes/catenaria_ing_misc,V_da_pes/pesatura,P_da_est/estrusore,V_per_park/estrusore',\n",
       "  'case:concept:name': 1},\n",
       " {'variant': 'V_da_pes/pesatura,P_da_misc/pesatura,P_da_misc/miscelatore,P_da_est/miscelatore,P_da_est/nav_serv_carr_pieni,P_da_est/carroponte_1,P_da_est/estrusore,V_da_pes/pesatura,V_per_park/catenaria_parcheggi,V_da_pes/pesatura,P_da_est/estrusore,P_da_est/estrusore,V_per_park/catenaria_parcheggi,P_da_est/estrusore,V_per_park/catenaria_parcheggi,V_da_pes/catenaria_ing_misc,V_da_pes/pesatura,P_per_park/pesatura,P_per_park/cat_usc_pieni,P_per_park/catenaria_parcheggi,P_recheck/catenaria_ing_misc,P_recheck/pesatura,P_da_misc/pesatura,P_da_misc/miscelatore,P_da_est/miscelatore,P_da_est/nav_serv_carr_pieni,P_da_est/carroponte_1,V_per_park/estrusore',\n",
       "  'case:concept:name': 1},\n",
       " {'variant': 'V_da_pes/pesatura,P_da_misc/pesatura,P_da_misc/miscelatore,P_da_est/miscelatore,P_da_est/nav_serv_carr_pieni,P_da_est/carroponte_1,P_da_est/estrusore,V_da_pes/pesatura,P_da_misc/pesatura,P_da_misc/miscelatore,P_da_est/miscelatore,P_da_est/nav_serv_carr_pieni,P_da_est/carroponte_1,P_da_est/estrusore,V_per_park/estrusore',\n",
       "  'case:concept:name': 1},\n",
       " {'variant': 'V_da_pes/pesatura,P_da_misc/pesatura,P_da_misc/miscelatore,P_da_est/miscelatore,P_da_est/nav_serv_carr_pieni,P_da_est/carroponte_1,P_da_est/estrusore,V_da_pes/navetta_serv_misc,V_da_pes/pesatura,P_da_misc/pesatura,P_da_misc/miscelatore,P_da_est/miscelatore,P_da_est/nav_serv_carr_pieni,P_da_est/carroponte_1,P_da_est/estrusore,V_per_park/estrusore',\n",
       "  'case:concept:name': 1},\n",
       " {'variant': 'V_da_pes/pesatura,P_da_misc/pesatura,P_da_misc/miscelatore,P_da_est/miscelatore,P_da_est/nav_serv_carr_pieni,P_da_est/carroponte_1,P_da_est/estrusore,V_da_pes/carroponte_1,V_da_pes/pesatura,P_da_misc/miscelatore,P_da_est/nav_serv_carr_pieni,P_da_est/carroponte_1,P_da_est/estrusore,V_per_park/estrusore',\n",
       "  'case:concept:name': 1},\n",
       " {'variant': 'V_da_pes/pesatura,P_da_misc/pesatura,P_da_misc/miscelatore,P_da_est/miscelatore,P_da_est/nav_serv_carr_pieni,P_da_est/carroponte_1,P_da_est/estrusore,P_da_misc/miscelatore,P_da_est/miscelatore,P_da_est/cat_usc_pieni,P_da_est/nav_serv_carr_pieni,P_da_est/carroponte_1,P_da_est/estrusore,V_per_park/estrusore',\n",
       "  'case:concept:name': 1},\n",
       " {'variant': 'V_da_pes/pesatura,P_da_misc/pesatura,P_da_misc/miscelatore,P_da_est/miscelatore,P_da_est/nav_serv_carr_pieni,P_da_est/carroponte_1,P_da_est/estrusore,P_da_est/nav_serv_carr_pieni,P_da_est/carroponte_1,P_da_est/estrusore,V_per_park/carroponte_1,V_per_park/nav_serv_carr_pieni,V_per_park/catenaria_parcheggi,V_da_pes/catenaria_ing_misc,V_da_pes/pesatura,P_da_misc/pesatura,P_da_misc/miscelatore,P_da_est/miscelatore,P_da_est/cat_usc_pieni,P_da_est/nav_serv_carr_pieni,P_da_est/carroponte_1,P_da_est/estrusore,V_per_park/estrusore',\n",
       "  'case:concept:name': 1},\n",
       " {'variant': 'V_da_pes/pesatura,P_da_misc/pesatura,P_da_misc/miscelatore,P_da_est/miscelatore,P_da_est/nav_serv_carr_pieni,P_da_est/carroponte_1,P_da_est/estrusore,P_da_est/manuale,P_da_est/estrusore,V_per_park/estrusore',\n",
       "  'case:concept:name': 1},\n",
       " {'variant': 'V_da_pes/pesatura,P_da_misc/pesatura,P_da_misc/miscelatore,P_da_est/miscelatore,P_da_est/nav_serv_carr_pieni,P_da_est/carroponte_1,P_da_est/estrusore,Not_def/fuori_impianto,P_da_est/estrusore,V_per_park/estrusore',\n",
       "  'case:concept:name': 1},\n",
       " {'variant': 'V_da_pes/pesatura,P_da_misc/pesatura,P_da_misc/miscelatore,P_da_est/miscelatore,P_da_est/nav_serv_carr_pieni,P_da_est/carroponte_1,P_da_est/buffer,V_per_park/catenaria_parcheggi,V_da_pes/catenaria_parcheggi,V_da_pes/pesatura,P_da_misc/pesatura,P_da_misc/navetta_serv_misc,P_da_misc/miscelatore,P_da_est/miscelatore,P_da_est/cat_usc_pieni,P_da_est/nav_serv_carr_pieni,P_da_est/carroponte_1,P_da_est/buffer,P_da_est/estrusore,V_per_park/estrusore',\n",
       "  'case:concept:name': 1},\n",
       " {'variant': 'V_da_pes/pesatura,P_da_misc/pesatura,P_da_misc/miscelatore,P_da_est/miscelatore,P_da_est/nav_serv_carr_pieni,P_da_est/carroponte_1,P_da_est/buffer,V_per_park/catenaria_parcheggi,P_da_est/miscelatore,P_da_est/buffer,P_da_est/estrusore,P_da_est/buffer,P_da_est/estrusore,V_per_park/estrusore',\n",
       "  'case:concept:name': 1},\n",
       " {'variant': 'V_da_pes/pesatura,P_da_misc/pesatura,P_da_misc/miscelatore,P_da_est/miscelatore,P_da_est/nav_serv_carr_pieni,P_da_est/carroponte_1,P_da_est/buffer,P_da_misc/pesatura,P_da_misc/miscelatore,P_da_est/miscelatore,P_da_est/cat_usc_pieni,P_da_est/nav_serv_carr_pieni,P_da_est/carroponte_1,P_da_est/buffer,P_da_est/carroponte_2,P_da_est/estrusore,V_per_park/estrusore',\n",
       "  'case:concept:name': 1},\n",
       " {'variant': 'V_da_pes/pesatura,P_da_misc/pesatura,P_da_misc/miscelatore,P_da_est/miscelatore,P_da_est/nav_serv_carr_pieni,P_da_est/carroponte_1,P_da_est/buffer,P_da_misc/miscelatore,P_da_est/miscelatore,P_da_est/cat_usc_pieni,P_da_est/nav_serv_carr_pieni,P_da_est/carroponte_1,P_da_est/estrusore,V_per_park/estrusore',\n",
       "  'case:concept:name': 1},\n",
       " {'variant': 'V_da_pes/pesatura,P_da_misc/pesatura,P_da_misc/miscelatore,P_da_est/miscelatore,P_da_est/nav_serv_carr_pieni,P_da_est/carroponte_1,P_da_est/buffer,P_da_misc/miscelatore,P_da_est/miscelatore,P_da_est/cat_usc_pieni,P_da_est/nav_serv_carr_pieni,P_da_est/carroponte_1,P_da_est/buffer,P_da_est/estrusore,V_per_park/estrusore',\n",
       "  'case:concept:name': 1},\n",
       " {'variant': 'V_da_pes/pesatura,P_da_misc/pesatura,P_da_misc/miscelatore,P_da_est/miscelatore,P_da_est/nav_serv_carr_pieni,P_da_est/carroponte_1,P_da_est/buffer,P_da_est/estrusore,V_per_park/catenaria_parcheggi,V_da_pes/catenaria_ing_misc,V_da_pes/pesatura,P_da_misc/pesatura,P_da_misc/miscelatore,P_da_est/miscelatore,P_da_est/cat_usc_pieni,P_da_est/nav_serv_carr_pieni,P_da_est/carroponte_1,P_da_est/buffer,P_da_est/estrusore,V_per_park/estrusore',\n",
       "  'case:concept:name': 1},\n",
       " {'variant': 'V_da_pes/pesatura,P_da_misc/pesatura,P_da_misc/miscelatore,P_da_est/miscelatore,P_da_est/nav_serv_carr_pieni,P_da_est/carroponte_1,P_da_est/buffer,P_da_est/estrusore,V_per_park/catenaria_parcheggi,P_per_park/catenaria_parcheggi,V_per_park/catenaria_parcheggi,V_da_pes/catenaria_parcheggi,V_da_pes/pesatura,P_da_misc/pesatura,P_da_misc/miscelatore,P_da_est/miscelatore,P_da_est/cat_usc_pieni,P_da_est/nav_serv_carr_pieni,P_da_est/carroponte_1,P_da_est/buffer,P_da_est/estrusore,V_per_park/estrusore',\n",
       "  'case:concept:name': 1},\n",
       " {'variant': 'V_da_pes/pesatura,P_da_misc/pesatura,P_da_misc/miscelatore,P_da_est/miscelatore,P_da_est/nav_serv_carr_pieni,P_da_est/carroponte_1,P_da_est/buffer,P_da_est/estrusore,V_per_park/catenaria_parcheggi,P_per_park/catenaria_parcheggi,P_da_est/catenaria_parcheggi,P_da_est/catenaria_ing_misc,P_da_est/cat_usc_pieni,P_da_est/nav_serv_carr_pieni,P_da_est/carroponte_1,P_da_est/buffer,P_da_est/estrusore,P_da_est/buffer,P_da_est/estrusore,V_per_park/estrusore',\n",
       "  'case:concept:name': 1},\n",
       " {'variant': 'V_da_pes/pesatura,P_da_misc/pesatura,P_da_misc/miscelatore,P_da_est/miscelatore,P_da_est/nav_serv_carr_pieni,P_da_est/carroponte_1,P_da_est/buffer,P_da_est/estrusore,V_per_park/carroponte_1,V_per_park/nav_serv_carr_pieni,V_per_park/catenaria_parcheggi,V_da_pes/catenaria_parcheggi,V_da_pes/catenaria_ing_misc,V_da_pes/pesatura,P_da_misc/pesatura,P_da_misc/miscelatore,P_da_est/miscelatore,P_da_est/nav_serv_carr_pieni,P_da_est/carroponte_1,P_da_est/buffer,P_da_est/estrusore,V_per_park/estrusore',\n",
       "  'case:concept:name': 1},\n",
       " {'variant': 'V_da_pes/pesatura,P_da_misc/pesatura,P_da_misc/miscelatore,P_da_est/miscelatore,P_da_est/nav_serv_carr_pieni,P_da_est/carroponte_1,P_da_est/buffer,P_da_est/estrusore,V_per_park/carroponte_1,V_da_pes/nav_serv_carr_pieni,V_da_pes/catenaria_ing_misc,V_da_pes/pesatura,P_da_misc/pesatura,P_da_misc/miscelatore,P_da_est/miscelatore,P_da_est/nav_serv_carr_pieni,P_da_est/carroponte_1,P_da_est/estrusore,V_per_park/estrusore',\n",
       "  'case:concept:name': 1},\n",
       " {'variant': 'V_da_pes/pesatura,P_da_misc/pesatura,P_da_misc/miscelatore,P_da_est/miscelatore,P_da_est/nav_serv_carr_pieni,P_da_est/carroponte_1,P_da_est/buffer,P_da_est/estrusore,V_da_pes/pesatura,P_da_misc/pesatura,P_da_misc/miscelatore,P_da_est/miscelatore,P_da_est/nav_serv_carr_pieni,P_da_est/carroponte_1,P_da_est/buffer,P_da_est/estrusore,V_per_park/estrusore',\n",
       "  'case:concept:name': 1},\n",
       " {'variant': 'V_da_pes/pesatura,P_da_misc/pesatura,P_da_misc/miscelatore,P_da_est/miscelatore,P_da_est/nav_serv_carr_pieni,P_da_est/carroponte_1,P_da_est/buffer,P_da_est/estrusore,V_da_pes/pesatura,P_da_misc/pesatura,P_da_misc/miscelatore,P_da_est/miscelatore,P_da_est/nav_serv_carr_pieni,P_da_est/carroponte_1,P_da_est/buffer,P_da_est/estrusore,V_da_pes/pesatura,P_da_misc/pesatura,P_da_misc/miscelatore,P_da_est/cat_usc_pieni,P_da_est/nav_serv_carr_pieni,P_da_est/carroponte_1,P_da_est/buffer,P_da_est/estrusore,V_per_park/estrusore',\n",
       "  'case:concept:name': 1},\n",
       " {'variant': 'V_da_pes/pesatura,P_da_misc/pesatura,P_da_misc/miscelatore,P_da_est/miscelatore,P_da_est/nav_serv_carr_pieni,P_da_est/carroponte_1,P_da_est/buffer,P_da_est/estrusore,V_da_pes/pesatura,P_da_est/carroponte_1,P_da_est/estrusore,P_da_est/buffer,P_da_est/estrusore,P_da_est/buffer,P_da_est/estrusore,V_per_park/estrusore',\n",
       "  'case:concept:name': 1},\n",
       " {'variant': 'V_da_pes/pesatura,P_da_misc/pesatura,P_da_misc/miscelatore,P_da_est/miscelatore,P_da_est/nav_serv_carr_pieni,P_da_est/carroponte_1,P_da_est/buffer,P_da_est/estrusore,P_da_est/estrusore,V_per_park/estrusore',\n",
       "  'case:concept:name': 1},\n",
       " {'variant': 'V_da_pes/pesatura,P_da_misc/pesatura,P_da_misc/miscelatore,P_da_est/miscelatore,P_da_est/nav_serv_carr_pieni,P_da_est/carroponte_1,P_da_est/buffer,P_da_est/estrusore,P_da_est/estrusore,P_da_est/estrusore,V_da_pes/catenaria_ing_misc,P_da_est/estrusore,P_da_est/estrusore,P_da_est/buffer,P_da_est/estrusore,P_da_est/estrusore,P_da_est/buffer,P_da_est/estrusore,V_da_pes/pesatura,P_da_est/buffer,P_da_est/estrusore,P_da_est/buffer,P_da_est/estrusore,V_da_pes/pesatura,P_da_est/estrusore,P_da_est/estrusore,V_da_pes/pesatura,V_da_pes/pesatura,P_da_est/estrusore,P_da_est/estrusore,P_da_est/estrusore,P_da_est/estrusore,P_da_est/estrusore,P_da_est/buffer,P_da_est/estrusore,P_da_est/estrusore,P_da_est/estrusore,V_per_park/catenaria_parcheggi,V_da_pes/pesatura,P_da_est/buffer,P_da_est/estrusore,P_da_est/buffer,P_da_est/estrusore,P_da_est/buffer,P_da_est/estrusore,P_da_est/buffer,P_da_est/estrusore,V_per_park/estrusore',\n",
       "  'case:concept:name': 1},\n",
       " {'variant': 'V_da_pes/pesatura,P_da_misc/pesatura,P_da_misc/miscelatore,P_da_est/miscelatore,P_da_est/nav_serv_carr_pieni,P_da_est/carroponte_1,P_da_est/buffer,P_da_est/estrusore,P_da_est/buffer,P_da_est/carroponte_2,P_da_est/estrusore,V_per_park/estrusore',\n",
       "  'case:concept:name': 1},\n",
       " {'variant': 'V_da_pes/pesatura,P_da_misc/pesatura,P_da_misc/miscelatore,P_da_est/miscelatore,P_da_est/nav_serv_carr_pieni,P_da_est/carroponte_1,P_da_est/buffer,P_da_est/carroponte_2,P_da_est/estrusore,V_da_pes/estrusore',\n",
       "  'case:concept:name': 1},\n",
       " {'variant': 'V_da_pes/pesatura,P_da_misc/pesatura,P_da_misc/miscelatore,P_da_est/miscelatore,P_da_est/nav_serv_carr_pieni,P_da_est/carroponte_1,P_da_est/buffer,P_da_est/carroponte_2,P_da_est/estrusore,P_da_est/buffer,P_da_est/estrusore,V_da_pes/carroponte_1,V_da_pes/pesatura,P_da_misc/pesatura,P_da_misc/miscelatore,P_da_est/miscelatore,P_da_est/nav_serv_carr_pieni,P_da_est/carroponte_1,P_da_est/buffer,P_da_est/estrusore,V_per_park/estrusore',\n",
       "  'case:concept:name': 1},\n",
       " {'variant': 'V_da_pes/pesatura,P_da_misc/pesatura,P_da_misc/miscelatore,P_da_est/miscelatore,P_da_est/nav_serv_carr_pieni,P_da_est/carroponte_1,P_da_est/buffer,P_da_est/carroponte_1,P_da_est/estrusore,V_da_pes/estrusore',\n",
       "  'case:concept:name': 1},\n",
       " {'variant': 'V_da_pes/pesatura,P_da_misc/pesatura,P_da_misc/miscelatore,P_da_est/miscelatore,P_da_est/cat_usc_pieni,P_per_park/nav_serv_carr_pieni,P_per_park/catenaria_parcheggi,P_da_est/cat_usc_pieni,P_da_est/nav_serv_carr_pieni,P_da_est/carroponte_1,V_da_pes/estrusore',\n",
       "  'case:concept:name': 1},\n",
       " {'variant': 'V_da_pes/pesatura,P_da_misc/pesatura,P_da_misc/miscelatore,P_da_est/miscelatore,P_da_est/cat_usc_pieni,P_da_est/nav_serv_carr_vuoti,P_da_est/nav_serv_carr_pieni,P_da_est/carroponte_1,P_da_est/estrusore,V_per_park/estrusore',\n",
       "  'case:concept:name': 1},\n",
       " {'variant': 'V_da_pes/pesatura,P_da_misc/pesatura,P_da_misc/miscelatore,P_da_est/miscelatore,P_da_est/cat_usc_pieni,P_da_est/nav_serv_carr_pieni,P_da_est/estrusore,V_per_park/estrusore',\n",
       "  'case:concept:name': 1},\n",
       " {'variant': 'V_da_pes/pesatura,P_da_misc/pesatura,P_da_misc/miscelatore,P_da_est/miscelatore,P_da_est/cat_usc_pieni,P_da_est/nav_serv_carr_pieni,P_da_est/carroponte_1,V_per_park/catenaria_parcheggi,V_da_pes/pesatura,P_da_misc/pesatura,P_da_misc/miscelatore,P_da_est/miscelatore,P_da_est/nav_serv_carr_pieni,P_da_est/carroponte_1,P_da_est/estrusore,V_per_park/estrusore',\n",
       "  'case:concept:name': 1},\n",
       " {'variant': 'V_da_pes/pesatura,P_da_misc/pesatura,P_da_misc/miscelatore,P_da_est/miscelatore,P_da_est/cat_usc_pieni,P_da_est/nav_serv_carr_pieni,P_da_est/carroponte_1,V_da_pes/estrusore',\n",
       "  'case:concept:name': 1},\n",
       " {'variant': 'V_da_pes/pesatura,P_da_misc/pesatura,P_da_misc/miscelatore,P_da_est/miscelatore,P_da_est/cat_usc_pieni,P_da_est/nav_serv_carr_pieni,P_da_est/carroponte_1,P_da_misc/pesatura,P_da_misc/miscelatore,P_da_est/miscelatore,P_da_est/cat_usc_pieni,P_da_est/nav_serv_carr_pieni,P_da_est/carroponte_1,P_da_est/estrusore,V_per_park/estrusore',\n",
       "  'case:concept:name': 1},\n",
       " {'variant': 'V_da_pes/pesatura,P_da_misc/pesatura,P_da_misc/miscelatore,P_da_est/miscelatore,P_da_est/cat_usc_pieni,P_da_est/nav_serv_carr_pieni,P_da_est/carroponte_1,P_da_est/estrusore,V_da_pes/pesatura,P_da_misc/pesatura,P_da_misc/miscelatore,P_da_est/miscelatore,P_da_est/nav_serv_carr_pieni,P_da_est/carroponte_1,P_da_est/estrusore,V_per_park/estrusore',\n",
       "  'case:concept:name': 1},\n",
       " {'variant': 'V_da_pes/pesatura,P_da_misc/pesatura,P_da_misc/miscelatore,P_da_est/miscelatore,P_da_est/cat_usc_pieni,P_da_est/nav_serv_carr_pieni,P_da_est/carroponte_1,P_da_est/estrusore,V_da_pes/pesatura,P_da_misc/pesatura,P_da_misc/miscelatore,P_da_est/miscelatore,P_da_est/cat_usc_pieni,P_da_est/nav_serv_carr_pieni,P_da_est/carroponte_1,P_da_est/estrusore,V_per_park/estrusore',\n",
       "  'case:concept:name': 1},\n",
       " {'variant': 'V_da_pes/pesatura,P_da_misc/pesatura,P_da_misc/miscelatore,P_da_est/miscelatore,P_da_est/cat_usc_pieni,P_da_est/nav_serv_carr_pieni,P_da_est/carroponte_1,P_da_est/estrusore,V_da_pes/catenaria_ing_misc,V_da_pes/pesatura,P_da_misc/pesatura,P_da_misc/miscelatore,P_da_est/miscelatore,P_da_est/cat_usc_pieni,P_da_est/nav_serv_carr_pieni,P_da_est/carroponte_1,P_da_est/estrusore,V_da_pes/estrusore',\n",
       "  'case:concept:name': 1},\n",
       " {'variant': 'V_da_pes/pesatura,P_da_misc/pesatura,P_da_misc/miscelatore,P_da_est/miscelatore,P_da_est/cat_usc_pieni,P_da_est/nav_serv_carr_pieni,P_da_est/carroponte_1,P_da_est/estrusore,V_da_pes/carroponte_1,V_da_pes/nav_serv_carr_vuoti,V_da_pes/pesatura,P_da_misc/pesatura,P_da_misc/miscelatore,P_da_est/miscelatore,P_da_est/cat_usc_pieni,P_da_est/nav_serv_carr_pieni,P_da_est/carroponte_1,P_da_est/buffer,P_da_est/estrusore,V_per_park/estrusore',\n",
       "  'case:concept:name': 1},\n",
       " {'variant': 'V_da_pes/pesatura,P_da_misc/pesatura,P_da_misc/miscelatore,P_da_est/miscelatore,P_da_est/cat_usc_pieni,P_da_est/nav_serv_carr_pieni,P_da_est/carroponte_1,P_da_est/estrusore,V_da_pes/carroponte_1,V_da_pes/nav_serv_carr_vuoti,V_da_pes/nav_serv_carr_pieni,V_da_pes/catenaria_ing_misc,V_da_pes/pesatura,P_da_misc/pesatura,P_da_misc/miscelatore,P_da_est/cat_usc_pieni,P_da_est/nav_serv_carr_pieni,P_da_est/carroponte_1,P_da_est/estrusore,V_per_park/estrusore',\n",
       "  'case:concept:name': 1},\n",
       " {'variant': 'V_da_pes/pesatura,P_da_misc/pesatura,P_da_misc/miscelatore,P_da_est/miscelatore,P_da_est/cat_usc_pieni,P_da_est/nav_serv_carr_pieni,P_da_est/carroponte_1,P_da_est/estrusore,V_da_pes/carroponte_1,V_da_pes/nav_serv_carr_vuoti,V_da_pes/catenaria_ing_misc,V_da_pes/pesatura,P_da_misc/pesatura,P_da_misc/miscelatore,P_da_est/miscelatore,P_da_est/cat_usc_pieni,P_da_est/nav_serv_carr_pieni,P_da_est/carroponte_1,P_da_est/estrusore,V_per_park/estrusore',\n",
       "  'case:concept:name': 1},\n",
       " {'variant': 'V_da_pes/pesatura,P_da_misc/pesatura,P_da_misc/miscelatore,P_da_est/miscelatore,P_da_est/cat_usc_pieni,P_da_est/nav_serv_carr_pieni,P_da_est/carroponte_1,P_da_est/estrusore,V_da_pes/carroponte_1,V_da_pes/nav_serv_carr_pieni,V_da_pes/pesatura,P_da_misc/pesatura,P_da_misc/miscelatore,P_da_est/miscelatore,P_da_est/cat_usc_pieni,P_da_est/nav_serv_carr_pieni,P_da_est/carroponte_1,P_da_est/estrusore,V_per_park/estrusore',\n",
       "  'case:concept:name': 1},\n",
       " {'variant': 'V_da_pes/pesatura,P_da_misc/pesatura,P_da_misc/miscelatore,P_da_est/miscelatore,P_da_est/cat_usc_pieni,P_da_est/nav_serv_carr_pieni,P_da_est/carroponte_1,P_da_est/estrusore,V_da_pes/carroponte_1,V_da_pes/nav_serv_carr_pieni,V_da_pes/catenaria_parcheggi,V_da_pes/catenaria_ing_misc,V_da_pes/pesatura,P_da_est/pesatura,P_da_est/cat_usc_pieni,P_da_est/nav_serv_carr_pieni,P_da_est/carroponte_1,P_da_est/estrusore,V_per_park/estrusore',\n",
       "  'case:concept:name': 1},\n",
       " {'variant': 'V_da_pes/pesatura,P_da_misc/pesatura,P_da_misc/miscelatore,P_da_est/miscelatore,P_da_est/cat_usc_pieni,P_da_est/nav_serv_carr_pieni,P_da_est/carroponte_1,P_da_est/estrusore,V_da_pes/carroponte_1,V_da_pes/nav_serv_carr_pieni,V_da_pes/catenaria_ing_misc,V_da_pes/pesatura,P_da_misc/pesatura,P_da_misc/miscelatore,P_da_est/miscelatore,P_da_est/cat_usc_pieni,P_da_est/nav_serv_carr_pieni,P_da_est/carroponte_1,P_da_est/estrusore,V_per_park/estrusore',\n",
       "  'case:concept:name': 1},\n",
       " {'variant': 'V_da_pes/pesatura,P_da_misc/pesatura,P_da_misc/miscelatore,P_da_est/miscelatore,P_da_est/cat_usc_pieni,P_da_est/nav_serv_carr_pieni,P_da_est/carroponte_1,P_da_est/estrusore,P_da_est/estrusore,V_per_park/estrusore',\n",
       "  'case:concept:name': 1},\n",
       " {'variant': 'V_da_pes/pesatura,P_da_misc/pesatura,P_da_misc/miscelatore,P_da_est/miscelatore,P_da_est/cat_usc_pieni,P_da_est/nav_serv_carr_pieni,P_da_est/carroponte_1,P_da_est/estrusore,P_da_est/estrusore,V_da_pes/pesatura,V_per_park/catenaria_parcheggi,P_recheck/pesatura,V_da_pes/pesatura,P_da_misc/pesatura,P_da_misc/miscelatore,P_da_est/miscelatore,P_per_park/cat_usc_pieni,P_per_park/nav_serv_carr_pieni,P_per_park/catenaria_parcheggi,P_per_park/catenaria_parcheggi,P_da_est/cat_usc_pieni,P_da_est/nav_serv_carr_pieni,P_da_est/carroponte_1,P_da_est/estrusore,V_per_park/estrusore',\n",
       "  'case:concept:name': 1},\n",
       " {'variant': 'V_da_pes/pesatura,P_da_misc/pesatura,P_da_misc/miscelatore,P_da_est/miscelatore,P_da_est/cat_usc_pieni,P_da_est/nav_serv_carr_pieni,P_da_est/carroponte_1,P_da_est/estrusore,P_da_est/carroponte_1,P_da_est/buffer,P_da_est/estrusore,V_per_park/estrusore',\n",
       "  'case:concept:name': 1},\n",
       " {'variant': 'V_da_pes/pesatura,P_da_misc/pesatura,P_da_misc/miscelatore,P_da_est/miscelatore,P_da_est/cat_usc_pieni,P_da_est/nav_serv_carr_pieni,P_da_est/carroponte_1,P_da_est/buffer,V_per_park/estrusore',\n",
       "  'case:concept:name': 1},\n",
       " {'variant': 'V_da_pes/pesatura,P_da_misc/pesatura,P_da_misc/miscelatore,P_da_est/miscelatore,P_da_est/cat_usc_pieni,P_da_est/nav_serv_carr_pieni,P_da_est/carroponte_1,P_da_est/buffer,V_da_pes/carroponte_1,V_da_pes/nav_serv_carr_pieni,V_da_pes/catenaria_ing_misc,V_da_pes/pesatura,P_da_misc/pesatura,P_da_misc/miscelatore,P_da_est/miscelatore,P_da_est/nav_serv_carr_pieni,P_da_est/carroponte_1,P_da_est/buffer,P_da_est/estrusore,V_per_park/estrusore',\n",
       "  'case:concept:name': 1},\n",
       " {'variant': 'V_da_pes/pesatura,P_da_misc/pesatura,P_da_misc/miscelatore,P_da_est/miscelatore,P_da_est/cat_usc_pieni,P_da_est/nav_serv_carr_pieni,P_da_est/carroponte_1,P_da_est/buffer,P_da_est/estrusore,V_per_park/catenaria_parcheggi,V_da_pes/pesatura,P_da_misc/pesatura,P_da_misc/miscelatore,P_da_est/miscelatore,P_per_park/nav_serv_carr_pieni,P_per_park/carroponte_1,P_per_park/nav_serv_carr_vuoti,P_per_park/catenaria_parcheggi,P_da_est/nav_serv_carr_pieni,P_da_est/carroponte_1,P_da_est/estrusore,V_per_park/estrusore',\n",
       "  'case:concept:name': 1},\n",
       " {'variant': 'V_da_pes/pesatura,P_da_misc/pesatura,P_da_misc/miscelatore,P_da_est/miscelatore,P_da_est/cat_usc_pieni,P_da_est/nav_serv_carr_pieni,P_da_est/carroponte_1,P_da_est/buffer,P_da_est/estrusore,V_da_pes/pesatura,P_da_misc/pesatura,P_da_misc/miscelatore,P_da_est/miscelatore,P_da_est/cat_usc_pieni,P_da_est/nav_serv_carr_pieni,P_da_est/carroponte_1,P_da_est/buffer,P_da_est/estrusore,V_per_park/estrusore',\n",
       "  'case:concept:name': 1},\n",
       " {'variant': 'V_da_pes/pesatura,P_da_misc/pesatura,P_da_misc/miscelatore,P_da_est/miscelatore,P_da_est/cat_usc_pieni,P_da_est/nav_serv_carr_pieni,P_da_est/carroponte_1,P_da_est/buffer,P_da_est/estrusore,V_da_pes/navetta_serv_misc,V_da_pes/pesatura,P_da_misc/pesatura,P_da_misc/miscelatore,P_da_est/miscelatore,P_da_est/nav_serv_carr_pieni,P_da_est/carroponte_1,P_da_est/buffer,P_da_est/estrusore,V_per_park/estrusore',\n",
       "  'case:concept:name': 1},\n",
       " {'variant': 'V_da_pes/pesatura,P_da_misc/pesatura,P_da_misc/miscelatore,P_da_est/miscelatore,P_da_est/cat_usc_pieni,P_da_est/nav_serv_carr_pieni,P_da_est/carroponte_1,P_da_est/buffer,P_da_est/estrusore,V_da_pes/carroponte_1,V_da_pes/nav_serv_carr_vuoti,V_da_pes/catenaria_ing_misc,V_da_pes/pesatura,P_da_misc/pesatura,P_da_misc/miscelatore,P_da_est/miscelatore,P_da_est/cat_usc_pieni,P_da_est/nav_serv_carr_pieni,P_da_est/carroponte_1,P_da_est/buffer,P_da_est/estrusore,V_per_park/estrusore',\n",
       "  'case:concept:name': 1},\n",
       " {'variant': 'V_da_pes/pesatura,P_da_misc/pesatura,P_da_misc/miscelatore,P_da_est/miscelatore,P_da_est/cat_usc_pieni,P_da_est/nav_serv_carr_pieni,P_da_est/carroponte_1,P_da_est/buffer,P_da_est/estrusore,P_per_park/estrusore,P_per_park/carroponte_1,P_per_park/nav_serv_carr_pieni,P_per_park/catenaria_parcheggi,P_recheck/catenaria_ing_misc,P_recheck/pesatura,P_da_misc/pesatura,P_da_misc/miscelatore,P_da_est/miscelatore,P_da_est/cat_usc_pieni,P_da_est/nav_serv_carr_pieni,P_da_est/carroponte_1,P_da_est/estrusore,V_per_park/estrusore',\n",
       "  'case:concept:name': 1},\n",
       " {'variant': 'V_da_pes/pesatura,P_da_misc/pesatura,P_da_misc/miscelatore,P_da_est/miscelatore,P_da_est/cat_usc_pieni,P_da_est/nav_serv_carr_pieni,P_da_est/carroponte_1,P_da_est/buffer,P_da_est/estrusore,P_da_misc/pesatura,P_da_misc/miscelatore,P_da_est/miscelatore,P_da_est/nav_serv_carr_pieni,P_da_est/carroponte_1,P_da_est/buffer,P_da_est/estrusore,V_per_park/estrusore',\n",
       "  'case:concept:name': 1},\n",
       " {'variant': 'V_da_pes/pesatura,P_da_misc/pesatura,P_da_misc/miscelatore,P_da_est/miscelatore,P_da_est/cat_usc_pieni,P_da_est/nav_serv_carr_pieni,P_da_est/carroponte_1,P_da_est/buffer,P_da_est/estrusore,P_da_misc/miscelatore,P_da_est/miscelatore,P_da_est/cat_usc_pieni,P_da_est/nav_serv_carr_pieni,P_da_est/carroponte_1,P_da_est/buffer,P_da_est/estrusore,V_per_park/estrusore',\n",
       "  'case:concept:name': 1},\n",
       " {'variant': 'V_da_pes/pesatura,P_da_misc/pesatura,P_da_misc/miscelatore,P_da_est/miscelatore,P_da_est/cat_usc_pieni,P_da_est/nav_serv_carr_pieni,P_da_est/carroponte_1,P_da_est/buffer,P_da_est/estrusore,P_da_est/nav_serv_carr_pieni,P_da_est/carroponte_1,P_da_est/buffer,P_da_est/carroponte_2,P_da_est/estrusore,V_per_park/estrusore',\n",
       "  'case:concept:name': 1},\n",
       " {'variant': 'V_da_pes/pesatura,P_da_misc/pesatura,P_da_misc/miscelatore,P_da_est/miscelatore,P_da_est/cat_usc_pieni,P_da_est/nav_serv_carr_pieni,P_da_est/carroponte_1,P_da_est/buffer,P_da_est/estrusore,P_da_est/miscelatore,P_da_est/cat_usc_pieni,P_da_est/nav_serv_carr_pieni,P_da_est/carroponte_1,P_da_est/estrusore,V_per_park/estrusore',\n",
       "  'case:concept:name': 1},\n",
       " {'variant': 'V_da_pes/pesatura,P_da_misc/pesatura,P_da_misc/miscelatore,P_da_est/miscelatore,P_da_est/cat_usc_pieni,P_da_est/nav_serv_carr_pieni,P_da_est/carroponte_1,P_da_est/buffer,P_da_est/estrusore,P_da_est/buffer,P_da_est/estrusore,V_per_park/estrusore',\n",
       "  'case:concept:name': 1},\n",
       " {'variant': 'V_da_pes/pesatura,P_da_misc/pesatura,P_da_misc/miscelatore,P_da_est/miscelatore,P_da_est/cat_usc_pieni,P_da_est/nav_serv_carr_pieni,P_da_est/carroponte_1,P_da_est/buffer,P_da_est/carroponte_1,P_da_est/estrusore,V_per_park/estrusore',\n",
       "  'case:concept:name': 1},\n",
       " {'variant': 'V_da_pes/pesatura,P_da_misc/pesatura,P_da_misc/miscelatore,P_da_est/miscelatore,P_da_est/cat_usc_pieni,P_da_est/nav_serv_carr_pieni,P_da_est/carroponte_1,P_da_est/buffer,P_da_est/carroponte_1,P_da_est/estrusore,V_da_pes/estrusore',\n",
       "  'case:concept:name': 1},\n",
       " {'variant': 'V_da_pes/pesatura,P_da_misc/pesatura,P_da_misc/miscelatore,P_da_est/miscelatore,P_da_est/cat_usc_pieni,P_da_est/nav_serv_carr_pieni,P_da_est/carroponte_1,P_da_est/buffer,P_da_est/buffer,P_da_est/estrusore,P_da_est/buffer,P_da_est/estrusore,V_da_pes/pesatura,V_per_park/catenaria_parcheggi,V_da_pes/catenaria_parcheggi,V_da_pes/pesatura,P_da_misc/pesatura,P_da_misc/miscelatore,P_da_est/miscelatore,P_da_est/nav_serv_carr_pieni,P_da_est/carroponte_1,P_da_est/buffer,P_da_est/carroponte_1,P_da_est/estrusore,V_per_park/estrusore',\n",
       "  'case:concept:name': 1},\n",
       " {'variant': 'V_da_pes/pesatura,P_da_misc/pesatura,P_da_misc/miscelatore,P_da_est/miscelatore,P_da_est/cat_usc_pieni,P_da_est/estrusore,V_per_park/estrusore',\n",
       "  'case:concept:name': 1},\n",
       " {'variant': 'V_da_pes/pesatura,P_da_misc/pesatura,P_da_misc/miscelatore,P_da_est/miscelatore,P_da_est/cat_usc_pieni,P_da_est/estrusore,V_per_park/catenaria_parcheggi,Not_def/fuori_impianto,P_da_est/estrusore,V_per_park/catenaria_parcheggi,V_da_pes/catenaria_ing_misc,V_da_pes/pesatura,P_da_est/estrusore,V_per_park/estrusore',\n",
       "  'case:concept:name': 1},\n",
       " {'variant': 'V_da_pes/pesatura,P_da_misc/pesatura,P_da_misc/miscelatore,P_da_est/miscelatore,P_da_est/cat_usc_pieni,P_da_est/carroponte_1,P_da_est/estrusore,V_per_park/estrusore',\n",
       "  'case:concept:name': 1},\n",
       " {'variant': 'V_da_pes/pesatura,P_da_misc/pesatura,P_da_misc/miscelatore,P_da_est/miscelatore,P_da_est/cat_usc_pieni,P_da_est/carroponte_1,P_da_est/estrusore,V_da_pes/estrusore',\n",
       "  'case:concept:name': 1},\n",
       " {'variant': 'V_da_pes/pesatura,P_da_misc/pesatura,P_da_misc/miscelatore,P_da_est/miscelatore,Not_def/fuori_impianto,V_per_park/carroponte_1,V_per_park/nav_serv_carr_pieni,V_per_park/catenaria_parcheggi,V_da_pes/catenaria_parcheggi,V_da_pes/catenaria_ing_misc,V_da_pes/pesatura,P_da_misc/pesatura,P_da_misc/miscelatore,P_da_est/miscelatore,P_da_est/cat_usc_pieni,P_da_est/nav_serv_carr_pieni,P_da_est/carroponte_1,P_da_est/estrusore,V_per_park/estrusore',\n",
       "  'case:concept:name': 1},\n",
       " {'variant': 'V_da_pes/pesatura,P_da_misc/pesatura,P_da_misc/miscelatore,P_da_est/estrusore,V_da_pes/pesatura,P_da_est/estrusore,V_per_park/estrusore',\n",
       "  'case:concept:name': 1},\n",
       " {'variant': 'V_da_pes/pesatura,P_da_misc/pesatura,P_da_misc/miscelatore,P_da_est/cat_usc_pieni,P_da_est/nav_serv_carr_pieni,P_recheck/nav_serv_carr_pieni,P_da_misc/pesatura,P_da_misc/miscelatore,P_da_est/miscelatore,P_da_est/nav_serv_carr_pieni,P_da_est/carroponte_1,P_da_est/estrusore,V_per_park/estrusore',\n",
       "  'case:concept:name': 1},\n",
       " {'variant': 'V_da_pes/pesatura,P_da_misc/pesatura,P_da_misc/miscelatore,P_da_est/cat_usc_pieni,P_da_est/nav_serv_carr_pieni,P_da_est/carroponte_1,V_per_park/estrusore',\n",
       "  'case:concept:name': 1},\n",
       " {'variant': 'V_da_pes/pesatura,P_da_misc/pesatura,P_da_misc/miscelatore,P_da_est/cat_usc_pieni,P_da_est/nav_serv_carr_pieni,P_da_est/carroponte_1,P_da_est/estrusore,V_per_park/catenaria_parcheggi,V_da_pes/catenaria_ing_misc,V_da_pes/pesatura,P_da_misc/pesatura,P_da_misc/miscelatore,P_da_est/miscelatore,P_da_est/cat_usc_pieni,P_da_est/nav_serv_carr_pieni,P_da_est/carroponte_1,P_da_est/estrusore,V_per_park/estrusore',\n",
       "  'case:concept:name': 1},\n",
       " {'variant': 'V_da_pes/pesatura,P_da_misc/pesatura,P_da_est/estrusore,V_per_park/estrusore',\n",
       "  'case:concept:name': 1},\n",
       " {'variant': 'V_da_pes/pesatura,P_da_misc/miscelatore,P_remove/miscelatore,Not_def/fuori_impianto,P_da_est/manuale,P_da_est/carroponte_2,P_da_est/estrusore,V_per_park/estrusore',\n",
       "  'case:concept:name': 1},\n",
       " {'variant': 'V_da_pes/pesatura,P_da_misc/miscelatore,P_remove/miscelatore,Not_def/fuori_impianto,P_da_est/manuale,P_da_est/carroponte_2,P_da_est/estrusore,V_per_park/carroponte_2,V_per_park/manuale,Not_def/fuori_impianto,V_da_pes/pesatura,P_remove/pesatura,Not_def/fuori_impianto,V_da_pes/pesatura,V_remove/pesatura,V_remove/miscelatore,Not_def/fuori_impianto,P_per_park/cat_usc_pieni,P_per_park/catenaria_parcheggi,V_per_park/catenaria_parcheggi,V_da_pes/pesatura,P_da_misc/pesatura,P_da_misc/miscelatore,P_da_est/miscelatore,P_da_est/carroponte_1,P_da_est/estrusore,V_per_park/estrusore',\n",
       "  'case:concept:name': 1},\n",
       " {'variant': 'V_da_pes/pesatura,P_da_misc/miscelatore,P_da_misc/miscelatore,P_da_est/miscelatore,P_da_est/nav_serv_carr_pieni,P_da_est/carroponte_1,P_da_est/buffer,P_da_est/estrusore,V_per_park/estrusore',\n",
       "  'case:concept:name': 1},\n",
       " {'variant': 'V_da_pes/pesatura,P_da_misc/miscelatore,P_da_est/nav_serv_carr_pieni,P_da_est/carroponte_1,P_da_est/buffer,P_da_est/estrusore,V_per_park/estrusore',\n",
       "  'case:concept:name': 1},\n",
       " {'variant': 'V_da_pes/pesatura,P_da_misc/miscelatore,P_da_est/miscelatore,P_da_est/nav_serv_carr_pieni,P_da_est/estrusore,V_per_park/estrusore',\n",
       "  'case:concept:name': 1},\n",
       " {'variant': 'V_da_pes/pesatura,P_da_misc/miscelatore,P_da_est/miscelatore,P_da_est/nav_serv_carr_pieni,P_da_est/carroponte_1,P_da_est/buffer,P_da_est/estrusore,V_da_pes/pesatura,P_da_misc/pesatura,P_da_misc/miscelatore,P_da_est/miscelatore,P_da_est/nav_serv_carr_pieni,P_da_est/carroponte_1,P_da_est/estrusore,V_per_park/estrusore',\n",
       "  'case:concept:name': 1},\n",
       " {'variant': 'V_da_pes/pesatura,P_da_misc/miscelatore,P_da_est/miscelatore,P_da_est/cat_usc_pieni,P_da_est/nav_serv_carr_pieni,P_da_est/carroponte_1,P_da_est/estrusore,V_da_pes/catenaria_ing_misc,P_da_est/estrusore,V_per_park/estrusore',\n",
       "  'case:concept:name': 1},\n",
       " {'variant': 'V_da_pes/pesatura,P_da_misc/miscelatore,P_da_est/miscelatore,P_da_est/cat_usc_pieni,P_da_est/nav_serv_carr_pieni,P_da_est/carroponte_1,P_da_est/estrusore,P_da_est/estrusore,V_da_pes/pesatura,P_da_est/estrusore,V_da_pes/pesatura,P_da_est/estrusore,P_da_est/estrusore,P_da_est/estrusore,V_per_park/carroponte_1,V_per_park/catenaria_parcheggi,Not_def/fuori_impianto,V_da_pes/pesatura,P_da_misc/pesatura,P_da_misc/miscelatore,P_da_est/miscelatore,P_da_est/nav_serv_carr_pieni,P_da_est/carroponte_1,P_da_est/estrusore,V_per_park/estrusore',\n",
       "  'case:concept:name': 1},\n",
       " {'variant': 'V_da_pes/pesatura,P_da_misc/miscelatore,P_da_est/miscelatore,P_da_est/cat_usc_pieni,P_da_est/nav_serv_carr_pieni,P_da_est/carroponte_1,P_da_est/buffer,P_da_est/carroponte_2,P_da_est/estrusore,V_per_park/estrusore',\n",
       "  'case:concept:name': 1},\n",
       " {'variant': 'V_da_pes/pesatura,P_da_misc/miscelatore,P_da_est/estrusore,V_da_pes/pesatura,P_da_est/estrusore,V_per_park/estrusore',\n",
       "  'case:concept:name': 1},\n",
       " {'variant': 'V_da_pes/pesatura,P_da_misc/miscelatore,P_da_est/estrusore,P_da_est/estrusore,V_per_park/estrusore',\n",
       "  'case:concept:name': 1},\n",
       " {'variant': 'V_da_pes/pesatura,P_da_misc/miscelatore,P_da_est/cat_usc_pieni,P_da_est/nav_serv_carr_pieni,P_da_est/carroponte_1,P_da_est/buffer,P_da_est/estrusore,V_per_park/estrusore',\n",
       "  'case:concept:name': 1},\n",
       " {'variant': 'V_da_pes/pesatura,P_da_misc/miscelatore,Not_def/fuori_impianto,P_da_est/manuale,P_da_est/carroponte_2,P_da_est/estrusore,V_per_park/estrusore',\n",
       "  'case:concept:name': 1},\n",
       " {'variant': 'V_da_pes/pesatura,P_da_est/pesatura,P_da_est/navetta_serv_misc,P_da_est/nav_serv_carr_pieni,P_da_est/carroponte_1,P_da_est/estrusore,V_per_park/estrusore',\n",
       "  'case:concept:name': 1},\n",
       " {'variant': 'V_da_pes/pesatura,P_da_est/pesatura,P_da_est/cat_usc_pieni,P_da_est/nav_serv_carr_pieni,P_da_est/carroponte_1,P_da_est/estrusore,V_per_park/estrusore',\n",
       "  'case:concept:name': 1},\n",
       " {'variant': 'V_da_pes/pesatura,P_da_est/pesatura,P_da_est/cat_usc_pieni,P_da_est/nav_serv_carr_pieni,P_da_est/carroponte_1,P_da_est/estrusore,V_da_pes/estrusore',\n",
       "  'case:concept:name': 1},\n",
       " {'variant': 'V_da_pes/pesatura,P_da_est/pesatura,P_da_est/cat_usc_pieni,P_da_est/nav_serv_carr_pieni,P_da_est/carroponte_1,P_da_est/buffer,V_da_pes/pesatura,P_da_misc/pesatura,P_da_misc/miscelatore,P_da_est/miscelatore,P_da_est/nav_serv_carr_pieni,P_da_est/carroponte_1,P_da_est/buffer,P_da_est/estrusore,V_per_park/estrusore',\n",
       "  'case:concept:name': 1},\n",
       " {'variant': 'V_da_pes/pesatura,P_da_est/estrusore,V_per_park/catenaria_parcheggi,V_da_pes/pesatura,V_per_park/catenaria_parcheggi,P_per_park/pesatura,V_da_pes/pesatura,P_da_est/estrusore,V_da_pes/catenaria_ing_misc,V_da_pes/pesatura,P_da_est/estrusore,V_per_park/catenaria_parcheggi,Not_def/fuori_impianto,P_per_park/pesatura,Not_def/fuori_impianto,P_da_est/estrusore,P_da_est/estrusore,V_per_park/manuale,Not_def/fuori_impianto,P_da_est/estrusore,V_per_park/carroponte_2,V_per_park/manuale,Not_def/fuori_impianto,P_da_est/estrusore,Not_def/fuori_impianto,V_da_pes/miscelatore,V_da_pes/pesatura,P_da_est/estrusore,V_per_park/catenaria_parcheggi,P_per_park/catenaria_parcheggi,P_da_misc/catenaria_ing_misc,P_da_misc/miscelatore,P_da_est/miscelatore,P_da_est/nav_serv_carr_pieni,P_da_est/carroponte_1,P_da_est/estrusore,V_da_pes/estrusore',\n",
       "  'case:concept:name': 1},\n",
       " {'variant': 'V_da_pes/pesatura,P_da_est/estrusore,V_per_park/catenaria_parcheggi,V_da_pes/pesatura,P_da_est/estrusore,V_da_pes/pesatura,P_da_est/estrusore,V_per_park/catenaria_parcheggi,P_da_est/estrusore,V_per_park/catenaria_parcheggi,P_da_est/estrusore,V_da_pes/pesatura,P_da_est/estrusore,V_da_pes/pesatura,P_da_est/estrusore,V_per_park/estrusore',\n",
       "  'case:concept:name': 1},\n",
       " {'variant': 'V_da_pes/pesatura,P_da_est/estrusore,V_per_park/catenaria_parcheggi,V_da_pes/catenaria_ing_misc,V_da_pes/pesatura,V_da_pes/pesatura,P_da_misc/pesatura,P_da_misc/miscelatore,P_da_est/miscelatore,P_da_est/nav_serv_carr_pieni,P_da_est/carroponte_1,P_da_est/estrusore,V_da_pes/estrusore',\n",
       "  'case:concept:name': 1},\n",
       " {'variant': 'V_da_pes/pesatura,P_da_est/estrusore,V_per_park/catenaria_parcheggi,P_da_est/estrusore,V_da_pes/pesatura,P_da_est/estrusore,P_da_est/estrusore,V_da_pes/pesatura,P_da_est/estrusore,P_da_est/estrusore,V_da_pes/pesatura,P_da_est/estrusore,V_da_pes/pesatura,P_da_est/estrusore,V_per_park/estrusore',\n",
       "  'case:concept:name': 1},\n",
       " {'variant': 'V_da_pes/pesatura,P_da_est/estrusore,V_per_park/catenaria_parcheggi,P_da_est/estrusore,V_da_pes/catenaria_ing_misc,V_da_pes/navetta_serv_misc,V_da_pes/pesatura,P_da_misc/pesatura,P_da_misc/miscelatore,P_da_est/miscelatore,P_da_est/nav_serv_carr_pieni,P_da_est/carroponte_1,P_da_est/estrusore,V_da_pes/estrusore',\n",
       "  'case:concept:name': 1},\n",
       " {'variant': 'V_da_pes/pesatura,P_da_est/estrusore,V_per_park/catenaria_parcheggi,P_da_est/estrusore,P_da_est/estrusore,V_da_pes/pesatura,P_da_est/estrusore,P_da_est/estrusore,P_per_park/catenaria_parcheggi,P_da_est/estrusore,V_da_pes/pesatura,P_da_est/estrusore,P_da_est/estrusore,V_da_pes/pesatura,P_da_est/estrusore,V_per_park/catenaria_parcheggi,V_per_park/pesatura,P_per_park/catenaria_parcheggi,P_da_est/estrusore,V_da_pes/pesatura,P_da_est/estrusore,P_da_est/estrusore,V_da_pes/pesatura,P_da_est/estrusore,V_per_park/estrusore',\n",
       "  'case:concept:name': 1},\n",
       " {'variant': 'V_da_pes/pesatura,P_da_est/estrusore,V_da_pes/pesatura,P_per_park/pesatura,P_per_park/catenaria_parcheggi,P_da_est/estrusore,P_da_est/estrusore,V_per_park/catenaria_parcheggi,P_da_misc/pesatura,P_da_est/estrusore,V_per_park/catenaria_parcheggi,V_da_pes/pesatura,P_da_est/estrusore,V_per_park/nav_serv_carr_pieni,V_per_park/catenaria_parcheggi,P_da_est/estrusore,V_da_pes/pesatura,P_da_est/estrusore,V_per_park/estrusore',\n",
       "  'case:concept:name': 1},\n",
       " {'variant': 'V_da_pes/pesatura,P_da_est/estrusore,V_da_pes/pesatura,P_da_misc/miscelatore,P_da_est/estrusore,V_per_park/estrusore',\n",
       "  'case:concept:name': 1},\n",
       " {'variant': 'V_da_pes/pesatura,P_da_est/estrusore,V_da_pes/pesatura,P_da_est/estrusore,V_per_park/estrusore',\n",
       "  'case:concept:name': 1},\n",
       " {'variant': 'V_da_pes/pesatura,P_da_est/estrusore,V_da_pes/pesatura,P_da_est/estrusore,V_da_pes/pesatura,P_da_est/estrusore,V_per_park/estrusore',\n",
       "  'case:concept:name': 1},\n",
       " {'variant': 'V_da_pes/pesatura,P_da_est/estrusore,V_da_pes/pesatura,P_da_est/estrusore,V_da_pes/pesatura,P_da_est/estrusore,V_da_pes/pesatura,P_da_est/estrusore,P_da_est/estrusore,V_da_pes/estrusore',\n",
       "  'case:concept:name': 1},\n",
       " {'variant': 'V_da_pes/pesatura,P_da_est/estrusore,V_da_pes/pesatura,P_da_est/estrusore,V_da_pes/pesatura,P_da_est/estrusore,P_da_est/estrusore,V_da_pes/pesatura,P_da_est/estrusore,V_per_park/catenaria_parcheggi,V_da_pes/pesatura,V_da_pes/pesatura,V_da_pes/pesatura,P_da_est/estrusore,V_per_park/estrusore',\n",
       "  'case:concept:name': 1},\n",
       " {'variant': 'V_da_pes/pesatura,P_da_est/estrusore,V_da_pes/pesatura,P_da_est/estrusore,V_da_pes/catenaria_ing_misc,V_da_pes/pesatura,P_da_est/estrusore,V_per_park/estrusore',\n",
       "  'case:concept:name': 1},\n",
       " {'variant': 'V_da_pes/pesatura,P_da_est/estrusore,V_da_pes/pesatura,P_da_est/estrusore,V_da_pes/catenaria_ing_misc,V_da_pes/pesatura,P_da_est/estrusore,V_da_pes/pesatura,P_da_est/estrusore,P_da_est/estrusore,V_da_pes/pesatura,P_da_est/estrusore,V_da_pes/pesatura,P_da_est/estrusore,V_per_park/catenaria_parcheggi,V_da_pes/pesatura,P_da_est/estrusore,V_da_pes/pesatura,P_da_est/estrusore,V_da_pes/estrusore',\n",
       "  'case:concept:name': 1},\n",
       " {'variant': 'V_da_pes/pesatura,P_da_est/estrusore,V_da_pes/pesatura,P_da_est/estrusore,V_da_pes/catenaria_ing_misc,P_da_est/nav_serv_carr_pieni,P_da_est/estrusore,V_per_park/catenaria_parcheggi,V_per_park/catenaria_parcheggi,V_da_pes/pesatura,P_da_est/estrusore,V_per_park/estrusore',\n",
       "  'case:concept:name': 1},\n",
       " {'variant': 'V_da_pes/pesatura,P_da_est/estrusore,V_da_pes/pesatura,P_da_est/estrusore,P_da_est/estrusore,V_da_pes/pesatura,P_da_est/estrusore,V_per_park/estrusore',\n",
       "  'case:concept:name': 1},\n",
       " {'variant': 'V_da_pes/pesatura,P_da_est/estrusore,V_da_pes/pesatura,P_da_est/estrusore,P_da_est/estrusore,V_da_pes/pesatura,P_da_est/estrusore,V_da_pes/pesatura,P_da_est/estrusore,V_da_pes/pesatura,P_da_est/estrusore,P_da_est/estrusore,V_per_park/catenaria_parcheggi,V_da_pes/pesatura,V_da_pes/pesatura,P_per_park/catenaria_parcheggi,P_per_park/catenaria_parcheggi,V_da_pes/pesatura,P_da_est/estrusore,V_da_pes/pesatura,P_da_est/estrusore,V_da_pes/pesatura,P_da_est/estrusore,V_per_park/catenaria_parcheggi,P_da_misc/miscelatore,P_da_est/miscelatore,P_per_park/miscelatore,P_per_park/cat_usc_pieni,P_per_park/nav_serv_carr_pieni,P_per_park/catenaria_parcheggi,P_da_est/catenaria_ing_misc,P_da_est/nav_serv_carr_pieni,P_da_est/carroponte_1,P_da_est/estrusore,V_da_pes/estrusore',\n",
       "  'case:concept:name': 1},\n",
       " {'variant': 'V_da_pes/pesatura,P_da_est/estrusore,V_da_pes/pesatura,P_da_est/estrusore,P_da_est/estrusore,V_da_pes/pesatura,P_da_est/estrusore,P_da_est/estrusore,V_da_pes/pesatura,P_da_est/estrusore,V_da_pes/pesatura,P_da_est/estrusore,V_da_pes/pesatura,P_da_est/estrusore,V_da_pes/pesatura,P_da_est/estrusore,V_da_pes/pesatura,P_da_est/estrusore,V_da_pes/pesatura,P_da_est/estrusore,V_per_park/estrusore',\n",
       "  'case:concept:name': 1},\n",
       " {'variant': 'V_da_pes/pesatura,P_da_est/estrusore,V_da_pes/estrusore',\n",
       "  'case:concept:name': 1},\n",
       " {'variant': 'V_da_pes/pesatura,P_da_est/estrusore,V_da_pes/catenaria_ing_misc,P_da_est/estrusore,P_da_est/estrusore,P_da_est/estrusore,P_da_est/estrusore,P_da_est/estrusore,V_da_pes/pesatura,P_da_misc/pesatura,P_da_misc/miscelatore,P_da_est/miscelatore,P_da_est/nav_serv_carr_pieni,P_da_est/carroponte_1,P_da_est/estrusore,V_per_park/estrusore',\n",
       "  'case:concept:name': 1},\n",
       " {'variant': 'V_da_pes/pesatura,P_da_est/estrusore,P_da_misc/miscelatore,P_da_est/miscelatore,P_da_est/cat_usc_pieni,P_da_est/nav_serv_carr_pieni,P_da_est/carroponte_1,P_da_est/buffer,P_da_est/estrusore,V_per_park/estrusore',\n",
       "  'case:concept:name': 1},\n",
       " {'variant': 'V_da_pes/pesatura,P_da_est/estrusore,P_da_misc/miscelatore,P_da_est/buffer,P_da_est/estrusore,P_da_est/buffer,P_da_est/estrusore,V_per_park/estrusore',\n",
       "  'case:concept:name': 1},\n",
       " {'variant': 'V_da_pes/pesatura,P_da_est/estrusore,P_da_est/estrusore,V_per_park/estrusore',\n",
       "  'case:concept:name': 1},\n",
       " {'variant': 'V_da_pes/pesatura,P_da_est/estrusore,P_da_est/estrusore,V_da_pes/pesatura,P_da_est/estrusore,V_per_park/carroponte_1,V_da_pes/pesatura,P_da_est/estrusore,V_da_pes/pesatura,P_da_est/estrusore,V_per_park/catenaria_parcheggi,P_da_est/carroponte_1,P_da_est/estrusore,V_per_park/estrusore',\n",
       "  'case:concept:name': 1},\n",
       " {'variant': 'V_da_pes/pesatura,P_da_est/estrusore,P_da_est/estrusore,V_da_pes/catenaria_vuoti,V_da_pes/catenaria_ing_misc,V_da_pes/pesatura,P_da_misc/pesatura,P_da_misc/navetta_serv_misc,P_da_misc/miscelatore,P_da_est/miscelatore,P_da_est/nav_serv_carr_pieni,P_da_est/carroponte_1,P_da_est/buffer,P_da_est/carroponte_2,P_da_est/estrusore,V_per_park/estrusore',\n",
       "  'case:concept:name': 1},\n",
       " {'variant': 'V_da_pes/pesatura,P_da_est/estrusore,P_da_est/estrusore,V_da_pes/catenaria_ing_misc,P_da_est/estrusore,V_da_pes/pesatura,P_da_misc/miscelatore,P_da_est/estrusore,V_per_park/estrusore',\n",
       "  'case:concept:name': 1},\n",
       " {'variant': 'V_da_pes/pesatura,P_da_est/estrusore,P_da_est/estrusore,P_da_est/estrusore,V_da_pes/catenaria_ing_misc,V_da_pes/pesatura,P_da_misc/pesatura,P_da_misc/navetta_serv_misc,P_da_misc/miscelatore,P_da_est/miscelatore,P_da_est/cat_usc_pieni,P_da_est/nav_serv_carr_pieni,P_da_est/carroponte_1,P_da_est/estrusore,V_per_park/estrusore',\n",
       "  'case:concept:name': 1},\n",
       " {'variant': 'V_da_pes/pesatura,P_da_est/estrusore,P_da_est/estrusore,P_da_est/estrusore,P_da_est/estrusore,P_da_est/estrusore,V_da_pes/pesatura,P_da_est/estrusore,V_da_pes/pesatura,P_da_est/estrusore,P_da_est/estrusore,V_per_park/catenaria_parcheggi,V_da_pes/pesatura,P_da_est/estrusore,P_da_est/estrusore,V_per_park/catenaria_parcheggi,V_da_pes/pesatura,P_da_est/estrusore,V_da_pes/pesatura,P_da_est/estrusore,V_da_pes/pesatura,V_per_park/catenaria_parcheggi,P_da_est/cat_usc_pieni,P_da_est/nav_serv_carr_pieni,P_da_est/carroponte_1,P_da_est/estrusore,V_per_park/estrusore',\n",
       "  'case:concept:name': 1},\n",
       " {'variant': 'V_da_pes/pesatura,P_da_est/estrusore,P_da_est/estrusore,P_da_est/cat_usc_pieni,P_da_est/estrusore,P_da_est/estrusore,V_da_pes/catenaria_ing_misc,P_da_est/estrusore,P_da_est/buffer,P_da_est/estrusore,V_per_park/catenaria_parcheggi,P_da_est/estrusore,V_per_park/catenaria_parcheggi,P_da_est/estrusore,V_per_park/catenaria_parcheggi,V_da_pes/pesatura,P_da_est/estrusore,P_da_est/estrusore,P_da_est/buffer,P_da_est/estrusore,P_da_est/estrusore,P_da_est/buffer,P_da_est/estrusore,P_da_est/buffer,P_da_est/estrusore,P_da_est/buffer,P_da_est/estrusore,V_da_pes/pesatura,P_da_est/buffer,P_da_est/estrusore,V_da_pes/pesatura,P_da_est/buffer,P_da_est/estrusore,V_da_pes/pesatura,P_da_est/estrusore,V_per_park/estrusore',\n",
       "  'case:concept:name': 1},\n",
       " {'variant': 'V_da_pes/pesatura,P_da_est/estrusore,P_da_est/estrusore,Not_def/fuori_impianto,P_da_est/estrusore,Not_def/fuori_impianto,P_da_est/estrusore,Not_def/fuori_impianto,Not_def/fuori_impianto,Not_def/fuori_impianto,Not_def/fuori_impianto,P_da_est/estrusore,Not_def/fuori_impianto,P_da_est/estrusore,P_da_est/estrusore,Not_def/fuori_impianto,Not_def/fuori_impianto,Not_def/fuori_impianto,Not_def/fuori_impianto,P_da_est/estrusore,Not_def/fuori_impianto,P_da_est/estrusore,Not_def/fuori_impianto,V_da_pes/pesatura,V_per_park/manuale,Not_def/fuori_impianto,Not_def/fuori_impianto,P_da_est/estrusore,Not_def/fuori_impianto,P_da_est/estrusore,Not_def/fuori_impianto,P_da_est/estrusore,V_per_park/estrusore',\n",
       "  'case:concept:name': 1},\n",
       " {'variant': 'V_da_pes/pesatura,P_da_est/estrusore,P_da_est/catenaria_parcheggi,P_da_est/catenaria_ing_misc,P_da_est/nav_serv_carr_pieni,P_da_est/carroponte_1,P_da_est/estrusore,V_da_pes/estrusore',\n",
       "  'case:concept:name': 1},\n",
       " {'variant': 'V_da_pes/pesatura,P_da_est/estrusore,P_da_est/buffer,P_da_est/estrusore,V_per_park/estrusore',\n",
       "  'case:concept:name': 1},\n",
       " {'variant': 'V_da_pes/pesatura,P_da_est/estrusore,P_da_est/buffer,P_da_est/estrusore,V_per_park/catenaria_parcheggi,V_da_pes/pesatura,P_per_park/catenaria_parcheggi,P_da_est/buffer,P_da_est/estrusore,V_da_pes/pesatura,P_da_est/estrusore,P_da_est/buffer,P_da_est/estrusore,P_da_est/estrusore,P_da_est/buffer,P_da_est/estrusore,P_da_est/estrusore,V_per_park/estrusore',\n",
       "  'case:concept:name': 1},\n",
       " {'variant': 'V_da_pes/pesatura,P_da_est/estrusore,Not_def/fuori_impianto,P_da_est/estrusore,Not_def/fuori_impianto,P_da_est/manuale,P_da_est/carroponte_2,P_da_est/estrusore,V_per_park/estrusore',\n",
       "  'case:concept:name': 1},\n",
       " {'variant': 'V_da_pes/pesatura,P_da_est/cat_usc_pieni,P_da_est/estrusore,P_da_est/buffer,P_da_est/estrusore,V_da_pes/pesatura,P_da_est/estrusore,V_da_pes/pesatura,P_da_est/buffer,P_da_est/estrusore,P_da_est/buffer,P_da_est/estrusore,V_da_pes/nav_serv_carr_pieni,P_da_est/buffer,P_da_est/estrusore,V_per_park/catenaria_parcheggi,V_per_park/carroponte_1,V_per_park/nav_serv_carr_pieni,V_da_pes/catenaria_ing_misc,V_da_pes/pesatura,P_da_misc/pesatura,P_da_misc/miscelatore,P_da_est/miscelatore,P_da_est/nav_serv_carr_pieni,P_da_est/carroponte_1,P_da_est/buffer,P_da_est/estrusore,V_da_pes/carroponte_1,V_da_pes/nav_serv_carr_pieni,V_da_pes/pesatura,P_da_misc/pesatura,P_da_misc/miscelatore,P_da_est/miscelatore,P_da_est/nav_serv_carr_pieni,P_da_est/carroponte_1,P_da_est/buffer,P_da_est/estrusore,V_per_park/estrusore',\n",
       "  'case:concept:name': 1},\n",
       " {'variant': 'V_da_pes/pesatura,P_da_est/carroponte_2,P_da_est/estrusore,V_per_park/estrusore',\n",
       "  'case:concept:name': 1},\n",
       " {'variant': 'V_da_pes/pesatura,P_da_est/buffer,P_da_est/estrusore,P_da_est/buffer,P_da_est/estrusore,P_da_est/buffer,P_da_est/estrusore,V_per_park/estrusore',\n",
       "  'case:concept:name': 1},\n",
       " {'variant': 'V_da_pes/pesatura,Not_def/fuori_impianto,P_per_park/cat_usc_pieni,P_per_park/nav_serv_carr_pieni,P_per_park/catenaria_parcheggi,V_per_park/catenaria_parcheggi,V_da_pes/catenaria_ing_misc,V_per_park/catenaria_ing_misc,P_per_park/cat_usc_pieni,P_per_park/nav_serv_carr_pieni,P_per_park/catenaria_parcheggi,V_per_park/catenaria_parcheggi,Not_def/fuori_impianto,P_per_park/nav_serv_carr_pieni,P_per_park/catenaria_parcheggi,V_per_park/catenaria_parcheggi,P_per_park/catenaria_parcheggi,P_da_misc/catenaria_ing_misc,P_da_misc/miscelatore,P_da_est/miscelatore,P_da_est/nav_serv_carr_pieni,P_da_est/carroponte_1,P_da_est/estrusore,V_per_park/estrusore',\n",
       "  'case:concept:name': 1},\n",
       " {'variant': 'V_da_pes/pesatura,Not_def/fuori_impianto,P_da_est/manuale,P_da_est/carroponte_2,P_da_est/estrusore,V_per_park/carroponte_2,V_da_pes/pesatura,P_da_misc/pesatura,P_da_misc/miscelatore,P_remove/miscelatore,Not_def/fuori_impianto,P_da_est/manuale,P_da_est/carroponte_2,P_da_est/estrusore,V_per_park/estrusore',\n",
       "  'case:concept:name': 1}]"
      ]
     },
     "execution_count": 21,
     "metadata": {},
     "output_type": "execute_result"
    }
   ],
   "source": [
    "variants_count"
   ]
  },
  {
   "cell_type": "code",
   "execution_count": 10,
   "id": "b2a3ca5d",
   "metadata": {},
   "outputs": [
    {
     "data": {
      "image/png": "[encoded data removed]",
      "text/plain": [
       "<IPython.core.display.Image object>"
      ]
     },
     "metadata": {},
     "output_type": "display_data"
    }
   ],
   "source": [
    "#  take most significant variants\n",
    "filtered_log = pm4py.filter_variants_top_k(event_log, 30)\n",
    "\n",
    "#  visualize heuristic net\n",
    "from pm4py.algo.discovery.heuristics import algorithm as heuristics_miner\n",
    "from pm4py.visualization.heuristics_net import visualizer as hn_visualizer\n",
    "heu_net = heuristics_miner.apply_heu(filtered_log,\n",
    "                                     parameters={heuristics_miner.Variants.CLASSIC.value.Parameters.MIN_ACT_COUNT: 1,\n",
    "                                                heuristics_miner.Variants.CLASSIC.value.Parameters.MIN_DFG_OCCURRENCES: 1,\n",
    "                                                heuristics_miner.Variants.CLASSIC.value.Parameters.LOOP_LENGTH_TWO_THRESH: 2})\n",
    "gviz = hn_visualizer.apply(heu_net)\n",
    "hn_visualizer.view(gviz)"
   ]
  },
  {
   "cell_type": "code",
   "execution_count": 23,
   "id": "d817e328",
   "metadata": {},
   "outputs": [],
   "source": [
    "pm4py.save_vis_heuristics_net(heu_net, 'C:/Users/HP/Desktop/huristicnet_post_pes.png')"
   ]
  },
  {
   "cell_type": "code",
   "execution_count": 24,
   "id": "188e263c-d0fb-409e-aefe-6203045323bc",
   "metadata": {},
   "outputs": [
    {
     "data": {
      "text/html": [
       "<div>\n",
       "<style scoped>\n",
       "    .dataframe tbody tr th:only-of-type {\n",
       "        vertical-align: middle;\n",
       "    }\n",
       "\n",
       "    .dataframe tbody tr th {\n",
       "        vertical-align: top;\n",
       "    }\n",
       "\n",
       "    .dataframe thead th {\n",
       "        text-align: right;\n",
       "    }\n",
       "</style>\n",
       "<table border=\"1\" class=\"dataframe\">\n",
       "  <thead>\n",
       "    <tr style=\"text-align: right;\">\n",
       "      <th></th>\n",
       "      <th>cono</th>\n",
       "      <th>rif</th>\n",
       "      <th>ID_unique</th>\n",
       "      <th>timestamp</th>\n",
       "      <th>case:concept:name</th>\n",
       "      <th>concept:name</th>\n",
       "      <th>time:timestamp</th>\n",
       "      <th>@@index</th>\n",
       "    </tr>\n",
       "  </thead>\n",
       "  <tbody>\n",
       "    <tr>\n",
       "      <th>0</th>\n",
       "      <td>1</td>\n",
       "      <td>V_da_pes/pesatura</td>\n",
       "      <td>0C1</td>\n",
       "      <td>2022-03-23 01:54:52+00:00</td>\n",
       "      <td>0C1</td>\n",
       "      <td>V_da_pes/pesatura</td>\n",
       "      <td>2022-03-23 01:54:52+00:00</td>\n",
       "      <td>0</td>\n",
       "    </tr>\n",
       "    <tr>\n",
       "      <th>1</th>\n",
       "      <td>1</td>\n",
       "      <td>P_da_misc/pesatura</td>\n",
       "      <td>0C1</td>\n",
       "      <td>2022-03-23 02:09:10+00:00</td>\n",
       "      <td>0C1</td>\n",
       "      <td>P_da_misc/pesatura</td>\n",
       "      <td>2022-03-23 02:09:10+00:00</td>\n",
       "      <td>1</td>\n",
       "    </tr>\n",
       "    <tr>\n",
       "      <th>2</th>\n",
       "      <td>1</td>\n",
       "      <td>P_da_misc/miscelatore</td>\n",
       "      <td>0C1</td>\n",
       "      <td>2022-03-23 02:11:28+00:00</td>\n",
       "      <td>0C1</td>\n",
       "      <td>P_da_misc/miscelatore</td>\n",
       "      <td>2022-03-23 02:11:28+00:00</td>\n",
       "      <td>2</td>\n",
       "    </tr>\n",
       "    <tr>\n",
       "      <th>3</th>\n",
       "      <td>1</td>\n",
       "      <td>P_da_est/miscelatore</td>\n",
       "      <td>0C1</td>\n",
       "      <td>2022-03-23 02:13:45+00:00</td>\n",
       "      <td>0C1</td>\n",
       "      <td>P_da_est/miscelatore</td>\n",
       "      <td>2022-03-23 02:13:45+00:00</td>\n",
       "      <td>3</td>\n",
       "    </tr>\n",
       "    <tr>\n",
       "      <th>4</th>\n",
       "      <td>1</td>\n",
       "      <td>P_da_est/cat_usc_pieni</td>\n",
       "      <td>0C1</td>\n",
       "      <td>2022-03-23 02:14:54+00:00</td>\n",
       "      <td>0C1</td>\n",
       "      <td>P_da_est/cat_usc_pieni</td>\n",
       "      <td>2022-03-23 02:14:54+00:00</td>\n",
       "      <td>4</td>\n",
       "    </tr>\n",
       "    <tr>\n",
       "      <th>...</th>\n",
       "      <td>...</td>\n",
       "      <td>...</td>\n",
       "      <td>...</td>\n",
       "      <td>...</td>\n",
       "      <td>...</td>\n",
       "      <td>...</td>\n",
       "      <td>...</td>\n",
       "      <td>...</td>\n",
       "    </tr>\n",
       "    <tr>\n",
       "      <th>5066</th>\n",
       "      <td>7</td>\n",
       "      <td>P_da_est/miscelatore</td>\n",
       "      <td>9C7</td>\n",
       "      <td>2022-03-30 14:22:54+00:00</td>\n",
       "      <td>9C7</td>\n",
       "      <td>P_da_est/miscelatore</td>\n",
       "      <td>2022-03-30 14:22:54+00:00</td>\n",
       "      <td>5066</td>\n",
       "    </tr>\n",
       "    <tr>\n",
       "      <th>5067</th>\n",
       "      <td>7</td>\n",
       "      <td>P_da_est/nav_serv_carr_pieni</td>\n",
       "      <td>9C7</td>\n",
       "      <td>2022-03-30 14:25:11+00:00</td>\n",
       "      <td>9C7</td>\n",
       "      <td>P_da_est/nav_serv_carr_pieni</td>\n",
       "      <td>2022-03-30 14:25:11+00:00</td>\n",
       "      <td>5067</td>\n",
       "    </tr>\n",
       "    <tr>\n",
       "      <th>5068</th>\n",
       "      <td>7</td>\n",
       "      <td>P_da_est/carroponte_1</td>\n",
       "      <td>9C7</td>\n",
       "      <td>2022-03-30 14:26:54+00:00</td>\n",
       "      <td>9C7</td>\n",
       "      <td>P_da_est/carroponte_1</td>\n",
       "      <td>2022-03-30 14:26:54+00:00</td>\n",
       "      <td>5068</td>\n",
       "    </tr>\n",
       "    <tr>\n",
       "      <th>5069</th>\n",
       "      <td>7</td>\n",
       "      <td>P_da_est/estrusore</td>\n",
       "      <td>9C7</td>\n",
       "      <td>2022-03-30 14:28:37+00:00</td>\n",
       "      <td>9C7</td>\n",
       "      <td>P_da_est/estrusore</td>\n",
       "      <td>2022-03-30 14:28:37+00:00</td>\n",
       "      <td>5069</td>\n",
       "    </tr>\n",
       "    <tr>\n",
       "      <th>5070</th>\n",
       "      <td>7</td>\n",
       "      <td>V_per_park/estrusore</td>\n",
       "      <td>9C7</td>\n",
       "      <td>2022-03-30 15:03:31+00:00</td>\n",
       "      <td>9C7</td>\n",
       "      <td>V_per_park/estrusore</td>\n",
       "      <td>2022-03-30 15:03:31+00:00</td>\n",
       "      <td>5070</td>\n",
       "    </tr>\n",
       "  </tbody>\n",
       "</table>\n",
       "<p>13068 rows × 8 columns</p>\n",
       "</div>"
      ],
      "text/plain": [
       "      cono                           rif ID_unique                 timestamp  \\\n",
       "0        1             V_da_pes/pesatura       0C1 2022-03-23 01:54:52+00:00   \n",
       "1        1            P_da_misc/pesatura       0C1 2022-03-23 02:09:10+00:00   \n",
       "2        1         P_da_misc/miscelatore       0C1 2022-03-23 02:11:28+00:00   \n",
       "3        1          P_da_est/miscelatore       0C1 2022-03-23 02:13:45+00:00   \n",
       "4        1        P_da_est/cat_usc_pieni       0C1 2022-03-23 02:14:54+00:00   \n",
       "...    ...                           ...       ...                       ...   \n",
       "5066     7          P_da_est/miscelatore       9C7 2022-03-30 14:22:54+00:00   \n",
       "5067     7  P_da_est/nav_serv_carr_pieni       9C7 2022-03-30 14:25:11+00:00   \n",
       "5068     7         P_da_est/carroponte_1       9C7 2022-03-30 14:26:54+00:00   \n",
       "5069     7            P_da_est/estrusore       9C7 2022-03-30 14:28:37+00:00   \n",
       "5070     7          V_per_park/estrusore       9C7 2022-03-30 15:03:31+00:00   \n",
       "\n",
       "     case:concept:name                  concept:name  \\\n",
       "0                  0C1             V_da_pes/pesatura   \n",
       "1                  0C1            P_da_misc/pesatura   \n",
       "2                  0C1         P_da_misc/miscelatore   \n",
       "3                  0C1          P_da_est/miscelatore   \n",
       "4                  0C1        P_da_est/cat_usc_pieni   \n",
       "...                ...                           ...   \n",
       "5066               9C7          P_da_est/miscelatore   \n",
       "5067               9C7  P_da_est/nav_serv_carr_pieni   \n",
       "5068               9C7         P_da_est/carroponte_1   \n",
       "5069               9C7            P_da_est/estrusore   \n",
       "5070               9C7          V_per_park/estrusore   \n",
       "\n",
       "                time:timestamp  @@index  \n",
       "0    2022-03-23 01:54:52+00:00        0  \n",
       "1    2022-03-23 02:09:10+00:00        1  \n",
       "2    2022-03-23 02:11:28+00:00        2  \n",
       "3    2022-03-23 02:13:45+00:00        3  \n",
       "4    2022-03-23 02:14:54+00:00        4  \n",
       "...                        ...      ...  \n",
       "5066 2022-03-30 14:22:54+00:00     5066  \n",
       "5067 2022-03-30 14:25:11+00:00     5067  \n",
       "5068 2022-03-30 14:26:54+00:00     5068  \n",
       "5069 2022-03-30 14:28:37+00:00     5069  \n",
       "5070 2022-03-30 15:03:31+00:00     5070  \n",
       "\n",
       "[13068 rows x 8 columns]"
      ]
     },
     "execution_count": 24,
     "metadata": {},
     "output_type": "execute_result"
    }
   ],
   "source": [
    "filtered_log"
   ]
  },
  {
   "cell_type": "markdown",
   "id": "de6e54b9",
   "metadata": {},
   "source": [
    "### Calcolo intertempi tra le attività"
   ]
  },
  {
   "cell_type": "code",
   "execution_count": 13,
   "id": "ea7a80bc",
   "metadata": {},
   "outputs": [],
   "source": [
    "delta_t_est = {'pesatura': [],\n",
    "              'hand_to_misc': [],\n",
    "              'miscelazione': [],\n",
    "              'hand_to_est':[],\n",
    "              'estrusione': []}\n",
    "\n",
    "df_est = filtered_log[['ID_unique', 'rif', 'timestamp']].copy()"
   ]
  },
  {
   "cell_type": "code",
   "execution_count": 14,
   "id": "d4e90a6e",
   "metadata": {},
   "outputs": [],
   "source": [
    "for idu in df_est['ID_unique'].unique():\n",
    "    mask = df_est['ID_unique'] == idu\n",
    "    df_tmp = df_est[mask].sort_values('timestamp')\n",
    "    df_tmp.set_index('rif', inplace=True)\n",
    "    if len(df_tmp) == len(df_tmp.index.unique()):\n",
    "        for k in delta_t_est:\n",
    "            minuendo = None\n",
    "            sottraendo = None\n",
    "            if k == 'pesatura':\n",
    "                if 'P_da_misc/pesatura' in df_tmp.index:\n",
    "                    minuendo = 'P_da_misc/pesatura'\n",
    "                    sottraendo = 'V_da_pes/pesatura'\n",
    "                else:\n",
    "                    continue\n",
    "                #-----------\n",
    "            elif k == 'hand_to_misc':\n",
    "                if 'P_da_misc/pesatura' in df_tmp.index:\n",
    "                    minuendo = 'P_da_misc/miscelatore'\n",
    "                    sottraendo = 'P_da_misc/pesatura'\n",
    "                else:\n",
    "                    continue\n",
    "                #-----------\n",
    "            elif k == 'miscelazione':\n",
    "                if 'P_remove/miscelatore' in df_tmp.index:\n",
    "                    minuendo = 'P_remove/miscelatore'\n",
    "                    sottraendo = 'P_da_misc/miscelatore'\n",
    "                elif 'P_da_est/miscelatore' in df_tmp.index:\n",
    "                    minuendo = 'P_da_est/miscelatore'\n",
    "                    sottraendo = 'P_da_misc/miscelatore'\n",
    "                #----------------\n",
    "            elif k == 'hand_to_est':\n",
    "                if 'P_da_est/buffer' in df_tmp.index and 'P_da_est/cat_usc_pieni' in df_tmp.index:\n",
    "                    minuendo = 'P_da_est/buffer'\n",
    "                    sottraendo = 'P_da_est/cat_usc_pieni'\n",
    "                elif 'P_da_est/buffer' in df_tmp.index and 'P_da_est/miscelatore' in df_tmp.index and 'P_da_est/cat_usc_pieni' not in df_tmp.index:\n",
    "                    minuendo = 'P_da_est/buffer'\n",
    "                    sottraendo = 'P_da_est/miscelatore'\n",
    "                elif 'P_da_est/estrusore' in df_tmp.index and 'P_da_est/cat_usc_pieni' in df_tmp.index and 'P_da_est/buffer' not in df_tmp.index:\n",
    "                    minuendo = 'P_da_est/estrusore'\n",
    "                    sottraendo = 'P_da_est/cat_usc_pieni'\n",
    "                elif 'P_da_est/estrusore' in df_tmp.index and 'P_da_est/miscelatore' in df_tmp.index and 'P_da_est/cat_usc_pieni' not in df_tmp.index and 'P_da_est/buffer' not in df_tmp.index:\n",
    "                    minuendo = 'P_da_est/estrusore'\n",
    "                    sottraendo = 'P_da_est/miscelatore'\n",
    "                # ------------------\n",
    "            elif k == 'estrusione':\n",
    "                if 'V_da_pes/estrusore' in df_tmp.index:\n",
    "                    minuendo = 'V_da_pes/estrusore'\n",
    "                    sottraendo = 'P_da_est/estrusore'\n",
    "                else:\n",
    "                    minuendo = 'V_per_park/estrusore'\n",
    "                    sottraendo = 'P_da_est/estrusore'\n",
    "\n",
    "            if minuendo in df_tmp.index and sottraendo in df_tmp.index:\n",
    "                dt = np.round(\n",
    "                    (df_tmp.loc[minuendo, 'timestamp'] - df_tmp.loc[sottraendo, 'timestamp']).total_seconds() / 60, 4)\n",
    "                delta_t_est[k].append(dt)"
   ]
  },
  {
   "cell_type": "code",
   "execution_count": 27,
   "id": "3939c4ba-48c4-4564-9136-ba27eec2b248",
   "metadata": {},
   "outputs": [
    {
     "data": {
      "text/plain": [
       "dict_keys(['pesatura', 'hand_to_misc', 'miscelazione', 'hand_to_est', 'estrusione'])"
      ]
     },
     "execution_count": 27,
     "metadata": {},
     "output_type": "execute_result"
    }
   ],
   "source": [
    "delta_t_est.keys()"
   ]
  },
  {
   "cell_type": "code",
   "execution_count": 15,
   "id": "51a248cf",
   "metadata": {},
   "outputs": [],
   "source": [
    "def quantile(column,pct,pct_lower):\n",
    "    y = column\n",
    "    y.dropna(inplace=True)\n",
    "    y = y.values\n",
    "    y.sort()\n",
    "    len_y = len(y)\n",
    "    y = y[int(pct_lower * len_y):int(len_y * pct)]\n",
    "    return (y)"
   ]
  },
  {
   "cell_type": "code",
   "execution_count": 16,
   "id": "ada7b740",
   "metadata": {},
   "outputs": [],
   "source": [
    "def quantile2(column,pct,pct_lower):\n",
    "    y = column\n",
    "    y.sort()\n",
    "    len_y = len(y)\n",
    "    y = y[int(pct_lower * len_y):int(len_y * pct)]\n",
    "    return y"
   ]
  },
  {
   "cell_type": "code",
   "execution_count": 30,
   "id": "1b1295f2-3ae3-44f6-8446-63cb65587564",
   "metadata": {},
   "outputs": [],
   "source": [
    "for k in delta_t_est:\n",
    "    delta_t_est[k] = quantile2( delta_t_est[k], 0.999, 0.001)\n",
    "# non l'ho fatta per ora"
   ]
  },
  {
   "cell_type": "code",
   "execution_count": 17,
   "id": "fbd0f292",
   "metadata": {},
   "outputs": [],
   "source": [
    "df_dt = pd.DataFrame.from_dict(delta_t_est, orient='index').transpose()"
   ]
  },
  {
   "cell_type": "code",
   "execution_count": 18,
   "id": "befc1cef",
   "metadata": {},
   "outputs": [
    {
     "name": "stdout",
     "output_type": "stream",
     "text": [
      "<class 'pandas.core.frame.DataFrame'>\n",
      "RangeIndex: 1437 entries, 0 to 1436\n",
      "Data columns (total 5 columns):\n",
      " #   Column        Non-Null Count  Dtype  \n",
      "---  ------        --------------  -----  \n",
      " 0   pesatura      1401 non-null   float64\n",
      " 1   hand_to_misc  1401 non-null   float64\n",
      " 2   miscelazione  1364 non-null   float64\n",
      " 3   hand_to_est   1360 non-null   float64\n",
      " 4   estrusione    1437 non-null   float64\n",
      "dtypes: float64(5)\n",
      "memory usage: 56.3 KB\n"
     ]
    }
   ],
   "source": [
    "df_dt.info()"
   ]
  },
  {
   "cell_type": "markdown",
   "id": "f91157b6",
   "metadata": {},
   "source": [
    "### Data visualization"
   ]
  },
  {
   "cell_type": "code",
   "execution_count": 32,
   "id": "368fb1f3",
   "metadata": {},
   "outputs": [
    {
     "data": {
      "text/plain": [
       "<seaborn.axisgrid.FacetGrid at 0x1ce997b5550>"
      ]
     },
     "execution_count": 32,
     "metadata": {},
     "output_type": "execute_result"
    },
    {
     "data": {
      "image/png": "[encoded data removed]",
      "text/plain": [
       "<Figure size 540x360 with 1 Axes>"
      ]
     },
     "metadata": {},
     "output_type": "display_data"
    }
   ],
   "source": [
    "sns.set_style('white')\n",
    "sns.set_context(\"paper\", font_scale = 2)\n",
    "sns.displot(data=df_dt, x=\"pesatura\", kind=\"hist\", bins = 100, aspect = 1.5)"
   ]
  },
  {
   "cell_type": "code",
   "execution_count": 33,
   "id": "3256def2",
   "metadata": {},
   "outputs": [
    {
     "data": {
      "text/plain": [
       "9.030218181818181"
      ]
     },
     "execution_count": 33,
     "metadata": {},
     "output_type": "execute_result"
    }
   ],
   "source": [
    "np.mean(quantile(df_dt['pesatura'], 0.99, 0))"
   ]
  },
  {
   "cell_type": "code",
   "execution_count": 34,
   "id": "8bcb7fad",
   "metadata": {},
   "outputs": [
    {
     "data": {
      "text/plain": [
       "<seaborn.axisgrid.FacetGrid at 0x1ce983683d0>"
      ]
     },
     "execution_count": 34,
     "metadata": {},
     "output_type": "execute_result"
    },
    {
     "data": {
      "image/png": "[encoded data removed]",
      "text/plain": [
       "<Figure size 540x360 with 1 Axes>"
      ]
     },
     "metadata": {},
     "output_type": "display_data"
    }
   ],
   "source": [
    "sns.set_style('white')\n",
    "sns.set_context(\"paper\", font_scale = 2)\n",
    "sns.displot(data=df_dt, x=\"hand_to_misc\", kind=\"hist\", bins = 50, aspect = 1.5)"
   ]
  },
  {
   "cell_type": "code",
   "execution_count": 35,
   "id": "3e360f72",
   "metadata": {},
   "outputs": [
    {
     "data": {
      "text/plain": [
       "<seaborn.axisgrid.FacetGrid at 0x1ce99581400>"
      ]
     },
     "execution_count": 35,
     "metadata": {},
     "output_type": "execute_result"
    },
    {
     "data": {
      "image/png": "[encoded data removed]",
      "text/plain": [
       "<Figure size 540x360 with 1 Axes>"
      ]
     },
     "metadata": {},
     "output_type": "display_data"
    }
   ],
   "source": [
    "sns.set_style('white')\n",
    "sns.set_context(\"paper\", font_scale = 2)\n",
    "sns.displot(data=df_dt, x=\"miscelazione\", kind=\"hist\", bins = 50, aspect = 1.5)"
   ]
  },
  {
   "cell_type": "code",
   "execution_count": 36,
   "id": "1cfedb73",
   "metadata": {},
   "outputs": [
    {
     "data": {
      "text/plain": [
       "<seaborn.axisgrid.FacetGrid at 0x1ce987e1fd0>"
      ]
     },
     "execution_count": 36,
     "metadata": {},
     "output_type": "execute_result"
    },
    {
     "data": {
      "image/png": "[encoded data removed]",
      "text/plain": [
       "<Figure size 540x360 with 1 Axes>"
      ]
     },
     "metadata": {},
     "output_type": "display_data"
    }
   ],
   "source": [
    "sns.set_style('white')\n",
    "sns.set_context(\"paper\", font_scale = 2)\n",
    "sns.displot(data=df_dt, x=\"hand_to_est\", kind=\"hist\", bins = 60, aspect = 1.5)"
   ]
  },
  {
   "cell_type": "code",
   "execution_count": 37,
   "id": "a1928da5",
   "metadata": {},
   "outputs": [
    {
     "data": {
      "text/plain": [
       "<seaborn.axisgrid.FacetGrid at 0x1ce98d4ca30>"
      ]
     },
     "execution_count": 37,
     "metadata": {},
     "output_type": "execute_result"
    },
    {
     "data": {
      "image/png": "[encoded data removed]",
      "text/plain": [
       "<Figure size 540x360 with 1 Axes>"
      ]
     },
     "metadata": {},
     "output_type": "display_data"
    }
   ],
   "source": [
    "ns = pd.concat([df_dt['estrusione'], df_t_est['est_time']], ignore_index=True)\n",
    "dt_est = quantile(ns, 0.99, 0.01)\n",
    "sns.set_style('white')\n",
    "sns.set_context(\"paper\", font_scale = 2)\n",
    "sns.displot(data=dt_est, kind=\"hist\", bins = 100, aspect = 1.5)"
   ]
  },
  {
   "cell_type": "markdown",
   "id": "711ac541",
   "metadata": {},
   "source": [
    "### Fitting distributions to data"
   ]
  },
  {
   "cell_type": "code",
   "execution_count": 38,
   "id": "f572b14a",
   "metadata": {},
   "outputs": [
    {
     "name": "stderr",
     "output_type": "stream",
     "text": [
      "WARNING:root:SKIPPED alpha distribution (taking more than 30 seconds)\n",
      "WARNING:root:SKIPPED argus distribution (taking more than 30 seconds)\n",
      "WARNING:root:SKIPPED beta distribution (taking more than 30 seconds)\n",
      "WARNING:root:SKIPPED betaprime distribution (taking more than 30 seconds)\n",
      "WARNING:root:SKIPPED burr distribution (taking more than 30 seconds)\n",
      "WARNING:root:SKIPPED burr12 distribution (taking more than 30 seconds)\n",
      "WARNING:root:SKIPPED chi distribution (taking more than 30 seconds)\n",
      "WARNING:root:SKIPPED chi2 distribution (taking more than 30 seconds)\n",
      "WARNING:root:SKIPPED crystalball distribution (taking more than 30 seconds)\n",
      "WARNING:root:SKIPPED dgamma distribution (taking more than 30 seconds)\n",
      "WARNING:root:SKIPPED dweibull distribution (taking more than 30 seconds)\n",
      "WARNING:root:SKIPPED erlang distribution (taking more than 30 seconds)\n",
      "WARNING:root:SKIPPED exponpow distribution (taking more than 30 seconds)\n",
      "WARNING:root:SKIPPED exponweib distribution (taking more than 30 seconds)\n",
      "WARNING:root:SKIPPED f distribution (taking more than 30 seconds)\n",
      "WARNING:root:SKIPPED fisk distribution (taking more than 30 seconds)\n",
      "WARNING:root:SKIPPED foldcauchy distribution (taking more than 30 seconds)\n",
      "WARNING:root:SKIPPED foldnorm distribution (taking more than 30 seconds)\n",
      "WARNING:root:SKIPPED gamma distribution (taking more than 30 seconds)\n",
      "WARNING:root:SKIPPED gausshyper distribution (taking more than 30 seconds)\n",
      "WARNING:root:SKIPPED genexpon distribution (taking more than 30 seconds)\n",
      "WARNING:root:SKIPPED genextreme distribution (taking more than 30 seconds)\n",
      "WARNING:root:SKIPPED gengamma distribution (taking more than 30 seconds)\n",
      "WARNING:root:SKIPPED genhalflogistic distribution (taking more than 30 seconds)\n",
      "WARNING:root:SKIPPED genhyperbolic distribution (taking more than 30 seconds)\n",
      "WARNING:root:SKIPPED geninvgauss distribution (taking more than 30 seconds)\n",
      "WARNING:root:SKIPPED genlogistic distribution (taking more than 30 seconds)\n",
      "WARNING:root:SKIPPED genpareto distribution (taking more than 30 seconds)\n",
      "WARNING:root:SKIPPED gompertz distribution (taking more than 30 seconds)\n",
      "WARNING:root:SKIPPED halfgennorm distribution (taking more than 30 seconds)\n",
      "WARNING:root:SKIPPED invweibull distribution (taking more than 30 seconds)\n",
      "WARNING:root:SKIPPED johnsonsb distribution (taking more than 30 seconds)\n",
      "WARNING:root:SKIPPED johnsonsu distribution (taking more than 30 seconds)\n",
      "WARNING:root:SKIPPED kstwo distribution (taking more than 30 seconds)\n",
      "WARNING:root:SKIPPED kappa3 distribution (taking more than 30 seconds)\n",
      "WARNING:root:SKIPPED kappa4 distribution (taking more than 30 seconds)\n",
      "WARNING:root:SKIPPED ksone distribution (taking more than 30 seconds)\n",
      "WARNING:root:SKIPPED levy_l distribution (taking more than 30 seconds)\n",
      "WARNING:root:SKIPPED levy_stable distribution (taking more than 30 seconds)\n",
      "WARNING:root:SKIPPED loggamma distribution (taking more than 30 seconds)\n",
      "WARNING:root:SKIPPED lognorm distribution (taking more than 30 seconds)\n",
      "WARNING:root:SKIPPED lomax distribution (taking more than 30 seconds)\n",
      "WARNING:root:SKIPPED mielke distribution (taking more than 30 seconds)\n",
      "WARNING:root:SKIPPED nakagami distribution (taking more than 30 seconds)\n",
      "WARNING:root:SKIPPED ncf distribution (taking more than 30 seconds)\n",
      "WARNING:root:SKIPPED nct distribution (taking more than 30 seconds)\n",
      "WARNING:root:SKIPPED ncx2 distribution (taking more than 30 seconds)\n",
      "WARNING:root:SKIPPED norminvgauss distribution (taking more than 30 seconds)\n",
      "WARNING:root:SKIPPED pearson3 distribution (taking more than 30 seconds)\n",
      "WARNING:root:SKIPPED powerlaw distribution (taking more than 30 seconds)\n",
      "WARNING:root:SKIPPED powerlognorm distribution (taking more than 30 seconds)\n",
      "WARNING:root:SKIPPED powernorm distribution (taking more than 30 seconds)\n",
      "WARNING:root:SKIPPED rdist distribution (taking more than 30 seconds)\n",
      "WARNING:root:SKIPPED rv_continuous distribution (taking more than 30 seconds)\n",
      "WARNING:root:SKIPPED rv_histogram distribution (taking more than 30 seconds)\n",
      "WARNING:root:SKIPPED recipinvgauss distribution (taking more than 30 seconds)\n",
      "WARNING:root:SKIPPED rice distribution (taking more than 30 seconds)\n",
      "WARNING:root:SKIPPED semicircular distribution (taking more than 30 seconds)\n",
      "WARNING:root:SKIPPED skewcauchy distribution (taking more than 30 seconds)\n",
      "WARNING:root:SKIPPED skewnorm distribution (taking more than 30 seconds)\n",
      "WARNING:root:SKIPPED studentized_range distribution (taking more than 30 seconds)\n",
      "WARNING:root:SKIPPED t distribution (taking more than 30 seconds)\n",
      "WARNING:root:SKIPPED trapezoid distribution (taking more than 30 seconds)\n",
      "WARNING:root:SKIPPED trapz distribution (taking more than 30 seconds)\n",
      "WARNING:root:SKIPPED triang distribution (taking more than 30 seconds)\n",
      "WARNING:root:SKIPPED truncexpon distribution (taking more than 30 seconds)\n",
      "WARNING:root:SKIPPED tukeylambda distribution (taking more than 30 seconds)\n",
      "WARNING:root:SKIPPED vonmises distribution (taking more than 30 seconds)\n",
      "WARNING:root:SKIPPED vonmises_line distribution (taking more than 30 seconds)\n",
      "WARNING:root:SKIPPED weibull_max distribution (taking more than 30 seconds)\n",
      "WARNING:root:SKIPPED weibull_min distribution (taking more than 30 seconds)\n",
      "WARNING:root:SKIPPED wrapcauchy distribution (taking more than 30 seconds)\n"
     ]
    },
    {
     "data": {
      "text/html": [
       "<div>\n",
       "<style scoped>\n",
       "    .dataframe tbody tr th:only-of-type {\n",
       "        vertical-align: middle;\n",
       "    }\n",
       "\n",
       "    .dataframe tbody tr th {\n",
       "        vertical-align: top;\n",
       "    }\n",
       "\n",
       "    .dataframe thead th {\n",
       "        text-align: right;\n",
       "    }\n",
       "</style>\n",
       "<table border=\"1\" class=\"dataframe\">\n",
       "  <thead>\n",
       "    <tr style=\"text-align: right;\">\n",
       "      <th></th>\n",
       "      <th>sumsquare_error</th>\n",
       "      <th>aic</th>\n",
       "      <th>bic</th>\n",
       "      <th>kl_div</th>\n",
       "    </tr>\n",
       "  </thead>\n",
       "  <tbody>\n",
       "    <tr>\n",
       "      <th>invgamma</th>\n",
       "      <td>4.861794e-07</td>\n",
       "      <td>5197.493741</td>\n",
       "      <td>-30494.328493</td>\n",
       "      <td>inf</td>\n",
       "    </tr>\n",
       "    <tr>\n",
       "      <th>laplace</th>\n",
       "      <td>2.129533e-06</td>\n",
       "      <td>38343.307192</td>\n",
       "      <td>-28432.183523</td>\n",
       "      <td>inf</td>\n",
       "    </tr>\n",
       "    <tr>\n",
       "      <th>exponnorm</th>\n",
       "      <td>1.413184e-05</td>\n",
       "      <td>27932.970937</td>\n",
       "      <td>-25773.507930</td>\n",
       "      <td>inf</td>\n",
       "    </tr>\n",
       "    <tr>\n",
       "      <th>halflogistic</th>\n",
       "      <td>1.615648e-05</td>\n",
       "      <td>32120.755951</td>\n",
       "      <td>-25593.171105</td>\n",
       "      <td>inf</td>\n",
       "    </tr>\n",
       "    <tr>\n",
       "      <th>laplace_asymmetric</th>\n",
       "      <td>1.870295e-05</td>\n",
       "      <td>27608.924537</td>\n",
       "      <td>-25380.876406</td>\n",
       "      <td>inf</td>\n",
       "    </tr>\n",
       "  </tbody>\n",
       "</table>\n",
       "</div>"
      ],
      "text/plain": [
       "                    sumsquare_error           aic           bic  kl_div\n",
       "invgamma               4.861794e-07   5197.493741 -30494.328493     inf\n",
       "laplace                2.129533e-06  38343.307192 -28432.183523     inf\n",
       "exponnorm              1.413184e-05  27932.970937 -25773.507930     inf\n",
       "halflogistic           1.615648e-05  32120.755951 -25593.171105     inf\n",
       "laplace_asymmetric     1.870295e-05  27608.924537 -25380.876406     inf"
      ]
     },
     "execution_count": 38,
     "metadata": {},
     "output_type": "execute_result"
    },
    {
     "data": {
      "image/png": "[encoded data removed]",
      "text/plain": [
       "<Figure size 432x288 with 1 Axes>"
      ]
     },
     "metadata": {},
     "output_type": "display_data"
    }
   ],
   "source": [
    "#  extract best fitting distribution from 'pesatura'\n",
    "#data = quantile(df_dt['pesatura'], 0.99, 0.01)\n",
    "data = df_dt['pesatura']\n",
    "data.dropna(inplace=True)\n",
    "data = data.values\n",
    "f = Fitter(data)\n",
    "f.fit()\n",
    "f.summary()"
   ]
  },
  {
   "cell_type": "code",
   "execution_count": 39,
   "id": "77a3984d",
   "metadata": {},
   "outputs": [
    {
     "data": {
      "text/plain": [
       "{'invgamma': {'a': 5.591250717049744,\n",
       "  'loc': -2.5856828905603355,\n",
       "  'scale': 55.61417364542359}}"
      ]
     },
     "execution_count": 39,
     "metadata": {},
     "output_type": "execute_result"
    }
   ],
   "source": [
    "f.get_best(method = 'sumsquare_error')"
   ]
  },
  {
   "cell_type": "code",
   "execution_count": 40,
   "id": "3ef248a4-275a-4cc6-983f-cd4ef2e6c0b8",
   "metadata": {},
   "outputs": [
    {
     "name": "stderr",
     "output_type": "stream",
     "text": [
      "WARNING:root:SKIPPED alpha distribution (taking more than 30 seconds)\n",
      "WARNING:root:SKIPPED argus distribution (taking more than 30 seconds)\n",
      "WARNING:root:SKIPPED anglit distribution (taking more than 30 seconds)\n",
      "WARNING:root:SKIPPED arcsine distribution (taking more than 30 seconds)\n",
      "WARNING:root:SKIPPED beta distribution (taking more than 30 seconds)\n",
      "WARNING:root:SKIPPED betaprime distribution (taking more than 30 seconds)\n",
      "WARNING:root:SKIPPED bradford distribution (taking more than 30 seconds)\n",
      "WARNING:root:SKIPPED burr distribution (taking more than 30 seconds)\n",
      "WARNING:root:SKIPPED burr12 distribution (taking more than 30 seconds)\n",
      "WARNING:root:SKIPPED chi distribution (taking more than 30 seconds)\n",
      "WARNING:root:SKIPPED crystalball distribution (taking more than 30 seconds)\n",
      "WARNING:root:SKIPPED dgamma distribution (taking more than 30 seconds)\n",
      "WARNING:root:SKIPPED dweibull distribution (taking more than 30 seconds)\n",
      "WARNING:root:SKIPPED erlang distribution (taking more than 30 seconds)\n",
      "WARNING:root:SKIPPED exponnorm distribution (taking more than 30 seconds)\n",
      "WARNING:root:SKIPPED exponpow distribution (taking more than 30 seconds)\n",
      "WARNING:root:SKIPPED exponweib distribution (taking more than 30 seconds)\n",
      "WARNING:root:SKIPPED f distribution (taking more than 30 seconds)\n",
      "WARNING:root:SKIPPED fatiguelife distribution (taking more than 30 seconds)\n",
      "WARNING:root:SKIPPED fisk distribution (taking more than 30 seconds)\n",
      "WARNING:root:SKIPPED foldcauchy distribution (taking more than 30 seconds)\n",
      "WARNING:root:SKIPPED foldnorm distribution (taking more than 30 seconds)\n",
      "WARNING:root:SKIPPED gamma distribution (taking more than 30 seconds)\n",
      "WARNING:root:SKIPPED gausshyper distribution (taking more than 30 seconds)\n",
      "WARNING:root:SKIPPED genexpon distribution (taking more than 30 seconds)\n",
      "WARNING:root:SKIPPED genextreme distribution (taking more than 30 seconds)\n",
      "WARNING:root:SKIPPED gengamma distribution (taking more than 30 seconds)\n",
      "WARNING:root:SKIPPED genhalflogistic distribution (taking more than 30 seconds)\n",
      "WARNING:root:SKIPPED genhyperbolic distribution (taking more than 30 seconds)\n",
      "WARNING:root:SKIPPED geninvgauss distribution (taking more than 30 seconds)\n",
      "WARNING:root:SKIPPED genlogistic distribution (taking more than 30 seconds)\n",
      "WARNING:root:SKIPPED gennorm distribution (taking more than 30 seconds)\n",
      "WARNING:root:SKIPPED genpareto distribution (taking more than 30 seconds)\n",
      "WARNING:root:SKIPPED gilbrat distribution (taking more than 30 seconds)\n",
      "WARNING:root:SKIPPED gompertz distribution (taking more than 30 seconds)\n",
      "WARNING:root:SKIPPED halfgennorm distribution (taking more than 30 seconds)\n",
      "WARNING:root:SKIPPED halfcauchy distribution (taking more than 30 seconds)\n",
      "WARNING:root:SKIPPED halflogistic distribution (taking more than 30 seconds)\n",
      "WARNING:root:SKIPPED invgamma distribution (taking more than 30 seconds)\n",
      "WARNING:root:SKIPPED invgauss distribution (taking more than 30 seconds)\n",
      "WARNING:root:SKIPPED invweibull distribution (taking more than 30 seconds)\n",
      "WARNING:root:SKIPPED johnsonsb distribution (taking more than 30 seconds)\n",
      "WARNING:root:SKIPPED johnsonsu distribution (taking more than 30 seconds)\n",
      "WARNING:root:SKIPPED kstwo distribution (taking more than 30 seconds)\n",
      "WARNING:root:SKIPPED kappa3 distribution (taking more than 30 seconds)\n",
      "WARNING:root:SKIPPED kappa4 distribution (taking more than 30 seconds)\n",
      "WARNING:root:SKIPPED ksone distribution (taking more than 30 seconds)\n",
      "WARNING:root:SKIPPED kstwobign distribution (taking more than 30 seconds)\n",
      "WARNING:root:SKIPPED levy distribution (taking more than 30 seconds)\n",
      "WARNING:root:SKIPPED levy_l distribution (taking more than 30 seconds)\n",
      "WARNING:root:SKIPPED levy_stable distribution (taking more than 30 seconds)\n",
      "WARNING:root:SKIPPED loggamma distribution (taking more than 30 seconds)\n",
      "WARNING:root:SKIPPED loglaplace distribution (taking more than 30 seconds)\n",
      "WARNING:root:SKIPPED lognorm distribution (taking more than 30 seconds)\n",
      "WARNING:root:SKIPPED lomax distribution (taking more than 30 seconds)\n",
      "WARNING:root:SKIPPED mielke distribution (taking more than 30 seconds)\n",
      "WARNING:root:SKIPPED moyal distribution (taking more than 30 seconds)\n",
      "WARNING:root:SKIPPED nakagami distribution (taking more than 30 seconds)\n",
      "WARNING:root:SKIPPED ncf distribution (taking more than 30 seconds)\n",
      "WARNING:root:SKIPPED nct distribution (taking more than 30 seconds)\n",
      "WARNING:root:SKIPPED ncx2 distribution (taking more than 30 seconds)\n",
      "WARNING:root:SKIPPED norminvgauss distribution (taking more than 30 seconds)\n",
      "WARNING:root:SKIPPED pareto distribution (taking more than 30 seconds)\n",
      "WARNING:root:SKIPPED pearson3 distribution (taking more than 30 seconds)\n",
      "WARNING:root:SKIPPED powerlaw distribution (taking more than 30 seconds)\n",
      "WARNING:root:SKIPPED powerlognorm distribution (taking more than 30 seconds)\n",
      "WARNING:root:SKIPPED powernorm distribution (taking more than 30 seconds)\n",
      "WARNING:root:SKIPPED rdist distribution (taking more than 30 seconds)\n",
      "WARNING:root:SKIPPED rv_continuous distribution (taking more than 30 seconds)\n",
      "WARNING:root:SKIPPED rv_histogram distribution (taking more than 30 seconds)\n",
      "WARNING:root:SKIPPED recipinvgauss distribution (taking more than 30 seconds)\n",
      "WARNING:root:SKIPPED reciprocal distribution (taking more than 30 seconds)\n",
      "WARNING:root:SKIPPED rice distribution (taking more than 30 seconds)\n",
      "WARNING:root:SKIPPED semicircular distribution (taking more than 30 seconds)\n",
      "WARNING:root:SKIPPED skewcauchy distribution (taking more than 30 seconds)\n",
      "WARNING:root:SKIPPED skewnorm distribution (taking more than 30 seconds)\n",
      "WARNING:root:SKIPPED studentized_range distribution (taking more than 30 seconds)\n",
      "WARNING:root:SKIPPED t distribution (taking more than 30 seconds)\n",
      "WARNING:root:SKIPPED trapezoid distribution (taking more than 30 seconds)\n",
      "WARNING:root:SKIPPED trapz distribution (taking more than 30 seconds)\n",
      "WARNING:root:SKIPPED triang distribution (taking more than 30 seconds)\n",
      "WARNING:root:SKIPPED truncexpon distribution (taking more than 30 seconds)\n",
      "WARNING:root:SKIPPED truncnorm distribution (taking more than 30 seconds)\n",
      "WARNING:root:SKIPPED tukeylambda distribution (taking more than 30 seconds)\n",
      "WARNING:root:SKIPPED vonmises distribution (taking more than 30 seconds)\n",
      "WARNING:root:SKIPPED vonmises_line distribution (taking more than 30 seconds)\n",
      "WARNING:root:SKIPPED weibull_max distribution (taking more than 30 seconds)\n",
      "WARNING:root:SKIPPED weibull_min distribution (taking more than 30 seconds)\n",
      "WARNING:root:SKIPPED wrapcauchy distribution (taking more than 30 seconds)\n"
     ]
    },
    {
     "data": {
      "text/html": [
       "<div>\n",
       "<style scoped>\n",
       "    .dataframe tbody tr th:only-of-type {\n",
       "        vertical-align: middle;\n",
       "    }\n",
       "\n",
       "    .dataframe tbody tr th {\n",
       "        vertical-align: top;\n",
       "    }\n",
       "\n",
       "    .dataframe thead th {\n",
       "        text-align: right;\n",
       "    }\n",
       "</style>\n",
       "<table border=\"1\" class=\"dataframe\">\n",
       "  <thead>\n",
       "    <tr style=\"text-align: right;\">\n",
       "      <th></th>\n",
       "      <th>sumsquare_error</th>\n",
       "      <th>aic</th>\n",
       "      <th>bic</th>\n",
       "      <th>kl_div</th>\n",
       "    </tr>\n",
       "  </thead>\n",
       "  <tbody>\n",
       "    <tr>\n",
       "      <th>wald</th>\n",
       "      <td>0.001507</td>\n",
       "      <td>5352.886861</td>\n",
       "      <td>-19238.878880</td>\n",
       "      <td>inf</td>\n",
       "    </tr>\n",
       "    <tr>\n",
       "      <th>chi2</th>\n",
       "      <td>0.003474</td>\n",
       "      <td>13666.082610</td>\n",
       "      <td>-18061.331871</td>\n",
       "      <td>inf</td>\n",
       "    </tr>\n",
       "    <tr>\n",
       "      <th>gumbel_r</th>\n",
       "      <td>0.003831</td>\n",
       "      <td>19780.026141</td>\n",
       "      <td>-17931.888554</td>\n",
       "      <td>inf</td>\n",
       "    </tr>\n",
       "    <tr>\n",
       "      <th>expon</th>\n",
       "      <td>0.007613</td>\n",
       "      <td>9956.400252</td>\n",
       "      <td>-16969.649282</td>\n",
       "      <td>inf</td>\n",
       "    </tr>\n",
       "    <tr>\n",
       "      <th>laplace</th>\n",
       "      <td>0.008465</td>\n",
       "      <td>17804.908795</td>\n",
       "      <td>-16821.004107</td>\n",
       "      <td>inf</td>\n",
       "    </tr>\n",
       "  </tbody>\n",
       "</table>\n",
       "</div>"
      ],
      "text/plain": [
       "          sumsquare_error           aic           bic  kl_div\n",
       "wald             0.001507   5352.886861 -19238.878880     inf\n",
       "chi2             0.003474  13666.082610 -18061.331871     inf\n",
       "gumbel_r         0.003831  19780.026141 -17931.888554     inf\n",
       "expon            0.007613   9956.400252 -16969.649282     inf\n",
       "laplace          0.008465  17804.908795 -16821.004107     inf"
      ]
     },
     "execution_count": 40,
     "metadata": {},
     "output_type": "execute_result"
    },
    {
     "data": {
      "image/png": "[encoded data removed]",
      "text/plain": [
       "<Figure size 432x288 with 1 Axes>"
      ]
     },
     "metadata": {},
     "output_type": "display_data"
    }
   ],
   "source": [
    "#  extract best fitting distribution from 'handling to misc'\n",
    "#data = quantile(df_dt['pesatura'], 0.99, 0.01)\n",
    "data = df_dt['hand_to_misc']\n",
    "data.dropna(inplace=True)\n",
    "data = data.values\n",
    "f = Fitter(data)\n",
    "f.fit()\n",
    "f.summary()"
   ]
  },
  {
   "cell_type": "code",
   "execution_count": 41,
   "id": "e076adcf-6afa-48ab-9653-9546e44fc048",
   "metadata": {},
   "outputs": [
    {
     "data": {
      "text/plain": [
       "{'wald': {'loc': 1.0345698920401443, 'scale': 1.8598985366926324}}"
      ]
     },
     "execution_count": 41,
     "metadata": {},
     "output_type": "execute_result"
    }
   ],
   "source": [
    "f.get_best(method = 'sumsquare_error')"
   ]
  },
  {
   "cell_type": "code",
   "execution_count": 42,
   "id": "39117d93",
   "metadata": {},
   "outputs": [
    {
     "name": "stderr",
     "output_type": "stream",
     "text": [
      "WARNING:root:SKIPPED alpha distribution (taking more than 30 seconds)\n",
      "WARNING:root:SKIPPED anglit distribution (taking more than 30 seconds)\n",
      "WARNING:root:SKIPPED arcsine distribution (taking more than 30 seconds)\n",
      "WARNING:root:SKIPPED argus distribution (taking more than 30 seconds)\n",
      "WARNING:root:SKIPPED beta distribution (taking more than 30 seconds)\n",
      "WARNING:root:SKIPPED betaprime distribution (taking more than 30 seconds)\n",
      "WARNING:root:SKIPPED bradford distribution (taking more than 30 seconds)\n",
      "WARNING:root:SKIPPED burr distribution (taking more than 30 seconds)\n",
      "WARNING:root:SKIPPED burr12 distribution (taking more than 30 seconds)\n",
      "WARNING:root:SKIPPED chi distribution (taking more than 30 seconds)\n",
      "WARNING:root:SKIPPED chi2 distribution (taking more than 30 seconds)\n",
      "WARNING:root:SKIPPED cosine distribution (taking more than 30 seconds)\n",
      "WARNING:root:SKIPPED crystalball distribution (taking more than 30 seconds)\n",
      "WARNING:root:SKIPPED dgamma distribution (taking more than 30 seconds)\n",
      "WARNING:root:SKIPPED dweibull distribution (taking more than 30 seconds)\n",
      "WARNING:root:SKIPPED erlang distribution (taking more than 30 seconds)\n",
      "WARNING:root:SKIPPED exponnorm distribution (taking more than 30 seconds)\n",
      "WARNING:root:SKIPPED exponpow distribution (taking more than 30 seconds)\n",
      "WARNING:root:SKIPPED exponweib distribution (taking more than 30 seconds)\n",
      "WARNING:root:SKIPPED f distribution (taking more than 30 seconds)\n",
      "WARNING:root:SKIPPED fatiguelife distribution (taking more than 30 seconds)\n",
      "WARNING:root:SKIPPED fisk distribution (taking more than 30 seconds)\n",
      "WARNING:root:SKIPPED foldcauchy distribution (taking more than 30 seconds)\n",
      "WARNING:root:SKIPPED foldnorm distribution (taking more than 30 seconds)\n",
      "WARNING:root:SKIPPED gamma distribution (taking more than 30 seconds)\n",
      "WARNING:root:SKIPPED gausshyper distribution (taking more than 30 seconds)\n",
      "WARNING:root:SKIPPED genexpon distribution (taking more than 30 seconds)\n",
      "WARNING:root:SKIPPED genextreme distribution (taking more than 30 seconds)\n",
      "WARNING:root:SKIPPED gengamma distribution (taking more than 30 seconds)\n",
      "WARNING:root:SKIPPED genhalflogistic distribution (taking more than 30 seconds)\n",
      "WARNING:root:SKIPPED genhyperbolic distribution (taking more than 30 seconds)\n",
      "WARNING:root:SKIPPED geninvgauss distribution (taking more than 30 seconds)\n",
      "WARNING:root:SKIPPED genlogistic distribution (taking more than 30 seconds)\n",
      "WARNING:root:SKIPPED gennorm distribution (taking more than 30 seconds)\n",
      "WARNING:root:SKIPPED genpareto distribution (taking more than 30 seconds)\n",
      "WARNING:root:SKIPPED gilbrat distribution (taking more than 30 seconds)\n",
      "WARNING:root:SKIPPED gompertz distribution (taking more than 30 seconds)\n",
      "WARNING:root:SKIPPED halfcauchy distribution (taking more than 30 seconds)\n",
      "WARNING:root:SKIPPED halfgennorm distribution (taking more than 30 seconds)\n",
      "WARNING:root:SKIPPED halflogistic distribution (taking more than 30 seconds)\n",
      "WARNING:root:SKIPPED invgamma distribution (taking more than 30 seconds)\n",
      "WARNING:root:SKIPPED invgauss distribution (taking more than 30 seconds)\n",
      "WARNING:root:SKIPPED invweibull distribution (taking more than 30 seconds)\n",
      "WARNING:root:SKIPPED johnsonsb distribution (taking more than 30 seconds)\n",
      "WARNING:root:SKIPPED johnsonsu distribution (taking more than 30 seconds)\n",
      "WARNING:root:SKIPPED kstwo distribution (taking more than 30 seconds)\n",
      "WARNING:root:SKIPPED kappa3 distribution (taking more than 30 seconds)\n",
      "WARNING:root:SKIPPED kappa4 distribution (taking more than 30 seconds)\n",
      "WARNING:root:SKIPPED ksone distribution (taking more than 30 seconds)\n",
      "WARNING:root:SKIPPED kstwobign distribution (taking more than 30 seconds)\n",
      "WARNING:root:SKIPPED levy distribution (taking more than 30 seconds)\n",
      "WARNING:root:SKIPPED levy_l distribution (taking more than 30 seconds)\n",
      "WARNING:root:SKIPPED levy_stable distribution (taking more than 30 seconds)\n",
      "WARNING:root:SKIPPED loggamma distribution (taking more than 30 seconds)\n",
      "WARNING:root:SKIPPED loglaplace distribution (taking more than 30 seconds)\n",
      "WARNING:root:SKIPPED lognorm distribution (taking more than 30 seconds)\n",
      "WARNING:root:SKIPPED loguniform distribution (taking more than 30 seconds)\n",
      "WARNING:root:SKIPPED lomax distribution (taking more than 30 seconds)\n",
      "WARNING:root:SKIPPED mielke distribution (taking more than 30 seconds)\n",
      "WARNING:root:SKIPPED ncf distribution (taking more than 30 seconds)\n",
      "WARNING:root:SKIPPED nct distribution (taking more than 30 seconds)\n",
      "WARNING:root:SKIPPED ncx2 distribution (taking more than 30 seconds)\n",
      "WARNING:root:SKIPPED norminvgauss distribution (taking more than 30 seconds)\n",
      "WARNING:root:SKIPPED pareto distribution (taking more than 30 seconds)\n",
      "WARNING:root:SKIPPED pearson3 distribution (taking more than 30 seconds)\n",
      "WARNING:root:SKIPPED powerlaw distribution (taking more than 30 seconds)\n",
      "WARNING:root:SKIPPED powerlognorm distribution (taking more than 30 seconds)\n",
      "WARNING:root:SKIPPED powernorm distribution (taking more than 30 seconds)\n",
      "WARNING:root:SKIPPED rdist distribution (taking more than 30 seconds)\n",
      "WARNING:root:SKIPPED rv_continuous distribution (taking more than 30 seconds)\n",
      "WARNING:root:SKIPPED recipinvgauss distribution (taking more than 30 seconds)\n",
      "WARNING:root:SKIPPED rv_histogram distribution (taking more than 30 seconds)\n",
      "WARNING:root:SKIPPED reciprocal distribution (taking more than 30 seconds)\n",
      "WARNING:root:SKIPPED rice distribution (taking more than 30 seconds)\n",
      "WARNING:root:SKIPPED skewcauchy distribution (taking more than 30 seconds)\n",
      "WARNING:root:SKIPPED semicircular distribution (taking more than 30 seconds)\n",
      "WARNING:root:SKIPPED skewnorm distribution (taking more than 30 seconds)\n",
      "WARNING:root:SKIPPED studentized_range distribution (taking more than 30 seconds)\n",
      "WARNING:root:SKIPPED trapezoid distribution (taking more than 30 seconds)\n",
      "WARNING:root:SKIPPED t distribution (taking more than 30 seconds)\n",
      "WARNING:root:SKIPPED trapz distribution (taking more than 30 seconds)\n",
      "WARNING:root:SKIPPED triang distribution (taking more than 30 seconds)\n",
      "WARNING:root:SKIPPED truncexpon distribution (taking more than 30 seconds)\n",
      "WARNING:root:SKIPPED truncnorm distribution (taking more than 30 seconds)\n",
      "WARNING:root:SKIPPED tukeylambda distribution (taking more than 30 seconds)\n",
      "WARNING:root:SKIPPED vonmises distribution (taking more than 30 seconds)\n",
      "WARNING:root:SKIPPED vonmises_line distribution (taking more than 30 seconds)\n",
      "WARNING:root:SKIPPED weibull_max distribution (taking more than 30 seconds)\n",
      "WARNING:root:SKIPPED weibull_min distribution (taking more than 30 seconds)\n",
      "WARNING:root:SKIPPED wrapcauchy distribution (taking more than 30 seconds)\n"
     ]
    },
    {
     "data": {
      "text/html": [
       "<div>\n",
       "<style scoped>\n",
       "    .dataframe tbody tr th:only-of-type {\n",
       "        vertical-align: middle;\n",
       "    }\n",
       "\n",
       "    .dataframe tbody tr th {\n",
       "        vertical-align: top;\n",
       "    }\n",
       "\n",
       "    .dataframe thead th {\n",
       "        text-align: right;\n",
       "    }\n",
       "</style>\n",
       "<table border=\"1\" class=\"dataframe\">\n",
       "  <thead>\n",
       "    <tr style=\"text-align: right;\">\n",
       "      <th></th>\n",
       "      <th>sumsquare_error</th>\n",
       "      <th>aic</th>\n",
       "      <th>bic</th>\n",
       "      <th>kl_div</th>\n",
       "    </tr>\n",
       "  </thead>\n",
       "  <tbody>\n",
       "    <tr>\n",
       "      <th>laplace_asymmetric</th>\n",
       "      <td>3.664126</td>\n",
       "      <td>3246.253648</td>\n",
       "      <td>-8052.662070</td>\n",
       "      <td>inf</td>\n",
       "    </tr>\n",
       "    <tr>\n",
       "      <th>laplace</th>\n",
       "      <td>4.640707</td>\n",
       "      <td>3887.915039</td>\n",
       "      <td>-7737.598767</td>\n",
       "      <td>inf</td>\n",
       "    </tr>\n",
       "    <tr>\n",
       "      <th>hypsecant</th>\n",
       "      <td>4.754381</td>\n",
       "      <td>4234.143611</td>\n",
       "      <td>-7704.590028</td>\n",
       "      <td>inf</td>\n",
       "    </tr>\n",
       "    <tr>\n",
       "      <th>gumbel_r</th>\n",
       "      <td>4.864506</td>\n",
       "      <td>3646.217120</td>\n",
       "      <td>-7673.356383</td>\n",
       "      <td>inf</td>\n",
       "    </tr>\n",
       "    <tr>\n",
       "      <th>logistic</th>\n",
       "      <td>4.971897</td>\n",
       "      <td>4691.938963</td>\n",
       "      <td>-7643.571603</td>\n",
       "      <td>inf</td>\n",
       "    </tr>\n",
       "  </tbody>\n",
       "</table>\n",
       "</div>"
      ],
      "text/plain": [
       "                    sumsquare_error          aic          bic  kl_div\n",
       "laplace_asymmetric         3.664126  3246.253648 -8052.662070     inf\n",
       "laplace                    4.640707  3887.915039 -7737.598767     inf\n",
       "hypsecant                  4.754381  4234.143611 -7704.590028     inf\n",
       "gumbel_r                   4.864506  3646.217120 -7673.356383     inf\n",
       "logistic                   4.971897  4691.938963 -7643.571603     inf"
      ]
     },
     "execution_count": 42,
     "metadata": {},
     "output_type": "execute_result"
    },
    {
     "data": {
      "image/png": "[encoded data removed]",
      "text/plain": [
       "<Figure size 432x288 with 1 Axes>"
      ]
     },
     "metadata": {},
     "output_type": "display_data"
    }
   ],
   "source": [
    "#  extract best fitting distribution from 'miscelazione'\n",
    "# data = quantile(df_dt['miscelazione'], 0.99, 0.01)\n",
    "data = df_dt['miscelazione']\n",
    "data.dropna(inplace=True)\n",
    "data = data.values\n",
    "f = Fitter(data)\n",
    "f.fit()\n",
    "f.summary()"
   ]
  },
  {
   "cell_type": "code",
   "execution_count": 43,
   "id": "b2318604",
   "metadata": {},
   "outputs": [
    {
     "data": {
      "text/plain": [
       "{'laplace_asymmetric': {'kappa': 0.5297883518022284,\n",
       "  'loc': 2.283299987520212,\n",
       "  'scale': 0.3368510929754309}}"
      ]
     },
     "execution_count": 43,
     "metadata": {},
     "output_type": "execute_result"
    }
   ],
   "source": [
    "f.get_best(method = 'sumsquare_error')"
   ]
  },
  {
   "cell_type": "code",
   "execution_count": 44,
   "id": "d4772697",
   "metadata": {
    "tags": []
   },
   "outputs": [
    {
     "name": "stderr",
     "output_type": "stream",
     "text": [
      "WARNING:root:SKIPPED alpha distribution (taking more than 30 seconds)\n",
      "WARNING:root:SKIPPED anglit distribution (taking more than 30 seconds)\n",
      "WARNING:root:SKIPPED arcsine distribution (taking more than 30 seconds)\n",
      "WARNING:root:SKIPPED argus distribution (taking more than 30 seconds)\n",
      "WARNING:root:SKIPPED beta distribution (taking more than 30 seconds)\n",
      "WARNING:root:SKIPPED betaprime distribution (taking more than 30 seconds)\n",
      "WARNING:root:SKIPPED bradford distribution (taking more than 30 seconds)\n",
      "WARNING:root:SKIPPED burr distribution (taking more than 30 seconds)\n",
      "WARNING:root:SKIPPED burr12 distribution (taking more than 30 seconds)\n",
      "WARNING:root:SKIPPED chi distribution (taking more than 30 seconds)\n",
      "WARNING:root:SKIPPED chi2 distribution (taking more than 30 seconds)\n",
      "WARNING:root:SKIPPED cosine distribution (taking more than 30 seconds)\n",
      "WARNING:root:SKIPPED crystalball distribution (taking more than 30 seconds)\n",
      "WARNING:root:SKIPPED dgamma distribution (taking more than 30 seconds)\n",
      "WARNING:root:SKIPPED dweibull distribution (taking more than 30 seconds)\n",
      "WARNING:root:SKIPPED erlang distribution (taking more than 30 seconds)\n",
      "WARNING:root:SKIPPED exponnorm distribution (taking more than 30 seconds)\n",
      "WARNING:root:SKIPPED exponpow distribution (taking more than 30 seconds)\n",
      "WARNING:root:SKIPPED exponweib distribution (taking more than 30 seconds)\n",
      "WARNING:root:SKIPPED f distribution (taking more than 30 seconds)\n",
      "WARNING:root:SKIPPED fatiguelife distribution (taking more than 30 seconds)\n",
      "WARNING:root:SKIPPED fisk distribution (taking more than 30 seconds)\n",
      "WARNING:root:SKIPPED foldcauchy distribution (taking more than 30 seconds)\n",
      "WARNING:root:SKIPPED foldnorm distribution (taking more than 30 seconds)\n",
      "WARNING:root:SKIPPED gamma distribution (taking more than 30 seconds)\n",
      "WARNING:root:SKIPPED gausshyper distribution (taking more than 30 seconds)\n",
      "WARNING:root:SKIPPED genexpon distribution (taking more than 30 seconds)\n",
      "WARNING:root:SKIPPED genextreme distribution (taking more than 30 seconds)\n",
      "WARNING:root:SKIPPED gengamma distribution (taking more than 30 seconds)\n",
      "WARNING:root:SKIPPED genhalflogistic distribution (taking more than 30 seconds)\n",
      "WARNING:root:SKIPPED genhyperbolic distribution (taking more than 30 seconds)\n",
      "WARNING:root:SKIPPED geninvgauss distribution (taking more than 30 seconds)\n",
      "WARNING:root:SKIPPED genlogistic distribution (taking more than 30 seconds)\n",
      "WARNING:root:SKIPPED gennorm distribution (taking more than 30 seconds)\n",
      "WARNING:root:SKIPPED genpareto distribution (taking more than 30 seconds)\n",
      "WARNING:root:SKIPPED gilbrat distribution (taking more than 30 seconds)\n",
      "WARNING:root:SKIPPED gompertz distribution (taking more than 30 seconds)\n",
      "WARNING:root:SKIPPED halfcauchy distribution (taking more than 30 seconds)\n",
      "WARNING:root:SKIPPED halfgennorm distribution (taking more than 30 seconds)\n",
      "WARNING:root:SKIPPED halflogistic distribution (taking more than 30 seconds)\n",
      "WARNING:root:SKIPPED halfnorm distribution (taking more than 30 seconds)\n",
      "WARNING:root:SKIPPED hypsecant distribution (taking more than 30 seconds)\n",
      "WARNING:root:SKIPPED invgamma distribution (taking more than 30 seconds)\n",
      "WARNING:root:SKIPPED invgauss distribution (taking more than 30 seconds)\n",
      "WARNING:root:SKIPPED invweibull distribution (taking more than 30 seconds)\n",
      "WARNING:root:SKIPPED johnsonsb distribution (taking more than 30 seconds)\n",
      "WARNING:root:SKIPPED johnsonsu distribution (taking more than 30 seconds)\n",
      "WARNING:root:SKIPPED kstwo distribution (taking more than 30 seconds)\n",
      "WARNING:root:SKIPPED kappa3 distribution (taking more than 30 seconds)\n",
      "WARNING:root:SKIPPED kappa4 distribution (taking more than 30 seconds)\n",
      "WARNING:root:SKIPPED ksone distribution (taking more than 30 seconds)\n",
      "WARNING:root:SKIPPED kstwobign distribution (taking more than 30 seconds)\n",
      "WARNING:root:SKIPPED laplace_asymmetric distribution (taking more than 30 seconds)\n",
      "WARNING:root:SKIPPED levy distribution (taking more than 30 seconds)\n",
      "WARNING:root:SKIPPED levy_l distribution (taking more than 30 seconds)\n",
      "WARNING:root:SKIPPED levy_stable distribution (taking more than 30 seconds)\n",
      "WARNING:root:SKIPPED loggamma distribution (taking more than 30 seconds)\n",
      "WARNING:root:SKIPPED loglaplace distribution (taking more than 30 seconds)\n",
      "WARNING:root:SKIPPED lognorm distribution (taking more than 30 seconds)\n",
      "WARNING:root:SKIPPED loguniform distribution (taking more than 30 seconds)\n",
      "WARNING:root:SKIPPED lomax distribution (taking more than 30 seconds)\n",
      "WARNING:root:SKIPPED maxwell distribution (taking more than 30 seconds)\n",
      "WARNING:root:SKIPPED mielke distribution (taking more than 30 seconds)\n",
      "WARNING:root:SKIPPED moyal distribution (taking more than 30 seconds)\n",
      "WARNING:root:SKIPPED nakagami distribution (taking more than 30 seconds)\n",
      "WARNING:root:SKIPPED ncf distribution (taking more than 30 seconds)\n",
      "WARNING:root:SKIPPED nct distribution (taking more than 30 seconds)\n",
      "WARNING:root:SKIPPED ncx2 distribution (taking more than 30 seconds)\n",
      "WARNING:root:SKIPPED norminvgauss distribution (taking more than 30 seconds)\n",
      "WARNING:root:SKIPPED pareto distribution (taking more than 30 seconds)\n",
      "WARNING:root:SKIPPED pearson3 distribution (taking more than 30 seconds)\n",
      "WARNING:root:SKIPPED powerlaw distribution (taking more than 30 seconds)\n",
      "WARNING:root:SKIPPED powerlognorm distribution (taking more than 30 seconds)\n",
      "WARNING:root:SKIPPED powernorm distribution (taking more than 30 seconds)\n",
      "WARNING:root:SKIPPED rdist distribution (taking more than 30 seconds)\n",
      "WARNING:root:SKIPPED rv_continuous distribution (taking more than 30 seconds)\n",
      "WARNING:root:SKIPPED rv_histogram distribution (taking more than 30 seconds)\n",
      "WARNING:root:SKIPPED recipinvgauss distribution (taking more than 30 seconds)\n",
      "WARNING:root:SKIPPED reciprocal distribution (taking more than 30 seconds)\n",
      "WARNING:root:SKIPPED rice distribution (taking more than 30 seconds)\n",
      "WARNING:root:SKIPPED semicircular distribution (taking more than 30 seconds)\n",
      "WARNING:root:SKIPPED skewcauchy distribution (taking more than 30 seconds)\n",
      "WARNING:root:SKIPPED skewnorm distribution (taking more than 30 seconds)\n",
      "WARNING:root:SKIPPED studentized_range distribution (taking more than 30 seconds)\n",
      "WARNING:root:SKIPPED t distribution (taking more than 30 seconds)\n",
      "WARNING:root:SKIPPED trapezoid distribution (taking more than 30 seconds)\n",
      "WARNING:root:SKIPPED trapz distribution (taking more than 30 seconds)\n",
      "WARNING:root:SKIPPED triang distribution (taking more than 30 seconds)\n",
      "WARNING:root:SKIPPED truncexpon distribution (taking more than 30 seconds)\n",
      "WARNING:root:SKIPPED truncnorm distribution (taking more than 30 seconds)\n",
      "WARNING:root:SKIPPED tukeylambda distribution (taking more than 30 seconds)\n",
      "WARNING:root:SKIPPED vonmises distribution (taking more than 30 seconds)\n",
      "WARNING:root:SKIPPED vonmises_line distribution (taking more than 30 seconds)\n",
      "WARNING:root:SKIPPED wald distribution (taking more than 30 seconds)\n",
      "WARNING:root:SKIPPED weibull_max distribution (taking more than 30 seconds)\n",
      "WARNING:root:SKIPPED weibull_min distribution (taking more than 30 seconds)\n",
      "WARNING:root:SKIPPED wrapcauchy distribution (taking more than 30 seconds)\n"
     ]
    },
    {
     "data": {
      "text/html": [
       "<div>\n",
       "<style scoped>\n",
       "    .dataframe tbody tr th:only-of-type {\n",
       "        vertical-align: middle;\n",
       "    }\n",
       "\n",
       "    .dataframe tbody tr th {\n",
       "        vertical-align: top;\n",
       "    }\n",
       "\n",
       "    .dataframe thead th {\n",
       "        text-align: right;\n",
       "    }\n",
       "</style>\n",
       "<table border=\"1\" class=\"dataframe\">\n",
       "  <thead>\n",
       "    <tr style=\"text-align: right;\">\n",
       "      <th></th>\n",
       "      <th>sumsquare_error</th>\n",
       "      <th>aic</th>\n",
       "      <th>bic</th>\n",
       "      <th>kl_div</th>\n",
       "    </tr>\n",
       "  </thead>\n",
       "  <tbody>\n",
       "    <tr>\n",
       "      <th>rayleigh</th>\n",
       "      <td>0.000187</td>\n",
       "      <td>4.827837e+04</td>\n",
       "      <td>-21475.447585</td>\n",
       "      <td>inf</td>\n",
       "    </tr>\n",
       "    <tr>\n",
       "      <th>expon</th>\n",
       "      <td>0.000199</td>\n",
       "      <td>7.824713e+04</td>\n",
       "      <td>-21390.080734</td>\n",
       "      <td>inf</td>\n",
       "    </tr>\n",
       "    <tr>\n",
       "      <th>norm</th>\n",
       "      <td>0.000214</td>\n",
       "      <td>4.642914e+04</td>\n",
       "      <td>-21287.001834</td>\n",
       "      <td>inf</td>\n",
       "    </tr>\n",
       "    <tr>\n",
       "      <th>gumbel_r</th>\n",
       "      <td>0.000249</td>\n",
       "      <td>1.166451e+05</td>\n",
       "      <td>-21086.157427</td>\n",
       "      <td>inf</td>\n",
       "    </tr>\n",
       "    <tr>\n",
       "      <th>laplace</th>\n",
       "      <td>0.000253</td>\n",
       "      <td>inf</td>\n",
       "      <td>-21060.447209</td>\n",
       "      <td>inf</td>\n",
       "    </tr>\n",
       "  </tbody>\n",
       "</table>\n",
       "</div>"
      ],
      "text/plain": [
       "          sumsquare_error           aic           bic  kl_div\n",
       "rayleigh         0.000187  4.827837e+04 -21475.447585     inf\n",
       "expon            0.000199  7.824713e+04 -21390.080734     inf\n",
       "norm             0.000214  4.642914e+04 -21287.001834     inf\n",
       "gumbel_r         0.000249  1.166451e+05 -21086.157427     inf\n",
       "laplace          0.000253           inf -21060.447209     inf"
      ]
     },
     "execution_count": 44,
     "metadata": {},
     "output_type": "execute_result"
    },
    {
     "data": {
      "image/png": "[encoded data removed]",
      "text/plain": [
       "<Figure size 432x288 with 1 Axes>"
      ]
     },
     "metadata": {},
     "output_type": "display_data"
    }
   ],
   "source": [
    "#  extract best fitting distribution from 'handling to estrusore'\n",
    "#  data = quantile(df_dt['hand_to_est'], 0.99, 0.01)\n",
    "data = df_dt['hand_to_est']\n",
    "data.dropna(inplace=True)\n",
    "data = data.values\n",
    "f = Fitter(data)\n",
    "f.fit()\n",
    "f.summary()"
   ]
  },
  {
   "cell_type": "code",
   "execution_count": 45,
   "id": "eedc0322",
   "metadata": {},
   "outputs": [
    {
     "data": {
      "text/plain": [
       "{'rayleigh': {'loc': -154.22122775090668, 'scale': 163.72329503305056}}"
      ]
     },
     "execution_count": 45,
     "metadata": {},
     "output_type": "execute_result"
    }
   ],
   "source": [
    "f.get_best(method = 'sumsquare_error')"
   ]
  },
  {
   "cell_type": "code",
   "execution_count": 46,
   "id": "ae79af7d",
   "metadata": {
    "scrolled": true,
    "tags": []
   },
   "outputs": [
    {
     "name": "stderr",
     "output_type": "stream",
     "text": [
      "WARNING:root:SKIPPED alpha distribution (taking more than 30 seconds)\n",
      "WARNING:root:SKIPPED anglit distribution (taking more than 30 seconds)\n",
      "WARNING:root:SKIPPED arcsine distribution (taking more than 30 seconds)\n",
      "WARNING:root:SKIPPED argus distribution (taking more than 30 seconds)\n",
      "WARNING:root:SKIPPED beta distribution (taking more than 30 seconds)\n",
      "WARNING:root:SKIPPED betaprime distribution (taking more than 30 seconds)\n",
      "WARNING:root:SKIPPED bradford distribution (taking more than 30 seconds)\n",
      "WARNING:root:SKIPPED burr distribution (taking more than 30 seconds)\n",
      "WARNING:root:SKIPPED burr12 distribution (taking more than 30 seconds)\n",
      "WARNING:root:SKIPPED cauchy distribution (taking more than 30 seconds)\n",
      "WARNING:root:SKIPPED chi2 distribution (taking more than 30 seconds)\n",
      "WARNING:root:SKIPPED chi distribution (taking more than 30 seconds)\n",
      "WARNING:root:SKIPPED cosine distribution (taking more than 30 seconds)\n",
      "WARNING:root:SKIPPED crystalball distribution (taking more than 30 seconds)\n",
      "WARNING:root:SKIPPED dgamma distribution (taking more than 30 seconds)\n",
      "WARNING:root:SKIPPED dweibull distribution (taking more than 30 seconds)\n",
      "WARNING:root:SKIPPED erlang distribution (taking more than 30 seconds)\n",
      "WARNING:root:SKIPPED exponnorm distribution (taking more than 30 seconds)\n",
      "WARNING:root:SKIPPED exponpow distribution (taking more than 30 seconds)\n",
      "WARNING:root:SKIPPED exponweib distribution (taking more than 30 seconds)\n",
      "WARNING:root:SKIPPED f distribution (taking more than 30 seconds)\n",
      "WARNING:root:SKIPPED fatiguelife distribution (taking more than 30 seconds)\n",
      "WARNING:root:SKIPPED fisk distribution (taking more than 30 seconds)\n",
      "WARNING:root:SKIPPED foldcauchy distribution (taking more than 30 seconds)\n",
      "WARNING:root:SKIPPED foldnorm distribution (taking more than 30 seconds)\n",
      "WARNING:root:SKIPPED gamma distribution (taking more than 30 seconds)\n",
      "WARNING:root:SKIPPED gausshyper distribution (taking more than 30 seconds)\n",
      "WARNING:root:SKIPPED genexpon distribution (taking more than 30 seconds)\n",
      "WARNING:root:SKIPPED genextreme distribution (taking more than 30 seconds)\n",
      "WARNING:root:SKIPPED gengamma distribution (taking more than 30 seconds)\n",
      "WARNING:root:SKIPPED genhalflogistic distribution (taking more than 30 seconds)\n",
      "WARNING:root:SKIPPED genhyperbolic distribution (taking more than 30 seconds)\n",
      "WARNING:root:SKIPPED geninvgauss distribution (taking more than 30 seconds)\n",
      "WARNING:root:SKIPPED genlogistic distribution (taking more than 30 seconds)\n",
      "WARNING:root:SKIPPED gennorm distribution (taking more than 30 seconds)\n",
      "WARNING:root:SKIPPED genpareto distribution (taking more than 30 seconds)\n",
      "WARNING:root:SKIPPED gilbrat distribution (taking more than 30 seconds)\n",
      "WARNING:root:SKIPPED gompertz distribution (taking more than 30 seconds)\n",
      "WARNING:root:SKIPPED halfcauchy distribution (taking more than 30 seconds)\n",
      "WARNING:root:SKIPPED halfgennorm distribution (taking more than 30 seconds)\n",
      "WARNING:root:SKIPPED halflogistic distribution (taking more than 30 seconds)\n",
      "WARNING:root:SKIPPED halfnorm distribution (taking more than 30 seconds)\n",
      "WARNING:root:SKIPPED hypsecant distribution (taking more than 30 seconds)\n",
      "WARNING:root:SKIPPED invgamma distribution (taking more than 30 seconds)\n",
      "WARNING:root:SKIPPED invgauss distribution (taking more than 30 seconds)\n",
      "WARNING:root:SKIPPED invweibull distribution (taking more than 30 seconds)\n",
      "WARNING:root:SKIPPED johnsonsb distribution (taking more than 30 seconds)\n",
      "WARNING:root:SKIPPED johnsonsu distribution (taking more than 30 seconds)\n",
      "WARNING:root:SKIPPED kstwo distribution (taking more than 30 seconds)\n",
      "WARNING:root:SKIPPED kappa3 distribution (taking more than 30 seconds)\n",
      "WARNING:root:SKIPPED kappa4 distribution (taking more than 30 seconds)\n",
      "WARNING:root:SKIPPED ksone distribution (taking more than 30 seconds)\n",
      "WARNING:root:SKIPPED kstwobign distribution (taking more than 30 seconds)\n",
      "WARNING:root:SKIPPED laplace_asymmetric distribution (taking more than 30 seconds)\n",
      "WARNING:root:SKIPPED levy distribution (taking more than 30 seconds)\n",
      "WARNING:root:SKIPPED levy_l distribution (taking more than 30 seconds)\n",
      "WARNING:root:SKIPPED levy_stable distribution (taking more than 30 seconds)\n",
      "WARNING:root:SKIPPED loggamma distribution (taking more than 30 seconds)\n",
      "WARNING:root:SKIPPED loglaplace distribution (taking more than 30 seconds)\n",
      "WARNING:root:SKIPPED lognorm distribution (taking more than 30 seconds)\n",
      "WARNING:root:SKIPPED loguniform distribution (taking more than 30 seconds)\n",
      "WARNING:root:SKIPPED lomax distribution (taking more than 30 seconds)\n",
      "WARNING:root:SKIPPED maxwell distribution (taking more than 30 seconds)\n",
      "WARNING:root:SKIPPED mielke distribution (taking more than 30 seconds)\n",
      "WARNING:root:SKIPPED moyal distribution (taking more than 30 seconds)\n",
      "WARNING:root:SKIPPED nakagami distribution (taking more than 30 seconds)\n",
      "WARNING:root:SKIPPED ncf distribution (taking more than 30 seconds)\n",
      "WARNING:root:SKIPPED nct distribution (taking more than 30 seconds)\n",
      "WARNING:root:SKIPPED ncx2 distribution (taking more than 30 seconds)\n",
      "WARNING:root:SKIPPED norminvgauss distribution (taking more than 30 seconds)\n",
      "WARNING:root:SKIPPED pareto distribution (taking more than 30 seconds)\n",
      "WARNING:root:SKIPPED pearson3 distribution (taking more than 30 seconds)\n",
      "WARNING:root:SKIPPED powerlaw distribution (taking more than 30 seconds)\n",
      "WARNING:root:SKIPPED powerlognorm distribution (taking more than 30 seconds)\n",
      "WARNING:root:SKIPPED powernorm distribution (taking more than 30 seconds)\n",
      "WARNING:root:SKIPPED rdist distribution (taking more than 30 seconds)\n",
      "WARNING:root:SKIPPED rv_continuous distribution (taking more than 30 seconds)\n",
      "WARNING:root:SKIPPED rv_histogram distribution (taking more than 30 seconds)\n",
      "WARNING:root:SKIPPED recipinvgauss distribution (taking more than 30 seconds)\n",
      "WARNING:root:SKIPPED reciprocal distribution (taking more than 30 seconds)\n",
      "WARNING:root:SKIPPED rice distribution (taking more than 30 seconds)\n",
      "WARNING:root:SKIPPED semicircular distribution (taking more than 30 seconds)\n",
      "WARNING:root:SKIPPED skewcauchy distribution (taking more than 30 seconds)\n",
      "WARNING:root:SKIPPED skewnorm distribution (taking more than 30 seconds)\n",
      "WARNING:root:SKIPPED studentized_range distribution (taking more than 30 seconds)\n",
      "WARNING:root:SKIPPED t distribution (taking more than 30 seconds)\n",
      "WARNING:root:SKIPPED trapezoid distribution (taking more than 30 seconds)\n",
      "WARNING:root:SKIPPED trapz distribution (taking more than 30 seconds)\n",
      "WARNING:root:SKIPPED triang distribution (taking more than 30 seconds)\n",
      "WARNING:root:SKIPPED truncexpon distribution (taking more than 30 seconds)\n",
      "WARNING:root:SKIPPED truncnorm distribution (taking more than 30 seconds)\n",
      "WARNING:root:SKIPPED tukeylambda distribution (taking more than 30 seconds)\n",
      "WARNING:root:SKIPPED vonmises distribution (taking more than 30 seconds)\n",
      "WARNING:root:SKIPPED vonmises_line distribution (taking more than 30 seconds)\n",
      "WARNING:root:SKIPPED wald distribution (taking more than 30 seconds)\n",
      "WARNING:root:SKIPPED weibull_max distribution (taking more than 30 seconds)\n",
      "WARNING:root:SKIPPED weibull_min distribution (taking more than 30 seconds)\n",
      "WARNING:root:SKIPPED wrapcauchy distribution (taking more than 30 seconds)\n"
     ]
    },
    {
     "data": {
      "text/html": [
       "<div>\n",
       "<style scoped>\n",
       "    .dataframe tbody tr th:only-of-type {\n",
       "        vertical-align: middle;\n",
       "    }\n",
       "\n",
       "    .dataframe tbody tr th {\n",
       "        vertical-align: top;\n",
       "    }\n",
       "\n",
       "    .dataframe thead th {\n",
       "        text-align: right;\n",
       "    }\n",
       "</style>\n",
       "<table border=\"1\" class=\"dataframe\">\n",
       "  <thead>\n",
       "    <tr style=\"text-align: right;\">\n",
       "      <th></th>\n",
       "      <th>sumsquare_error</th>\n",
       "      <th>aic</th>\n",
       "      <th>bic</th>\n",
       "      <th>kl_div</th>\n",
       "    </tr>\n",
       "  </thead>\n",
       "  <tbody>\n",
       "    <tr>\n",
       "      <th>laplace</th>\n",
       "      <td>0.000822</td>\n",
       "      <td>1262.465982</td>\n",
       "      <td>-24862.247508</td>\n",
       "      <td>inf</td>\n",
       "    </tr>\n",
       "    <tr>\n",
       "      <th>gumbel_r</th>\n",
       "      <td>0.001009</td>\n",
       "      <td>1212.666375</td>\n",
       "      <td>-24511.479619</td>\n",
       "      <td>inf</td>\n",
       "    </tr>\n",
       "    <tr>\n",
       "      <th>logistic</th>\n",
       "      <td>0.001488</td>\n",
       "      <td>1295.819431</td>\n",
       "      <td>-23847.983495</td>\n",
       "      <td>inf</td>\n",
       "    </tr>\n",
       "    <tr>\n",
       "      <th>rayleigh</th>\n",
       "      <td>0.001516</td>\n",
       "      <td>1254.716884</td>\n",
       "      <td>-23815.460451</td>\n",
       "      <td>inf</td>\n",
       "    </tr>\n",
       "    <tr>\n",
       "      <th>norm</th>\n",
       "      <td>0.002245</td>\n",
       "      <td>1323.672091</td>\n",
       "      <td>-23144.436823</td>\n",
       "      <td>inf</td>\n",
       "    </tr>\n",
       "  </tbody>\n",
       "</table>\n",
       "</div>"
      ],
      "text/plain": [
       "          sumsquare_error          aic           bic  kl_div\n",
       "laplace          0.000822  1262.465982 -24862.247508     inf\n",
       "gumbel_r         0.001009  1212.666375 -24511.479619     inf\n",
       "logistic         0.001488  1295.819431 -23847.983495     inf\n",
       "rayleigh         0.001516  1254.716884 -23815.460451     inf\n",
       "norm             0.002245  1323.672091 -23144.436823     inf"
      ]
     },
     "execution_count": 46,
     "metadata": {},
     "output_type": "execute_result"
    },
    {
     "data": {
      "image/png": "[encoded data removed]",
      "text/plain": [
       "<Figure size 432x288 with 1 Axes>"
      ]
     },
     "metadata": {},
     "output_type": "display_data"
    }
   ],
   "source": [
    "#  extract best fitting distribution from 'estrusione'\n",
    "f = Fitter(dt_est)\n",
    "f.fit()\n",
    "f.summary()"
   ]
  },
  {
   "cell_type": "code",
   "execution_count": 47,
   "id": "fc67b923",
   "metadata": {
    "tags": []
   },
   "outputs": [
    {
     "data": {
      "text/plain": [
       "{'laplace': {'loc': 37.1667, 'scale': 17.241393918128658}}"
      ]
     },
     "execution_count": 47,
     "metadata": {},
     "output_type": "execute_result"
    }
   ],
   "source": [
    "f.get_best(method = 'sumsquare_error')"
   ]
  },
  {
   "cell_type": "markdown",
   "id": "49e81de8",
   "metadata": {},
   "source": [
    "### Tempo totale di attraversamento"
   ]
  },
  {
   "cell_type": "code",
   "execution_count": 11,
   "id": "b8d3ba62",
   "metadata": {},
   "outputs": [],
   "source": [
    "def filtering(event_log, ubicazione):\n",
    "    mask = event_log['rif'] == ubicazione\n",
    "    get_ID = event_log[mask]['ID_unique'].unique()\n",
    "    mask_id = event_log['ID_unique'].isin(get_ID)\n",
    "    new_log = event_log[mask_id]\n",
    "    return(new_log)"
   ]
  },
  {
   "cell_type": "code",
   "execution_count": 116,
   "id": "eeb709ee",
   "metadata": {},
   "outputs": [],
   "source": [
    "df_est = filtering(df_est, 'P_da_est/estrusore')\n",
    "\n",
    "tc_list = []\n",
    "for idu in df_est['ID_unique'].unique():\n",
    "    mask = df_est['ID_unique'] == idu\n",
    "    df_tmp = df_est[mask].sort_values('timestamp')\n",
    "    df_tmp.reset_index(drop=True, inplace=True)\n",
    "    t1 = df_tmp.loc[0, 'timestamp']\n",
    "    t2 = df_tmp.loc[len(df_tmp) - 1, 'timestamp']\n",
    "    tc = ((t2 - t1).seconds)/60\n",
    "    tc_list.append(tc)"
   ]
  },
  {
   "cell_type": "code",
   "execution_count": 117,
   "id": "2e0f5dd9",
   "metadata": {},
   "outputs": [],
   "source": [
    "df_tc_sim = pd.read_csv('C:/Users/HP/Desktop/df_tc_sim.csv')"
   ]
  },
  {
   "cell_type": "code",
   "execution_count": 118,
   "id": "5f82630e",
   "metadata": {},
   "outputs": [],
   "source": [
    "tc_sim = list(df_tc_sim['t_tot'])"
   ]
  },
  {
   "cell_type": "code",
   "execution_count": 119,
   "id": "77549922",
   "metadata": {},
   "outputs": [
    {
     "data": {
      "text/plain": [
       "1801"
      ]
     },
     "execution_count": 119,
     "metadata": {},
     "output_type": "execute_result"
    }
   ],
   "source": [
    "len(tc_sim)"
   ]
  },
  {
   "cell_type": "code",
   "execution_count": 120,
   "id": "c47c8c9c-ffd6-4cfa-a799-b73aabbac123",
   "metadata": {},
   "outputs": [
    {
     "data": {
      "text/plain": [
       "1465"
      ]
     },
     "execution_count": 120,
     "metadata": {},
     "output_type": "execute_result"
    }
   ],
   "source": [
    "len(tc_list)"
   ]
  },
  {
   "cell_type": "code",
   "execution_count": 121,
   "id": "015435a4",
   "metadata": {},
   "outputs": [
    {
     "data": {
      "text/plain": [
       "1435"
      ]
     },
     "execution_count": 121,
     "metadata": {},
     "output_type": "execute_result"
    }
   ],
   "source": [
    "tc_list = quantile2(tc_list, 0.98, 0)\n",
    "len(tc_list)"
   ]
  },
  {
   "cell_type": "code",
   "execution_count": 122,
   "id": "4c7da685-f549-48fd-b552-9edb0e8b3745",
   "metadata": {},
   "outputs": [],
   "source": [
    "tc_sim = quantile2(tc_sim, 0.98, 0)"
   ]
  },
  {
   "cell_type": "code",
   "execution_count": 123,
   "id": "5b426715-f7e9-4905-9975-60f79cf409bc",
   "metadata": {},
   "outputs": [],
   "source": [
    "from random import shuffle\n",
    "shuffle(tc_sim)"
   ]
  },
  {
   "cell_type": "code",
   "execution_count": 124,
   "id": "512bec00",
   "metadata": {},
   "outputs": [
    {
     "data": {
      "text/plain": [
       "1435"
      ]
     },
     "execution_count": 124,
     "metadata": {},
     "output_type": "execute_result"
    }
   ],
   "source": [
    "tc_sim = tc_sim[(len(tc_sim) - (len(tc_list))):]\n",
    "len(tc_sim)"
   ]
  },
  {
   "cell_type": "code",
   "execution_count": 75,
   "id": "8823a929-1ab9-4b9b-af66-aea3822e2410",
   "metadata": {},
   "outputs": [],
   "source": [
    "tc_list = [x + 1 for x in tc_list]"
   ]
  },
  {
   "cell_type": "code",
   "execution_count": 128,
   "id": "1bed5c08",
   "metadata": {},
   "outputs": [
    {
     "data": {
      "image/png": "[encoded data removed]",
      "text/plain": [
       "<Figure size 600x450 with 1 Axes>"
      ]
     },
     "metadata": {},
     "output_type": "display_data"
    }
   ],
   "source": [
    "plt.figure(figsize=(8, 6), dpi=75)\n",
    "plt.hist(tc_list, 100, alpha=0.7, label='TC')\n",
    "plt.hist(tc_sim, 100, alpha=0.6, label='TC simulati')\n",
    "plt.xlabel('Minuti')\n",
    "plt.ylabel('Occorrenze (Coni)')\n",
    "plt.legend(loc='upper right')\n",
    "plt.savefig('C:/Users/HP/Desktop/dist_real_sim.png')\n",
    "plt.show()"
   ]
  },
  {
   "cell_type": "code",
   "execution_count": 126,
   "id": "d5a03a9c",
   "metadata": {},
   "outputs": [
    {
     "data": {
      "text/plain": [
       "5.285249650851645"
      ]
     },
     "execution_count": 126,
     "metadata": {},
     "output_type": "execute_result"
    }
   ],
   "source": [
    "from sklearn.metrics import mean_squared_error\n",
    "  \n",
    "# Calculation of Root Mean Squared Error (RMSE)\n",
    "np.sqrt(mean_squared_error(sorted(tc_list),sorted(tc_sim)))"
   ]
  },
  {
   "cell_type": "code",
   "execution_count": 127,
   "id": "2544889e",
   "metadata": {},
   "outputs": [
    {
     "name": "stdout",
     "output_type": "stream",
     "text": [
      "Media delle osservazioni reali: 75.78\n",
      "Media delle osservazioni simulate: 75.42\n",
      "\n",
      "Mediana delle osservazioni reali: 68.67\n",
      "Mediana delle osservazioni simulate: 70.15\n"
     ]
    }
   ],
   "source": [
    "mean_real = np.round(np.mean(tc_list), 2)\n",
    "mean_sim = np.round(np.mean(tc_sim), 2)\n",
    "print('Media delle osservazioni reali: {}\\nMedia delle osservazioni simulate: {}'.format(mean_real, mean_sim))\n",
    "print('')\n",
    "mean_real = np.round(np.median(tc_list), 2)\n",
    "mean_sim = np.round(np.median(tc_sim), 2)\n",
    "print('Mediana delle osservazioni reali: {}\\nMediana delle osservazioni simulate: {}'.format(mean_real, mean_sim))"
   ]
  },
  {
   "cell_type": "code",
   "execution_count": 132,
   "id": "bd2245eb",
   "metadata": {},
   "outputs": [
    {
     "data": {
      "text/plain": [
       "28.04"
      ]
     },
     "execution_count": 132,
     "metadata": {},
     "output_type": "execute_result"
    }
   ],
   "source": [
    "np.round(np.std(tc_sim), 2)"
   ]
  },
  {
   "cell_type": "code",
   "execution_count": 130,
   "id": "7c5c8d7c",
   "metadata": {},
   "outputs": [
    {
     "data": {
      "text/plain": [
       "68.67"
      ]
     },
     "execution_count": 130,
     "metadata": {},
     "output_type": "execute_result"
    }
   ],
   "source": [
    "np.round(np.median(tc_list), 2)"
   ]
  },
  {
   "cell_type": "code",
   "execution_count": 133,
   "id": "8104e859-72de-4bd0-8607-31b048415eb5",
   "metadata": {},
   "outputs": [],
   "source": [
    "from random import random"
   ]
  },
  {
   "cell_type": "code",
   "execution_count": 137,
   "id": "8f229377-abfc-4e88-a162-4fe45e479cfe",
   "metadata": {},
   "outputs": [
    {
     "data": {
      "text/plain": [
       "0.837099444981394"
      ]
     },
     "execution_count": 137,
     "metadata": {},
     "output_type": "execute_result"
    }
   ],
   "source": [
    "random()"
   ]
  },
  {
   "cell_type": "code",
   "execution_count": null,
   "id": "876d7280-cded-406b-9f94-8c81a4c15658",
   "metadata": {},
   "outputs": [],
   "source": []
  }
 ],
 "metadata": {
  "kernelspec": {
   "display_name": "Python 3 (ipykernel)",
   "language": "python",
   "name": "python3"
  },
  "language_info": {
   "codemirror_mode": {
    "name": "ipython",
    "version": 3
   },
   "file_extension": ".py",
   "mimetype": "text/x-python",
   "name": "python",
   "nbconvert_exporter": "python",
   "pygments_lexer": "ipython3",
   "version": "3.9.12"
  }
 },
 "nbformat": 4,
 "nbformat_minor": 5
}
