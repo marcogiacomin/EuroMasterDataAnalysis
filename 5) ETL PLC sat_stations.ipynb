{
 "cells": [
  {
   "cell_type": "code",
   "execution_count": 1,
   "id": "9e740321",
   "metadata": {},
   "outputs": [],
   "source": [
    "import pandas as pd\n",
    "import numpy as np\n",
    "from datetime import datetime"
   ]
  },
  {
   "cell_type": "markdown",
   "id": "eea0cba7",
   "metadata": {},
   "source": [
    "### Importazione dataframe"
   ]
  },
  {
   "cell_type": "code",
   "execution_count": 2,
   "id": "4ccbdd0e",
   "metadata": {},
   "outputs": [],
   "source": [
    "df1 = pd.read_csv('C:/Users/HP/Desktop/PLC_gualchierani/monitorconi_23mar_to_29mar.csv')\n",
    "df2 = pd.read_csv('C:/Users/HP/Desktop/PLC_gualchierani/monitorconi_30mar_to_4apr.csv')\n",
    "df3 = pd.read_csv('C:/Users/HP/Desktop/PLC_gualchierani/monitorconi_5apr_to_11apr.csv')\n",
    "\n",
    "df1[\"measured_at\"] = pd.to_datetime( df1[\"measured_at\"] )\n",
    "df2[\"measured_at\"] = pd.to_datetime( df2[\"measured_at\"] )\n",
    "df3[\"measured_at\"] = pd.to_datetime( df3[\"measured_at\"] )\n",
    "\n",
    "mask_30mar = np.asarray( df1[ df1['measured_at'].dt.day == 30].index )\n",
    "df1.drop( mask_30mar, inplace = True )\n",
    "\n",
    "mask_29mar = np.asarray( df2[ df2['measured_at'].dt.day == 29].index )\n",
    "df2.drop( mask_29mar, inplace = True )\n",
    "\n",
    "mask_5apr = np.asarray( df2[ df2['measured_at'].dt.day == 5].index )\n",
    "df2.drop( mask_5apr, inplace = True )\n",
    "\n",
    "mask_4apr = np.asarray( df3[ df3['measured_at'].dt.day == 4].index )\n",
    "df3.drop( mask_4apr, inplace = True )\n",
    "\n",
    "mask_12apr = np.asarray( df3[ df3['measured_at'].dt.day == 12].index )\n",
    "df3.drop( mask_12apr, inplace = True )\n",
    "\n",
    "df = pd.concat([df1,df2, df3])"
   ]
  },
  {
   "cell_type": "code",
   "execution_count": 3,
   "id": "c7d49b5f",
   "metadata": {},
   "outputs": [],
   "source": [
    "df.drop(['id', 'tipologia_lavorazione', 'cicli_da_eseguire',\n",
    "        'cicli_eseguiti', 'tempo_miscelazione_eseguito',\n",
    "        'stato_tramoggia', 'tara_cono', 'lotto',\n",
    "        'created_at', 'updated_at'], axis=1, inplace=True)"
   ]
  },
  {
   "cell_type": "code",
   "execution_count": 4,
   "id": "b26cae0f",
   "metadata": {},
   "outputs": [],
   "source": [
    "mask_no_cono = np.asarray( df[ df['id_cono'] > 24 ].index )\n",
    "df.drop( mask_no_cono, inplace = True )"
   ]
  },
  {
   "cell_type": "code",
   "execution_count": 5,
   "id": "b472ba85",
   "metadata": {},
   "outputs": [
    {
     "name": "stdout",
     "output_type": "stream",
     "text": [
      "<class 'pandas.core.frame.DataFrame'>\n",
      "Int64Index: 816645 entries, 0 to 528311\n",
      "Data columns (total 9 columns):\n",
      " #   Column                            Non-Null Count   Dtype         \n",
      "---  ------                            --------------   -----         \n",
      " 0   id_cono                           816645 non-null  int64         \n",
      " 1   ubicazione                        816645 non-null  int64         \n",
      " 2   stato                             816645 non-null  int64         \n",
      " 3   postazione_pesatura_destinazione  816645 non-null  int64         \n",
      " 4   miscelatore_destinazione          816645 non-null  int64         \n",
      " 5   estrusore_destinazione            816645 non-null  int64         \n",
      " 6   tempo_miscelazione_richiesto      816645 non-null  int64         \n",
      " 7   destinazione_ritorno              816645 non-null  int64         \n",
      " 8   measured_at                       816645 non-null  datetime64[ns]\n",
      "dtypes: datetime64[ns](1), int64(8)\n",
      "memory usage: 62.3 MB\n"
     ]
    }
   ],
   "source": [
    "df.info()"
   ]
  },
  {
   "cell_type": "code",
   "execution_count": 55,
   "id": "2dd2dcd2",
   "metadata": {},
   "outputs": [
    {
     "data": {
      "text/plain": [
       "array([4, 5, 1, 2, 3, 8, 6, 0, 9], dtype=int64)"
      ]
     },
     "execution_count": 55,
     "metadata": {},
     "output_type": "execute_result"
    }
   ],
   "source": [
    "df['estrusore_destinazione'].unique()"
   ]
  },
  {
   "cell_type": "markdown",
   "id": "72424dd3",
   "metadata": {},
   "source": [
    "### Preparazione dati di supporto"
   ]
  },
  {
   "cell_type": "code",
   "execution_count": 7,
   "id": "ec17a63a",
   "metadata": {},
   "outputs": [],
   "source": [
    "buffer = [n for n in range(21, 29)]\n",
    "buffer.extend([n for n in range(31, 39)])\n",
    "\n",
    "legenda_gualchierani = {\n",
    "    'fuori_impianto': [0],\n",
    "    'ing_zona_misc': [1],\n",
    "    'catenaria_ing_misc': [45, 46],\n",
    "    'navetta_serv_misc': [43],\n",
    "    'pesatura': [41, 42],\n",
    "    'miscelatore': [2, 8],\n",
    "    'cat_usc_pieni': [3],\n",
    "    'nav_serv_carr_pieni': [4],\n",
    "    'nav_serv_carr_vuoti': [5],\n",
    "    'buffer': buffer,\n",
    "    'carroponte_1': [6],\n",
    "    'carroponte_2': [7],\n",
    "    'estrusore': [n for n in range(11, 19)],\n",
    "    'handling_post_est': [6, 5, 4],\n",
    "    'catenaria_vuoti': [47, 48],\n",
    "    'catenaria_uscita_vuoti': [49],\n",
    "    'pinza_vuoti': [50],\n",
    "    'catenaria_parcheggi': [n for n in range(51, 58)],\n",
    "    'nav_serv_parcheggi': [44],\n",
    "    'manuale': [68, 70]\n",
    "}\n",
    "\n",
    "dict_states = {\n",
    "    0: 'Not_def',\n",
    "    1: 'V_per_park',\n",
    "    2: 'P_da_misc',\n",
    "    3: 'P_da_est',\n",
    "    4: 'P_remove',\n",
    "    5: 'P_recheck',\n",
    "    6: 'P_per_park',\n",
    "    7: 'V_da_pes',\n",
    "    8: 'V_remove',\n",
    "    9: 'V_lavaggio'\n",
    "}\n",
    "\n",
    "starter = ['V_da_pes/nav_serv_carr_pieni', 'V_da_pes/nav_serv_carr_vuoti',\n",
    "'V_da_pes/catenaria_vuoti', 'V_da_pes/catenaria_parcheggi',\n",
    "'V_da_pes/nav_serv_parcheggi', 'V_da_pes/catenaria_ing_misc',\n",
    "'V_da_pes/ing_zona_misc']\n",
    "\n",
    "finisher = ['P_da_est/estrusore', 'Not_def/fuori_impianto']\n",
    "\n",
    "finisher2 = ['V_per_park/estrusore', 'V_da_pes/estrusore', 'Not_def/fuori_impianto']"
   ]
  },
  {
   "cell_type": "markdown",
   "id": "10ea9585",
   "metadata": {},
   "source": [
    "### Preparazione funzioni"
   ]
  },
  {
   "cell_type": "code",
   "execution_count": 8,
   "id": "19a0e2fb",
   "metadata": {},
   "outputs": [],
   "source": [
    "#  questa funzione estrae dal df il primo record in ordine temporale per ogni ubicazione\n",
    "\n",
    "def create_df_t_new(df, cono_in_esame):\n",
    "    mask = df['id_cono'] == cono_in_esame\n",
    "    df1 = df[mask]\n",
    "\n",
    "    ubicazione = []\n",
    "    stato = []\n",
    "    timestamp = []\n",
    "    stazione = []\n",
    "    miscelatore = []\n",
    "    for i in range(1, len(df1) - 1):\n",
    "        if df1.iloc[i, 1] in legenda_gualchierani['pesatura']:\n",
    "            if (df1.iloc[i, 1] != df1.iloc[i - 1, 1]) or (df1.iloc[i, 1] != df1.iloc[i + 1, 1]):\n",
    "                ubicazione.append(df1.iloc[i, 1])\n",
    "                stato.append(df1.iloc[i, 2])\n",
    "                timestamp.append(df1.iloc[i, 8])\n",
    "                stazione.append(df1.iloc[i, 3])\n",
    "                miscelatore.append(df1.iloc[i, 4])\n",
    "        elif df1.iloc[i, 1] in legenda_gualchierani['miscelatore']:\n",
    "            if (df1.iloc[i, 1] != df1.iloc[i - 1, 1]) or (df1.iloc[i, 1] != df1.iloc[i + 1, 1]):\n",
    "                ubicazione.append(df1.iloc[i, 1])\n",
    "                stato.append(df1.iloc[i, 2])\n",
    "                timestamp.append(df1.iloc[i, 8])\n",
    "                stazione.append(df1.iloc[i, 3])\n",
    "                miscelatore.append(df1.iloc[i, 4])\n",
    "        else:\n",
    "            continue\n",
    "\n",
    "#  estrae i valori dalla memoria del PLC li traduco in parole\n",
    "    for i in range(len(ubicazione)):\n",
    "        for k,v in legenda_gualchierani.items():\n",
    "            if ubicazione[i] in v:\n",
    "                ubicazione[i] = k\n",
    "\n",
    "    for i in range(len(stato)):\n",
    "        stato[i] = dict_states[stato[i]]\n",
    "\n",
    "#  crea il dataframe che sarà input alla funzione di individuazione della tracce\n",
    "    df_t = pd.DataFrame(list(zip(stato, ubicazione, timestamp, stazione, miscelatore)),\n",
    "                        columns =['stato', 'ubicazione', 'timestamp', 'stazione', 'miscelatore'])\n",
    "    df_t.sort_values('timestamp', inplace=True)\n",
    "    df_t['rif'] = (df_t.stato.astype('str') + '/' + df_t.ubicazione.astype('str'))\n",
    "    df_t.drop_duplicates(inplace=True)\n",
    "    return(df_t)"
   ]
  },
  {
   "cell_type": "markdown",
   "id": "a0de14ba",
   "metadata": {},
   "source": [
    "### Calcolo tracce"
   ]
  },
  {
   "cell_type": "code",
   "execution_count": 9,
   "id": "35742e72",
   "metadata": {},
   "outputs": [
    {
     "name": "stdout",
     "output_type": "stream",
     "text": [
      "TEMPO ELABORAZIONE CONO 1 0:00:06.715682\n",
      "TEMPO ELABORAZIONE CONO 2 0:00:05.734397\n",
      "TEMPO ELABORAZIONE CONO 3 0:00:04.149145\n",
      "TEMPO ELABORAZIONE CONO 4 0:00:04.812118\n",
      "TEMPO ELABORAZIONE CONO 5 0:00:04.342555\n",
      "TEMPO ELABORAZIONE CONO 6 0:00:05.267633\n",
      "TEMPO ELABORAZIONE CONO 7 0:00:04.509371\n",
      "TEMPO ELABORAZIONE CONO 8 0:00:06.534477\n",
      "TEMPO ELABORAZIONE CONO 9 0:00:07.173232\n",
      "TEMPO ELABORAZIONE CONO 10 0:00:06.920803\n",
      "TEMPO ELABORAZIONE CONO 11 0:00:06.250492\n",
      "TEMPO ELABORAZIONE CONO 12 0:00:06.609714\n",
      "TEMPO ELABORAZIONE CONO 13 0:00:07.500101\n",
      "TEMPO ELABORAZIONE CONO 14 0:00:05.812887\n",
      "TEMPO ELABORAZIONE CONO 15 0:00:05.563189\n",
      "TEMPO ELABORAZIONE CONO 16 0:00:07.110202\n",
      "TEMPO ELABORAZIONE CONO 17 0:00:06.625053\n",
      "TEMPO ELABORAZIONE CONO 18 0:00:05.554011\n",
      "TEMPO ELABORAZIONE CONO 19 0:00:05.422316\n",
      "TEMPO ELABORAZIONE CONO 20 0:00:05.139849\n",
      "TEMPO ELABORAZIONE CONO 21 0:00:05.502162\n",
      "TEMPO ELABORAZIONE CONO 22 0:00:04.475188\n",
      "TEMPO ELABORAZIONE CONO 23 0:00:06.672195\n",
      "TEMPO ELABORAZIONE CONO 24 0:00:06.222111\n"
     ]
    }
   ],
   "source": [
    "trace = 0\n",
    "for c in range(1, 25):\n",
    "    start = datetime.now()\n",
    "    if c == 1:\n",
    "        df_pes = create_df_t_new(df, c)\n",
    "    else:\n",
    "        df_pes = pd.concat([df_pes, create_df_t_new(df, c)])\n",
    "    end = datetime.now()\n",
    "    print('TEMPO ELABORAZIONE CONO {} {}'.format(c, end-start))"
   ]
  },
  {
   "cell_type": "code",
   "execution_count": 10,
   "id": "cea0c9b3",
   "metadata": {},
   "outputs": [],
   "source": [
    "df_pes.reset_index(drop=True, inplace=True)\n",
    "df_pes['ID'] = 0\n",
    "idu = 0\n",
    "for i in df_pes.index:\n",
    "    if (df_pes.loc[i, 'rif'] == 'V_da_pes/pesatura' and df_pes.loc[i + 1, 'rif'] == 'P_da_misc/pesatura'):\n",
    "        df_pes.loc[i, 'ID'] = idu\n",
    "        df_pes.loc[i + 1, 'ID'] = idu\n",
    "        idu += 1\n",
    "        continue\n",
    "    if (df_pes.loc[i, 'rif'] == 'P_da_misc/miscelatore' and df_pes.loc[i + 1, 'rif'] == 'P_da_est/miscelatore'):\n",
    "        df_pes.loc[i, 'ID'] = idu\n",
    "        df_pes.loc[i + 1, 'ID'] = idu\n",
    "        idu += 1\n",
    "        continue\n",
    "        "
   ]
  },
  {
   "cell_type": "code",
   "execution_count": 11,
   "id": "e7cfc9de",
   "metadata": {},
   "outputs": [],
   "source": [
    "staz_1 = []\n",
    "staz_2 = []\n",
    "misc_1 = []\n",
    "misc_2 = []\n",
    "\n",
    "for i in df_pes['ID'].unique():\n",
    "    df_tmp = df_pes[ df_pes['ID'] == i ]\n",
    "    df_tmp.reset_index(inplace=True, drop=True)\n",
    "    dt = df_tmp.loc[1, 'timestamp'] - df_tmp.loc[0, 'timestamp']\n",
    "    \n",
    "    if df_tmp.loc[0, 'ubicazione'] == 'pesatura':\n",
    "        if df_tmp.loc[0, 'stazione'] == 1:\n",
    "            staz_1.append(dt)\n",
    "        else:\n",
    "            staz_2.append(dt)\n",
    "    elif df_tmp.loc[0, 'ubicazione'] == 'miscelatore':\n",
    "        if df_tmp.loc[0, 'miscelatore'] == 1:\n",
    "            misc_1.append(dt)\n",
    "        else:\n",
    "            misc_2.append(dt)"
   ]
  },
  {
   "cell_type": "code",
   "execution_count": 12,
   "id": "526cdc3b",
   "metadata": {},
   "outputs": [
    {
     "name": "stdout",
     "output_type": "stream",
     "text": [
      "Tempo medio di dosatura stazione 1:  0 days 00:28:28.657777777\n",
      "Tempo medio di dosatura stazione 2:  0 days 00:10:45.659949622\n",
      "Tempo medio di miscelatore 1:  0 days 00:03:36.904069767\n",
      "Tempo medio di miscelatore 2:  -1 days +23:21:24.512295082\n"
     ]
    }
   ],
   "source": [
    "print('Tempo medio di dosatura stazione 1: ', np.mean(staz_1))\n",
    "print('Tempo medio di dosatura stazione 2: ', np.mean(staz_2))\n",
    "print('Tempo medio di miscelatore 1: ', np.mean(misc_1))\n",
    "print('Tempo medio di miscelatore 2: ', np.mean(misc_2))"
   ]
  },
  {
   "cell_type": "code",
   "execution_count": 13,
   "id": "b2e9c0a8",
   "metadata": {},
   "outputs": [],
   "source": [
    "tot_staz_1 = sum([x.total_seconds() / 60 for x in staz_1])\n",
    "tot_staz_2 = sum([x.total_seconds() / 60 for x in staz_2])\n",
    "tot_misc_1 = sum([x.total_seconds() / 60 for x in misc_1])\n",
    "tot_misc_2 = sum([x.total_seconds() / 60 for x in misc_2])\n",
    "\n",
    "tot_staz = tot_staz_1 + tot_staz_2\n",
    "tot_misc = tot_misc_1 + tot_misc_2"
   ]
  },
  {
   "cell_type": "code",
   "execution_count": 14,
   "id": "c90d25a3",
   "metadata": {},
   "outputs": [
    {
     "name": "stdout",
     "output_type": "stream",
     "text": [
      "Saturazione stazione 1 su tot stazioni:  59.99734696266247 %\n",
      "Saturazione stazione 2 su tot stazioni:  40.002653037337524 %\n",
      "Saturazione miscelatore 1 su tot miscelatori:  -7.070213191351036 %\n",
      "Saturazione miscelatore 2 su tot miscelatori:  107.07021319135104 %\n"
     ]
    }
   ],
   "source": [
    "print('Saturazione stazione 1 su tot stazioni: ', tot_staz_1 / tot_staz * 100, '%')\n",
    "print('Saturazione stazione 2 su tot stazioni: ', tot_staz_2 / tot_staz * 100, '%')\n",
    "print('Saturazione miscelatore 1 su tot miscelatori: ', tot_misc_1 / tot_misc * 100, '%')\n",
    "print('Saturazione miscelatore 2 su tot miscelatori: ', tot_misc_2 / tot_misc * 100, '%')"
   ]
  },
  {
   "cell_type": "code",
   "execution_count": 15,
   "id": "dca94334",
   "metadata": {},
   "outputs": [],
   "source": [
    "days = df['measured_at'].dt.day.unique()"
   ]
  },
  {
   "cell_type": "code",
   "execution_count": 30,
   "id": "a12fc599",
   "metadata": {},
   "outputs": [],
   "source": [
    "tot_min = 0\n",
    "for d in days:\n",
    "    df_day = df[(df['measured_at'].dt.day == d) & (df['ubicazione'].isin([41, 42]))]\n",
    "    df_day.sort_values('measured_at', inplace=True)\n",
    "    df_day.reset_index(inplace=True, drop=True)\n",
    "    if len(df_day) != 0:\n",
    "        dt = df_day.loc[len(df_day) - 1, 'measured_at'] - df_day.loc[0, 'measured_at']\n",
    "        tot_min += dt.total_seconds() / 60"
   ]
  },
  {
   "cell_type": "code",
   "execution_count": 31,
   "id": "9745ea08",
   "metadata": {},
   "outputs": [
    {
     "data": {
      "text/plain": [
       "362.66833333333335"
      ]
     },
     "execution_count": 31,
     "metadata": {},
     "output_type": "execute_result"
    }
   ],
   "source": [
    "tot_min / 60"
   ]
  },
  {
   "cell_type": "code",
   "execution_count": 35,
   "id": "30eab39a",
   "metadata": {},
   "outputs": [],
   "source": [
    "tot_h = (48) * 7.5\n",
    "tot_min = tot_h * 60"
   ]
  },
  {
   "cell_type": "code",
   "execution_count": 36,
   "id": "c68dbc2f",
   "metadata": {},
   "outputs": [
    {
     "name": "stdout",
     "output_type": "stream",
     "text": [
      "Saturazione stazione 1:  59.328395061728415 %\n",
      "Saturazione stazione 2:  39.556635802469025 %\n",
      "Saturazione miscelatore 1:  5.757330246913569 %\n",
      "Saturazione miscelatore 2:  -87.1881172839507 %\n"
     ]
    }
   ],
   "source": [
    "print('Saturazione stazione 1: ', tot_staz_1 / tot_min * 100, '%')\n",
    "print('Saturazione stazione 2: ', tot_staz_2 / tot_min * 100, '%')\n",
    "print('Saturazione miscelatore 1: ', tot_misc_1 / tot_min * 100, '%')\n",
    "print('Saturazione miscelatore 2: ', tot_misc_2 / tot_min * 100, '%')"
   ]
  },
  {
   "cell_type": "code",
   "execution_count": 38,
   "id": "8adc8498",
   "metadata": {},
   "outputs": [
    {
     "data": {
      "text/plain": [
       "1652"
      ]
     },
     "execution_count": 38,
     "metadata": {},
     "output_type": "execute_result"
    }
   ],
   "source": [
    "len(df_pes[df_pes['rif'] == 'V_da_pes/pesatura'])"
   ]
  },
  {
   "cell_type": "code",
   "execution_count": 39,
   "id": "349aabe0",
   "metadata": {},
   "outputs": [],
   "source": [
    "coni_h = len(df_pes[df_pes['rif'] == 'V_da_pes/pesatura']) / tot_h\n",
    "coni_day = int(coni_h * 24)"
   ]
  },
  {
   "cell_type": "code",
   "execution_count": 40,
   "id": "9b73fca2",
   "metadata": {},
   "outputs": [
    {
     "name": "stdout",
     "output_type": "stream",
     "text": [
      "Coni dosati per ora:  4.588888888888889\n",
      "Coni dosati per giorno:  110\n"
     ]
    }
   ],
   "source": [
    "print('Coni dosati per ora: ', coni_h)\n",
    "print('Coni dosati per giorno: ', coni_day)"
   ]
  },
  {
   "cell_type": "markdown",
   "id": "a8e850e4",
   "metadata": {},
   "source": [
    "### Calcolo tempi di interarrivo"
   ]
  },
  {
   "cell_type": "code",
   "execution_count": 41,
   "id": "20877d1e",
   "metadata": {},
   "outputs": [],
   "source": [
    "df_int = df_pes[df_pes['rif'] == 'V_da_pes/pesatura']"
   ]
  },
  {
   "cell_type": "code",
   "execution_count": 42,
   "id": "4defbca2",
   "metadata": {},
   "outputs": [],
   "source": [
    "df_int.sort_values('timestamp', inplace=True)\n",
    "df_int.reset_index(drop=True, inplace=True)"
   ]
  },
  {
   "cell_type": "code",
   "execution_count": 43,
   "id": "4a2dc672",
   "metadata": {},
   "outputs": [],
   "source": [
    "intervals = []\n",
    "\n",
    "for i in range(len(df_int) - 1):\n",
    "    time_delta = df_int.loc[i + 1, 'timestamp'] - df_int.loc[i, 'timestamp']\n",
    "    dt = time_delta.total_seconds() / 60\n",
    "    intervals.append(dt)"
   ]
  },
  {
   "cell_type": "code",
   "execution_count": 44,
   "id": "de5c02e7",
   "metadata": {},
   "outputs": [
    {
     "data": {
      "text/plain": [
       "4.586111111111111"
      ]
     },
     "execution_count": 44,
     "metadata": {},
     "output_type": "execute_result"
    }
   ],
   "source": [
    "len(intervals) / tot_h"
   ]
  },
  {
   "cell_type": "code",
   "execution_count": 27,
   "id": "06bc80cb",
   "metadata": {},
   "outputs": [],
   "source": [
    "from fitter import Fitter, get_common_distributions, get_distributions\n",
    "from matplotlib import pyplot as plt\n",
    "%matplotlib inline\n",
    "import seaborn as sns\n",
    "sns.set()\n",
    "def quantile2(column,pct,pct_lower):\n",
    "    y = column\n",
    "    y.sort()\n",
    "    len_y = len(y)\n",
    "    y = y[int(pct_lower * len_y):int(len_y * pct)]\n",
    "    return y"
   ]
  },
  {
   "cell_type": "code",
   "execution_count": 28,
   "id": "553e7121",
   "metadata": {},
   "outputs": [],
   "source": [
    "intervals = quantile2(intervals,0.999,0)"
   ]
  },
  {
   "cell_type": "code",
   "execution_count": 29,
   "id": "56515849",
   "metadata": {},
   "outputs": [
    {
     "data": {
      "text/plain": [
       "<seaborn.axisgrid.FacetGrid at 0x2c09c28f640>"
      ]
     },
     "execution_count": 29,
     "metadata": {},
     "output_type": "execute_result"
    },
    {
     "data": {
      "image/png": "[encoded data removed]",
      "text/plain": [
       "<Figure size 540x360 with 1 Axes>"
      ]
     },
     "metadata": {},
     "output_type": "display_data"
    }
   ],
   "source": [
    "sns.set_style('white')\n",
    "sns.set_context(\"paper\", font_scale = 2)\n",
    "sns.displot(data=intervals, kind=\"hist\", bins = 50, aspect = 1.5)"
   ]
  },
  {
   "cell_type": "code",
   "execution_count": 30,
   "id": "b8cc3ba4",
   "metadata": {},
   "outputs": [
    {
     "name": "stderr",
     "output_type": "stream",
     "text": [
      "WARNING:root:SKIPPED kstwo distribution (taking more than 30 seconds)\n",
      "WARNING:root:SKIPPED kappa4 distribution (taking more than 30 seconds)\n",
      "WARNING:root:SKIPPED ksone distribution (taking more than 30 seconds)\n",
      "WARNING:root:SKIPPED levy_stable distribution (taking more than 30 seconds)\n",
      "WARNING:root:SKIPPED loglaplace distribution (taking more than 30 seconds)\n",
      "WARNING:root:SKIPPED lognorm distribution (taking more than 30 seconds)\n",
      "WARNING:root:SKIPPED nakagami distribution (taking more than 30 seconds)\n",
      "WARNING:root:SKIPPED ncf distribution (taking more than 30 seconds)\n",
      "WARNING:root:SKIPPED nct distribution (taking more than 30 seconds)\n",
      "WARNING:root:SKIPPED ncx2 distribution (taking more than 30 seconds)\n",
      "C:\\Users\\HP\\anaconda3\\lib\\site-packages\\scipy\\stats\\_distn_infrastructure.py:1826: IntegrationWarning: The algorithm does not converge.  Roundoff error is detected\n",
      "  in the extrapolation table.  It is assumed that the requested tolerance\n",
      "  cannot be achieved, and that the returned result (if full_output = 1) is \n",
      "  the best which can be obtained.\n",
      "  return integrate.quad(self._mom_integ1, 0, 1, args=(m,)+args)[0]\n",
      "WARNING:root:SKIPPED norminvgauss distribution (taking more than 30 seconds)\n",
      "WARNING:root:SKIPPED powerlognorm distribution (taking more than 30 seconds)\n",
      "WARNING:root:SKIPPED rv_continuous distribution (taking more than 30 seconds)\n",
      "WARNING:root:SKIPPED rv_histogram distribution (taking more than 30 seconds)\n",
      "WARNING:root:SKIPPED studentized_range distribution (taking more than 30 seconds)\n",
      "WARNING:root:SKIPPED t distribution (taking more than 30 seconds)\n",
      "C:\\Users\\HP\\anaconda3\\lib\\site-packages\\scipy\\integrate\\quadpack.py:879: IntegrationWarning: The maximum number of subdivisions (50) has been achieved.\n",
      "  If increasing the limit yields no improvement it is advised to analyze \n",
      "  the integrand in order to determine the difficulties.  If the position of a \n",
      "  local difficulty can be determined (singularity, discontinuity) one will \n",
      "  probably gain from splitting up the interval and calling the integrator \n",
      "  on the subranges.  Perhaps a special-purpose integrator should be used.\n",
      "  quad_r = quad(f, low, high, args=args, full_output=self.full_output,\n",
      "WARNING:root:SKIPPED trapezoid distribution (taking more than 30 seconds)\n",
      "WARNING:root:SKIPPED trapz distribution (taking more than 30 seconds)\n",
      "WARNING:root:SKIPPED triang distribution (taking more than 30 seconds)\n",
      "WARNING:root:SKIPPED truncnorm distribution (taking more than 30 seconds)\n",
      "WARNING:root:SKIPPED tukeylambda distribution (taking more than 30 seconds)\n",
      "WARNING:root:SKIPPED vonmises distribution (taking more than 30 seconds)\n",
      "C:\\Users\\HP\\anaconda3\\lib\\site-packages\\scipy\\integrate\\quadpack.py:879: IntegrationWarning: The integral is probably divergent, or slowly convergent.\n",
      "  quad_r = quad(f, low, high, args=args, full_output=self.full_output,\n",
      "WARNING:root:SKIPPED vonmises_line distribution (taking more than 30 seconds)\n",
      "WARNING:root:SKIPPED weibull_max distribution (taking more than 30 seconds)\n"
     ]
    },
    {
     "data": {
      "text/html": [
       "<div>\n",
       "<style scoped>\n",
       "    .dataframe tbody tr th:only-of-type {\n",
       "        vertical-align: middle;\n",
       "    }\n",
       "\n",
       "    .dataframe tbody tr th {\n",
       "        vertical-align: top;\n",
       "    }\n",
       "\n",
       "    .dataframe thead th {\n",
       "        text-align: right;\n",
       "    }\n",
       "</style>\n",
       "<table border=\"1\" class=\"dataframe\">\n",
       "  <thead>\n",
       "    <tr style=\"text-align: right;\">\n",
       "      <th></th>\n",
       "      <th>sumsquare_error</th>\n",
       "      <th>aic</th>\n",
       "      <th>bic</th>\n",
       "      <th>kl_div</th>\n",
       "    </tr>\n",
       "  </thead>\n",
       "  <tbody>\n",
       "    <tr>\n",
       "      <th>burr12</th>\n",
       "      <td>0.009254</td>\n",
       "      <td>1067.089519</td>\n",
       "      <td>-15855.923497</td>\n",
       "      <td>inf</td>\n",
       "    </tr>\n",
       "    <tr>\n",
       "      <th>exponweib</th>\n",
       "      <td>0.009295</td>\n",
       "      <td>1073.644866</td>\n",
       "      <td>-15850.008464</td>\n",
       "      <td>inf</td>\n",
       "    </tr>\n",
       "    <tr>\n",
       "      <th>gengamma</th>\n",
       "      <td>0.009312</td>\n",
       "      <td>1074.932150</td>\n",
       "      <td>-15847.609918</td>\n",
       "      <td>inf</td>\n",
       "    </tr>\n",
       "    <tr>\n",
       "      <th>beta</th>\n",
       "      <td>0.009313</td>\n",
       "      <td>1075.445007</td>\n",
       "      <td>-15847.447858</td>\n",
       "      <td>inf</td>\n",
       "    </tr>\n",
       "    <tr>\n",
       "      <th>pearson3</th>\n",
       "      <td>0.009314</td>\n",
       "      <td>1073.311376</td>\n",
       "      <td>-15854.530131</td>\n",
       "      <td>inf</td>\n",
       "    </tr>\n",
       "  </tbody>\n",
       "</table>\n",
       "</div>"
      ],
      "text/plain": [
       "           sumsquare_error          aic           bic  kl_div\n",
       "burr12            0.009254  1067.089519 -15855.923497     inf\n",
       "exponweib         0.009295  1073.644866 -15850.008464     inf\n",
       "gengamma          0.009312  1074.932150 -15847.609918     inf\n",
       "beta              0.009313  1075.445007 -15847.447858     inf\n",
       "pearson3          0.009314  1073.311376 -15854.530131     inf"
      ]
     },
     "execution_count": 30,
     "metadata": {},
     "output_type": "execute_result"
    },
    {
     "data": {
      "image/png": "[encoded data removed]",
      "text/plain": [
       "<Figure size 432x288 with 1 Axes>"
      ]
     },
     "metadata": {},
     "output_type": "display_data"
    }
   ],
   "source": [
    "#  extract best fitting distribution\n",
    "f = Fitter(intervals)\n",
    "f.fit()\n",
    "f.summary()"
   ]
  },
  {
   "cell_type": "code",
   "execution_count": 31,
   "id": "dbffeb47",
   "metadata": {},
   "outputs": [
    {
     "data": {
      "text/plain": [
       "{'burr12': {'c': 1.6510761870773936,\n",
       "  'd': 4.90409753998643,\n",
       "  'loc': -0.139633281979239,\n",
       "  'scale': 28.18319121005929}}"
      ]
     },
     "execution_count": 31,
     "metadata": {},
     "output_type": "execute_result"
    }
   ],
   "source": [
    "f.get_best(method = 'sumsquare_error')"
   ]
  },
  {
   "cell_type": "code",
   "execution_count": null,
   "id": "ff57bb94",
   "metadata": {},
   "outputs": [],
   "source": []
  }
 ],
 "metadata": {
  "kernelspec": {
   "display_name": "Python 3 (ipykernel)",
   "language": "python",
   "name": "python3"
  },
  "language_info": {
   "codemirror_mode": {
    "name": "ipython",
    "version": 3
   },
   "file_extension": ".py",
   "mimetype": "text/x-python",
   "name": "python",
   "nbconvert_exporter": "python",
   "pygments_lexer": "ipython3",
   "version": "3.9.7"
  }
 },
 "nbformat": 4,
 "nbformat_minor": 5
}
