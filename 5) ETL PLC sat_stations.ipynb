{
 "cells": [
  {
   "cell_type": "code",
   "execution_count": 1,
   "id": "9e740321",
   "metadata": {},
   "outputs": [],
   "source": [
    "import pandas as pd\n",
    "import numpy as np\n",
    "from datetime import datetime, date\n",
    "import holidays"
   ]
  },
  {
   "cell_type": "markdown",
   "id": "eea0cba7",
   "metadata": {},
   "source": [
    "### Importazione dataframe"
   ]
  },
  {
   "cell_type": "code",
   "execution_count": 2,
   "id": "cba165d4-55f6-4581-a9c3-ee03bcaa68f1",
   "metadata": {},
   "outputs": [],
   "source": [
    "df1 = pd.read_csv('C:/Users/HP/Desktop/PLC_gualchierani/monitorconi_23mar_to_29mar.csv')\n",
    "df2 = pd.read_csv('C:/Users/HP/Desktop/PLC_gualchierani/monitorconi_30mar_to_4apr.csv')\n",
    "df3 = pd.read_csv('C:/Users/HP/Desktop/PLC_gualchierani/monitorconi_5apr_to_11apr.csv')\n",
    "df4 = pd.read_csv('C:/Users/HP/Desktop/PLC_gualchierani/monitorconi_12apr_to_18apr.csv')\n",
    "df5 = pd.read_csv('C:/Users/HP/Desktop/PLC_gualchierani/monitorconi_19apr_to_25apr.csv')\n",
    "df6 = pd.read_csv('C:/Users/HP/Desktop/PLC_gualchierani/monitorconi_26apr_to_2mag.csv')"
   ]
  },
  {
   "cell_type": "code",
   "execution_count": 3,
   "id": "65cdae04-1477-4eee-a211-5979fc744574",
   "metadata": {},
   "outputs": [],
   "source": [
    "df1[\"measured_at\"] = pd.to_datetime( df1[\"measured_at\"] )\n",
    "df2[\"measured_at\"] = pd.to_datetime( df2[\"measured_at\"] )\n",
    "df3[\"measured_at\"] = pd.to_datetime( df3[\"measured_at\"] )\n",
    "df4[\"measured_at\"] = pd.to_datetime( df4[\"measured_at\"] )\n",
    "df5[\"measured_at\"] = pd.to_datetime( df5[\"measured_at\"] )\n",
    "df6[\"measured_at\"] = pd.to_datetime( df6[\"measured_at\"] )"
   ]
  },
  {
   "cell_type": "code",
   "execution_count": 4,
   "id": "4ccbdd0e",
   "metadata": {},
   "outputs": [],
   "source": [
    "# da mezzanotte del 23/03 alle 23.59 del 29/03\n",
    "mask_30mar = np.asarray( df1[ df1['measured_at'].dt.day == 30].index )\n",
    "df1.drop( mask_30mar, inplace = True )\n",
    "\n",
    "# da mezzanotte del 30/03 alle 23.59 del 4/04\n",
    "mask_29mar = np.asarray( df2[ df2['measured_at'].dt.day == 29].index )\n",
    "df2.drop( mask_29mar, inplace = True )\n",
    "\n",
    "mask_5apr = np.asarray( df2[ df2['measured_at'].dt.day == 5].index )\n",
    "df2.drop( mask_5apr, inplace = True )\n",
    "\n",
    "# da mezzanotte del 5/04 alle 23.59 del 11/04\n",
    "mask_4apr = np.asarray( df3[ df3['measured_at'].dt.day == 4].index )\n",
    "df3.drop( mask_4apr, inplace = True )\n",
    "\n",
    "mask_12apr = np.asarray( df3[ df3['measured_at'].dt.day == 12].index )\n",
    "df3.drop( mask_12apr, inplace = True )\n",
    "\n",
    "# da mezzanotte del 12/04 alle 23.59 del 18/04\n",
    "mask_11apr = np.asarray( df4[ df4['measured_at'].dt.day == 11].index )\n",
    "df4.drop( mask_11apr, inplace = True )\n",
    "\n",
    "mask_19apr = np.asarray( df4[ df4['measured_at'].dt.day == 19].index )\n",
    "df4.drop( mask_19apr, inplace = True )\n",
    "\n",
    "# da mezzanotte del 19/04 alle 23.59 del 25/04\n",
    "mask_18apr = np.asarray( df5[ df5['measured_at'].dt.day == 18].index )\n",
    "df5.drop( mask_18apr, inplace = True )\n",
    "\n",
    "mask_26apr = np.asarray( df5[ df5['measured_at'].dt.day == 26].index )\n",
    "df5.drop( mask_26apr, inplace = True )\n",
    "\n",
    "# da mezzanotte del 26/04 alle 23.59 del 2/05\n",
    "mask_25apr = np.asarray( df6[ df6['measured_at'].dt.day == 25].index )\n",
    "df6.drop( mask_4apr, inplace = True )\n",
    "\n",
    "mask_3mag = np.asarray( df6[ df6['measured_at'].dt.day == 3].index )\n",
    "df6.drop( mask_12apr, inplace = True )\n",
    "\n",
    "# unisco i dataframe\n",
    "df = pd.concat([df1, df2, df3, df4, df5, df6])"
   ]
  },
  {
   "cell_type": "code",
   "execution_count": 5,
   "id": "c7d49b5f",
   "metadata": {},
   "outputs": [],
   "source": [
    "df.drop(['id', 'tipologia_lavorazione', 'cicli_da_eseguire',\n",
    "        'cicli_eseguiti', 'tempo_miscelazione_eseguito',\n",
    "        'stato_tramoggia', 'tara_cono', 'lotto',\n",
    "        'created_at', 'updated_at','estrusore_destinazione', 'tempo_miscelazione_richiesto',\n",
    "        'destinazione_ritorno'], axis=1, inplace=True)"
   ]
  },
  {
   "cell_type": "code",
   "execution_count": 6,
   "id": "b26cae0f",
   "metadata": {},
   "outputs": [],
   "source": [
    "mask_no_cono = np.asarray( df[ df['id_cono'] > 24 ].index )\n",
    "df.drop( mask_no_cono, inplace = True )"
   ]
  },
  {
   "cell_type": "code",
   "execution_count": 7,
   "id": "ec5554e2-2219-4afa-8445-2a3727f8bfca",
   "metadata": {},
   "outputs": [],
   "source": [
    "df.dropna(inplace=True)"
   ]
  },
  {
   "cell_type": "code",
   "execution_count": 8,
   "id": "b472ba85",
   "metadata": {},
   "outputs": [
    {
     "name": "stdout",
     "output_type": "stream",
     "text": [
      "<class 'pandas.core.frame.DataFrame'>\n",
      "Int64Index: 1176343 entries, 0 to 595703\n",
      "Data columns (total 6 columns):\n",
      " #   Column                            Non-Null Count    Dtype         \n",
      "---  ------                            --------------    -----         \n",
      " 0   id_cono                           1176343 non-null  int64         \n",
      " 1   ubicazione                        1176343 non-null  int64         \n",
      " 2   stato                             1176343 non-null  int64         \n",
      " 3   postazione_pesatura_destinazione  1176343 non-null  int64         \n",
      " 4   miscelatore_destinazione          1176343 non-null  int64         \n",
      " 5   measured_at                       1176343 non-null  datetime64[ns]\n",
      "dtypes: datetime64[ns](1), int64(5)\n",
      "memory usage: 62.8 MB\n"
     ]
    }
   ],
   "source": [
    "df.info()"
   ]
  },
  {
   "cell_type": "markdown",
   "id": "a5d17607-561d-4d7a-8634-a8b45208b7f8",
   "metadata": {},
   "source": [
    "### Calcolo ore lavorative"
   ]
  },
  {
   "cell_type": "code",
   "execution_count": 9,
   "id": "5ec51a5d-c07d-4045-8c44-01aa548248ac",
   "metadata": {},
   "outputs": [],
   "source": [
    "dates = np.asarray(df['measured_at'].dt.date.unique())\n",
    "it_holidays = holidays.Italy()\n",
    "shift = 0 #  ho tolto sabato di pasqua e venerdì santo"
   ]
  },
  {
   "cell_type": "code",
   "execution_count": 10,
   "id": "b2466800-5483-4b02-ab8e-be427caac9fb",
   "metadata": {},
   "outputs": [
    {
     "name": "stdout",
     "output_type": "stream",
     "text": [
      "Pasqua di Resurrezione\n",
      "Lunedì dell'Angelo\n",
      "Festa della Liberazione\n",
      "Festa dei Lavoratori\n"
     ]
    }
   ],
   "source": [
    "for date in dates:\n",
    "    if it_holidays.get(date) is None:\n",
    "        if date.weekday() < 5:\n",
    "            shift += 3\n",
    "        elif date.weekday() == 5:\n",
    "            shift += 2\n",
    "        else:\n",
    "            pass\n",
    "    else:\n",
    "        print(it_holidays.get(date))"
   ]
  },
  {
   "cell_type": "code",
   "execution_count": 11,
   "id": "0bb0decf-29c1-4228-8e4f-8150c7705436",
   "metadata": {},
   "outputs": [
    {
     "data": {
      "text/plain": [
       "96"
      ]
     },
     "execution_count": 11,
     "metadata": {},
     "output_type": "execute_result"
    }
   ],
   "source": [
    "shift"
   ]
  },
  {
   "cell_type": "markdown",
   "id": "72424dd3",
   "metadata": {},
   "source": [
    "### Preparazione dati di supporto"
   ]
  },
  {
   "cell_type": "code",
   "execution_count": 12,
   "id": "ec17a63a",
   "metadata": {},
   "outputs": [],
   "source": [
    "buffer = [n for n in range(21, 29)]\n",
    "buffer.extend([n for n in range(31, 39)])\n",
    "\n",
    "legenda_gualchierani = {\n",
    "    'fuori_impianto': [0],\n",
    "    'ing_zona_misc': [1],\n",
    "    'catenaria_ing_misc': [45, 46],\n",
    "    'navetta_serv_misc': [43],\n",
    "    'pesatura': [41, 42],\n",
    "    'miscelatore': [2, 8],\n",
    "    'cat_usc_pieni': [3],\n",
    "    'nav_serv_carr_pieni': [4],\n",
    "    'nav_serv_carr_vuoti': [5],\n",
    "    'buffer': buffer,\n",
    "    'carroponte_1': [6],\n",
    "    'carroponte_2': [7],\n",
    "    'estrusore': [n for n in range(11, 19)],\n",
    "    'handling_post_est': [6, 5, 4],\n",
    "    'catenaria_vuoti': [47, 48],\n",
    "    'catenaria_uscita_vuoti': [49],\n",
    "    'pinza_vuoti': [50],\n",
    "    'catenaria_parcheggi': [n for n in range(51, 58)],\n",
    "    'nav_serv_parcheggi': [44],\n",
    "    'manuale': [68, 70]\n",
    "}\n",
    "\n",
    "dict_states = {\n",
    "    0: 'Not_def',\n",
    "    1: 'V_per_park',\n",
    "    2: 'P_da_misc',\n",
    "    3: 'P_da_est',\n",
    "    4: 'P_remove',\n",
    "    5: 'P_recheck',\n",
    "    6: 'P_per_park',\n",
    "    7: 'V_da_pes',\n",
    "    8: 'V_remove',\n",
    "    9: 'V_lavaggio'\n",
    "}\n",
    "\n",
    "starter = ['V_da_pes/nav_serv_carr_pieni', 'V_da_pes/nav_serv_carr_vuoti',\n",
    "'V_da_pes/catenaria_vuoti', 'V_da_pes/catenaria_parcheggi',\n",
    "'V_da_pes/nav_serv_parcheggi', 'V_da_pes/catenaria_ing_misc',\n",
    "'V_da_pes/ing_zona_misc']\n",
    "\n",
    "finisher = ['P_da_est/estrusore', 'Not_def/fuori_impianto']\n",
    "\n",
    "finisher2 = ['V_per_park/estrusore', 'V_da_pes/estrusore', 'Not_def/fuori_impianto']"
   ]
  },
  {
   "cell_type": "markdown",
   "id": "10ea9585",
   "metadata": {},
   "source": [
    "### Preparazione funzioni"
   ]
  },
  {
   "cell_type": "code",
   "execution_count": 13,
   "id": "19a0e2fb",
   "metadata": {},
   "outputs": [],
   "source": [
    "#  questa funzione estrae dal df il primo record in ordine temporale per ogni ubicazione\n",
    "\n",
    "def create_df_t_new(df, cono_in_esame):\n",
    "    mask = df['id_cono'] == cono_in_esame\n",
    "    df1 = df[mask]\n",
    "\n",
    "    ubicazione = []\n",
    "    stato = []\n",
    "    timestamp = []\n",
    "    stazione = []\n",
    "    miscelatore = []\n",
    "    for i in range(1, len(df1) - 1):\n",
    "        if df1.iloc[i, 1] in legenda_gualchierani['pesatura']:\n",
    "            if (df1.iloc[i, 1] != df1.iloc[i - 1, 1]) or (df1.iloc[i, 1] != df1.iloc[i + 1, 1]):\n",
    "                ubicazione.append(df1.iloc[i, 1])\n",
    "                stato.append(df1.iloc[i, 2])\n",
    "                timestamp.append(df1.iloc[i, 5])\n",
    "                stazione.append(df1.iloc[i, 3])\n",
    "                miscelatore.append(df1.iloc[i, 4])\n",
    "        elif df1.iloc[i, 1] in legenda_gualchierani['miscelatore']:\n",
    "            if (df1.iloc[i, 1] != df1.iloc[i - 1, 1]) or (df1.iloc[i, 1] != df1.iloc[i + 1, 1]):\n",
    "                ubicazione.append(df1.iloc[i, 1])\n",
    "                stato.append(df1.iloc[i, 2])\n",
    "                timestamp.append(df1.iloc[i, 5])\n",
    "                stazione.append(df1.iloc[i, 3])\n",
    "                miscelatore.append(df1.iloc[i, 4])\n",
    "        else:\n",
    "            continue\n",
    "\n",
    "#  estrae i valori dalla memoria del PLC li traduco in parole\n",
    "    for i in range(len(ubicazione)):\n",
    "        for k,v in legenda_gualchierani.items():\n",
    "            if ubicazione[i] in v:\n",
    "                ubicazione[i] = k\n",
    "\n",
    "    for i in range(len(stato)):\n",
    "        stato[i] = dict_states[stato[i]]\n",
    "\n",
    "#  crea il dataframe che sarà input alla funzione di individuazione della tracce\n",
    "    df_t = pd.DataFrame(list(zip(stato, ubicazione, timestamp, stazione, miscelatore)),\n",
    "                        columns =['stato', 'ubicazione', 'timestamp', 'stazione', 'miscelatore'])\n",
    "    df_t.sort_values('timestamp', inplace=True)\n",
    "    df_t['rif'] = (df_t.stato.astype('str') + '/' + df_t.ubicazione.astype('str'))\n",
    "    df_t.drop_duplicates(inplace=True)\n",
    "    return(df_t)"
   ]
  },
  {
   "cell_type": "code",
   "execution_count": 14,
   "id": "4cc86cff-52be-486a-bde6-013046da236d",
   "metadata": {},
   "outputs": [
    {
     "data": {
      "text/html": [
       "<div>\n",
       "<style scoped>\n",
       "    .dataframe tbody tr th:only-of-type {\n",
       "        vertical-align: middle;\n",
       "    }\n",
       "\n",
       "    .dataframe tbody tr th {\n",
       "        vertical-align: top;\n",
       "    }\n",
       "\n",
       "    .dataframe thead th {\n",
       "        text-align: right;\n",
       "    }\n",
       "</style>\n",
       "<table border=\"1\" class=\"dataframe\">\n",
       "  <thead>\n",
       "    <tr style=\"text-align: right;\">\n",
       "      <th></th>\n",
       "      <th>id_cono</th>\n",
       "      <th>ubicazione</th>\n",
       "      <th>stato</th>\n",
       "      <th>postazione_pesatura_destinazione</th>\n",
       "      <th>miscelatore_destinazione</th>\n",
       "      <th>measured_at</th>\n",
       "    </tr>\n",
       "  </thead>\n",
       "  <tbody>\n",
       "    <tr>\n",
       "      <th>0</th>\n",
       "      <td>1</td>\n",
       "      <td>43</td>\n",
       "      <td>3</td>\n",
       "      <td>2</td>\n",
       "      <td>2</td>\n",
       "      <td>2022-03-23 00:00:29</td>\n",
       "    </tr>\n",
       "    <tr>\n",
       "      <th>1</th>\n",
       "      <td>2</td>\n",
       "      <td>0</td>\n",
       "      <td>0</td>\n",
       "      <td>1</td>\n",
       "      <td>1</td>\n",
       "      <td>2022-03-23 00:00:29</td>\n",
       "    </tr>\n",
       "    <tr>\n",
       "      <th>2</th>\n",
       "      <td>3</td>\n",
       "      <td>14</td>\n",
       "      <td>3</td>\n",
       "      <td>2</td>\n",
       "      <td>1</td>\n",
       "      <td>2022-03-23 00:00:29</td>\n",
       "    </tr>\n",
       "    <tr>\n",
       "      <th>3</th>\n",
       "      <td>4</td>\n",
       "      <td>0</td>\n",
       "      <td>0</td>\n",
       "      <td>2</td>\n",
       "      <td>2</td>\n",
       "      <td>2022-03-23 00:00:29</td>\n",
       "    </tr>\n",
       "    <tr>\n",
       "      <th>4</th>\n",
       "      <td>5</td>\n",
       "      <td>0</td>\n",
       "      <td>2</td>\n",
       "      <td>2</td>\n",
       "      <td>1</td>\n",
       "      <td>2022-03-23 00:00:29</td>\n",
       "    </tr>\n",
       "    <tr>\n",
       "      <th>...</th>\n",
       "      <td>...</td>\n",
       "      <td>...</td>\n",
       "      <td>...</td>\n",
       "      <td>...</td>\n",
       "      <td>...</td>\n",
       "      <td>...</td>\n",
       "    </tr>\n",
       "    <tr>\n",
       "      <th>595699</th>\n",
       "      <td>20</td>\n",
       "      <td>0</td>\n",
       "      <td>0</td>\n",
       "      <td>2</td>\n",
       "      <td>1</td>\n",
       "      <td>2022-05-03 21:22:32</td>\n",
       "    </tr>\n",
       "    <tr>\n",
       "      <th>595700</th>\n",
       "      <td>21</td>\n",
       "      <td>0</td>\n",
       "      <td>0</td>\n",
       "      <td>1</td>\n",
       "      <td>1</td>\n",
       "      <td>2022-05-03 21:22:32</td>\n",
       "    </tr>\n",
       "    <tr>\n",
       "      <th>595701</th>\n",
       "      <td>22</td>\n",
       "      <td>2</td>\n",
       "      <td>3</td>\n",
       "      <td>2</td>\n",
       "      <td>1</td>\n",
       "      <td>2022-05-03 21:22:32</td>\n",
       "    </tr>\n",
       "    <tr>\n",
       "      <th>595702</th>\n",
       "      <td>23</td>\n",
       "      <td>16</td>\n",
       "      <td>1</td>\n",
       "      <td>1</td>\n",
       "      <td>2</td>\n",
       "      <td>2022-05-03 21:22:32</td>\n",
       "    </tr>\n",
       "    <tr>\n",
       "      <th>595703</th>\n",
       "      <td>24</td>\n",
       "      <td>0</td>\n",
       "      <td>0</td>\n",
       "      <td>6</td>\n",
       "      <td>0</td>\n",
       "      <td>2022-05-03 21:22:32</td>\n",
       "    </tr>\n",
       "  </tbody>\n",
       "</table>\n",
       "<p>1176343 rows × 6 columns</p>\n",
       "</div>"
      ],
      "text/plain": [
       "        id_cono  ubicazione  stato  postazione_pesatura_destinazione  \\\n",
       "0             1          43      3                                 2   \n",
       "1             2           0      0                                 1   \n",
       "2             3          14      3                                 2   \n",
       "3             4           0      0                                 2   \n",
       "4             5           0      2                                 2   \n",
       "...         ...         ...    ...                               ...   \n",
       "595699       20           0      0                                 2   \n",
       "595700       21           0      0                                 1   \n",
       "595701       22           2      3                                 2   \n",
       "595702       23          16      1                                 1   \n",
       "595703       24           0      0                                 6   \n",
       "\n",
       "        miscelatore_destinazione         measured_at  \n",
       "0                              2 2022-03-23 00:00:29  \n",
       "1                              1 2022-03-23 00:00:29  \n",
       "2                              1 2022-03-23 00:00:29  \n",
       "3                              2 2022-03-23 00:00:29  \n",
       "4                              1 2022-03-23 00:00:29  \n",
       "...                          ...                 ...  \n",
       "595699                         1 2022-05-03 21:22:32  \n",
       "595700                         1 2022-05-03 21:22:32  \n",
       "595701                         1 2022-05-03 21:22:32  \n",
       "595702                         2 2022-05-03 21:22:32  \n",
       "595703                         0 2022-05-03 21:22:32  \n",
       "\n",
       "[1176343 rows x 6 columns]"
      ]
     },
     "execution_count": 14,
     "metadata": {},
     "output_type": "execute_result"
    }
   ],
   "source": [
    "df"
   ]
  },
  {
   "cell_type": "markdown",
   "id": "a0de14ba",
   "metadata": {},
   "source": [
    "### Calcolo tracce"
   ]
  },
  {
   "cell_type": "code",
   "execution_count": 15,
   "id": "35742e72",
   "metadata": {},
   "outputs": [
    {
     "name": "stdout",
     "output_type": "stream",
     "text": [
      "TEMPO ELABORAZIONE CONO 1 0:00:08.147891\n",
      "TEMPO ELABORAZIONE CONO 2 0:00:07.172303\n",
      "TEMPO ELABORAZIONE CONO 3 0:00:07.577979\n",
      "TEMPO ELABORAZIONE CONO 4 0:00:10.312192\n",
      "TEMPO ELABORAZIONE CONO 5 0:00:13.971871\n",
      "TEMPO ELABORAZIONE CONO 6 0:00:09.126034\n",
      "TEMPO ELABORAZIONE CONO 7 0:00:07.071288\n",
      "TEMPO ELABORAZIONE CONO 8 0:00:06.494707\n",
      "TEMPO ELABORAZIONE CONO 9 0:00:05.305745\n",
      "TEMPO ELABORAZIONE CONO 10 0:00:05.953418\n",
      "TEMPO ELABORAZIONE CONO 11 0:00:08.327139\n",
      "TEMPO ELABORAZIONE CONO 12 0:00:03.234335\n",
      "TEMPO ELABORAZIONE CONO 13 0:00:04.546720\n",
      "TEMPO ELABORAZIONE CONO 14 0:00:04.235385\n",
      "TEMPO ELABORAZIONE CONO 15 0:00:03.249394\n",
      "TEMPO ELABORAZIONE CONO 16 0:00:04.624891\n",
      "TEMPO ELABORAZIONE CONO 17 0:00:05.250287\n",
      "TEMPO ELABORAZIONE CONO 18 0:00:08.428452\n",
      "TEMPO ELABORAZIONE CONO 19 0:00:10.716766\n",
      "TEMPO ELABORAZIONE CONO 20 0:00:09.436768\n",
      "TEMPO ELABORAZIONE CONO 21 0:00:12.064253\n",
      "TEMPO ELABORAZIONE CONO 22 0:00:09.797287\n",
      "TEMPO ELABORAZIONE CONO 23 0:00:12.351325\n",
      "TEMPO ELABORAZIONE CONO 24 0:00:14.932749\n"
     ]
    }
   ],
   "source": [
    "trace = 0\n",
    "for c in range(1, 25):\n",
    "    start = datetime.now()\n",
    "    if c == 1:\n",
    "        df_pes = create_df_t_new(df, c)\n",
    "    else:\n",
    "        df_pes = pd.concat([df_pes, create_df_t_new(df, c)])\n",
    "    end = datetime.now()\n",
    "    print('TEMPO ELABORAZIONE CONO {} {}'.format(c, end-start))"
   ]
  },
  {
   "cell_type": "code",
   "execution_count": 16,
   "id": "cea0c9b3",
   "metadata": {},
   "outputs": [],
   "source": [
    "df_pes.reset_index(drop=True, inplace=True)\n",
    "df_pes['ID'] = 0\n",
    "idu = 0\n",
    "for i in df_pes.index:\n",
    "    if (df_pes.loc[i, 'rif'] == 'V_da_pes/pesatura' and df_pes.loc[i + 1, 'rif'] == 'P_da_misc/pesatura'):\n",
    "        df_pes.loc[i, 'ID'] = idu\n",
    "        df_pes.loc[i + 1, 'ID'] = idu\n",
    "        idu += 1\n",
    "        continue\n",
    "    if (df_pes.loc[i, 'rif'] == 'P_da_misc/miscelatore' and df_pes.loc[i + 1, 'rif'] == 'P_da_est/miscelatore'):\n",
    "        df_pes.loc[i, 'ID'] = idu\n",
    "        df_pes.loc[i + 1, 'ID'] = idu\n",
    "        idu += 1\n",
    "        continue\n",
    "        "
   ]
  },
  {
   "cell_type": "code",
   "execution_count": 38,
   "id": "b4bfc6ec-30b3-4d8f-82b9-a1010a46de1c",
   "metadata": {},
   "outputs": [
    {
     "data": {
      "text/html": [
       "<div>\n",
       "<style scoped>\n",
       "    .dataframe tbody tr th:only-of-type {\n",
       "        vertical-align: middle;\n",
       "    }\n",
       "\n",
       "    .dataframe tbody tr th {\n",
       "        vertical-align: top;\n",
       "    }\n",
       "\n",
       "    .dataframe thead th {\n",
       "        text-align: right;\n",
       "    }\n",
       "</style>\n",
       "<table border=\"1\" class=\"dataframe\">\n",
       "  <thead>\n",
       "    <tr style=\"text-align: right;\">\n",
       "      <th></th>\n",
       "      <th>stato</th>\n",
       "      <th>ubicazione</th>\n",
       "      <th>timestamp</th>\n",
       "      <th>stazione</th>\n",
       "      <th>miscelatore</th>\n",
       "      <th>rif</th>\n",
       "      <th>ID</th>\n",
       "    </tr>\n",
       "  </thead>\n",
       "  <tbody>\n",
       "    <tr>\n",
       "      <th>0</th>\n",
       "      <td>V_da_pes</td>\n",
       "      <td>pesatura</td>\n",
       "      <td>2022-03-23 01:54:52</td>\n",
       "      <td>2</td>\n",
       "      <td>2</td>\n",
       "      <td>V_da_pes/pesatura</td>\n",
       "      <td>0</td>\n",
       "    </tr>\n",
       "    <tr>\n",
       "      <th>1</th>\n",
       "      <td>P_da_misc</td>\n",
       "      <td>pesatura</td>\n",
       "      <td>2022-03-23 02:10:19</td>\n",
       "      <td>2</td>\n",
       "      <td>1</td>\n",
       "      <td>P_da_misc/pesatura</td>\n",
       "      <td>0</td>\n",
       "    </tr>\n",
       "    <tr>\n",
       "      <th>2</th>\n",
       "      <td>P_da_misc</td>\n",
       "      <td>miscelatore</td>\n",
       "      <td>2022-03-23 02:11:28</td>\n",
       "      <td>2</td>\n",
       "      <td>1</td>\n",
       "      <td>P_da_misc/miscelatore</td>\n",
       "      <td>1</td>\n",
       "    </tr>\n",
       "    <tr>\n",
       "      <th>3</th>\n",
       "      <td>P_da_est</td>\n",
       "      <td>miscelatore</td>\n",
       "      <td>2022-03-23 02:14:19</td>\n",
       "      <td>2</td>\n",
       "      <td>1</td>\n",
       "      <td>P_da_est/miscelatore</td>\n",
       "      <td>1</td>\n",
       "    </tr>\n",
       "    <tr>\n",
       "      <th>4</th>\n",
       "      <td>V_da_pes</td>\n",
       "      <td>pesatura</td>\n",
       "      <td>2022-03-23 04:22:27</td>\n",
       "      <td>2</td>\n",
       "      <td>1</td>\n",
       "      <td>V_da_pes/pesatura</td>\n",
       "      <td>2</td>\n",
       "    </tr>\n",
       "    <tr>\n",
       "      <th>...</th>\n",
       "      <td>...</td>\n",
       "      <td>...</td>\n",
       "      <td>...</td>\n",
       "      <td>...</td>\n",
       "      <td>...</td>\n",
       "      <td>...</td>\n",
       "      <td>...</td>\n",
       "    </tr>\n",
       "    <tr>\n",
       "      <th>9027</th>\n",
       "      <td>P_da_est</td>\n",
       "      <td>miscelatore</td>\n",
       "      <td>2022-05-03 19:40:07</td>\n",
       "      <td>2</td>\n",
       "      <td>2</td>\n",
       "      <td>P_da_est/miscelatore</td>\n",
       "      <td>3097</td>\n",
       "    </tr>\n",
       "    <tr>\n",
       "      <th>9028</th>\n",
       "      <td>V_da_pes</td>\n",
       "      <td>pesatura</td>\n",
       "      <td>2022-05-03 20:40:46</td>\n",
       "      <td>1</td>\n",
       "      <td>2</td>\n",
       "      <td>V_da_pes/pesatura</td>\n",
       "      <td>3098</td>\n",
       "    </tr>\n",
       "    <tr>\n",
       "      <th>9029</th>\n",
       "      <td>P_da_misc</td>\n",
       "      <td>pesatura</td>\n",
       "      <td>2022-05-03 20:51:38</td>\n",
       "      <td>1</td>\n",
       "      <td>2</td>\n",
       "      <td>P_da_misc/pesatura</td>\n",
       "      <td>3098</td>\n",
       "    </tr>\n",
       "    <tr>\n",
       "      <th>9030</th>\n",
       "      <td>P_da_misc</td>\n",
       "      <td>miscelatore</td>\n",
       "      <td>2022-05-03 20:52:47</td>\n",
       "      <td>1</td>\n",
       "      <td>2</td>\n",
       "      <td>P_da_misc/miscelatore</td>\n",
       "      <td>3099</td>\n",
       "    </tr>\n",
       "    <tr>\n",
       "      <th>9031</th>\n",
       "      <td>P_da_est</td>\n",
       "      <td>miscelatore</td>\n",
       "      <td>2022-05-03 20:56:13</td>\n",
       "      <td>1</td>\n",
       "      <td>2</td>\n",
       "      <td>P_da_est/miscelatore</td>\n",
       "      <td>3099</td>\n",
       "    </tr>\n",
       "  </tbody>\n",
       "</table>\n",
       "<p>9032 rows × 7 columns</p>\n",
       "</div>"
      ],
      "text/plain": [
       "          stato   ubicazione            timestamp stazione miscelatore  \\\n",
       "0      V_da_pes     pesatura  2022-03-23 01:54:52        2           2   \n",
       "1     P_da_misc     pesatura  2022-03-23 02:10:19        2           1   \n",
       "2     P_da_misc  miscelatore  2022-03-23 02:11:28        2           1   \n",
       "3      P_da_est  miscelatore  2022-03-23 02:14:19        2           1   \n",
       "4      V_da_pes     pesatura  2022-03-23 04:22:27        2           1   \n",
       "...         ...          ...                  ...      ...         ...   \n",
       "9027   P_da_est  miscelatore  2022-05-03 19:40:07        2           2   \n",
       "9028   V_da_pes     pesatura  2022-05-03 20:40:46        1           2   \n",
       "9029  P_da_misc     pesatura  2022-05-03 20:51:38        1           2   \n",
       "9030  P_da_misc  miscelatore  2022-05-03 20:52:47        1           2   \n",
       "9031   P_da_est  miscelatore  2022-05-03 20:56:13        1           2   \n",
       "\n",
       "                        rif    ID  \n",
       "0         V_da_pes/pesatura     0  \n",
       "1        P_da_misc/pesatura     0  \n",
       "2     P_da_misc/miscelatore     1  \n",
       "3      P_da_est/miscelatore     1  \n",
       "4         V_da_pes/pesatura     2  \n",
       "...                     ...   ...  \n",
       "9027   P_da_est/miscelatore  3097  \n",
       "9028      V_da_pes/pesatura  3098  \n",
       "9029     P_da_misc/pesatura  3098  \n",
       "9030  P_da_misc/miscelatore  3099  \n",
       "9031   P_da_est/miscelatore  3099  \n",
       "\n",
       "[9032 rows x 7 columns]"
      ]
     },
     "execution_count": 38,
     "metadata": {},
     "output_type": "execute_result"
    }
   ],
   "source": [
    "df_pes"
   ]
  },
  {
   "cell_type": "code",
   "execution_count": 17,
   "id": "e7cfc9de",
   "metadata": {},
   "outputs": [],
   "source": [
    "staz_1 = []\n",
    "staz_2 = []\n",
    "misc_1 = []\n",
    "misc_2 = []\n",
    "\n",
    "for i in df_pes['ID'].unique():\n",
    "    df_tmp = df_pes[ df_pes['ID'] == i ]\n",
    "    df_tmp.reset_index(inplace=True, drop=True)\n",
    "    dt = df_tmp.loc[1, 'timestamp'] - df_tmp.loc[0, 'timestamp']\n",
    "    \n",
    "    if df_tmp.loc[0, 'ubicazione'] == 'pesatura':\n",
    "        if df_tmp.loc[0, 'stazione'] == 1:\n",
    "            staz_1.append(dt)\n",
    "        else:\n",
    "            staz_2.append(dt)\n",
    "    elif df_tmp.loc[0, 'ubicazione'] == 'miscelatore':\n",
    "        if df_tmp.loc[0, 'miscelatore'] == 1:\n",
    "            misc_1.append(dt)\n",
    "        else:\n",
    "            misc_2.append(dt)"
   ]
  },
  {
   "cell_type": "code",
   "execution_count": 18,
   "id": "c005dddf-d65b-4506-94ef-4ed0930d96b3",
   "metadata": {},
   "outputs": [],
   "source": [
    "staz_1.sort()\n",
    "staz_2.sort()\n",
    "misc_1.sort()\n",
    "misc_2.sort()\n",
    "\n",
    "del misc_2[0]"
   ]
  },
  {
   "cell_type": "code",
   "execution_count": 19,
   "id": "526cdc3b",
   "metadata": {},
   "outputs": [
    {
     "name": "stdout",
     "output_type": "stream",
     "text": [
      "Tempo medio di dosatura stazione 1:  0 days 00:19:41.553846153\n",
      "Tempo medio di dosatura stazione 2:  0 days 00:09:59.708406304\n",
      "Tempo medio di miscelatore 1:  0 days 00:03:25.503717472\n",
      "Tempo medio di miscelatore 2:  0 days 00:04:14.014304291\n"
     ]
    }
   ],
   "source": [
    "print('Tempo medio di dosatura stazione 1: ', np.mean(staz_1))\n",
    "print('Tempo medio di dosatura stazione 2: ', np.mean(staz_2))\n",
    "print('Tempo medio di miscelatore 1: ', np.mean(misc_1))\n",
    "print('Tempo medio di miscelatore 2: ', np.mean(misc_2))"
   ]
  },
  {
   "cell_type": "code",
   "execution_count": 20,
   "id": "b2e9c0a8",
   "metadata": {},
   "outputs": [],
   "source": [
    "tot_staz_1 = sum([x.total_seconds() / 60 for x in staz_1])\n",
    "tot_staz_2 = sum([x.total_seconds() / 60 for x in staz_2])\n",
    "tot_misc_1 = sum([x.total_seconds() / 60 for x in misc_1])\n",
    "tot_misc_2 = sum([x.total_seconds() / 60 for x in misc_2])\n",
    "\n",
    "tot_staz = tot_staz_1 + tot_staz_2\n",
    "tot_misc = tot_misc_1 + tot_misc_2"
   ]
  },
  {
   "cell_type": "code",
   "execution_count": 21,
   "id": "c90d25a3",
   "metadata": {},
   "outputs": [
    {
     "name": "stdout",
     "output_type": "stream",
     "text": [
      "Saturazione stazione 1 su tot stazioni:  52.86132274101659 %\n",
      "Saturazione stazione 2 su tot stazioni:  47.13867725898341 %\n",
      "Saturazione miscelatore 1 su tot miscelatori:  36.14309344945038 %\n",
      "Saturazione miscelatore 2 su tot miscelatori:  63.85690655054961 %\n"
     ]
    }
   ],
   "source": [
    "print('Saturazione stazione 1 su tot stazioni: ', tot_staz_1 / tot_staz * 100, '%')\n",
    "print('Saturazione stazione 2 su tot stazioni: ', tot_staz_2 / tot_staz * 100, '%')\n",
    "print('Saturazione miscelatore 1 su tot miscelatori: ', tot_misc_1 / tot_misc * 100, '%')\n",
    "print('Saturazione miscelatore 2 su tot miscelatori: ', tot_misc_2 / tot_misc * 100, '%')"
   ]
  },
  {
   "cell_type": "code",
   "execution_count": 34,
   "id": "dca94334",
   "metadata": {},
   "outputs": [],
   "source": [
    "tot_h = shift * 7.5\n",
    "tot_min = tot_h * 60"
   ]
  },
  {
   "cell_type": "code",
   "execution_count": 35,
   "id": "c68dbc2f",
   "metadata": {},
   "outputs": [
    {
     "name": "stdout",
     "output_type": "stream",
     "text": [
      "Saturazione stazione 1:  29.630015432098794 %\n",
      "Saturazione stazione 2:  26.422337962963017 %\n",
      "Saturazione miscelatore 1:  4.26547067901236 %\n",
      "Saturazione miscelatore 2:  7.536149691358078 %\n"
     ]
    }
   ],
   "source": [
    "print('Saturazione stazione 1: ', tot_staz_1 / tot_min * 100, '%')\n",
    "print('Saturazione stazione 2: ', tot_staz_2 / tot_min * 100, '%')\n",
    "print('Saturazione miscelatore 1: ', tot_misc_1 / tot_min * 100, '%')\n",
    "print('Saturazione miscelatore 2: ', tot_misc_2 / tot_min * 100, '%')"
   ]
  },
  {
   "cell_type": "code",
   "execution_count": 36,
   "id": "349aabe0",
   "metadata": {},
   "outputs": [],
   "source": [
    "coni_h = len(df_pes[df_pes['rif'] == 'V_da_pes/pesatura']) / tot_h\n",
    "coni_day = int(coni_h * 24)"
   ]
  },
  {
   "cell_type": "code",
   "execution_count": 41,
   "id": "8001af87-2249-4389-92d8-c0e4ae820ef3",
   "metadata": {},
   "outputs": [
    {
     "data": {
      "text/plain": [
       "2486"
      ]
     },
     "execution_count": 41,
     "metadata": {},
     "output_type": "execute_result"
    }
   ],
   "source": [
    "len(df_pes[df_pes['rif'] == 'V_da_pes/pesatura'])"
   ]
  },
  {
   "cell_type": "code",
   "execution_count": 43,
   "id": "854ad17c-1b18-4002-af13-eca6c50088d2",
   "metadata": {},
   "outputs": [
    {
     "data": {
      "text/plain": [
       "720.0"
      ]
     },
     "execution_count": 43,
     "metadata": {},
     "output_type": "execute_result"
    }
   ],
   "source": [
    "96*7.5"
   ]
  },
  {
   "cell_type": "code",
   "execution_count": 37,
   "id": "9b73fca2",
   "metadata": {},
   "outputs": [
    {
     "name": "stdout",
     "output_type": "stream",
     "text": [
      "Coni dosati per ora:  3.452777777777778\n",
      "Coni dosati per giorno:  82\n"
     ]
    }
   ],
   "source": [
    "print('Coni dosati per ora: ', coni_h)\n",
    "print('Coni dosati per giorno: ', coni_day)"
   ]
  },
  {
   "cell_type": "markdown",
   "id": "a8e850e4",
   "metadata": {},
   "source": [
    "### Calcolo tempi di interarrivo"
   ]
  },
  {
   "cell_type": "code",
   "execution_count": 26,
   "id": "20877d1e",
   "metadata": {},
   "outputs": [],
   "source": [
    "df_int = df_pes[df_pes['rif'] == 'V_da_pes/pesatura']"
   ]
  },
  {
   "cell_type": "code",
   "execution_count": 27,
   "id": "4defbca2",
   "metadata": {},
   "outputs": [
    {
     "name": "stderr",
     "output_type": "stream",
     "text": [
      "C:\\Users\\HP\\AppData\\Local\\Temp\\ipykernel_6640\\2492631638.py:1: SettingWithCopyWarning: \n",
      "A value is trying to be set on a copy of a slice from a DataFrame\n",
      "\n",
      "See the caveats in the documentation: https://pandas.pydata.org/pandas-docs/stable/user_guide/indexing.html#returning-a-view-versus-a-copy\n",
      "  df_int.sort_values('timestamp', inplace=True)\n"
     ]
    }
   ],
   "source": [
    "df_int.sort_values('timestamp', inplace=True)\n",
    "df_int.reset_index(drop=True, inplace=True)"
   ]
  },
  {
   "cell_type": "code",
   "execution_count": 28,
   "id": "4a2dc672",
   "metadata": {},
   "outputs": [],
   "source": [
    "intervals = []\n",
    "\n",
    "for i in range(len(df_int) - 1):\n",
    "    time_delta = df_int.loc[i + 1, 'timestamp'] - df_int.loc[i, 'timestamp']\n",
    "    dt = time_delta.total_seconds() / 60\n",
    "    intervals.append(dt)"
   ]
  },
  {
   "cell_type": "code",
   "execution_count": 29,
   "id": "de5c02e7",
   "metadata": {},
   "outputs": [
    {
     "data": {
      "text/plain": [
       "3.2356770833333335"
      ]
     },
     "execution_count": 29,
     "metadata": {},
     "output_type": "execute_result"
    }
   ],
   "source": [
    "len(intervals) / tot_h"
   ]
  },
  {
   "cell_type": "code",
   "execution_count": 30,
   "id": "06bc80cb",
   "metadata": {},
   "outputs": [],
   "source": [
    "from fitter import Fitter, get_common_distributions, get_distributions\n",
    "from matplotlib import pyplot as plt\n",
    "%matplotlib inline\n",
    "import seaborn as sns\n",
    "sns.set()\n",
    "def quantile2(column,pct,pct_lower):\n",
    "    y = column\n",
    "    y.sort()\n",
    "    len_y = len(y)\n",
    "    y = y[int(pct_lower * len_y):int(len_y * pct)]\n",
    "    return y"
   ]
  },
  {
   "cell_type": "code",
   "execution_count": 31,
   "id": "553e7121",
   "metadata": {},
   "outputs": [],
   "source": [
    "intervals = quantile2(intervals,0.999,0)"
   ]
  },
  {
   "cell_type": "code",
   "execution_count": 32,
   "id": "56515849",
   "metadata": {},
   "outputs": [
    {
     "data": {
      "text/plain": [
       "<seaborn.axisgrid.FacetGrid at 0x1b135b4d7f0>"
      ]
     },
     "execution_count": 32,
     "metadata": {},
     "output_type": "execute_result"
    },
    {
     "data": {
      "image/png": "[encoded data removed]",
      "text/plain": [
       "<Figure size 540x360 with 1 Axes>"
      ]
     },
     "metadata": {},
     "output_type": "display_data"
    }
   ],
   "source": [
    "sns.set_style('white')\n",
    "sns.set_context(\"paper\", font_scale = 2)\n",
    "sns.displot(data=intervals, kind=\"hist\", bins = 50, aspect = 1.5)"
   ]
  },
  {
   "cell_type": "code",
   "execution_count": 33,
   "id": "b8cc3ba4",
   "metadata": {},
   "outputs": [
    {
     "name": "stderr",
     "output_type": "stream",
     "text": [
      "WARNING:root:SKIPPED kstwo distribution (taking more than 30 seconds)\n",
      "WARNING:root:SKIPPED kappa4 distribution (taking more than 30 seconds)\n",
      "WARNING:root:SKIPPED ksone distribution (taking more than 30 seconds)\n",
      "WARNING:root:SKIPPED levy_stable distribution (taking more than 30 seconds)\n",
      "WARNING:root:SKIPPED loglaplace distribution (taking more than 30 seconds)\n",
      "WARNING:root:SKIPPED lognorm distribution (taking more than 30 seconds)\n",
      "\n",
      "KeyboardInterrupt\n",
      "\n"
     ]
    }
   ],
   "source": [
    "#  extract best fitting distribution\n",
    "f = Fitter(intervals)\n",
    "f.fit()\n",
    "f.summary()"
   ]
  },
  {
   "cell_type": "code",
   "execution_count": null,
   "id": "dbffeb47",
   "metadata": {},
   "outputs": [],
   "source": [
    "f.get_best(method = 'sumsquare_error')"
   ]
  },
  {
   "cell_type": "code",
   "execution_count": null,
   "id": "ff57bb94",
   "metadata": {},
   "outputs": [],
   "source": []
  }
 ],
 "metadata": {
  "kernelspec": {
   "display_name": "Python 3 (ipykernel)",
   "language": "python",
   "name": "python3"
  },
  "language_info": {
   "codemirror_mode": {
    "name": "ipython",
    "version": 3
   },
   "file_extension": ".py",
   "mimetype": "text/x-python",
   "name": "python",
   "nbconvert_exporter": "python",
   "pygments_lexer": "ipython3",
   "version": "3.9.12"
  }
 },
 "nbformat": 4,
 "nbformat_minor": 5
}
