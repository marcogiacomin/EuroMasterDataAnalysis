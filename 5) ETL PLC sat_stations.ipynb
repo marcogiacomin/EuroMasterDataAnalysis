{
 "cells": [
  {
   "cell_type": "code",
   "execution_count": 2,
   "id": "9e740321",
   "metadata": {},
   "outputs": [],
   "source": [
    "import pandas as pd\n",
    "import numpy as np\n",
    "from datetime import datetime, date\n",
    "import holidays"
   ]
  },
  {
   "cell_type": "markdown",
   "id": "eea0cba7",
   "metadata": {},
   "source": [
    "### Importazione dataframe"
   ]
  },
  {
   "cell_type": "code",
   "execution_count": 3,
   "id": "cba165d4-55f6-4581-a9c3-ee03bcaa68f1",
   "metadata": {},
   "outputs": [],
   "source": [
    "df1 = pd.read_csv('C:/Users/HP/Desktop/PLC_gualchierani/monitorconi_23mar_to_29mar.csv')\n",
    "df2 = pd.read_csv('C:/Users/HP/Desktop/PLC_gualchierani/monitorconi_30mar_to_4apr.csv')\n",
    "df3 = pd.read_csv('C:/Users/HP/Desktop/PLC_gualchierani/monitorconi_5apr_to_11apr.csv')\n",
    "df4 = pd.read_csv('C:/Users/HP/Desktop/PLC_gualchierani/monitorconi_12apr_to_18apr.csv')\n",
    "df5 = pd.read_csv('C:/Users/HP/Desktop/PLC_gualchierani/monitorconi_19apr_to_25apr.csv')\n",
    "df6 = pd.read_csv('C:/Users/HP/Desktop/PLC_gualchierani/monitorconi_26apr_to_2mag.csv')\n",
    "df7 = pd.read_csv('C:/Users/HP/Desktop/PLC_gualchierani/monitorconi_3mag_to_9mag.csv')"
   ]
  },
  {
   "cell_type": "code",
   "execution_count": 4,
   "id": "65cdae04-1477-4eee-a211-5979fc744574",
   "metadata": {},
   "outputs": [],
   "source": [
    "df1[\"measured_at\"] = pd.to_datetime( df1[\"measured_at\"] )\n",
    "df2[\"measured_at\"] = pd.to_datetime( df2[\"measured_at\"] )\n",
    "df3[\"measured_at\"] = pd.to_datetime( df3[\"measured_at\"] )\n",
    "df4[\"measured_at\"] = pd.to_datetime( df4[\"measured_at\"] )\n",
    "df5[\"measured_at\"] = pd.to_datetime( df5[\"measured_at\"] )\n",
    "df6[\"measured_at\"] = pd.to_datetime( df6[\"measured_at\"] )\n",
    "df7[\"measured_at\"] = pd.to_datetime( df7[\"measured_at\"] )"
   ]
  },
  {
   "cell_type": "code",
   "execution_count": 5,
   "id": "4ccbdd0e",
   "metadata": {},
   "outputs": [],
   "source": [
    "# da mezzanotte del 23/03 alle 23.59 del 29/03\n",
    "mask_30mar = np.asarray( df1[ df1['measured_at'].dt.day == 30].index )\n",
    "df1.drop( mask_30mar, inplace = True )\n",
    "\n",
    "# da mezzanotte del 30/03 alle 23.59 del 4/04\n",
    "mask_29mar = np.asarray( df2[ df2['measured_at'].dt.day == 29].index )\n",
    "df2.drop( mask_29mar, inplace = True )\n",
    "\n",
    "mask_5apr = np.asarray( df2[ df2['measured_at'].dt.day == 5].index )\n",
    "df2.drop( mask_5apr, inplace = True )\n",
    "\n",
    "# da mezzanotte del 5/04 alle 23.59 del 11/04\n",
    "mask_4apr = np.asarray( df3[ df3['measured_at'].dt.day == 4].index )\n",
    "df3.drop( mask_4apr, inplace = True )\n",
    "\n",
    "mask_12apr = np.asarray( df3[ df3['measured_at'].dt.day == 12].index )\n",
    "df3.drop( mask_12apr, inplace = True )\n",
    "\n",
    "# da mezzanotte del 12/04 alle 23.59 del 18/04\n",
    "mask_11apr = np.asarray( df4[ df4['measured_at'].dt.day == 11].index )\n",
    "df4.drop( mask_11apr, inplace = True )\n",
    "\n",
    "mask_19apr = np.asarray( df4[ df4['measured_at'].dt.day == 19].index )\n",
    "df4.drop( mask_19apr, inplace = True )\n",
    "\n",
    "# da mezzanotte del 19/04 alle 23.59 del 25/04\n",
    "mask_18apr = np.asarray( df5[ df5['measured_at'].dt.day == 18].index )\n",
    "df5.drop( mask_18apr, inplace = True )\n",
    "\n",
    "mask_26apr = np.asarray( df5[ df5['measured_at'].dt.day == 26].index )\n",
    "df5.drop( mask_26apr, inplace = True )\n",
    "\n",
    "# da mezzanotte del 26/04 alle 23.59 del 2/05\n",
    "mask_25apr = np.asarray( df6[ df6['measured_at'].dt.day == 25].index )\n",
    "df6.drop( mask_4apr, inplace = True )\n",
    "\n",
    "mask_3mag = np.asarray( df6[ df6['measured_at'].dt.day == 3].index )\n",
    "df6.drop( mask_12apr, inplace = True )\n",
    "\n",
    "mask_2mag = np.asarray( df7[ df7['measured_at'].dt.day == 2].index )\n",
    "df7.drop( mask_2mag, inplace = True )\n",
    "\n",
    "mask_10mag = np.asarray( df7[ df7['measured_at'].dt.day == 10].index )\n",
    "df7.drop( mask_10mag, inplace = True )\n",
    "\n",
    "# unisco i dataframe\n",
    "df = pd.concat([df1, df2, df3, df4, df5, df6, df7])"
   ]
  },
  {
   "cell_type": "code",
   "execution_count": 6,
   "id": "c7d49b5f",
   "metadata": {},
   "outputs": [],
   "source": [
    "df.drop(['id', 'tipologia_lavorazione', 'cicli_da_eseguire',\n",
    "        'cicli_eseguiti', 'tempo_miscelazione_eseguito',\n",
    "        'stato_tramoggia', 'tara_cono', 'lotto',\n",
    "        'created_at', 'updated_at','estrusore_destinazione', 'tempo_miscelazione_richiesto',\n",
    "        'destinazione_ritorno'], axis=1, inplace=True)"
   ]
  },
  {
   "cell_type": "code",
   "execution_count": null,
   "id": "b26cae0f",
   "metadata": {},
   "outputs": [],
   "source": [
    "mask_no_cono = np.asarray( df[ df['id_cono'] > 24 ].index )\n",
    "df.drop( mask_no_cono, inplace = True )"
   ]
  },
  {
   "cell_type": "code",
   "execution_count": null,
   "id": "ec5554e2-2219-4afa-8445-2a3727f8bfca",
   "metadata": {},
   "outputs": [],
   "source": [
    "df.dropna(inplace=True)"
   ]
  },
  {
   "cell_type": "code",
   "execution_count": null,
   "id": "b472ba85",
   "metadata": {},
   "outputs": [],
   "source": [
    "df.info()"
   ]
  },
  {
   "cell_type": "markdown",
   "id": "a5d17607-561d-4d7a-8634-a8b45208b7f8",
   "metadata": {},
   "source": [
    "### Calcolo ore lavorative"
   ]
  },
  {
   "cell_type": "code",
   "execution_count": null,
   "id": "5ec51a5d-c07d-4045-8c44-01aa548248ac",
   "metadata": {},
   "outputs": [],
   "source": [
    "dates = np.asarray(df['measured_at'].dt.date.unique())\n",
    "it_holidays = holidays.Italy()\n",
    "shift = 0 "
   ]
  },
  {
   "cell_type": "code",
   "execution_count": null,
   "id": "b2466800-5483-4b02-ab8e-be427caac9fb",
   "metadata": {},
   "outputs": [],
   "source": [
    "for date in dates:\n",
    "    if it_holidays.get(date) is None:\n",
    "        if date.weekday() < 5:\n",
    "            shift += 3\n",
    "        elif date.weekday() == 5:\n",
    "            shift += 2\n",
    "        else:\n",
    "            pass\n",
    "    else:\n",
    "        print(it_holidays.get(date))"
   ]
  },
  {
   "cell_type": "code",
   "execution_count": null,
   "id": "0bb0decf-29c1-4228-8e4f-8150c7705436",
   "metadata": {},
   "outputs": [],
   "source": [
    "shift"
   ]
  },
  {
   "cell_type": "markdown",
   "id": "72424dd3",
   "metadata": {},
   "source": [
    "### Preparazione dati di supporto"
   ]
  },
  {
   "cell_type": "code",
   "execution_count": null,
   "id": "ec17a63a",
   "metadata": {},
   "outputs": [],
   "source": [
    "buffer = [n for n in range(21, 29)]\n",
    "buffer.extend([n for n in range(31, 39)])\n",
    "\n",
    "legenda_gualchierani = {\n",
    "    'fuori_impianto': [0],\n",
    "    'ing_zona_misc': [1],\n",
    "    'catenaria_ing_misc': [45, 46],\n",
    "    'navetta_serv_misc': [43],\n",
    "    'pesatura': [41, 42],\n",
    "    'miscelatore': [2, 8],\n",
    "    'cat_usc_pieni': [3],\n",
    "    'nav_serv_carr_pieni': [4],\n",
    "    'nav_serv_carr_vuoti': [5],\n",
    "    'buffer': buffer,\n",
    "    'carroponte_1': [6],\n",
    "    'carroponte_2': [7],\n",
    "    'estrusore': [n for n in range(11, 19)],\n",
    "    'handling_post_est': [6, 5, 4],\n",
    "    'catenaria_vuoti': [47, 48],\n",
    "    'catenaria_uscita_vuoti': [49],\n",
    "    'pinza_vuoti': [50],\n",
    "    'catenaria_parcheggi': [n for n in range(51, 58)],\n",
    "    'nav_serv_parcheggi': [44],\n",
    "    'manuale': [68, 70]\n",
    "}\n",
    "\n",
    "dict_states = {\n",
    "    'Not_def': 0,\n",
    "    'V_per_park': 1,\n",
    "    'P_da_misc': 2,\n",
    "    'P_da_est': 3,\n",
    "    'P_remove': 4,\n",
    "    'P_recheck': 5,\n",
    "    'P_per_park': 6,\n",
    "    'V_da_pes': 7,\n",
    "    'V_remove': 8,\n",
    "    'V_lavaggio': 9\n",
    "}\n",
    "\n",
    "starter = ['V_da_pes/nav_serv_carr_pieni', 'V_da_pes/nav_serv_carr_vuoti',\n",
    "'V_da_pes/catenaria_vuoti', 'V_da_pes/catenaria_parcheggi',\n",
    "'V_da_pes/nav_serv_parcheggi', 'V_da_pes/catenaria_ing_misc',\n",
    "'V_da_pes/ing_zona_misc']\n",
    "\n",
    "finisher = ['P_da_est/estrusore', 'Not_def/fuori_impianto']\n",
    "\n",
    "finisher2 = ['V_per_park/estrusore', 'V_da_pes/estrusore', 'Not_def/fuori_impianto']"
   ]
  },
  {
   "cell_type": "markdown",
   "id": "10ea9585",
   "metadata": {},
   "source": [
    "### Preparazione funzioni"
   ]
  },
  {
   "cell_type": "code",
   "execution_count": null,
   "id": "0019bb31-a60a-4291-ba83-7acc6559aac0",
   "metadata": {},
   "outputs": [],
   "source": [
    "df.reset_index(drop=True, inplace=True)"
   ]
  },
  {
   "cell_type": "code",
   "execution_count": null,
   "id": "a452272b-fb30-4167-8e5b-0f31881b465d",
   "metadata": {},
   "outputs": [],
   "source": [
    "def naming_values(df, legenda_gualchierani, dict_states):\n",
    "    for idx in df.index:\n",
    "        for key in legenda_gualchierani:\n",
    "            if df.loc[idx, 'ubicazione'] in legenda_gualchierani[key]:\n",
    "                df.loc[idx, 'ubicazione'] = key\n",
    "                break\n",
    "        for key in dict_states:\n",
    "            if df.loc[idx, 'stato'] == dict_states[key]:\n",
    "                df.loc[idx, 'stato'] = key\n",
    "                break\n",
    "    return(df)"
   ]
  },
  {
   "cell_type": "code",
   "execution_count": null,
   "id": "86518298-7bf3-4bba-b384-1684ae6d30d8",
   "metadata": {},
   "outputs": [],
   "source": [
    "df = naming_values(df, legenda_gualchierani, dict_states)"
   ]
  },
  {
   "cell_type": "code",
   "execution_count": null,
   "id": "6035eb10-6d0c-4048-972d-0c4d8cf06866",
   "metadata": {},
   "outputs": [],
   "source": [
    "#  crea il dataframe che sarà input alla funzione di individuazione della tracce\n",
    "def create_rif(df):\n",
    "    df['ID'] = 0\n",
    "    df['CRC'] = 0\n",
    "    df['rif'] = (df.stato.astype('str') + '/' + df.ubicazione.astype('str'))\n",
    "    return(df)"
   ]
  },
  {
   "cell_type": "code",
   "execution_count": null,
   "id": "70c4f75e-0a2b-44f1-bfcd-5cf90601cc56",
   "metadata": {},
   "outputs": [],
   "source": [
    "df = create_rif(df)"
   ]
  },
  {
   "cell_type": "code",
   "execution_count": null,
   "id": "478cd5a2-faca-44e0-b208-821eead1a241",
   "metadata": {},
   "outputs": [],
   "source": [
    "df.info()"
   ]
  },
  {
   "cell_type": "code",
   "execution_count": null,
   "id": "34a851d7-1c36-4aa9-ad39-a0dee8df20f5",
   "metadata": {},
   "outputs": [],
   "source": [
    "#  questa funzione individua delle potenziali tracce di processo\n",
    "#  prende in input una lista di possibili punti di inizio ed una di possibili punti di fine\n",
    "\n",
    "def delete_duplicates(df, cono_in_esame):\n",
    "    cono = []\n",
    "    rif = []\n",
    "    stazione = []\n",
    "    miscelatore = []\n",
    "    timestamp = []\n",
    "    df_c = df[df['id_cono'] == cono_in_esame].copy()\n",
    "    df_c.reset_index(inplace=True, drop=True)\n",
    "    for idx in range(len(df_c.index) - 1):\n",
    "        if idx == 0 or idx == len(df_c):\n",
    "            cono.append(cono_in_esame)\n",
    "            rif.append(df_c.loc[idx, 'rif'])\n",
    "            stazione.append(df_c.loc[idx, 'postazione_pesatura_destinazione'])\n",
    "            miscelatore.append(df_c.loc[idx, 'miscelatore_destinazione'])\n",
    "            timestamp.append(df_c.loc[idx, 'measured_at'])\n",
    "        elif (df_c.loc[idx, 'rif'] != df_c.loc[idx - 1, 'rif']\n",
    "            and df_c.loc[idx, 'rif'] == df_c.loc[idx + 1, 'rif']):\n",
    "            cono.append(cono_in_esame)\n",
    "            rif.append(df_c.loc[idx, 'rif'])\n",
    "            stazione.append(df_c.loc[idx, 'postazione_pesatura_destinazione'])\n",
    "            miscelatore.append(df_c.loc[idx, 'miscelatore_destinazione'])\n",
    "            timestamp.append(df_c.loc[idx, 'measured_at'])\n",
    "        else:\n",
    "            pass\n",
    "    \n",
    "    df_c = pd.DataFrame(list(zip(cono, rif, stazione, miscelatore, timestamp)),\n",
    "                        columns =['cono', 'rif', 'stazione', 'miscelatore', 'timestamp'])\n",
    "    df_c.sort_values('timestamp', inplace=True)\n",
    "    return(df_c)"
   ]
  },
  {
   "cell_type": "code",
   "execution_count": null,
   "id": "69e248d1-5fc4-4d88-a82b-9d41550ddd33",
   "metadata": {},
   "outputs": [],
   "source": [
    "for cono in range(1, 25):\n",
    "    print(cono)\n",
    "    if cono == 1:\n",
    "        df_clean = delete_duplicates(df, cono)\n",
    "    else:\n",
    "        df_clean = pd.concat([df_clean, delete_duplicates(df, cono)])"
   ]
  },
  {
   "cell_type": "code",
   "execution_count": null,
   "id": "4f3f9562-a4c4-4d19-8eb2-b2c30cd82c78",
   "metadata": {},
   "outputs": [],
   "source": [
    "df_clean"
   ]
  },
  {
   "cell_type": "code",
   "execution_count": null,
   "id": "cea0c9b3",
   "metadata": {},
   "outputs": [],
   "source": [
    "df_pes = df_clean.reset_index(drop=True)\n",
    "df_pes['ID'] = None\n",
    "df_pes['ubicazione'] = None\n",
    "idu = 0\n",
    "for i in df_pes.index:\n",
    "    if (df_pes.loc[i, 'rif'] == 'V_da_pes/pesatura' and df_pes.loc[i + 1, 'rif'] == 'P_da_misc/pesatura'):\n",
    "        df_pes.loc[i, 'ID'] = idu\n",
    "        df_pes.loc[i + 1, 'ID'] = idu\n",
    "        df_pes.loc[i, 'ubicazione'] = 'pesatura'\n",
    "        df_pes.loc[i + 1, 'ubicazione'] = 'pesatura'\n",
    "        idu += 1\n",
    "        continue\n",
    "    if (df_pes.loc[i, 'rif'] == 'P_da_misc/miscelatore' and df_pes.loc[i + 1, 'rif'] == 'P_da_est/miscelatore'):\n",
    "        df_pes.loc[i, 'ID'] = idu\n",
    "        df_pes.loc[i + 1, 'ID'] = idu\n",
    "        df_pes.loc[i, 'ubicazione'] = 'miscelatore'\n",
    "        df_pes.loc[i + 1, 'ubicazione'] = 'miscelatore'\n",
    "        idu += 1\n",
    "        continue\n",
    "        "
   ]
  },
  {
   "cell_type": "code",
   "execution_count": null,
   "id": "b4bfc6ec-30b3-4d8f-82b9-a1010a46de1c",
   "metadata": {},
   "outputs": [],
   "source": [
    "df_pes.dropna(inplace=True)\n",
    "df_pes"
   ]
  },
  {
   "cell_type": "code",
   "execution_count": 62,
   "id": "e7cfc9de",
   "metadata": {},
   "outputs": [],
   "source": [
    "staz_1 = []\n",
    "staz_2 = []\n",
    "misc_1 = []\n",
    "misc_2 = []\n",
    "\n",
    "for i in df_pes['ID'].unique():\n",
    "    df_tmp = df_pes[ df_pes['ID'] == i ]\n",
    "    df_tmp.reset_index(inplace=True, drop=True)\n",
    "    dt = df_tmp.loc[1, 'timestamp'] - df_tmp.loc[0, 'timestamp']\n",
    "    \n",
    "    if df_tmp.loc[0, 'ubicazione'] == 'pesatura':\n",
    "        if df_tmp.loc[0, 'stazione'] == 1:\n",
    "            staz_1.append(dt)\n",
    "        else:\n",
    "            staz_2.append(dt)\n",
    "    elif df_tmp.loc[0, 'ubicazione'] == 'miscelatore':\n",
    "        if df_tmp.loc[0, 'miscelatore'] == 1:\n",
    "            misc_1.append(dt)\n",
    "        else:\n",
    "            misc_2.append(dt)"
   ]
  },
  {
   "cell_type": "code",
   "execution_count": null,
   "id": "c005dddf-d65b-4506-94ef-4ed0930d96b3",
   "metadata": {},
   "outputs": [],
   "source": [
    "staz_1.sort()\n",
    "staz_2.sort()\n",
    "misc_1.sort()\n",
    "misc_2.sort()\n",
    "\n",
    "del misc_2[0]"
   ]
  },
  {
   "cell_type": "code",
   "execution_count": 63,
   "id": "526cdc3b",
   "metadata": {},
   "outputs": [
    {
     "name": "stdout",
     "output_type": "stream",
     "text": [
      "Tempo medio di dosatura stazione 1:  0 days 00:10:35.890163934\n",
      "Tempo medio di dosatura stazione 2:  0 days 00:08:29.797457627\n",
      "Tempo medio di miscelatore 1:  0 days 00:02:42.962962962\n",
      "Tempo medio di miscelatore 2:  0 days 00:02:43.352941176\n"
     ]
    }
   ],
   "source": [
    "print('Tempo medio di dosatura stazione 1: ', np.mean(staz_1))\n",
    "print('Tempo medio di dosatura stazione 2: ', np.mean(staz_2))\n",
    "print('Tempo medio di miscelatore 1: ', np.mean(misc_1))\n",
    "print('Tempo medio di miscelatore 2: ', np.mean(misc_2))"
   ]
  },
  {
   "cell_type": "code",
   "execution_count": 64,
   "id": "b2e9c0a8",
   "metadata": {},
   "outputs": [],
   "source": [
    "tot_staz_1 = sum([x.total_seconds() / 60 for x in staz_1])\n",
    "tot_staz_2 = sum([x.total_seconds() / 60 for x in staz_2])\n",
    "tot_misc_1 = sum([x.total_seconds() / 60 for x in misc_1])\n",
    "tot_misc_2 = sum([x.total_seconds() / 60 for x in misc_2])\n",
    "\n",
    "tot_staz = tot_staz_1 + tot_staz_2\n",
    "tot_misc = tot_misc_1 + tot_misc_2"
   ]
  },
  {
   "cell_type": "code",
   "execution_count": 65,
   "id": "c90d25a3",
   "metadata": {},
   "outputs": [
    {
     "name": "stdout",
     "output_type": "stream",
     "text": [
      "Saturazione stazione 1 su tot stazioni:  39.202732011796506 %\n",
      "Saturazione stazione 2 su tot stazioni:  60.797267988203494 %\n",
      "Saturazione miscelatore 1 su tot miscelatori:  38.79215340533399 %\n",
      "Saturazione miscelatore 2 su tot miscelatori:  61.207846594666 %\n"
     ]
    }
   ],
   "source": [
    "print('Saturazione stazione 1 su tot stazioni: ', tot_staz_1 / tot_staz * 100, '%')\n",
    "print('Saturazione stazione 2 su tot stazioni: ', tot_staz_2 / tot_staz * 100, '%')\n",
    "print('Saturazione miscelatore 1 su tot miscelatori: ', tot_misc_1 / tot_misc * 100, '%')\n",
    "print('Saturazione miscelatore 2 su tot miscelatori: ', tot_misc_2 / tot_misc * 100, '%')"
   ]
  },
  {
   "cell_type": "code",
   "execution_count": 66,
   "id": "dca94334",
   "metadata": {},
   "outputs": [],
   "source": [
    "tot_h = shift * 7.5\n",
    "tot_min = tot_h * 60"
   ]
  },
  {
   "cell_type": "code",
   "execution_count": 67,
   "id": "c68dbc2f",
   "metadata": {},
   "outputs": [
    {
     "name": "stdout",
     "output_type": "stream",
     "text": [
      "Saturazione stazione 1:  13.060370370370359 %\n",
      "Saturazione stazione 2:  20.254579124579017 %\n",
      "Saturazione miscelatore 1:  2.962962962962949 %\n",
      "Saturazione miscelatore 2:  4.675084175084139 %\n"
     ]
    }
   ],
   "source": [
    "print('Saturazione stazione 1: ', tot_staz_1 / tot_min * 100, '%')\n",
    "print('Saturazione stazione 2: ', tot_staz_2 / tot_min * 100, '%')\n",
    "print('Saturazione miscelatore 1: ', tot_misc_1 / tot_min * 100, '%')\n",
    "print('Saturazione miscelatore 2: ', tot_misc_2 / tot_min * 100, '%')"
   ]
  },
  {
   "cell_type": "code",
   "execution_count": 68,
   "id": "349aabe0",
   "metadata": {},
   "outputs": [],
   "source": [
    "coni_h = len(df_pes[df_pes['rif'] == 'V_da_pes/pesatura']) / tot_h\n",
    "coni_day = int(coni_h * 24)"
   ]
  },
  {
   "cell_type": "code",
   "execution_count": 69,
   "id": "8001af87-2249-4389-92d8-c0e4ae820ef3",
   "metadata": {},
   "outputs": [
    {
     "data": {
      "text/plain": [
       "1790"
      ]
     },
     "execution_count": 69,
     "metadata": {},
     "output_type": "execute_result"
    }
   ],
   "source": [
    "len(df_pes[df_pes['rif'] == 'V_da_pes/pesatura'])"
   ]
  },
  {
   "cell_type": "code",
   "execution_count": 70,
   "id": "854ad17c-1b18-4002-af13-eca6c50088d2",
   "metadata": {},
   "outputs": [
    {
     "data": {
      "text/plain": [
       "720.0"
      ]
     },
     "execution_count": 70,
     "metadata": {},
     "output_type": "execute_result"
    }
   ],
   "source": [
    "96*7.5"
   ]
  },
  {
   "cell_type": "code",
   "execution_count": 71,
   "id": "9b73fca2",
   "metadata": {},
   "outputs": [
    {
     "name": "stdout",
     "output_type": "stream",
     "text": [
      "Coni dosati per ora:  2.16969696969697\n",
      "Coni dosati per giorno:  52\n"
     ]
    }
   ],
   "source": [
    "print('Coni dosati per ora: ', coni_h)\n",
    "print('Coni dosati per giorno: ', coni_day)"
   ]
  },
  {
   "cell_type": "markdown",
   "id": "a8e850e4",
   "metadata": {},
   "source": [
    "### Calcolo tempi di interarrivo"
   ]
  },
  {
   "cell_type": "code",
   "execution_count": 26,
   "id": "20877d1e",
   "metadata": {},
   "outputs": [],
   "source": [
    "df_int = df_pes[df_pes['rif'] == 'V_da_pes/pesatura']"
   ]
  },
  {
   "cell_type": "code",
   "execution_count": 27,
   "id": "4defbca2",
   "metadata": {},
   "outputs": [
    {
     "name": "stderr",
     "output_type": "stream",
     "text": [
      "C:\\Users\\HP\\AppData\\Local\\Temp\\ipykernel_6640\\2492631638.py:1: SettingWithCopyWarning: \n",
      "A value is trying to be set on a copy of a slice from a DataFrame\n",
      "\n",
      "See the caveats in the documentation: https://pandas.pydata.org/pandas-docs/stable/user_guide/indexing.html#returning-a-view-versus-a-copy\n",
      "  df_int.sort_values('timestamp', inplace=True)\n"
     ]
    }
   ],
   "source": [
    "df_int.sort_values('timestamp', inplace=True)\n",
    "df_int.reset_index(drop=True, inplace=True)"
   ]
  },
  {
   "cell_type": "code",
   "execution_count": 28,
   "id": "4a2dc672",
   "metadata": {},
   "outputs": [],
   "source": [
    "intervals = []\n",
    "\n",
    "for i in range(len(df_int) - 1):\n",
    "    time_delta = df_int.loc[i + 1, 'timestamp'] - df_int.loc[i, 'timestamp']\n",
    "    dt = time_delta.total_seconds() / 60\n",
    "    intervals.append(dt)"
   ]
  },
  {
   "cell_type": "code",
   "execution_count": 29,
   "id": "de5c02e7",
   "metadata": {},
   "outputs": [
    {
     "data": {
      "text/plain": [
       "3.2356770833333335"
      ]
     },
     "execution_count": 29,
     "metadata": {},
     "output_type": "execute_result"
    }
   ],
   "source": [
    "len(intervals) / tot_h"
   ]
  },
  {
   "cell_type": "code",
   "execution_count": 30,
   "id": "06bc80cb",
   "metadata": {},
   "outputs": [],
   "source": [
    "from fitter import Fitter, get_common_distributions, get_distributions\n",
    "from matplotlib import pyplot as plt\n",
    "%matplotlib inline\n",
    "import seaborn as sns\n",
    "sns.set()\n",
    "def quantile2(column,pct,pct_lower):\n",
    "    y = column\n",
    "    y.sort()\n",
    "    len_y = len(y)\n",
    "    y = y[int(pct_lower * len_y):int(len_y * pct)]\n",
    "    return y"
   ]
  },
  {
   "cell_type": "code",
   "execution_count": 31,
   "id": "553e7121",
   "metadata": {},
   "outputs": [],
   "source": [
    "intervals = quantile2(intervals,0.999,0)"
   ]
  },
  {
   "cell_type": "code",
   "execution_count": 32,
   "id": "56515849",
   "metadata": {},
   "outputs": [
    {
     "data": {
      "text/plain": [
       "<seaborn.axisgrid.FacetGrid at 0x1b135b4d7f0>"
      ]
     },
     "execution_count": 32,
     "metadata": {},
     "output_type": "execute_result"
    },
    {
     "data": {
      "image/png": "[encoded data removed]",
      "text/plain": [
       "<Figure size 540x360 with 1 Axes>"
      ]
     },
     "metadata": {},
     "output_type": "display_data"
    }
   ],
   "source": [
    "sns.set_style('white')\n",
    "sns.set_context(\"paper\", font_scale = 2)\n",
    "sns.displot(data=intervals, kind=\"hist\", bins = 50, aspect = 1.5)"
   ]
  },
  {
   "cell_type": "code",
   "execution_count": 33,
   "id": "b8cc3ba4",
   "metadata": {},
   "outputs": [
    {
     "name": "stderr",
     "output_type": "stream",
     "text": [
      "WARNING:root:SKIPPED kstwo distribution (taking more than 30 seconds)\n",
      "WARNING:root:SKIPPED kappa4 distribution (taking more than 30 seconds)\n",
      "WARNING:root:SKIPPED ksone distribution (taking more than 30 seconds)\n",
      "WARNING:root:SKIPPED levy_stable distribution (taking more than 30 seconds)\n",
      "WARNING:root:SKIPPED loglaplace distribution (taking more than 30 seconds)\n",
      "WARNING:root:SKIPPED lognorm distribution (taking more than 30 seconds)\n",
      "\n",
      "KeyboardInterrupt\n",
      "\n"
     ]
    }
   ],
   "source": [
    "#  extract best fitting distribution\n",
    "f = Fitter(intervals)\n",
    "f.fit()\n",
    "f.summary()"
   ]
  },
  {
   "cell_type": "code",
   "execution_count": null,
   "id": "dbffeb47",
   "metadata": {},
   "outputs": [],
   "source": [
    "f.get_best(method = 'sumsquare_error')"
   ]
  },
  {
   "cell_type": "code",
   "execution_count": null,
   "id": "ff57bb94",
   "metadata": {},
   "outputs": [],
   "source": []
  }
 ],
 "metadata": {
  "kernelspec": {
   "display_name": "Python 3 (ipykernel)",
   "language": "python",
   "name": "python3"
  },
  "language_info": {
   "codemirror_mode": {
    "name": "ipython",
    "version": 3
   },
   "file_extension": ".py",
   "mimetype": "text/x-python",
   "name": "python",
   "nbconvert_exporter": "python",
   "pygments_lexer": "ipython3",
   "version": "3.9.12"
  }
 },
 "nbformat": 4,
 "nbformat_minor": 5
}
