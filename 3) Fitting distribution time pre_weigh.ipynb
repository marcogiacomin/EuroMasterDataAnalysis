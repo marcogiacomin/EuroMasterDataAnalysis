{
 "cells": [
  {
   "cell_type": "code",
   "execution_count": 1,
   "id": "5d528554",
   "metadata": {},
   "outputs": [],
   "source": [
    "import pandas as pd\n",
    "import numpy as np\n",
    "import pm4py\n",
    "from matplotlib import pyplot as plt\n",
    "from fitter import Fitter\n",
    "import scipy.stats\n",
    "import warnings\n",
    "warnings.filterwarnings('ignore')\n",
    "%matplotlib inline\n",
    "import seaborn as sns\n",
    "sns.set()"
   ]
  },
  {
   "cell_type": "code",
   "execution_count": 2,
   "id": "34dc0d46",
   "metadata": {},
   "outputs": [],
   "source": [
    "def filtering(event_log, ubicazione):\n",
    "    mask = event_log['ubicazione'] == ubicazione\n",
    "    get_ID = event_log[mask]['ID_unique'].unique()\n",
    "    mask_id = event_log['ID_unique'].isin(get_ID)\n",
    "    new_log = event_log[mask_id]\n",
    "    return(new_log)"
   ]
  },
  {
   "cell_type": "markdown",
   "id": "6d59796d",
   "metadata": {},
   "source": [
    "### Importazione dataset"
   ]
  },
  {
   "cell_type": "code",
   "execution_count": 3,
   "id": "f0d0fbad",
   "metadata": {},
   "outputs": [],
   "source": [
    "df_traces = pd.read_csv('C:/Users/HP/Desktop/df_traces_end_pes.csv')\n",
    "df_traces.drop('Unnamed: 0', axis=1, inplace=True)"
   ]
  },
  {
   "cell_type": "code",
   "execution_count": 4,
   "id": "37e7439e",
   "metadata": {},
   "outputs": [],
   "source": [
    "event_log = df_traces[['ID', 'stato', 'ubicazione', 'rif', 'ID_unique', 'timestamp']]\n",
    "event_log.sort_values(['ID', 'timestamp'], inplace=True)\n",
    "event_log.reset_index(inplace=True, drop=True)"
   ]
  },
  {
   "cell_type": "code",
   "execution_count": 5,
   "id": "5ce3417d",
   "metadata": {},
   "outputs": [
    {
     "data": {
      "text/plain": [
       "1219"
      ]
     },
     "execution_count": 5,
     "metadata": {},
     "output_type": "execute_result"
    }
   ],
   "source": [
    "len(event_log['ID_unique'].unique())"
   ]
  },
  {
   "cell_type": "markdown",
   "id": "11047ab3",
   "metadata": {},
   "source": [
    "### Pre processing"
   ]
  },
  {
   "cell_type": "code",
   "execution_count": 6,
   "id": "6eaf2aea",
   "metadata": {},
   "outputs": [
    {
     "name": "stdout",
     "output_type": "stream",
     "text": [
      "Start activities: {'V_da_pes/ing_zona_misc': 222, 'V_da_pes/nav_serv_parcheggi': 219, 'V_da_pes/nav_serv_carr_vuoti': 151, 'V_da_pes/catenaria_ing_misc': 119, 'V_da_pes/estrusore': 102, 'V_da_pes/miscelatore': 99, 'V_da_pes/nav_serv_carr_pieni': 61, 'V_da_pes/catenaria_vuoti': 52, 'V_da_pes/catenaria_parcheggi': 52, 'V_da_pes/pesatura': 49, 'V_da_pes/carroponte_1': 42, 'V_da_pes/navetta_serv_misc': 22, 'V_da_pes/pinza_vuoti': 13, 'V_remove/catenaria_ing_misc': 3, 'V_per_park/estrusore': 2, 'V_da_pes/buffer': 1, 'P_da_est/manuale': 1, 'P_da_misc/ing_zona_misc': 1, 'P_da_est/nav_serv_parcheggi': 1, 'P_da_misc/miscelatore': 1, 'P_da_misc/navetta_serv_misc': 1, 'V_da_pes/carroponte_2': 1}\n",
      "End activities: {'V_da_pes/pesatura': 1202, 'V_per_park/catenaria_parcheggi': 7, 'Not_def/fuori_impianto': 5, 'V_da_pes/nav_serv_carr_vuoti': 1}\n"
     ]
    }
   ],
   "source": [
    "event_log = df_traces[['ID', 'stato', 'ubicazione', 'rif', 'ID_unique', 'timestamp']]\n",
    "event_log.sort_values(['ID', 'timestamp'], inplace=True)\n",
    "event_log.reset_index(inplace=True, drop=True)\n",
    "\n",
    "#  select only traces with classic extrusor\n",
    "#  event_log = filtering(event_log, 'estrusore')\n",
    "\n",
    "'''#  remove traces with 'parking' as activity\n",
    "for string in ['V_per_park', 'P_per_park']:\n",
    "    mask_park = np.asarray(event_log[ event_log['stato'] == string].index)\n",
    "    ID_park = event_log.loc[mask_park]['ID_unique'].values\n",
    "    mask_drop_park = np.asarray( event_log[ event_log['ID_unique'].isin(ID_park)].index )\n",
    "    event_log.drop( mask_drop_park, inplace = True )'''\n",
    "\n",
    "#  remove traces with 'recheck' as activity\n",
    "mask_recheck = np.asarray( event_log[ event_log['stato'] == 'P_recheck' ].index )\n",
    "ID_recheck = event_log.loc[mask_recheck]['ID_unique'].values\n",
    "mask_drop_recheck = np.asarray( event_log[ event_log['ID_unique'].isin(ID_recheck)].index )\n",
    "event_log.drop( mask_drop_recheck, inplace = True )\n",
    "\n",
    "#  #  format event log and visualize start/end activities\n",
    "event_log = pm4py.format_dataframe(event_log, case_id='ID_unique', activity_key='rif', timestamp_key='timestamp')\n",
    "start_activities = pm4py.get_start_activities(event_log)\n",
    "end_activities = pm4py.get_end_activities(event_log)\n",
    "print(\"Start activities: {}\\nEnd activities: {}\".format(start_activities, end_activities))"
   ]
  },
  {
   "cell_type": "code",
   "execution_count": 7,
   "id": "3166dbed",
   "metadata": {},
   "outputs": [
    {
     "data": {
      "text/plain": [
       "{'V_da_pes/pesatura': 1202}"
      ]
     },
     "execution_count": 7,
     "metadata": {},
     "output_type": "execute_result"
    }
   ],
   "source": [
    "#  filtering event log by end activiy\n",
    "from pm4py.algo.filtering.pandas.end_activities import end_activities_filter\n",
    "event_log = end_activities_filter.apply(event_log, ['V_da_pes/pesatura'],\n",
    "                                          parameters={end_activities_filter.Parameters.CASE_ID_KEY: \"case:concept:name\",\n",
    "                                                      end_activities_filter.Parameters.ACTIVITY_KEY: \"concept:name\"})\n",
    "pm4py.get_end_activities(event_log)"
   ]
  },
  {
   "cell_type": "code",
   "execution_count": 8,
   "id": "3a602b57",
   "metadata": {},
   "outputs": [
    {
     "data": {
      "text/plain": [
       "{'V_da_pes/ing_zona_misc': 221,\n",
       " 'V_da_pes/nav_serv_parcheggi': 219,\n",
       " 'V_da_pes/nav_serv_carr_vuoti': 150,\n",
       " 'V_da_pes/estrusore': 102,\n",
       " 'V_da_pes/miscelatore': 99}"
      ]
     },
     "execution_count": 8,
     "metadata": {},
     "output_type": "execute_result"
    }
   ],
   "source": [
    "#  filtering event log by start activiy\n",
    "from pm4py.algo.filtering.pandas.start_activities import start_activities_filter\n",
    "event_log = start_activities_filter.apply(event_log, ['V_da_pes/nav_serv_parcheggi',\n",
    "                                                      'V_da_pes/ing_zona_misc',\n",
    "                                                      'V_da_pes/nav_serv_carr_vuoti',\n",
    "                                                      'V_da_pes/estrusore',\n",
    "                                                      'V_da_pes/miscelatore'],\n",
    "                                          parameters={start_activities_filter.Parameters.CASE_ID_KEY: \"case:concept:name\",\n",
    "                                                      start_activities_filter.Parameters.ACTIVITY_KEY: \"concept:name\"})\n",
    "pm4py.get_start_activities(event_log)"
   ]
  },
  {
   "cell_type": "code",
   "execution_count": 9,
   "id": "9a6d7277",
   "metadata": {},
   "outputs": [
    {
     "data": {
      "text/plain": [
       "82"
      ]
     },
     "execution_count": 9,
     "metadata": {},
     "output_type": "execute_result"
    }
   ],
   "source": [
    "#  evaluate number of variants\n",
    "from pm4py.statistics.traces.generic.pandas import case_statistics\n",
    "variants_count = case_statistics.get_variant_statistics(event_log,\n",
    "                                          parameters={case_statistics.Parameters.CASE_ID_KEY: \"case:concept:name\",\n",
    "                                                      case_statistics.Parameters.ACTIVITY_KEY: \"concept:name\",\n",
    "                                                      case_statistics.Parameters.TIMESTAMP_KEY: \"time:timestamp\"})\n",
    "variants_count = sorted(variants_count, key=lambda x: x['case:concept:name'], reverse=True)\n",
    "len(variants_count)"
   ]
  },
  {
   "cell_type": "code",
   "execution_count": 10,
   "id": "5686692d",
   "metadata": {},
   "outputs": [
    {
     "data": {
      "text/plain": [
       "[{'variant': 'V_da_pes/ing_zona_misc,V_da_pes/miscelatore,V_da_pes/navetta_serv_misc,V_da_pes/pesatura',\n",
       "  'case:concept:name': 151},\n",
       " {'variant': 'V_da_pes/nav_serv_parcheggi,V_da_pes/catenaria_ing_misc,V_da_pes/navetta_serv_misc,V_da_pes/pesatura',\n",
       "  'case:concept:name': 120},\n",
       " {'variant': 'V_da_pes/miscelatore,V_da_pes/navetta_serv_misc,V_da_pes/pesatura',\n",
       "  'case:concept:name': 81},\n",
       " {'variant': 'V_da_pes/ing_zona_misc,V_da_pes/navetta_serv_misc,V_da_pes/pesatura',\n",
       "  'case:concept:name': 53},\n",
       " {'variant': 'V_da_pes/nav_serv_parcheggi,V_da_pes/catenaria_ing_misc,V_da_pes/pesatura',\n",
       "  'case:concept:name': 34},\n",
       " {'variant': 'V_da_pes/nav_serv_parcheggi,V_da_pes/catenaria_ing_misc,V_da_pes/catenaria_ing_misc,V_da_pes/navetta_serv_misc,V_da_pes/pesatura',\n",
       "  'case:concept:name': 29},\n",
       " {'variant': 'V_da_pes/nav_serv_carr_vuoti,V_da_pes/nav_serv_carr_pieni,V_da_pes/catenaria_vuoti,V_da_pes/nav_serv_parcheggi,V_da_pes/catenaria_ing_misc,V_da_pes/navetta_serv_misc,V_da_pes/pesatura',\n",
       "  'case:concept:name': 29},\n",
       " {'variant': 'V_da_pes/nav_serv_carr_vuoti,V_da_pes/nav_serv_carr_pieni,V_da_pes/catenaria_vuoti,V_da_pes/catenaria_parcheggi,V_da_pes/nav_serv_parcheggi,V_da_pes/catenaria_ing_misc,V_da_pes/navetta_serv_misc,V_da_pes/pesatura',\n",
       "  'case:concept:name': 23},\n",
       " {'variant': 'V_da_pes/nav_serv_parcheggi,V_da_pes/catenaria_ing_misc,V_da_pes/catenaria_ing_misc,V_da_pes/pesatura',\n",
       "  'case:concept:name': 20},\n",
       " {'variant': 'V_da_pes/nav_serv_carr_vuoti,V_da_pes/nav_serv_carr_pieni,V_da_pes/catenaria_vuoti,V_da_pes/catenaria_parcheggi,V_da_pes/nav_serv_parcheggi,V_da_pes/catenaria_ing_misc,V_da_pes/pesatura',\n",
       "  'case:concept:name': 17},\n",
       " {'variant': 'V_da_pes/miscelatore,V_da_pes/pesatura',\n",
       "  'case:concept:name': 15},\n",
       " {'variant': 'V_da_pes/estrusore,V_da_pes/carroponte_1,V_da_pes/nav_serv_carr_vuoti,V_da_pes/nav_serv_carr_pieni,V_da_pes/catenaria_vuoti,V_da_pes/catenaria_parcheggi,V_da_pes/nav_serv_parcheggi,V_da_pes/catenaria_ing_misc,V_da_pes/navetta_serv_misc,V_da_pes/pesatura',\n",
       "  'case:concept:name': 14},\n",
       " {'variant': 'V_da_pes/nav_serv_carr_vuoti,V_da_pes/nav_serv_carr_pieni,V_da_pes/pinza_vuoti,V_da_pes/catenaria_parcheggi,V_da_pes/nav_serv_parcheggi,V_da_pes/catenaria_ing_misc,V_da_pes/navetta_serv_misc,V_da_pes/pesatura',\n",
       "  'case:concept:name': 13},\n",
       " {'variant': 'V_da_pes/estrusore,V_da_pes/carroponte_1,V_da_pes/nav_serv_carr_vuoti,V_da_pes/nav_serv_carr_pieni,V_da_pes/catenaria_vuoti,V_da_pes/nav_serv_parcheggi,V_da_pes/catenaria_ing_misc,V_da_pes/navetta_serv_misc,V_da_pes/pesatura',\n",
       "  'case:concept:name': 13},\n",
       " {'variant': 'V_da_pes/estrusore,V_da_pes/carroponte_1,V_da_pes/nav_serv_carr_vuoti,V_da_pes/nav_serv_carr_pieni,V_da_pes/catenaria_vuoti,V_da_pes/catenaria_parcheggi,V_da_pes/nav_serv_parcheggi,V_da_pes/catenaria_ing_misc,V_da_pes/pesatura',\n",
       "  'case:concept:name': 12},\n",
       " {'variant': 'V_da_pes/nav_serv_carr_vuoti,V_da_pes/nav_serv_carr_pieni,V_da_pes/catenaria_vuoti,V_da_pes/catenaria_parcheggi,V_da_pes/catenaria_ing_misc,V_da_pes/navetta_serv_misc,V_da_pes/pesatura',\n",
       "  'case:concept:name': 11},\n",
       " {'variant': 'V_da_pes/ing_zona_misc,V_da_pes/miscelatore,V_da_pes/pesatura',\n",
       "  'case:concept:name': 8},\n",
       " {'variant': 'V_da_pes/estrusore,V_da_pes/carroponte_1,V_da_pes/nav_serv_carr_vuoti,V_da_pes/nav_serv_carr_pieni,V_da_pes/pinza_vuoti,V_da_pes/catenaria_parcheggi,V_da_pes/nav_serv_parcheggi,V_da_pes/catenaria_ing_misc,V_da_pes/navetta_serv_misc,V_da_pes/pesatura',\n",
       "  'case:concept:name': 8},\n",
       " {'variant': 'V_da_pes/nav_serv_carr_vuoti,V_da_pes/nav_serv_carr_pieni,V_da_pes/pinza_vuoti,V_da_pes/catenaria_vuoti,V_da_pes/nav_serv_parcheggi,V_da_pes/catenaria_ing_misc,V_da_pes/navetta_serv_misc,V_da_pes/pesatura',\n",
       "  'case:concept:name': 7},\n",
       " {'variant': 'V_da_pes/nav_serv_carr_vuoti,V_da_pes/nav_serv_carr_pieni,V_da_pes/catenaria_vuoti,V_da_pes/nav_serv_parcheggi,V_da_pes/catenaria_ing_misc,V_da_pes/catenaria_ing_misc,V_da_pes/navetta_serv_misc,V_da_pes/pesatura',\n",
       "  'case:concept:name': 7},\n",
       " {'variant': 'V_da_pes/estrusore,V_da_pes/carroponte_1,V_da_pes/nav_serv_carr_vuoti,V_da_pes/nav_serv_carr_pieni,V_da_pes/catenaria_vuoti,V_da_pes/nav_serv_parcheggi,V_da_pes/catenaria_ing_misc,V_da_pes/catenaria_ing_misc,V_da_pes/navetta_serv_misc,V_da_pes/pesatura',\n",
       "  'case:concept:name': 7},\n",
       " {'variant': 'V_da_pes/estrusore,V_da_pes/carroponte_1,V_da_pes/nav_serv_carr_vuoti,V_da_pes/nav_serv_carr_pieni,V_da_pes/catenaria_vuoti,V_da_pes/catenaria_parcheggi,V_da_pes/catenaria_ing_misc,V_da_pes/navetta_serv_misc,V_da_pes/pesatura',\n",
       "  'case:concept:name': 7},\n",
       " {'variant': 'V_da_pes/nav_serv_parcheggi,V_da_pes/pesatura',\n",
       "  'case:concept:name': 6},\n",
       " {'variant': 'V_da_pes/nav_serv_carr_vuoti,V_da_pes/nav_serv_carr_pieni,V_da_pes/catenaria_vuoti,V_da_pes/catenaria_parcheggi,V_da_pes/catenaria_ing_misc,V_da_pes/catenaria_ing_misc,V_da_pes/navetta_serv_misc,V_da_pes/pesatura',\n",
       "  'case:concept:name': 6},\n",
       " {'variant': 'V_da_pes/ing_zona_misc,V_da_pes/pesatura',\n",
       "  'case:concept:name': 6},\n",
       " {'variant': 'V_da_pes/estrusore,V_da_pes/carroponte_1,V_da_pes/nav_serv_carr_vuoti,V_da_pes/nav_serv_carr_pieni,V_da_pes/catenaria_vuoti,V_da_pes/catenaria_parcheggi,V_da_pes/catenaria_ing_misc,V_da_pes/catenaria_ing_misc,V_da_pes/navetta_serv_misc,V_da_pes/pesatura',\n",
       "  'case:concept:name': 6},\n",
       " {'variant': 'V_da_pes/nav_serv_parcheggi,V_da_pes/navetta_serv_misc,V_da_pes/pesatura',\n",
       "  'case:concept:name': 5},\n",
       " {'variant': 'V_da_pes/nav_serv_carr_vuoti,V_da_pes/pesatura',\n",
       "  'case:concept:name': 5},\n",
       " {'variant': 'V_da_pes/nav_serv_carr_vuoti,V_da_pes/nav_serv_carr_pieni,V_da_pes/catenaria_vuoti,V_da_pes/catenaria_parcheggi,V_da_pes/catenaria_ing_misc,V_da_pes/catenaria_ing_misc,V_da_pes/pesatura',\n",
       "  'case:concept:name': 5},\n",
       " {'variant': 'V_da_pes/estrusore,V_da_pes/carroponte_1,V_da_pes/nav_serv_carr_vuoti,V_da_pes/nav_serv_carr_pieni,V_da_pes/catenaria_vuoti,V_da_pes/nav_serv_parcheggi,V_da_pes/catenaria_ing_misc,V_da_pes/catenaria_ing_misc,V_da_pes/pesatura',\n",
       "  'case:concept:name': 4},\n",
       " {'variant': 'V_da_pes/estrusore,V_da_pes/carroponte_1,V_da_pes/nav_serv_carr_vuoti,V_da_pes/nav_serv_carr_pieni,V_da_pes/catenaria_vuoti,V_da_pes/catenaria_parcheggi,V_da_pes/nav_serv_parcheggi,V_da_pes/navetta_serv_misc,V_da_pes/pesatura',\n",
       "  'case:concept:name': 4},\n",
       " {'variant': 'V_da_pes/nav_serv_carr_vuoti,V_da_pes/nav_serv_carr_pieni,V_da_pes/catenaria_vuoti,V_da_pes/nav_serv_parcheggi,V_da_pes/catenaria_ing_misc,V_da_pes/catenaria_ing_misc,V_da_pes/pesatura',\n",
       "  'case:concept:name': 3},\n",
       " {'variant': 'V_da_pes/nav_serv_carr_vuoti,V_da_pes/nav_serv_carr_pieni,V_da_pes/catenaria_vuoti,V_da_pes/catenaria_parcheggi,V_da_pes/nav_serv_parcheggi,V_da_pes/navetta_serv_misc,V_da_pes/pesatura',\n",
       "  'case:concept:name': 3},\n",
       " {'variant': 'V_da_pes/estrusore,V_da_pes/carroponte_2,V_da_pes/manuale,Not_def/fuori_impianto,V_da_pes/ing_zona_misc,V_da_pes/miscelatore,V_da_pes/navetta_serv_misc,V_da_pes/pesatura',\n",
       "  'case:concept:name': 3},\n",
       " {'variant': 'V_da_pes/estrusore,V_da_pes/carroponte_1,V_da_pes/nav_serv_carr_vuoti,V_da_pes/nav_serv_carr_pieni,V_da_pes/pinza_vuoti,V_da_pes/catenaria_vuoti,V_da_pes/nav_serv_parcheggi,V_da_pes/catenaria_ing_misc,V_da_pes/navetta_serv_misc,V_da_pes/pesatura',\n",
       "  'case:concept:name': 3},\n",
       " {'variant': 'V_da_pes/estrusore,V_da_pes/carroponte_1,V_da_pes/nav_serv_carr_vuoti,V_da_pes/nav_serv_carr_pieni,V_da_pes/catenaria_vuoti,V_da_pes/catenaria_parcheggi,V_da_pes/catenaria_ing_misc,V_da_pes/catenaria_ing_misc,V_da_pes/pesatura',\n",
       "  'case:concept:name': 3},\n",
       " {'variant': 'V_da_pes/nav_serv_carr_vuoti,V_da_pes/nav_serv_carr_pieni,V_da_pes/pinza_vuoti,V_da_pes/catenaria_vuoti,V_da_pes/nav_serv_parcheggi,V_da_pes/navetta_serv_misc,V_da_pes/pesatura',\n",
       "  'case:concept:name': 2},\n",
       " {'variant': 'V_da_pes/nav_serv_carr_vuoti,V_da_pes/nav_serv_carr_pieni,V_da_pes/catenaria_vuoti,V_da_pes/nav_serv_parcheggi,V_da_pes/navetta_serv_misc,V_da_pes/pesatura',\n",
       "  'case:concept:name': 2},\n",
       " {'variant': 'V_da_pes/nav_serv_carr_vuoti,V_da_pes/nav_serv_carr_pieni,V_da_pes/catenaria_vuoti,V_da_pes/catenaria_parcheggi,V_da_pes/nav_serv_parcheggi,V_da_pes/catenaria_ing_misc,V_da_pes/catenaria_ing_misc,V_da_pes/navetta_serv_misc,V_da_pes/pesatura',\n",
       "  'case:concept:name': 2},\n",
       " {'variant': 'V_da_pes/estrusore,V_da_pes/carroponte_1,V_da_pes/nav_serv_carr_vuoti,V_da_pes/nav_serv_carr_pieni,V_da_pes/pinza_vuoti,V_da_pes/catenaria_vuoti,V_da_pes/nav_serv_parcheggi,V_da_pes/catenaria_ing_misc,V_da_pes/pesatura',\n",
       "  'case:concept:name': 2},\n",
       " {'variant': 'V_da_pes/nav_serv_parcheggi,V_da_pes/catenaria_ing_misc,V_da_pes/navetta_serv_misc,P_da_est/pesatura,P_da_est/navetta_serv_misc,P_da_est/cat_usc_pieni,P_da_est/nav_serv_carr_vuoti,P_da_est/nav_serv_carr_pieni,P_da_est/carroponte_1,P_da_est/estrusore,V_da_pes/estrusore,V_da_pes/carroponte_1,V_da_pes/nav_serv_carr_vuoti,V_da_pes/nav_serv_carr_pieni,V_da_pes/pinza_vuoti,V_da_pes/catenaria_parcheggi,V_da_pes/nav_serv_parcheggi,V_da_pes/catenaria_ing_misc,V_per_park/navetta_serv_misc,V_per_park/cat_usc_pieni,V_per_park/nav_serv_carr_pieni,V_per_park/catenaria_vuoti,V_per_park/catenaria_parcheggi,V_per_park/nav_serv_parcheggi,V_per_park/catenaria_parcheggi,V_da_pes/nav_serv_parcheggi,V_da_pes/catenaria_ing_misc,V_da_pes/pesatura',\n",
       "  'case:concept:name': 1},\n",
       " {'variant': 'V_da_pes/nav_serv_parcheggi,V_da_pes/catenaria_ing_misc,V_da_pes/catenaria_ing_misc,V_da_pes/navetta_serv_misc,V_remove/pesatura,P_da_misc/navetta_serv_misc,P_da_misc/miscelatore,P_da_est/navetta_serv_misc,P_da_est/nav_serv_carr_vuoti,P_da_est/nav_serv_carr_pieni,P_da_est/carroponte_1,P_da_est/estrusore,V_per_park/estrusore,V_per_park/carroponte_1,V_per_park/nav_serv_carr_vuoti,V_per_park/nav_serv_carr_pieni,V_per_park/catenaria_vuoti,V_per_park/nav_serv_parcheggi,V_per_park/catenaria_parcheggi,V_da_pes/nav_serv_parcheggi,V_da_pes/catenaria_ing_misc,V_da_pes/navetta_serv_misc,V_da_pes/pesatura',\n",
       "  'case:concept:name': 1},\n",
       " {'variant': 'V_da_pes/nav_serv_parcheggi,V_da_pes/catenaria_ing_misc,V_da_pes/catenaria_ing_misc,P_da_misc/navetta_serv_misc,P_da_misc/miscelatore,P_da_est/navetta_serv_misc,P_da_est/cat_usc_pieni,P_da_est/nav_serv_carr_pieni,P_da_est/carroponte_1,P_da_est/buffer,P_da_est/carroponte_2,P_da_est/estrusore,V_per_park/estrusore,V_per_park/carroponte_1,V_da_pes/nav_serv_carr_vuoti,V_da_pes/nav_serv_carr_pieni,V_da_pes/pinza_vuoti,V_da_pes/catenaria_vuoti,V_da_pes/nav_serv_parcheggi,V_da_pes/catenaria_ing_misc,V_per_park/cat_usc_pieni,V_per_park/nav_serv_carr_vuoti,V_per_park/nav_serv_carr_pieni,V_per_park/catenaria_vuoti,V_per_park/nav_serv_parcheggi,V_per_park/catenaria_parcheggi,V_da_pes/catenaria_ing_misc,V_da_pes/catenaria_ing_misc,V_da_pes/pesatura',\n",
       "  'case:concept:name': 1},\n",
       " {'variant': 'V_da_pes/nav_serv_parcheggi,V_da_pes/catenaria_ing_misc,P_da_misc/pesatura,P_da_misc/miscelatore,P_da_est/buffer,P_da_est/carroponte_2,P_da_est/estrusore,V_da_pes/estrusore,V_da_pes/carroponte_1,V_da_pes/nav_serv_carr_vuoti,V_da_pes/nav_serv_carr_pieni,V_da_pes/pinza_vuoti,V_da_pes/catenaria_vuoti,V_da_pes/nav_serv_parcheggi,V_da_pes/catenaria_ing_misc,V_da_pes/navetta_serv_misc,V_da_pes/pesatura',\n",
       "  'case:concept:name': 1},\n",
       " {'variant': 'V_da_pes/nav_serv_parcheggi,P_da_misc/pesatura,P_da_est/navetta_serv_misc,P_da_est/buffer,P_da_est/carroponte_2,P_da_est/estrusore,P_da_est/estrusore,V_per_park/catenaria_vuoti,V_da_pes/catenaria_ing_misc,V_da_pes/catenaria_ing_misc,V_da_pes/pesatura',\n",
       "  'case:concept:name': 1},\n",
       " {'variant': 'V_da_pes/nav_serv_carr_vuoti,V_da_pes/nav_serv_carr_pieni,V_da_pes/pinza_vuoti,V_da_pes/catenaria_vuoti,V_da_pes/nav_serv_parcheggi,V_da_pes/catenaria_ing_misc,V_da_pes/pesatura',\n",
       "  'case:concept:name': 1},\n",
       " {'variant': 'V_da_pes/nav_serv_carr_vuoti,V_da_pes/nav_serv_carr_pieni,V_da_pes/pinza_vuoti,V_da_pes/catenaria_vuoti,V_da_pes/nav_serv_parcheggi,V_da_pes/catenaria_ing_misc,V_da_pes/catenaria_ing_misc,V_da_pes/pesatura',\n",
       "  'case:concept:name': 1},\n",
       " {'variant': 'V_da_pes/nav_serv_carr_vuoti,V_da_pes/nav_serv_carr_pieni,V_da_pes/pinza_vuoti,V_da_pes/catenaria_vuoti,V_da_pes/catenaria_parcheggi,V_da_pes/catenaria_ing_misc,V_da_pes/catenaria_ing_misc,V_da_pes/pesatura',\n",
       "  'case:concept:name': 1},\n",
       " {'variant': 'V_da_pes/nav_serv_carr_vuoti,V_da_pes/nav_serv_carr_pieni,V_da_pes/pinza_vuoti,V_da_pes/catenaria_parcheggi,V_da_pes/nav_serv_parcheggi,V_da_pes/catenaria_ing_misc,V_da_pes/pesatura',\n",
       "  'case:concept:name': 1},\n",
       " {'variant': 'V_da_pes/nav_serv_carr_vuoti,V_da_pes/nav_serv_carr_pieni,V_da_pes/pinza_vuoti,V_da_pes/catenaria_parcheggi,V_da_pes/nav_serv_parcheggi,V_da_pes/catenaria_ing_misc,P_da_est/catenaria_ing_misc,P_da_est/navetta_serv_misc,P_da_est/cat_usc_pieni,P_da_est/nav_serv_carr_pieni,P_da_est/carroponte_1,P_da_est/estrusore,V_per_park/estrusore,V_per_park/carroponte_1,V_da_pes/nav_serv_carr_vuoti,V_da_pes/nav_serv_carr_pieni,V_da_pes/catenaria_vuoti,V_da_pes/catenaria_parcheggi,V_da_pes/nav_serv_parcheggi,V_da_pes/catenaria_ing_misc,V_da_pes/pesatura',\n",
       "  'case:concept:name': 1},\n",
       " {'variant': 'V_da_pes/nav_serv_carr_vuoti,V_da_pes/nav_serv_carr_pieni,V_da_pes/nav_serv_parcheggi,V_da_pes/catenaria_ing_misc,V_da_pes/catenaria_ing_misc,V_da_pes/navetta_serv_misc,V_da_pes/pesatura',\n",
       "  'case:concept:name': 1},\n",
       " {'variant': 'V_da_pes/nav_serv_carr_vuoti,V_da_pes/nav_serv_carr_pieni,V_da_pes/catenaria_vuoti,V_per_park/catenaria_parcheggi,V_per_park/catenaria_parcheggi,P_da_est/nav_serv_parcheggi,P_da_est/navetta_serv_misc,P_da_est/cat_usc_pieni,P_da_est/nav_serv_carr_vuoti,P_da_est/nav_serv_carr_pieni,P_da_est/carroponte_1,P_da_est/estrusore,V_per_park/estrusore,V_per_park/carroponte_1,V_per_park/nav_serv_carr_vuoti,V_per_park/nav_serv_carr_pieni,V_per_park/catenaria_vuoti,V_per_park/catenaria_parcheggi,V_da_pes/catenaria_ing_misc,V_da_pes/navetta_serv_misc,V_da_pes/pesatura',\n",
       "  'case:concept:name': 1},\n",
       " {'variant': 'V_da_pes/nav_serv_carr_vuoti,V_da_pes/nav_serv_carr_pieni,V_da_pes/catenaria_vuoti,V_da_pes/nav_serv_parcheggi,V_da_pes/catenaria_ing_misc,V_da_pes/pesatura',\n",
       "  'case:concept:name': 1},\n",
       " {'variant': 'V_da_pes/nav_serv_carr_vuoti,V_da_pes/nav_serv_carr_pieni,V_da_pes/catenaria_vuoti,V_da_pes/catenaria_vuoti,V_da_pes/catenaria_parcheggi,V_da_pes/nav_serv_parcheggi,V_da_pes/catenaria_ing_misc,V_da_pes/catenaria_ing_misc,V_da_pes/navetta_serv_misc,V_da_pes/pesatura',\n",
       "  'case:concept:name': 1},\n",
       " {'variant': 'V_da_pes/nav_serv_carr_vuoti,V_da_pes/nav_serv_carr_pieni,V_da_pes/catenaria_vuoti,V_da_pes/catenaria_parcheggi,V_da_pes/catenaria_ing_misc,V_per_park/navetta_serv_misc,V_per_park/cat_usc_pieni,V_da_pes/nav_serv_carr_pieni,V_da_pes/catenaria_vuoti,V_da_pes/catenaria_parcheggi,V_da_pes/catenaria_ing_misc,V_da_pes/catenaria_ing_misc,V_da_pes/navetta_serv_misc,V_da_pes/pesatura',\n",
       "  'case:concept:name': 1},\n",
       " {'variant': 'V_da_pes/nav_serv_carr_vuoti,V_da_pes/nav_serv_carr_pieni,V_da_pes/catenaria_vuoti,V_da_pes/catenaria_parcheggi,V_da_pes/catenaria_ing_misc,V_da_pes/pesatura',\n",
       "  'case:concept:name': 1},\n",
       " {'variant': 'V_da_pes/nav_serv_carr_vuoti,V_da_pes/nav_serv_carr_pieni,V_da_pes/catenaria_parcheggi,V_da_pes/nav_serv_parcheggi,V_da_pes/catenaria_ing_misc,V_da_pes/navetta_serv_misc,V_da_pes/pesatura',\n",
       "  'case:concept:name': 1},\n",
       " {'variant': 'V_da_pes/nav_serv_carr_vuoti,V_da_pes/nav_serv_carr_pieni,V_da_pes/catenaria_parcheggi,V_da_pes/catenaria_ing_misc,V_da_pes/navetta_serv_misc,V_da_pes/pesatura',\n",
       "  'case:concept:name': 1},\n",
       " {'variant': 'V_da_pes/nav_serv_carr_vuoti,V_da_pes/catenaria_ing_misc,V_da_pes/pesatura',\n",
       "  'case:concept:name': 1},\n",
       " {'variant': 'V_da_pes/nav_serv_carr_vuoti,P_da_misc/miscelatore,P_da_est/nav_serv_carr_pieni,P_da_est/buffer,P_da_est/estrusore,P_da_est/estrusore,V_per_park/nav_serv_carr_pieni,V_da_pes/catenaria_ing_misc,V_da_pes/pesatura',\n",
       "  'case:concept:name': 1},\n",
       " {'variant': 'V_da_pes/miscelatore,V_da_pes/navetta_serv_misc,P_remove/pesatura,P_remove/navetta_serv_misc,P_remove/miscelatore,Not_def/fuori_impianto,V_da_pes/ing_zona_misc,V_da_pes/navetta_serv_misc,V_da_pes/pesatura',\n",
       "  'case:concept:name': 1},\n",
       " {'variant': 'V_da_pes/miscelatore,Not_def/fuori_impianto,V_da_pes/miscelatore,V_da_pes/navetta_serv_misc,V_da_pes/pesatura',\n",
       "  'case:concept:name': 1},\n",
       " {'variant': 'V_da_pes/miscelatore,Not_def/fuori_impianto,V_da_pes/ing_zona_misc,V_da_pes/navetta_serv_misc,V_da_pes/pesatura',\n",
       "  'case:concept:name': 1},\n",
       " {'variant': 'V_da_pes/ing_zona_misc,V_da_pes/miscelatore,V_da_pes/navetta_serv_misc,V_per_park/cat_usc_pieni,V_per_park/nav_serv_carr_pieni,V_per_park/catenaria_vuoti,V_per_park/catenaria_parcheggi,V_da_pes/catenaria_ing_misc,V_da_pes/catenaria_ing_misc,V_da_pes/navetta_serv_misc,V_da_pes/pesatura',\n",
       "  'case:concept:name': 1},\n",
       " {'variant': 'V_da_pes/ing_zona_misc,V_da_pes/miscelatore,Not_def/fuori_impianto,V_da_pes/ing_zona_misc,V_da_pes/miscelatore,V_da_pes/navetta_serv_misc,V_da_pes/pesatura',\n",
       "  'case:concept:name': 1},\n",
       " {'variant': 'V_da_pes/ing_zona_misc,Not_def/fuori_impianto,V_da_pes/ing_zona_misc,V_da_pes/miscelatore,V_da_pes/pesatura',\n",
       "  'case:concept:name': 1},\n",
       " {'variant': 'V_da_pes/estrusore,V_da_pes/catenaria_ing_misc,V_da_pes/pesatura',\n",
       "  'case:concept:name': 1},\n",
       " {'variant': 'V_da_pes/estrusore,V_da_pes/carroponte_1,V_da_pes/nav_serv_carr_vuoti,V_da_pes/nav_serv_carr_pieni,V_da_pes/pinza_vuoti,V_da_pes/catenaria_vuoti,V_da_pes/nav_serv_parcheggi,V_da_pes/catenaria_ing_misc,V_da_pes/catenaria_ing_misc,V_da_pes/navetta_serv_misc,V_da_pes/pesatura',\n",
       "  'case:concept:name': 1},\n",
       " {'variant': 'V_da_pes/estrusore,V_da_pes/carroponte_1,V_da_pes/nav_serv_carr_vuoti,V_da_pes/nav_serv_carr_pieni,V_da_pes/pinza_vuoti,V_da_pes/catenaria_vuoti,V_da_pes/catenaria_parcheggi,V_da_pes/nav_serv_parcheggi,V_da_pes/catenaria_ing_misc,V_da_pes/pesatura',\n",
       "  'case:concept:name': 1},\n",
       " {'variant': 'V_da_pes/estrusore,V_da_pes/carroponte_1,V_da_pes/nav_serv_carr_vuoti,V_da_pes/nav_serv_carr_pieni,V_da_pes/pinza_vuoti,V_da_pes/catenaria_parcheggi,V_da_pes/nav_serv_parcheggi,V_da_pes/catenaria_ing_misc,V_da_pes/catenaria_ing_misc,V_da_pes/navetta_serv_misc,V_da_pes/pesatura',\n",
       "  'case:concept:name': 1},\n",
       " {'variant': 'V_da_pes/estrusore,V_da_pes/carroponte_1,V_da_pes/nav_serv_carr_vuoti,V_da_pes/nav_serv_carr_pieni,V_da_pes/catenaria_vuoti,V_da_pes/nav_serv_parcheggi,V_da_pes/navetta_serv_misc,V_da_pes/pesatura',\n",
       "  'case:concept:name': 1},\n",
       " {'variant': 'V_da_pes/estrusore,V_da_pes/carroponte_1,V_da_pes/nav_serv_carr_vuoti,V_da_pes/nav_serv_carr_pieni,V_da_pes/catenaria_vuoti,V_da_pes/nav_serv_parcheggi,V_da_pes/catenaria_ing_misc,V_da_pes/pesatura',\n",
       "  'case:concept:name': 1},\n",
       " {'variant': 'V_da_pes/estrusore,V_da_pes/carroponte_1,V_da_pes/nav_serv_carr_vuoti,V_da_pes/nav_serv_carr_pieni,V_da_pes/catenaria_vuoti,V_da_pes/catenaria_vuoti,V_da_pes/catenaria_parcheggi,V_da_pes/nav_serv_parcheggi,V_da_pes/catenaria_ing_misc,V_da_pes/pesatura',\n",
       "  'case:concept:name': 1},\n",
       " {'variant': 'V_da_pes/estrusore,V_da_pes/carroponte_1,V_da_pes/nav_serv_carr_vuoti,V_da_pes/nav_serv_carr_pieni,V_da_pes/catenaria_vuoti,V_da_pes/catenaria_vuoti,V_da_pes/catenaria_parcheggi,V_da_pes/nav_serv_parcheggi,V_da_pes/catenaria_ing_misc,V_da_pes/navetta_serv_misc,V_da_pes/pesatura',\n",
       "  'case:concept:name': 1},\n",
       " {'variant': 'V_da_pes/estrusore,V_da_pes/carroponte_1,V_da_pes/nav_serv_carr_vuoti,V_da_pes/nav_serv_carr_pieni,V_da_pes/catenaria_vuoti,V_da_pes/catenaria_parcheggi,V_da_pes/nav_serv_parcheggi,V_per_park/catenaria_ing_misc,V_per_park/navetta_serv_misc,V_per_park/cat_usc_pieni,V_per_park/nav_serv_carr_pieni,V_per_park/catenaria_vuoti,V_per_park/catenaria_parcheggi,V_per_park/nav_serv_parcheggi,V_per_park/catenaria_parcheggi,V_da_pes/catenaria_ing_misc,V_da_pes/catenaria_ing_misc,V_per_park/cat_usc_pieni,V_per_park/nav_serv_carr_pieni,V_per_park/catenaria_vuoti,V_per_park/catenaria_parcheggi,V_per_park/nav_serv_parcheggi,V_per_park/catenaria_parcheggi,V_da_pes/nav_serv_parcheggi,V_da_pes/catenaria_ing_misc,V_da_pes/pesatura',\n",
       "  'case:concept:name': 1},\n",
       " {'variant': 'V_da_pes/estrusore,V_da_pes/carroponte_1,V_da_pes/nav_serv_carr_vuoti,V_da_pes/nav_serv_carr_pieni,V_da_pes/catenaria_vuoti,V_da_pes/catenaria_parcheggi,V_da_pes/nav_serv_parcheggi,V_da_pes/catenaria_ing_misc,V_da_pes/catenaria_ing_misc,V_da_pes/navetta_serv_misc,V_da_pes/pesatura',\n",
       "  'case:concept:name': 1},\n",
       " {'variant': 'V_da_pes/estrusore,V_da_pes/carroponte_1,V_da_pes/nav_serv_carr_vuoti,V_da_pes/nav_serv_carr_pieni,V_da_pes/catenaria_vuoti,V_da_pes/catenaria_parcheggi,V_da_pes/catenaria_ing_misc,V_per_park/catenaria_ing_misc,V_per_park/navetta_serv_misc,V_per_park/cat_usc_pieni,V_per_park/nav_serv_carr_vuoti,V_per_park/nav_serv_carr_pieni,V_per_park/catenaria_vuoti,V_per_park/nav_serv_parcheggi,V_per_park/catenaria_parcheggi,V_da_pes/nav_serv_parcheggi,V_da_pes/catenaria_ing_misc,V_da_pes/catenaria_ing_misc,V_da_pes/navetta_serv_misc,V_da_pes/pesatura',\n",
       "  'case:concept:name': 1},\n",
       " {'variant': 'V_da_pes/estrusore,V_da_pes/carroponte_1,V_da_pes/nav_serv_carr_vuoti,V_da_pes/nav_serv_carr_pieni,V_da_pes/catenaria_parcheggi,V_da_pes/catenaria_ing_misc,V_da_pes/navetta_serv_misc,V_da_pes/pesatura',\n",
       "  'case:concept:name': 1},\n",
       " {'variant': 'V_da_pes/estrusore,V_da_pes/carroponte_1,V_da_pes/nav_serv_carr_vuoti,V_da_pes/nav_serv_carr_pieni,V_da_pes/catenaria_parcheggi,V_da_pes/catenaria_ing_misc,V_da_pes/catenaria_ing_misc,V_da_pes/pesatura',\n",
       "  'case:concept:name': 1},\n",
       " {'variant': 'V_da_pes/estrusore,V_da_pes/carroponte_1,V_da_pes/nav_serv_carr_vuoti,V_da_pes/nav_serv_carr_pieni,V_da_pes/catenaria_parcheggi,V_da_pes/catenaria_ing_misc,V_da_pes/catenaria_ing_misc,V_da_pes/navetta_serv_misc,V_da_pes/pesatura',\n",
       "  'case:concept:name': 1},\n",
       " {'variant': 'V_da_pes/estrusore,V_da_pes/carroponte_1,V_da_pes/nav_serv_carr_pieni,V_da_pes/catenaria_vuoti,V_da_pes/catenaria_parcheggi,V_da_pes/catenaria_ing_misc,V_da_pes/catenaria_ing_misc,V_da_pes/pesatura',\n",
       "  'case:concept:name': 1},\n",
       " {'variant': 'V_da_pes/estrusore,V_da_pes/carroponte_1,V_da_pes/catenaria_parcheggi,V_da_pes/pesatura',\n",
       "  'case:concept:name': 1}]"
      ]
     },
     "execution_count": 10,
     "metadata": {},
     "output_type": "execute_result"
    }
   ],
   "source": [
    "variants_count"
   ]
  },
  {
   "cell_type": "code",
   "execution_count": 13,
   "id": "b2a3ca5d",
   "metadata": {
    "scrolled": false
   },
   "outputs": [
    {
     "data": {
      "image/png": "[encoded data removed]",
      "text/plain": [
       "<IPython.core.display.Image object>"
      ]
     },
     "metadata": {},
     "output_type": "display_data"
    }
   ],
   "source": [
    "#  visualize heuristic net\n",
    "filtered_log = pm4py.filter_variants_top_k(event_log, 6)\n",
    "\n",
    "from pm4py.algo.discovery.heuristics import algorithm as heuristics_miner\n",
    "from pm4py.visualization.heuristics_net import visualizer as hn_visualizer\n",
    "heu_net = heuristics_miner.apply_heu(filtered_log,\n",
    "                                     parameters={heuristics_miner.Variants.CLASSIC.value.Parameters.MIN_ACT_COUNT: 4,\n",
    "                                                heuristics_miner.Variants.CLASSIC.value.Parameters.MIN_DFG_OCCURRENCES: 1,\n",
    "                                                heuristics_miner.Variants.CLASSIC.value.Parameters.LOOP_LENGTH_TWO_THRESH: 2})\n",
    "gviz = hn_visualizer.apply(heu_net)\n",
    "hn_visualizer.view(gviz)"
   ]
  },
  {
   "cell_type": "code",
   "execution_count": 14,
   "id": "0b9f9afa",
   "metadata": {},
   "outputs": [],
   "source": [
    "pm4py.save_vis_heuristics_net(heu_net, 'C:/Users/HP/Desktop/huristicnet_pre_pes.png')"
   ]
  },
  {
   "cell_type": "markdown",
   "id": "de6e54b9",
   "metadata": {},
   "source": [
    "### Calcolo intertempi tra le attività"
   ]
  },
  {
   "cell_type": "code",
   "execution_count": 23,
   "id": "06e01b93",
   "metadata": {},
   "outputs": [],
   "source": [
    "df_pes = filtered_log[['ID_unique', 'ubicazione', 'rif', 'timestamp']].copy()\n",
    "\n",
    "t_hand_pes = []\n",
    "\n",
    "i = 0\n",
    "for idu in df_pes['ID_unique'].unique():\n",
    "    mask = df_pes['ID_unique'] == idu\n",
    "    df_tmp = df_pes[mask].sort_values('timestamp')\n",
    "    df_tmp.set_index('rif', inplace=True)\n",
    "    minuendo = None\n",
    "    sottraendo = None\n",
    "    if len(df_tmp) == len(df_tmp.index.unique()):\n",
    "        if 'V_da_pes/ing_zona_misc' in df_tmp.index:\n",
    "            minuendo = 'V_da_pes/pesatura'\n",
    "            sottraendo = 'V_da_pes/ing_zona_misc'\n",
    "        #  --------------------\n",
    "        elif 'V_da_pes/estrusore' in df_tmp.index:\n",
    "            minuendo = 'V_da_pes/pesatura'\n",
    "            sottraendo = 'V_da_pes/estrusore'\n",
    "        #  -------------------------\n",
    "        elif 'V_da_pes/miscelatore' in df_tmp.index and 'V_da_pes/in_zona_misc' not in df_tmp.index:\n",
    "            minuendo = 'V_da_pes/pesatura'\n",
    "            sottraendo = 'V_da_pes/miscelatore'  \n",
    "        #  -------------------\n",
    "        elif 'V_da_pes/nav_serv_carr_vuoti' in df_tmp.index and 'V_da_pes/estrusore' not in df_tmp.index:\n",
    "            minuendo = 'V_da_pes/pesatura'\n",
    "            sottraendo = 'V_da_pes/nav_serv_carr_vuoti'\n",
    "        #  --------------------\n",
    "        elif 'V_da_pes/nav_serv_parcheggi' in df_tmp.index and 'V_da_pes/nav_serv_carr_vuoti' not in df_tmp.index:\n",
    "            minuendo = 'V_da_pes/pesatura'\n",
    "            sottraendo = 'V_da_pes/nav_serv_parcheggi'\n",
    "       \n",
    "        if minuendo in df_tmp.index and sottraendo in df_tmp.index:\n",
    "            dt = np.round(\n",
    "                (df_tmp.loc[minuendo, 'timestamp'] - df_tmp.loc[sottraendo, 'timestamp']).total_seconds() / 60, 4)\n",
    "            t_hand_pes.append(dt)"
   ]
  },
  {
   "cell_type": "code",
   "execution_count": 25,
   "id": "86a14fdb",
   "metadata": {},
   "outputs": [
    {
     "data": {
      "text/plain": [
       "374"
      ]
     },
     "execution_count": 25,
     "metadata": {},
     "output_type": "execute_result"
    }
   ],
   "source": [
    "len(t_hand_pes)"
   ]
  },
  {
   "cell_type": "code",
   "execution_count": 27,
   "id": "bd2245eb",
   "metadata": {},
   "outputs": [
    {
     "data": {
      "text/plain": [
       "<seaborn.axisgrid.FacetGrid at 0x19bfcd45d60>"
      ]
     },
     "execution_count": 27,
     "metadata": {},
     "output_type": "execute_result"
    },
    {
     "data": {
      "image/png": "[encoded data removed]",
      "text/plain": [
       "<Figure size 540x360 with 1 Axes>"
      ]
     },
     "metadata": {},
     "output_type": "display_data"
    }
   ],
   "source": [
    "sns.set_style('white')\n",
    "sns.set_context(\"paper\", font_scale = 2)\n",
    "sns.displot(data=t_hand_pes, kind=\"hist\", bins = 50, aspect = 1.5)"
   ]
  },
  {
   "cell_type": "code",
   "execution_count": null,
   "id": "28599074",
   "metadata": {},
   "outputs": [],
   "source": [
    "def quantile2(column,pct,pct_lower):\n",
    "    y = column\n",
    "    y.sort()\n",
    "    len_y = len(y)\n",
    "    y = y[int(pct_lower * len_y):int(len_y * pct)]\n",
    "    return y"
   ]
  },
  {
   "cell_type": "code",
   "execution_count": 28,
   "id": "aac53f0f",
   "metadata": {
    "scrolled": false
   },
   "outputs": [
    {
     "name": "stderr",
     "output_type": "stream",
     "text": [
      "WARNING:root:SKIPPED kstwo distribution (taking more than 30 seconds)\n",
      "WARNING:root:SKIPPED rv_continuous distribution (taking more than 30 seconds)\n",
      "WARNING:root:SKIPPED rv_histogram distribution (taking more than 30 seconds)\n",
      "WARNING:root:SKIPPED levy_stable distribution (taking more than 30 seconds)\n",
      "WARNING:root:SKIPPED studentized_range distribution (taking more than 30 seconds)\n"
     ]
    },
    {
     "data": {
      "text/html": [
       "<div>\n",
       "<style scoped>\n",
       "    .dataframe tbody tr th:only-of-type {\n",
       "        vertical-align: middle;\n",
       "    }\n",
       "\n",
       "    .dataframe tbody tr th {\n",
       "        vertical-align: top;\n",
       "    }\n",
       "\n",
       "    .dataframe thead th {\n",
       "        text-align: right;\n",
       "    }\n",
       "</style>\n",
       "<table border=\"1\" class=\"dataframe\">\n",
       "  <thead>\n",
       "    <tr style=\"text-align: right;\">\n",
       "      <th></th>\n",
       "      <th>sumsquare_error</th>\n",
       "      <th>aic</th>\n",
       "      <th>bic</th>\n",
       "      <th>kl_div</th>\n",
       "    </tr>\n",
       "  </thead>\n",
       "  <tbody>\n",
       "    <tr>\n",
       "      <th>recipinvgauss</th>\n",
       "      <td>0.407486</td>\n",
       "      <td>969.193971</td>\n",
       "      <td>-2533.656542</td>\n",
       "      <td>inf</td>\n",
       "    </tr>\n",
       "    <tr>\n",
       "      <th>pearson3</th>\n",
       "      <td>0.426122</td>\n",
       "      <td>936.465091</td>\n",
       "      <td>-2516.932124</td>\n",
       "      <td>inf</td>\n",
       "    </tr>\n",
       "    <tr>\n",
       "      <th>johnsonsu</th>\n",
       "      <td>0.429289</td>\n",
       "      <td>963.337810</td>\n",
       "      <td>-2508.238155</td>\n",
       "      <td>inf</td>\n",
       "    </tr>\n",
       "    <tr>\n",
       "      <th>burr12</th>\n",
       "      <td>0.429676</td>\n",
       "      <td>975.329178</td>\n",
       "      <td>-2507.901554</td>\n",
       "      <td>inf</td>\n",
       "    </tr>\n",
       "    <tr>\n",
       "      <th>chi</th>\n",
       "      <td>0.431136</td>\n",
       "      <td>1313.019135</td>\n",
       "      <td>-2512.557170</td>\n",
       "      <td>inf</td>\n",
       "    </tr>\n",
       "  </tbody>\n",
       "</table>\n",
       "</div>"
      ],
      "text/plain": [
       "               sumsquare_error          aic          bic  kl_div\n",
       "recipinvgauss         0.407486   969.193971 -2533.656542     inf\n",
       "pearson3              0.426122   936.465091 -2516.932124     inf\n",
       "johnsonsu             0.429289   963.337810 -2508.238155     inf\n",
       "burr12                0.429676   975.329178 -2507.901554     inf\n",
       "chi                   0.431136  1313.019135 -2512.557170     inf"
      ]
     },
     "execution_count": 28,
     "metadata": {},
     "output_type": "execute_result"
    },
    {
     "data": {
      "image/png": "[encoded data removed]",
      "text/plain": [
       "<Figure size 432x288 with 1 Axes>"
      ]
     },
     "metadata": {},
     "output_type": "display_data"
    }
   ],
   "source": [
    "#  extract best fitting distribution from 'estrusione'\n",
    "f = Fitter(t_hand_pes)\n",
    "f.fit()\n",
    "f.summary()"
   ]
  },
  {
   "cell_type": "code",
   "execution_count": 29,
   "id": "ed74013a",
   "metadata": {},
   "outputs": [
    {
     "data": {
      "text/plain": [
       "{'recipinvgauss': {'mu': 982686.023539558,\n",
       "  'loc': 1.133299999996841,\n",
       "  'scale': 3.395239969140169}}"
      ]
     },
     "execution_count": 29,
     "metadata": {},
     "output_type": "execute_result"
    }
   ],
   "source": [
    "f.get_best(method = 'sumsquare_error')"
   ]
  },
  {
   "cell_type": "code",
   "execution_count": 31,
   "id": "91730691",
   "metadata": {},
   "outputs": [
    {
     "data": {
      "text/plain": [
       "2.85"
      ]
     },
     "execution_count": 31,
     "metadata": {},
     "output_type": "execute_result"
    }
   ],
   "source": [
    "np.median(t_hand_pes)"
   ]
  },
  {
   "cell_type": "code",
   "execution_count": null,
   "id": "45aadceb",
   "metadata": {},
   "outputs": [],
   "source": []
  }
 ],
 "metadata": {
  "kernelspec": {
   "display_name": "Python 3 (ipykernel)",
   "language": "python",
   "name": "python3"
  },
  "language_info": {
   "codemirror_mode": {
    "name": "ipython",
    "version": 3
   },
   "file_extension": ".py",
   "mimetype": "text/x-python",
   "name": "python",
   "nbconvert_exporter": "python",
   "pygments_lexer": "ipython3",
   "version": "3.9.7"
  }
 },
 "nbformat": 4,
 "nbformat_minor": 5
}
