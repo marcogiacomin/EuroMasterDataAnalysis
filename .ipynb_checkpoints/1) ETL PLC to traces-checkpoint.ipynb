{
 "cells": [
  {
   "cell_type": "code",
   "execution_count": 1,
   "id": "9e740321",
   "metadata": {},
   "outputs": [],
   "source": [
    "import pandas as pd\n",
    "import numpy as np\n",
    "from datetime import datetime"
   ]
  },
  {
   "cell_type": "markdown",
   "id": "eea0cba7",
   "metadata": {},
   "source": [
    "### Importazione dataframe"
   ]
  },
  {
   "cell_type": "code",
   "execution_count": 2,
   "id": "7394314c-974b-4644-81c1-1450d71d9c2c",
   "metadata": {},
   "outputs": [],
   "source": [
    "df1 = pd.read_csv('C:/Users/HP/Desktop/PLC_gualchierani/monitorconi_23mar_to_29mar.csv')\n",
    "df2 = pd.read_csv('C:/Users/HP/Desktop/PLC_gualchierani/monitorconi_30mar_to_4apr.csv')\n",
    "df3 = pd.read_csv('C:/Users/HP/Desktop/PLC_gualchierani/monitorconi_5apr_to_11apr.csv')\n",
    "df4 = pd.read_csv('C:/Users/HP/Desktop/PLC_gualchierani/monitorconi_12apr_to_18apr.csv')\n",
    "df5 = pd.read_csv('C:/Users/HP/Desktop/PLC_gualchierani/monitorconi_19apr_to_25apr.csv')"
   ]
  },
  {
   "cell_type": "code",
   "execution_count": 3,
   "id": "f62d6afe-c1df-4916-aebe-18209258e9ec",
   "metadata": {},
   "outputs": [],
   "source": [
    "df1[\"measured_at\"] = pd.to_datetime( df1[\"measured_at\"] )\n",
    "df2[\"measured_at\"] = pd.to_datetime( df2[\"measured_at\"] )\n",
    "df3[\"measured_at\"] = pd.to_datetime( df3[\"measured_at\"] )\n",
    "df4[\"measured_at\"] = pd.to_datetime( df4[\"measured_at\"] )\n",
    "df5[\"measured_at\"] = pd.to_datetime( df5[\"measured_at\"] )"
   ]
  },
  {
   "cell_type": "code",
   "execution_count": 4,
   "id": "357861df-8e7a-4a5b-a81a-12f8ee2176c1",
   "metadata": {},
   "outputs": [],
   "source": [
    "mask_30mar = np.asarray( df1[ df1['measured_at'].dt.day == 30].index )\n",
    "df1.drop( mask_30mar, inplace = True )\n",
    "\n",
    "mask_29mar = np.asarray( df2[ df2['measured_at'].dt.day == 29].index )\n",
    "df2.drop( mask_29mar, inplace = True )\n",
    "\n",
    "mask_5apr = np.asarray( df2[ df2['measured_at'].dt.day == 5].index )\n",
    "df2.drop( mask_5apr, inplace = True )\n",
    "\n",
    "mask_4apr = np.asarray( df3[ df3['measured_at'].dt.day == 4].index )\n",
    "df3.drop( mask_4apr, inplace = True )\n",
    "\n",
    "mask_12apr = np.asarray( df3[ df3['measured_at'].dt.day == 12].index )\n",
    "df3.drop( mask_12apr, inplace = True )\n",
    "\n",
    "mask_4apr = np.asarray( df4[ df4['measured_at'].dt.day == 11].index )\n",
    "df4.drop( mask_4apr, inplace = True )\n",
    "\n",
    "mask_12apr = np.asarray( df4[ df4['measured_at'].dt.day == 19].index )\n",
    "df4.drop( mask_12apr, inplace = True )\n",
    "\n",
    "mask_4apr = np.asarray( df5[ df5['measured_at'].dt.day == 18].index )\n",
    "df5.drop( mask_4apr, inplace = True )\n",
    "\n",
    "mask_12apr = np.asarray( df5[ df5['measured_at'].dt.day == 26].index )\n",
    "df5.drop( mask_12apr, inplace = True )\n",
    "\n",
    "df = pd.concat([df1, df2, df3, df4, df5])"
   ]
  },
  {
   "cell_type": "code",
   "execution_count": 5,
   "id": "c7d49b5f",
   "metadata": {},
   "outputs": [],
   "source": [
    "df.drop(['id', 'tipologia_lavorazione', 'cicli_da_eseguire',\n",
    "        'cicli_eseguiti', 'tempo_miscelazione_eseguito',\n",
    "        'stato_tramoggia', 'tara_cono', 'lotto',\n",
    "        'created_at', 'updated_at'], axis=1, inplace=True)"
   ]
  },
  {
   "cell_type": "code",
   "execution_count": 6,
   "id": "b26cae0f",
   "metadata": {},
   "outputs": [],
   "source": [
    "mask_no_cono = np.asarray( df[ df['id_cono'] > 24 ].index )\n",
    "df.drop( mask_no_cono, inplace = True )"
   ]
  },
  {
   "cell_type": "code",
   "execution_count": 7,
   "id": "dccb4bc5-3547-4570-aa64-afe9fb9d5c32",
   "metadata": {},
   "outputs": [
    {
     "data": {
      "text/plain": [
       "942915"
      ]
     },
     "execution_count": 7,
     "metadata": {},
     "output_type": "execute_result"
    }
   ],
   "source": [
    "len(df)"
   ]
  },
  {
   "cell_type": "code",
   "execution_count": 8,
   "id": "dc9708f9-100b-490e-9755-0e20951c50b8",
   "metadata": {},
   "outputs": [],
   "source": [
    "df.dropna(inplace=True)"
   ]
  },
  {
   "cell_type": "code",
   "execution_count": 9,
   "id": "51737325",
   "metadata": {},
   "outputs": [
    {
     "name": "stdout",
     "output_type": "stream",
     "text": [
      "<class 'pandas.core.frame.DataFrame'>\n",
      "Int64Index: 942915 entries, 0 to 528442\n",
      "Data columns (total 9 columns):\n",
      " #   Column                            Non-Null Count   Dtype         \n",
      "---  ------                            --------------   -----         \n",
      " 0   id_cono                           942915 non-null  int64         \n",
      " 1   ubicazione                        942915 non-null  int64         \n",
      " 2   stato                             942915 non-null  int64         \n",
      " 3   postazione_pesatura_destinazione  942915 non-null  int64         \n",
      " 4   miscelatore_destinazione          942915 non-null  int64         \n",
      " 5   estrusore_destinazione            942915 non-null  int64         \n",
      " 6   tempo_miscelazione_richiesto      942915 non-null  int64         \n",
      " 7   destinazione_ritorno              942915 non-null  int64         \n",
      " 8   measured_at                       942915 non-null  datetime64[ns]\n",
      "dtypes: datetime64[ns](1), int64(8)\n",
      "memory usage: 71.9 MB\n"
     ]
    }
   ],
   "source": [
    "df.info()"
   ]
  },
  {
   "cell_type": "markdown",
   "id": "72424dd3",
   "metadata": {},
   "source": [
    "### Preparazione dati di supporto"
   ]
  },
  {
   "cell_type": "code",
   "execution_count": 10,
   "id": "ec17a63a",
   "metadata": {},
   "outputs": [],
   "source": [
    "buffer = [n for n in range(21, 29)]\n",
    "buffer.extend([n for n in range(31, 39)])\n",
    "\n",
    "legenda_gualchierani = {\n",
    "    'fuori_impianto': [0],\n",
    "    'ing_zona_misc': [1],\n",
    "    'catenaria_ing_misc': [45, 46],\n",
    "    'navetta_serv_misc': [43],\n",
    "    'pesatura': [41, 42],\n",
    "    'miscelatore': [2, 8],\n",
    "    'cat_usc_pieni': [3],\n",
    "    'nav_serv_carr_pieni': [4],\n",
    "    'nav_serv_carr_vuoti': [5],\n",
    "    'buffer': buffer,\n",
    "    'carroponte_1': [6],\n",
    "    'carroponte_2': [7],\n",
    "    'estrusore': [n for n in range(11, 19)],\n",
    "    'handling_post_est': [6, 5, 4],\n",
    "    'catenaria_vuoti': [47, 48],\n",
    "    'catenaria_uscita_vuoti': [49],\n",
    "    'pinza_vuoti': [50],\n",
    "    'catenaria_parcheggi': [n for n in range(51, 58)],\n",
    "    'nav_serv_parcheggi': [44],\n",
    "    'manuale': [68, 70]\n",
    "}\n",
    "\n",
    "dict_states = {\n",
    "    0: 'Not_def',\n",
    "    1: 'V_per_park',\n",
    "    2: 'P_da_misc',\n",
    "    3: 'P_da_est',\n",
    "    4: 'P_remove',\n",
    "    5: 'P_recheck',\n",
    "    6: 'P_per_park',\n",
    "    7: 'V_da_pes',\n",
    "    8: 'V_remove',\n",
    "    9: 'V_lavaggio'\n",
    "}\n",
    "\n",
    "starter = ['V_da_pes/nav_serv_carr_pieni', 'V_da_pes/nav_serv_carr_vuoti',\n",
    "'V_da_pes/catenaria_vuoti', 'V_da_pes/catenaria_parcheggi',\n",
    "'V_da_pes/nav_serv_parcheggi', 'V_da_pes/catenaria_ing_misc',\n",
    "'V_da_pes/ing_zona_misc']\n",
    "\n",
    "finisher = ['P_da_est/estrusore', 'Not_def/fuori_impianto']\n",
    "\n",
    "finisher2 = ['V_per_park/estrusore', 'V_da_pes/estrusore', 'Not_def/fuori_impianto']"
   ]
  },
  {
   "cell_type": "markdown",
   "id": "10ea9585",
   "metadata": {},
   "source": [
    "### Preparazione funzioni"
   ]
  },
  {
   "cell_type": "code",
   "execution_count": 11,
   "id": "43c584ef",
   "metadata": {},
   "outputs": [],
   "source": [
    "#  questa funzione estrae dal df il primo record in ordine temporale per ogni ubicazione\n",
    "\n",
    "def create_df_t(df, cono_in_esame):\n",
    "    mask = df['id_cono'] == cono_in_esame\n",
    "    df1 = df[mask]\n",
    "\n",
    "    ubicazione = []\n",
    "    stato = []\n",
    "    timestamp = []\n",
    "    for i in range(len(df1) - 1):\n",
    "        if i == 0:\n",
    "            ubicazione.append(df1.iloc[i, 1])\n",
    "            stato.append(df1.iloc[i, 2])\n",
    "            timestamp.append(df1.iloc[i, 8])\n",
    "        elif df1.iloc[i, 1] == df1.iloc[i - 1, 1]:\n",
    "            continue\n",
    "        else:\n",
    "            ubicazione.append(df1.iloc[i, 1])\n",
    "            stato.append(df1.iloc[i, 2])\n",
    "            timestamp.append(df1.iloc[i, 8])\n",
    "\n",
    "#  estrae i valori dalla memoria del PLC li traduco in parole\n",
    "    for i in range(len(ubicazione)):\n",
    "        for k,v in legenda_gualchierani.items():\n",
    "            if ubicazione[i] in v:\n",
    "                ubicazione[i] = k\n",
    "\n",
    "    for i in range(len(stato)):\n",
    "        stato[i] = dict_states[stato[i]]\n",
    "\n",
    "#  crea il dataframe che sarà input alla funzione di individuazione della tracce\n",
    "    df_t = pd.DataFrame(list(zip(stato, ubicazione, timestamp)), columns =['stato', 'ubicazione', 'timestamp'])\n",
    "    df_t.sort_values('timestamp', inplace=True)\n",
    "    df_t['ID'] = 0\n",
    "    df_t['CRC'] = 0\n",
    "    df_t['rif'] = (df_t.stato.astype('str') + '/' + df_t.ubicazione.astype('str'))\n",
    "    return(df_t)"
   ]
  },
  {
   "cell_type": "code",
   "execution_count": 12,
   "id": "19a0e2fb",
   "metadata": {},
   "outputs": [],
   "source": [
    "#  questa funzione estrae dal df il primo record in ordine temporale per ogni ubicazione\n",
    "\n",
    "def create_df_t2(df, cono_in_esame):\n",
    "    mask = df['id_cono'] == cono_in_esame\n",
    "    df1 = df[mask]\n",
    "\n",
    "    ubicazione = []\n",
    "    stato = []\n",
    "    timestamp = []\n",
    "    for i in range(len(df1) - 1):\n",
    "        if i == 0:\n",
    "            ubicazione.append(df1.iloc[i, 1])\n",
    "            stato.append(df1.iloc[i, 2])\n",
    "            timestamp.append(df1.iloc[i, 8])\n",
    "        if df1.iloc[i, 1] in legenda_gualchierani['estrusore']:\n",
    "            if ((df1.iloc[i, 1] == df1.iloc[i - 1, 1] and df1.iloc[i, 1] != df1.iloc[i + 1, 1])\n",
    "                    or df1.iloc[i, 1] != df1.iloc[i - 1, 1]):\n",
    "                ubicazione.append(df1.iloc[i, 1])\n",
    "                stato.append(df1.iloc[i, 2])\n",
    "                timestamp.append(df1.iloc[i, 8])\n",
    "        elif df1.iloc[i, 1] == df1.iloc[i - 1, 1]:\n",
    "            continue\n",
    "        else:\n",
    "            ubicazione.append(df1.iloc[i, 1])\n",
    "            stato.append(df1.iloc[i, 2])\n",
    "            timestamp.append(df1.iloc[i, 8])\n",
    "\n",
    "#  estrae i valori dalla memoria del PLC li traduco in parole\n",
    "    for i in range(len(ubicazione)):\n",
    "        for k,v in legenda_gualchierani.items():\n",
    "            if ubicazione[i] in v:\n",
    "                ubicazione[i] = k\n",
    "\n",
    "    for i in range(len(stato)):\n",
    "        stato[i] = dict_states[stato[i]]\n",
    "\n",
    "#  crea il dataframe che sarà input alla funzione di individuazione della tracce\n",
    "    df_t = pd.DataFrame(list(zip(stato, ubicazione, timestamp)), columns =['stato', 'ubicazione', 'timestamp'])\n",
    "    df_t.sort_values('timestamp', inplace=True)\n",
    "    df_t['ID'] = 0\n",
    "    df_t['CRC'] = 0\n",
    "    df_t['rif'] = (df_t.stato.astype('str') + '/' + df_t.ubicazione.astype('str'))\n",
    "    df_t.drop_duplicates(inplace=True)\n",
    "    return(df_t)"
   ]
  },
  {
   "cell_type": "code",
   "execution_count": 13,
   "id": "2f04203c",
   "metadata": {},
   "outputs": [],
   "source": [
    "#  questa funzione individua delle potenziali tracce di processo\n",
    "#  prende in input una lista di possibili punti di inizio ed una di possibili punti di fine\n",
    "\n",
    "def create_traces(df_t, cono_in_esame, starter, finisher):\n",
    "    global trace\n",
    "    df_t2 = df_t.copy()\n",
    "    cont_related_counter = 0\n",
    "    bol_end = False\n",
    "    bol_start = False\n",
    "    for idx in df_t2.index:\n",
    "        global trace\n",
    "        if df_t2.loc[idx, 'rif'] in starter and not bol_start:\n",
    "            bol_end = False\n",
    "            bol_start = True\n",
    "            trace += 1\n",
    "            cont_related_counter += 1\n",
    "            df_t2.loc[idx, 'ID'] = trace\n",
    "            df_t2.loc[idx, 'CRC'] = cont_related_counter\n",
    "        elif df_t2.loc[idx, 'rif'] == 'V_da_pes/pesatura' and not bol_end:\n",
    "            df_t2.loc[idx, 'ID'] = trace\n",
    "            df_t2.loc[idx, 'CRC'] = cont_related_counter\n",
    "            bol_end = True\n",
    "            bol_start = False\n",
    "        elif not bol_end:\n",
    "            df_t2.loc[idx, 'ID'] = trace\n",
    "            df_t2.loc[idx, 'CRC'] = cont_related_counter\n",
    "    \n",
    "    #  elimina dal df tutti i record che non sono stati attribuiti a nessuna traccia\n",
    "    mask_no_trace = np.asarray( df_t2[ df_t2['ID'] == 0 ].index )\n",
    "    df_t2.drop( mask_no_trace, inplace = True )\n",
    "    \n",
    "    #  qualche trick per limitare i doppioni\n",
    "    trace = trace + 1\n",
    "    df_t2['ID_unique'] = (df_t2.CRC.astype('str') + 'C' + str(cono_in_esame) + df_t2.ID.astype('str'))\n",
    "    return(df_t2)"
   ]
  },
  {
   "cell_type": "code",
   "execution_count": 14,
   "id": "e9d6976d",
   "metadata": {},
   "outputs": [],
   "source": [
    "def create_traces3(df_t, cono_in_esame, finisher):\n",
    "    global trace\n",
    "    df_t2 = df_t.copy()\n",
    "    cont_related_counter = 0\n",
    "    bol_end = False\n",
    "    bol_start = False\n",
    "    for idx in df_t2.index:\n",
    "        global trace\n",
    "        if df_t2.loc[idx, 'rif'] == 'V_da_pes/pesatura' and not bol_start:\n",
    "            bol_end = False\n",
    "            bol_start = True\n",
    "            trace += 1\n",
    "            cont_related_counter += 1\n",
    "            df_t2.loc[idx, 'ID'] = trace\n",
    "            df_t2.loc[idx, 'CRC'] = cont_related_counter\n",
    "        elif df_t2.loc[idx, 'rif'] in finisher and not bol_end:\n",
    "            df_t2.loc[idx, 'ID'] = trace\n",
    "            df_t2.loc[idx, 'CRC'] = cont_related_counter\n",
    "            bol_end = True\n",
    "            bol_start = False\n",
    "        elif not bol_end:\n",
    "            df_t2.loc[idx, 'ID'] = trace\n",
    "            df_t2.loc[idx, 'CRC'] = cont_related_counter\n",
    "    \n",
    "    mask_no_trace = np.asarray( df_t2[ df_t2['ID'] == 0 ].index )\n",
    "    df_t2.drop( mask_no_trace, inplace = True )\n",
    "    \n",
    "    #  qualche trick per limitare i doppioni\n",
    "    trace = trace + 10\n",
    "    df_t2['ID_unique'] = (df_t2.CRC.astype('str') + 'C' + str(cono_in_esame) + df_t2.ID.astype('str'))\n",
    "    if df_t2['CRC'].isnull().values.any():\n",
    "        print('CI SONO DEI NULL SECONDA FUNZIONE  CONO  ', cono_in_esame)\n",
    "    return(df_t2)"
   ]
  },
  {
   "cell_type": "markdown",
   "id": "a0de14ba",
   "metadata": {},
   "source": [
    "### Calcolo tracce"
   ]
  },
  {
   "cell_type": "code",
   "execution_count": null,
   "id": "35742e72",
   "metadata": {},
   "outputs": [],
   "source": [
    "trace = 0\n",
    "for c in range(1, 25):\n",
    "    global trace\n",
    "    start = datetime.now()\n",
    "    df_pre_trace = create_df_t2(df, c)\n",
    "    if c == 1:\n",
    "        df_traces = create_traces3(df_pre_trace, c, finisher2)\n",
    "    else:\n",
    "        df_traces = pd.concat([df_traces, create_traces3(df_pre_trace, c, finisher2)])\n",
    "    end = datetime.now()\n",
    "    print('TEMPO ELABORAZIONE CONO {} {}'.format(c, end-start))"
   ]
  },
  {
   "cell_type": "code",
   "execution_count": null,
   "id": "02eb20b9",
   "metadata": {},
   "outputs": [],
   "source": [
    "df_traces.to_csv('C:/Users/HP/Desktop/df_traces_from_weigh.csv')"
   ]
  },
  {
   "cell_type": "code",
   "execution_count": null,
   "id": "0b58cba0",
   "metadata": {},
   "outputs": [],
   "source": [
    "len(df_traces['ID_unique'].unique())"
   ]
  },
  {
   "cell_type": "code",
   "execution_count": null,
   "id": "d52a28ba",
   "metadata": {},
   "outputs": [],
   "source": [
    "df_traces"
   ]
  }
 ],
 "metadata": {
  "kernelspec": {
   "display_name": "Python 3 (ipykernel)",
   "language": "python",
   "name": "python3"
  },
  "language_info": {
   "codemirror_mode": {
    "name": "ipython",
    "version": 3
   },
   "file_extension": ".py",
   "mimetype": "text/x-python",
   "name": "python",
   "nbconvert_exporter": "python",
   "pygments_lexer": "ipython3",
   "version": "3.9.12"
  },
  "toc-autonumbering": true,
  "toc-showcode": false,
  "toc-showmarkdowntxt": false
 },
 "nbformat": 4,
 "nbformat_minor": 5
}
