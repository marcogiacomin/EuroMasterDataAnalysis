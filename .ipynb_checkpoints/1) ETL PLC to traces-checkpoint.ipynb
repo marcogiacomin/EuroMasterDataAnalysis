{
 "cells": [
  {
   "cell_type": "code",
   "execution_count": 1,
   "id": "9e740321",
   "metadata": {},
   "outputs": [],
   "source": [
    "import pandas as pd\n",
    "import numpy as np\n",
    "from datetime import datetime"
   ]
  },
  {
   "cell_type": "markdown",
   "id": "eea0cba7",
   "metadata": {},
   "source": [
    "### Importazione dataframe"
   ]
  },
  {
   "cell_type": "code",
   "execution_count": 9,
   "id": "4ccbdd0e",
   "metadata": {},
   "outputs": [],
   "source": [
    "df1 = pd.read_csv('C:/Users/HP/Desktop/PLC_gualchierani/monitorconi_23mar_to_29mar.csv')\n",
    "df2 = pd.read_csv('C:/Users/HP/Desktop/PLC_gualchierani/monitorconi_30mar_to_4apr.csv')"
   ]
  },
  {
   "cell_type": "code",
   "execution_count": 10,
   "id": "a91fd1f2",
   "metadata": {},
   "outputs": [],
   "source": [
    "df1[\"measured_at\"] = pd.to_datetime( df1[\"measured_at\"] )\n",
    "df2[\"measured_at\"] = pd.to_datetime( df2[\"measured_at\"] )"
   ]
  },
  {
   "cell_type": "code",
   "execution_count": 11,
   "id": "8a0207e9",
   "metadata": {},
   "outputs": [],
   "source": [
    "mask_30mar = np.asarray( df1[ df1['measured_at'].dt.day == 30].index )\n",
    "df1.drop( mask_30mar, inplace = True )\n",
    "\n",
    "mask_29mar = np.asarray( df2[ df2['measured_at'].dt.day == 29].index )\n",
    "df2.drop( mask_29mar, inplace = True )\n",
    "\n",
    "mask_5apr = np.asarray( df2[ df2['measured_at'].dt.day == 5].index )\n",
    "df2.drop( mask_5apr, inplace = True )"
   ]
  },
  {
   "cell_type": "code",
   "execution_count": 14,
   "id": "2db25cd3",
   "metadata": {},
   "outputs": [],
   "source": [
    "df = pd.concat([df1,df2])"
   ]
  },
  {
   "cell_type": "code",
   "execution_count": 16,
   "id": "c7d49b5f",
   "metadata": {},
   "outputs": [],
   "source": [
    "df.drop(['id', 'tipologia_lavorazione', 'cicli_da_eseguire',\n",
    "        'cicli_eseguiti', 'tempo_miscelazione_eseguito',\n",
    "        'stato_tramoggia', 'tara_cono', 'lotto',\n",
    "        'created_at', 'updated_at'], axis=1, inplace=True)"
   ]
  },
  {
   "cell_type": "code",
   "execution_count": 17,
   "id": "b26cae0f",
   "metadata": {},
   "outputs": [],
   "source": [
    "mask_no_cono = np.asarray( df[ df['id_cono'] > 24 ].index )\n",
    "df.drop( mask_no_cono, inplace = True )"
   ]
  },
  {
   "cell_type": "code",
   "execution_count": 18,
   "id": "51737325",
   "metadata": {},
   "outputs": [
    {
     "data": {
      "text/plain": [
       "652515"
      ]
     },
     "execution_count": 18,
     "metadata": {},
     "output_type": "execute_result"
    }
   ],
   "source": [
    "len(df)"
   ]
  },
  {
   "cell_type": "markdown",
   "id": "72424dd3",
   "metadata": {},
   "source": [
    "### Preparazione dati di supporto"
   ]
  },
  {
   "cell_type": "code",
   "execution_count": 19,
   "id": "ec17a63a",
   "metadata": {},
   "outputs": [],
   "source": [
    "buffer = [n for n in range(21, 29)]\n",
    "buffer.extend([n for n in range(31, 39)])\n",
    "\n",
    "legenda_gualchierani = {\n",
    "    'fuori_impianto': [0],\n",
    "    'ing_zona_misc': [1],\n",
    "    'catenaria_ing_misc': [45, 46],\n",
    "    'navetta_serv_misc': [43],\n",
    "    'pesatura': [41, 42],\n",
    "    'miscelatore': [2, 8],\n",
    "    'cat_usc_pieni': [3],\n",
    "    'nav_serv_carr_pieni': [4],\n",
    "    'nav_serv_carr_vuoti': [5],\n",
    "    'buffer': buffer,\n",
    "    'carroponte_1': [6],\n",
    "    'carroponte_2': [7],\n",
    "    'estrusore': [n for n in range(11, 19)],\n",
    "    'handling_post_est': [6, 5, 4],\n",
    "    'catenaria_vuoti': [47, 48],\n",
    "    'catenaria_uscita_vuoti': [49],\n",
    "    'pinza_vuoti': [50],\n",
    "    'catenaria_parcheggi': [n for n in range(51, 58)],\n",
    "    'nav_serv_parcheggi': [44],\n",
    "    'manuale': [68, 70]\n",
    "}\n",
    "\n",
    "dict_states = {\n",
    "    0: 'Not_def',\n",
    "    1: 'V_per_park',\n",
    "    2: 'P_da_misc',\n",
    "    3: 'P_da_est',\n",
    "    4: 'P_remove',\n",
    "    5: 'P_recheck',\n",
    "    6: 'P_per_park',\n",
    "    7: 'V_da_pes',\n",
    "    8: 'V_remove',\n",
    "    9: 'V_lavaggio'\n",
    "}\n",
    "\n",
    "starter = ['V_da_pes/nav_serv_carr_pieni', 'V_da_pes/nav_serv_carr_vuoti',\n",
    "'V_da_pes/catenaria_vuoti', 'V_da_pes/catenaria_parcheggi',\n",
    "'V_da_pes/nav_serv_parcheggi', 'V_da_pes/catenaria_ing_misc',\n",
    "'V_da_pes/ing_zona_misc']\n",
    "\n",
    "finisher = ['P_da_est/estrusore', 'Not_def/fuori_impianto']\n",
    "\n",
    "finisher2 = ['V_per_park/estrusore', 'V_da_pes/estrusore', 'Not_def/fuori_impianto']"
   ]
  },
  {
   "cell_type": "code",
   "execution_count": null,
   "id": "f0f1d7e3",
   "metadata": {},
   "outputs": [],
   "source": []
  },
  {
   "cell_type": "markdown",
   "id": "10ea9585",
   "metadata": {},
   "source": [
    "### Preparazione funzioni"
   ]
  },
  {
   "cell_type": "code",
   "execution_count": 20,
   "id": "43c584ef",
   "metadata": {},
   "outputs": [],
   "source": [
    "#  questa funzione estrae dal df il primo record in ordine temporale per ogni ubicazione\n",
    "\n",
    "def create_df_t(df, cono_in_esame):\n",
    "    mask = df['id_cono'] == cono_in_esame\n",
    "    df1 = df[mask]\n",
    "\n",
    "    ubicazione = []\n",
    "    stato = []\n",
    "    timestamp = []\n",
    "    for i in range(len(df1) - 1):\n",
    "        if i == 0:\n",
    "            ubicazione.append(df1.iloc[i, 1])\n",
    "            stato.append(df1.iloc[i, 2])\n",
    "            timestamp.append(df1.iloc[i, 8])\n",
    "        elif df1.iloc[i, 1] == df1.iloc[i - 1, 1]:\n",
    "            continue\n",
    "        else:\n",
    "            ubicazione.append(df1.iloc[i, 1])\n",
    "            stato.append(df1.iloc[i, 2])\n",
    "            timestamp.append(df1.iloc[i, 8])\n",
    "\n",
    "#  estrae i valori dalla memoria del PLC li traduco in parole\n",
    "    for i in range(len(ubicazione)):\n",
    "        for k,v in legenda_gualchierani.items():\n",
    "            if ubicazione[i] in v:\n",
    "                ubicazione[i] = k\n",
    "\n",
    "    for i in range(len(stato)):\n",
    "        stato[i] = dict_states[stato[i]]\n",
    "\n",
    "#  crea il dataframe che sarà input alla funzione di individuazione della tracce\n",
    "    df_t = pd.DataFrame(list(zip(stato, ubicazione, timestamp)), columns =['stato', 'ubicazione', 'timestamp'])\n",
    "    df_t.sort_values('timestamp', inplace=True)\n",
    "    df_t['ID'] = 0\n",
    "    df_t['CRC'] = 0\n",
    "    df_t['rif'] = (df_t.stato.astype('str') + '/' + df_t.ubicazione.astype('str'))\n",
    "    return(df_t)"
   ]
  },
  {
   "cell_type": "code",
   "execution_count": 21,
   "id": "19a0e2fb",
   "metadata": {},
   "outputs": [],
   "source": [
    "#  questa funzione estrae dal df il primo record in ordine temporale per ogni ubicazione\n",
    "\n",
    "def create_df_t2(df, cono_in_esame):\n",
    "    mask = df['id_cono'] == cono_in_esame\n",
    "    df1 = df[mask]\n",
    "\n",
    "    ubicazione = []\n",
    "    stato = []\n",
    "    timestamp = []\n",
    "    for i in range(len(df1) - 1):\n",
    "        if i == 0:\n",
    "            ubicazione.append(df1.iloc[i, 1])\n",
    "            stato.append(df1.iloc[i, 2])\n",
    "            timestamp.append(df1.iloc[i, 8])\n",
    "        if df1.iloc[i, 1] in legenda_gualchierani['estrusore']:\n",
    "            if ((df1.iloc[i, 1] == df1.iloc[i - 1, 1] and df1.iloc[i, 1] != df1.iloc[i + 1, 1])\n",
    "                    or df1.iloc[i, 1] != df1.iloc[i - 1, 1]):\n",
    "                ubicazione.append(df1.iloc[i, 1])\n",
    "                stato.append(df1.iloc[i, 2])\n",
    "                timestamp.append(df1.iloc[i, 8])\n",
    "        elif df1.iloc[i, 1] == df1.iloc[i - 1, 1]:\n",
    "            continue\n",
    "        else:\n",
    "            ubicazione.append(df1.iloc[i, 1])\n",
    "            stato.append(df1.iloc[i, 2])\n",
    "            timestamp.append(df1.iloc[i, 8])\n",
    "\n",
    "#  estrae i valori dalla memoria del PLC li traduco in parole\n",
    "    for i in range(len(ubicazione)):\n",
    "        for k,v in legenda_gualchierani.items():\n",
    "            if ubicazione[i] in v:\n",
    "                ubicazione[i] = k\n",
    "\n",
    "    for i in range(len(stato)):\n",
    "        stato[i] = dict_states[stato[i]]\n",
    "\n",
    "#  crea il dataframe che sarà input alla funzione di individuazione della tracce\n",
    "    df_t = pd.DataFrame(list(zip(stato, ubicazione, timestamp)), columns =['stato', 'ubicazione', 'timestamp'])\n",
    "    df_t.sort_values('timestamp', inplace=True)\n",
    "    df_t['ID'] = 0\n",
    "    df_t['CRC'] = 0\n",
    "    df_t['rif'] = (df_t.stato.astype('str') + '/' + df_t.ubicazione.astype('str'))\n",
    "    df_t.drop_duplicates(inplace=True)\n",
    "    return(df_t)"
   ]
  },
  {
   "cell_type": "code",
   "execution_count": 22,
   "id": "2f04203c",
   "metadata": {},
   "outputs": [],
   "source": [
    "#  questa funzione individua delle potenziali tracce di processo\n",
    "#  prende in input una lista di possibili punti di inizio ed una di possibili punti di fine\n",
    "\n",
    "def create_traces(df_t, cono_in_esame, starter, finisher):\n",
    "    global trace\n",
    "    df_t2 = df_t.copy()\n",
    "    cont_related_counter = 0\n",
    "    bol_end = False\n",
    "    bol_start = False\n",
    "    for idx in df_t2.index:\n",
    "        global trace\n",
    "        if df_t2.loc[idx, 'rif'] in starter and not bol_start:\n",
    "            bol_end = False\n",
    "            bol_start = True\n",
    "            trace += 1\n",
    "            cont_related_counter += 1\n",
    "            df_t2.loc[idx, 'ID'] = trace\n",
    "            df_t2.loc[idx, 'CRC'] = cont_related_counter\n",
    "        elif df_t2.loc[idx, 'rif'] == 'V_da_pes/pesatura' and not bol_end:\n",
    "            df_t2.loc[idx, 'ID'] = trace\n",
    "            df_t2.loc[idx, 'CRC'] = cont_related_counter\n",
    "            bol_end = True\n",
    "            bol_start = False\n",
    "        elif not bol_end:\n",
    "            df_t2.loc[idx, 'ID'] = trace\n",
    "            df_t2.loc[idx, 'CRC'] = cont_related_counter\n",
    "    \n",
    "    #  elimina dal df tutti i record che non sono stati attribuiti a nessuna traccia\n",
    "    mask_no_trace = np.asarray( df_t2[ df_t2['ID'] == 0 ].index )\n",
    "    df_t2.drop( mask_no_trace, inplace = True )\n",
    "    \n",
    "    #  qualche trick per limitare i doppioni\n",
    "    trace = trace + 1\n",
    "    df_t2['ID_unique'] = (df_t2.CRC.astype('str') + 'C' + str(cono_in_esame) + df_t2.ID.astype('str'))\n",
    "    return(df_t2)"
   ]
  },
  {
   "cell_type": "code",
   "execution_count": 23,
   "id": "e9d6976d",
   "metadata": {},
   "outputs": [],
   "source": [
    "def create_traces3(df_t, cono_in_esame, finisher):\n",
    "    global trace\n",
    "    df_t2 = df_t.copy()\n",
    "    cont_related_counter = 0\n",
    "    bol_end = False\n",
    "    bol_start = False\n",
    "    for idx in df_t2.index:\n",
    "        global trace\n",
    "        if df_t2.loc[idx, 'rif'] == 'V_da_pes/pesatura' and not bol_start:\n",
    "            bol_end = False\n",
    "            bol_start = True\n",
    "            trace += 1\n",
    "            cont_related_counter += 1\n",
    "            df_t2.loc[idx, 'ID'] = trace\n",
    "            df_t2.loc[idx, 'CRC'] = cont_related_counter\n",
    "        elif df_t2.loc[idx, 'rif'] in finisher and not bol_end:\n",
    "            df_t2.loc[idx, 'ID'] = trace\n",
    "            df_t2.loc[idx, 'CRC'] = cont_related_counter\n",
    "            bol_end = True\n",
    "            bol_start = False\n",
    "        elif not bol_end:\n",
    "            df_t2.loc[idx, 'ID'] = trace\n",
    "            df_t2.loc[idx, 'CRC'] = cont_related_counter\n",
    "    \n",
    "    mask_no_trace = np.asarray( df_t2[ df_t2['ID'] == 0 ].index )\n",
    "    df_t2.drop( mask_no_trace, inplace = True )\n",
    "    \n",
    "    #  qualche trick per limitare i doppioni\n",
    "    trace = trace + 10\n",
    "    df_t2['ID_unique'] = (df_t2.CRC.astype('str') + 'C' + str(cono_in_esame) + df_t2.ID.astype('str'))\n",
    "    if df_t2['CRC'].isnull().values.any():\n",
    "        print('CI SONO DEI NULL SECONDA FUNZIONE  CONO  ', cono_in_esame)\n",
    "    return(df_t2)"
   ]
  },
  {
   "cell_type": "markdown",
   "id": "a0de14ba",
   "metadata": {},
   "source": [
    "### Calcolo tracce"
   ]
  },
  {
   "cell_type": "code",
   "execution_count": 24,
   "id": "35742e72",
   "metadata": {},
   "outputs": [
    {
     "name": "stdout",
     "output_type": "stream",
     "text": [
      "TEMPO ELABORAZIONE CONO 1 0:00:07.607001\n",
      "TEMPO ELABORAZIONE CONO 2 0:00:06.780072\n",
      "TEMPO ELABORAZIONE CONO 3 0:00:09.873395\n",
      "TEMPO ELABORAZIONE CONO 4 0:00:08.749080\n",
      "TEMPO ELABORAZIONE CONO 5 0:00:08.416402\n",
      "TEMPO ELABORAZIONE CONO 6 0:00:06.596783\n",
      "TEMPO ELABORAZIONE CONO 7 0:00:07.337372\n",
      "TEMPO ELABORAZIONE CONO 8 0:00:15.228656\n",
      "TEMPO ELABORAZIONE CONO 9 0:00:08.271386\n",
      "TEMPO ELABORAZIONE CONO 10 0:00:10.851310\n",
      "TEMPO ELABORAZIONE CONO 11 0:00:08.858711\n",
      "TEMPO ELABORAZIONE CONO 12 0:00:07.338145\n",
      "TEMPO ELABORAZIONE CONO 13 0:00:15.182576\n",
      "TEMPO ELABORAZIONE CONO 14 0:00:07.835445\n",
      "TEMPO ELABORAZIONE CONO 15 0:00:08.326625\n",
      "TEMPO ELABORAZIONE CONO 16 0:00:06.821199\n",
      "TEMPO ELABORAZIONE CONO 17 0:00:11.068619\n",
      "TEMPO ELABORAZIONE CONO 18 0:00:08.601167\n",
      "TEMPO ELABORAZIONE CONO 19 0:00:07.595840\n",
      "TEMPO ELABORAZIONE CONO 20 0:00:06.052326\n",
      "TEMPO ELABORAZIONE CONO 21 0:00:07.610213\n",
      "TEMPO ELABORAZIONE CONO 22 0:00:11.083341\n",
      "TEMPO ELABORAZIONE CONO 23 0:00:14.913696\n",
      "TEMPO ELABORAZIONE CONO 24 0:00:08.272736\n"
     ]
    }
   ],
   "source": [
    "trace = 0\n",
    "for c in range(1, 25):\n",
    "    global trace\n",
    "    start = datetime.now()\n",
    "    df_pre_trace = create_df_t2(df, c)\n",
    "    if c == 1:\n",
    "        df_traces = create_traces3(df_pre_trace, c, finisher2)\n",
    "    else:\n",
    "        df_traces = pd.concat([df_traces, create_traces3(df_pre_trace, c, finisher2)])\n",
    "    end = datetime.now()\n",
    "    print('TEMPO ELABORAZIONE CONO {} {}'.format(c, end-start))"
   ]
  },
  {
   "cell_type": "code",
   "execution_count": 28,
   "id": "02eb20b9",
   "metadata": {},
   "outputs": [],
   "source": [
    "df_traces.to_csv('C:/Users/HP/Desktop/df_traces_from_weigh.csv')"
   ]
  },
  {
   "cell_type": "code",
   "execution_count": 26,
   "id": "0b58cba0",
   "metadata": {},
   "outputs": [
    {
     "data": {
      "text/plain": [
       "1193"
      ]
     },
     "execution_count": 26,
     "metadata": {},
     "output_type": "execute_result"
    }
   ],
   "source": [
    "len(df_traces['ID_unique'].unique())"
   ]
  },
  {
   "cell_type": "code",
   "execution_count": 27,
   "id": "d52a28ba",
   "metadata": {},
   "outputs": [
    {
     "data": {
      "text/html": [
       "<div>\n",
       "<style scoped>\n",
       "    .dataframe tbody tr th:only-of-type {\n",
       "        vertical-align: middle;\n",
       "    }\n",
       "\n",
       "    .dataframe tbody tr th {\n",
       "        vertical-align: top;\n",
       "    }\n",
       "\n",
       "    .dataframe thead th {\n",
       "        text-align: right;\n",
       "    }\n",
       "</style>\n",
       "<table border=\"1\" class=\"dataframe\">\n",
       "  <thead>\n",
       "    <tr style=\"text-align: right;\">\n",
       "      <th></th>\n",
       "      <th>stato</th>\n",
       "      <th>ubicazione</th>\n",
       "      <th>timestamp</th>\n",
       "      <th>ID</th>\n",
       "      <th>CRC</th>\n",
       "      <th>rif</th>\n",
       "      <th>ID_unique</th>\n",
       "    </tr>\n",
       "  </thead>\n",
       "  <tbody>\n",
       "    <tr>\n",
       "      <th>18</th>\n",
       "      <td>V_da_pes</td>\n",
       "      <td>pesatura</td>\n",
       "      <td>2022-03-23 01:54:52</td>\n",
       "      <td>1</td>\n",
       "      <td>1</td>\n",
       "      <td>V_da_pes/pesatura</td>\n",
       "      <td>1C11</td>\n",
       "    </tr>\n",
       "    <tr>\n",
       "      <th>19</th>\n",
       "      <td>P_da_misc</td>\n",
       "      <td>navetta_serv_misc</td>\n",
       "      <td>2022-03-23 02:10:53</td>\n",
       "      <td>1</td>\n",
       "      <td>1</td>\n",
       "      <td>P_da_misc/navetta_serv_misc</td>\n",
       "      <td>1C11</td>\n",
       "    </tr>\n",
       "    <tr>\n",
       "      <th>20</th>\n",
       "      <td>P_da_misc</td>\n",
       "      <td>miscelatore</td>\n",
       "      <td>2022-03-23 02:11:28</td>\n",
       "      <td>1</td>\n",
       "      <td>1</td>\n",
       "      <td>P_da_misc/miscelatore</td>\n",
       "      <td>1C11</td>\n",
       "    </tr>\n",
       "    <tr>\n",
       "      <th>21</th>\n",
       "      <td>P_da_est</td>\n",
       "      <td>cat_usc_pieni</td>\n",
       "      <td>2022-03-23 02:14:54</td>\n",
       "      <td>1</td>\n",
       "      <td>1</td>\n",
       "      <td>P_da_est/cat_usc_pieni</td>\n",
       "      <td>1C11</td>\n",
       "    </tr>\n",
       "    <tr>\n",
       "      <th>22</th>\n",
       "      <td>P_da_est</td>\n",
       "      <td>nav_serv_carr_vuoti</td>\n",
       "      <td>2022-03-23 02:17:45</td>\n",
       "      <td>1</td>\n",
       "      <td>1</td>\n",
       "      <td>P_da_est/nav_serv_carr_vuoti</td>\n",
       "      <td>1C11</td>\n",
       "    </tr>\n",
       "    <tr>\n",
       "      <th>...</th>\n",
       "      <td>...</td>\n",
       "      <td>...</td>\n",
       "      <td>...</td>\n",
       "      <td>...</td>\n",
       "      <td>...</td>\n",
       "      <td>...</td>\n",
       "      <td>...</td>\n",
       "    </tr>\n",
       "    <tr>\n",
       "      <th>2217</th>\n",
       "      <td>P_da_est</td>\n",
       "      <td>carroponte_1</td>\n",
       "      <td>2022-04-04 23:21:00</td>\n",
       "      <td>1392</td>\n",
       "      <td>126</td>\n",
       "      <td>P_da_est/carroponte_1</td>\n",
       "      <td>126C231392</td>\n",
       "    </tr>\n",
       "    <tr>\n",
       "      <th>2218</th>\n",
       "      <td>P_da_est</td>\n",
       "      <td>buffer</td>\n",
       "      <td>2022-04-04 23:23:17</td>\n",
       "      <td>1392</td>\n",
       "      <td>126</td>\n",
       "      <td>P_da_est/buffer</td>\n",
       "      <td>126C231392</td>\n",
       "    </tr>\n",
       "    <tr>\n",
       "      <th>2219</th>\n",
       "      <td>P_da_est</td>\n",
       "      <td>carroponte_2</td>\n",
       "      <td>2022-04-04 23:26:09</td>\n",
       "      <td>1392</td>\n",
       "      <td>126</td>\n",
       "      <td>P_da_est/carroponte_2</td>\n",
       "      <td>126C231392</td>\n",
       "    </tr>\n",
       "    <tr>\n",
       "      <th>2220</th>\n",
       "      <td>P_da_est</td>\n",
       "      <td>estrusore</td>\n",
       "      <td>2022-04-04 23:26:43</td>\n",
       "      <td>1392</td>\n",
       "      <td>126</td>\n",
       "      <td>P_da_est/estrusore</td>\n",
       "      <td>126C231392</td>\n",
       "    </tr>\n",
       "    <tr>\n",
       "      <th>0</th>\n",
       "      <td>P_da_est</td>\n",
       "      <td>fuori_impianto</td>\n",
       "      <td>2022-03-23 00:00:29</td>\n",
       "      <td>1402</td>\n",
       "      <td>0</td>\n",
       "      <td>P_da_est/fuori_impianto</td>\n",
       "      <td>0C241402</td>\n",
       "    </tr>\n",
       "  </tbody>\n",
       "</table>\n",
       "<p>10176 rows × 7 columns</p>\n",
       "</div>"
      ],
      "text/plain": [
       "          stato           ubicazione           timestamp    ID  CRC  \\\n",
       "18     V_da_pes             pesatura 2022-03-23 01:54:52     1    1   \n",
       "19    P_da_misc    navetta_serv_misc 2022-03-23 02:10:53     1    1   \n",
       "20    P_da_misc          miscelatore 2022-03-23 02:11:28     1    1   \n",
       "21     P_da_est        cat_usc_pieni 2022-03-23 02:14:54     1    1   \n",
       "22     P_da_est  nav_serv_carr_vuoti 2022-03-23 02:17:45     1    1   \n",
       "...         ...                  ...                 ...   ...  ...   \n",
       "2217   P_da_est         carroponte_1 2022-04-04 23:21:00  1392  126   \n",
       "2218   P_da_est               buffer 2022-04-04 23:23:17  1392  126   \n",
       "2219   P_da_est         carroponte_2 2022-04-04 23:26:09  1392  126   \n",
       "2220   P_da_est            estrusore 2022-04-04 23:26:43  1392  126   \n",
       "0      P_da_est       fuori_impianto 2022-03-23 00:00:29  1402    0   \n",
       "\n",
       "                               rif   ID_unique  \n",
       "18               V_da_pes/pesatura        1C11  \n",
       "19     P_da_misc/navetta_serv_misc        1C11  \n",
       "20           P_da_misc/miscelatore        1C11  \n",
       "21          P_da_est/cat_usc_pieni        1C11  \n",
       "22    P_da_est/nav_serv_carr_vuoti        1C11  \n",
       "...                            ...         ...  \n",
       "2217         P_da_est/carroponte_1  126C231392  \n",
       "2218               P_da_est/buffer  126C231392  \n",
       "2219         P_da_est/carroponte_2  126C231392  \n",
       "2220            P_da_est/estrusore  126C231392  \n",
       "0          P_da_est/fuori_impianto    0C241402  \n",
       "\n",
       "[10176 rows x 7 columns]"
      ]
     },
     "execution_count": 27,
     "metadata": {},
     "output_type": "execute_result"
    }
   ],
   "source": [
    "df_traces"
   ]
  },
  {
   "cell_type": "code",
   "execution_count": 15,
   "id": "047b9bd6",
   "metadata": {},
   "outputs": [
    {
     "data": {
      "text/plain": [
       "580"
      ]
     },
     "execution_count": 15,
     "metadata": {},
     "output_type": "execute_result"
    }
   ],
   "source": [
    "6650\n",
    "580"
   ]
  }
 ],
 "metadata": {
  "kernelspec": {
   "display_name": "Python 3 (ipykernel)",
   "language": "python",
   "name": "python3"
  },
  "language_info": {
   "codemirror_mode": {
    "name": "ipython",
    "version": 3
   },
   "file_extension": ".py",
   "mimetype": "text/x-python",
   "name": "python",
   "nbconvert_exporter": "python",
   "pygments_lexer": "ipython3",
   "version": "3.9.7"
  }
 },
 "nbformat": 4,
 "nbformat_minor": 5
}
