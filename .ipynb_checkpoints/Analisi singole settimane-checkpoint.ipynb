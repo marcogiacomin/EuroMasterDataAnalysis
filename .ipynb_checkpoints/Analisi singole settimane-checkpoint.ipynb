{
 "cells": [
  {
   "cell_type": "code",
   "execution_count": null,
   "id": "a6dfa97a-21be-4cba-a461-eafdab063df5",
   "metadata": {},
   "outputs": [],
   "source": []
  },
  {
   "cell_type": "markdown",
   "id": "1383556e-4cc2-4c79-9361-0ae0ef7882ae",
   "metadata": {},
   "source": [
    "### Preparazione dati di supporto"
   ]
  },
  {
   "cell_type": "code",
   "execution_count": 1,
   "id": "7ebd20df-f500-49b9-8ed9-43034b756e09",
   "metadata": {},
   "outputs": [],
   "source": [
    "import pandas as pd\n",
    "import numpy as np\n",
    "from datetime import datetime, date\n",
    "import holidays"
   ]
  },
  {
   "cell_type": "code",
   "execution_count": 2,
   "id": "46487242-bc93-4431-9de8-111e902aabee",
   "metadata": {},
   "outputs": [],
   "source": [
    "buffer = [n for n in range(21, 29)]\n",
    "buffer.extend([n for n in range(31, 39)])\n",
    "\n",
    "legenda_gualchierani = {\n",
    "    'fuori_impianto': [0],\n",
    "    'ing_zona_misc': [1],\n",
    "    'catenaria_ing_misc': [45, 46],\n",
    "    'navetta_serv_misc': [43],\n",
    "    'pesatura': [41, 42],\n",
    "    'miscelatore': [2, 8],\n",
    "    'cat_usc_pieni': [3],\n",
    "    'nav_serv_carr_pieni': [4],\n",
    "    'nav_serv_carr_vuoti': [5],\n",
    "    'buffer': buffer,\n",
    "    'carroponte_1': [6],\n",
    "    'carroponte_2': [7],\n",
    "    'estrusore': [n for n in range(11, 19)],\n",
    "    'handling_post_est': [6, 5, 4],\n",
    "    'catenaria_vuoti': [47, 48],\n",
    "    'catenaria_uscita_vuoti': [49],\n",
    "    'pinza_vuoti': [50],\n",
    "    'catenaria_parcheggi': [n for n in range(51, 58)],\n",
    "    'nav_serv_parcheggi': [44],\n",
    "    'manuale': [68, 70]\n",
    "}\n",
    "\n",
    "dict_states = {\n",
    "    0: 'Not_def',\n",
    "    1: 'V_per_park',\n",
    "    2: 'P_da_misc',\n",
    "    3: 'P_da_est',\n",
    "    4: 'P_remove',\n",
    "    5: 'P_recheck',\n",
    "    6: 'P_per_park',\n",
    "    7: 'V_da_pes',\n",
    "    8: 'V_remove',\n",
    "    9: 'V_lavaggio'\n",
    "}\n",
    "\n",
    "starter = ['V_da_pes/nav_serv_carr_pieni', 'V_da_pes/nav_serv_carr_vuoti',\n",
    "'V_da_pes/catenaria_vuoti', 'V_da_pes/catenaria_parcheggi',\n",
    "'V_da_pes/nav_serv_parcheggi', 'V_da_pes/catenaria_ing_misc',\n",
    "'V_da_pes/ing_zona_misc']\n",
    "\n",
    "finisher = ['P_da_est/estrusore', 'Not_def/fuori_impianto']\n",
    "\n",
    "finisher2 = ['V_per_park/estrusore', 'V_da_pes/estrusore', 'Not_def/fuori_impianto']"
   ]
  },
  {
   "cell_type": "code",
   "execution_count": 3,
   "id": "83ca3c6b-9f0b-4a91-b5a6-227355cfc5eb",
   "metadata": {},
   "outputs": [],
   "source": [
    "#  questa funzione estrae dal df il primo record in ordine temporale per ogni ubicazione\n",
    "\n",
    "def create_df_t_new(df, cono_in_esame):\n",
    "    mask = df['id_cono'] == cono_in_esame\n",
    "    df1 = df[mask]\n",
    "\n",
    "    ubicazione = []\n",
    "    stato = []\n",
    "    timestamp = []\n",
    "    stazione = []\n",
    "    miscelatore = []\n",
    "    for i in range(1, len(df1) - 1):\n",
    "        if df1.iloc[i, 1] in legenda_gualchierani['pesatura']:\n",
    "            if (df1.iloc[i, 1] != df1.iloc[i - 1, 1]) or (df1.iloc[i, 1] != df1.iloc[i + 1, 1]):\n",
    "                ubicazione.append(df1.iloc[i, 1])\n",
    "                stato.append(df1.iloc[i, 2])\n",
    "                timestamp.append(df1.iloc[i, 5])\n",
    "                stazione.append(df1.iloc[i, 3])\n",
    "                miscelatore.append(df1.iloc[i, 4])\n",
    "        elif df1.iloc[i, 1] in legenda_gualchierani['miscelatore']:\n",
    "            if (df1.iloc[i, 1] != df1.iloc[i - 1, 1]) or (df1.iloc[i, 1] != df1.iloc[i + 1, 1]):\n",
    "                ubicazione.append(df1.iloc[i, 1])\n",
    "                stato.append(df1.iloc[i, 2])\n",
    "                timestamp.append(df1.iloc[i, 5])\n",
    "                stazione.append(df1.iloc[i, 3])\n",
    "                miscelatore.append(df1.iloc[i, 4])\n",
    "        else:\n",
    "            continue\n",
    "\n",
    "#  estrae i valori dalla memoria del PLC li traduco in parole\n",
    "    for i in range(len(ubicazione)):\n",
    "        for k,v in legenda_gualchierani.items():\n",
    "            if ubicazione[i] in v:\n",
    "                ubicazione[i] = k\n",
    "\n",
    "    for i in range(len(stato)):\n",
    "        stato[i] = dict_states[stato[i]]\n",
    "\n",
    "#  crea il dataframe che sarà input alla funzione di individuazione della tracce\n",
    "    df_t = pd.DataFrame(list(zip(stato, ubicazione, timestamp, stazione, miscelatore)),\n",
    "                        columns =['stato', 'ubicazione', 'timestamp', 'stazione', 'miscelatore'])\n",
    "    df_t.sort_values('timestamp', inplace=True)\n",
    "    df_t['rif'] = (df_t.stato.astype('str') + '/' + df_t.ubicazione.astype('str'))\n",
    "    df_t.drop_duplicates(inplace=True)\n",
    "    return(df_t)"
   ]
  },
  {
   "cell_type": "markdown",
   "id": "35f4d68d-858d-4d2a-aa19-9dfb28f10503",
   "metadata": {},
   "source": [
    "# Caricamento dataframe"
   ]
  },
  {
   "cell_type": "code",
   "execution_count": 114,
   "id": "efae75a3-bed6-45e4-bd8f-b5e29ad7e0b4",
   "metadata": {},
   "outputs": [],
   "source": [
    "#df = pd.read_csv('C:/Users/HP/Desktop/PLC_gualchierani/monitorconi_23mar_to_29mar.csv')\n",
    "#df = pd.read_csv('C:/Users/HP/Desktop/PLC_gualchierani/monitorconi_30mar_to_4apr.csv')\n",
    "#df = pd.read_csv('C:/Users/HP/Desktop/PLC_gualchierani/monitorconi_5apr_to_11apr.csv')\n",
    "#df = pd.read_csv('C:/Users/HP/Desktop/PLC_gualchierani/monitorconi_12apr_to_18apr.csv')\n",
    "#df = pd.read_csv('C:/Users/HP/Desktop/PLC_gualchierani/monitorconi_19apr_to_25apr.csv')\n",
    "#df = pd.read_csv('C:/Users/HP/Desktop/PLC_gualchierani/monitorconi_26apr_to_2mag.csv')\n",
    "#df = pd.read_csv('C:/Users/HP/Desktop/PLC_gualchierani/monitorconi_3mag_to_9mag.csv')\n",
    "df = pd.read_csv('C:/Users/HP/Desktop/PLC_gualchierani/monitorconi_10mag_to_16mag.csv')\n",
    "#df = pd.read_csv('C:/Users/HP/Desktop/PLC_gualchierani/monitorconi_17apr_to_23mag.csv')\n",
    "\n",
    "df[\"measured_at\"] = pd.to_datetime( df[\"measured_at\"] )\n",
    "\n",
    "a = 9\n",
    "b = 17\n",
    "\n",
    "mask_up = np.asarray( df[ df['measured_at'].dt.day == a].index )\n",
    "df.drop( mask_up, inplace = True )\n",
    "\n",
    "mask_low = np.asarray( df[ df['measured_at'].dt.day == b].index )\n",
    "df.drop( mask_low, inplace = True )\n",
    "\n",
    "df.drop(['id', 'tipologia_lavorazione', 'cicli_da_eseguire',\n",
    "        'cicli_eseguiti', 'tempo_miscelazione_eseguito',\n",
    "        'stato_tramoggia', 'tara_cono', 'lotto',\n",
    "        'created_at', 'updated_at', 'estrusore_destinazione', 'tempo_miscelazione_richiesto',\n",
    "        'destinazione_ritorno'], axis=1, inplace=True)\n",
    "\n",
    "mask_no_cono = np.asarray( df[ df['id_cono'] > 24 ].index )\n",
    "df.drop( mask_no_cono, inplace = True )"
   ]
  },
  {
   "cell_type": "markdown",
   "id": "f6204787-a45b-4259-9940-82f87953f9c7",
   "metadata": {},
   "source": [
    "### Calcolo ore lavorative"
   ]
  },
  {
   "cell_type": "code",
   "execution_count": 115,
   "id": "5ec51a5d-c07d-4045-8c44-01aa548248ac",
   "metadata": {},
   "outputs": [],
   "source": [
    "dates = np.asarray(df['measured_at'].dt.date.unique())\n",
    "it_holidays = holidays.Italy()\n",
    "shift = 0"
   ]
  },
  {
   "cell_type": "code",
   "execution_count": 116,
   "id": "89f0306e-8534-4a8e-9d0c-dd4b9e5c052d",
   "metadata": {},
   "outputs": [],
   "source": [
    "for date in dates:\n",
    "    if it_holidays.get(date) is None:\n",
    "        if date.weekday() < 5:\n",
    "            shift += 3\n",
    "        elif date.weekday() == 5:\n",
    "            shift += 2\n",
    "        else:\n",
    "            pass\n",
    "    else:\n",
    "        print( it_holidays.get(date))"
   ]
  },
  {
   "cell_type": "markdown",
   "id": "65f09cd6-e9c5-409f-8a12-dedce979f77a",
   "metadata": {},
   "source": [
    "### Calcolo tracce"
   ]
  },
  {
   "cell_type": "code",
   "execution_count": 117,
   "id": "5fd80e5b-da9b-483e-8aa9-fa54d734811e",
   "metadata": {},
   "outputs": [
    {
     "name": "stdout",
     "output_type": "stream",
     "text": [
      "TEMPO ELABORAZIONE CONO 1 0:00:02.745210\n",
      "TEMPO ELABORAZIONE CONO 2 0:00:02.413862\n",
      "TEMPO ELABORAZIONE CONO 3 0:00:02.347320\n",
      "TEMPO ELABORAZIONE CONO 4 0:00:02.513725\n",
      "TEMPO ELABORAZIONE CONO 5 0:00:02.097292\n",
      "TEMPO ELABORAZIONE CONO 6 0:00:02.512333\n",
      "TEMPO ELABORAZIONE CONO 7 0:00:02.103039\n",
      "TEMPO ELABORAZIONE CONO 8 0:00:02.621041\n",
      "TEMPO ELABORAZIONE CONO 9 0:00:02.101984\n",
      "TEMPO ELABORAZIONE CONO 10 0:00:02.598956\n",
      "TEMPO ELABORAZIONE CONO 11 0:00:02.062516\n",
      "TEMPO ELABORAZIONE CONO 12 0:00:02.254160\n",
      "TEMPO ELABORAZIONE CONO 13 0:00:02.521993\n",
      "TEMPO ELABORAZIONE CONO 14 0:00:02.161248\n",
      "TEMPO ELABORAZIONE CONO 15 0:00:02.265696\n",
      "TEMPO ELABORAZIONE CONO 16 0:00:02.035459\n",
      "TEMPO ELABORAZIONE CONO 17 0:00:02.340580\n",
      "TEMPO ELABORAZIONE CONO 18 0:00:02.112661\n",
      "TEMPO ELABORAZIONE CONO 19 0:00:02.062448\n",
      "TEMPO ELABORAZIONE CONO 20 0:00:02.797718\n",
      "TEMPO ELABORAZIONE CONO 21 0:00:02.182486\n",
      "TEMPO ELABORAZIONE CONO 22 0:00:02.189880\n",
      "TEMPO ELABORAZIONE CONO 23 0:00:02.802071\n",
      "TEMPO ELABORAZIONE CONO 24 0:00:02.151799\n"
     ]
    }
   ],
   "source": [
    "trace = 0\n",
    "for c in range(1, 25):\n",
    "    start = datetime.now()\n",
    "    if c == 1:\n",
    "        df_pes = create_df_t_new(df, c)\n",
    "    else:\n",
    "        df_pes = pd.concat([df_pes, create_df_t_new(df, c)])\n",
    "    end = datetime.now()\n",
    "    print('TEMPO ELABORAZIONE CONO {} {}'.format(c, end-start))"
   ]
  },
  {
   "cell_type": "code",
   "execution_count": 118,
   "id": "9af3a8d4-32b6-4f99-b350-c51886545133",
   "metadata": {},
   "outputs": [],
   "source": [
    "df_pes.reset_index(drop=True, inplace=True)\n",
    "df_pes['ID'] = 0\n",
    "idu = 0\n",
    "for i in df_pes.index:\n",
    "    if i < len(df_pes) - 1:\n",
    "        if (df_pes.loc[i, 'rif'] == 'V_da_pes/pesatura' and df_pes.loc[i + 1, 'rif'] == 'P_da_misc/pesatura'):\n",
    "            df_pes.loc[i, 'ID'] = idu\n",
    "            df_pes.loc[i + 1, 'ID'] = idu\n",
    "            idu += 1\n",
    "            continue\n",
    "        if (df_pes.loc[i, 'rif'] == 'P_da_misc/miscelatore' and df_pes.loc[i + 1, 'rif'] == 'P_da_est/miscelatore'):\n",
    "            df_pes.loc[i, 'ID'] = idu\n",
    "            df_pes.loc[i + 1, 'ID'] = idu\n",
    "            idu += 1\n",
    "            continue\n",
    "        "
   ]
  },
  {
   "cell_type": "code",
   "execution_count": 119,
   "id": "8ed2bb3b-efd6-4549-b2f3-e02ad54f9467",
   "metadata": {},
   "outputs": [],
   "source": [
    "staz_1 = []\n",
    "staz_2 = []\n",
    "misc_1 = []\n",
    "misc_2 = []\n",
    "\n",
    "for i in df_pes['ID'].unique():\n",
    "    df_tmp = df_pes[ df_pes['ID'] == i ]\n",
    "    df_tmp.reset_index(inplace=True, drop=True)\n",
    "    dt = df_tmp.loc[1, 'timestamp'] - df_tmp.loc[0, 'timestamp']\n",
    "    \n",
    "    if df_tmp.loc[0, 'ubicazione'] == 'pesatura':\n",
    "        if df_tmp.loc[0, 'stazione'] == 1:\n",
    "            staz_1.append(dt)\n",
    "        else:\n",
    "            staz_2.append(dt)\n",
    "    elif df_tmp.loc[0, 'ubicazione'] == 'miscelatore':\n",
    "        if df_tmp.loc[0, 'miscelatore'] == 1:\n",
    "            misc_1.append(dt)\n",
    "        else:\n",
    "            misc_2.append(dt)"
   ]
  },
  {
   "cell_type": "code",
   "execution_count": 120,
   "id": "248461eb-a4fc-4777-b3dd-416a0edd9c31",
   "metadata": {},
   "outputs": [],
   "source": [
    "staz_1.sort()\n",
    "staz_2.sort()\n",
    "misc_1.sort()\n",
    "misc_2.sort()\n",
    "\n",
    "del misc_2[0]"
   ]
  },
  {
   "cell_type": "code",
   "execution_count": 121,
   "id": "5d40a26b-3d56-4651-8df8-5476e1b40712",
   "metadata": {},
   "outputs": [
    {
     "name": "stdout",
     "output_type": "stream",
     "text": [
      "Tempo medio di dosatura stazione 1:  0 days 00:12:08.677551020\n",
      "Tempo medio di dosatura stazione 2:  0 days 00:09:41.399553571\n",
      "Tempo medio di miscelatore 1:  0 days 00:03:42.201086956\n",
      "Tempo medio di miscelatore 2:  0 days 00:03:39.279891304\n"
     ]
    }
   ],
   "source": [
    "print('Tempo medio di dosatura stazione 1: ', np.mean(staz_1))\n",
    "print('Tempo medio di dosatura stazione 2: ', np.mean(staz_2))\n",
    "print('Tempo medio di miscelatore 1: ', np.mean(misc_1))\n",
    "print('Tempo medio di miscelatore 2: ', np.mean(misc_2))"
   ]
  },
  {
   "cell_type": "code",
   "execution_count": 122,
   "id": "3a5f6ebf-9799-4807-80c9-1ee873150210",
   "metadata": {},
   "outputs": [],
   "source": [
    "tot_staz_1 = sum([x.total_seconds() / 60 for x in staz_1])\n",
    "tot_staz_2 = sum([x.total_seconds() / 60 for x in staz_2])\n",
    "tot_misc_1 = sum([x.total_seconds() / 60 for x in misc_1])\n",
    "tot_misc_2 = sum([x.total_seconds() / 60 for x in misc_2])\n",
    "\n",
    "tot_staz = tot_staz_1 + tot_staz_2\n",
    "tot_misc = tot_misc_1 + tot_misc_2"
   ]
  },
  {
   "cell_type": "code",
   "execution_count": 123,
   "id": "03c1c565-c667-43c7-a53b-cd55b58cdf0c",
   "metadata": {},
   "outputs": [
    {
     "name": "stdout",
     "output_type": "stream",
     "text": [
      "Saturazione stazione 1 su tot stazioni:  40.66716325772846 %\n",
      "Saturazione stazione 2 su tot stazioni:  59.332836742271546 %\n",
      "Saturazione miscelatore 1 su tot miscelatori:  33.628063826287296 %\n",
      "Saturazione miscelatore 2 su tot miscelatori:  66.3719361737127 %\n"
     ]
    }
   ],
   "source": [
    "print('Saturazione stazione 1 su tot stazioni: ', tot_staz_1 / tot_staz * 100, '%')\n",
    "print('Saturazione stazione 2 su tot stazioni: ', tot_staz_2 / tot_staz * 100, '%')\n",
    "print('Saturazione miscelatore 1 su tot miscelatori: ', tot_misc_1 / tot_misc * 100, '%')\n",
    "print('Saturazione miscelatore 2 su tot miscelatori: ', tot_misc_2 / tot_misc * 100, '%')"
   ]
  },
  {
   "cell_type": "code",
   "execution_count": 124,
   "id": "95813429-4670-4d86-b55d-81484cfbd609",
   "metadata": {},
   "outputs": [],
   "source": [
    "tot_h = shift * 7.5\n",
    "tot_min = tot_h * 60"
   ]
  },
  {
   "cell_type": "code",
   "execution_count": 125,
   "id": "79ce508a-5570-438a-b278-48632f9530a7",
   "metadata": {},
   "outputs": [
    {
     "name": "stdout",
     "output_type": "stream",
     "text": [
      "Saturazione stazione 1:  38.8945533769063 %\n",
      "Saturazione stazione 2:  56.74662309368196 %\n",
      "Saturazione miscelatore 1:  8.907407407407407 %\n",
      "Saturazione miscelatore 2:  17.580610021786427 %\n"
     ]
    }
   ],
   "source": [
    "print('Saturazione stazione 1: ', tot_staz_1 / tot_min * 100, '%')\n",
    "print('Saturazione stazione 2: ', tot_staz_2 / tot_min * 100, '%')\n",
    "print('Saturazione miscelatore 1: ', tot_misc_1 / tot_min * 100, '%')\n",
    "print('Saturazione miscelatore 2: ', tot_misc_2 / tot_min * 100, '%')"
   ]
  },
  {
   "cell_type": "code",
   "execution_count": 126,
   "id": "661d3d66-9f78-43c5-b0d8-8da5fdec4ab8",
   "metadata": {},
   "outputs": [],
   "source": [
    "coni_h = len(df_pes[df_pes['rif'] == 'V_da_pes/pesatura']) / tot_h\n",
    "coni_day = int(coni_h * 22.5)"
   ]
  },
  {
   "cell_type": "code",
   "execution_count": 127,
   "id": "f959280c-abee-404a-8da8-59654612348d",
   "metadata": {},
   "outputs": [
    {
     "name": "stdout",
     "output_type": "stream",
     "text": [
      "Coni dosati per ora:  5.607843137254902\n",
      "Coni dosati per giorno:  126\n"
     ]
    }
   ],
   "source": [
    "print('Coni dosati per ora: ', coni_h)\n",
    "print('Coni dosati per giorno: ', coni_day)"
   ]
  },
  {
   "cell_type": "code",
   "execution_count": null,
   "id": "d9bbe544-4c9f-4af4-a972-9bf3f3f81289",
   "metadata": {},
   "outputs": [],
   "source": []
  },
  {
   "cell_type": "code",
   "execution_count": null,
   "id": "5e02ba2d-5eb5-4626-add7-e33139f2e927",
   "metadata": {},
   "outputs": [],
   "source": [
    "settimane = ['3W MAR', '4W MAR', '1W APR', '2W APR', '3W APR', '4W APR', '1W MAG', '2W MAG', '3W MAG']\n",
    "coni_ora = [5.02, 6.2, 4.8, 6.16, 5.51, 4.3, 4.85, 5.6, ]\n",
    "sat_stazione_1 = [51.4, 45.8, 35, 43.2, 33.2, 25,4, 24.56, 38.8, ]\n",
    "sat_stazione_1 = [62.7, 62.5, 50, 56, 56.8, 47.1, 50.7, 56.74, ]\n",
    "sat_miscelatore_1 = [10, 7.9, 8.8, 11.1, 9.5, 6.9, 11.36, 8.9, ]\n",
    "sat_miscelatore_1 = [11, 16.7, 11.9, 17, 15.78, 12.54, 14.4, 17.58 ]"
   ]
  }
 ],
 "metadata": {
  "kernelspec": {
   "display_name": "Python 3 (ipykernel)",
   "language": "python",
   "name": "python3"
  },
  "language_info": {
   "codemirror_mode": {
    "name": "ipython",
    "version": 3
   },
   "file_extension": ".py",
   "mimetype": "text/x-python",
   "name": "python",
   "nbconvert_exporter": "python",
   "pygments_lexer": "ipython3",
   "version": "3.9.12"
  }
 },
 "nbformat": 4,
 "nbformat_minor": 5
}
